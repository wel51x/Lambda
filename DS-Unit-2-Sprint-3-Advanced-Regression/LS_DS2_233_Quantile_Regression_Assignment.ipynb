{
  "nbformat": 4,
  "nbformat_minor": 0,
  "metadata": {
    "colab": {
      "name": "LS_DS2_233_Quantile_Regression_Assignment.ipynb",
      "version": "0.3.2",
      "provenance": [],
      "collapsed_sections": [],
      "include_colab_link": true
    },
    "kernelspec": {
      "name": "python3",
      "display_name": "Python 3"
    }
  },
  "cells": [
    {
      "cell_type": "markdown",
      "metadata": {
        "id": "view-in-github",
        "colab_type": "text"
      },
      "source": [
        "<a href=\"https://colab.research.google.com/github/wel51x/DS-Unit-2-Sprint-3-Advanced-Regression/blob/master/LS_DS2_233_Quantile_Regression_Assignment.ipynb\" target=\"_parent\"><img src=\"https://colab.research.google.com/assets/colab-badge.svg\" alt=\"Open In Colab\"/></a>"
      ]
    },
    {
      "metadata": {
        "id": "SV7gaADiicnV",
        "colab_type": "text"
      },
      "cell_type": "markdown",
      "source": [
        "# Lambda School Data Science - Quantile Regression\n",
        "\n",
        "Regressing towards the median - or any quantile - as a way to mitigate outliers and control risk."
      ]
    },
    {
      "metadata": {
        "id": "6klMj4q3iqMh",
        "colab_type": "text"
      },
      "cell_type": "markdown",
      "source": [
        "## Lecture\n",
        "\n",
        "Let's look at data that has a bit of a skew to it:\n",
        "\n",
        "http://archive.ics.uci.edu/ml/datasets/Beijing+PM2.5+Data"
      ]
    },
    {
      "metadata": {
        "id": "qyBTCrDSbG6v",
        "colab_type": "code",
        "colab": {
          "base_uri": "https://localhost:8080/",
          "height": 446
        },
        "outputId": "710eee72-6706-42eb-f763-836818c81800"
      },
      "cell_type": "code",
      "source": [
        "!pip3 install seaborn -U"
      ],
      "execution_count": 6,
      "outputs": [
        {
          "output_type": "stream",
          "text": [
            "Collecting seaborn\n",
            "\u001b[?25l  Downloading https://files.pythonhosted.org/packages/a8/76/220ba4420459d9c4c9c9587c6ce607bf56c25b3d3d2de62056efe482dadc/seaborn-0.9.0-py3-none-any.whl (208kB)\n",
            "\r\u001b[K    4% |█▋                              | 10kB 15.3MB/s eta 0:00:01\r\u001b[K    9% |███▏                            | 20kB 3.2MB/s eta 0:00:01\r\u001b[K    14% |████▊                           | 30kB 4.6MB/s eta 0:00:01\r\u001b[K    19% |██████▎                         | 40kB 2.9MB/s eta 0:00:01\r\u001b[K    24% |███████▉                        | 51kB 3.5MB/s eta 0:00:01\r\u001b[K    29% |█████████▌                      | 61kB 4.1MB/s eta 0:00:01\r\u001b[K    34% |███████████                     | 71kB 4.7MB/s eta 0:00:01\r\u001b[K    39% |████████████▋                   | 81kB 5.3MB/s eta 0:00:01\r\u001b[K    44% |██████████████▏                 | 92kB 5.9MB/s eta 0:00:01\r\u001b[K    49% |███████████████▊                | 102kB 4.7MB/s eta 0:00:01\r\u001b[K    54% |█████████████████▎              | 112kB 4.8MB/s eta 0:00:01\r\u001b[K    59% |███████████████████             | 122kB 6.4MB/s eta 0:00:01\r\u001b[K    63% |████████████████████▌           | 133kB 6.4MB/s eta 0:00:01\r\u001b[K    68% |██████████████████████          | 143kB 11.9MB/s eta 0:00:01\r\u001b[K    73% |███████████████████████▋        | 153kB 12.1MB/s eta 0:00:01\r\u001b[K    78% |█████████████████████████▏      | 163kB 12.0MB/s eta 0:00:01\r\u001b[K    83% |██████████████████████████▊     | 174kB 11.8MB/s eta 0:00:01\r\u001b[K    88% |████████████████████████████▍   | 184kB 11.9MB/s eta 0:00:01\r\u001b[K    93% |██████████████████████████████  | 194kB 11.9MB/s eta 0:00:01\r\u001b[K    98% |███████████████████████████████▌| 204kB 35.7MB/s eta 0:00:01\r\u001b[K    100% |████████████████████████████████| 215kB 20.9MB/s \n",
            "\u001b[?25hRequirement already satisfied, skipping upgrade: pandas>=0.15.2 in /usr/local/lib/python3.6/dist-packages (from seaborn) (0.22.0)\n",
            "Requirement already satisfied, skipping upgrade: scipy>=0.14.0 in /usr/local/lib/python3.6/dist-packages (from seaborn) (1.1.0)\n",
            "Requirement already satisfied, skipping upgrade: numpy>=1.9.3 in /usr/local/lib/python3.6/dist-packages (from seaborn) (1.14.6)\n",
            "Requirement already satisfied, skipping upgrade: matplotlib>=1.4.3 in /usr/local/lib/python3.6/dist-packages (from seaborn) (3.0.2)\n",
            "Requirement already satisfied, skipping upgrade: python-dateutil>=2 in /usr/local/lib/python3.6/dist-packages (from pandas>=0.15.2->seaborn) (2.5.3)\n",
            "Requirement already satisfied, skipping upgrade: pytz>=2011k in /usr/local/lib/python3.6/dist-packages (from pandas>=0.15.2->seaborn) (2018.9)\n",
            "Requirement already satisfied, skipping upgrade: cycler>=0.10 in /usr/local/lib/python3.6/dist-packages (from matplotlib>=1.4.3->seaborn) (0.10.0)\n",
            "Requirement already satisfied, skipping upgrade: kiwisolver>=1.0.1 in /usr/local/lib/python3.6/dist-packages (from matplotlib>=1.4.3->seaborn) (1.0.1)\n",
            "Requirement already satisfied, skipping upgrade: pyparsing!=2.0.4,!=2.1.2,!=2.1.6,>=2.0.1 in /usr/local/lib/python3.6/dist-packages (from matplotlib>=1.4.3->seaborn) (2.3.1)\n",
            "Requirement already satisfied, skipping upgrade: six>=1.5 in /usr/local/lib/python3.6/dist-packages (from python-dateutil>=2->pandas>=0.15.2->seaborn) (1.11.0)\n",
            "Requirement already satisfied, skipping upgrade: setuptools in /usr/local/lib/python3.6/dist-packages (from kiwisolver>=1.0.1->matplotlib>=1.4.3->seaborn) (40.8.0)\n",
            "Installing collected packages: seaborn\n",
            "  Found existing installation: seaborn 0.7.1\n",
            "    Uninstalling seaborn-0.7.1:\n",
            "      Successfully uninstalled seaborn-0.7.1\n",
            "Successfully installed seaborn-0.9.0\n"
          ],
          "name": "stdout"
        },
        {
          "output_type": "display_data",
          "data": {
            "application/vnd.colab-display-data+json": {
              "pip_warning": {
                "packages": [
                  "seaborn"
                ]
              }
            }
          },
          "metadata": {
            "tags": []
          }
        }
      ]
    },
    {
      "metadata": {
        "id": "2U0MaNYRbPfW",
        "colab_type": "code",
        "colab": {
          "base_uri": "https://localhost:8080/",
          "height": 361
        },
        "outputId": "5a813b32-ad7c-4075-aead-727018e2efb4"
      },
      "cell_type": "code",
      "source": [
        "!pip3 install statsmodels -U"
      ],
      "execution_count": 1,
      "outputs": [
        {
          "output_type": "stream",
          "text": [
            "Collecting statsmodels\n",
            "\u001b[?25l  Downloading https://files.pythonhosted.org/packages/85/d1/69ee7e757f657e7f527cbf500ec2d295396e5bcec873cf4eb68962c41024/statsmodels-0.9.0-cp36-cp36m-manylinux1_x86_64.whl (7.4MB)\n",
            "\u001b[K    100% |████████████████████████████████| 7.4MB 4.3MB/s \n",
            "\u001b[?25hRequirement already satisfied, skipping upgrade: pandas in /usr/local/lib/python3.6/dist-packages (from statsmodels) (0.22.0)\n",
            "Requirement already satisfied, skipping upgrade: patsy in /usr/local/lib/python3.6/dist-packages (from statsmodels) (0.5.1)\n",
            "Requirement already satisfied, skipping upgrade: pytz>=2011k in /usr/local/lib/python3.6/dist-packages (from pandas->statsmodels) (2018.9)\n",
            "Requirement already satisfied, skipping upgrade: numpy>=1.9.0 in /usr/local/lib/python3.6/dist-packages (from pandas->statsmodels) (1.14.6)\n",
            "Requirement already satisfied, skipping upgrade: python-dateutil>=2 in /usr/local/lib/python3.6/dist-packages (from pandas->statsmodels) (2.5.3)\n",
            "Requirement already satisfied, skipping upgrade: six in /usr/local/lib/python3.6/dist-packages (from patsy->statsmodels) (1.11.0)\n",
            "Installing collected packages: statsmodels\n",
            "  Found existing installation: statsmodels 0.8.0\n",
            "    Uninstalling statsmodels-0.8.0:\n",
            "      Successfully uninstalled statsmodels-0.8.0\n",
            "Successfully installed statsmodels-0.9.0\n"
          ],
          "name": "stdout"
        },
        {
          "output_type": "display_data",
          "data": {
            "application/vnd.colab-display-data+json": {
              "pip_warning": {
                "packages": [
                  "statsmodels"
                ]
              }
            }
          },
          "metadata": {
            "tags": []
          }
        }
      ]
    },
    {
      "metadata": {
        "id": "yw1AD_z9O0xL",
        "colab_type": "code",
        "colab": {}
      },
      "cell_type": "code",
      "source": [
        "import pandas as pd\n",
        "import numpy as np\n",
        "from sklearn.linear_model import LinearRegression\n",
        "import statsmodels.formula.api as smf\n",
        "import seaborn as sns"
      ],
      "execution_count": 0,
      "outputs": []
    },
    {
      "metadata": {
        "id": "ZBkP4bewd-HT",
        "colab_type": "text"
      },
      "cell_type": "markdown",
      "source": [
        "That fit to the median (q=0.5), also called \"Least Absolute Deviation.\" The pseudo-R^2 isn't really directly comparable to the R^2 from linear regression, but it clearly isn't dramatically improved. Can we make it better?"
      ]
    },
    {
      "metadata": {
        "id": "BgvYeHg3bL4g",
        "colab_type": "code",
        "colab": {}
      },
      "cell_type": "code",
      "source": [
        "help(quant_mod.fit)"
      ],
      "execution_count": 0,
      "outputs": []
    },
    {
      "metadata": {
        "id": "ahA3cB_kOGLP",
        "colab_type": "code",
        "colab": {}
      },
      "cell_type": "code",
      "source": [
        "df = df.dropna()"
      ],
      "execution_count": 0,
      "outputs": []
    },
    {
      "metadata": {
        "id": "o2BADEQUirXa",
        "colab_type": "text"
      },
      "cell_type": "markdown",
      "source": [
        "## Assignment - birth weight data\n",
        "\n",
        "Birth weight is a situation where, while the data itself is actually fairly normal and symmetric, our main goal is actually *not* to model mean weight (via OLS), but rather to identify mothers at risk of having children below a certain \"at-risk\" threshold weight.\n",
        "\n",
        "Quantile regression gives us just the tool we need. For the data we are using, see: http://people.reed.edu/~jones/141/BirthWgt.html\n",
        "\n",
        "    bwt: baby's weight in ounces at birth\n",
        "    gestation: duration of pregnancy in days\n",
        "    parity: parity indicator (first born = 1, later birth = 0)\n",
        "    age: mother's age in years\n",
        "    height: mother's height in inches\n",
        "    weight: mother's weight in pounds (during pregnancy)\n",
        "    smoke: indicator for whether mother smokes (1=yes, 0=no) \n",
        "    \n",
        "Use this data and `statsmodels` to fit a quantile regression, predicting `bwt` (birth weight) as a function of the other covariates. First, identify an appropriate `q` (quantile) to target a cutoff of 90 ounces - babies above that birth weight are generally healthy/safe, babies below are at-risk.\n",
        "\n",
        "Then, fit and iterate your model. Be creative! You may want to engineer features. Hint - mother's age likely is not simply linear in its impact, and the other features may interact as well.\n",
        "\n",
        "At the end, create at least *2* tables and *1* visualization to summarize your best model. Then (in writing) answer the following questions:\n",
        "\n",
        "- What characteristics of a mother indicate the highest likelihood of an at-risk (low weight) baby?\n",
        "- What can expectant mothers be told to help mitigate this risk?\n",
        "\n",
        "Note that second question is not exactly a data science question - and that's okay! You're not expected to be a medical expert, but it is a good exercise to do a little bit of digging into a particular domain and offer informal but informed opinions."
      ]
    },
    {
      "metadata": {
        "id": "HUWKv16FjZsY",
        "colab_type": "code",
        "outputId": "a8531eb7-8493-421f-ba05-2318086b01d1",
        "colab": {
          "base_uri": "https://localhost:8080/",
          "height": 204
        }
      },
      "cell_type": "code",
      "source": [
        "bwt_df = pd.read_csv('http://people.reed.edu/~jones/141/Bwt.dat')\n",
        "bwt_df.head()"
      ],
      "execution_count": 2,
      "outputs": [
        {
          "output_type": "execute_result",
          "data": {
            "text/html": [
              "<div>\n",
              "<style scoped>\n",
              "    .dataframe tbody tr th:only-of-type {\n",
              "        vertical-align: middle;\n",
              "    }\n",
              "\n",
              "    .dataframe tbody tr th {\n",
              "        vertical-align: top;\n",
              "    }\n",
              "\n",
              "    .dataframe thead th {\n",
              "        text-align: right;\n",
              "    }\n",
              "</style>\n",
              "<table border=\"1\" class=\"dataframe\">\n",
              "  <thead>\n",
              "    <tr style=\"text-align: right;\">\n",
              "      <th></th>\n",
              "      <th>bwt</th>\n",
              "      <th>gestation</th>\n",
              "      <th>parity</th>\n",
              "      <th>age</th>\n",
              "      <th>height</th>\n",
              "      <th>weight</th>\n",
              "      <th>smoke</th>\n",
              "    </tr>\n",
              "  </thead>\n",
              "  <tbody>\n",
              "    <tr>\n",
              "      <th>0</th>\n",
              "      <td>120</td>\n",
              "      <td>284</td>\n",
              "      <td>0</td>\n",
              "      <td>27</td>\n",
              "      <td>62</td>\n",
              "      <td>100</td>\n",
              "      <td>0</td>\n",
              "    </tr>\n",
              "    <tr>\n",
              "      <th>1</th>\n",
              "      <td>113</td>\n",
              "      <td>282</td>\n",
              "      <td>0</td>\n",
              "      <td>33</td>\n",
              "      <td>64</td>\n",
              "      <td>135</td>\n",
              "      <td>0</td>\n",
              "    </tr>\n",
              "    <tr>\n",
              "      <th>2</th>\n",
              "      <td>128</td>\n",
              "      <td>279</td>\n",
              "      <td>0</td>\n",
              "      <td>28</td>\n",
              "      <td>64</td>\n",
              "      <td>115</td>\n",
              "      <td>1</td>\n",
              "    </tr>\n",
              "    <tr>\n",
              "      <th>3</th>\n",
              "      <td>108</td>\n",
              "      <td>282</td>\n",
              "      <td>0</td>\n",
              "      <td>23</td>\n",
              "      <td>67</td>\n",
              "      <td>125</td>\n",
              "      <td>1</td>\n",
              "    </tr>\n",
              "    <tr>\n",
              "      <th>4</th>\n",
              "      <td>136</td>\n",
              "      <td>286</td>\n",
              "      <td>0</td>\n",
              "      <td>25</td>\n",
              "      <td>62</td>\n",
              "      <td>93</td>\n",
              "      <td>0</td>\n",
              "    </tr>\n",
              "  </tbody>\n",
              "</table>\n",
              "</div>"
            ],
            "text/plain": [
              "   bwt  gestation  parity  age  height  weight  smoke\n",
              "0  120        284       0   27      62     100      0\n",
              "1  113        282       0   33      64     135      0\n",
              "2  128        279       0   28      64     115      1\n",
              "3  108        282       0   23      67     125      1\n",
              "4  136        286       0   25      62      93      0"
            ]
          },
          "metadata": {
            "tags": []
          },
          "execution_count": 2
        }
      ]
    },
    {
      "metadata": {
        "id": "dy5FkUZpkJT_",
        "colab_type": "code",
        "outputId": "37c72ac4-1772-4c7b-d1e1-522d3de05f43",
        "colab": {
          "base_uri": "https://localhost:8080/",
          "height": 297
        }
      },
      "cell_type": "code",
      "source": [
        "bwt_df.describe()"
      ],
      "execution_count": 4,
      "outputs": [
        {
          "output_type": "execute_result",
          "data": {
            "text/html": [
              "<div>\n",
              "<style scoped>\n",
              "    .dataframe tbody tr th:only-of-type {\n",
              "        vertical-align: middle;\n",
              "    }\n",
              "\n",
              "    .dataframe tbody tr th {\n",
              "        vertical-align: top;\n",
              "    }\n",
              "\n",
              "    .dataframe thead th {\n",
              "        text-align: right;\n",
              "    }\n",
              "</style>\n",
              "<table border=\"1\" class=\"dataframe\">\n",
              "  <thead>\n",
              "    <tr style=\"text-align: right;\">\n",
              "      <th></th>\n",
              "      <th>bwt</th>\n",
              "      <th>gestation</th>\n",
              "      <th>parity</th>\n",
              "      <th>age</th>\n",
              "      <th>height</th>\n",
              "      <th>weight</th>\n",
              "      <th>smoke</th>\n",
              "    </tr>\n",
              "  </thead>\n",
              "  <tbody>\n",
              "    <tr>\n",
              "      <th>count</th>\n",
              "      <td>1174.000000</td>\n",
              "      <td>1174.000000</td>\n",
              "      <td>1174.000000</td>\n",
              "      <td>1174.000000</td>\n",
              "      <td>1174.000000</td>\n",
              "      <td>1174.000000</td>\n",
              "      <td>1174.000000</td>\n",
              "    </tr>\n",
              "    <tr>\n",
              "      <th>mean</th>\n",
              "      <td>119.462521</td>\n",
              "      <td>279.101363</td>\n",
              "      <td>0.262351</td>\n",
              "      <td>27.228279</td>\n",
              "      <td>64.049404</td>\n",
              "      <td>128.478705</td>\n",
              "      <td>0.390971</td>\n",
              "    </tr>\n",
              "    <tr>\n",
              "      <th>std</th>\n",
              "      <td>18.328671</td>\n",
              "      <td>16.010305</td>\n",
              "      <td>0.440100</td>\n",
              "      <td>5.817839</td>\n",
              "      <td>2.526102</td>\n",
              "      <td>20.734282</td>\n",
              "      <td>0.488176</td>\n",
              "    </tr>\n",
              "    <tr>\n",
              "      <th>min</th>\n",
              "      <td>55.000000</td>\n",
              "      <td>148.000000</td>\n",
              "      <td>0.000000</td>\n",
              "      <td>15.000000</td>\n",
              "      <td>53.000000</td>\n",
              "      <td>87.000000</td>\n",
              "      <td>0.000000</td>\n",
              "    </tr>\n",
              "    <tr>\n",
              "      <th>25%</th>\n",
              "      <td>108.000000</td>\n",
              "      <td>272.000000</td>\n",
              "      <td>0.000000</td>\n",
              "      <td>23.000000</td>\n",
              "      <td>62.000000</td>\n",
              "      <td>114.250000</td>\n",
              "      <td>0.000000</td>\n",
              "    </tr>\n",
              "    <tr>\n",
              "      <th>50%</th>\n",
              "      <td>120.000000</td>\n",
              "      <td>280.000000</td>\n",
              "      <td>0.000000</td>\n",
              "      <td>26.000000</td>\n",
              "      <td>64.000000</td>\n",
              "      <td>125.000000</td>\n",
              "      <td>0.000000</td>\n",
              "    </tr>\n",
              "    <tr>\n",
              "      <th>75%</th>\n",
              "      <td>131.000000</td>\n",
              "      <td>288.000000</td>\n",
              "      <td>1.000000</td>\n",
              "      <td>31.000000</td>\n",
              "      <td>66.000000</td>\n",
              "      <td>139.000000</td>\n",
              "      <td>1.000000</td>\n",
              "    </tr>\n",
              "    <tr>\n",
              "      <th>max</th>\n",
              "      <td>176.000000</td>\n",
              "      <td>353.000000</td>\n",
              "      <td>1.000000</td>\n",
              "      <td>45.000000</td>\n",
              "      <td>72.000000</td>\n",
              "      <td>250.000000</td>\n",
              "      <td>1.000000</td>\n",
              "    </tr>\n",
              "  </tbody>\n",
              "</table>\n",
              "</div>"
            ],
            "text/plain": [
              "               bwt    gestation       parity          age       height  \\\n",
              "count  1174.000000  1174.000000  1174.000000  1174.000000  1174.000000   \n",
              "mean    119.462521   279.101363     0.262351    27.228279    64.049404   \n",
              "std      18.328671    16.010305     0.440100     5.817839     2.526102   \n",
              "min      55.000000   148.000000     0.000000    15.000000    53.000000   \n",
              "25%     108.000000   272.000000     0.000000    23.000000    62.000000   \n",
              "50%     120.000000   280.000000     0.000000    26.000000    64.000000   \n",
              "75%     131.000000   288.000000     1.000000    31.000000    66.000000   \n",
              "max     176.000000   353.000000     1.000000    45.000000    72.000000   \n",
              "\n",
              "            weight        smoke  \n",
              "count  1174.000000  1174.000000  \n",
              "mean    128.478705     0.390971  \n",
              "std      20.734282     0.488176  \n",
              "min      87.000000     0.000000  \n",
              "25%     114.250000     0.000000  \n",
              "50%     125.000000     0.000000  \n",
              "75%     139.000000     1.000000  \n",
              "max     250.000000     1.000000  "
            ]
          },
          "metadata": {
            "tags": []
          },
          "execution_count": 4
        }
      ]
    },
    {
      "metadata": {
        "id": "bBuNAyViZeXK",
        "colab_type": "code",
        "colab": {
          "base_uri": "https://localhost:8080/",
          "height": 34
        },
        "outputId": "47626d01-e88b-4829-963d-83120b42d9ab"
      },
      "cell_type": "code",
      "source": [
        "bwt_df.shape"
      ],
      "execution_count": 9,
      "outputs": [
        {
          "output_type": "execute_result",
          "data": {
            "text/plain": [
              "(1174, 7)"
            ]
          },
          "metadata": {
            "tags": []
          },
          "execution_count": 9
        }
      ]
    },
    {
      "metadata": {
        "id": "Ez8qPLojjlFf",
        "colab_type": "code",
        "colab": {
          "base_uri": "https://localhost:8080/",
          "height": 221
        },
        "outputId": "4e487bc1-b456-4a6a-bfb6-f465b1ca1360"
      },
      "cell_type": "code",
      "source": [
        "# TODO - your work here! Also, add text cells for written questions.\n",
        "bwt_df.info()"
      ],
      "execution_count": 8,
      "outputs": [
        {
          "output_type": "stream",
          "text": [
            "<class 'pandas.core.frame.DataFrame'>\n",
            "RangeIndex: 1174 entries, 0 to 1173\n",
            "Data columns (total 7 columns):\n",
            "bwt          1174 non-null int64\n",
            "gestation    1174 non-null int64\n",
            "parity       1174 non-null int64\n",
            "age          1174 non-null int64\n",
            "height       1174 non-null int64\n",
            "weight       1174 non-null int64\n",
            "smoke        1174 non-null int64\n",
            "dtypes: int64(7)\n",
            "memory usage: 64.3 KB\n"
          ],
          "name": "stdout"
        }
      ]
    },
    {
      "metadata": {
        "id": "7K2ZMUwXhZJR",
        "colab_type": "code",
        "colab": {
          "base_uri": "https://localhost:8080/",
          "height": 266
        },
        "outputId": "0822661e-bc80-47f5-eb3d-61a8761ada1f"
      },
      "cell_type": "code",
      "source": [
        "bwt_df.corr()"
      ],
      "execution_count": 20,
      "outputs": [
        {
          "output_type": "execute_result",
          "data": {
            "text/html": [
              "<div>\n",
              "<style scoped>\n",
              "    .dataframe tbody tr th:only-of-type {\n",
              "        vertical-align: middle;\n",
              "    }\n",
              "\n",
              "    .dataframe tbody tr th {\n",
              "        vertical-align: top;\n",
              "    }\n",
              "\n",
              "    .dataframe thead th {\n",
              "        text-align: right;\n",
              "    }\n",
              "</style>\n",
              "<table border=\"1\" class=\"dataframe\">\n",
              "  <thead>\n",
              "    <tr style=\"text-align: right;\">\n",
              "      <th></th>\n",
              "      <th>bwt</th>\n",
              "      <th>gestation</th>\n",
              "      <th>parity</th>\n",
              "      <th>age</th>\n",
              "      <th>height</th>\n",
              "      <th>weight</th>\n",
              "      <th>smoke</th>\n",
              "    </tr>\n",
              "  </thead>\n",
              "  <tbody>\n",
              "    <tr>\n",
              "      <th>bwt</th>\n",
              "      <td>1.000000</td>\n",
              "      <td>0.407543</td>\n",
              "      <td>-0.043908</td>\n",
              "      <td>0.026983</td>\n",
              "      <td>0.203704</td>\n",
              "      <td>0.155923</td>\n",
              "      <td>-0.246800</td>\n",
              "    </tr>\n",
              "    <tr>\n",
              "      <th>gestation</th>\n",
              "      <td>0.407543</td>\n",
              "      <td>1.000000</td>\n",
              "      <td>0.080916</td>\n",
              "      <td>-0.053425</td>\n",
              "      <td>0.070470</td>\n",
              "      <td>0.023655</td>\n",
              "      <td>-0.060267</td>\n",
              "    </tr>\n",
              "    <tr>\n",
              "      <th>parity</th>\n",
              "      <td>-0.043908</td>\n",
              "      <td>0.080916</td>\n",
              "      <td>1.000000</td>\n",
              "      <td>-0.351041</td>\n",
              "      <td>0.043543</td>\n",
              "      <td>-0.096362</td>\n",
              "      <td>-0.009599</td>\n",
              "    </tr>\n",
              "    <tr>\n",
              "      <th>age</th>\n",
              "      <td>0.026983</td>\n",
              "      <td>-0.053425</td>\n",
              "      <td>-0.351041</td>\n",
              "      <td>1.000000</td>\n",
              "      <td>-0.006453</td>\n",
              "      <td>0.147322</td>\n",
              "      <td>-0.067772</td>\n",
              "    </tr>\n",
              "    <tr>\n",
              "      <th>height</th>\n",
              "      <td>0.203704</td>\n",
              "      <td>0.070470</td>\n",
              "      <td>0.043543</td>\n",
              "      <td>-0.006453</td>\n",
              "      <td>1.000000</td>\n",
              "      <td>0.435287</td>\n",
              "      <td>0.017507</td>\n",
              "    </tr>\n",
              "    <tr>\n",
              "      <th>weight</th>\n",
              "      <td>0.155923</td>\n",
              "      <td>0.023655</td>\n",
              "      <td>-0.096362</td>\n",
              "      <td>0.147322</td>\n",
              "      <td>0.435287</td>\n",
              "      <td>1.000000</td>\n",
              "      <td>-0.060281</td>\n",
              "    </tr>\n",
              "    <tr>\n",
              "      <th>smoke</th>\n",
              "      <td>-0.246800</td>\n",
              "      <td>-0.060267</td>\n",
              "      <td>-0.009599</td>\n",
              "      <td>-0.067772</td>\n",
              "      <td>0.017507</td>\n",
              "      <td>-0.060281</td>\n",
              "      <td>1.000000</td>\n",
              "    </tr>\n",
              "  </tbody>\n",
              "</table>\n",
              "</div>"
            ],
            "text/plain": [
              "                bwt  gestation    parity       age    height    weight  \\\n",
              "bwt        1.000000   0.407543 -0.043908  0.026983  0.203704  0.155923   \n",
              "gestation  0.407543   1.000000  0.080916 -0.053425  0.070470  0.023655   \n",
              "parity    -0.043908   0.080916  1.000000 -0.351041  0.043543 -0.096362   \n",
              "age        0.026983  -0.053425 -0.351041  1.000000 -0.006453  0.147322   \n",
              "height     0.203704   0.070470  0.043543 -0.006453  1.000000  0.435287   \n",
              "weight     0.155923   0.023655 -0.096362  0.147322  0.435287  1.000000   \n",
              "smoke     -0.246800  -0.060267 -0.009599 -0.067772  0.017507 -0.060281   \n",
              "\n",
              "              smoke  \n",
              "bwt       -0.246800  \n",
              "gestation -0.060267  \n",
              "parity    -0.009599  \n",
              "age       -0.067772  \n",
              "height     0.017507  \n",
              "weight    -0.060281  \n",
              "smoke      1.000000  "
            ]
          },
          "metadata": {
            "tags": []
          },
          "execution_count": 20
        }
      ]
    },
    {
      "metadata": {
        "id": "miLynz8XZHGe",
        "colab_type": "code",
        "colab": {
          "base_uri": "https://localhost:8080/",
          "height": 286
        },
        "outputId": "e922a639-2844-40b0-b5c8-038b867434b1"
      },
      "cell_type": "code",
      "source": [
        "# no nulls, let's plot bwt\n",
        "bwt_df['bwt'].hist(bins=20)"
      ],
      "execution_count": 3,
      "outputs": [
        {
          "output_type": "execute_result",
          "data": {
            "text/plain": [
              "<matplotlib.axes._subplots.AxesSubplot at 0x7f9fd134e7f0>"
            ]
          },
          "metadata": {
            "tags": []
          },
          "execution_count": 3
        },
        {
          "output_type": "display_data",
          "data": {
            "image/png": "[encoded data removed]",
            "text/plain": [
              "<Figure size 432x288 with 1 Axes>"
            ]
          },
          "metadata": {
            "tags": []
          }
        }
      ]
    },
    {
      "metadata": {
        "id": "jxiaz7HLaAsC",
        "colab_type": "code",
        "colab": {
          "base_uri": "https://localhost:8080/",
          "height": 206
        },
        "outputId": "a1eb0fff-8360-49f2-8fef-14bbbf5c7fda"
      },
      "cell_type": "code",
      "source": [
        "sns.pairplot(data=bwt_df, y_vars=['bwt'], x_vars=bwt_df.columns.drop(['bwt']), plot_kws={'alpha': 0.1, 'linewidth':0})"
      ],
      "execution_count": 5,
      "outputs": [
        {
          "output_type": "execute_result",
          "data": {
            "text/plain": [
              "<seaborn.axisgrid.PairGrid at 0x7f9fd0e1b0b8>"
            ]
          },
          "metadata": {
            "tags": []
          },
          "execution_count": 5
        },
        {
          "output_type": "display_data",
          "data": {
            "image/png": "[encoded data removed]",
            "text/plain": [
              "<Figure size 1080x180 with 6 Axes>"
            ]
          },
          "metadata": {
            "tags": []
          }
        }
      ]
    },
    {
      "metadata": {
        "id": "9MdMvmwMZuVt",
        "colab_type": "code",
        "colab": {
          "base_uri": "https://localhost:8080/",
          "height": 34
        },
        "outputId": "cf915b88-62ae-495d-aaff-d10867166b94"
      },
      "cell_type": "code",
      "source": [
        "# run a quick linear regression\n",
        "model = LinearRegression()\n",
        "\n",
        "y = bwt_df['bwt']\n",
        "X = bwt_df.drop('bwt', axis='columns')\n",
        "\n",
        "model.fit(X, y)\n",
        "\n",
        "model.score(X, y)"
      ],
      "execution_count": 6,
      "outputs": [
        {
          "output_type": "execute_result",
          "data": {
            "text/plain": [
              "0.2579534937842991"
            ]
          },
          "metadata": {
            "tags": []
          },
          "execution_count": 6
        }
      ]
    },
    {
      "metadata": {
        "id": "bRqE9Y4yaz5o",
        "colab_type": "code",
        "colab": {
          "base_uri": "https://localhost:8080/",
          "height": 51
        },
        "outputId": "ecd99cd9-7262-4eb5-b63a-cb52e384ad72"
      },
      "cell_type": "code",
      "source": [
        "df_non_smoker = bwt_df[(bwt_df['smoke'] < 1)]\n",
        "df_smoker = bwt_df[(bwt_df['smoke'] > 0)]\n",
        "print (\"Smokers shape:\", df_smoker.shape, \"birthweight:\", df_smoker.bwt.mean(),\n",
        "       \"\\nNon-smokers\", df_non_smoker.shape, \"birthweight:\", df_non_smoker.bwt.mean())\n"
      ],
      "execution_count": 7,
      "outputs": [
        {
          "output_type": "stream",
          "text": [
            "Smokers shape: (459, 7) birthweight: 113.81917211328977 \n",
            "Non-smokers (715, 7) birthweight: 123.08531468531469\n"
          ],
          "name": "stdout"
        }
      ]
    },
    {
      "metadata": {
        "id": "YZEXt8Zied8K",
        "colab_type": "code",
        "colab": {
          "base_uri": "https://localhost:8080/",
          "height": 300
        },
        "outputId": "d3f6591f-7c49-4f33-ca3c-4643d06d9668"
      },
      "cell_type": "code",
      "source": [
        "df_non_smoker.plot('gestation', 'bwt', kind='scatter')"
      ],
      "execution_count": 8,
      "outputs": [
        {
          "output_type": "execute_result",
          "data": {
            "text/plain": [
              "<matplotlib.axes._subplots.AxesSubplot at 0x7f9fceb4dcc0>"
            ]
          },
          "metadata": {
            "tags": []
          },
          "execution_count": 8
        },
        {
          "output_type": "display_data",
          "data": {
            "image/png": "[encoded data removed]",
            "text/plain": [
              "<Figure size 432x288 with 1 Axes>"
            ]
          },
          "metadata": {
            "tags": []
          }
        }
      ]
    },
    {
      "metadata": {
        "id": "mdRdkgdofu3m",
        "colab_type": "code",
        "colab": {
          "base_uri": "https://localhost:8080/",
          "height": 300
        },
        "outputId": "5c3df9c8-a07c-4f21-eac1-1ef0b7f1e395"
      },
      "cell_type": "code",
      "source": [
        "df_smoker.plot('gestation', 'bwt', kind='scatter')"
      ],
      "execution_count": 9,
      "outputs": [
        {
          "output_type": "execute_result",
          "data": {
            "text/plain": [
              "<matplotlib.axes._subplots.AxesSubplot at 0x7f9fcd2e7be0>"
            ]
          },
          "metadata": {
            "tags": []
          },
          "execution_count": 9
        },
        {
          "output_type": "display_data",
          "data": {
            "image/png": "[encoded data removed]",
            "text/plain": [
              "<Figure size 432x288 with 1 Axes>"
            ]
          },
          "metadata": {
            "tags": []
          }
        }
      ]
    },
    {
      "metadata": {
        "id": "9eKTq5pBjcE9",
        "colab_type": "code",
        "colab": {
          "base_uri": "https://localhost:8080/",
          "height": 68
        },
        "outputId": "b3f19b5f-0aae-4f92-bcc2-499db1b031d2"
      },
      "cell_type": "code",
      "source": [
        "lo_weight = ((bwt_df.bwt.values < 90).sum() / bwt_df.shape[0])\n",
        "lo_weight_non_smoker = ((df_non_smoker.bwt.values < 90).sum() / df_non_smoker.shape[0])\n",
        "lo_weight_smoker = ((df_smoker.bwt.values < 90).sum() / df_smoker.shape[0])\n",
        "print(\"Percent of births under 90:\", lo_weight * 100)\n",
        "print(\"Percent of non-smoker births under 90:\", lo_weight_non_smoker * 100)\n",
        "print(\"Percent of smoker births under 90:\", lo_weight_smoker * 100)"
      ],
      "execution_count": 10,
      "outputs": [
        {
          "output_type": "stream",
          "text": [
            "Percent of births under 90: 5.45144804088586\n",
            "Percent of non-smoker births under 90: 3.3566433566433567\n",
            "Percent of smoker births under 90: 8.714596949891067\n"
          ],
          "name": "stdout"
        }
      ]
    },
    {
      "metadata": {
        "id": "fQG5G1awoEK4",
        "colab_type": "code",
        "colab": {
          "base_uri": "https://localhost:8080/",
          "height": 417
        },
        "outputId": "e021926b-5df4-4e07-ce50-b1f1b904f279"
      },
      "cell_type": "code",
      "source": [
        "quant_formula = 'bwt ~ ' + ' + '.join(bwt_df.drop('bwt', axis='columns').columns)\n",
        "print(quant_formula)\n",
        "\n",
        "quant_mod = smf.quantreg(quant_formula, data=bwt_df)\n",
        "quant_reg = quant_mod.fit(q = lo_weight)\n",
        "quant_reg.summary()  # \"summary\" is another very R-thing"
      ],
      "execution_count": 11,
      "outputs": [
        {
          "output_type": "stream",
          "text": [
            "bwt ~ gestation + parity + age + height + weight + smoke\n"
          ],
          "name": "stdout"
        },
        {
          "output_type": "execute_result",
          "data": {
            "text/html": [
              "<table class=\"simpletable\">\n",
              "<caption>QuantReg Regression Results</caption>\n",
              "<tr>\n",
              "  <th>Dep. Variable:</th>        <td>bwt</td>       <th>  Pseudo R-squared:  </th> <td>  0.2004</td>\n",
              "</tr>\n",
              "<tr>\n",
              "  <th>Model:</th>             <td>QuantReg</td>     <th>  Bandwidth:         </th> <td>   6.261</td>\n",
              "</tr>\n",
              "<tr>\n",
              "  <th>Method:</th>          <td>Least Squares</td>  <th>  Sparsity:          </th> <td>   132.7</td>\n",
              "</tr>\n",
              "<tr>\n",
              "  <th>Date:</th>          <td>Thu, 28 Feb 2019</td> <th>  No. Observations:  </th>  <td>  1174</td> \n",
              "</tr>\n",
              "<tr>\n",
              "  <th>Time:</th>              <td>14:08:00</td>     <th>  Df Residuals:      </th>  <td>  1167</td> \n",
              "</tr>\n",
              "<tr>\n",
              "  <th> </th>                      <td> </td>        <th>  Df Model:          </th>  <td>     6</td> \n",
              "</tr>\n",
              "</table>\n",
              "<table class=\"simpletable\">\n",
              "<tr>\n",
              "      <td></td>         <th>coef</th>     <th>std err</th>      <th>t</th>      <th>P>|t|</th>  <th>[0.025</th>    <th>0.975]</th>  \n",
              "</tr>\n",
              "<tr>\n",
              "  <th>Intercept</th> <td>  -96.3832</td> <td>   32.010</td> <td>   -3.011</td> <td> 0.003</td> <td> -159.187</td> <td>  -33.580</td>\n",
              "</tr>\n",
              "<tr>\n",
              "  <th>gestation</th> <td>    0.4806</td> <td>    0.089</td> <td>    5.411</td> <td> 0.000</td> <td>    0.306</td> <td>    0.655</td>\n",
              "</tr>\n",
              "<tr>\n",
              "  <th>parity</th>    <td>   -3.2591</td> <td>    2.347</td> <td>   -1.388</td> <td> 0.165</td> <td>   -7.865</td> <td>    1.347</td>\n",
              "</tr>\n",
              "<tr>\n",
              "  <th>age</th>       <td>   -0.0882</td> <td>    0.170</td> <td>   -0.517</td> <td> 0.605</td> <td>   -0.423</td> <td>    0.246</td>\n",
              "</tr>\n",
              "<tr>\n",
              "  <th>height</th>    <td>    1.2257</td> <td>    0.437</td> <td>    2.807</td> <td> 0.005</td> <td>    0.369</td> <td>    2.082</td>\n",
              "</tr>\n",
              "<tr>\n",
              "  <th>weight</th>    <td>   -0.1193</td> <td>    0.057</td> <td>   -2.098</td> <td> 0.036</td> <td>   -0.231</td> <td>   -0.008</td>\n",
              "</tr>\n",
              "<tr>\n",
              "  <th>smoke</th>     <td>   -8.6951</td> <td>    1.867</td> <td>   -4.656</td> <td> 0.000</td> <td>  -12.359</td> <td>   -5.031</td>\n",
              "</tr>\n",
              "</table><br/><br/>The condition number is large, 9.8e+03. This might indicate that there are<br/>strong multicollinearity or other numerical problems."
            ],
            "text/plain": [
              "<class 'statsmodels.iolib.summary.Summary'>\n",
              "\"\"\"\n",
              "                         QuantReg Regression Results                          \n",
              "==============================================================================\n",
              "Dep. Variable:                    bwt   Pseudo R-squared:               0.2004\n",
              "Model:                       QuantReg   Bandwidth:                       6.261\n",
              "Method:                 Least Squares   Sparsity:                        132.7\n",
              "Date:                Thu, 28 Feb 2019   No. Observations:                 1174\n",
              "Time:                        14:08:00   Df Residuals:                     1167\n",
              "                                        Df Model:                            6\n",
              "==============================================================================\n",
              "                 coef    std err          t      P>|t|      [0.025      0.975]\n",
              "------------------------------------------------------------------------------\n",
              "Intercept    -96.3832     32.010     -3.011      0.003    -159.187     -33.580\n",
              "gestation      0.4806      0.089      5.411      0.000       0.306       0.655\n",
              "parity        -3.2591      2.347     -1.388      0.165      -7.865       1.347\n",
              "age           -0.0882      0.170     -0.517      0.605      -0.423       0.246\n",
              "height         1.2257      0.437      2.807      0.005       0.369       2.082\n",
              "weight        -0.1193      0.057     -2.098      0.036      -0.231      -0.008\n",
              "smoke         -8.6951      1.867     -4.656      0.000     -12.359      -5.031\n",
              "==============================================================================\n",
              "\n",
              "The condition number is large, 9.8e+03. This might indicate that there are\n",
              "strong multicollinearity or other numerical problems.\n",
              "\"\"\""
            ]
          },
          "metadata": {
            "tags": []
          },
          "execution_count": 11
        }
      ]
    },
    {
      "metadata": {
        "id": "hdt2nNuroyAs",
        "colab_type": "code",
        "colab": {
          "base_uri": "https://localhost:8080/",
          "height": 413
        },
        "outputId": "7d33dc3e-3f34-4fa0-9874-ba0ca93e5cdd"
      },
      "cell_type": "code",
      "source": [
        "quant_formula = 'bwt ~ ' + ' + '.join(df_non_smoker.drop(['bwt', 'smoke'], axis='columns').columns)\n",
        "print(quant_formula)\n",
        "print(\"Non-smokers:\")\n",
        "quant_mod = smf.quantreg(quant_formula, data=df_non_smoker)\n",
        "quant_reg = quant_mod.fit(q = lo_weight_non_smoker)\n",
        "quant_reg.summary()  # \"summary\" is another very R-thing"
      ],
      "execution_count": 12,
      "outputs": [
        {
          "output_type": "stream",
          "text": [
            "bwt ~ gestation + parity + age + height + weight\n",
            "Non-smokers:\n"
          ],
          "name": "stdout"
        },
        {
          "output_type": "execute_result",
          "data": {
            "text/html": [
              "<table class=\"simpletable\">\n",
              "<caption>QuantReg Regression Results</caption>\n",
              "<tr>\n",
              "  <th>Dep. Variable:</th>        <td>bwt</td>       <th>  Pseudo R-squared:  </th> <td>  0.1740</td>\n",
              "</tr>\n",
              "<tr>\n",
              "  <th>Model:</th>             <td>QuantReg</td>     <th>  Bandwidth:         </th> <td>   7.798</td>\n",
              "</tr>\n",
              "<tr>\n",
              "  <th>Method:</th>          <td>Least Squares</td>  <th>  Sparsity:          </th> <td>   216.8</td>\n",
              "</tr>\n",
              "<tr>\n",
              "  <th>Date:</th>          <td>Thu, 28 Feb 2019</td> <th>  No. Observations:  </th>  <td>   715</td> \n",
              "</tr>\n",
              "<tr>\n",
              "  <th>Time:</th>              <td>14:08:04</td>     <th>  Df Residuals:      </th>  <td>   709</td> \n",
              "</tr>\n",
              "<tr>\n",
              "  <th> </th>                      <td> </td>        <th>  Df Model:          </th>  <td>     5</td> \n",
              "</tr>\n",
              "</table>\n",
              "<table class=\"simpletable\">\n",
              "<tr>\n",
              "      <td></td>         <th>coef</th>     <th>std err</th>      <th>t</th>      <th>P>|t|</th>  <th>[0.025</th>    <th>0.975]</th>  \n",
              "</tr>\n",
              "<tr>\n",
              "  <th>Intercept</th> <td>  -87.0308</td> <td>   67.950</td> <td>   -1.281</td> <td> 0.201</td> <td> -220.438</td> <td>   46.377</td>\n",
              "</tr>\n",
              "<tr>\n",
              "  <th>gestation</th> <td>    0.4759</td> <td>    0.190</td> <td>    2.505</td> <td> 0.012</td> <td>    0.103</td> <td>    0.849</td>\n",
              "</tr>\n",
              "<tr>\n",
              "  <th>parity</th>    <td>   -2.6626</td> <td>    3.929</td> <td>   -0.678</td> <td> 0.498</td> <td>  -10.376</td> <td>    5.051</td>\n",
              "</tr>\n",
              "<tr>\n",
              "  <th>age</th>       <td>   -0.3430</td> <td>    0.274</td> <td>   -1.251</td> <td> 0.211</td> <td>   -0.881</td> <td>    0.195</td>\n",
              "</tr>\n",
              "<tr>\n",
              "  <th>height</th>    <td>    1.1672</td> <td>    0.799</td> <td>    1.461</td> <td> 0.144</td> <td>   -0.401</td> <td>    2.736</td>\n",
              "</tr>\n",
              "<tr>\n",
              "  <th>weight</th>    <td>   -0.1286</td> <td>    0.084</td> <td>   -1.534</td> <td> 0.125</td> <td>   -0.293</td> <td>    0.036</td>\n",
              "</tr>\n",
              "</table><br/><br/>The condition number is large, 9.91e+03. This might indicate that there are<br/>strong multicollinearity or other numerical problems."
            ],
            "text/plain": [
              "<class 'statsmodels.iolib.summary.Summary'>\n",
              "\"\"\"\n",
              "                         QuantReg Regression Results                          \n",
              "==============================================================================\n",
              "Dep. Variable:                    bwt   Pseudo R-squared:               0.1740\n",
              "Model:                       QuantReg   Bandwidth:                       7.798\n",
              "Method:                 Least Squares   Sparsity:                        216.8\n",
              "Date:                Thu, 28 Feb 2019   No. Observations:                  715\n",
              "Time:                        14:08:04   Df Residuals:                      709\n",
              "                                        Df Model:                            5\n",
              "==============================================================================\n",
              "                 coef    std err          t      P>|t|      [0.025      0.975]\n",
              "------------------------------------------------------------------------------\n",
              "Intercept    -87.0308     67.950     -1.281      0.201    -220.438      46.377\n",
              "gestation      0.4759      0.190      2.505      0.012       0.103       0.849\n",
              "parity        -2.6626      3.929     -0.678      0.498     -10.376       5.051\n",
              "age           -0.3430      0.274     -1.251      0.211      -0.881       0.195\n",
              "height         1.1672      0.799      1.461      0.144      -0.401       2.736\n",
              "weight        -0.1286      0.084     -1.534      0.125      -0.293       0.036\n",
              "==============================================================================\n",
              "\n",
              "The condition number is large, 9.91e+03. This might indicate that there are\n",
              "strong multicollinearity or other numerical problems.\n",
              "\"\"\""
            ]
          },
          "metadata": {
            "tags": []
          },
          "execution_count": 12
        }
      ]
    },
    {
      "metadata": {
        "id": "JAS_Wjl3p0KS",
        "colab_type": "code",
        "colab": {
          "base_uri": "https://localhost:8080/",
          "height": 413
        },
        "outputId": "e884deb5-58ff-4a57-bead-d21ea721b896"
      },
      "cell_type": "code",
      "source": [
        "quant_formula = 'bwt ~ ' + ' + '.join(df_smoker.drop(['bwt', 'smoke'], axis='columns').columns)\n",
        "print(quant_formula)\n",
        "print(\"Smokers:\")\n",
        "quant_mod = smf.quantreg(quant_formula, data=df_smoker)\n",
        "quant_reg = quant_mod.fit(q = lo_weight_smoker)\n",
        "quant_reg.summary()  # \"summary\" is another very R-thing"
      ],
      "execution_count": 13,
      "outputs": [
        {
          "output_type": "stream",
          "text": [
            "bwt ~ gestation + parity + age + height + weight\n",
            "Smokers:\n"
          ],
          "name": "stdout"
        },
        {
          "output_type": "execute_result",
          "data": {
            "text/html": [
              "<table class=\"simpletable\">\n",
              "<caption>QuantReg Regression Results</caption>\n",
              "<tr>\n",
              "  <th>Dep. Variable:</th>        <td>bwt</td>       <th>  Pseudo R-squared:  </th> <td>  0.1980</td>\n",
              "</tr>\n",
              "<tr>\n",
              "  <th>Model:</th>             <td>QuantReg</td>     <th>  Bandwidth:         </th> <td>   8.449</td>\n",
              "</tr>\n",
              "<tr>\n",
              "  <th>Method:</th>          <td>Least Squares</td>  <th>  Sparsity:          </th> <td>   89.76</td>\n",
              "</tr>\n",
              "<tr>\n",
              "  <th>Date:</th>          <td>Thu, 28 Feb 2019</td> <th>  No. Observations:  </th>  <td>   459</td> \n",
              "</tr>\n",
              "<tr>\n",
              "  <th>Time:</th>              <td>14:08:10</td>     <th>  Df Residuals:      </th>  <td>   453</td> \n",
              "</tr>\n",
              "<tr>\n",
              "  <th> </th>                      <td> </td>        <th>  Df Model:          </th>  <td>     5</td> \n",
              "</tr>\n",
              "</table>\n",
              "<table class=\"simpletable\">\n",
              "<tr>\n",
              "      <td></td>         <th>coef</th>     <th>std err</th>      <th>t</th>      <th>P>|t|</th>  <th>[0.025</th>    <th>0.975]</th>  \n",
              "</tr>\n",
              "<tr>\n",
              "  <th>Intercept</th> <td> -115.1206</td> <td>   37.838</td> <td>   -3.042</td> <td> 0.002</td> <td> -189.480</td> <td>  -40.761</td>\n",
              "</tr>\n",
              "<tr>\n",
              "  <th>gestation</th> <td>    0.4824</td> <td>    0.114</td> <td>    4.217</td> <td> 0.000</td> <td>    0.258</td> <td>    0.707</td>\n",
              "</tr>\n",
              "<tr>\n",
              "  <th>parity</th>    <td>   -0.7677</td> <td>    3.188</td> <td>   -0.241</td> <td> 0.810</td> <td>   -7.033</td> <td>    5.498</td>\n",
              "</tr>\n",
              "<tr>\n",
              "  <th>age</th>       <td>   -0.0018</td> <td>    0.249</td> <td>   -0.007</td> <td> 0.994</td> <td>   -0.492</td> <td>    0.488</td>\n",
              "</tr>\n",
              "<tr>\n",
              "  <th>height</th>    <td>    1.1261</td> <td>    0.517</td> <td>    2.179</td> <td> 0.030</td> <td>    0.111</td> <td>    2.142</td>\n",
              "</tr>\n",
              "<tr>\n",
              "  <th>weight</th>    <td>    0.0085</td> <td>    0.080</td> <td>    0.106</td> <td> 0.915</td> <td>   -0.149</td> <td>    0.166</td>\n",
              "</tr>\n",
              "</table><br/><br/>The condition number is large, 9.65e+03. This might indicate that there are<br/>strong multicollinearity or other numerical problems."
            ],
            "text/plain": [
              "<class 'statsmodels.iolib.summary.Summary'>\n",
              "\"\"\"\n",
              "                         QuantReg Regression Results                          \n",
              "==============================================================================\n",
              "Dep. Variable:                    bwt   Pseudo R-squared:               0.1980\n",
              "Model:                       QuantReg   Bandwidth:                       8.449\n",
              "Method:                 Least Squares   Sparsity:                        89.76\n",
              "Date:                Thu, 28 Feb 2019   No. Observations:                  459\n",
              "Time:                        14:08:10   Df Residuals:                      453\n",
              "                                        Df Model:                            5\n",
              "==============================================================================\n",
              "                 coef    std err          t      P>|t|      [0.025      0.975]\n",
              "------------------------------------------------------------------------------\n",
              "Intercept   -115.1206     37.838     -3.042      0.002    -189.480     -40.761\n",
              "gestation      0.4824      0.114      4.217      0.000       0.258       0.707\n",
              "parity        -0.7677      3.188     -0.241      0.810      -7.033       5.498\n",
              "age           -0.0018      0.249     -0.007      0.994      -0.492       0.488\n",
              "height         1.1261      0.517      2.179      0.030       0.111       2.142\n",
              "weight         0.0085      0.080      0.106      0.915      -0.149       0.166\n",
              "==============================================================================\n",
              "\n",
              "The condition number is large, 9.65e+03. This might indicate that there are\n",
              "strong multicollinearity or other numerical problems.\n",
              "\"\"\""
            ]
          },
          "metadata": {
            "tags": []
          },
          "execution_count": 13
        }
      ]
    },
    {
      "metadata": {
        "id": "qN7tIcC3dMgP",
        "colab_type": "code",
        "colab": {
          "base_uri": "https://localhost:8080/",
          "height": 238
        },
        "outputId": "02c6b3e6-1d8a-48d3-eb7e-304816bdffd2"
      },
      "cell_type": "code",
      "source": [
        "quant_formula = 'bwt ~ gestation + parity + smoke'\n",
        "quant_mod = smf.quantreg(quant_formula, data=bwt_df)\n",
        "print(quant_formula)\n",
        "#for quantile in range(50, 100):\n",
        "for quantile in [0.1, 0.5, 1, 2, 3, 4, 5, 6, 7, 8, 9, 9.9]:\n",
        "  quantile /= 10\n",
        "  quant_reg = quant_mod.fit(q=quantile)\n",
        "  print(\"At:\", quantile, \"==>> R2 =\", quant_reg.prsquared)"
      ],
      "execution_count": 19,
      "outputs": [
        {
          "output_type": "stream",
          "text": [
            "bwt ~ gestation + parity + smoke\n",
            "At: 0.01 ==>> R2 = 0.20565221927628563\n",
            "At: 0.05 ==>> R2 = 0.18606712940177816\n",
            "At: 0.1 ==>> R2 = 0.16890718547477934\n",
            "At: 0.2 ==>> R2 = 0.1516581964546433\n",
            "At: 0.3 ==>> R2 = 0.13721428537964708\n",
            "At: 0.4 ==>> R2 = 0.1208183640621806\n",
            "At: 0.5 ==>> R2 = 0.11046615979583752\n",
            "At: 0.6 ==>> R2 = 0.10170131997555154\n",
            "At: 0.7 ==>> R2 = 0.08998431807572671\n",
            "At: 0.8 ==>> R2 = 0.08139582335822537\n",
            "At: 0.9 ==>> R2 = 0.07665408530688889\n",
            "At: 0.99 ==>> R2 = 0.11981663340327442\n"
          ],
          "name": "stdout"
        }
      ]
    },
    {
      "metadata": {
        "id": "LDo8JRVegWqc",
        "colab_type": "text"
      },
      "cell_type": "markdown",
      "source": [
        "## I can only conclude by looking at the bwt vs gestation charts for smokers vs non-smokers that smoking negatively affects birthweight. Both birthweight and gestation periods tend lower for smokers."
      ]
    },
    {
      "metadata": {
        "id": "XY9JGAnJisdB",
        "colab_type": "text"
      },
      "cell_type": "markdown",
      "source": [
        "## Resources and stretch goals"
      ]
    },
    {
      "metadata": {
        "id": "inFWXSpqmND5",
        "colab_type": "text"
      },
      "cell_type": "markdown",
      "source": [
        "Resources:\n",
        "- [statsmodels QuantReg example](http://www.statsmodels.org/dev/examples/notebooks/generated/quantile_regression.html)\n",
        "- [How Shopify used Quantile Regression in modeling risk](https://medium.com/data-shopify/how-shopify-capital-uses-quantile-regression-to-help-merchants-succeed-10ee1b36b17d)\n",
        "\n",
        "Stretch goals:\n",
        "- Find a dataset where you think quantile regression may be appropriate, and try both it and linear regression - compare/contrast their strengths/weaknesses, and write a summary for which you think is better for the situation and why\n",
        "- Check out [deep quantile regression](https://www.kdnuggets.com/2018/07/deep-quantile-regression.html), an approach that uses a custom quantile loss function and Keras to train a quantile model"
      ]
    }
  ]
}