{
  "nbformat": 4,
  "nbformat_minor": 0,
  "metadata": {
    "colab": {
      "name": "Winston_Lee_LS_DS_223_Assignment_Make_explanatory_visualizations LIVE LESSON.ipynb",
      "version": "0.3.2",
      "provenance": [],
      "collapsed_sections": [],
      "include_colab_link": true
    },
    "kernelspec": {
      "display_name": "Python 3",
      "language": "python",
      "name": "python3"
    }
  },
  "cells": [
    {
      "cell_type": "markdown",
      "metadata": {
        "id": "view-in-github",
        "colab_type": "text"
      },
      "source": [
        "<a href=\"https://colab.research.google.com/github/wel51x/DS-Unit-1-Sprint-3-Data-Storytelling/blob/master/Winston_Lee_LS_DS_223_Assignment_Make_explanatory_visualizations_LIVE_LESSON.ipynb\" target=\"_parent\"><img src=\"https://colab.research.google.com/assets/colab-badge.svg\" alt=\"Open In Colab\"/></a>"
      ]
    },
    {
      "metadata": {
        "id": "-8-trVo__vRE",
        "colab_type": "text"
      },
      "cell_type": "markdown",
      "source": [
        "_Lambda School Data Science_\n",
        "\n",
        "# Make explanatory visualizations\n",
        "\n",
        "\n",
        "\n",
        "\n",
        "Tody we will reproduce this [example by FiveThirtyEight:](https://fivethirtyeight.com/features/al-gores-new-movie-exposes-the-big-flaw-in-online-movie-ratings/)"
      ]
    },
    {
      "metadata": {
        "id": "ya_w5WORGs-n",
        "colab_type": "code",
        "outputId": "7aa266a6-101d-4f09-fc44-a374a08602f1",
        "colab": {
          "base_uri": "https://localhost:8080/",
          "height": 355
        }
      },
      "cell_type": "code",
      "source": [
        "from IPython.display import display, Image\n",
        "\n",
        "url = 'https://fivethirtyeight.com/wp-content/uploads/2017/09/mehtahickey-inconvenient-0830-1.png'\n",
        "example = Image(url=url, width=400)\n",
        "\n",
        "display(example)"
      ],
      "execution_count": 0,
      "outputs": [
        {
          "output_type": "display_data",
          "data": {
            "text/html": [
              "<img src=\"https://fivethirtyeight.com/wp-content/uploads/2017/09/mehtahickey-inconvenient-0830-1.png\" width=\"400\"/>"
            ],
            "text/plain": [
              "<IPython.core.display.Image object>"
            ]
          },
          "metadata": {
            "tags": []
          }
        }
      ]
    },
    {
      "metadata": {
        "id": "HP4DALiRG3sC",
        "colab_type": "text"
      },
      "cell_type": "markdown",
      "source": [
        "Using this data: https://github.com/fivethirtyeight/data/tree/master/inconvenient-sequel"
      ]
    },
    {
      "metadata": {
        "id": "HioPkYtUG03B",
        "colab_type": "text"
      },
      "cell_type": "markdown",
      "source": [
        "Objectives\n",
        "- add emphasis and annotations to transform visualizations from exploratory to explanatory\n",
        "- remove clutter from visualizations\n",
        "\n",
        "Links\n",
        "- [Strong Titles Are The Biggest Bang for Your Buck](http://stephanieevergreen.com/strong-titles/)\n",
        "- [Remove to improve (the data-ink ratio)](https://www.darkhorseanalytics.com/blog/data-looks-better-naked)\n",
        "- [How to Generate FiveThirtyEight Graphs in Python](https://www.dataquest.io/blog/making-538-plots/)"
      ]
    },
    {
      "metadata": {
        "id": "0w_iMnQ6-VoQ",
        "colab_type": "text"
      },
      "cell_type": "markdown",
      "source": [
        "## Make prototypes\n",
        "\n",
        "This helps us understand the problem. We'll just make up some plausible fake data. The purpose is to understand what we're looking for, when we wrangle the real data. (If you don't know what you're looking for, it's going to be hard to find!)\n",
        "\n",
        "One format could be a list of 10 numbers. (The aggregated counts of ratings.)"
      ]
    },
    {
      "metadata": {
        "id": "5uz0eEaEN-GO",
        "colab_type": "code",
        "outputId": "68be5333-c011-44e1-9186-37f11144f977",
        "colab": {
          "base_uri": "https://localhost:8080/",
          "height": 282
        }
      },
      "cell_type": "code",
      "source": [
        "%matplotlib inline\n",
        "import matplotlib.pyplot as plt\n",
        "import numpy as np\n",
        "import pandas as pd\n",
        "\n",
        "plt.style.use('fivethirtyeight')\n",
        "\n",
        "fake = pd.Series([38, 3, 2, 1, 2, 4, 6, 5, 5, 33], \n",
        "                 index=range(1,11))\n",
        "\n",
        "fake.plot.bar(color='C1', width=0.9);"
      ],
      "execution_count": 1,
      "outputs": [
        {
          "output_type": "display_data",
          "data": {
            "image/png": "[encoded data removed]",
            "text/plain": [
              "<Figure size 432x288 with 1 Axes>"
            ]
          },
          "metadata": {
            "tags": []
          }
        }
      ]
    },
    {
      "metadata": {
        "id": "Ik3F5-zjThPy",
        "colab_type": "text"
      },
      "cell_type": "markdown",
      "source": [
        "Another data format could be the raw votes themselves.  It looks like a sideways histogram.\n",
        "\n",
        "So if I can find either of these data representations in the underlying raw data, then I can replicate the chart."
      ]
    },
    {
      "metadata": {
        "id": "KZ0VLOV8OyRr",
        "colab_type": "code",
        "outputId": "00c0a01e-0830-429a-80c6-4ad41ecea94f",
        "colab": {
          "base_uri": "https://localhost:8080/",
          "height": 285
        }
      },
      "cell_type": "code",
      "source": [
        "fake2 = pd.Series(\n",
        "    [1, 1, 1, 1, 1, 1, 1, 1, 1, 1, 1, 1, 1, 1, 1, 1, 1, 1, 1, 1, 1, 1, 1, 1,\n",
        "     2, 2, 2, \n",
        "     3, 3, 3,\n",
        "     4, 4,\n",
        "     5, 5, 5,\n",
        "     6, 6, 6, 6,\n",
        "     7, 7, 7, 7, 7,\n",
        "     8, 8, 8, 8,\n",
        "     9, 9, 9, 9, \n",
        "     10, 10, 10, 10, 10, 10, 10, 10, 10, 10, 10, 10, 10, 10, 10, 10, 10, 10])\n",
        "\n",
        "fake2.value_counts().sort_index().plot.bar(color='C1', width=0.9);"
      ],
      "execution_count": 2,
      "outputs": [
        {
          "output_type": "display_data",
          "data": {
            "image/png": "[encoded data removed]",
            "text/plain": [
              "<Figure size 432x288 with 1 Axes>"
            ]
          },
          "metadata": {
            "tags": []
          }
        }
      ]
    },
    {
      "metadata": {
        "id": "mZb3UZWO-q05",
        "colab_type": "text"
      },
      "cell_type": "markdown",
      "source": [
        "## Annotate with text"
      ]
    },
    {
      "metadata": {
        "id": "f6U1vswr_uWp",
        "colab_type": "code",
        "outputId": "32788f69-ccd4-473b-9417-1a1598861e1e",
        "colab": {
          "base_uri": "https://localhost:8080/",
          "height": 347
        }
      },
      "cell_type": "code",
      "source": [
        "plt.style.use('fivethirtyeight')\n",
        "\n",
        "fake = pd.Series([38, 3, 2, 1, 2, 4, 6, 5, 5, 33], \n",
        "                 index=range(1,11))\n",
        "\n",
        "ax = fake.plot.bar(color='C1', width=0.9)\n",
        "\n",
        "ax.tick_params(labelrotation=0)\n",
        "\n",
        "ax.text(x=-1.5, y=46, s=\"'An Inconvenient Sequel: Truth To Power' is divisive\", \n",
        "        fontsize=16, fontweight='bold')\n",
        "\n",
        "ax.text(x=1, y=42, s='IMDb ratings for the film as of Aug. 29')\n",
        "\n",
        "ax.set(xlabel='Rating', \n",
        "       ylabel='Percent of total votes', \n",
        "       yticks=range(0,50,10));"
      ],
      "execution_count": 5,
      "outputs": [
        {
          "output_type": "display_data",
          "data": {
            "image/png": "[encoded data removed]",
            "text/plain": [
              "<Figure size 432x288 with 1 Axes>"
            ]
          },
          "metadata": {
            "tags": []
          }
        }
      ]
    },
    {
      "metadata": {
        "id": "x8jRZkpB_MJ6",
        "colab_type": "text"
      },
      "cell_type": "markdown",
      "source": [
        "## Reproduce with real data"
      ]
    },
    {
      "metadata": {
        "id": "3SOHJckDUPI8",
        "colab_type": "code",
        "colab": {}
      },
      "cell_type": "code",
      "source": [
        "df = pd.read_csv('https://raw.githubusercontent.com/fivethirtyeight/data/master/inconvenient-sequel/ratings.csv')"
      ],
      "execution_count": 0,
      "outputs": []
    },
    {
      "metadata": {
        "id": "lD4wNdIWT4mc",
        "colab_type": "text"
      },
      "cell_type": "markdown",
      "source": [
        "The chart only has 10 datapoints. The dataset has over 2 million. How are we going to find the 10 datapoints in all this data? With data wrangling skills."
      ]
    },
    {
      "metadata": {
        "id": "rEz-U-wO5g0k",
        "colab_type": "code",
        "outputId": "6638136b-8506-4968-faa9-20abc98bd7d3",
        "colab": {
          "base_uri": "https://localhost:8080/",
          "height": 34
        }
      },
      "cell_type": "code",
      "source": [
        "width, height = df.shape\n",
        "print(\"File size is:\", df.shape[0] * df.shape[1])"
      ],
      "execution_count": 9,
      "outputs": [
        {
          "output_type": "stream",
          "text": [
            "File size is: 2161431\n"
          ],
          "name": "stdout"
        }
      ]
    },
    {
      "metadata": {
        "id": "8FJVQ5YdURXd",
        "colab_type": "text"
      },
      "cell_type": "markdown",
      "source": [
        "Some questions we can ask:\n",
        "- Are there other movies included in this dataset? Is that why it's so big?\n",
        "- Is the data an event log of votes that I need to sum up? Or are the vote counts cumulative snapshots from the web scraping, and I can just take the final count from the last date and time?\n",
        "\n",
        "If this seems tedious and confusing, even for a simple example, then welcome to the real world of data science! \"80%\" is data wrangling. You'll be hired by businesses where data is not in pristine state and not well documented.\n",
        "\n",
        "These columns look useful. But I want to look at the timestamps to better understand the data.\n"
      ]
    },
    {
      "metadata": {
        "id": "7N5jjAV15s37",
        "colab_type": "code",
        "colab": {}
      },
      "cell_type": "code",
      "source": [
        "pd.options.display.max_columns = 500\n",
        "df.head()"
      ],
      "execution_count": 0,
      "outputs": []
    },
    {
      "metadata": {
        "id": "f9EWtHhgUFOs",
        "colab_type": "text"
      },
      "cell_type": "markdown",
      "source": [
        "The date range matches the documentation on GitHub."
      ]
    },
    {
      "metadata": {
        "id": "fGYObvwr6yXj",
        "colab_type": "code",
        "colab": {}
      },
      "cell_type": "code",
      "source": [
        "df.timestamp = pd.to_datetime(df.timestamp)"
      ],
      "execution_count": 0,
      "outputs": []
    },
    {
      "metadata": {
        "id": "mg1xktb6UxsM",
        "colab_type": "text"
      },
      "cell_type": "markdown",
      "source": [
        "Use timestamp as the index, and look at day from the last day:"
      ]
    },
    {
      "metadata": {
        "id": "3NphHQrb7Fv4",
        "colab_type": "code",
        "colab": {}
      },
      "cell_type": "code",
      "source": [
        "df = df.set_index('timestamp')"
      ],
      "execution_count": 0,
      "outputs": []
    },
    {
      "metadata": {
        "id": "vA-YbkvPU9bO",
        "colab_type": "text"
      },
      "cell_type": "markdown",
      "source": [
        "Even when I'm filtering to just the last date, there's still a lot of data here. Maybe the web scraper is hitting this repeatedly?\n",
        "\n",
        "I still want to verify, is this only one movie? I'll look at `links` and `category`"
      ]
    },
    {
      "metadata": {
        "id": "ZSF9RWKq74Zl",
        "colab_type": "code",
        "colab": {
          "base_uri": "https://localhost:8080/",
          "height": 357
        },
        "outputId": "15f6e14b-223d-4d22-e452-689bff0cc619"
      },
      "cell_type": "code",
      "source": [
        "df.category.value_counts()"
      ],
      "execution_count": 16,
      "outputs": [
        {
          "output_type": "execute_result",
          "data": {
            "text/plain": [
              "Non-US users          4216\n",
              "IMDb staff            4216\n",
              "Females Aged 30-44    4216\n",
              "Males Aged 45+        4216\n",
              "US users              4216\n",
              "Top 1000 voters       4216\n",
              "Aged 30-44            4216\n",
              "Males under 18        4216\n",
              "Males Aged 30-44      4216\n",
              "Males Aged 18-29      4216\n",
              "Aged under 18         4216\n",
              "Females Aged 45+      4216\n",
              "Aged 18-29            4216\n",
              "IMDb users            4216\n",
              "Males                 4216\n",
              "Females Aged 18-29    4216\n",
              "Females               4216\n",
              "Aged 45+              4216\n",
              "Females under 18      4165\n",
              "Name: category, dtype: int64"
            ]
          },
          "metadata": {
            "tags": []
          },
          "execution_count": 16
        }
      ]
    },
    {
      "metadata": {
        "id": "aoD_Tu7aWtkH",
        "colab_type": "text"
      },
      "cell_type": "markdown",
      "source": [
        "We want total votes, so it looks like the right category is all `'IMDb users'`"
      ]
    },
    {
      "metadata": {
        "id": "l_pNQ5VLVLje",
        "colab_type": "text"
      },
      "cell_type": "markdown",
      "source": [
        "The data appears to only be ratings for this one movie.\n",
        "\n",
        "And it looks like it is cumulative, so I shouldn't have to add anything up. I can just take the last timestamp. But I want to be sure. So I just look at the last day, and plot the number of respondents. It always goes up — \"increasing monotonically.\" This verifies that the vote counts are cumulative."
      ]
    },
    {
      "metadata": {
        "id": "A2GipXpz84EB",
        "colab_type": "code",
        "colab": {}
      },
      "cell_type": "code",
      "source": [
        "lastday = df['2017-08-29']"
      ],
      "execution_count": 0,
      "outputs": []
    },
    {
      "metadata": {
        "id": "XEtu4l9n9N6f",
        "colab_type": "code",
        "outputId": "e3f33c85-42f4-4cef-8d6d-06e766bfe4b4",
        "colab": {
          "base_uri": "https://localhost:8080/",
          "height": 281
        }
      },
      "cell_type": "code",
      "source": [
        "lastday[lastday.category=='IMDb users'].respondents.plot();"
      ],
      "execution_count": 19,
      "outputs": [
        {
          "output_type": "display_data",
          "data": {
            "image/png": "[encoded data removed]",
            "text/plain": [
              "<Figure size 432x288 with 1 Axes>"
            ]
          },
          "metadata": {
            "tags": []
          }
        }
      ]
    },
    {
      "metadata": {
        "id": "__yKue-lVnto",
        "colab_type": "text"
      },
      "cell_type": "markdown",
      "source": [
        "So this is the data we want!"
      ]
    },
    {
      "metadata": {
        "id": "RiNFrkL292ag",
        "colab_type": "code",
        "colab": {}
      },
      "cell_type": "code",
      "source": [
        "final = df.tail(1)"
      ],
      "execution_count": 0,
      "outputs": []
    },
    {
      "metadata": {
        "id": "1XfsWoXp94gh",
        "colab_type": "code",
        "colab": {
          "base_uri": "https://localhost:8080/",
          "height": 111
        },
        "outputId": "8b612d5e-f92e-48ad-86c5-1dbe6e78d1b2"
      },
      "cell_type": "code",
      "source": [
        "columns = [str(i) + '_pct' for i in range(1,11)]\n",
        "#final[columns]"
      ],
      "execution_count": 21,
      "outputs": [
        {
          "output_type": "execute_result",
          "data": {
            "text/html": [
              "<div>\n",
              "<style scoped>\n",
              "    .dataframe tbody tr th:only-of-type {\n",
              "        vertical-align: middle;\n",
              "    }\n",
              "\n",
              "    .dataframe tbody tr th {\n",
              "        vertical-align: top;\n",
              "    }\n",
              "\n",
              "    .dataframe thead th {\n",
              "        text-align: right;\n",
              "    }\n",
              "</style>\n",
              "<table border=\"1\" class=\"dataframe\">\n",
              "  <thead>\n",
              "    <tr style=\"text-align: right;\">\n",
              "      <th></th>\n",
              "      <th>1_pct</th>\n",
              "      <th>2_pct</th>\n",
              "      <th>3_pct</th>\n",
              "      <th>4_pct</th>\n",
              "      <th>5_pct</th>\n",
              "      <th>6_pct</th>\n",
              "      <th>7_pct</th>\n",
              "      <th>8_pct</th>\n",
              "      <th>9_pct</th>\n",
              "      <th>10_pct</th>\n",
              "    </tr>\n",
              "    <tr>\n",
              "      <th>timestamp</th>\n",
              "      <th></th>\n",
              "      <th></th>\n",
              "      <th></th>\n",
              "      <th></th>\n",
              "      <th></th>\n",
              "      <th></th>\n",
              "      <th></th>\n",
              "      <th></th>\n",
              "      <th></th>\n",
              "      <th></th>\n",
              "    </tr>\n",
              "  </thead>\n",
              "  <tbody>\n",
              "    <tr>\n",
              "      <th>2017-08-29 23:10:06.218251</th>\n",
              "      <td>38.4</td>\n",
              "      <td>2.6</td>\n",
              "      <td>1.4</td>\n",
              "      <td>0.9</td>\n",
              "      <td>2.1</td>\n",
              "      <td>4.1</td>\n",
              "      <td>5.8</td>\n",
              "      <td>5.5</td>\n",
              "      <td>5.5</td>\n",
              "      <td>33.7</td>\n",
              "    </tr>\n",
              "  </tbody>\n",
              "</table>\n",
              "</div>"
            ],
            "text/plain": [
              "                            1_pct  2_pct  3_pct  4_pct  5_pct  6_pct  7_pct  \\\n",
              "timestamp                                                                     \n",
              "2017-08-29 23:10:06.218251   38.4    2.6    1.4    0.9    2.1    4.1    5.8   \n",
              "\n",
              "                            8_pct  9_pct  10_pct  \n",
              "timestamp                                         \n",
              "2017-08-29 23:10:06.218251    5.5    5.5    33.7  "
            ]
          },
          "metadata": {
            "tags": []
          },
          "execution_count": 21
        }
      ]
    },
    {
      "metadata": {
        "id": "tVkwo9QF8-Ja",
        "colab_type": "text"
      },
      "cell_type": "markdown",
      "source": [
        "When we transpose, it looks like the format we want, from the first \"mockup\" with fake data"
      ]
    },
    {
      "metadata": {
        "id": "XatWCyjD8_W6",
        "colab_type": "code",
        "colab": {}
      },
      "cell_type": "code",
      "source": [
        "data = final[columns].T"
      ],
      "execution_count": 0,
      "outputs": []
    },
    {
      "metadata": {
        "id": "K6C-i8X9V2W8",
        "colab_type": "text"
      },
      "cell_type": "markdown",
      "source": [
        "When we plot it, we get a bar chart with the correct bar heights, from real world data.\n",
        "\n",
        "Out of 2 million data points, we found the 10 we need to reproduce the particular chart. It might have seemed difficult, but we did it with no documentation on the data other than one sentence on GitHub. And we did exploratory data analysis to verify that our assumptions were correct: that we were using the correct data and interpreting it correctly."
      ]
    },
    {
      "metadata": {
        "id": "ZO3HedAbVzwl",
        "colab_type": "code",
        "outputId": "e15880aa-72a2-4998-e2e0-328376e45819",
        "colab": {
          "base_uri": "https://localhost:8080/",
          "height": 304
        }
      },
      "cell_type": "code",
      "source": [
        "data.plot.bar();"
      ],
      "execution_count": 26,
      "outputs": [
        {
          "output_type": "display_data",
          "data": {
            "image/png": "[encoded data removed]",
            "text/plain": [
              "<Figure size 432x288 with 1 Axes>"
            ]
          },
          "metadata": {
            "tags": []
          }
        }
      ]
    },
    {
      "metadata": {
        "id": "HObTUIpzWJm_",
        "colab_type": "text"
      },
      "cell_type": "markdown",
      "source": [
        "Then we just copy & paste our code from before, to add the annotations, plus a few details:"
      ]
    },
    {
      "metadata": {
        "id": "5qjY63HL_Z89",
        "colab_type": "code",
        "colab": {}
      },
      "cell_type": "code",
      "source": [
        "data.index = range(1, 11)"
      ],
      "execution_count": 0,
      "outputs": []
    },
    {
      "metadata": {
        "id": "1Gsat6lg-m8M",
        "colab_type": "code",
        "outputId": "f70cc118-7956-4565-a51b-931237f5a259",
        "colab": {
          "base_uri": "https://localhost:8080/",
          "height": 328
        }
      },
      "cell_type": "code",
      "source": [
        "plt.style.use('fivethirtyeight')\n",
        "\n",
        "ax = data.plot.bar(color='C1', width=0.9, legend=False);\n",
        "\n",
        "ax.tick_params(labelrotation=0)\n",
        "\n",
        "ax.text(x=-1, y=43, s='\"An Inconvenient Sequel: Truth To Power\" is divisive',\n",
        "        fontsize=16, fontweight=\"heavy\")\n",
        "ax.text(x=1.5, y=40, s=\"IMDB Ratings as of August 29th\")\n",
        "\n",
        "ax.set(xlabel=\"Rating\",\n",
        "       ylabel=\"Percent of total votes\",\n",
        "       yticks=range(0, 50, 10));"
      ],
      "execution_count": 29,
      "outputs": [
        {
          "output_type": "display_data",
          "data": {
            "image/png": "[encoded data removed]",
            "text/plain": [
              "<Figure size 432x288 with 1 Axes>"
            ]
          },
          "metadata": {
            "tags": []
          }
        }
      ]
    },
    {
      "metadata": {
        "id": "NMEswXWh9mqw",
        "colab_type": "text"
      },
      "cell_type": "markdown",
      "source": [
        "# ASSIGNMENT\n",
        "\n",
        "Replicate the lesson code. I recommend that you [do not copy-paste](https://docs.google.com/document/d/1ubOw9B3Hfip27hF2ZFnW3a3z9xAgrUDRReOEo-FHCVs/edit).\n",
        "\n",
        "# STRETCH OPTIONS\n",
        "\n",
        "#### Reproduce another example from [FiveThityEight's shared data repository](https://data.fivethirtyeight.com/).\n",
        "\n",
        "If you aren't sure what to choose, try:\n",
        "- the chart titled [\"Men dominated Al Gore's IMDb movie rating\"](https://fivethirtyeight.com/features/al-gores-new-movie-exposes-the-big-flaw-in-online-movie-ratings/)\n",
        "- or the tutorial, [How to Generate FiveThirtyEight Graphs in Python](https://www.dataquest.io/blog/making-538-plots/)\n",
        "\n",
        "Other options include:\n",
        "- [thanksgiving-2015](https://fivethirtyeight.com/features/heres-what-your-part-of-america-eats-on-thanksgiving/) (try the [`altair`](https://altair-viz.github.io/gallery/index.html#maps) library)\n",
        "- [candy-power-ranking](https://fivethirtyeight.com/features/the-ultimate-halloween-candy-power-ranking/) (try the [`statsmodels`](https://www.statsmodels.org/stable/index.html) library)\n",
        "- or another example of your choice!\n",
        "\n",
        "#### Make more charts!\n",
        "\n",
        "Choose a chart you want to make, from [FT's Visual Vocabulary poster](http://ft.com/vocabulary).\n",
        "\n",
        "Find the chart in an example gallery of a Python data visualization library:\n",
        "- [Seaborn](http://seaborn.pydata.org/examples/index.html)\n",
        "- [Altair](https://altair-viz.github.io/gallery/index.html)\n",
        "- [Matplotlib](https://matplotlib.org/gallery.html)\n",
        "- [Pandas](https://pandas.pydata.org/pandas-docs/stable/visualization.html)\n",
        "\n",
        "Reproduce the chart. [Optionally, try the \"Ben Franklin Method.\"](https://docs.google.com/document/d/1ubOw9B3Hfip27hF2ZFnW3a3z9xAgrUDRReOEo-FHCVs/edit) If you want, experiment and make changes.\n",
        "\n",
        "Take notes. Consider sharing your work with your cohort!\n",
        "\n",
        "\n",
        "\n",
        "\n",
        "\n",
        "\n",
        "\n"
      ]
    },
    {
      "metadata": {
        "id": "OCMbAOWfCN1z",
        "colab_type": "code",
        "colab": {
          "base_uri": "https://localhost:8080/",
          "height": 506
        },
        "outputId": "b54a0067-5f46-42e4-e495-fe92820bba53"
      },
      "cell_type": "code",
      "source": [
        "import altair as alt\n",
        "from vega_datasets import data\n",
        "\n",
        "source = data.population.url\n",
        "\n",
        "slider = alt.binding_range(min=1850, max=2000, step=10)\n",
        "select_year = alt.selection_single(name='year', fields=['year'], bind=slider)\n",
        "\n",
        "base = alt.Chart(source).add_selection(\n",
        "    select_year\n",
        ").transform_filter(\n",
        "    select_year\n",
        ").transform_calculate(\n",
        "    gender=alt.expr.if_(alt.datum.sex == 1, 'Male', 'Female')\n",
        ")\n",
        "\n",
        "title = alt.Axis(title='population')\n",
        "color_scale = alt.Scale(domain=['Male', 'Female'],\n",
        "                        range=['#1f77b4', '#e377c2'])\n",
        "\n",
        "left = base.transform_filter(\n",
        "    alt.datum.gender == 'Female'\n",
        ").encode(\n",
        "    y=alt.X('age:O', axis=None),\n",
        "    x=alt.X('sum(people):Q', axis=title, sort=alt.SortOrder('descending')),\n",
        "    color=alt.Color('gender:N', scale=color_scale, legend=None)\n",
        ").mark_bar().properties(title='Female')\n",
        "\n",
        "middle = base.encode(\n",
        "    y=alt.X('age:O', axis=None),\n",
        "    text=alt.Text('age:Q'),\n",
        ").mark_text().properties(width=20)\n",
        "\n",
        "right = base.transform_filter(\n",
        "    alt.datum.gender == 'Male'\n",
        ").encode(\n",
        "    y=alt.X('age:O', axis=None),\n",
        "    x=alt.X('sum(people):Q', axis=title),\n",
        "    color=alt.Color('gender:N', scale=color_scale, legend=None)\n",
        ").mark_bar().properties(title='Male')\n",
        "\n",
        "left | middle | right"
      ],
      "execution_count": 30,
      "outputs": [
        {
          "output_type": "execute_result",
          "data": {
            "text/plain": [
              "HConcatChart({\n",
              "  hconcat: [Chart({\n",
              "    data: 'https://vega.github.io/vega-datasets/data/population.json',\n",
              "    encoding: EncodingWithFacet({\n",
              "      color: Color({\n",
              "        legend: None,\n",
              "        scale: Scale({\n",
              "          domain: ['Male', 'Female'],\n",
              "          range: ['#1f77b4', '#e377c2']\n",
              "        }),\n",
              "        shorthand: 'gender:N'\n",
              "      }),\n",
              "      x: X({\n",
              "        axis: Axis({\n",
              "          title: 'population'\n",
              "        }),\n",
              "        shorthand: 'sum(people):Q',\n",
              "        sort: SortOrder('descending')\n",
              "      }),\n",
              "      y: X({\n",
              "        axis: None,\n",
              "        shorthand: 'age:O'\n",
              "      })\n",
              "    }),\n",
              "    mark: 'bar',\n",
              "    selection: SelectionMapping({\n",
              "      year: SelectionDef({\n",
              "        bind: VgRangeBinding({\n",
              "          input: 'range',\n",
              "          max: 2000,\n",
              "          min: 1850,\n",
              "          step: 10\n",
              "        }),\n",
              "        fields: ['year'],\n",
              "        type: 'single'\n",
              "      })\n",
              "    }),\n",
              "    title: 'Female',\n",
              "    transform: [FilterTransform({\n",
              "      filter: {'selection': 'year'}\n",
              "    }), CalculateTransform({\n",
              "      as: 'gender',\n",
              "      calculate: if((datum.sex === 1),'Male','Female')\n",
              "    }), FilterTransform({\n",
              "      filter: (datum.gender === 'Female')\n",
              "    })]\n",
              "  }), Chart({\n",
              "    data: 'https://vega.github.io/vega-datasets/data/population.json',\n",
              "    encoding: EncodingWithFacet({\n",
              "      text: Text({\n",
              "        shorthand: 'age:Q'\n",
              "      }),\n",
              "      y: X({\n",
              "        axis: None,\n",
              "        shorthand: 'age:O'\n",
              "      })\n",
              "    }),\n",
              "    mark: 'text',\n",
              "    selection: SelectionMapping({\n",
              "      year: SelectionDef({\n",
              "        bind: VgRangeBinding({\n",
              "          input: 'range',\n",
              "          max: 2000,\n",
              "          min: 1850,\n",
              "          step: 10\n",
              "        }),\n",
              "        fields: ['year'],\n",
              "        type: 'single'\n",
              "      })\n",
              "    }),\n",
              "    transform: [FilterTransform({\n",
              "      filter: {'selection': 'year'}\n",
              "    }), CalculateTransform({\n",
              "      as: 'gender',\n",
              "      calculate: if((datum.sex === 1),'Male','Female')\n",
              "    })],\n",
              "    width: 20\n",
              "  }), Chart({\n",
              "    data: 'https://vega.github.io/vega-datasets/data/population.json',\n",
              "    encoding: EncodingWithFacet({\n",
              "      color: Color({\n",
              "        legend: None,\n",
              "        scale: Scale({\n",
              "          domain: ['Male', 'Female'],\n",
              "          range: ['#1f77b4', '#e377c2']\n",
              "        }),\n",
              "        shorthand: 'gender:N'\n",
              "      }),\n",
              "      x: X({\n",
              "        axis: Axis({\n",
              "          title: 'population'\n",
              "        }),\n",
              "        shorthand: 'sum(people):Q'\n",
              "      }),\n",
              "      y: X({\n",
              "        axis: None,\n",
              "        shorthand: 'age:O'\n",
              "      })\n",
              "    }),\n",
              "    mark: 'bar',\n",
              "    selection: SelectionMapping({\n",
              "      year: SelectionDef({\n",
              "        bind: VgRangeBinding({\n",
              "          input: 'range',\n",
              "          max: 2000,\n",
              "          min: 1850,\n",
              "          step: 10\n",
              "        }),\n",
              "        fields: ['year'],\n",
              "        type: 'single'\n",
              "      })\n",
              "    }),\n",
              "    title: 'Male',\n",
              "    transform: [FilterTransform({\n",
              "      filter: {'selection': 'year'}\n",
              "    }), CalculateTransform({\n",
              "      as: 'gender',\n",
              "      calculate: if((datum.sex === 1),'Male','Female')\n",
              "    }), FilterTransform({\n",
              "      filter: (datum.gender === 'Male')\n",
              "    })]\n",
              "  })]\n",
              "})"
            ],
            "text/html": [
              "<!DOCTYPE html>\n",
              "<html>\n",
              "<head>\n",
              "  <style>\n",
              "    .vega-actions a {\n",
              "        margin-right: 12px;\n",
              "        color: #757575;\n",
              "        font-weight: normal;\n",
              "        font-size: 13px;\n",
              "    }\n",
              "    .error {\n",
              "        color: red;\n",
              "    }\n",
              "  </style>\n",
              "  <script type=\"text/javascript\" src=\"https://cdn.jsdelivr.net/npm//vega@4\"></script>\n",
              "  <script type=\"text/javascript\" src=\"https://cdn.jsdelivr.net/npm//vega-lite@2.6.0\"></script>\n",
              "  <script type=\"text/javascript\" src=\"https://cdn.jsdelivr.net/npm//vega-embed@3\"></script>\n",
              "</head>\n",
              "<body>\n",
              "  <div id=\"altair-viz\"></div>\n",
              "  <script>\n",
              "      var spec = {\"config\": {\"view\": {\"width\": 400, \"height\": 300}}, \"hconcat\": [{\"data\": {\"url\": \"https://vega.github.io/vega-datasets/data/population.json\"}, \"mark\": \"bar\", \"encoding\": {\"color\": {\"type\": \"nominal\", \"field\": \"gender\", \"legend\": null, \"scale\": {\"domain\": [\"Male\", \"Female\"], \"range\": [\"#1f77b4\", \"#e377c2\"]}}, \"x\": {\"type\": \"quantitative\", \"aggregate\": \"sum\", \"axis\": {\"title\": \"population\"}, \"field\": \"people\", \"sort\": \"descending\"}, \"y\": {\"type\": \"ordinal\", \"axis\": null, \"field\": \"age\"}}, \"selection\": {\"year\": {\"type\": \"single\", \"fields\": [\"year\"], \"bind\": {\"input\": \"range\", \"max\": 2000, \"min\": 1850, \"step\": 10}}}, \"title\": \"Female\", \"transform\": [{\"filter\": {\"selection\": \"year\"}}, {\"calculate\": \"if((datum.sex === 1),'Male','Female')\", \"as\": \"gender\"}, {\"filter\": \"(datum.gender === 'Female')\"}]}, {\"data\": {\"url\": \"https://vega.github.io/vega-datasets/data/population.json\"}, \"mark\": \"text\", \"encoding\": {\"text\": {\"type\": \"quantitative\", \"field\": \"age\"}, \"y\": {\"type\": \"ordinal\", \"axis\": null, \"field\": \"age\"}}, \"selection\": {\"year\": {\"type\": \"single\", \"fields\": [\"year\"], \"bind\": {\"input\": \"range\", \"max\": 2000, \"min\": 1850, \"step\": 10}}}, \"transform\": [{\"filter\": {\"selection\": \"year\"}}, {\"calculate\": \"if((datum.sex === 1),'Male','Female')\", \"as\": \"gender\"}], \"width\": 20}, {\"data\": {\"url\": \"https://vega.github.io/vega-datasets/data/population.json\"}, \"mark\": \"bar\", \"encoding\": {\"color\": {\"type\": \"nominal\", \"field\": \"gender\", \"legend\": null, \"scale\": {\"domain\": [\"Male\", \"Female\"], \"range\": [\"#1f77b4\", \"#e377c2\"]}}, \"x\": {\"type\": \"quantitative\", \"aggregate\": \"sum\", \"axis\": {\"title\": \"population\"}, \"field\": \"people\"}, \"y\": {\"type\": \"ordinal\", \"axis\": null, \"field\": \"age\"}}, \"selection\": {\"year\": {\"type\": \"single\", \"fields\": [\"year\"], \"bind\": {\"input\": \"range\", \"max\": 2000, \"min\": 1850, \"step\": 10}}}, \"title\": \"Male\", \"transform\": [{\"filter\": {\"selection\": \"year\"}}, {\"calculate\": \"if((datum.sex === 1),'Male','Female')\", \"as\": \"gender\"}, {\"filter\": \"(datum.gender === 'Male')\"}]}], \"$schema\": \"https://vega.github.io/schema/vega-lite/v2.6.0.json\"};\n",
              "      var embedOpt = {\"mode\": \"vega-lite\"};\n",
              "\n",
              "      function showError(el, error){\n",
              "          el.innerHTML = ('<div class=\"error\" style=\"color:red;\">'\n",
              "                          + '<p>JavaScript Error: ' + error.message + '</p>'\n",
              "                          + \"<p>This usually means there's a typo in your chart specification. \"\n",
              "                          + \"See the javascript console for the full traceback.</p>\"\n",
              "                          + '</div>');\n",
              "          throw error;\n",
              "      }\n",
              "      const el = document.getElementById('altair-viz');\n",
              "      vegaEmbed(\"#altair-viz\", spec, embedOpt)\n",
              "        .catch(error => showError(el, error));\n",
              "\n",
              "  </script>\n",
              "</body>\n",
              "</html>"
            ]
          },
          "metadata": {
            "tags": []
          },
          "execution_count": 30
        }
      ]
    }
  ]
}
