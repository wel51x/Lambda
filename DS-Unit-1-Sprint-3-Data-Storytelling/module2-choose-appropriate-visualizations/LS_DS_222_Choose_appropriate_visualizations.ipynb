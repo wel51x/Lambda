{
  "nbformat": 4,
  "nbformat_minor": 0,
  "metadata": {
    "colab": {
      "name": "LS_DS_222_Choose_appropriate_visualizations.ipynb",
      "version": "0.3.2",
      "provenance": [],
      "collapsed_sections": [
        "Cn-xMBPcljbc"
      ]
    },
    "kernelspec": {
      "display_name": "Python 3",
      "language": "python",
      "name": "python3"
    }
  },
  "cells": [
    {
      "metadata": {
        "colab_type": "text",
        "id": "1nwMfulDljaS"
      },
      "cell_type": "markdown",
      "source": [
        "_Lambda School Data Science_\n",
        "# Choose appropriate visualizations\n",
        "\n",
        "Objectives\n",
        "- fix misleading visualizations\n",
        "- use Seaborn to visualize distributions and relationships with continuous and discrete variables\n",
        "\n",
        "Links\n",
        "- [How to Spot Visualization Lies](https://flowingdata.com/2017/02/09/how-to-spot-visualization-lies/)\n",
        "- [Financial Times Visual Vocabulary poster](http://ft.com/vocabulary)\n",
        "- [Choosing a Python Visualization Tool flowchart](http://pbpython.com/python-vis-flowchart.html)\n",
        "- [Searborn example gallery](http://seaborn.pydata.org/examples/index.html) & [tutorial](http://seaborn.pydata.org/tutorial.html)\n"
      ]
    },
    {
      "metadata": {
        "colab_type": "text",
        "id": "yp50E_pnljaV"
      },
      "cell_type": "markdown",
      "source": [
        "# Upgrade Seaborn\n",
        "\n",
        "Make sure you have at least version 0.9.0.\n",
        "\n",
        "On Colab, go to **Restart runtime** after you run the `pip` command."
      ]
    },
    {
      "metadata": {
        "colab_type": "code",
        "id": "MJAy4kPfljaV",
        "colab": {}
      },
      "cell_type": "code",
      "source": [
        "!pip install --upgrade seaborn"
      ],
      "execution_count": 0,
      "outputs": []
    },
    {
      "metadata": {
        "colab_type": "code",
        "id": "fXZFXHccljaZ",
        "colab": {}
      },
      "cell_type": "code",
      "source": [
        "import seaborn as sns\n",
        "sns.__version__"
      ],
      "execution_count": 0,
      "outputs": []
    },
    {
      "metadata": {
        "colab_type": "text",
        "id": "Md1lMTx1ljab"
      },
      "cell_type": "markdown",
      "source": [
        "# Fix misleading visualizations"
      ]
    },
    {
      "metadata": {
        "colab_type": "code",
        "id": "5kTa_5Lnljac",
        "colab": {}
      },
      "cell_type": "code",
      "source": [
        "%matplotlib inline\n",
        "import matplotlib.pyplot as plt\n",
        "import numpy as np\n",
        "import pandas as pd"
      ],
      "execution_count": 0,
      "outputs": []
    },
    {
      "metadata": {
        "colab_type": "code",
        "id": "FkXJKBMOljae",
        "colab": {}
      },
      "cell_type": "code",
      "source": [
        "!wget https://raw.githubusercontent.com/LambdaSchool/DS-Unit-1-Sprint-3-Data-Storytelling/master/module2-choose-appropriate-visualizations/misleading.py\n",
        "    \n",
        "import misleading"
      ],
      "execution_count": 0,
      "outputs": []
    },
    {
      "metadata": {
        "colab_type": "text",
        "id": "CBe1A0IJljag"
      },
      "cell_type": "markdown",
      "source": [
        "### Fix misleading plot #1"
      ]
    },
    {
      "metadata": {
        "colab_type": "code",
        "id": "nSkHZKmRljah",
        "colab": {}
      },
      "cell_type": "code",
      "source": [
        "misleading.plot1();"
      ],
      "execution_count": 0,
      "outputs": []
    },
    {
      "metadata": {
        "colab_type": "text",
        "id": "6RB2pFjQljal"
      },
      "cell_type": "markdown",
      "source": [
        "### Fix misleading plot #2"
      ]
    },
    {
      "metadata": {
        "colab_type": "code",
        "id": "PAjwPf8vljam",
        "colab": {}
      },
      "cell_type": "code",
      "source": [
        "misleading.plot2();"
      ],
      "execution_count": 0,
      "outputs": []
    },
    {
      "metadata": {
        "colab_type": "text",
        "id": "6FISiBH3ljaw"
      },
      "cell_type": "markdown",
      "source": [
        "## Fix misleading plot #3"
      ]
    },
    {
      "metadata": {
        "colab_type": "text",
        "id": "Dwcc8Jylljax"
      },
      "cell_type": "markdown",
      "source": [
        "_If you're on Jupyter (not Colab) then uncomment and run this cell below:_"
      ]
    },
    {
      "metadata": {
        "colab_type": "code",
        "id": "TaSuwairljax",
        "colab": {}
      },
      "cell_type": "code",
      "source": [
        "# import altair as alt\n",
        "# alt.renderers.enable('notebook')"
      ],
      "execution_count": 0,
      "outputs": []
    },
    {
      "metadata": {
        "colab_type": "code",
        "id": "JMirz9RMljaz",
        "colab": {}
      },
      "cell_type": "code",
      "source": [
        "misleading.plot3()"
      ],
      "execution_count": 0,
      "outputs": []
    },
    {
      "metadata": {
        "colab_type": "text",
        "id": "7NfsPKUtlja3"
      },
      "cell_type": "markdown",
      "source": [
        "# Use Seaborn to visualize distributions and relationships with continuous and discrete variables"
      ]
    },
    {
      "metadata": {
        "colab_type": "text",
        "id": "DMX07pfHlja4"
      },
      "cell_type": "markdown",
      "source": [
        "## 1. Anscombe dataset"
      ]
    },
    {
      "metadata": {
        "colab_type": "text",
        "id": "ohuKP3Y2lja5"
      },
      "cell_type": "markdown",
      "source": [
        "### Load dataset"
      ]
    },
    {
      "metadata": {
        "colab_type": "code",
        "id": "lhNEdJTslja6",
        "colab": {}
      },
      "cell_type": "code",
      "source": [
        "df = sns.load_dataset('anscombe')"
      ],
      "execution_count": 0,
      "outputs": []
    },
    {
      "metadata": {
        "colab_type": "text",
        "id": "wGpkAGL9lja9"
      },
      "cell_type": "markdown",
      "source": [
        "### See the data's shape"
      ]
    },
    {
      "metadata": {
        "colab_type": "code",
        "id": "UJgOVrMdlja_",
        "colab": {}
      },
      "cell_type": "code",
      "source": [
        ""
      ],
      "execution_count": 0,
      "outputs": []
    },
    {
      "metadata": {
        "colab_type": "text",
        "id": "uwhNkUorljbC"
      },
      "cell_type": "markdown",
      "source": [
        "### See the data"
      ]
    },
    {
      "metadata": {
        "colab_type": "code",
        "id": "f6VT5CbUljbD",
        "colab": {}
      },
      "cell_type": "code",
      "source": [
        ""
      ],
      "execution_count": 0,
      "outputs": []
    },
    {
      "metadata": {
        "colab_type": "text",
        "id": "yxMSGXfmljbE"
      },
      "cell_type": "markdown",
      "source": [
        "### [Group by](https://pandas.pydata.org/pandas-docs/stable/generated/pandas.DataFrame.groupby.html) `'dataset'`"
      ]
    },
    {
      "metadata": {
        "colab_type": "code",
        "id": "Kqb2C6OnljbG",
        "colab": {}
      },
      "cell_type": "code",
      "source": [
        ""
      ],
      "execution_count": 0,
      "outputs": []
    },
    {
      "metadata": {
        "colab_type": "text",
        "id": "XE_VL_G5ljbI"
      },
      "cell_type": "markdown",
      "source": [
        "### [Describe](https://pandas.pydata.org/pandas-docs/stable/generated/pandas.DataFrame.describe.html) the groups"
      ]
    },
    {
      "metadata": {
        "colab_type": "code",
        "id": "3owo8EHvljbJ",
        "colab": {}
      },
      "cell_type": "code",
      "source": [
        ""
      ],
      "execution_count": 0,
      "outputs": []
    },
    {
      "metadata": {
        "colab_type": "text",
        "id": "VBjKXp0rljbK"
      },
      "cell_type": "markdown",
      "source": [
        "### Get the [count](https://pandas.pydata.org/pandas-docs/stable/generated/pandas.DataFrame.count.html), for each column in each group"
      ]
    },
    {
      "metadata": {
        "colab_type": "code",
        "id": "4ruK188dljbL",
        "colab": {}
      },
      "cell_type": "code",
      "source": [
        ""
      ],
      "execution_count": 0,
      "outputs": []
    },
    {
      "metadata": {
        "colab_type": "text",
        "id": "Ooh4iR8gljbN"
      },
      "cell_type": "markdown",
      "source": [
        "### Get the [mean](https://pandas.pydata.org/pandas-docs/stable/generated/pandas.DataFrame.mean.html) ..."
      ]
    },
    {
      "metadata": {
        "colab_type": "code",
        "id": "VHz1_kJNljbN",
        "colab": {}
      },
      "cell_type": "code",
      "source": [
        ""
      ],
      "execution_count": 0,
      "outputs": []
    },
    {
      "metadata": {
        "colab_type": "text",
        "id": "KDpAl2z8ljbQ"
      },
      "cell_type": "markdown",
      "source": [
        "### Get the [standard deviation](https://pandas.pydata.org/pandas-docs/stable/generated/pandas.DataFrame.std.html) ..."
      ]
    },
    {
      "metadata": {
        "colab_type": "code",
        "id": "H8sPCA70ljbQ",
        "colab": {}
      },
      "cell_type": "code",
      "source": [
        ""
      ],
      "execution_count": 0,
      "outputs": []
    },
    {
      "metadata": {
        "colab_type": "text",
        "id": "8_J0sQ3zljbS"
      },
      "cell_type": "markdown",
      "source": [
        "### Get the [correlation](https://pandas.pydata.org/pandas-docs/stable/generated/pandas.DataFrame.corr.html) ..."
      ]
    },
    {
      "metadata": {
        "colab_type": "code",
        "id": "oVaXOEutljbS",
        "colab": {}
      },
      "cell_type": "code",
      "source": [
        ""
      ],
      "execution_count": 0,
      "outputs": []
    },
    {
      "metadata": {
        "colab_type": "text",
        "id": "wev2eLSsljbU"
      },
      "cell_type": "markdown",
      "source": [
        "### Use pandas to [plot](https://pandas.pydata.org/pandas-docs/stable/generated/pandas.DataFrame.plot.html) the groups, as scatter plots"
      ]
    },
    {
      "metadata": {
        "colab_type": "code",
        "id": "OV8_BNakljbV",
        "colab": {}
      },
      "cell_type": "code",
      "source": [
        ""
      ],
      "execution_count": 0,
      "outputs": []
    },
    {
      "metadata": {
        "colab_type": "text",
        "id": "aIZK7t3QljbX"
      },
      "cell_type": "markdown",
      "source": [
        "### Use Seaborn to make [relational plots](http://seaborn.pydata.org/generated/seaborn.relplot.html)"
      ]
    },
    {
      "metadata": {
        "colab_type": "code",
        "id": "VYwZwT85tggM",
        "colab": {}
      },
      "cell_type": "code",
      "source": [
        ""
      ],
      "execution_count": 0,
      "outputs": []
    },
    {
      "metadata": {
        "colab_type": "text",
        "id": "7pC0xmYRljbZ"
      },
      "cell_type": "markdown",
      "source": [
        "### Use Seaborn to make [linear model plots](http://seaborn.pydata.org/generated/seaborn.lmplot.html)"
      ]
    },
    {
      "metadata": {
        "colab_type": "code",
        "id": "q0OUr1XytwG9",
        "colab": {}
      },
      "cell_type": "code",
      "source": [
        ""
      ],
      "execution_count": 0,
      "outputs": []
    },
    {
      "metadata": {
        "colab_type": "text",
        "id": "Cn-xMBPcljbc"
      },
      "cell_type": "markdown",
      "source": [
        "#### Links\n",
        "- [Seaborn examples: Anscombe's quartet](http://seaborn.pydata.org/examples/anscombes_quartet.html)\n",
        "- [Wikipedia: Anscombe's quartet](https://en.wikipedia.org/wiki/Anscombe%27s_quartet)\n",
        "- [The Datasaurus Dozen](https://www.autodeskresearch.com/publications/samestats)"
      ]
    },
    {
      "metadata": {
        "colab_type": "text",
        "id": "5vhSX9VJljbc"
      },
      "cell_type": "markdown",
      "source": [
        "## 2. Tips dataset"
      ]
    },
    {
      "metadata": {
        "colab_type": "text",
        "id": "tZrTgYtoljbc"
      },
      "cell_type": "markdown",
      "source": [
        "### Load dataset"
      ]
    },
    {
      "metadata": {
        "colab_type": "code",
        "id": "Ms3dbDMRljbd",
        "colab": {}
      },
      "cell_type": "code",
      "source": [
        "tips = sns.load_dataset('tips')"
      ],
      "execution_count": 0,
      "outputs": []
    },
    {
      "metadata": {
        "colab_type": "text",
        "id": "YsR7xrSVljbe"
      },
      "cell_type": "markdown",
      "source": [
        "### See the data's shape"
      ]
    },
    {
      "metadata": {
        "colab_type": "code",
        "id": "vkd17Tv7ljbf",
        "colab": {}
      },
      "cell_type": "code",
      "source": [
        ""
      ],
      "execution_count": 0,
      "outputs": []
    },
    {
      "metadata": {
        "colab_type": "text",
        "id": "gRlUBLZEljbg"
      },
      "cell_type": "markdown",
      "source": [
        "### See the first 5 rows"
      ]
    },
    {
      "metadata": {
        "colab_type": "code",
        "id": "tSi2F9ZHljbg",
        "colab": {}
      },
      "cell_type": "code",
      "source": [
        ""
      ],
      "execution_count": 0,
      "outputs": []
    },
    {
      "metadata": {
        "colab_type": "text",
        "id": "sdGGrpdsljbi"
      },
      "cell_type": "markdown",
      "source": [
        "### Describe the data"
      ]
    },
    {
      "metadata": {
        "colab_type": "code",
        "id": "NvwPj20Qljbi",
        "colab": {}
      },
      "cell_type": "code",
      "source": [
        ""
      ],
      "execution_count": 0,
      "outputs": []
    },
    {
      "metadata": {
        "colab_type": "text",
        "id": "TDoUKNB4ljbk"
      },
      "cell_type": "markdown",
      "source": [
        "### Make univariate [distribution plots](https://seaborn.pydata.org/generated/seaborn.distplot.html)"
      ]
    },
    {
      "metadata": {
        "id": "GL7qCnO1PRbM",
        "colab_type": "code",
        "colab": {}
      },
      "cell_type": "code",
      "source": [
        ""
      ],
      "execution_count": 0,
      "outputs": []
    },
    {
      "metadata": {
        "colab_type": "text",
        "id": "0N-6Munnljbm"
      },
      "cell_type": "markdown",
      "source": [
        "### Make bivariate [relational plots](https://seaborn.pydata.org/generated/seaborn.relplot.html)"
      ]
    },
    {
      "metadata": {
        "id": "AVWSHwa9PT1y",
        "colab_type": "code",
        "colab": {}
      },
      "cell_type": "code",
      "source": [
        ""
      ],
      "execution_count": 0,
      "outputs": []
    },
    {
      "metadata": {
        "colab_type": "text",
        "id": "7Ug5vyBlljbp"
      },
      "cell_type": "markdown",
      "source": [
        "### Make univariate [categorical plots](https://seaborn.pydata.org/generated/seaborn.catplot.html)"
      ]
    },
    {
      "metadata": {
        "id": "0FdkIBUjPWLg",
        "colab_type": "code",
        "colab": {}
      },
      "cell_type": "code",
      "source": [
        ""
      ],
      "execution_count": 0,
      "outputs": []
    },
    {
      "metadata": {
        "colab_type": "text",
        "id": "Ftchuwrgljbs"
      },
      "cell_type": "markdown",
      "source": [
        "### Make bivariate [categorical plots](https://seaborn.pydata.org/generated/seaborn.catplot.html)"
      ]
    },
    {
      "metadata": {
        "id": "yIGQcgB0PZnk",
        "colab_type": "code",
        "colab": {}
      },
      "cell_type": "code",
      "source": [
        ""
      ],
      "execution_count": 0,
      "outputs": []
    },
    {
      "metadata": {
        "colab_type": "text",
        "id": "FFWkWusYljbt"
      },
      "cell_type": "markdown",
      "source": [
        "## 3. Flights"
      ]
    },
    {
      "metadata": {
        "colab_type": "text",
        "id": "A9uGFj7fljbu"
      },
      "cell_type": "markdown",
      "source": [
        "### Load dataset"
      ]
    },
    {
      "metadata": {
        "colab_type": "code",
        "id": "x9Pd0h0_ljbu",
        "colab": {}
      },
      "cell_type": "code",
      "source": [
        "flights = sns.load_dataset('flights')"
      ],
      "execution_count": 0,
      "outputs": []
    },
    {
      "metadata": {
        "colab_type": "text",
        "id": "TqUSgAUcljbx"
      },
      "cell_type": "markdown",
      "source": [
        "### See the data's shape"
      ]
    },
    {
      "metadata": {
        "colab_type": "code",
        "id": "5WELCrPPljbx",
        "colab": {}
      },
      "cell_type": "code",
      "source": [
        ""
      ],
      "execution_count": 0,
      "outputs": []
    },
    {
      "metadata": {
        "colab_type": "text",
        "id": "47WxnyjCljby"
      },
      "cell_type": "markdown",
      "source": [
        "### See the first 5 rows"
      ]
    },
    {
      "metadata": {
        "colab_type": "code",
        "id": "xCREANeJljby",
        "colab": {}
      },
      "cell_type": "code",
      "source": [
        ""
      ],
      "execution_count": 0,
      "outputs": []
    },
    {
      "metadata": {
        "colab_type": "text",
        "id": "eUc_48wbljb0"
      },
      "cell_type": "markdown",
      "source": [
        "### Describe the data"
      ]
    },
    {
      "metadata": {
        "colab_type": "code",
        "id": "rA0xTMd7ljb0",
        "colab": {}
      },
      "cell_type": "code",
      "source": [
        ""
      ],
      "execution_count": 0,
      "outputs": []
    },
    {
      "metadata": {
        "colab_type": "text",
        "id": "Pwg0lL5Lljb2"
      },
      "cell_type": "markdown",
      "source": [
        "### Plot year & passengers"
      ]
    },
    {
      "metadata": {
        "colab_type": "code",
        "id": "o2reqC4Eljb2",
        "colab": {}
      },
      "cell_type": "code",
      "source": [
        ""
      ],
      "execution_count": 0,
      "outputs": []
    },
    {
      "metadata": {
        "colab_type": "text",
        "id": "g1TKShQ2ljb4"
      },
      "cell_type": "markdown",
      "source": [
        "### Plot month & passengers"
      ]
    },
    {
      "metadata": {
        "colab_type": "code",
        "id": "Le0Tc5SDwoHk",
        "colab": {}
      },
      "cell_type": "code",
      "source": [
        ""
      ],
      "execution_count": 0,
      "outputs": []
    },
    {
      "metadata": {
        "colab_type": "text",
        "id": "Fh9lCwC-ljb6"
      },
      "cell_type": "markdown",
      "source": [
        "### Create a [pivot table](https://pandas.pydata.org/pandas-docs/stable/generated/pandas.DataFrame.pivot_table.html) of passengers by month and year"
      ]
    },
    {
      "metadata": {
        "colab_type": "code",
        "id": "JJrQbsXxljb6",
        "colab": {}
      },
      "cell_type": "code",
      "source": [
        ""
      ],
      "execution_count": 0,
      "outputs": []
    },
    {
      "metadata": {
        "colab_type": "text",
        "id": "MRast1t4ljb7"
      },
      "cell_type": "markdown",
      "source": [
        "### Plot the pivot table as a [heat map](https://seaborn.pydata.org/generated/seaborn.heatmap.html)"
      ]
    },
    {
      "metadata": {
        "colab_type": "code",
        "id": "nLGYX_5Bljb9",
        "colab": {}
      },
      "cell_type": "code",
      "source": [
        ""
      ],
      "execution_count": 0,
      "outputs": []
    },
    {
      "metadata": {
        "id": "xmEaapURMyKZ",
        "colab_type": "text"
      },
      "cell_type": "markdown",
      "source": [
        "# ASSIGNMENT\n",
        "\n",
        "### 1.\n",
        "\n",
        "Replicate the lesson code. I recommend that you [do not copy-paste](https://docs.google.com/document/d/1ubOw9B3Hfip27hF2ZFnW3a3z9xAgrUDRReOEo-FHCVs/edit).\n",
        "\n",
        "### 2.\n",
        "\n",
        "Choose a chart you want to make, from [FT's Visual Vocabulary poster](http://ft.com/vocabulary).\n",
        "\n",
        "Find the chart in an example gallery of a Python data visualization library:\n",
        "- [Seaborn](http://seaborn.pydata.org/examples/index.html)\n",
        "- [Altair](https://altair-viz.github.io/gallery/index.html)\n",
        "- [Matplotlib](https://matplotlib.org/gallery.html)\n",
        "- [Pandas](https://pandas.pydata.org/pandas-docs/stable/visualization.html)\n",
        "\n",
        "Reproduce the chart. [Optionally, try the \"Ben Franklin Method.\"](https://docs.google.com/document/d/1ubOw9B3Hfip27hF2ZFnW3a3z9xAgrUDRReOEo-FHCVs/edit) If you want, experiment and make changes.\n",
        "\n",
        "Take notes. Consider sharing your work with your cohort!\n"
      ]
    }
  ]
}
