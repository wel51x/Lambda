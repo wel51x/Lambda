{
 "cells": [
  {
   "cell_type": "markdown",
   "metadata": {},
   "source": [
    "_Lambda School Data Science — Big Data_\n",
    "\n",
    "# AWS SageMaker\n",
    "\n",
    "### Links\n",
    "\n",
    "#### AWS\n",
    "- The Open Guide to Amazon Web Services: EC2 Basics _(just this one short section!)_ https://github.com/open-guides/og-aws#ec2-basics\n",
    "- AWS in Plain English https://www.expeditedssl.com/aws-in-plain-english\n",
    "- Amazon SageMaker » Create an Amazon SageMaker Notebook Instance https://docs.aws.amazon.com/sagemaker/latest/dg/gs-setup-working-env.html\n",
    "- Amazon SageMaker » Install External Libraries https://docs.aws.amazon.com/sagemaker/latest/dg/nbi-add-external.html\n",
    "\n",
    "#### Dask\n",
    "- Why Dask? https://docs.dask.org/en/latest/why.html\n",
    "- Use Cases https://docs.dask.org/en/latest/use-cases.html\n",
    "- User Interfaces https://docs.dask.org/en/latest/user-interfaces.html\n",
    "\n",
    "#### Numba\n",
    "- A ~5 minute guide http://numba.pydata.org/numba-doc/latest/user/5minguide.html"
   ]
  },
  {
   "cell_type": "markdown",
   "metadata": {},
   "source": [
    "## 1. Estimate pi\n",
    "https://en.wikipedia.org/wiki/Approximations_of_π#Summing_a_circle's_area"
   ]
  },
  {
   "cell_type": "markdown",
   "metadata": {},
   "source": [
    "### With plain Python"
   ]
  },
  {
   "cell_type": "code",
   "execution_count": 1,
   "metadata": {},
   "outputs": [],
   "source": [
    "import random\n",
    "\n",
    "def monte_carlo_pi(nsamples):\n",
    "    acc = 0\n",
    "    for _ in range(int(nsamples)):\n",
    "        x = random.random()\n",
    "        y = random.random()\n",
    "        if (x**2 + y**2) < 1.0:\n",
    "            acc += 1\n",
    "    return 4.0 * acc / nsamples"
   ]
  },
  {
   "cell_type": "code",
   "execution_count": 3,
   "metadata": {},
   "outputs": [
    {
     "name": "stdout",
     "output_type": "stream",
     "text": [
      "CPU times: user 4.26 s, sys: 0 ns, total: 4.26 s\n",
      "Wall time: 4.26 s\n"
     ]
    },
    {
     "data": {
      "text/plain": [
       "3.1419836"
      ]
     },
     "execution_count": 3,
     "metadata": {},
     "output_type": "execute_result"
    }
   ],
   "source": [
    "%%time\n",
    "monte_carlo_pi(1e7)"
   ]
  },
  {
   "cell_type": "markdown",
   "metadata": {},
   "source": [
    "### With Numba\n",
    "http://numba.pydata.org/"
   ]
  },
  {
   "cell_type": "code",
   "execution_count": 5,
   "metadata": {},
   "outputs": [],
   "source": [
    "from numba import njit, jit"
   ]
  },
  {
   "cell_type": "code",
   "execution_count": 11,
   "metadata": {},
   "outputs": [],
   "source": [
    "@njit\n",
    "def monte_carlo_pi(nsamples):\n",
    "    acc = 0\n",
    "    for _ in range(int(nsamples)):\n",
    "        x = random.random()\n",
    "        y = random.random()\n",
    "        if (x**2 + y**2) < 1.0:\n",
    "            acc += 1\n",
    "    return 4.0 * acc / nsamples"
   ]
  },
  {
   "cell_type": "code",
   "execution_count": 7,
   "metadata": {},
   "outputs": [
    {
     "name": "stdout",
     "output_type": "stream",
     "text": [
      "CPU times: user 385 ms, sys: 11.5 ms, total: 397 ms\n",
      "Wall time: 1.3 s\n"
     ]
    },
    {
     "data": {
      "text/plain": [
       "3.1415384"
      ]
     },
     "execution_count": 7,
     "metadata": {},
     "output_type": "execute_result"
    }
   ],
   "source": [
    "%%time\n",
    "monte_carlo_pi(1e7)"
   ]
  },
  {
   "cell_type": "code",
   "execution_count": 10,
   "metadata": {},
   "outputs": [
    {
     "name": "stdout",
     "output_type": "stream",
     "text": [
      "CPU times: user 134 ms, sys: 0 ns, total: 134 ms\n",
      "Wall time: 134 ms\n"
     ]
    },
    {
     "data": {
      "text/plain": [
       "3.1408508"
      ]
     },
     "execution_count": 10,
     "metadata": {},
     "output_type": "execute_result"
    }
   ],
   "source": [
    "%%time\n",
    "monte_carlo_pi(1e7)"
   ]
  },
  {
   "cell_type": "markdown",
   "metadata": {},
   "source": [
    "## 2. Loop a slow function"
   ]
  },
  {
   "cell_type": "markdown",
   "metadata": {},
   "source": [
    "### With plain Python"
   ]
  },
  {
   "cell_type": "code",
   "execution_count": 12,
   "metadata": {},
   "outputs": [],
   "source": [
    "from time import sleep\n",
    "\n",
    "def slow_square(x):\n",
    "    sleep(1)\n",
    "    return x**2"
   ]
  },
  {
   "cell_type": "code",
   "execution_count": 13,
   "metadata": {},
   "outputs": [
    {
     "name": "stdout",
     "output_type": "stream",
     "text": [
      "CPU times: user 1.53 ms, sys: 305 µs, total: 1.84 ms\n",
      "Wall time: 16 s\n"
     ]
    },
    {
     "data": {
      "text/plain": [
       "[0, 1, 4, 9, 16, 25, 36, 49, 64, 81, 100, 121, 144, 169, 196, 225]"
      ]
     },
     "execution_count": 13,
     "metadata": {},
     "output_type": "execute_result"
    }
   ],
   "source": [
    "%%time\n",
    "[slow_square(n) for n in range(16)]"
   ]
  },
  {
   "cell_type": "markdown",
   "metadata": {},
   "source": [
    "### With Dask\n",
    "- https://examples.dask.org/delayed.html\n",
    "- http://docs.dask.org/en/latest/setup/single-distributed.html"
   ]
  },
  {
   "cell_type": "code",
   "execution_count": 15,
   "metadata": {},
   "outputs": [],
   "source": [
    "from dask import compute, delayed"
   ]
  },
  {
   "cell_type": "code",
   "execution_count": 17,
   "metadata": {},
   "outputs": [
    {
     "name": "stdout",
     "output_type": "stream",
     "text": [
      "CPU times: user 8.23 ms, sys: 4.89 ms, total: 13.1 ms\n",
      "Wall time: 1.01 s\n"
     ]
    },
    {
     "data": {
      "text/plain": [
       "([0, 1, 4, 9, 16, 25, 36, 49, 64, 81, 100, 121, 144, 169, 196, 225],)"
      ]
     },
     "execution_count": 17,
     "metadata": {},
     "output_type": "execute_result"
    }
   ],
   "source": [
    "%%time\n",
    "compute([delayed(slow_square)(n) for n in range(16)])"
   ]
  },
  {
   "cell_type": "code",
   "execution_count": 19,
   "metadata": {},
   "outputs": [],
   "source": [
    "x = delayed((slow_square)(n)for n in range(16))"
   ]
  },
  {
   "cell_type": "code",
   "execution_count": 20,
   "metadata": {},
   "outputs": [
    {
     "name": "stdout",
     "output_type": "stream",
     "text": [
      "CPU times: user 871 µs, sys: 174 µs, total: 1.04 ms\n",
      "Wall time: 837 µs\n"
     ]
    },
    {
     "data": {
      "text/plain": [
       "((0, 1, 4, 9, 16, 25, 36, 49, 64, 81, 100, 121, 144, 169, 196, 225),)"
      ]
     },
     "execution_count": 20,
     "metadata": {},
     "output_type": "execute_result"
    }
   ],
   "source": [
    "%%time\n",
    "compute(x)  "
   ]
  },
  {
   "cell_type": "markdown",
   "metadata": {},
   "source": [
    "## 3. Analyze millions of Instacart orders"
   ]
  },
  {
   "cell_type": "markdown",
   "metadata": {},
   "source": [
    "### Download data\n",
    "https://tech.instacart.com/3-million-instacart-orders-open-sourced-d40d29ead6f2"
   ]
  },
  {
   "cell_type": "code",
   "execution_count": 21,
   "metadata": {},
   "outputs": [
    {
     "name": "stdout",
     "output_type": "stream",
     "text": [
      "--2019-02-25 18:19:35--  https://s3.amazonaws.com/instacart-datasets/instacart_online_grocery_shopping_2017_05_01.tar.gz\n",
      "Resolving s3.amazonaws.com (s3.amazonaws.com)... 52.216.20.229\n",
      "Connecting to s3.amazonaws.com (s3.amazonaws.com)|52.216.20.229|:443... connected.\n",
      "HTTP request sent, awaiting response... 200 OK\n",
      "Length: 205548478 (196M) [application/x-gzip]\n",
      "Saving to: ‘instacart_online_grocery_shopping_2017_05_01.tar.gz’\n",
      "\n",
      "instacart_online_gr 100%[===================>] 196.03M  77.8MB/s    in 2.5s    \n",
      "\n",
      "2019-02-25 18:19:37 (77.8 MB/s) - ‘instacart_online_grocery_shopping_2017_05_01.tar.gz’ saved [205548478/205548478]\n",
      "\n"
     ]
    }
   ],
   "source": [
    "!wget https://s3.amazonaws.com/instacart-datasets/instacart_online_grocery_shopping_2017_05_01.tar.gz"
   ]
  },
  {
   "cell_type": "code",
   "execution_count": 22,
   "metadata": {},
   "outputs": [
    {
     "name": "stdout",
     "output_type": "stream",
     "text": [
      "instacart_2017_05_01/\n",
      "instacart_2017_05_01/._aisles.csv\n",
      "instacart_2017_05_01/aisles.csv\n",
      "instacart_2017_05_01/._departments.csv\n",
      "instacart_2017_05_01/departments.csv\n",
      "instacart_2017_05_01/._order_products__prior.csv\n",
      "instacart_2017_05_01/order_products__prior.csv\n",
      "instacart_2017_05_01/._order_products__train.csv\n",
      "instacart_2017_05_01/order_products__train.csv\n",
      "instacart_2017_05_01/._orders.csv\n",
      "instacart_2017_05_01/orders.csv\n",
      "instacart_2017_05_01/._products.csv\n",
      "instacart_2017_05_01/products.csv\n"
     ]
    }
   ],
   "source": [
    "!tar --gunzip --extract --verbose --file=instacart_online_grocery_shopping_2017_05_01.tar.gz"
   ]
  },
  {
   "cell_type": "code",
   "execution_count": 23,
   "metadata": {},
   "outputs": [
    {
     "name": "stdout",
     "output_type": "stream",
     "text": [
      "/home/ec2-user/SageMaker/DS-Unit-3-Sprint-3-Big-Data/module1-aws-sagemaker/instacart_2017_05_01\n"
     ]
    }
   ],
   "source": [
    "%cd instacart_2017_05_01"
   ]
  },
  {
   "cell_type": "code",
   "execution_count": 24,
   "metadata": {},
   "outputs": [
    {
     "name": "stdout",
     "output_type": "stream",
     "text": [
      "-rw-r--r-- 1 ec2-user ec2-user 2.6K May  2  2017 aisles.csv\r\n",
      "-rw-r--r-- 1 ec2-user ec2-user  270 May  2  2017 departments.csv\r\n",
      "-rw-r--r-- 1 ec2-user ec2-user 551M May  2  2017 order_products__prior.csv\r\n",
      "-rw-r--r-- 1 ec2-user ec2-user  24M May  2  2017 order_products__train.csv\r\n",
      "-rw-r--r-- 1 ec2-user ec2-user 104M May  2  2017 orders.csv\r\n",
      "-rw-r--r-- 1 ec2-user ec2-user 2.1M May  2  2017 products.csv\r\n"
     ]
    }
   ],
   "source": [
    "!ls -lh *.csv"
   ]
  },
  {
   "cell_type": "markdown",
   "metadata": {},
   "source": [
    "### With Pandas"
   ]
  },
  {
   "cell_type": "markdown",
   "metadata": {},
   "source": [
    "#### Load & merge data"
   ]
  },
  {
   "cell_type": "code",
   "execution_count": 25,
   "metadata": {},
   "outputs": [],
   "source": [
    "import pandas as pd"
   ]
  },
  {
   "cell_type": "code",
   "execution_count": 26,
   "metadata": {},
   "outputs": [
    {
     "name": "stdout",
     "output_type": "stream",
     "text": [
      "<class 'pandas.core.frame.DataFrame'>\n",
      "Int64Index: 33819106 entries, 0 to 1384616\n",
      "Data columns (total 4 columns):\n",
      "order_id             int64\n",
      "product_id           int64\n",
      "add_to_cart_order    int64\n",
      "reordered            int64\n",
      "dtypes: int64(4)\n",
      "memory usage: 1.3 GB\n",
      "CPU times: user 10.2 s, sys: 2.08 s, total: 12.3 s\n",
      "Wall time: 12.3 s\n"
     ]
    }
   ],
   "source": [
    "%%time\n",
    "order_products = pd.concat([\n",
    "    pd.read_csv('order_products__prior.csv'), \n",
    "    pd.read_csv('order_products__train.csv')])\n",
    "\n",
    "order_products.info()"
   ]
  },
  {
   "cell_type": "code",
   "execution_count": 27,
   "metadata": {},
   "outputs": [
    {
     "data": {
      "text/html": [
       "<div>\n",
       "<style scoped>\n",
       "    .dataframe tbody tr th:only-of-type {\n",
       "        vertical-align: middle;\n",
       "    }\n",
       "\n",
       "    .dataframe tbody tr th {\n",
       "        vertical-align: top;\n",
       "    }\n",
       "\n",
       "    .dataframe thead th {\n",
       "        text-align: right;\n",
       "    }\n",
       "</style>\n",
       "<table border=\"1\" class=\"dataframe\">\n",
       "  <thead>\n",
       "    <tr style=\"text-align: right;\">\n",
       "      <th></th>\n",
       "      <th>order_id</th>\n",
       "      <th>product_id</th>\n",
       "      <th>add_to_cart_order</th>\n",
       "      <th>reordered</th>\n",
       "    </tr>\n",
       "  </thead>\n",
       "  <tbody>\n",
       "    <tr>\n",
       "      <th>0</th>\n",
       "      <td>2</td>\n",
       "      <td>33120</td>\n",
       "      <td>1</td>\n",
       "      <td>1</td>\n",
       "    </tr>\n",
       "    <tr>\n",
       "      <th>1</th>\n",
       "      <td>2</td>\n",
       "      <td>28985</td>\n",
       "      <td>2</td>\n",
       "      <td>1</td>\n",
       "    </tr>\n",
       "    <tr>\n",
       "      <th>2</th>\n",
       "      <td>2</td>\n",
       "      <td>9327</td>\n",
       "      <td>3</td>\n",
       "      <td>0</td>\n",
       "    </tr>\n",
       "    <tr>\n",
       "      <th>3</th>\n",
       "      <td>2</td>\n",
       "      <td>45918</td>\n",
       "      <td>4</td>\n",
       "      <td>1</td>\n",
       "    </tr>\n",
       "    <tr>\n",
       "      <th>4</th>\n",
       "      <td>2</td>\n",
       "      <td>30035</td>\n",
       "      <td>5</td>\n",
       "      <td>0</td>\n",
       "    </tr>\n",
       "  </tbody>\n",
       "</table>\n",
       "</div>"
      ],
      "text/plain": [
       "   order_id  product_id  add_to_cart_order  reordered\n",
       "0         2       33120                  1          1\n",
       "1         2       28985                  2          1\n",
       "2         2        9327                  3          0\n",
       "3         2       45918                  4          1\n",
       "4         2       30035                  5          0"
      ]
     },
     "execution_count": 27,
     "metadata": {},
     "output_type": "execute_result"
    }
   ],
   "source": [
    "order_products.head()"
   ]
  },
  {
   "cell_type": "code",
   "execution_count": 28,
   "metadata": {},
   "outputs": [
    {
     "name": "stdout",
     "output_type": "stream",
     "text": [
      "<class 'pandas.core.frame.DataFrame'>\n",
      "RangeIndex: 49688 entries, 0 to 49687\n",
      "Data columns (total 4 columns):\n",
      "product_id       49688 non-null int64\n",
      "product_name     49688 non-null object\n",
      "aisle_id         49688 non-null int64\n",
      "department_id    49688 non-null int64\n",
      "dtypes: int64(3), object(1)\n",
      "memory usage: 1.5+ MB\n"
     ]
    }
   ],
   "source": [
    "products = pd.read_csv('products.csv')\n",
    "products.info()"
   ]
  },
  {
   "cell_type": "code",
   "execution_count": 29,
   "metadata": {},
   "outputs": [
    {
     "data": {
      "text/html": [
       "<div>\n",
       "<style scoped>\n",
       "    .dataframe tbody tr th:only-of-type {\n",
       "        vertical-align: middle;\n",
       "    }\n",
       "\n",
       "    .dataframe tbody tr th {\n",
       "        vertical-align: top;\n",
       "    }\n",
       "\n",
       "    .dataframe thead th {\n",
       "        text-align: right;\n",
       "    }\n",
       "</style>\n",
       "<table border=\"1\" class=\"dataframe\">\n",
       "  <thead>\n",
       "    <tr style=\"text-align: right;\">\n",
       "      <th></th>\n",
       "      <th>product_id</th>\n",
       "      <th>product_name</th>\n",
       "      <th>aisle_id</th>\n",
       "      <th>department_id</th>\n",
       "    </tr>\n",
       "  </thead>\n",
       "  <tbody>\n",
       "    <tr>\n",
       "      <th>0</th>\n",
       "      <td>1</td>\n",
       "      <td>Chocolate Sandwich Cookies</td>\n",
       "      <td>61</td>\n",
       "      <td>19</td>\n",
       "    </tr>\n",
       "    <tr>\n",
       "      <th>1</th>\n",
       "      <td>2</td>\n",
       "      <td>All-Seasons Salt</td>\n",
       "      <td>104</td>\n",
       "      <td>13</td>\n",
       "    </tr>\n",
       "    <tr>\n",
       "      <th>2</th>\n",
       "      <td>3</td>\n",
       "      <td>Robust Golden Unsweetened Oolong Tea</td>\n",
       "      <td>94</td>\n",
       "      <td>7</td>\n",
       "    </tr>\n",
       "    <tr>\n",
       "      <th>3</th>\n",
       "      <td>4</td>\n",
       "      <td>Smart Ones Classic Favorites Mini Rigatoni Wit...</td>\n",
       "      <td>38</td>\n",
       "      <td>1</td>\n",
       "    </tr>\n",
       "    <tr>\n",
       "      <th>4</th>\n",
       "      <td>5</td>\n",
       "      <td>Green Chile Anytime Sauce</td>\n",
       "      <td>5</td>\n",
       "      <td>13</td>\n",
       "    </tr>\n",
       "  </tbody>\n",
       "</table>\n",
       "</div>"
      ],
      "text/plain": [
       "   product_id                                       product_name  aisle_id  \\\n",
       "0           1                         Chocolate Sandwich Cookies        61   \n",
       "1           2                                   All-Seasons Salt       104   \n",
       "2           3               Robust Golden Unsweetened Oolong Tea        94   \n",
       "3           4  Smart Ones Classic Favorites Mini Rigatoni Wit...        38   \n",
       "4           5                          Green Chile Anytime Sauce         5   \n",
       "\n",
       "   department_id  \n",
       "0             19  \n",
       "1             13  \n",
       "2              7  \n",
       "3              1  \n",
       "4             13  "
      ]
     },
     "execution_count": 29,
     "metadata": {},
     "output_type": "execute_result"
    }
   ],
   "source": [
    "products.head()"
   ]
  },
  {
   "cell_type": "code",
   "execution_count": 30,
   "metadata": {},
   "outputs": [],
   "source": [
    "pd.merge??"
   ]
  },
  {
   "cell_type": "code",
   "execution_count": 31,
   "metadata": {},
   "outputs": [
    {
     "name": "stdout",
     "output_type": "stream",
     "text": [
      "CPU times: user 7.43 s, sys: 2 s, total: 9.43 s\n",
      "Wall time: 9.44 s\n"
     ]
    }
   ],
   "source": [
    "%%time\n",
    "order_products = pd.merge(order_products, products[['product_id', 'product_name']])"
   ]
  },
  {
   "cell_type": "code",
   "execution_count": 32,
   "metadata": {},
   "outputs": [
    {
     "data": {
      "text/html": [
       "<div>\n",
       "<style scoped>\n",
       "    .dataframe tbody tr th:only-of-type {\n",
       "        vertical-align: middle;\n",
       "    }\n",
       "\n",
       "    .dataframe tbody tr th {\n",
       "        vertical-align: top;\n",
       "    }\n",
       "\n",
       "    .dataframe thead th {\n",
       "        text-align: right;\n",
       "    }\n",
       "</style>\n",
       "<table border=\"1\" class=\"dataframe\">\n",
       "  <thead>\n",
       "    <tr style=\"text-align: right;\">\n",
       "      <th></th>\n",
       "      <th>order_id</th>\n",
       "      <th>product_id</th>\n",
       "      <th>add_to_cart_order</th>\n",
       "      <th>reordered</th>\n",
       "      <th>product_name</th>\n",
       "    </tr>\n",
       "  </thead>\n",
       "  <tbody>\n",
       "    <tr>\n",
       "      <th>0</th>\n",
       "      <td>2</td>\n",
       "      <td>33120</td>\n",
       "      <td>1</td>\n",
       "      <td>1</td>\n",
       "      <td>Organic Egg Whites</td>\n",
       "    </tr>\n",
       "    <tr>\n",
       "      <th>1</th>\n",
       "      <td>26</td>\n",
       "      <td>33120</td>\n",
       "      <td>5</td>\n",
       "      <td>0</td>\n",
       "      <td>Organic Egg Whites</td>\n",
       "    </tr>\n",
       "    <tr>\n",
       "      <th>2</th>\n",
       "      <td>120</td>\n",
       "      <td>33120</td>\n",
       "      <td>13</td>\n",
       "      <td>0</td>\n",
       "      <td>Organic Egg Whites</td>\n",
       "    </tr>\n",
       "    <tr>\n",
       "      <th>3</th>\n",
       "      <td>327</td>\n",
       "      <td>33120</td>\n",
       "      <td>5</td>\n",
       "      <td>1</td>\n",
       "      <td>Organic Egg Whites</td>\n",
       "    </tr>\n",
       "    <tr>\n",
       "      <th>4</th>\n",
       "      <td>390</td>\n",
       "      <td>33120</td>\n",
       "      <td>28</td>\n",
       "      <td>1</td>\n",
       "      <td>Organic Egg Whites</td>\n",
       "    </tr>\n",
       "  </tbody>\n",
       "</table>\n",
       "</div>"
      ],
      "text/plain": [
       "   order_id  product_id  add_to_cart_order  reordered        product_name\n",
       "0         2       33120                  1          1  Organic Egg Whites\n",
       "1        26       33120                  5          0  Organic Egg Whites\n",
       "2       120       33120                 13          0  Organic Egg Whites\n",
       "3       327       33120                  5          1  Organic Egg Whites\n",
       "4       390       33120                 28          1  Organic Egg Whites"
      ]
     },
     "execution_count": 32,
     "metadata": {},
     "output_type": "execute_result"
    }
   ],
   "source": [
    "order_products.head()"
   ]
  },
  {
   "cell_type": "markdown",
   "metadata": {},
   "source": [
    "#### Most popular products?"
   ]
  },
  {
   "cell_type": "code",
   "execution_count": 33,
   "metadata": {},
   "outputs": [
    {
     "name": "stdout",
     "output_type": "stream",
     "text": [
      "CPU times: user 4.15 s, sys: 39.8 ms, total: 4.19 s\n",
      "Wall time: 4.17 s\n"
     ]
    },
    {
     "data": {
      "text/plain": [
       "Banana                                                                     491291\n",
       "Bag of Organic Bananas                                                     394930\n",
       "Organic Strawberries                                                       275577\n",
       "Organic Baby Spinach                                                       251705\n",
       "Organic Hass Avocado                                                       220877\n",
       "Organic Avocado                                                            184224\n",
       "Large Lemon                                                                160792\n",
       "Strawberries                                                               149445\n",
       "Limes                                                                      146660\n",
       "Organic Whole Milk                                                         142813\n",
       "Organic Raspberries                                                        142603\n",
       "Organic Yellow Onion                                                       117716\n",
       "Organic Garlic                                                             113936\n",
       "Organic Zucchini                                                           109412\n",
       "Organic Blueberries                                                        105026\n",
       "Cucumber Kirby                                                              99728\n",
       "Organic Fuji Apple                                                          92889\n",
       "Organic Lemon                                                               91251\n",
       "Organic Grape Tomatoes                                                      88078\n",
       "Apple Honeycrisp Organic                                                    87272\n",
       "Seedless Red Grapes                                                         86748\n",
       "Organic Cucumber                                                            85005\n",
       "Honeycrisp Apple                                                            83320\n",
       "Organic Baby Carrots                                                        80493\n",
       "Sparkling Water Grapefruit                                                  79245\n",
       "Organic Half & Half                                                         79006\n",
       "Organic Large Extra Fancy Fuji Apple                                        78056\n",
       "Yellow Onions                                                               76929\n",
       "Organic Baby Arugula                                                        75752\n",
       "Organic Gala Apples                                                         75655\n",
       "                                                                            ...  \n",
       "Dried Porcini Mushroom                                                          1\n",
       "Anarchy For Her Daily Fragrance                                                 1\n",
       "Kefir Raspberry                                                                 1\n",
       "Flax Oil, Organic, Omega-3, Original Formula                                    1\n",
       "Organic Ice Cream Birthday Cake                                                 1\n",
       "Jamaican Allspice                                                               1\n",
       "'Swingtop' Premium Lager                                                        1\n",
       "Sugar Leaf  Stevia and Raw Cane Sugar                                           1\n",
       "Flame Roasted Red Peppers Spreadable Cheese                                     1\n",
       "Cajun Sides Dirty Rice                                                          1\n",
       "Florentine Spinach and Cheese Pasta Sauce                                       1\n",
       "Lowfat Cherry Lime Supernova Kefir Cultured Milk Smoothie                       1\n",
       "Skin Firming Cellulite Gel Cream                                                1\n",
       "Chardonnay Carneros                                                             1\n",
       "Microwavable Triple Cheese Macaroni & Cheese                                    1\n",
       "Sweetart Jelly Beans                                                            1\n",
       "Fruit Me Up!  Applesauce Pouches                                                1\n",
       "Indian Wells Merlot                                                             1\n",
       "Organic Veggie Ground                                                           1\n",
       "Pure Squeezed  Lemonade                                                         1\n",
       "Escapes Variety Pack                                                            1\n",
       "12 Inch Taper Candle White                                                      1\n",
       "Original Lager                                                                  1\n",
       "String Of Pearl White Sprinkles                                                 1\n",
       "1,000 Mg Vitamin C Tangerine Grapefruit Effervescent Powdered Drink Mix         1\n",
       "Anjou Pear Hand Soap                                                            1\n",
       "Multi-Surface Sunflower Scent Everyday Cleaner                                  1\n",
       "Petite Black Eyed Peas                                                          1\n",
       "Flatbread Pizza All Natural                                                     1\n",
       "Blueberry Blast Fruit and Chia Seed Bar                                         1\n",
       "Name: product_name, Length: 49685, dtype: int64"
      ]
     },
     "execution_count": 33,
     "metadata": {},
     "output_type": "execute_result"
    }
   ],
   "source": [
    "%%time\n",
    "order_products['product_name'].value_counts()"
   ]
  },
  {
   "cell_type": "markdown",
   "metadata": {},
   "source": [
    "#### Organic?"
   ]
  },
  {
   "cell_type": "code",
   "execution_count": 34,
   "metadata": {},
   "outputs": [
    {
     "name": "stdout",
     "output_type": "stream",
     "text": [
      "CPU times: user 17.5 s, sys: 112 ms, total: 17.6 s\n",
      "Wall time: 17.6 s\n"
     ]
    }
   ],
   "source": [
    "%%time\n",
    "order_products['organic'] = order_products['product_name'].str.contains('Organic')"
   ]
  },
  {
   "cell_type": "code",
   "execution_count": 35,
   "metadata": {},
   "outputs": [
    {
     "name": "stdout",
     "output_type": "stream",
     "text": [
      "CPU times: user 272 ms, sys: 123 ms, total: 395 ms\n",
      "Wall time: 393 ms\n"
     ]
    },
    {
     "data": {
      "text/plain": [
       "False    23163118\n",
       "True     10655988\n",
       "Name: organic, dtype: int64"
      ]
     },
     "execution_count": 35,
     "metadata": {},
     "output_type": "execute_result"
    }
   ],
   "source": [
    "%%time\n",
    "order_products['organic'].value_counts()"
   ]
  },
  {
   "cell_type": "markdown",
   "metadata": {},
   "source": [
    "### With Dask\n",
    "https://examples.dask.org/dataframe.html"
   ]
  },
  {
   "cell_type": "code",
   "execution_count": 37,
   "metadata": {},
   "outputs": [
    {
     "data": {
      "text/html": [
       "<table style=\"border: 2px solid white;\">\n",
       "<tr>\n",
       "<td style=\"vertical-align: top; border: 0px solid white\">\n",
       "<h3>Client</h3>\n",
       "<ul>\n",
       "  <li><b>Scheduler: </b>tcp://127.0.0.1:35353\n",
       "  <li><b>Dashboard: </b><a href='http://127.0.0.1:8787/status' target='_blank'>http://127.0.0.1:8787/status</a>\n",
       "</ul>\n",
       "</td>\n",
       "<td style=\"vertical-align: top; border: 0px solid white\">\n",
       "<h3>Cluster</h3>\n",
       "<ul>\n",
       "  <li><b>Workers: </b>16</li>\n",
       "  <li><b>Cores: </b>16</li>\n",
       "  <li><b>Memory: </b>67.53 GB</li>\n",
       "</ul>\n",
       "</td>\n",
       "</tr>\n",
       "</table>"
      ],
      "text/plain": [
       "<Client: scheduler='tcp://127.0.0.1:35353' processes=16 cores=16>"
      ]
     },
     "execution_count": 37,
     "metadata": {},
     "output_type": "execute_result"
    }
   ],
   "source": [
    "import dask.dataframe as dd\n",
    "from dask.distributed import Client\n",
    "\n",
    "client = Client(n_workers=16)\n",
    "client"
   ]
  },
  {
   "cell_type": "markdown",
   "metadata": {},
   "source": [
    "#### Load & merge data\n",
    "https://examples.dask.org/dataframes/01-data-access.html#Read-CSV-files"
   ]
  },
  {
   "cell_type": "code",
   "execution_count": 39,
   "metadata": {},
   "outputs": [
    {
     "name": "stdout",
     "output_type": "stream",
     "text": [
      "CPU times: user 21.7 ms, sys: 0 ns, total: 21.7 ms\n",
      "Wall time: 19.8 ms\n"
     ]
    }
   ],
   "source": [
    "%%time\n",
    "order_products = dd.read_csv('order_products*.csv')"
   ]
  },
  {
   "cell_type": "code",
   "execution_count": 41,
   "metadata": {},
   "outputs": [
    {
     "name": "stdout",
     "output_type": "stream",
     "text": [
      "CPU times: user 24 ms, sys: 4.08 ms, total: 28 ms\n",
      "Wall time: 25.6 ms\n"
     ]
    }
   ],
   "source": [
    "%%time\n",
    "order_products = dd.merge(order_products, products[['product_id', 'product_name']])"
   ]
  },
  {
   "cell_type": "markdown",
   "metadata": {},
   "source": [
    "http://docs.dask.org/en/latest/dataframe-performance.html#persist-intelligently"
   ]
  },
  {
   "cell_type": "code",
   "execution_count": 42,
   "metadata": {},
   "outputs": [
    {
     "name": "stdout",
     "output_type": "stream",
     "text": [
      "CPU times: user 8.23 ms, sys: 0 ns, total: 8.23 ms\n",
      "Wall time: 6.87 ms\n"
     ]
    }
   ],
   "source": [
    "%%time\n",
    "order_products = order_products.persist()"
   ]
  },
  {
   "cell_type": "markdown",
   "metadata": {},
   "source": [
    "#### Most popular products?"
   ]
  },
  {
   "cell_type": "code",
   "execution_count": 44,
   "metadata": {},
   "outputs": [
    {
     "name": "stdout",
     "output_type": "stream",
     "text": [
      "CPU times: user 208 ms, sys: 49 ms, total: 257 ms\n",
      "Wall time: 1.44 s\n"
     ]
    },
    {
     "data": {
      "text/plain": [
       "Banana                                                       491291\n",
       "Bag of Organic Bananas                                       394930\n",
       "Organic Strawberries                                         275577\n",
       "Organic Baby Spinach                                         251705\n",
       "Organic Hass Avocado                                         220877\n",
       "Organic Avocado                                              184224\n",
       "Large Lemon                                                  160792\n",
       "Strawberries                                                 149445\n",
       "Limes                                                        146660\n",
       "Organic Whole Milk                                           142813\n",
       "Organic Raspberries                                          142603\n",
       "Organic Yellow Onion                                         117716\n",
       "Organic Garlic                                               113936\n",
       "Organic Zucchini                                             109412\n",
       "Organic Blueberries                                          105026\n",
       "Cucumber Kirby                                                99728\n",
       "Organic Fuji Apple                                            92889\n",
       "Organic Lemon                                                 91251\n",
       "Organic Grape Tomatoes                                        88078\n",
       "Apple Honeycrisp Organic                                      87272\n",
       "Seedless Red Grapes                                           86748\n",
       "Organic Cucumber                                              85005\n",
       "Honeycrisp Apple                                              83320\n",
       "Organic Baby Carrots                                          80493\n",
       "Sparkling Water Grapefruit                                    79245\n",
       "Organic Half & Half                                           79006\n",
       "Organic Large Extra Fancy Fuji Apple                          78056\n",
       "Yellow Onions                                                 76929\n",
       "Organic Baby Arugula                                          75752\n",
       "Organic Gala Apples                                           75655\n",
       "                                                              ...  \n",
       "Frittata, Farmer's Market                                         1\n",
       "Vanilla Bean Sheep Milk Ice Cream                                 1\n",
       "Pure Peppermint Extract                                           1\n",
       "Pure Performance Restorative Shampoo Chamomile & Honey            1\n",
       "Pumpkin Spice Almond Nog                                          1\n",
       "Tangerine Melon Bubble Bath                                       1\n",
       "Organic Aleppo Pepper                                             1\n",
       "Hennepin Farmhouse Ale                                            1\n",
       "Indian Wells Merlot                                               1\n",
       "Coconut Bliss Pineapple Coconut                                   1\n",
       "Coconut Cardamom Almond Butter                                    1\n",
       "Pasta Shapes In Tomato Sauce                                      1\n",
       "Hot Oatmeal Multigrain Raisin                                     1\n",
       "Water With Electrolytes                                           1\n",
       "Sweetart Jelly Beans                                              1\n",
       "Cinnamon Rice Pudding Snacks                                      1\n",
       "Citronge Extra Fine Orange Liqueur                                1\n",
       "Lowfat Cherry Lime Supernova Kefir Cultured Milk Smoothie         1\n",
       "Lindor Peppermint White Chocolate Truffles                        1\n",
       "Organic Better Rest Tea Blend                                     1\n",
       "Aged Parmesan Cheese Sticks                                       1\n",
       "Molasses, Bead                                                    1\n",
       "Orange Recharge                                                   1\n",
       "Pasta & Enchilada Sauce, Organic, 7 Veggie                        1\n",
       "Ultra Sun Blossom Liquid 90 loads Fabric Enhancers                1\n",
       "Organic Ice Cream Birthday Cake                                   1\n",
       "11.3 Oz. Oreo Fudge Creme Double Chocolate                        1\n",
       "Cld/Flu Van Chrry                                                 1\n",
       "12 Inch Taper Candle White                                        1\n",
       "All Natural Stevia Liquid Extract Sweetener                       1\n",
       "Name: product_name, Length: 49685, dtype: int64"
      ]
     },
     "execution_count": 44,
     "metadata": {},
     "output_type": "execute_result"
    }
   ],
   "source": [
    "%%time\n",
    "order_products['product_name'].value_counts().compute()"
   ]
  },
  {
   "cell_type": "markdown",
   "metadata": {},
   "source": [
    "#### Organic?"
   ]
  },
  {
   "cell_type": "code",
   "execution_count": 45,
   "metadata": {},
   "outputs": [
    {
     "name": "stdout",
     "output_type": "stream",
     "text": [
      "CPU times: user 4.74 ms, sys: 444 µs, total: 5.19 ms\n",
      "Wall time: 4.76 ms\n"
     ]
    }
   ],
   "source": [
    "%%time\n",
    "order_products['organic'] = order_products['product_name'].str.contains('Organic')"
   ]
  },
  {
   "cell_type": "code",
   "execution_count": 50,
   "metadata": {},
   "outputs": [
    {
     "name": "stdout",
     "output_type": "stream",
     "text": [
      "CPU times: user 1.03 s, sys: 150 ms, total: 1.18 s\n",
      "Wall time: 8.28 s\n"
     ]
    },
    {
     "data": {
      "text/plain": [
       "False    23163118\n",
       "True     10655988\n",
       "Name: organic, dtype: int64"
      ]
     },
     "execution_count": 50,
     "metadata": {},
     "output_type": "execute_result"
    }
   ],
   "source": [
    "%%time\n",
    "order_products['organic'].value_counts().compute()"
   ]
  },
  {
   "cell_type": "markdown",
   "metadata": {},
   "source": [
    "## 4. Fit a machine learning model"
   ]
  },
  {
   "cell_type": "markdown",
   "metadata": {},
   "source": [
    "### Load data"
   ]
  },
  {
   "cell_type": "code",
   "execution_count": 51,
   "metadata": {},
   "outputs": [
    {
     "name": "stdout",
     "output_type": "stream",
     "text": [
      "/home/ec2-user/SageMaker/DS-Unit-3-Sprint-3-Big-Data/module1-aws-sagemaker/ds1-predictive-modeling-challenge\n"
     ]
    }
   ],
   "source": [
    "%cd ../ds1-predictive-modeling-challenge"
   ]
  },
  {
   "cell_type": "code",
   "execution_count": 52,
   "metadata": {},
   "outputs": [],
   "source": [
    "import numpy as np\n",
    "import pandas as pd\n",
    "from sklearn.ensemble import RandomForestClassifier\n",
    "\n",
    "train_features = pd.read_csv('train_features.csv')\n",
    "train_labels = pd.read_csv('train_labels.csv')\n",
    "\n",
    "X_train_numeric = train_features.select_dtypes(np.number)\n",
    "y_train = train_labels['status_group']"
   ]
  },
  {
   "cell_type": "markdown",
   "metadata": {},
   "source": [
    "### With 2 cores (like Google Colab)\n",
    "https://scikit-learn.org/stable/modules/generated/sklearn.ensemble.RandomForestClassifier.html"
   ]
  },
  {
   "cell_type": "code",
   "execution_count": 53,
   "metadata": {},
   "outputs": [
    {
     "name": "stderr",
     "output_type": "stream",
     "text": [
      "[Parallel(n_jobs=2)]: Done  46 tasks      | elapsed:    2.7s\n",
      "[Parallel(n_jobs=2)]: Done 196 tasks      | elapsed:   11.5s\n",
      "[Parallel(n_jobs=2)]: Done 200 out of 200 | elapsed:   11.7s finished\n"
     ]
    },
    {
     "name": "stdout",
     "output_type": "stream",
     "text": [
      "Out-of-bag score: 0.7206397306397306\n"
     ]
    }
   ],
   "source": [
    "model = RandomForestClassifier(n_estimators=200, oob_score=True, n_jobs=2, random_state=42, verbose=1)\n",
    "model.fit(X_train_numeric, y_train)\n",
    "print('Out-of-bag score:', model.oob_score_)"
   ]
  },
  {
   "cell_type": "markdown",
   "metadata": {},
   "source": [
    "### With 16 cores (on AWS m4.4xlarge)"
   ]
  },
  {
   "cell_type": "code",
   "execution_count": 54,
   "metadata": {},
   "outputs": [
    {
     "name": "stderr",
     "output_type": "stream",
     "text": [
      "[Parallel(n_jobs=16)]: Done  18 tasks      | elapsed:    0.4s\n",
      "[Parallel(n_jobs=16)]: Done 168 tasks      | elapsed:    2.1s\n",
      "[Parallel(n_jobs=16)]: Done 200 out of 200 | elapsed:    2.5s finished\n"
     ]
    },
    {
     "name": "stdout",
     "output_type": "stream",
     "text": [
      "Out-of-bag score: 0.7206397306397306\n"
     ]
    }
   ],
   "source": [
    "model = RandomForestClassifier(n_estimators=200, oob_score=True, n_jobs=16, random_state=42, verbose=1)\n",
    "model.fit(X_train_numeric, y_train)\n",
    "print('Out-of-bag score:', model.oob_score_)"
   ]
  },
  {
   "cell_type": "markdown",
   "metadata": {},
   "source": [
    "## ASSIGNMENT\n",
    "\n",
    "Revisit a previous assignment or project that had slow speeds or big data.\n",
    "\n",
    "Make it better with what you've learned today!\n",
    "\n",
    "You can use `wget` or Kaggle API to get data. Some possibilities include:\n",
    "\n",
    "- https://www.kaggle.com/c/ds1-predictive-modeling-challenge\n",
    "- https://www.kaggle.com/ntnu-testimon/paysim1\n",
    "- https://github.com/mdeff/fma\n",
    "- https://tech.instacart.com/3-million-instacart-orders-open-sourced-d40d29ead6f2 \n",
    "\n",
    "\n",
    "\n",
    "Also, you can play with [Datashader](http://datashader.org/) and its [example datasets](https://github.com/pyviz/datashader/blob/master/examples/datasets.yml)!"
   ]
  }
 ],
 "metadata": {
  "kernelspec": {
   "display_name": "conda_python3",
   "language": "python",
   "name": "conda_python3"
  },
  "language_info": {
   "codemirror_mode": {
    "name": "ipython",
    "version": 3
   },
   "file_extension": ".py",
   "mimetype": "text/x-python",
   "name": "python",
   "nbconvert_exporter": "python",
   "pygments_lexer": "ipython3",
   "version": "3.6.5"
  }
 },
 "nbformat": 4,
 "nbformat_minor": 2
}
