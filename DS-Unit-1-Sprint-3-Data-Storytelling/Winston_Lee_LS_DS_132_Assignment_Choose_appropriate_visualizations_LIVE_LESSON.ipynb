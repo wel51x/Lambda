{
  "nbformat": 4,
  "nbformat_minor": 0,
  "metadata": {
    "colab": {
      "name": "Winston Lee LS_DS_222 Assignment_Choose_appropriate_visualizations LIVE LESSON.ipynb",
      "version": "0.3.2",
      "provenance": [],
      "collapsed_sections": [
        "Cn-xMBPcljbc"
      ],
      "include_colab_link": true
    },
    "kernelspec": {
      "display_name": "Python 3",
      "language": "python",
      "name": "python3"
    }
  },
  "cells": [
    {
      "cell_type": "markdown",
      "metadata": {
        "id": "view-in-github",
        "colab_type": "text"
      },
      "source": [
        "<a href=\"https://colab.research.google.com/github/wel51x/DS-Unit-1-Sprint-3-Data-Storytelling/blob/master/Winston_Lee_LS_DS_222_Assignment_Choose_appropriate_visualizations_LIVE_LESSON.ipynb\" target=\"_parent\"><img src=\"https://colab.research.google.com/assets/colab-badge.svg\" alt=\"Open In Colab\"/></a>"
      ]
    },
    {
      "metadata": {
        "colab_type": "text",
        "id": "1nwMfulDljaS"
      },
      "cell_type": "markdown",
      "source": [
        "_Lambda School Data Science_\n",
        "# Choose appropriate visualizations\n",
        "\n",
        "Objectives\n",
        "- fix misleading visualizations\n",
        "- use Seaborn to visualize distributions and relationships with continuous and discrete variables\n",
        "\n",
        "Links\n",
        "- [How to Spot Visualization Lies](https://flowingdata.com/2017/02/09/how-to-spot-visualization-lies/)\n",
        "- [Financial Times Visual Vocabulary poster](http://ft.com/vocabulary)\n",
        "- [Choosing a Python Visualization Tool flowchart](http://pbpython.com/python-vis-flowchart.html)\n",
        "- [Seaborn example gallery](http://seaborn.pydata.org/examples/index.html) & [tutorial](http://seaborn.pydata.org/tutorial.html)\n"
      ]
    },
    {
      "metadata": {
        "colab_type": "text",
        "id": "yp50E_pnljaV"
      },
      "cell_type": "markdown",
      "source": [
        "# Upgrade Seaborn\n",
        "\n",
        "Make sure you have at least version 0.9.0.\n",
        "\n",
        "On Colab, go to **Restart runtime** after you run the `pip` command."
      ]
    },
    {
      "metadata": {
        "colab_type": "code",
        "id": "MJAy4kPfljaV",
        "outputId": "bbc53de0-0561-4aca-d98c-a087fd83dc24",
        "colab": {
          "base_uri": "https://localhost:8080/",
          "height": 312
        }
      },
      "cell_type": "code",
      "source": [
        "!pip install --upgrade seaborn"
      ],
      "execution_count": 2,
      "outputs": [
        {
          "output_type": "stream",
          "text": [
            "Requirement already up-to-date: seaborn in /usr/local/lib/python3.6/dist-packages (0.9.0)\n",
            "Requirement already satisfied, skipping upgrade: scipy>=0.14.0 in /usr/local/lib/python3.6/dist-packages (from seaborn) (1.1.0)\n",
            "Requirement already satisfied, skipping upgrade: matplotlib>=1.4.3 in /usr/local/lib/python3.6/dist-packages (from seaborn) (3.0.2)\n",
            "Requirement already satisfied, skipping upgrade: pandas>=0.15.2 in /usr/local/lib/python3.6/dist-packages (from seaborn) (0.22.0)\n",
            "Requirement already satisfied, skipping upgrade: numpy>=1.9.3 in /usr/local/lib/python3.6/dist-packages (from seaborn) (1.14.6)\n",
            "Requirement already satisfied, skipping upgrade: python-dateutil>=2.1 in /usr/local/lib/python3.6/dist-packages (from matplotlib>=1.4.3->seaborn) (2.5.3)\n",
            "Requirement already satisfied, skipping upgrade: cycler>=0.10 in /usr/local/lib/python3.6/dist-packages (from matplotlib>=1.4.3->seaborn) (0.10.0)\n",
            "Requirement already satisfied, skipping upgrade: pyparsing!=2.0.4,!=2.1.2,!=2.1.6,>=2.0.1 in /usr/local/lib/python3.6/dist-packages (from matplotlib>=1.4.3->seaborn) (2.3.1)\n",
            "Requirement already satisfied, skipping upgrade: kiwisolver>=1.0.1 in /usr/local/lib/python3.6/dist-packages (from matplotlib>=1.4.3->seaborn) (1.0.1)\n",
            "Requirement already satisfied, skipping upgrade: pytz>=2011k in /usr/local/lib/python3.6/dist-packages (from pandas>=0.15.2->seaborn) (2018.9)\n",
            "Requirement already satisfied, skipping upgrade: six>=1.5 in /usr/local/lib/python3.6/dist-packages (from python-dateutil>=2.1->matplotlib>=1.4.3->seaborn) (1.11.0)\n",
            "Requirement already satisfied, skipping upgrade: setuptools in /usr/local/lib/python3.6/dist-packages (from kiwisolver>=1.0.1->matplotlib>=1.4.3->seaborn) (40.6.3)\n"
          ],
          "name": "stdout"
        }
      ]
    },
    {
      "metadata": {
        "colab_type": "code",
        "id": "fXZFXHccljaZ",
        "outputId": "5c27a889-7df2-496e-d2f9-88d30d3cc4db",
        "colab": {
          "base_uri": "https://localhost:8080/",
          "height": 34
        }
      },
      "cell_type": "code",
      "source": [
        "import seaborn as sns\n",
        "sns.__version__"
      ],
      "execution_count": 3,
      "outputs": [
        {
          "output_type": "execute_result",
          "data": {
            "text/plain": [
              "'0.9.0'"
            ]
          },
          "metadata": {
            "tags": []
          },
          "execution_count": 3
        }
      ]
    },
    {
      "metadata": {
        "colab_type": "text",
        "id": "Md1lMTx1ljab"
      },
      "cell_type": "markdown",
      "source": [
        "# Fix misleading visualizations"
      ]
    },
    {
      "metadata": {
        "colab_type": "code",
        "id": "5kTa_5Lnljac",
        "colab": {}
      },
      "cell_type": "code",
      "source": [
        "%matplotlib inline\n",
        "import matplotlib.pyplot as plt\n",
        "import numpy as np\n",
        "import pandas as pd"
      ],
      "execution_count": 0,
      "outputs": []
    },
    {
      "metadata": {
        "colab_type": "code",
        "id": "FkXJKBMOljae",
        "outputId": "4fbf0b92-6f6f-4527-b6f7-3f81528497c9",
        "colab": {
          "base_uri": "https://localhost:8080/",
          "height": 295
        }
      },
      "cell_type": "code",
      "source": [
        "!wget https://raw.githubusercontent.com/LambdaSchool/DS-Unit-1-Sprint-3-Data-Storytelling/master/module2-choose-appropriate-visualizations/misleading.py\n",
        "    \n",
        "import misleading"
      ],
      "execution_count": 0,
      "outputs": [
        {
          "output_type": "stream",
          "text": [
            "--2019-01-22 22:37:09--  https://raw.githubusercontent.com/LambdaSchool/DS-Unit-1-Sprint-3-Data-Storytelling/master/module2-choose-appropriate-visualizations/misleading.py\n",
            "Resolving raw.githubusercontent.com (raw.githubusercontent.com)... 151.101.0.133, 151.101.64.133, 151.101.128.133, ...\n",
            "Connecting to raw.githubusercontent.com (raw.githubusercontent.com)|151.101.0.133|:443... connected.\n",
            "HTTP request sent, awaiting response... 200 OK\n",
            "Length: 1258 (1.2K) [text/plain]\n",
            "Saving to: ‘misleading.py’\n",
            "\n",
            "\rmisleading.py         0%[                    ]       0  --.-KB/s               \rmisleading.py       100%[===================>]   1.23K  --.-KB/s    in 0s      \n",
            "\n",
            "2019-01-22 22:37:09 (233 MB/s) - ‘misleading.py’ saved [1258/1258]\n",
            "\n"
          ],
          "name": "stdout"
        }
      ]
    },
    {
      "metadata": {
        "colab_type": "text",
        "id": "CBe1A0IJljag"
      },
      "cell_type": "markdown",
      "source": [
        "### Fix misleading plot #1"
      ]
    },
    {
      "metadata": {
        "id": "J3cqu0XikOQd",
        "colab_type": "text"
      },
      "cell_type": "markdown",
      "source": [
        "Plot mkt share auto US"
      ]
    },
    {
      "metadata": {
        "colab_type": "code",
        "id": "nSkHZKmRljah",
        "outputId": "f406928e-f8a0-41b7-fd2d-1380b11f9c1a",
        "colab": {
          "base_uri": "https://localhost:8080/",
          "height": 314
        }
      },
      "cell_type": "code",
      "source": [
        "misleading.plot1();"
      ],
      "execution_count": 0,
      "outputs": [
        {
          "output_type": "display_data",
          "data": {
            "image/png": "[encoded data removed]",
            "text/plain": [
              "<Figure size 432x288 with 1 Axes>"
            ]
          },
          "metadata": {
            "tags": []
          }
        }
      ]
    },
    {
      "metadata": {
        "id": "KcfsC5Dzj1QP",
        "colab_type": "code",
        "colab": {}
      },
      "cell_type": "code",
      "source": [
        "misleading??"
      ],
      "execution_count": 0,
      "outputs": []
    },
    {
      "metadata": {
        "id": "lfBcMOT6lTNM",
        "colab_type": "code",
        "outputId": "8d895c35-42f0-4521-b6cc-dfecbbb1b864",
        "colab": {
          "base_uri": "https://localhost:8080/",
          "height": 382
        }
      },
      "cell_type": "code",
      "source": [
        "insurance = pd.DataFrame(\n",
        "    index=['State Farm', 'GEICO'], \n",
        "    data={'Market Share %': [18.07, 12.79]})\n",
        "print(insurance)\n",
        "insurance.plot.bar()"
      ],
      "execution_count": 0,
      "outputs": [
        {
          "output_type": "stream",
          "text": [
            "            Market Share %\n",
            "State Farm           18.07\n",
            "GEICO                12.79\n"
          ],
          "name": "stdout"
        },
        {
          "output_type": "execute_result",
          "data": {
            "text/plain": [
              "<matplotlib.axes._subplots.AxesSubplot at 0x7f8dd448a6d8>"
            ]
          },
          "metadata": {
            "tags": []
          },
          "execution_count": 18
        },
        {
          "output_type": "display_data",
          "data": {
            "image/png": "[encoded data removed]",
            "text/plain": [
              "<Figure size 432x288 with 1 Axes>"
            ]
          },
          "metadata": {
            "tags": []
          }
        }
      ]
    },
    {
      "metadata": {
        "colab_type": "text",
        "id": "6RB2pFjQljal"
      },
      "cell_type": "markdown",
      "source": [
        "### Fix misleading plot #2"
      ]
    },
    {
      "metadata": {
        "colab_type": "code",
        "id": "PAjwPf8vljam",
        "outputId": "c70b36a9-7faa-415a-9092-7bf5129177a4",
        "colab": {
          "base_uri": "https://localhost:8080/",
          "height": 310
        }
      },
      "cell_type": "code",
      "source": [
        "misleading.plot2();"
      ],
      "execution_count": 0,
      "outputs": [
        {
          "output_type": "display_data",
          "data": {
            "image/png": "[encoded data removed]",
            "text/plain": [
              "<Figure size 360x360 with 1 Axes>"
            ]
          },
          "metadata": {
            "tags": []
          }
        }
      ]
    },
    {
      "metadata": {
        "id": "j9Va0iohnkHi",
        "colab_type": "code",
        "outputId": "0db0dbb1-fc39-4386-eb47-ee635b964460",
        "colab": {
          "base_uri": "https://localhost:8080/",
          "height": 85
        }
      },
      "cell_type": "code",
      "source": [
        "insurance = pd.DataFrame(\n",
        "    index=['State Farm', 'GEICO', 'Other'], \n",
        "    data={'Market Share %': [18.07, 12.79, 100 - 18.07 - 12.79]})\n",
        "print(insurance)"
      ],
      "execution_count": 0,
      "outputs": [
        {
          "output_type": "stream",
          "text": [
            "            Market Share %\n",
            "State Farm           18.07\n",
            "GEICO                12.79\n",
            "Other                69.14\n"
          ],
          "name": "stdout"
        }
      ]
    },
    {
      "metadata": {
        "id": "TPlTDo6GntdL",
        "colab_type": "code",
        "outputId": "eddfcd2d-76cd-4e37-d0f4-c00a588129a0",
        "colab": {
          "base_uri": "https://localhost:8080/",
          "height": 327
        }
      },
      "cell_type": "code",
      "source": [
        "insurance.plot.pie('Market Share %', figsize=(5, 5))"
      ],
      "execution_count": 0,
      "outputs": [
        {
          "output_type": "execute_result",
          "data": {
            "text/plain": [
              "<matplotlib.axes._subplots.AxesSubplot at 0x7f8dd43b2748>"
            ]
          },
          "metadata": {
            "tags": []
          },
          "execution_count": 21
        },
        {
          "output_type": "display_data",
          "data": {
            "image/png": "[encoded data removed]",
            "text/plain": [
              "<Figure size 360x360 with 1 Axes>"
            ]
          },
          "metadata": {
            "tags": []
          }
        }
      ]
    },
    {
      "metadata": {
        "colab_type": "text",
        "id": "6FISiBH3ljaw"
      },
      "cell_type": "markdown",
      "source": [
        "## Fix misleading plot #3"
      ]
    },
    {
      "metadata": {
        "colab_type": "text",
        "id": "Dwcc8Jylljax"
      },
      "cell_type": "markdown",
      "source": [
        "_If you're on Jupyter (not Colab) then uncomment and run this cell below:_"
      ]
    },
    {
      "metadata": {
        "colab_type": "code",
        "id": "TaSuwairljax",
        "colab": {}
      },
      "cell_type": "code",
      "source": [
        "# import altair as alt\n",
        "# alt.renderers.enable('notebook')"
      ],
      "execution_count": 0,
      "outputs": []
    },
    {
      "metadata": {
        "colab_type": "code",
        "id": "JMirz9RMljaz",
        "outputId": "e554a08b-232e-45b5-e4fb-989076df8c5d",
        "colab": {
          "base_uri": "https://localhost:8080/",
          "height": 331
        }
      },
      "cell_type": "code",
      "source": [
        "misleading.plot3()"
      ],
      "execution_count": 0,
      "outputs": [
        {
          "output_type": "execute_result",
          "data": {
            "text/plain": [
              "Chart({\n",
              "  data: UrlData({\n",
              "    format: TopoDataFormat({\n",
              "      feature: 'states',\n",
              "      type: 'topojson'\n",
              "    }),\n",
              "    url: 'https://vega.github.io/vega-datasets/data/us-10m.json'\n",
              "  }),\n",
              "  encoding: EncodingWithFacet({\n",
              "    color: Color({\n",
              "      shorthand: 'State Farm policy premiums',\n",
              "      type: 'quantitative'\n",
              "    })\n",
              "  }),\n",
              "  height: 300,\n",
              "  mark: 'geoshape',\n",
              "  projection: Projection({\n",
              "    type: 'albersUsa'\n",
              "  }),\n",
              "  transform: [LookupTransform({\n",
              "    from: LookupData({\n",
              "      data:                    state  id  State Farm policy premiums  \\\n",
              "      0                Alabama   1                      768213   \n",
              "      1                 Alaska   2                      128613   \n",
              "      2                Arizona   4                      760003   \n",
              "      3               Arkansas   5                      454931   \n",
              "      4             California   6                     3655463   \n",
              "      5               Colorado   8                      827143   \n",
              "      6            Connecticut   9                      169773   \n",
              "      7               Delaware  10                      191319   \n",
              "      8   District of Columbia  11                       67231   \n",
              "      9                Florida  12                     2806322   \n",
              "      10               Georgia  13                     1761224   \n",
              "      11                Hawaii  15                      133498   \n",
              "      12                 Idaho  16                      130613   \n",
              "      13              Illinois  17                     2256543   \n",
              "      14               Indiana  18                      861382   \n",
              "      15                  Iowa  19                      368898   \n",
              "      16                Kansas  20                      351343   \n",
              "      17              Kentucky  21                      680433   \n",
              "      18             Louisiana  22                     1415980   \n",
              "      19                 Maine  23                      101111   \n",
              "      20              Maryland  24                      883401   \n",
              "      21         Massachusetts  25                           0   \n",
              "      22              Michigan  26                     1580398   \n",
              "      23             Minnesota  27                      851940   \n",
              "      24           Mississippi  28                      467887   \n",
              "      25              Missouri  29                      883774   \n",
              "      26               Montana  30                      156816   \n",
              "      27              Nebraska  31                      273727   \n",
              "      28                Nevada  32                      404688   \n",
              "      29         New Hampshire  33                      103340   \n",
              "      30            New Jersey  34                      619623   \n",
              "      31            New Mexico  35                      261922   \n",
              "      32              New York  36                     1666653   \n",
              "      33        North Carolina  37                      842368   \n",
              "      34          North Dakota  38                       67282   \n",
              "      35                  Ohio  39                     1240075   \n",
              "      36              Oklahoma  40                      636063   \n",
              "      37                Oregon  41                      564416   \n",
              "      38          Pennsylvania  42                     1654528   \n",
              "      39          Rhode Island  44                           0   \n",
              "      40        South Carolina  45                      874436   \n",
              "      41          South Dakota  46                      101912   \n",
              "      42             Tennessee  47                      889329   \n",
              "      43                 Texas  48                     3395165   \n",
              "      44                  Utah  49                      300403   \n",
              "      45               Vermont  50                       30003   \n",
              "      46              Virginia  51                      878312   \n",
              "      47            Washington  53                      794882   \n",
              "      48         West Virginia  54                      323608   \n",
              "      49             Wisconsin  55                      443680   \n",
              "      50               Wyoming  56                       90412   \n",
              "      51           Puerto Rico  72                           0   \n",
              "      \n",
              "          BERKSHIRE HATHAWAY GRP  STATE TOTAL  \n",
              "      0                   282947      3025561  \n",
              "      1                    81366       454623  \n",
              "      2                   604049      4373055  \n",
              "      3                    96908      1777917  \n",
              "      4                  2091720     25255501  \n",
              "      5                   365797      4057463  \n",
              "      6                   486498      2795415  \n",
              "      7                   129033       802005  \n",
              "      8                   115149       325239  \n",
              "      9                  3952147     17333354  \n",
              "      10                  821326      7571988  \n",
              "      11                  184743       722550  \n",
              "      12                   87222       863636  \n",
              "      13                  412978      7028885  \n",
              "      14                  201200      3506499  \n",
              "      15                   58105      1650388  \n",
              "      16                   76533      1725608  \n",
              "      17                  186915      2805864  \n",
              "      18                  369492      4136224  \n",
              "      19                   68109       699558  \n",
              "      20                 1059508      4554586  \n",
              "      21                  473913      4924736  \n",
              "      22                       0      8462142  \n",
              "      23                  108942      3412460  \n",
              "      24                  100827      1760180  \n",
              "      25                  214191      3606590  \n",
              "      26                   33538       668513  \n",
              "      27                   61046      1167135  \n",
              "      28                  262815      2129828  \n",
              "      29                  103403       806545  \n",
              "      30                 1441019      7375823  \n",
              "      31                  174865      1284430  \n",
              "      32                 3926684     12633982  \n",
              "      33                  560700      5543700  \n",
              "      34                   15516       454376  \n",
              "      35                  405652      6303148  \n",
              "      36                  151388      2515842  \n",
              "      37                  223187      2647434  \n",
              "      38                  602848      8270326  \n",
              "      39                   97597       867558  \n",
              "      40                  426033      3583918  \n",
              "      41                   15682       508569  \n",
              "      42                  292357      3769652  \n",
              "      43                 2127633     19180816  \n",
              "      44                  139315      1723931  \n",
              "      45                   52939       359996  \n",
              "      46                  884489      5105360  \n",
              "      47                  478922      4780616  \n",
              "      48                  110806      1209872  \n",
              "      49                  131845      2950711  \n",
              "      50                   30187       374169  \n",
              "      51                       0       444480  ,\n",
              "      fields: ['State Farm policy premiums'],\n",
              "      key: 'id'\n",
              "    }),\n",
              "    lookup: 'id'\n",
              "  })],\n",
              "  width: 500\n",
              "})"
            ],
            "text/html": [
              "<!DOCTYPE html>\n",
              "<html>\n",
              "<head>\n",
              "  <style>\n",
              "    .vega-actions a {\n",
              "        margin-right: 12px;\n",
              "        color: #757575;\n",
              "        font-weight: normal;\n",
              "        font-size: 13px;\n",
              "    }\n",
              "    .error {\n",
              "        color: red;\n",
              "    }\n",
              "  </style>\n",
              "  <script type=\"text/javascript\" src=\"https://cdn.jsdelivr.net/npm//vega@4\"></script>\n",
              "  <script type=\"text/javascript\" src=\"https://cdn.jsdelivr.net/npm//vega-lite@2.6.0\"></script>\n",
              "  <script type=\"text/javascript\" src=\"https://cdn.jsdelivr.net/npm//vega-embed@3\"></script>\n",
              "</head>\n",
              "<body>\n",
              "  <div id=\"altair-viz\"></div>\n",
              "  <script>\n",
              "      var spec = {\"config\": {\"view\": {\"width\": 400, \"height\": 300}}, \"data\": {\"url\": \"https://vega.github.io/vega-datasets/data/us-10m.json\", \"format\": {\"feature\": \"states\", \"type\": \"topojson\"}}, \"mark\": \"geoshape\", \"encoding\": {\"color\": {\"type\": \"quantitative\", \"field\": \"State Farm policy premiums\"}}, \"height\": 300, \"projection\": {\"type\": \"albersUsa\"}, \"transform\": [{\"lookup\": \"id\", \"from\": {\"data\": {\"name\": \"data-b615a17f98b0ca7d11f99dcf36616c5d\"}, \"key\": \"id\", \"fields\": [\"State Farm policy premiums\"]}}], \"width\": 500, \"$schema\": \"https://vega.github.io/schema/vega-lite/v2.6.0.json\", \"datasets\": {\"data-b615a17f98b0ca7d11f99dcf36616c5d\": [{\"state\": \"Alabama\", \"id\": 1, \"State Farm policy premiums\": 768213, \"BERKSHIRE HATHAWAY GRP\": 282947, \"STATE TOTAL\": 3025561}, {\"state\": \"Alaska\", \"id\": 2, \"State Farm policy premiums\": 128613, \"BERKSHIRE HATHAWAY GRP\": 81366, \"STATE TOTAL\": 454623}, {\"state\": \"Arizona\", \"id\": 4, \"State Farm policy premiums\": 760003, \"BERKSHIRE HATHAWAY GRP\": 604049, \"STATE TOTAL\": 4373055}, {\"state\": \"Arkansas\", \"id\": 5, \"State Farm policy premiums\": 454931, \"BERKSHIRE HATHAWAY GRP\": 96908, \"STATE TOTAL\": 1777917}, {\"state\": \"California\", \"id\": 6, \"State Farm policy premiums\": 3655463, \"BERKSHIRE HATHAWAY GRP\": 2091720, \"STATE TOTAL\": 25255501}, {\"state\": \"Colorado\", \"id\": 8, \"State Farm policy premiums\": 827143, \"BERKSHIRE HATHAWAY GRP\": 365797, \"STATE TOTAL\": 4057463}, {\"state\": \"Connecticut\", \"id\": 9, \"State Farm policy premiums\": 169773, \"BERKSHIRE HATHAWAY GRP\": 486498, \"STATE TOTAL\": 2795415}, {\"state\": \"Delaware\", \"id\": 10, \"State Farm policy premiums\": 191319, \"BERKSHIRE HATHAWAY GRP\": 129033, \"STATE TOTAL\": 802005}, {\"state\": \"District of Columbia\", \"id\": 11, \"State Farm policy premiums\": 67231, \"BERKSHIRE HATHAWAY GRP\": 115149, \"STATE TOTAL\": 325239}, {\"state\": \"Florida\", \"id\": 12, \"State Farm policy premiums\": 2806322, \"BERKSHIRE HATHAWAY GRP\": 3952147, \"STATE TOTAL\": 17333354}, {\"state\": \"Georgia\", \"id\": 13, \"State Farm policy premiums\": 1761224, \"BERKSHIRE HATHAWAY GRP\": 821326, \"STATE TOTAL\": 7571988}, {\"state\": \"Hawaii\", \"id\": 15, \"State Farm policy premiums\": 133498, \"BERKSHIRE HATHAWAY GRP\": 184743, \"STATE TOTAL\": 722550}, {\"state\": \"Idaho\", \"id\": 16, \"State Farm policy premiums\": 130613, \"BERKSHIRE HATHAWAY GRP\": 87222, \"STATE TOTAL\": 863636}, {\"state\": \"Illinois\", \"id\": 17, \"State Farm policy premiums\": 2256543, \"BERKSHIRE HATHAWAY GRP\": 412978, \"STATE TOTAL\": 7028885}, {\"state\": \"Indiana\", \"id\": 18, \"State Farm policy premiums\": 861382, \"BERKSHIRE HATHAWAY GRP\": 201200, \"STATE TOTAL\": 3506499}, {\"state\": \"Iowa\", \"id\": 19, \"State Farm policy premiums\": 368898, \"BERKSHIRE HATHAWAY GRP\": 58105, \"STATE TOTAL\": 1650388}, {\"state\": \"Kansas\", \"id\": 20, \"State Farm policy premiums\": 351343, \"BERKSHIRE HATHAWAY GRP\": 76533, \"STATE TOTAL\": 1725608}, {\"state\": \"Kentucky\", \"id\": 21, \"State Farm policy premiums\": 680433, \"BERKSHIRE HATHAWAY GRP\": 186915, \"STATE TOTAL\": 2805864}, {\"state\": \"Louisiana\", \"id\": 22, \"State Farm policy premiums\": 1415980, \"BERKSHIRE HATHAWAY GRP\": 369492, \"STATE TOTAL\": 4136224}, {\"state\": \"Maine\", \"id\": 23, \"State Farm policy premiums\": 101111, \"BERKSHIRE HATHAWAY GRP\": 68109, \"STATE TOTAL\": 699558}, {\"state\": \"Maryland\", \"id\": 24, \"State Farm policy premiums\": 883401, \"BERKSHIRE HATHAWAY GRP\": 1059508, \"STATE TOTAL\": 4554586}, {\"state\": \"Massachusetts\", \"id\": 25, \"State Farm policy premiums\": 0, \"BERKSHIRE HATHAWAY GRP\": 473913, \"STATE TOTAL\": 4924736}, {\"state\": \"Michigan\", \"id\": 26, \"State Farm policy premiums\": 1580398, \"BERKSHIRE HATHAWAY GRP\": 0, \"STATE TOTAL\": 8462142}, {\"state\": \"Minnesota\", \"id\": 27, \"State Farm policy premiums\": 851940, \"BERKSHIRE HATHAWAY GRP\": 108942, \"STATE TOTAL\": 3412460}, {\"state\": \"Mississippi\", \"id\": 28, \"State Farm policy premiums\": 467887, \"BERKSHIRE HATHAWAY GRP\": 100827, \"STATE TOTAL\": 1760180}, {\"state\": \"Missouri\", \"id\": 29, \"State Farm policy premiums\": 883774, \"BERKSHIRE HATHAWAY GRP\": 214191, \"STATE TOTAL\": 3606590}, {\"state\": \"Montana\", \"id\": 30, \"State Farm policy premiums\": 156816, \"BERKSHIRE HATHAWAY GRP\": 33538, \"STATE TOTAL\": 668513}, {\"state\": \"Nebraska\", \"id\": 31, \"State Farm policy premiums\": 273727, \"BERKSHIRE HATHAWAY GRP\": 61046, \"STATE TOTAL\": 1167135}, {\"state\": \"Nevada\", \"id\": 32, \"State Farm policy premiums\": 404688, \"BERKSHIRE HATHAWAY GRP\": 262815, \"STATE TOTAL\": 2129828}, {\"state\": \"New Hampshire\", \"id\": 33, \"State Farm policy premiums\": 103340, \"BERKSHIRE HATHAWAY GRP\": 103403, \"STATE TOTAL\": 806545}, {\"state\": \"New Jersey\", \"id\": 34, \"State Farm policy premiums\": 619623, \"BERKSHIRE HATHAWAY GRP\": 1441019, \"STATE TOTAL\": 7375823}, {\"state\": \"New Mexico\", \"id\": 35, \"State Farm policy premiums\": 261922, \"BERKSHIRE HATHAWAY GRP\": 174865, \"STATE TOTAL\": 1284430}, {\"state\": \"New York\", \"id\": 36, \"State Farm policy premiums\": 1666653, \"BERKSHIRE HATHAWAY GRP\": 3926684, \"STATE TOTAL\": 12633982}, {\"state\": \"North Carolina\", \"id\": 37, \"State Farm policy premiums\": 842368, \"BERKSHIRE HATHAWAY GRP\": 560700, \"STATE TOTAL\": 5543700}, {\"state\": \"North Dakota\", \"id\": 38, \"State Farm policy premiums\": 67282, \"BERKSHIRE HATHAWAY GRP\": 15516, \"STATE TOTAL\": 454376}, {\"state\": \"Ohio\", \"id\": 39, \"State Farm policy premiums\": 1240075, \"BERKSHIRE HATHAWAY GRP\": 405652, \"STATE TOTAL\": 6303148}, {\"state\": \"Oklahoma\", \"id\": 40, \"State Farm policy premiums\": 636063, \"BERKSHIRE HATHAWAY GRP\": 151388, \"STATE TOTAL\": 2515842}, {\"state\": \"Oregon\", \"id\": 41, \"State Farm policy premiums\": 564416, \"BERKSHIRE HATHAWAY GRP\": 223187, \"STATE TOTAL\": 2647434}, {\"state\": \"Pennsylvania\", \"id\": 42, \"State Farm policy premiums\": 1654528, \"BERKSHIRE HATHAWAY GRP\": 602848, \"STATE TOTAL\": 8270326}, {\"state\": \"Rhode Island\", \"id\": 44, \"State Farm policy premiums\": 0, \"BERKSHIRE HATHAWAY GRP\": 97597, \"STATE TOTAL\": 867558}, {\"state\": \"South Carolina\", \"id\": 45, \"State Farm policy premiums\": 874436, \"BERKSHIRE HATHAWAY GRP\": 426033, \"STATE TOTAL\": 3583918}, {\"state\": \"South Dakota\", \"id\": 46, \"State Farm policy premiums\": 101912, \"BERKSHIRE HATHAWAY GRP\": 15682, \"STATE TOTAL\": 508569}, {\"state\": \"Tennessee\", \"id\": 47, \"State Farm policy premiums\": 889329, \"BERKSHIRE HATHAWAY GRP\": 292357, \"STATE TOTAL\": 3769652}, {\"state\": \"Texas\", \"id\": 48, \"State Farm policy premiums\": 3395165, \"BERKSHIRE HATHAWAY GRP\": 2127633, \"STATE TOTAL\": 19180816}, {\"state\": \"Utah\", \"id\": 49, \"State Farm policy premiums\": 300403, \"BERKSHIRE HATHAWAY GRP\": 139315, \"STATE TOTAL\": 1723931}, {\"state\": \"Vermont\", \"id\": 50, \"State Farm policy premiums\": 30003, \"BERKSHIRE HATHAWAY GRP\": 52939, \"STATE TOTAL\": 359996}, {\"state\": \"Virginia\", \"id\": 51, \"State Farm policy premiums\": 878312, \"BERKSHIRE HATHAWAY GRP\": 884489, \"STATE TOTAL\": 5105360}, {\"state\": \"Washington\", \"id\": 53, \"State Farm policy premiums\": 794882, \"BERKSHIRE HATHAWAY GRP\": 478922, \"STATE TOTAL\": 4780616}, {\"state\": \"West Virginia\", \"id\": 54, \"State Farm policy premiums\": 323608, \"BERKSHIRE HATHAWAY GRP\": 110806, \"STATE TOTAL\": 1209872}, {\"state\": \"Wisconsin\", \"id\": 55, \"State Farm policy premiums\": 443680, \"BERKSHIRE HATHAWAY GRP\": 131845, \"STATE TOTAL\": 2950711}, {\"state\": \"Wyoming\", \"id\": 56, \"State Farm policy premiums\": 90412, \"BERKSHIRE HATHAWAY GRP\": 30187, \"STATE TOTAL\": 374169}, {\"state\": \"Puerto Rico\", \"id\": 72, \"State Farm policy premiums\": 0, \"BERKSHIRE HATHAWAY GRP\": 0, \"STATE TOTAL\": 444480}]}};\n",
              "      var embedOpt = {\"mode\": \"vega-lite\"};\n",
              "\n",
              "      function showError(el, error){\n",
              "          el.innerHTML = ('<div class=\"error\" style=\"color:red;\">'\n",
              "                          + '<p>JavaScript Error: ' + error.message + '</p>'\n",
              "                          + \"<p>This usually means there's a typo in your chart specification. \"\n",
              "                          + \"See the javascript console for the full traceback.</p>\"\n",
              "                          + '</div>');\n",
              "          throw error;\n",
              "      }\n",
              "      const el = document.getElementById('altair-viz');\n",
              "      vegaEmbed(\"#altair-viz\", spec, embedOpt)\n",
              "        .catch(error => showError(el, error));\n",
              "\n",
              "  </script>\n",
              "</body>\n",
              "</html>"
            ]
          },
          "metadata": {
            "tags": []
          },
          "execution_count": 23
        }
      ]
    },
    {
      "metadata": {
        "id": "h9XN2EvjpAQS",
        "colab_type": "code",
        "colab": {}
      },
      "cell_type": "code",
      "source": [
        "# Based on https://altair-viz.github.io/gallery/choropleth_repeat.html\n",
        "import altair as alt\n",
        "from vega_datasets import data\n",
        "\n",
        "url = 'https://raw.githubusercontent.com/LambdaSchool/DS-Unit-1-Sprint-3-Data-Storytelling/master/module2-choose-appropriate-visualizations/direct_written_premium_by_state_by_group_private_passenger_auto.csv'"
      ],
      "execution_count": 0,
      "outputs": []
    },
    {
      "metadata": {
        "id": "zoUUX9HNuT0L",
        "colab_type": "code",
        "colab": {}
      },
      "cell_type": "code",
      "source": [
        "# Load the State Farm data\n",
        "df = pd.read_csv(url)\n",
        "\n",
        "df.rename(columns={'STATE FARM GRP': 'State Farm policy premiums'}, inplace=True)\n",
        "variable = 'State Farm policy premiums'"
      ],
      "execution_count": 0,
      "outputs": []
    },
    {
      "metadata": {
        "id": "c9gERd36uZri",
        "colab_type": "code",
        "colab": {}
      },
      "cell_type": "code",
      "source": [
        "# Calculate market share percentage by state\n",
        "\n",
        "df['State Farm market share %'] = (\n",
        "    df['State Farm policy premiums'] / \n",
        "    df['STATE TOTAL'])"
      ],
      "execution_count": 0,
      "outputs": []
    },
    {
      "metadata": {
        "id": "uuu5UHeUukqR",
        "colab_type": "code",
        "outputId": "96060759-d973-42ac-9001-6f8a06ff686e",
        "colab": {
          "base_uri": "https://localhost:8080/",
          "height": 331
        }
      },
      "cell_type": "code",
      "source": [
        "# And then map State Farm market share % instead of State Farm policy premiums\n",
        "variable = 'State Farm market share %'\n",
        "\n",
        "states = alt.topo_feature(data.us_10m.url, 'states')\n",
        "\n",
        "alt.Chart(states).mark_geoshape().encode(\n",
        "    alt.Color(variable, type='quantitative')\n",
        ").transform_lookup(\n",
        "    lookup='id',\n",
        "    from_=alt.LookupData(df, 'id', [variable])\n",
        ").properties(\n",
        "    width=500,\n",
        "    height=300\n",
        ").project(\n",
        "    type='albersUsa'\n",
        ")"
      ],
      "execution_count": 0,
      "outputs": [
        {
          "output_type": "execute_result",
          "data": {
            "text/plain": [
              "Chart({\n",
              "  data: UrlData({\n",
              "    format: TopoDataFormat({\n",
              "      feature: 'states',\n",
              "      type: 'topojson'\n",
              "    }),\n",
              "    url: 'https://vega.github.io/vega-datasets/data/us-10m.json'\n",
              "  }),\n",
              "  encoding: EncodingWithFacet({\n",
              "    color: Color({\n",
              "      shorthand: 'State Farm market share %',\n",
              "      type: 'quantitative'\n",
              "    })\n",
              "  }),\n",
              "  height: 300,\n",
              "  mark: 'geoshape',\n",
              "  projection: Projection({\n",
              "    type: 'albersUsa'\n",
              "  }),\n",
              "  transform: [LookupTransform({\n",
              "    from: LookupData({\n",
              "      data:                    state  id  State Farm policy premiums  \\\n",
              "      0                Alabama   1                      768213   \n",
              "      1                 Alaska   2                      128613   \n",
              "      2                Arizona   4                      760003   \n",
              "      3               Arkansas   5                      454931   \n",
              "      4             California   6                     3655463   \n",
              "      5               Colorado   8                      827143   \n",
              "      6            Connecticut   9                      169773   \n",
              "      7               Delaware  10                      191319   \n",
              "      8   District of Columbia  11                       67231   \n",
              "      9                Florida  12                     2806322   \n",
              "      10               Georgia  13                     1761224   \n",
              "      11                Hawaii  15                      133498   \n",
              "      12                 Idaho  16                      130613   \n",
              "      13              Illinois  17                     2256543   \n",
              "      14               Indiana  18                      861382   \n",
              "      15                  Iowa  19                      368898   \n",
              "      16                Kansas  20                      351343   \n",
              "      17              Kentucky  21                      680433   \n",
              "      18             Louisiana  22                     1415980   \n",
              "      19                 Maine  23                      101111   \n",
              "      20              Maryland  24                      883401   \n",
              "      21         Massachusetts  25                           0   \n",
              "      22              Michigan  26                     1580398   \n",
              "      23             Minnesota  27                      851940   \n",
              "      24           Mississippi  28                      467887   \n",
              "      25              Missouri  29                      883774   \n",
              "      26               Montana  30                      156816   \n",
              "      27              Nebraska  31                      273727   \n",
              "      28                Nevada  32                      404688   \n",
              "      29         New Hampshire  33                      103340   \n",
              "      30            New Jersey  34                      619623   \n",
              "      31            New Mexico  35                      261922   \n",
              "      32              New York  36                     1666653   \n",
              "      33        North Carolina  37                      842368   \n",
              "      34          North Dakota  38                       67282   \n",
              "      35                  Ohio  39                     1240075   \n",
              "      36              Oklahoma  40                      636063   \n",
              "      37                Oregon  41                      564416   \n",
              "      38          Pennsylvania  42                     1654528   \n",
              "      39          Rhode Island  44                           0   \n",
              "      40        South Carolina  45                      874436   \n",
              "      41          South Dakota  46                      101912   \n",
              "      42             Tennessee  47                      889329   \n",
              "      43                 Texas  48                     3395165   \n",
              "      44                  Utah  49                      300403   \n",
              "      45               Vermont  50                       30003   \n",
              "      46              Virginia  51                      878312   \n",
              "      47            Washington  53                      794882   \n",
              "      48         West Virginia  54                      323608   \n",
              "      49             Wisconsin  55                      443680   \n",
              "      50               Wyoming  56                       90412   \n",
              "      51           Puerto Rico  72                           0   \n",
              "      \n",
              "          BERKSHIRE HATHAWAY GRP  STATE TOTAL  State Farm market share %  \n",
              "      0                   282947      3025561                   0.253908  \n",
              "      1                    81366       454623                   0.282900  \n",
              "      2                   604049      4373055                   0.173792  \n",
              "      3                    96908      1777917                   0.255879  \n",
              "      4                  2091720     25255501                   0.144739  \n",
              "      5                   365797      4057463                   0.203857  \n",
              "      6                   486498      2795415                   0.060733  \n",
              "      7                   129033       802005                   0.238551  \n",
              "      8                   115149       325239                   0.206713  \n",
              "      9                  3952147     17333354                   0.161903  \n",
              "      10                  821326      7571988                   0.232597  \n",
              "      11                  184743       722550                   0.184760  \n",
              "      12                   87222       863636                   0.151236  \n",
              "      13                  412978      7028885                   0.321039  \n",
              "      14                  201200      3506499                   0.245653  \n",
              "      15                   58105      1650388                   0.223522  \n",
              "      16                   76533      1725608                   0.203605  \n",
              "      17                  186915      2805864                   0.242504  \n",
              "      18                  369492      4136224                   0.342336  \n",
              "      19                   68109       699558                   0.144536  \n",
              "      20                 1059508      4554586                   0.193959  \n",
              "      21                  473913      4924736                   0.000000  \n",
              "      22                       0      8462142                   0.186761  \n",
              "      23                  108942      3412460                   0.249656  \n",
              "      24                  100827      1760180                   0.265818  \n",
              "      25                  214191      3606590                   0.245044  \n",
              "      26                   33538       668513                   0.234574  \n",
              "      27                   61046      1167135                   0.234529  \n",
              "      28                  262815      2129828                   0.190010  \n",
              "      29                  103403       806545                   0.128127  \n",
              "      30                 1441019      7375823                   0.084007  \n",
              "      31                  174865      1284430                   0.203921  \n",
              "      32                 3926684     12633982                   0.131918  \n",
              "      33                  560700      5543700                   0.151951  \n",
              "      34                   15516       454376                   0.148076  \n",
              "      35                  405652      6303148                   0.196739  \n",
              "      36                  151388      2515842                   0.252823  \n",
              "      37                  223187      2647434                   0.213194  \n",
              "      38                  602848      8270326                   0.200056  \n",
              "      39                   97597       867558                   0.000000  \n",
              "      40                  426033      3583918                   0.243989  \n",
              "      41                   15682       508569                   0.200390  \n",
              "      42                  292357      3769652                   0.235918  \n",
              "      43                 2127633     19180816                   0.177008  \n",
              "      44                  139315      1723931                   0.174255  \n",
              "      45                   52939       359996                   0.083343  \n",
              "      46                  884489      5105360                   0.172037  \n",
              "      47                  478922      4780616                   0.166272  \n",
              "      48                  110806      1209872                   0.267473  \n",
              "      49                  131845      2950711                   0.150364  \n",
              "      50                   30187       374169                   0.241634  \n",
              "      51                       0       444480                   0.000000  ,\n",
              "      fields: ['State Farm market share %'],\n",
              "      key: 'id'\n",
              "    }),\n",
              "    lookup: 'id'\n",
              "  })],\n",
              "  width: 500\n",
              "})"
            ],
            "text/html": [
              "<!DOCTYPE html>\n",
              "<html>\n",
              "<head>\n",
              "  <style>\n",
              "    .vega-actions a {\n",
              "        margin-right: 12px;\n",
              "        color: #757575;\n",
              "        font-weight: normal;\n",
              "        font-size: 13px;\n",
              "    }\n",
              "    .error {\n",
              "        color: red;\n",
              "    }\n",
              "  </style>\n",
              "  <script type=\"text/javascript\" src=\"https://cdn.jsdelivr.net/npm//vega@4\"></script>\n",
              "  <script type=\"text/javascript\" src=\"https://cdn.jsdelivr.net/npm//vega-lite@2.6.0\"></script>\n",
              "  <script type=\"text/javascript\" src=\"https://cdn.jsdelivr.net/npm//vega-embed@3\"></script>\n",
              "</head>\n",
              "<body>\n",
              "  <div id=\"altair-viz\"></div>\n",
              "  <script>\n",
              "      var spec = {\"config\": {\"view\": {\"width\": 400, \"height\": 300}}, \"data\": {\"url\": \"https://vega.github.io/vega-datasets/data/us-10m.json\", \"format\": {\"feature\": \"states\", \"type\": \"topojson\"}}, \"mark\": \"geoshape\", \"encoding\": {\"color\": {\"type\": \"quantitative\", \"field\": \"State Farm market share %\"}}, \"height\": 300, \"projection\": {\"type\": \"albersUsa\"}, \"transform\": [{\"lookup\": \"id\", \"from\": {\"data\": {\"name\": \"data-d9e3a8993215d131b3b671a2164b42c1\"}, \"key\": \"id\", \"fields\": [\"State Farm market share %\"]}}], \"width\": 500, \"$schema\": \"https://vega.github.io/schema/vega-lite/v2.6.0.json\", \"datasets\": {\"data-d9e3a8993215d131b3b671a2164b42c1\": [{\"state\": \"Alabama\", \"id\": 1, \"State Farm policy premiums\": 768213, \"BERKSHIRE HATHAWAY GRP\": 282947, \"STATE TOTAL\": 3025561, \"State Farm market share %\": 0.2539076224210981}, {\"state\": \"Alaska\", \"id\": 2, \"State Farm policy premiums\": 128613, \"BERKSHIRE HATHAWAY GRP\": 81366, \"STATE TOTAL\": 454623, \"State Farm market share %\": 0.28290033720247326}, {\"state\": \"Arizona\", \"id\": 4, \"State Farm policy premiums\": 760003, \"BERKSHIRE HATHAWAY GRP\": 604049, \"STATE TOTAL\": 4373055, \"State Farm market share %\": 0.1737922344905335}, {\"state\": \"Arkansas\", \"id\": 5, \"State Farm policy premiums\": 454931, \"BERKSHIRE HATHAWAY GRP\": 96908, \"STATE TOTAL\": 1777917, \"State Farm market share %\": 0.25587864900329993}, {\"state\": \"California\", \"id\": 6, \"State Farm policy premiums\": 3655463, \"BERKSHIRE HATHAWAY GRP\": 2091720, \"STATE TOTAL\": 25255501, \"State Farm market share %\": 0.14473927878128412}, {\"state\": \"Colorado\", \"id\": 8, \"State Farm policy premiums\": 827143, \"BERKSHIRE HATHAWAY GRP\": 365797, \"STATE TOTAL\": 4057463, \"State Farm market share %\": 0.20385718859297053}, {\"state\": \"Connecticut\", \"id\": 9, \"State Farm policy premiums\": 169773, \"BERKSHIRE HATHAWAY GRP\": 486498, \"STATE TOTAL\": 2795415, \"State Farm market share %\": 0.06073266402305203}, {\"state\": \"Delaware\", \"id\": 10, \"State Farm policy premiums\": 191319, \"BERKSHIRE HATHAWAY GRP\": 129033, \"STATE TOTAL\": 802005, \"State Farm market share %\": 0.23855088185235754}, {\"state\": \"District of Columbia\", \"id\": 11, \"State Farm policy premiums\": 67231, \"BERKSHIRE HATHAWAY GRP\": 115149, \"STATE TOTAL\": 325239, \"State Farm market share %\": 0.20671260211721226}, {\"state\": \"Florida\", \"id\": 12, \"State Farm policy premiums\": 2806322, \"BERKSHIRE HATHAWAY GRP\": 3952147, \"STATE TOTAL\": 17333354, \"State Farm market share %\": 0.16190299926950086}, {\"state\": \"Georgia\", \"id\": 13, \"State Farm policy premiums\": 1761224, \"BERKSHIRE HATHAWAY GRP\": 821326, \"STATE TOTAL\": 7571988, \"State Farm market share %\": 0.23259730469726048}, {\"state\": \"Hawaii\", \"id\": 15, \"State Farm policy premiums\": 133498, \"BERKSHIRE HATHAWAY GRP\": 184743, \"STATE TOTAL\": 722550, \"State Farm market share %\": 0.18475953221230365}, {\"state\": \"Idaho\", \"id\": 16, \"State Farm policy premiums\": 130613, \"BERKSHIRE HATHAWAY GRP\": 87222, \"STATE TOTAL\": 863636, \"State Farm market share %\": 0.15123616894154482}, {\"state\": \"Illinois\", \"id\": 17, \"State Farm policy premiums\": 2256543, \"BERKSHIRE HATHAWAY GRP\": 412978, \"STATE TOTAL\": 7028885, \"State Farm market share %\": 0.32103854309751834}, {\"state\": \"Indiana\", \"id\": 18, \"State Farm policy premiums\": 861382, \"BERKSHIRE HATHAWAY GRP\": 201200, \"STATE TOTAL\": 3506499, \"State Farm market share %\": 0.245653000328818}, {\"state\": \"Iowa\", \"id\": 19, \"State Farm policy premiums\": 368898, \"BERKSHIRE HATHAWAY GRP\": 58105, \"STATE TOTAL\": 1650388, \"State Farm market share %\": 0.22352198392135667}, {\"state\": \"Kansas\", \"id\": 20, \"State Farm policy premiums\": 351343, \"BERKSHIRE HATHAWAY GRP\": 76533, \"STATE TOTAL\": 1725608, \"State Farm market share %\": 0.20360533794465488}, {\"state\": \"Kentucky\", \"id\": 21, \"State Farm policy premiums\": 680433, \"BERKSHIRE HATHAWAY GRP\": 186915, \"STATE TOTAL\": 2805864, \"State Farm market share %\": 0.24250391323314316}, {\"state\": \"Louisiana\", \"id\": 22, \"State Farm policy premiums\": 1415980, \"BERKSHIRE HATHAWAY GRP\": 369492, \"STATE TOTAL\": 4136224, \"State Farm market share %\": 0.34233639183951353}, {\"state\": \"Maine\", \"id\": 23, \"State Farm policy premiums\": 101111, \"BERKSHIRE HATHAWAY GRP\": 68109, \"STATE TOTAL\": 699558, \"State Farm market share %\": 0.1445355495898839}, {\"state\": \"Maryland\", \"id\": 24, \"State Farm policy premiums\": 883401, \"BERKSHIRE HATHAWAY GRP\": 1059508, \"STATE TOTAL\": 4554586, \"State Farm market share %\": 0.19395857274404305}, {\"state\": \"Massachusetts\", \"id\": 25, \"State Farm policy premiums\": 0, \"BERKSHIRE HATHAWAY GRP\": 473913, \"STATE TOTAL\": 4924736, \"State Farm market share %\": 0.0}, {\"state\": \"Michigan\", \"id\": 26, \"State Farm policy premiums\": 1580398, \"BERKSHIRE HATHAWAY GRP\": 0, \"STATE TOTAL\": 8462142, \"State Farm market share %\": 0.18676098793898754}, {\"state\": \"Minnesota\", \"id\": 27, \"State Farm policy premiums\": 851940, \"BERKSHIRE HATHAWAY GRP\": 108942, \"STATE TOTAL\": 3412460, \"State Farm market share %\": 0.24965567361961752}, {\"state\": \"Mississippi\", \"id\": 28, \"State Farm policy premiums\": 467887, \"BERKSHIRE HATHAWAY GRP\": 100827, \"STATE TOTAL\": 1760180, \"State Farm market share %\": 0.2658177004624527}, {\"state\": \"Missouri\", \"id\": 29, \"State Farm policy premiums\": 883774, \"BERKSHIRE HATHAWAY GRP\": 214191, \"STATE TOTAL\": 3606590, \"State Farm market share %\": 0.24504421073645744}, {\"state\": \"Montana\", \"id\": 30, \"State Farm policy premiums\": 156816, \"BERKSHIRE HATHAWAY GRP\": 33538, \"STATE TOTAL\": 668513, \"State Farm market share %\": 0.23457434634778979}, {\"state\": \"Nebraska\", \"id\": 31, \"State Farm policy premiums\": 273727, \"BERKSHIRE HATHAWAY GRP\": 61046, \"STATE TOTAL\": 1167135, \"State Farm market share %\": 0.2345289962172328}, {\"state\": \"Nevada\", \"id\": 32, \"State Farm policy premiums\": 404688, \"BERKSHIRE HATHAWAY GRP\": 262815, \"STATE TOTAL\": 2129828, \"State Farm market share %\": 0.19000970970425782}, {\"state\": \"New Hampshire\", \"id\": 33, \"State Farm policy premiums\": 103340, \"BERKSHIRE HATHAWAY GRP\": 103403, \"STATE TOTAL\": 806545, \"State Farm market share %\": 0.12812676292085376}, {\"state\": \"New Jersey\", \"id\": 34, \"State Farm policy premiums\": 619623, \"BERKSHIRE HATHAWAY GRP\": 1441019, \"STATE TOTAL\": 7375823, \"State Farm market share %\": 0.08400730332059216}, {\"state\": \"New Mexico\", \"id\": 35, \"State Farm policy premiums\": 261922, \"BERKSHIRE HATHAWAY GRP\": 174865, \"STATE TOTAL\": 1284430, \"State Farm market share %\": 0.2039208053377763}, {\"state\": \"New York\", \"id\": 36, \"State Farm policy premiums\": 1666653, \"BERKSHIRE HATHAWAY GRP\": 3926684, \"STATE TOTAL\": 12633982, \"State Farm market share %\": 0.131918266149184}, {\"state\": \"North Carolina\", \"id\": 37, \"State Farm policy premiums\": 842368, \"BERKSHIRE HATHAWAY GRP\": 560700, \"STATE TOTAL\": 5543700, \"State Farm market share %\": 0.15195050237206198}, {\"state\": \"North Dakota\", \"id\": 38, \"State Farm policy premiums\": 67282, \"BERKSHIRE HATHAWAY GRP\": 15516, \"STATE TOTAL\": 454376, \"State Farm market share %\": 0.14807560258464356}, {\"state\": \"Ohio\", \"id\": 39, \"State Farm policy premiums\": 1240075, \"BERKSHIRE HATHAWAY GRP\": 405652, \"STATE TOTAL\": 6303148, \"State Farm market share %\": 0.19673899454685181}, {\"state\": \"Oklahoma\", \"id\": 40, \"State Farm policy premiums\": 636063, \"BERKSHIRE HATHAWAY GRP\": 151388, \"STATE TOTAL\": 2515842, \"State Farm market share %\": 0.2528231105132993}, {\"state\": \"Oregon\", \"id\": 41, \"State Farm policy premiums\": 564416, \"BERKSHIRE HATHAWAY GRP\": 223187, \"STATE TOTAL\": 2647434, \"State Farm market share %\": 0.21319360558185776}, {\"state\": \"Pennsylvania\", \"id\": 42, \"State Farm policy premiums\": 1654528, \"BERKSHIRE HATHAWAY GRP\": 602848, \"STATE TOTAL\": 8270326, \"State Farm market share %\": 0.20005595910004031}, {\"state\": \"Rhode Island\", \"id\": 44, \"State Farm policy premiums\": 0, \"BERKSHIRE HATHAWAY GRP\": 97597, \"STATE TOTAL\": 867558, \"State Farm market share %\": 0.0}, {\"state\": \"South Carolina\", \"id\": 45, \"State Farm policy premiums\": 874436, \"BERKSHIRE HATHAWAY GRP\": 426033, \"STATE TOTAL\": 3583918, \"State Farm market share %\": 0.24398884126255121}, {\"state\": \"South Dakota\", \"id\": 46, \"State Farm policy premiums\": 101912, \"BERKSHIRE HATHAWAY GRP\": 15682, \"STATE TOTAL\": 508569, \"State Farm market share %\": 0.20038972096215066}, {\"state\": \"Tennessee\", \"id\": 47, \"State Farm policy premiums\": 889329, \"BERKSHIRE HATHAWAY GRP\": 292357, \"STATE TOTAL\": 3769652, \"State Farm market share %\": 0.23591806352416617}, {\"state\": \"Texas\", \"id\": 48, \"State Farm policy premiums\": 3395165, \"BERKSHIRE HATHAWAY GRP\": 2127633, \"STATE TOTAL\": 19180816, \"State Farm market share %\": 0.17700837128097158}, {\"state\": \"Utah\", \"id\": 49, \"State Farm policy premiums\": 300403, \"BERKSHIRE HATHAWAY GRP\": 139315, \"STATE TOTAL\": 1723931, \"State Farm market share %\": 0.17425465404357832}, {\"state\": \"Vermont\", \"id\": 50, \"State Farm policy premiums\": 30003, \"BERKSHIRE HATHAWAY GRP\": 52939, \"STATE TOTAL\": 359996, \"State Farm market share %\": 0.0833425926954744}, {\"state\": \"Virginia\", \"id\": 51, \"State Farm policy premiums\": 878312, \"BERKSHIRE HATHAWAY GRP\": 884489, \"STATE TOTAL\": 5105360, \"State Farm market share %\": 0.17203723145870223}, {\"state\": \"Washington\", \"id\": 53, \"State Farm policy premiums\": 794882, \"BERKSHIRE HATHAWAY GRP\": 478922, \"STATE TOTAL\": 4780616, \"State Farm market share %\": 0.16627187793372236}, {\"state\": \"West Virginia\", \"id\": 54, \"State Farm policy premiums\": 323608, \"BERKSHIRE HATHAWAY GRP\": 110806, \"STATE TOTAL\": 1209872, \"State Farm market share %\": 0.267472922755465}, {\"state\": \"Wisconsin\", \"id\": 55, \"State Farm policy premiums\": 443680, \"BERKSHIRE HATHAWAY GRP\": 131845, \"STATE TOTAL\": 2950711, \"State Farm market share %\": 0.15036375978535343}, {\"state\": \"Wyoming\", \"id\": 56, \"State Farm policy premiums\": 90412, \"BERKSHIRE HATHAWAY GRP\": 30187, \"STATE TOTAL\": 374169, \"State Farm market share %\": 0.24163412789407995}, {\"state\": \"Puerto Rico\", \"id\": 72, \"State Farm policy premiums\": 0, \"BERKSHIRE HATHAWAY GRP\": 0, \"STATE TOTAL\": 444480, \"State Farm market share %\": 0.0}]}};\n",
              "      var embedOpt = {\"mode\": \"vega-lite\"};\n",
              "\n",
              "      function showError(el, error){\n",
              "          el.innerHTML = ('<div class=\"error\" style=\"color:red;\">'\n",
              "                          + '<p>JavaScript Error: ' + error.message + '</p>'\n",
              "                          + \"<p>This usually means there's a typo in your chart specification. \"\n",
              "                          + \"See the javascript console for the full traceback.</p>\"\n",
              "                          + '</div>');\n",
              "          throw error;\n",
              "      }\n",
              "      const el = document.getElementById('altair-viz');\n",
              "      vegaEmbed(\"#altair-viz\", spec, embedOpt)\n",
              "        .catch(error => showError(el, error));\n",
              "\n",
              "  </script>\n",
              "</body>\n",
              "</html>"
            ]
          },
          "metadata": {
            "tags": []
          },
          "execution_count": 36
        }
      ]
    },
    {
      "metadata": {
        "colab_type": "text",
        "id": "7NfsPKUtlja3"
      },
      "cell_type": "markdown",
      "source": [
        "# Use Seaborn to visualize distributions and relationships with continuous and discrete variables"
      ]
    },
    {
      "metadata": {
        "colab_type": "text",
        "id": "DMX07pfHlja4"
      },
      "cell_type": "markdown",
      "source": [
        "## 1. Anscombe dataset"
      ]
    },
    {
      "metadata": {
        "colab_type": "text",
        "id": "ohuKP3Y2lja5"
      },
      "cell_type": "markdown",
      "source": [
        "### Load dataset"
      ]
    },
    {
      "metadata": {
        "colab_type": "code",
        "id": "lhNEdJTslja6",
        "colab": {}
      },
      "cell_type": "code",
      "source": [
        "df = sns.load_dataset('anscombe')"
      ],
      "execution_count": 0,
      "outputs": []
    },
    {
      "metadata": {
        "colab_type": "text",
        "id": "wGpkAGL9lja9"
      },
      "cell_type": "markdown",
      "source": [
        "### See the data's shape"
      ]
    },
    {
      "metadata": {
        "colab_type": "code",
        "id": "UJgOVrMdlja_",
        "outputId": "0919f78e-fe12-4306-9401-c9c1a925b75a",
        "colab": {
          "base_uri": "https://localhost:8080/",
          "height": 34
        }
      },
      "cell_type": "code",
      "source": [
        "df.shape"
      ],
      "execution_count": 0,
      "outputs": [
        {
          "output_type": "execute_result",
          "data": {
            "text/plain": [
              "(44, 3)"
            ]
          },
          "metadata": {
            "tags": []
          },
          "execution_count": 4
        }
      ]
    },
    {
      "metadata": {
        "colab_type": "text",
        "id": "uwhNkUorljbC"
      },
      "cell_type": "markdown",
      "source": [
        "### See the data"
      ]
    },
    {
      "metadata": {
        "colab_type": "code",
        "id": "f6VT5CbUljbD",
        "outputId": "4ed53064-9d56-411b-b5a7-72c8c49a4a85",
        "colab": {
          "base_uri": "https://localhost:8080/",
          "height": 421
        }
      },
      "cell_type": "code",
      "source": [
        "df.sample(12)"
      ],
      "execution_count": 0,
      "outputs": [
        {
          "output_type": "execute_result",
          "data": {
            "text/html": [
              "<div>\n",
              "<style scoped>\n",
              "    .dataframe tbody tr th:only-of-type {\n",
              "        vertical-align: middle;\n",
              "    }\n",
              "\n",
              "    .dataframe tbody tr th {\n",
              "        vertical-align: top;\n",
              "    }\n",
              "\n",
              "    .dataframe thead th {\n",
              "        text-align: right;\n",
              "    }\n",
              "</style>\n",
              "<table border=\"1\" class=\"dataframe\">\n",
              "  <thead>\n",
              "    <tr style=\"text-align: right;\">\n",
              "      <th></th>\n",
              "      <th>dataset</th>\n",
              "      <th>x</th>\n",
              "      <th>y</th>\n",
              "    </tr>\n",
              "  </thead>\n",
              "  <tbody>\n",
              "    <tr>\n",
              "      <th>32</th>\n",
              "      <td>III</td>\n",
              "      <td>5.0</td>\n",
              "      <td>5.73</td>\n",
              "    </tr>\n",
              "    <tr>\n",
              "      <th>41</th>\n",
              "      <td>IV</td>\n",
              "      <td>8.0</td>\n",
              "      <td>5.56</td>\n",
              "    </tr>\n",
              "    <tr>\n",
              "      <th>17</th>\n",
              "      <td>II</td>\n",
              "      <td>6.0</td>\n",
              "      <td>6.13</td>\n",
              "    </tr>\n",
              "    <tr>\n",
              "      <th>0</th>\n",
              "      <td>I</td>\n",
              "      <td>10.0</td>\n",
              "      <td>8.04</td>\n",
              "    </tr>\n",
              "    <tr>\n",
              "      <th>38</th>\n",
              "      <td>IV</td>\n",
              "      <td>8.0</td>\n",
              "      <td>7.04</td>\n",
              "    </tr>\n",
              "    <tr>\n",
              "      <th>34</th>\n",
              "      <td>IV</td>\n",
              "      <td>8.0</td>\n",
              "      <td>5.76</td>\n",
              "    </tr>\n",
              "    <tr>\n",
              "      <th>23</th>\n",
              "      <td>III</td>\n",
              "      <td>8.0</td>\n",
              "      <td>6.77</td>\n",
              "    </tr>\n",
              "    <tr>\n",
              "      <th>2</th>\n",
              "      <td>I</td>\n",
              "      <td>13.0</td>\n",
              "      <td>7.58</td>\n",
              "    </tr>\n",
              "    <tr>\n",
              "      <th>18</th>\n",
              "      <td>II</td>\n",
              "      <td>4.0</td>\n",
              "      <td>3.10</td>\n",
              "    </tr>\n",
              "    <tr>\n",
              "      <th>7</th>\n",
              "      <td>I</td>\n",
              "      <td>4.0</td>\n",
              "      <td>4.26</td>\n",
              "    </tr>\n",
              "    <tr>\n",
              "      <th>4</th>\n",
              "      <td>I</td>\n",
              "      <td>11.0</td>\n",
              "      <td>8.33</td>\n",
              "    </tr>\n",
              "    <tr>\n",
              "      <th>42</th>\n",
              "      <td>IV</td>\n",
              "      <td>8.0</td>\n",
              "      <td>7.91</td>\n",
              "    </tr>\n",
              "  </tbody>\n",
              "</table>\n",
              "</div>"
            ],
            "text/plain": [
              "   dataset     x     y\n",
              "32     III   5.0  5.73\n",
              "41      IV   8.0  5.56\n",
              "17      II   6.0  6.13\n",
              "0        I  10.0  8.04\n",
              "38      IV   8.0  7.04\n",
              "34      IV   8.0  5.76\n",
              "23     III   8.0  6.77\n",
              "2        I  13.0  7.58\n",
              "18      II   4.0  3.10\n",
              "7        I   4.0  4.26\n",
              "4        I  11.0  8.33\n",
              "42      IV   8.0  7.91"
            ]
          },
          "metadata": {
            "tags": []
          },
          "execution_count": 6
        }
      ]
    },
    {
      "metadata": {
        "colab_type": "text",
        "id": "yxMSGXfmljbE"
      },
      "cell_type": "markdown",
      "source": [
        "### [Group by](https://pandas.pydata.org/pandas-docs/stable/generated/pandas.DataFrame.groupby.html) `'dataset'`"
      ]
    },
    {
      "metadata": {
        "colab_type": "code",
        "id": "Kqb2C6OnljbG",
        "colab": {}
      },
      "cell_type": "code",
      "source": [
        "groups = df.groupby('dataset')"
      ],
      "execution_count": 0,
      "outputs": []
    },
    {
      "metadata": {
        "colab_type": "text",
        "id": "XE_VL_G5ljbI"
      },
      "cell_type": "markdown",
      "source": [
        "### [Describe](https://pandas.pydata.org/pandas-docs/stable/generated/pandas.DataFrame.describe.html) the groups"
      ]
    },
    {
      "metadata": {
        "colab_type": "code",
        "id": "3owo8EHvljbJ",
        "outputId": "92992245-39dd-4506-8586-b7a27c055eb5",
        "colab": {
          "base_uri": "https://localhost:8080/",
          "height": 235
        }
      },
      "cell_type": "code",
      "source": [
        "groups.describe()"
      ],
      "execution_count": 0,
      "outputs": [
        {
          "output_type": "execute_result",
          "data": {
            "text/html": [
              "<div>\n",
              "<style scoped>\n",
              "    .dataframe tbody tr th:only-of-type {\n",
              "        vertical-align: middle;\n",
              "    }\n",
              "\n",
              "    .dataframe tbody tr th {\n",
              "        vertical-align: top;\n",
              "    }\n",
              "\n",
              "    .dataframe thead tr th {\n",
              "        text-align: left;\n",
              "    }\n",
              "\n",
              "    .dataframe thead tr:last-of-type th {\n",
              "        text-align: right;\n",
              "    }\n",
              "</style>\n",
              "<table border=\"1\" class=\"dataframe\">\n",
              "  <thead>\n",
              "    <tr>\n",
              "      <th></th>\n",
              "      <th colspan=\"8\" halign=\"left\">x</th>\n",
              "      <th colspan=\"8\" halign=\"left\">y</th>\n",
              "    </tr>\n",
              "    <tr>\n",
              "      <th></th>\n",
              "      <th>count</th>\n",
              "      <th>mean</th>\n",
              "      <th>std</th>\n",
              "      <th>min</th>\n",
              "      <th>25%</th>\n",
              "      <th>50%</th>\n",
              "      <th>75%</th>\n",
              "      <th>max</th>\n",
              "      <th>count</th>\n",
              "      <th>mean</th>\n",
              "      <th>std</th>\n",
              "      <th>min</th>\n",
              "      <th>25%</th>\n",
              "      <th>50%</th>\n",
              "      <th>75%</th>\n",
              "      <th>max</th>\n",
              "    </tr>\n",
              "    <tr>\n",
              "      <th>dataset</th>\n",
              "      <th></th>\n",
              "      <th></th>\n",
              "      <th></th>\n",
              "      <th></th>\n",
              "      <th></th>\n",
              "      <th></th>\n",
              "      <th></th>\n",
              "      <th></th>\n",
              "      <th></th>\n",
              "      <th></th>\n",
              "      <th></th>\n",
              "      <th></th>\n",
              "      <th></th>\n",
              "      <th></th>\n",
              "      <th></th>\n",
              "      <th></th>\n",
              "    </tr>\n",
              "  </thead>\n",
              "  <tbody>\n",
              "    <tr>\n",
              "      <th>I</th>\n",
              "      <td>11.0</td>\n",
              "      <td>9.0</td>\n",
              "      <td>3.316625</td>\n",
              "      <td>4.0</td>\n",
              "      <td>6.5</td>\n",
              "      <td>9.0</td>\n",
              "      <td>11.5</td>\n",
              "      <td>14.0</td>\n",
              "      <td>11.0</td>\n",
              "      <td>7.500909</td>\n",
              "      <td>2.031568</td>\n",
              "      <td>4.26</td>\n",
              "      <td>6.315</td>\n",
              "      <td>7.58</td>\n",
              "      <td>8.57</td>\n",
              "      <td>10.84</td>\n",
              "    </tr>\n",
              "    <tr>\n",
              "      <th>II</th>\n",
              "      <td>11.0</td>\n",
              "      <td>9.0</td>\n",
              "      <td>3.316625</td>\n",
              "      <td>4.0</td>\n",
              "      <td>6.5</td>\n",
              "      <td>9.0</td>\n",
              "      <td>11.5</td>\n",
              "      <td>14.0</td>\n",
              "      <td>11.0</td>\n",
              "      <td>7.500909</td>\n",
              "      <td>2.031657</td>\n",
              "      <td>3.10</td>\n",
              "      <td>6.695</td>\n",
              "      <td>8.14</td>\n",
              "      <td>8.95</td>\n",
              "      <td>9.26</td>\n",
              "    </tr>\n",
              "    <tr>\n",
              "      <th>III</th>\n",
              "      <td>11.0</td>\n",
              "      <td>9.0</td>\n",
              "      <td>3.316625</td>\n",
              "      <td>4.0</td>\n",
              "      <td>6.5</td>\n",
              "      <td>9.0</td>\n",
              "      <td>11.5</td>\n",
              "      <td>14.0</td>\n",
              "      <td>11.0</td>\n",
              "      <td>7.500000</td>\n",
              "      <td>2.030424</td>\n",
              "      <td>5.39</td>\n",
              "      <td>6.250</td>\n",
              "      <td>7.11</td>\n",
              "      <td>7.98</td>\n",
              "      <td>12.74</td>\n",
              "    </tr>\n",
              "    <tr>\n",
              "      <th>IV</th>\n",
              "      <td>11.0</td>\n",
              "      <td>9.0</td>\n",
              "      <td>3.316625</td>\n",
              "      <td>8.0</td>\n",
              "      <td>8.0</td>\n",
              "      <td>8.0</td>\n",
              "      <td>8.0</td>\n",
              "      <td>19.0</td>\n",
              "      <td>11.0</td>\n",
              "      <td>7.500909</td>\n",
              "      <td>2.030579</td>\n",
              "      <td>5.25</td>\n",
              "      <td>6.170</td>\n",
              "      <td>7.04</td>\n",
              "      <td>8.19</td>\n",
              "      <td>12.50</td>\n",
              "    </tr>\n",
              "  </tbody>\n",
              "</table>\n",
              "</div>"
            ],
            "text/plain": [
              "            x                                               y            \\\n",
              "        count mean       std  min  25%  50%   75%   max count      mean   \n",
              "dataset                                                                   \n",
              "I        11.0  9.0  3.316625  4.0  6.5  9.0  11.5  14.0  11.0  7.500909   \n",
              "II       11.0  9.0  3.316625  4.0  6.5  9.0  11.5  14.0  11.0  7.500909   \n",
              "III      11.0  9.0  3.316625  4.0  6.5  9.0  11.5  14.0  11.0  7.500000   \n",
              "IV       11.0  9.0  3.316625  8.0  8.0  8.0   8.0  19.0  11.0  7.500909   \n",
              "\n",
              "                                                   \n",
              "              std   min    25%   50%   75%    max  \n",
              "dataset                                            \n",
              "I        2.031568  4.26  6.315  7.58  8.57  10.84  \n",
              "II       2.031657  3.10  6.695  8.14  8.95   9.26  \n",
              "III      2.030424  5.39  6.250  7.11  7.98  12.74  \n",
              "IV       2.030579  5.25  6.170  7.04  8.19  12.50  "
            ]
          },
          "metadata": {
            "tags": []
          },
          "execution_count": 8
        }
      ]
    },
    {
      "metadata": {
        "colab_type": "text",
        "id": "VBjKXp0rljbK"
      },
      "cell_type": "markdown",
      "source": [
        "### Get the [count](https://pandas.pydata.org/pandas-docs/stable/generated/pandas.DataFrame.count.html), for each column in each group"
      ]
    },
    {
      "metadata": {
        "colab_type": "code",
        "id": "4ruK188dljbL",
        "outputId": "592ec865-1c70-4f83-c55f-8b7883e2fa09",
        "colab": {
          "base_uri": "https://localhost:8080/",
          "height": 204
        }
      },
      "cell_type": "code",
      "source": [
        "groups.count()"
      ],
      "execution_count": 0,
      "outputs": [
        {
          "output_type": "execute_result",
          "data": {
            "text/html": [
              "<div>\n",
              "<style scoped>\n",
              "    .dataframe tbody tr th:only-of-type {\n",
              "        vertical-align: middle;\n",
              "    }\n",
              "\n",
              "    .dataframe tbody tr th {\n",
              "        vertical-align: top;\n",
              "    }\n",
              "\n",
              "    .dataframe thead th {\n",
              "        text-align: right;\n",
              "    }\n",
              "</style>\n",
              "<table border=\"1\" class=\"dataframe\">\n",
              "  <thead>\n",
              "    <tr style=\"text-align: right;\">\n",
              "      <th></th>\n",
              "      <th>x</th>\n",
              "      <th>y</th>\n",
              "    </tr>\n",
              "    <tr>\n",
              "      <th>dataset</th>\n",
              "      <th></th>\n",
              "      <th></th>\n",
              "    </tr>\n",
              "  </thead>\n",
              "  <tbody>\n",
              "    <tr>\n",
              "      <th>I</th>\n",
              "      <td>11</td>\n",
              "      <td>11</td>\n",
              "    </tr>\n",
              "    <tr>\n",
              "      <th>II</th>\n",
              "      <td>11</td>\n",
              "      <td>11</td>\n",
              "    </tr>\n",
              "    <tr>\n",
              "      <th>III</th>\n",
              "      <td>11</td>\n",
              "      <td>11</td>\n",
              "    </tr>\n",
              "    <tr>\n",
              "      <th>IV</th>\n",
              "      <td>11</td>\n",
              "      <td>11</td>\n",
              "    </tr>\n",
              "  </tbody>\n",
              "</table>\n",
              "</div>"
            ],
            "text/plain": [
              "          x   y\n",
              "dataset        \n",
              "I        11  11\n",
              "II       11  11\n",
              "III      11  11\n",
              "IV       11  11"
            ]
          },
          "metadata": {
            "tags": []
          },
          "execution_count": 9
        }
      ]
    },
    {
      "metadata": {
        "colab_type": "text",
        "id": "Ooh4iR8gljbN"
      },
      "cell_type": "markdown",
      "source": [
        "### Get the [mean](https://pandas.pydata.org/pandas-docs/stable/generated/pandas.DataFrame.mean.html) ..."
      ]
    },
    {
      "metadata": {
        "colab_type": "code",
        "id": "VHz1_kJNljbN",
        "outputId": "dcf0ffc9-47e2-4c67-ecdc-f87db390f0d0",
        "colab": {
          "base_uri": "https://localhost:8080/",
          "height": 204
        }
      },
      "cell_type": "code",
      "source": [
        "groups.mean()"
      ],
      "execution_count": 0,
      "outputs": [
        {
          "output_type": "execute_result",
          "data": {
            "text/html": [
              "<div>\n",
              "<style scoped>\n",
              "    .dataframe tbody tr th:only-of-type {\n",
              "        vertical-align: middle;\n",
              "    }\n",
              "\n",
              "    .dataframe tbody tr th {\n",
              "        vertical-align: top;\n",
              "    }\n",
              "\n",
              "    .dataframe thead th {\n",
              "        text-align: right;\n",
              "    }\n",
              "</style>\n",
              "<table border=\"1\" class=\"dataframe\">\n",
              "  <thead>\n",
              "    <tr style=\"text-align: right;\">\n",
              "      <th></th>\n",
              "      <th>x</th>\n",
              "      <th>y</th>\n",
              "    </tr>\n",
              "    <tr>\n",
              "      <th>dataset</th>\n",
              "      <th></th>\n",
              "      <th></th>\n",
              "    </tr>\n",
              "  </thead>\n",
              "  <tbody>\n",
              "    <tr>\n",
              "      <th>I</th>\n",
              "      <td>9.0</td>\n",
              "      <td>7.500909</td>\n",
              "    </tr>\n",
              "    <tr>\n",
              "      <th>II</th>\n",
              "      <td>9.0</td>\n",
              "      <td>7.500909</td>\n",
              "    </tr>\n",
              "    <tr>\n",
              "      <th>III</th>\n",
              "      <td>9.0</td>\n",
              "      <td>7.500000</td>\n",
              "    </tr>\n",
              "    <tr>\n",
              "      <th>IV</th>\n",
              "      <td>9.0</td>\n",
              "      <td>7.500909</td>\n",
              "    </tr>\n",
              "  </tbody>\n",
              "</table>\n",
              "</div>"
            ],
            "text/plain": [
              "           x         y\n",
              "dataset               \n",
              "I        9.0  7.500909\n",
              "II       9.0  7.500909\n",
              "III      9.0  7.500000\n",
              "IV       9.0  7.500909"
            ]
          },
          "metadata": {
            "tags": []
          },
          "execution_count": 10
        }
      ]
    },
    {
      "metadata": {
        "colab_type": "text",
        "id": "KDpAl2z8ljbQ"
      },
      "cell_type": "markdown",
      "source": [
        "### Get the [standard deviation](https://pandas.pydata.org/pandas-docs/stable/generated/pandas.DataFrame.std.html) ..."
      ]
    },
    {
      "metadata": {
        "colab_type": "code",
        "id": "H8sPCA70ljbQ",
        "outputId": "47a3d284-e8db-4acd-9d49-5fadf636deb6",
        "colab": {
          "base_uri": "https://localhost:8080/",
          "height": 204
        }
      },
      "cell_type": "code",
      "source": [
        "groups.std()"
      ],
      "execution_count": 0,
      "outputs": [
        {
          "output_type": "execute_result",
          "data": {
            "text/html": [
              "<div>\n",
              "<style scoped>\n",
              "    .dataframe tbody tr th:only-of-type {\n",
              "        vertical-align: middle;\n",
              "    }\n",
              "\n",
              "    .dataframe tbody tr th {\n",
              "        vertical-align: top;\n",
              "    }\n",
              "\n",
              "    .dataframe thead th {\n",
              "        text-align: right;\n",
              "    }\n",
              "</style>\n",
              "<table border=\"1\" class=\"dataframe\">\n",
              "  <thead>\n",
              "    <tr style=\"text-align: right;\">\n",
              "      <th></th>\n",
              "      <th>x</th>\n",
              "      <th>y</th>\n",
              "    </tr>\n",
              "    <tr>\n",
              "      <th>dataset</th>\n",
              "      <th></th>\n",
              "      <th></th>\n",
              "    </tr>\n",
              "  </thead>\n",
              "  <tbody>\n",
              "    <tr>\n",
              "      <th>I</th>\n",
              "      <td>3.316625</td>\n",
              "      <td>2.031568</td>\n",
              "    </tr>\n",
              "    <tr>\n",
              "      <th>II</th>\n",
              "      <td>3.316625</td>\n",
              "      <td>2.031657</td>\n",
              "    </tr>\n",
              "    <tr>\n",
              "      <th>III</th>\n",
              "      <td>3.316625</td>\n",
              "      <td>2.030424</td>\n",
              "    </tr>\n",
              "    <tr>\n",
              "      <th>IV</th>\n",
              "      <td>3.316625</td>\n",
              "      <td>2.030579</td>\n",
              "    </tr>\n",
              "  </tbody>\n",
              "</table>\n",
              "</div>"
            ],
            "text/plain": [
              "                x         y\n",
              "dataset                    \n",
              "I        3.316625  2.031568\n",
              "II       3.316625  2.031657\n",
              "III      3.316625  2.030424\n",
              "IV       3.316625  2.030579"
            ]
          },
          "metadata": {
            "tags": []
          },
          "execution_count": 11
        }
      ]
    },
    {
      "metadata": {
        "colab_type": "text",
        "id": "8_J0sQ3zljbS"
      },
      "cell_type": "markdown",
      "source": [
        "### Get the [correlation](https://pandas.pydata.org/pandas-docs/stable/generated/pandas.DataFrame.corr.html) ..."
      ]
    },
    {
      "metadata": {
        "colab_type": "code",
        "id": "oVaXOEutljbS",
        "outputId": "05a422df-9d28-4431-f137-5c82ddad2342",
        "colab": {
          "base_uri": "https://localhost:8080/",
          "height": 328
        }
      },
      "cell_type": "code",
      "source": [
        "groups.corr()"
      ],
      "execution_count": 0,
      "outputs": [
        {
          "output_type": "execute_result",
          "data": {
            "text/html": [
              "<div>\n",
              "<style scoped>\n",
              "    .dataframe tbody tr th:only-of-type {\n",
              "        vertical-align: middle;\n",
              "    }\n",
              "\n",
              "    .dataframe tbody tr th {\n",
              "        vertical-align: top;\n",
              "    }\n",
              "\n",
              "    .dataframe thead th {\n",
              "        text-align: right;\n",
              "    }\n",
              "</style>\n",
              "<table border=\"1\" class=\"dataframe\">\n",
              "  <thead>\n",
              "    <tr style=\"text-align: right;\">\n",
              "      <th></th>\n",
              "      <th></th>\n",
              "      <th>x</th>\n",
              "      <th>y</th>\n",
              "    </tr>\n",
              "    <tr>\n",
              "      <th>dataset</th>\n",
              "      <th></th>\n",
              "      <th></th>\n",
              "      <th></th>\n",
              "    </tr>\n",
              "  </thead>\n",
              "  <tbody>\n",
              "    <tr>\n",
              "      <th rowspan=\"2\" valign=\"top\">I</th>\n",
              "      <th>x</th>\n",
              "      <td>1.000000</td>\n",
              "      <td>0.816421</td>\n",
              "    </tr>\n",
              "    <tr>\n",
              "      <th>y</th>\n",
              "      <td>0.816421</td>\n",
              "      <td>1.000000</td>\n",
              "    </tr>\n",
              "    <tr>\n",
              "      <th rowspan=\"2\" valign=\"top\">II</th>\n",
              "      <th>x</th>\n",
              "      <td>1.000000</td>\n",
              "      <td>0.816237</td>\n",
              "    </tr>\n",
              "    <tr>\n",
              "      <th>y</th>\n",
              "      <td>0.816237</td>\n",
              "      <td>1.000000</td>\n",
              "    </tr>\n",
              "    <tr>\n",
              "      <th rowspan=\"2\" valign=\"top\">III</th>\n",
              "      <th>x</th>\n",
              "      <td>1.000000</td>\n",
              "      <td>0.816287</td>\n",
              "    </tr>\n",
              "    <tr>\n",
              "      <th>y</th>\n",
              "      <td>0.816287</td>\n",
              "      <td>1.000000</td>\n",
              "    </tr>\n",
              "    <tr>\n",
              "      <th rowspan=\"2\" valign=\"top\">IV</th>\n",
              "      <th>x</th>\n",
              "      <td>1.000000</td>\n",
              "      <td>0.816521</td>\n",
              "    </tr>\n",
              "    <tr>\n",
              "      <th>y</th>\n",
              "      <td>0.816521</td>\n",
              "      <td>1.000000</td>\n",
              "    </tr>\n",
              "  </tbody>\n",
              "</table>\n",
              "</div>"
            ],
            "text/plain": [
              "                  x         y\n",
              "dataset                      \n",
              "I       x  1.000000  0.816421\n",
              "        y  0.816421  1.000000\n",
              "II      x  1.000000  0.816237\n",
              "        y  0.816237  1.000000\n",
              "III     x  1.000000  0.816287\n",
              "        y  0.816287  1.000000\n",
              "IV      x  1.000000  0.816521\n",
              "        y  0.816521  1.000000"
            ]
          },
          "metadata": {
            "tags": []
          },
          "execution_count": 12
        }
      ]
    },
    {
      "metadata": {
        "colab_type": "text",
        "id": "wev2eLSsljbU"
      },
      "cell_type": "markdown",
      "source": [
        "### Use pandas to [plot](https://pandas.pydata.org/pandas-docs/stable/generated/pandas.DataFrame.plot.html) the groups, as scatter plots"
      ]
    },
    {
      "metadata": {
        "colab_type": "code",
        "id": "OV8_BNakljbV",
        "outputId": "1308d514-0b1c-4863-a7b6-50a0de7509a3",
        "colab": {
          "base_uri": "https://localhost:8080/",
          "height": 1081
        }
      },
      "cell_type": "code",
      "source": [
        "groups.plot('x', 'y', kind='scatter');"
      ],
      "execution_count": 0,
      "outputs": [
        {
          "output_type": "display_data",
          "data": {
            "image/png": "[encoded data removed]",
            "text/plain": [
              "<Figure size 432x288 with 1 Axes>"
            ]
          },
          "metadata": {
            "tags": []
          }
        },
        {
          "output_type": "display_data",
          "data": {
            "image/png": "[encoded data removed]",
            "text/plain": [
              "<Figure size 432x288 with 1 Axes>"
            ]
          },
          "metadata": {
            "tags": []
          }
        },
        {
          "output_type": "display_data",
          "data": {
            "image/png": "[encoded data removed]",
            "text/plain": [
              "<Figure size 432x288 with 1 Axes>"
            ]
          },
          "metadata": {
            "tags": []
          }
        },
        {
          "output_type": "display_data",
          "data": {
            "image/png": "[encoded data removed]",
            "text/plain": [
              "<Figure size 432x288 with 1 Axes>"
            ]
          },
          "metadata": {
            "tags": []
          }
        }
      ]
    },
    {
      "metadata": {
        "colab_type": "text",
        "id": "aIZK7t3QljbX"
      },
      "cell_type": "markdown",
      "source": [
        "### Use Seaborn to make [relational plots](http://seaborn.pydata.org/generated/seaborn.relplot.html)"
      ]
    },
    {
      "metadata": {
        "colab_type": "code",
        "id": "VYwZwT85tggM",
        "outputId": "bfd49d44-656a-45bb-a780-70284e4b607b",
        "colab": {
          "base_uri": "https://localhost:8080/",
          "height": 729
        }
      },
      "cell_type": "code",
      "source": [
        "sns.relplot('x', 'y', col='dataset', data=df, col_wrap=2);"
      ],
      "execution_count": 0,
      "outputs": [
        {
          "output_type": "display_data",
          "data": {
            "image/png": "[encoded data removed]",
            "text/plain": [
              "<Figure size 720x720 with 4 Axes>"
            ]
          },
          "metadata": {
            "tags": []
          }
        }
      ]
    },
    {
      "metadata": {
        "colab_type": "text",
        "id": "7pC0xmYRljbZ"
      },
      "cell_type": "markdown",
      "source": [
        "### Use Seaborn to make [linear model plots](http://seaborn.pydata.org/generated/seaborn.lmplot.html)"
      ]
    },
    {
      "metadata": {
        "colab_type": "code",
        "id": "q0OUr1XytwG9",
        "outputId": "d4966f69-9925-4e7f-f3a6-d63b99df269a",
        "colab": {
          "base_uri": "https://localhost:8080/",
          "height": 729
        }
      },
      "cell_type": "code",
      "source": [
        "sns.lmplot('x', 'y', col='dataset', hue='dataset', col_wrap=2, ci=None, data=df);"
      ],
      "execution_count": 0,
      "outputs": [
        {
          "output_type": "display_data",
          "data": {
            "image/png": "[encoded data removed]",
            "text/plain": [
              "<Figure size 720x720 with 4 Axes>"
            ]
          },
          "metadata": {
            "tags": []
          }
        }
      ]
    },
    {
      "metadata": {
        "colab_type": "text",
        "id": "Cn-xMBPcljbc"
      },
      "cell_type": "markdown",
      "source": [
        "#### Links\n",
        "- [Seaborn examples: Anscombe's quartet](http://seaborn.pydata.org/examples/anscombes_quartet.html)\n",
        "- [Wikipedia: Anscombe's quartet](https://en.wikipedia.org/wiki/Anscombe%27s_quartet)\n",
        "- [The Datasaurus Dozen](https://www.autodeskresearch.com/publications/samestats)"
      ]
    },
    {
      "metadata": {
        "colab_type": "text",
        "id": "5vhSX9VJljbc"
      },
      "cell_type": "markdown",
      "source": [
        "## 2. Tips dataset"
      ]
    },
    {
      "metadata": {
        "colab_type": "text",
        "id": "tZrTgYtoljbc"
      },
      "cell_type": "markdown",
      "source": [
        "### Load dataset"
      ]
    },
    {
      "metadata": {
        "colab_type": "code",
        "id": "Ms3dbDMRljbd",
        "colab": {}
      },
      "cell_type": "code",
      "source": [
        "tips = sns.load_dataset('tips')"
      ],
      "execution_count": 0,
      "outputs": []
    },
    {
      "metadata": {
        "colab_type": "text",
        "id": "YsR7xrSVljbe"
      },
      "cell_type": "markdown",
      "source": [
        "### See the data's shape"
      ]
    },
    {
      "metadata": {
        "colab_type": "code",
        "id": "vkd17Tv7ljbf",
        "outputId": "c343c4f2-46d9-45d0-90a4-5ad1121ee84a",
        "colab": {
          "base_uri": "https://localhost:8080/",
          "height": 34
        }
      },
      "cell_type": "code",
      "source": [
        "tips.shape"
      ],
      "execution_count": 0,
      "outputs": [
        {
          "output_type": "execute_result",
          "data": {
            "text/plain": [
              "(244, 7)"
            ]
          },
          "metadata": {
            "tags": []
          },
          "execution_count": 31
        }
      ]
    },
    {
      "metadata": {
        "colab_type": "text",
        "id": "gRlUBLZEljbg"
      },
      "cell_type": "markdown",
      "source": [
        "### See the first 5 rows"
      ]
    },
    {
      "metadata": {
        "colab_type": "code",
        "id": "tSi2F9ZHljbg",
        "outputId": "d5ab4d5b-96e2-42c1-a90d-da49f3dc7e3e",
        "colab": {
          "base_uri": "https://localhost:8080/",
          "height": 204
        }
      },
      "cell_type": "code",
      "source": [
        "tips.head()"
      ],
      "execution_count": 0,
      "outputs": [
        {
          "output_type": "execute_result",
          "data": {
            "text/html": [
              "<div>\n",
              "<style scoped>\n",
              "    .dataframe tbody tr th:only-of-type {\n",
              "        vertical-align: middle;\n",
              "    }\n",
              "\n",
              "    .dataframe tbody tr th {\n",
              "        vertical-align: top;\n",
              "    }\n",
              "\n",
              "    .dataframe thead th {\n",
              "        text-align: right;\n",
              "    }\n",
              "</style>\n",
              "<table border=\"1\" class=\"dataframe\">\n",
              "  <thead>\n",
              "    <tr style=\"text-align: right;\">\n",
              "      <th></th>\n",
              "      <th>total_bill</th>\n",
              "      <th>tip</th>\n",
              "      <th>sex</th>\n",
              "      <th>smoker</th>\n",
              "      <th>day</th>\n",
              "      <th>time</th>\n",
              "      <th>size</th>\n",
              "    </tr>\n",
              "  </thead>\n",
              "  <tbody>\n",
              "    <tr>\n",
              "      <th>0</th>\n",
              "      <td>16.99</td>\n",
              "      <td>1.01</td>\n",
              "      <td>Female</td>\n",
              "      <td>No</td>\n",
              "      <td>Sun</td>\n",
              "      <td>Dinner</td>\n",
              "      <td>2</td>\n",
              "    </tr>\n",
              "    <tr>\n",
              "      <th>1</th>\n",
              "      <td>10.34</td>\n",
              "      <td>1.66</td>\n",
              "      <td>Male</td>\n",
              "      <td>No</td>\n",
              "      <td>Sun</td>\n",
              "      <td>Dinner</td>\n",
              "      <td>3</td>\n",
              "    </tr>\n",
              "    <tr>\n",
              "      <th>2</th>\n",
              "      <td>21.01</td>\n",
              "      <td>3.50</td>\n",
              "      <td>Male</td>\n",
              "      <td>No</td>\n",
              "      <td>Sun</td>\n",
              "      <td>Dinner</td>\n",
              "      <td>3</td>\n",
              "    </tr>\n",
              "    <tr>\n",
              "      <th>3</th>\n",
              "      <td>23.68</td>\n",
              "      <td>3.31</td>\n",
              "      <td>Male</td>\n",
              "      <td>No</td>\n",
              "      <td>Sun</td>\n",
              "      <td>Dinner</td>\n",
              "      <td>2</td>\n",
              "    </tr>\n",
              "    <tr>\n",
              "      <th>4</th>\n",
              "      <td>24.59</td>\n",
              "      <td>3.61</td>\n",
              "      <td>Female</td>\n",
              "      <td>No</td>\n",
              "      <td>Sun</td>\n",
              "      <td>Dinner</td>\n",
              "      <td>4</td>\n",
              "    </tr>\n",
              "  </tbody>\n",
              "</table>\n",
              "</div>"
            ],
            "text/plain": [
              "   total_bill   tip     sex smoker  day    time  size\n",
              "0       16.99  1.01  Female     No  Sun  Dinner     2\n",
              "1       10.34  1.66    Male     No  Sun  Dinner     3\n",
              "2       21.01  3.50    Male     No  Sun  Dinner     3\n",
              "3       23.68  3.31    Male     No  Sun  Dinner     2\n",
              "4       24.59  3.61  Female     No  Sun  Dinner     4"
            ]
          },
          "metadata": {
            "tags": []
          },
          "execution_count": 32
        }
      ]
    },
    {
      "metadata": {
        "colab_type": "text",
        "id": "sdGGrpdsljbi"
      },
      "cell_type": "markdown",
      "source": [
        "### Describe the data"
      ]
    },
    {
      "metadata": {
        "id": "Jk0-pYOs1MQV",
        "colab_type": "code",
        "outputId": "da5f1cbb-04b3-405d-9a04-d57258c8e1e9",
        "colab": {
          "base_uri": "https://localhost:8080/",
          "height": 297
        }
      },
      "cell_type": "code",
      "source": [
        "tips.describe()"
      ],
      "execution_count": 0,
      "outputs": [
        {
          "output_type": "execute_result",
          "data": {
            "text/html": [
              "<div>\n",
              "<style scoped>\n",
              "    .dataframe tbody tr th:only-of-type {\n",
              "        vertical-align: middle;\n",
              "    }\n",
              "\n",
              "    .dataframe tbody tr th {\n",
              "        vertical-align: top;\n",
              "    }\n",
              "\n",
              "    .dataframe thead th {\n",
              "        text-align: right;\n",
              "    }\n",
              "</style>\n",
              "<table border=\"1\" class=\"dataframe\">\n",
              "  <thead>\n",
              "    <tr style=\"text-align: right;\">\n",
              "      <th></th>\n",
              "      <th>total_bill</th>\n",
              "      <th>tip</th>\n",
              "      <th>size</th>\n",
              "    </tr>\n",
              "  </thead>\n",
              "  <tbody>\n",
              "    <tr>\n",
              "      <th>count</th>\n",
              "      <td>244.000000</td>\n",
              "      <td>244.000000</td>\n",
              "      <td>244.000000</td>\n",
              "    </tr>\n",
              "    <tr>\n",
              "      <th>mean</th>\n",
              "      <td>19.785943</td>\n",
              "      <td>2.998279</td>\n",
              "      <td>2.569672</td>\n",
              "    </tr>\n",
              "    <tr>\n",
              "      <th>std</th>\n",
              "      <td>8.902412</td>\n",
              "      <td>1.383638</td>\n",
              "      <td>0.951100</td>\n",
              "    </tr>\n",
              "    <tr>\n",
              "      <th>min</th>\n",
              "      <td>3.070000</td>\n",
              "      <td>1.000000</td>\n",
              "      <td>1.000000</td>\n",
              "    </tr>\n",
              "    <tr>\n",
              "      <th>25%</th>\n",
              "      <td>13.347500</td>\n",
              "      <td>2.000000</td>\n",
              "      <td>2.000000</td>\n",
              "    </tr>\n",
              "    <tr>\n",
              "      <th>50%</th>\n",
              "      <td>17.795000</td>\n",
              "      <td>2.900000</td>\n",
              "      <td>2.000000</td>\n",
              "    </tr>\n",
              "    <tr>\n",
              "      <th>75%</th>\n",
              "      <td>24.127500</td>\n",
              "      <td>3.562500</td>\n",
              "      <td>3.000000</td>\n",
              "    </tr>\n",
              "    <tr>\n",
              "      <th>max</th>\n",
              "      <td>50.810000</td>\n",
              "      <td>10.000000</td>\n",
              "      <td>6.000000</td>\n",
              "    </tr>\n",
              "  </tbody>\n",
              "</table>\n",
              "</div>"
            ],
            "text/plain": [
              "       total_bill         tip        size\n",
              "count  244.000000  244.000000  244.000000\n",
              "mean    19.785943    2.998279    2.569672\n",
              "std      8.902412    1.383638    0.951100\n",
              "min      3.070000    1.000000    1.000000\n",
              "25%     13.347500    2.000000    2.000000\n",
              "50%     17.795000    2.900000    2.000000\n",
              "75%     24.127500    3.562500    3.000000\n",
              "max     50.810000   10.000000    6.000000"
            ]
          },
          "metadata": {
            "tags": []
          },
          "execution_count": 35
        }
      ]
    },
    {
      "metadata": {
        "colab_type": "code",
        "id": "NvwPj20Qljbi",
        "outputId": "4bd2ce8f-265d-4258-dce1-4707c4833a00",
        "colab": {
          "base_uri": "https://localhost:8080/",
          "height": 173
        }
      },
      "cell_type": "code",
      "source": [
        "tips.describe(exclude=np.number)"
      ],
      "execution_count": 0,
      "outputs": [
        {
          "output_type": "execute_result",
          "data": {
            "text/html": [
              "<div>\n",
              "<style scoped>\n",
              "    .dataframe tbody tr th:only-of-type {\n",
              "        vertical-align: middle;\n",
              "    }\n",
              "\n",
              "    .dataframe tbody tr th {\n",
              "        vertical-align: top;\n",
              "    }\n",
              "\n",
              "    .dataframe thead th {\n",
              "        text-align: right;\n",
              "    }\n",
              "</style>\n",
              "<table border=\"1\" class=\"dataframe\">\n",
              "  <thead>\n",
              "    <tr style=\"text-align: right;\">\n",
              "      <th></th>\n",
              "      <th>sex</th>\n",
              "      <th>smoker</th>\n",
              "      <th>day</th>\n",
              "      <th>time</th>\n",
              "    </tr>\n",
              "  </thead>\n",
              "  <tbody>\n",
              "    <tr>\n",
              "      <th>count</th>\n",
              "      <td>244</td>\n",
              "      <td>244</td>\n",
              "      <td>244</td>\n",
              "      <td>244</td>\n",
              "    </tr>\n",
              "    <tr>\n",
              "      <th>unique</th>\n",
              "      <td>2</td>\n",
              "      <td>2</td>\n",
              "      <td>4</td>\n",
              "      <td>2</td>\n",
              "    </tr>\n",
              "    <tr>\n",
              "      <th>top</th>\n",
              "      <td>Male</td>\n",
              "      <td>No</td>\n",
              "      <td>Sat</td>\n",
              "      <td>Dinner</td>\n",
              "    </tr>\n",
              "    <tr>\n",
              "      <th>freq</th>\n",
              "      <td>157</td>\n",
              "      <td>151</td>\n",
              "      <td>87</td>\n",
              "      <td>176</td>\n",
              "    </tr>\n",
              "  </tbody>\n",
              "</table>\n",
              "</div>"
            ],
            "text/plain": [
              "         sex smoker  day    time\n",
              "count    244    244  244     244\n",
              "unique     2      2    4       2\n",
              "top     Male     No  Sat  Dinner\n",
              "freq     157    151   87     176"
            ]
          },
          "metadata": {
            "tags": []
          },
          "execution_count": 34
        }
      ]
    },
    {
      "metadata": {
        "colab_type": "text",
        "id": "TDoUKNB4ljbk"
      },
      "cell_type": "markdown",
      "source": [
        "### Make univariate [distribution plots](https://seaborn.pydata.org/generated/seaborn.distplot.html)"
      ]
    },
    {
      "metadata": {
        "id": "GL7qCnO1PRbM",
        "colab_type": "code",
        "outputId": "233e4d31-b8dd-4b52-87f0-8f84bb5e3c33",
        "colab": {
          "base_uri": "https://localhost:8080/",
          "height": 283
        }
      },
      "cell_type": "code",
      "source": [
        "sns.distplot(tips['tip']);"
      ],
      "execution_count": 0,
      "outputs": [
        {
          "output_type": "display_data",
          "data": {
            "image/png": "[encoded data removed]",
            "text/plain": [
              "<Figure size 432x288 with 1 Axes>"
            ]
          },
          "metadata": {
            "tags": []
          }
        }
      ]
    },
    {
      "metadata": {
        "id": "Tu6RZRFq2CvL",
        "colab_type": "code",
        "outputId": "d0be621b-b7a4-400a-fc36-9b893c0d1680",
        "colab": {
          "base_uri": "https://localhost:8080/",
          "height": 269
        }
      },
      "cell_type": "code",
      "source": [
        "tips['tips_percent'] = (tips.tip / tips.total_bill) * 100\n",
        "sns.distplot(tips_percent);"
      ],
      "execution_count": 0,
      "outputs": [
        {
          "output_type": "display_data",
          "data": {
            "image/png": "[encoded data removed]",
            "text/plain": [
              "<Figure size 432x288 with 1 Axes>"
            ]
          },
          "metadata": {
            "tags": []
          }
        }
      ]
    },
    {
      "metadata": {
        "colab_type": "text",
        "id": "0N-6Munnljbm"
      },
      "cell_type": "markdown",
      "source": [
        "### Make bivariate [relational plots](https://seaborn.pydata.org/generated/seaborn.relplot.html)"
      ]
    },
    {
      "metadata": {
        "id": "AVWSHwa9PT1y",
        "colab_type": "code",
        "outputId": "1238b24d-e5b2-497b-a95d-19d12f188304",
        "colab": {
          "base_uri": "https://localhost:8080/",
          "height": 369
        }
      },
      "cell_type": "code",
      "source": [
        "sns.relplot(x='total_bill', y='tips_percent', data=tips, alpha=0.5);"
      ],
      "execution_count": 0,
      "outputs": [
        {
          "output_type": "display_data",
          "data": {
            "image/png": "[encoded data removed]",
            "text/plain": [
              "<Figure size 360x360 with 1 Axes>"
            ]
          },
          "metadata": {
            "tags": []
          }
        }
      ]
    },
    {
      "metadata": {
        "colab_type": "text",
        "id": "7Ug5vyBlljbp"
      },
      "cell_type": "markdown",
      "source": [
        "### Make univariate [categorical plots](https://seaborn.pydata.org/generated/seaborn.catplot.html)"
      ]
    },
    {
      "metadata": {
        "id": "0FdkIBUjPWLg",
        "colab_type": "code",
        "outputId": "e0c5a48a-5e54-40d8-945b-43081d103264",
        "colab": {
          "base_uri": "https://localhost:8080/",
          "height": 283
        }
      },
      "cell_type": "code",
      "source": [
        "sns.stripplot(x='day', y='tips_percent', data=tips, jitter=True);"
      ],
      "execution_count": 0,
      "outputs": [
        {
          "output_type": "display_data",
          "data": {
            "image/png": "[encoded data removed]",
            "text/plain": [
              "<Figure size 432x288 with 1 Axes>"
            ]
          },
          "metadata": {
            "tags": []
          }
        }
      ]
    },
    {
      "metadata": {
        "id": "GDv0h9Y_4kEu",
        "colab_type": "code",
        "outputId": "54b20baf-03cd-4d73-ec9f-41b1628414ab",
        "colab": {
          "base_uri": "https://localhost:8080/",
          "height": 369
        }
      },
      "cell_type": "code",
      "source": [
        "sns.catplot(x='sex', data=tips, kind='count');"
      ],
      "execution_count": 0,
      "outputs": [
        {
          "output_type": "display_data",
          "data": {
            "image/png": "[encoded data removed]",
            "text/plain": [
              "<Figure size 360x360 with 1 Axes>"
            ]
          },
          "metadata": {
            "tags": []
          }
        }
      ]
    },
    {
      "metadata": {
        "id": "xn_skzLS46aN",
        "colab_type": "code",
        "outputId": "9c8656e5-6a4c-4aa0-bddb-9bd504b94b97",
        "colab": {
          "base_uri": "https://localhost:8080/",
          "height": 295
        }
      },
      "cell_type": "code",
      "source": [
        "tips.sex.value_counts().plot.bar();"
      ],
      "execution_count": 0,
      "outputs": [
        {
          "output_type": "display_data",
          "data": {
            "image/png": "[encoded data removed]",
            "text/plain": [
              "<Figure size 432x288 with 1 Axes>"
            ]
          },
          "metadata": {
            "tags": []
          }
        }
      ]
    },
    {
      "metadata": {
        "colab_type": "text",
        "id": "Ftchuwrgljbs"
      },
      "cell_type": "markdown",
      "source": [
        "### Make bivariate [categorical plots](https://seaborn.pydata.org/generated/seaborn.catplot.html)"
      ]
    },
    {
      "metadata": {
        "id": "yIGQcgB0PZnk",
        "colab_type": "code",
        "outputId": "d8e9ef2d-6cef-4a9e-8ace-8435bdfa2bab",
        "colab": {
          "base_uri": "https://localhost:8080/",
          "height": 369
        }
      },
      "cell_type": "code",
      "source": [
        "sns.catplot(x='sex', y='tip', data=tips, kind='strip', alpha=0.5);"
      ],
      "execution_count": 0,
      "outputs": [
        {
          "output_type": "display_data",
          "data": {
            "image/png": "[encoded data removed]",
            "text/plain": [
              "<Figure size 360x360 with 1 Axes>"
            ]
          },
          "metadata": {
            "tags": []
          }
        }
      ]
    },
    {
      "metadata": {
        "id": "GklW8EZH58xD",
        "colab_type": "code",
        "outputId": "d9f396b5-de1c-4eb2-9433-9f7e0fa0ac7f",
        "colab": {
          "base_uri": "https://localhost:8080/",
          "height": 369
        }
      },
      "cell_type": "code",
      "source": [
        "sns.catplot(x='sex', y='tip', data=tips, kind='box');"
      ],
      "execution_count": 0,
      "outputs": [
        {
          "output_type": "display_data",
          "data": {
            "image/png": "[encoded data removed]",
            "text/plain": [
              "<Figure size 360x360 with 1 Axes>"
            ]
          },
          "metadata": {
            "tags": []
          }
        }
      ]
    },
    {
      "metadata": {
        "id": "tcbvMxsK59Ef",
        "colab_type": "code",
        "outputId": "09bfc7eb-3cab-4966-f3ae-3cc9bfa6089a",
        "colab": {
          "base_uri": "https://localhost:8080/",
          "height": 369
        }
      },
      "cell_type": "code",
      "source": [
        "sns.catplot(x='sex', y='tip', data=tips, kind='bar');"
      ],
      "execution_count": 0,
      "outputs": [
        {
          "output_type": "display_data",
          "data": {
            "image/png": "[encoded data removed]",
            "text/plain": [
              "<Figure size 360x360 with 1 Axes>"
            ]
          },
          "metadata": {
            "tags": []
          }
        }
      ]
    },
    {
      "metadata": {
        "id": "GlSty9c36t9Q",
        "colab_type": "code",
        "outputId": "c4daa60a-a0c6-4cd2-e07a-05c0e830c37a",
        "colab": {
          "base_uri": "https://localhost:8080/",
          "height": 369
        }
      },
      "cell_type": "code",
      "source": [
        "sns.catplot(x='sex', y='tips_percent', data=tips, kind='bar');"
      ],
      "execution_count": 0,
      "outputs": [
        {
          "output_type": "display_data",
          "data": {
            "image/png": "[encoded data removed]",
            "text/plain": [
              "<Figure size 360x360 with 1 Axes>"
            ]
          },
          "metadata": {
            "tags": []
          }
        }
      ]
    },
    {
      "metadata": {
        "colab_type": "text",
        "id": "FFWkWusYljbt"
      },
      "cell_type": "markdown",
      "source": [
        "## 3. Flights"
      ]
    },
    {
      "metadata": {
        "colab_type": "text",
        "id": "A9uGFj7fljbu"
      },
      "cell_type": "markdown",
      "source": [
        "### Load dataset"
      ]
    },
    {
      "metadata": {
        "colab_type": "code",
        "id": "x9Pd0h0_ljbu",
        "colab": {}
      },
      "cell_type": "code",
      "source": [
        "flights = sns.load_dataset('flights')"
      ],
      "execution_count": 0,
      "outputs": []
    },
    {
      "metadata": {
        "colab_type": "text",
        "id": "TqUSgAUcljbx"
      },
      "cell_type": "markdown",
      "source": [
        "### See the data's shape"
      ]
    },
    {
      "metadata": {
        "colab_type": "code",
        "id": "5WELCrPPljbx",
        "outputId": "0ca77bd8-cd42-4b4c-eda8-2fa9d15a7b29",
        "colab": {
          "base_uri": "https://localhost:8080/",
          "height": 34
        }
      },
      "cell_type": "code",
      "source": [
        "flights.shape"
      ],
      "execution_count": 6,
      "outputs": [
        {
          "output_type": "execute_result",
          "data": {
            "text/plain": [
              "(144, 3)"
            ]
          },
          "metadata": {
            "tags": []
          },
          "execution_count": 6
        }
      ]
    },
    {
      "metadata": {
        "colab_type": "text",
        "id": "47WxnyjCljby"
      },
      "cell_type": "markdown",
      "source": [
        "### See the first 5 rows"
      ]
    },
    {
      "metadata": {
        "colab_type": "code",
        "id": "xCREANeJljby",
        "outputId": "c53cf446-7522-449b-82cf-65780174cdf9",
        "colab": {
          "base_uri": "https://localhost:8080/",
          "height": 204
        }
      },
      "cell_type": "code",
      "source": [
        "flights.head()"
      ],
      "execution_count": 7,
      "outputs": [
        {
          "output_type": "execute_result",
          "data": {
            "text/html": [
              "<div>\n",
              "<style scoped>\n",
              "    .dataframe tbody tr th:only-of-type {\n",
              "        vertical-align: middle;\n",
              "    }\n",
              "\n",
              "    .dataframe tbody tr th {\n",
              "        vertical-align: top;\n",
              "    }\n",
              "\n",
              "    .dataframe thead th {\n",
              "        text-align: right;\n",
              "    }\n",
              "</style>\n",
              "<table border=\"1\" class=\"dataframe\">\n",
              "  <thead>\n",
              "    <tr style=\"text-align: right;\">\n",
              "      <th></th>\n",
              "      <th>year</th>\n",
              "      <th>month</th>\n",
              "      <th>passengers</th>\n",
              "    </tr>\n",
              "  </thead>\n",
              "  <tbody>\n",
              "    <tr>\n",
              "      <th>0</th>\n",
              "      <td>1949</td>\n",
              "      <td>January</td>\n",
              "      <td>112</td>\n",
              "    </tr>\n",
              "    <tr>\n",
              "      <th>1</th>\n",
              "      <td>1949</td>\n",
              "      <td>February</td>\n",
              "      <td>118</td>\n",
              "    </tr>\n",
              "    <tr>\n",
              "      <th>2</th>\n",
              "      <td>1949</td>\n",
              "      <td>March</td>\n",
              "      <td>132</td>\n",
              "    </tr>\n",
              "    <tr>\n",
              "      <th>3</th>\n",
              "      <td>1949</td>\n",
              "      <td>April</td>\n",
              "      <td>129</td>\n",
              "    </tr>\n",
              "    <tr>\n",
              "      <th>4</th>\n",
              "      <td>1949</td>\n",
              "      <td>May</td>\n",
              "      <td>121</td>\n",
              "    </tr>\n",
              "  </tbody>\n",
              "</table>\n",
              "</div>"
            ],
            "text/plain": [
              "   year     month  passengers\n",
              "0  1949   January         112\n",
              "1  1949  February         118\n",
              "2  1949     March         132\n",
              "3  1949     April         129\n",
              "4  1949       May         121"
            ]
          },
          "metadata": {
            "tags": []
          },
          "execution_count": 7
        }
      ]
    },
    {
      "metadata": {
        "colab_type": "text",
        "id": "eUc_48wbljb0"
      },
      "cell_type": "markdown",
      "source": [
        "### Describe the data"
      ]
    },
    {
      "metadata": {
        "colab_type": "code",
        "id": "rA0xTMd7ljb0",
        "outputId": "36268feb-bd7b-4b7b-cfef-b93b9a1190bf",
        "colab": {
          "base_uri": "https://localhost:8080/",
          "height": 297
        }
      },
      "cell_type": "code",
      "source": [
        "flights.describe()"
      ],
      "execution_count": 8,
      "outputs": [
        {
          "output_type": "execute_result",
          "data": {
            "text/html": [
              "<div>\n",
              "<style scoped>\n",
              "    .dataframe tbody tr th:only-of-type {\n",
              "        vertical-align: middle;\n",
              "    }\n",
              "\n",
              "    .dataframe tbody tr th {\n",
              "        vertical-align: top;\n",
              "    }\n",
              "\n",
              "    .dataframe thead th {\n",
              "        text-align: right;\n",
              "    }\n",
              "</style>\n",
              "<table border=\"1\" class=\"dataframe\">\n",
              "  <thead>\n",
              "    <tr style=\"text-align: right;\">\n",
              "      <th></th>\n",
              "      <th>year</th>\n",
              "      <th>passengers</th>\n",
              "    </tr>\n",
              "  </thead>\n",
              "  <tbody>\n",
              "    <tr>\n",
              "      <th>count</th>\n",
              "      <td>144.000000</td>\n",
              "      <td>144.000000</td>\n",
              "    </tr>\n",
              "    <tr>\n",
              "      <th>mean</th>\n",
              "      <td>1954.500000</td>\n",
              "      <td>280.298611</td>\n",
              "    </tr>\n",
              "    <tr>\n",
              "      <th>std</th>\n",
              "      <td>3.464102</td>\n",
              "      <td>119.966317</td>\n",
              "    </tr>\n",
              "    <tr>\n",
              "      <th>min</th>\n",
              "      <td>1949.000000</td>\n",
              "      <td>104.000000</td>\n",
              "    </tr>\n",
              "    <tr>\n",
              "      <th>25%</th>\n",
              "      <td>1951.750000</td>\n",
              "      <td>180.000000</td>\n",
              "    </tr>\n",
              "    <tr>\n",
              "      <th>50%</th>\n",
              "      <td>1954.500000</td>\n",
              "      <td>265.500000</td>\n",
              "    </tr>\n",
              "    <tr>\n",
              "      <th>75%</th>\n",
              "      <td>1957.250000</td>\n",
              "      <td>360.500000</td>\n",
              "    </tr>\n",
              "    <tr>\n",
              "      <th>max</th>\n",
              "      <td>1960.000000</td>\n",
              "      <td>622.000000</td>\n",
              "    </tr>\n",
              "  </tbody>\n",
              "</table>\n",
              "</div>"
            ],
            "text/plain": [
              "              year  passengers\n",
              "count   144.000000  144.000000\n",
              "mean   1954.500000  280.298611\n",
              "std       3.464102  119.966317\n",
              "min    1949.000000  104.000000\n",
              "25%    1951.750000  180.000000\n",
              "50%    1954.500000  265.500000\n",
              "75%    1957.250000  360.500000\n",
              "max    1960.000000  622.000000"
            ]
          },
          "metadata": {
            "tags": []
          },
          "execution_count": 8
        }
      ]
    },
    {
      "metadata": {
        "colab_type": "text",
        "id": "Pwg0lL5Lljb2"
      },
      "cell_type": "markdown",
      "source": [
        "### Plot year & passengers"
      ]
    },
    {
      "metadata": {
        "colab_type": "code",
        "id": "o2reqC4Eljb2",
        "outputId": "9fcceb62-b598-4b6b-ec1c-6a764332c382",
        "colab": {
          "base_uri": "https://localhost:8080/",
          "height": 269
        }
      },
      "cell_type": "code",
      "source": [
        "plt.plot(flights.year, flights.passengers);"
      ],
      "execution_count": 9,
      "outputs": [
        {
          "output_type": "display_data",
          "data": {
            "image/png": "[encoded data removed]",
            "text/plain": [
              "<Figure size 432x288 with 1 Axes>"
            ]
          },
          "metadata": {
            "tags": []
          }
        }
      ]
    },
    {
      "metadata": {
        "colab_type": "text",
        "id": "g1TKShQ2ljb4"
      },
      "cell_type": "markdown",
      "source": [
        "### Plot month & passengers"
      ]
    },
    {
      "metadata": {
        "colab_type": "code",
        "id": "Le0Tc5SDwoHk",
        "outputId": "0a6a8b81-3a27-4940-8503-8105c8968338",
        "colab": {
          "base_uri": "https://localhost:8080/",
          "height": 663
        }
      },
      "cell_type": "code",
      "source": [
        "fig = plt.figure(figsize=(20,10))\n",
        "fig.suptitle(\"I have no idea how to interpret this!\", fontsize=24, fontweight='heavy')\n",
        "plt.plot(list(flights.month), flights.passengers);"
      ],
      "execution_count": 14,
      "outputs": [
        {
          "output_type": "display_data",
          "data": {
            "image/png": "[encoded data removed]",
            "text/plain": [
              "<Figure size 1440x720 with 1 Axes>"
            ]
          },
          "metadata": {
            "tags": []
          }
        }
      ]
    },
    {
      "metadata": {
        "colab_type": "text",
        "id": "Fh9lCwC-ljb6"
      },
      "cell_type": "markdown",
      "source": [
        "### Create a [pivot table](https://pandas.pydata.org/pandas-docs/stable/generated/pandas.DataFrame.pivot_table.html) of passengers by month and year"
      ]
    },
    {
      "metadata": {
        "colab_type": "code",
        "id": "JJrQbsXxljb6",
        "colab": {}
      },
      "cell_type": "code",
      "source": [
        "flights_pt = flights.pivot_table(index='month', columns='year')"
      ],
      "execution_count": 0,
      "outputs": []
    },
    {
      "metadata": {
        "colab_type": "text",
        "id": "MRast1t4ljb7"
      },
      "cell_type": "markdown",
      "source": [
        "### Plot the pivot table as a [heat map](https://seaborn.pydata.org/generated/seaborn.heatmap.html)"
      ]
    },
    {
      "metadata": {
        "colab_type": "code",
        "id": "nLGYX_5Bljb9",
        "outputId": "90af975a-6dc2-4de6-a17e-4032c52d682c",
        "colab": {
          "base_uri": "https://localhost:8080/",
          "height": 392
        }
      },
      "cell_type": "code",
      "source": [
        "fig, ax = plt.subplots(figsize=(8, 6))\n",
        "sns.heatmap(flights_pt, xticklabels = list(set(flights['year'])));"
      ],
      "execution_count": 0,
      "outputs": [
        {
          "output_type": "display_data",
          "data": {
            "image/png": "[encoded data removed]",
            "text/plain": [
              "<Figure size 576x432 with 2 Axes>"
            ]
          },
          "metadata": {
            "tags": []
          }
        }
      ]
    },
    {
      "metadata": {
        "id": "xmEaapURMyKZ",
        "colab_type": "text"
      },
      "cell_type": "markdown",
      "source": [
        "# ASSIGNMENT\n",
        "\n",
        "### 1.\n",
        "\n",
        "Replicate the lesson code. I recommend that you [do not copy-paste](https://docs.google.com/document/d/1ubOw9B3Hfip27hF2ZFnW3a3z9xAgrUDRReOEo-FHCVs/edit).\n",
        "\n",
        "==>> See above\n",
        "\n",
        "### 2.\n",
        "\n",
        "Choose a chart you want to make, from [FT's Visual Vocabulary poster](http://ft.com/vocabulary).\n",
        "\n",
        "Find the chart in an example gallery of a Python data visualization library:\n",
        "- [Seaborn](http://seaborn.pydata.org/examples/index.html)\n",
        "- [Altair](https://altair-viz.github.io/gallery/index.html)\n",
        "- [Matplotlib](https://matplotlib.org/gallery.html)\n",
        "- [Pandas](https://pandas.pydata.org/pandas-docs/stable/visualization.html)\n",
        "\n",
        "Reproduce the chart. [Optionally, try the \"Ben Franklin Method.\"](https://docs.google.com/document/d/1ubOw9B3Hfip27hF2ZFnW3a3z9xAgrUDRReOEo-FHCVs/edit) Experiment and make changes.\n",
        "\n",
        "Take notes. Share your work with your cohort!\n"
      ]
    },
    {
      "metadata": {
        "id": "shj0U3tt1StT",
        "colab_type": "code",
        "outputId": "f2ee3e5a-fbde-4bc7-88e4-a4ad72188fc2",
        "colab": {
          "base_uri": "https://localhost:8080/",
          "height": 390
        }
      },
      "cell_type": "code",
      "source": [
        "import altair as alt\n",
        "from vega_datasets import data\n",
        "\n",
        "source = data.disasters.url\n",
        "df = pd.read_csv(source)\n",
        "df = df[df['Year'] < 1960]\n",
        "df.sample(11)"
      ],
      "execution_count": 0,
      "outputs": [
        {
          "output_type": "execute_result",
          "data": {
            "text/html": [
              "<div>\n",
              "<style scoped>\n",
              "    .dataframe tbody tr th:only-of-type {\n",
              "        vertical-align: middle;\n",
              "    }\n",
              "\n",
              "    .dataframe tbody tr th {\n",
              "        vertical-align: top;\n",
              "    }\n",
              "\n",
              "    .dataframe thead th {\n",
              "        text-align: right;\n",
              "    }\n",
              "</style>\n",
              "<table border=\"1\" class=\"dataframe\">\n",
              "  <thead>\n",
              "    <tr style=\"text-align: right;\">\n",
              "      <th></th>\n",
              "      <th>Entity</th>\n",
              "      <th>Year</th>\n",
              "      <th>Deaths</th>\n",
              "    </tr>\n",
              "  </thead>\n",
              "  <tbody>\n",
              "    <tr>\n",
              "      <th>708</th>\n",
              "      <td>Volcanic activity</td>\n",
              "      <td>1914</td>\n",
              "      <td>140</td>\n",
              "    </tr>\n",
              "    <tr>\n",
              "      <th>25</th>\n",
              "      <td>All natural disasters</td>\n",
              "      <td>1926</td>\n",
              "      <td>427852</td>\n",
              "    </tr>\n",
              "    <tr>\n",
              "      <th>710</th>\n",
              "      <td>Volcanic activity</td>\n",
              "      <td>1926</td>\n",
              "      <td>144</td>\n",
              "    </tr>\n",
              "    <tr>\n",
              "      <th>2</th>\n",
              "      <td>All natural disasters</td>\n",
              "      <td>1902</td>\n",
              "      <td>46037</td>\n",
              "    </tr>\n",
              "    <tr>\n",
              "      <th>192</th>\n",
              "      <td>Earthquake</td>\n",
              "      <td>1943</td>\n",
              "      <td>4332</td>\n",
              "    </tr>\n",
              "    <tr>\n",
              "      <th>4</th>\n",
              "      <td>All natural disasters</td>\n",
              "      <td>1905</td>\n",
              "      <td>22758</td>\n",
              "    </tr>\n",
              "    <tr>\n",
              "      <th>509</th>\n",
              "      <td>Flood</td>\n",
              "      <td>1927</td>\n",
              "      <td>3246</td>\n",
              "    </tr>\n",
              "    <tr>\n",
              "      <th>33</th>\n",
              "      <td>All natural disasters</td>\n",
              "      <td>1934</td>\n",
              "      <td>21087</td>\n",
              "    </tr>\n",
              "    <tr>\n",
              "      <th>187</th>\n",
              "      <td>Earthquake</td>\n",
              "      <td>1938</td>\n",
              "      <td>166</td>\n",
              "    </tr>\n",
              "    <tr>\n",
              "      <th>269</th>\n",
              "      <td>Epidemic</td>\n",
              "      <td>1907</td>\n",
              "      <td>1300000</td>\n",
              "    </tr>\n",
              "    <tr>\n",
              "      <th>186</th>\n",
              "      <td>Earthquake</td>\n",
              "      <td>1936</td>\n",
              "      <td>26</td>\n",
              "    </tr>\n",
              "  </tbody>\n",
              "</table>\n",
              "</div>"
            ],
            "text/plain": [
              "                    Entity  Year   Deaths\n",
              "708      Volcanic activity  1914      140\n",
              "25   All natural disasters  1926   427852\n",
              "710      Volcanic activity  1926      144\n",
              "2    All natural disasters  1902    46037\n",
              "192             Earthquake  1943     4332\n",
              "4    All natural disasters  1905    22758\n",
              "509                  Flood  1927     3246\n",
              "33   All natural disasters  1934    21087\n",
              "187             Earthquake  1938      166\n",
              "269               Epidemic  1907  1300000\n",
              "186             Earthquake  1936       26"
            ]
          },
          "metadata": {
            "tags": []
          },
          "execution_count": 59
        }
      ]
    },
    {
      "metadata": {
        "id": "DqJ8y12wzFRG",
        "colab_type": "code",
        "outputId": "b79fc85c-c24a-4ea4-813c-c96a590da0b2",
        "colab": {
          "base_uri": "https://localhost:8080/",
          "height": 432
        }
      },
      "cell_type": "code",
      "source": [
        "alt.Chart(df).mark_circle(opacity=0.75,\n",
        "                              stroke='black',\n",
        "                              strokeWidth=1)\\\n",
        "                 .encode(alt.X('Year:O', axis=alt.Axis(labelAngle=0)),\n",
        "                         alt.Y('Entity:N'),\n",
        "                         alt.Size('Deaths:Q',\n",
        "                         scale=alt.Scale(range=[0, 5000]),\n",
        "                         legend=alt.Legend(title='Annual Global Deaths')),\n",
        "                         alt.Color('Entity:N', legend=None))\\\n",
        "                 .properties(width=480,\n",
        "                             height=350)\\\n",
        "                 .transform_filter(alt.datum.Entity != 'All natural disasters')"
      ],
      "execution_count": 0,
      "outputs": [
        {
          "output_type": "execute_result",
          "data": {
            "text/plain": [
              "Chart({\n",
              "  data:                     Entity  Year   Deaths\n",
              "  0    All natural disasters  1900  1267360\n",
              "  1    All natural disasters  1901   200018\n",
              "  2    All natural disasters  1902    46037\n",
              "  3    All natural disasters  1903     6506\n",
              "  4    All natural disasters  1905    22758\n",
              "  5    All natural disasters  1906    42970\n",
              "  6    All natural disasters  1907  1325641\n",
              "  7    All natural disasters  1908    75033\n",
              "  8    All natural disasters  1909  1511524\n",
              "  9    All natural disasters  1910   148233\n",
              "  10   All natural disasters  1911   102408\n",
              "  11   All natural disasters  1912    52093\n",
              "  12   All natural disasters  1913      882\n",
              "  13   All natural disasters  1914      289\n",
              "  14   All natural disasters  1915    32167\n",
              "  15   All natural disasters  1916      300\n",
              "  16   All natural disasters  1917  2523507\n",
              "  17   All natural disasters  1918   461113\n",
              "  18   All natural disasters  1919     5500\n",
              "  19   All natural disasters  1920  3204224\n",
              "  20   All natural disasters  1921  1200000\n",
              "  21   All natural disasters  1922   101243\n",
              "  22   All natural disasters  1923   255701\n",
              "  23   All natural disasters  1924   303009\n",
              "  24   All natural disasters  1925     5832\n",
              "  25   All natural disasters  1926   427852\n",
              "  26   All natural disasters  1927   215160\n",
              "  27   All natural disasters  1928  3004895\n",
              "  28   All natural disasters  1929     8377\n",
              "  29   All natural disasters  1930    10572\n",
              "  ..                     ...   ...      ...\n",
              "  676    Mass movement (dry)  1955        3\n",
              "  702      Volcanic activity  1900       30\n",
              "  703      Volcanic activity  1902    38690\n",
              "  704      Volcanic activity  1903       17\n",
              "  705      Volcanic activity  1906      700\n",
              "  706      Volcanic activity  1909     5500\n",
              "  707      Volcanic activity  1911     1335\n",
              "  708      Volcanic activity  1914      140\n",
              "  709      Volcanic activity  1919     5000\n",
              "  710      Volcanic activity  1926      144\n",
              "  711      Volcanic activity  1929     5000\n",
              "  712      Volcanic activity  1930     1369\n",
              "  713      Volcanic activity  1931     1300\n",
              "  714      Volcanic activity  1937      506\n",
              "  715      Volcanic activity  1944       26\n",
              "  716      Volcanic activity  1948      100\n",
              "  717      Volcanic activity  1949     2000\n",
              "  718      Volcanic activity  1950       84\n",
              "  719      Volcanic activity  1951     4800\n",
              "  720      Volcanic activity  1952       29\n",
              "  721      Volcanic activity  1953      150\n",
              "  722      Volcanic activity  1954       37\n",
              "  755               Wildfire  1911       73\n",
              "  756               Wildfire  1918     1000\n",
              "  757               Wildfire  1922       43\n",
              "  758               Wildfire  1929       60\n",
              "  759               Wildfire  1939       71\n",
              "  760               Wildfire  1944      170\n",
              "  761               Wildfire  1949       80\n",
              "  762               Wildfire  1956       11\n",
              "  \n",
              "  [283 rows x 3 columns],\n",
              "  encoding: EncodingWithFacet({\n",
              "    color: Color({\n",
              "      legend: None,\n",
              "      shorthand: 'Entity:N'\n",
              "    }),\n",
              "    size: Size({\n",
              "      legend: Legend({\n",
              "        title: 'Annual Global Deaths'\n",
              "      }),\n",
              "      scale: Scale({\n",
              "        range: [0, 5000]\n",
              "      }),\n",
              "      shorthand: 'Deaths:Q'\n",
              "    }),\n",
              "    x: X({\n",
              "      axis: Axis({\n",
              "        labelAngle: 0\n",
              "      }),\n",
              "      shorthand: 'Year:O'\n",
              "    }),\n",
              "    y: Y({\n",
              "      shorthand: 'Entity:N'\n",
              "    })\n",
              "  }),\n",
              "  height: 350,\n",
              "  mark: MarkDef({\n",
              "    opacity: 0.75,\n",
              "    stroke: 'black',\n",
              "    strokeWidth: 1,\n",
              "    type: 'circle'\n",
              "  }),\n",
              "  transform: [FilterTransform({\n",
              "    filter: (datum.Entity !== 'All natural disasters')\n",
              "  })],\n",
              "  width: 480\n",
              "})"
            ],
            "text/html": [
              "<!DOCTYPE html>\n",
              "<html>\n",
              "<head>\n",
              "  <style>\n",
              "    .vega-actions a {\n",
              "        margin-right: 12px;\n",
              "        color: #757575;\n",
              "        font-weight: normal;\n",
              "        font-size: 13px;\n",
              "    }\n",
              "    .error {\n",
              "        color: red;\n",
              "    }\n",
              "  </style>\n",
              "  <script type=\"text/javascript\" src=\"https://cdn.jsdelivr.net/npm//vega@4\"></script>\n",
              "  <script type=\"text/javascript\" src=\"https://cdn.jsdelivr.net/npm//vega-lite@2.6.0\"></script>\n",
              "  <script type=\"text/javascript\" src=\"https://cdn.jsdelivr.net/npm//vega-embed@3\"></script>\n",
              "</head>\n",
              "<body>\n",
              "  <div id=\"altair-viz\"></div>\n",
              "  <script>\n",
              "      var spec = {\"config\": {\"view\": {\"width\": 400, \"height\": 300}}, \"data\": {\"name\": \"data-1f574ab15315ba5714499807e798cc83\"}, \"mark\": {\"type\": \"circle\", \"opacity\": 0.75, \"stroke\": \"black\", \"strokeWidth\": 1}, \"encoding\": {\"color\": {\"type\": \"nominal\", \"field\": \"Entity\", \"legend\": null}, \"size\": {\"type\": \"quantitative\", \"field\": \"Deaths\", \"legend\": {\"title\": \"Annual Global Deaths\"}, \"scale\": {\"range\": [0, 5000]}}, \"x\": {\"type\": \"ordinal\", \"axis\": {\"labelAngle\": 0}, \"field\": \"Year\"}, \"y\": {\"type\": \"nominal\", \"field\": \"Entity\"}}, \"height\": 350, \"transform\": [{\"filter\": \"(datum.Entity !== 'All natural disasters')\"}], \"width\": 480, \"$schema\": \"https://vega.github.io/schema/vega-lite/v2.6.0.json\", \"datasets\": {\"data-1f574ab15315ba5714499807e798cc83\": [{\"Entity\": \"All natural disasters\", \"Year\": 1900, \"Deaths\": 1267360}, {\"Entity\": \"All natural disasters\", \"Year\": 1901, \"Deaths\": 200018}, {\"Entity\": \"All natural disasters\", \"Year\": 1902, \"Deaths\": 46037}, {\"Entity\": \"All natural disasters\", \"Year\": 1903, \"Deaths\": 6506}, {\"Entity\": \"All natural disasters\", \"Year\": 1905, \"Deaths\": 22758}, {\"Entity\": \"All natural disasters\", \"Year\": 1906, \"Deaths\": 42970}, {\"Entity\": \"All natural disasters\", \"Year\": 1907, \"Deaths\": 1325641}, {\"Entity\": \"All natural disasters\", \"Year\": 1908, \"Deaths\": 75033}, {\"Entity\": \"All natural disasters\", \"Year\": 1909, \"Deaths\": 1511524}, {\"Entity\": \"All natural disasters\", \"Year\": 1910, \"Deaths\": 148233}, {\"Entity\": \"All natural disasters\", \"Year\": 1911, \"Deaths\": 102408}, {\"Entity\": \"All natural disasters\", \"Year\": 1912, \"Deaths\": 52093}, {\"Entity\": \"All natural disasters\", \"Year\": 1913, \"Deaths\": 882}, {\"Entity\": \"All natural disasters\", \"Year\": 1914, \"Deaths\": 289}, {\"Entity\": \"All natural disasters\", \"Year\": 1915, \"Deaths\": 32167}, {\"Entity\": \"All natural disasters\", \"Year\": 1916, \"Deaths\": 300}, {\"Entity\": \"All natural disasters\", \"Year\": 1917, \"Deaths\": 2523507}, {\"Entity\": \"All natural disasters\", \"Year\": 1918, \"Deaths\": 461113}, {\"Entity\": \"All natural disasters\", \"Year\": 1919, \"Deaths\": 5500}, {\"Entity\": \"All natural disasters\", \"Year\": 1920, \"Deaths\": 3204224}, {\"Entity\": \"All natural disasters\", \"Year\": 1921, \"Deaths\": 1200000}, {\"Entity\": \"All natural disasters\", \"Year\": 1922, \"Deaths\": 101243}, {\"Entity\": \"All natural disasters\", \"Year\": 1923, \"Deaths\": 255701}, {\"Entity\": \"All natural disasters\", \"Year\": 1924, \"Deaths\": 303009}, {\"Entity\": \"All natural disasters\", \"Year\": 1925, \"Deaths\": 5832}, {\"Entity\": \"All natural disasters\", \"Year\": 1926, \"Deaths\": 427852}, {\"Entity\": \"All natural disasters\", \"Year\": 1927, \"Deaths\": 215160}, {\"Entity\": \"All natural disasters\", \"Year\": 1928, \"Deaths\": 3004895}, {\"Entity\": \"All natural disasters\", \"Year\": 1929, \"Deaths\": 8377}, {\"Entity\": \"All natural disasters\", \"Year\": 1930, \"Deaths\": 10572}, {\"Entity\": \"All natural disasters\", \"Year\": 1931, \"Deaths\": 3706227}, {\"Entity\": \"All natural disasters\", \"Year\": 1932, \"Deaths\": 73296}, {\"Entity\": \"All natural disasters\", \"Year\": 1933, \"Deaths\": 34296}, {\"Entity\": \"All natural disasters\", \"Year\": 1934, \"Deaths\": 21087}, {\"Entity\": \"All natural disasters\", \"Year\": 1935, \"Deaths\": 272817}, {\"Entity\": \"All natural disasters\", \"Year\": 1936, \"Deaths\": 5301}, {\"Entity\": \"All natural disasters\", \"Year\": 1937, \"Deaths\": 12025}, {\"Entity\": \"All natural disasters\", \"Year\": 1938, \"Deaths\": 2225}, {\"Entity\": \"All natural disasters\", \"Year\": 1939, \"Deaths\": 563178}, {\"Entity\": \"All natural disasters\", \"Year\": 1940, \"Deaths\": 23023}, {\"Entity\": \"All natural disasters\", \"Year\": 1941, \"Deaths\": 10195}, {\"Entity\": \"All natural disasters\", \"Year\": 1942, \"Deaths\": 1608235}, {\"Entity\": \"All natural disasters\", \"Year\": 1943, \"Deaths\": 1910322}, {\"Entity\": \"All natural disasters\", \"Year\": 1944, \"Deaths\": 15906}, {\"Entity\": \"All natural disasters\", \"Year\": 1945, \"Deaths\": 10376}, {\"Entity\": \"All natural disasters\", \"Year\": 1946, \"Deaths\": 35490}, {\"Entity\": \"All natural disasters\", \"Year\": 1947, \"Deaths\": 17647}, {\"Entity\": \"All natural disasters\", \"Year\": 1948, \"Deaths\": 120131}, {\"Entity\": \"All natural disasters\", \"Year\": 1949, \"Deaths\": 120370}, {\"Entity\": \"All natural disasters\", \"Year\": 1950, \"Deaths\": 6728}, {\"Entity\": \"All natural disasters\", \"Year\": 1951, \"Deaths\": 15042}, {\"Entity\": \"All natural disasters\", \"Year\": 1952, \"Deaths\": 8965}, {\"Entity\": \"All natural disasters\", \"Year\": 1953, \"Deaths\": 12956}, {\"Entity\": \"All natural disasters\", \"Year\": 1954, \"Deaths\": 41872}, {\"Entity\": \"All natural disasters\", \"Year\": 1955, \"Deaths\": 6026}, {\"Entity\": \"All natural disasters\", \"Year\": 1956, \"Deaths\": 7737}, {\"Entity\": \"All natural disasters\", \"Year\": 1957, \"Deaths\": 10603}, {\"Entity\": \"All natural disasters\", \"Year\": 1958, \"Deaths\": 3950}, {\"Entity\": \"All natural disasters\", \"Year\": 1959, \"Deaths\": 2013242}, {\"Entity\": \"Drought\", \"Year\": 1900, \"Deaths\": 1261000}, {\"Entity\": \"Drought\", \"Year\": 1910, \"Deaths\": 85000}, {\"Entity\": \"Drought\", \"Year\": 1920, \"Deaths\": 524000}, {\"Entity\": \"Drought\", \"Year\": 1921, \"Deaths\": 1200000}, {\"Entity\": \"Drought\", \"Year\": 1928, \"Deaths\": 3000000}, {\"Entity\": \"Drought\", \"Year\": 1940, \"Deaths\": 20000}, {\"Entity\": \"Drought\", \"Year\": 1942, \"Deaths\": 1500000}, {\"Entity\": \"Drought\", \"Year\": 1943, \"Deaths\": 1900000}, {\"Entity\": \"Drought\", \"Year\": 1946, \"Deaths\": 30000}, {\"Entity\": \"Earthquake\", \"Year\": 1901, \"Deaths\": 18}, {\"Entity\": \"Earthquake\", \"Year\": 1902, \"Deaths\": 6747}, {\"Entity\": \"Earthquake\", \"Year\": 1903, \"Deaths\": 6000}, {\"Entity\": \"Earthquake\", \"Year\": 1905, \"Deaths\": 22500}, {\"Entity\": \"Earthquake\", \"Year\": 1906, \"Deaths\": 31966}, {\"Entity\": \"Earthquake\", \"Year\": 1907, \"Deaths\": 25641}, {\"Entity\": \"Earthquake\", \"Year\": 1908, \"Deaths\": 75000}, {\"Entity\": \"Earthquake\", \"Year\": 1909, \"Deaths\": 5146}, {\"Entity\": \"Earthquake\", \"Year\": 1910, \"Deaths\": 1762}, {\"Entity\": \"Earthquake\", \"Year\": 1912, \"Deaths\": 923}, {\"Entity\": \"Earthquake\", \"Year\": 1913, \"Deaths\": 150}, {\"Entity\": \"Earthquake\", \"Year\": 1914, \"Deaths\": 149}, {\"Entity\": \"Earthquake\", \"Year\": 1915, \"Deaths\": 29986}, {\"Entity\": \"Earthquake\", \"Year\": 1917, \"Deaths\": 19450}, {\"Entity\": \"Earthquake\", \"Year\": 1918, \"Deaths\": 10379}, {\"Entity\": \"Earthquake\", \"Year\": 1920, \"Deaths\": 180000}, {\"Entity\": \"Earthquake\", \"Year\": 1922, \"Deaths\": 1100}, {\"Entity\": \"Earthquake\", \"Year\": 1923, \"Deaths\": 152362}, {\"Entity\": \"Earthquake\", \"Year\": 1924, \"Deaths\": 767}, {\"Entity\": \"Earthquake\", \"Year\": 1925, \"Deaths\": 5013}, {\"Entity\": \"Earthquake\", \"Year\": 1926, \"Deaths\": 12}, {\"Entity\": \"Earthquake\", \"Year\": 1927, \"Deaths\": 206142}, {\"Entity\": \"Earthquake\", \"Year\": 1928, \"Deaths\": 635}, {\"Entity\": \"Earthquake\", \"Year\": 1929, \"Deaths\": 3317}, {\"Entity\": \"Earthquake\", \"Year\": 1930, \"Deaths\": 5081}, {\"Entity\": \"Earthquake\", \"Year\": 1931, \"Deaths\": 1537}, {\"Entity\": \"Earthquake\", \"Year\": 1932, \"Deaths\": 70006}, {\"Entity\": \"Earthquake\", \"Year\": 1933, \"Deaths\": 16180}, {\"Entity\": \"Earthquake\", \"Year\": 1934, \"Deaths\": 15496}, {\"Entity\": \"Earthquake\", \"Year\": 1935, \"Deaths\": 66110}, {\"Entity\": \"Earthquake\", \"Year\": 1936, \"Deaths\": 26}, {\"Entity\": \"Earthquake\", \"Year\": 1938, \"Deaths\": 166}, {\"Entity\": \"Earthquake\", \"Year\": 1939, \"Deaths\": 63094}, {\"Entity\": \"Earthquake\", \"Year\": 1940, \"Deaths\": 1275}, {\"Entity\": \"Earthquake\", \"Year\": 1941, \"Deaths\": 189}, {\"Entity\": \"Earthquake\", \"Year\": 1942, \"Deaths\": 7235}, {\"Entity\": \"Earthquake\", \"Year\": 1943, \"Deaths\": 4332}, {\"Entity\": \"Earthquake\", \"Year\": 1944, \"Deaths\": 14984}, {\"Entity\": \"Earthquake\", \"Year\": 1945, \"Deaths\": 5961}, {\"Entity\": \"Earthquake\", \"Year\": 1946, \"Deaths\": 5153}, {\"Entity\": \"Earthquake\", \"Year\": 1947, \"Deaths\": 633}, {\"Entity\": \"Earthquake\", \"Year\": 1948, \"Deaths\": 115618}, {\"Entity\": \"Earthquake\", \"Year\": 1949, \"Deaths\": 6486}, {\"Entity\": \"Earthquake\", \"Year\": 1950, \"Deaths\": 1833}, {\"Entity\": \"Earthquake\", \"Year\": 1951, \"Deaths\": 1554}, {\"Entity\": \"Earthquake\", \"Year\": 1952, \"Deaths\": 2432}, {\"Entity\": \"Earthquake\", \"Year\": 1953, \"Deaths\": 2717}, {\"Entity\": \"Earthquake\", \"Year\": 1954, \"Deaths\": 3344}, {\"Entity\": \"Earthquake\", \"Year\": 1955, \"Deaths\": 959}, {\"Entity\": \"Earthquake\", \"Year\": 1956, \"Deaths\": 763}, {\"Entity\": \"Earthquake\", \"Year\": 1957, \"Deaths\": 6993}, {\"Entity\": \"Earthquake\", \"Year\": 1958, \"Deaths\": 227}, {\"Entity\": \"Earthquake\", \"Year\": 1959, \"Deaths\": 103}, {\"Entity\": \"Epidemic\", \"Year\": 1900, \"Deaths\": 30}, {\"Entity\": \"Epidemic\", \"Year\": 1901, \"Deaths\": 200000}, {\"Entity\": \"Epidemic\", \"Year\": 1907, \"Deaths\": 1300000}, {\"Entity\": \"Epidemic\", \"Year\": 1909, \"Deaths\": 1500040}, {\"Entity\": \"Epidemic\", \"Year\": 1910, \"Deaths\": 60000}, {\"Entity\": \"Epidemic\", \"Year\": 1917, \"Deaths\": 2500000}, {\"Entity\": \"Epidemic\", \"Year\": 1918, \"Deaths\": 449700}, {\"Entity\": \"Epidemic\", \"Year\": 1920, \"Deaths\": 2500000}, {\"Entity\": \"Epidemic\", \"Year\": 1923, \"Deaths\": 100000}, {\"Entity\": \"Epidemic\", \"Year\": 1924, \"Deaths\": 300000}, {\"Entity\": \"Epidemic\", \"Year\": 1926, \"Deaths\": 423000}, {\"Entity\": \"Epidemic\", \"Year\": 1932, \"Deaths\": 16}, {\"Entity\": \"Epidemic\", \"Year\": 1935, \"Deaths\": 2000}, {\"Entity\": \"Epidemic\", \"Year\": 1940, \"Deaths\": 1500}, {\"Entity\": \"Epidemic\", \"Year\": 1947, \"Deaths\": 10276}, {\"Entity\": \"Epidemic\", \"Year\": 1953, \"Deaths\": 481}, {\"Entity\": \"Extreme temperature\", \"Year\": 1936, \"Deaths\": 1693}, {\"Entity\": \"Extreme temperature\", \"Year\": 1951, \"Deaths\": 69}, {\"Entity\": \"Extreme temperature\", \"Year\": 1953, \"Deaths\": 669}, {\"Entity\": \"Extreme temperature\", \"Year\": 1955, \"Deaths\": 107}, {\"Entity\": \"Extreme temperature\", \"Year\": 1958, \"Deaths\": 651}, {\"Entity\": \"Extreme weather\", \"Year\": 1900, \"Deaths\": 6000}, {\"Entity\": \"Extreme weather\", \"Year\": 1902, \"Deaths\": 600}, {\"Entity\": \"Extreme weather\", \"Year\": 1903, \"Deaths\": 163}, {\"Entity\": \"Extreme weather\", \"Year\": 1905, \"Deaths\": 240}, {\"Entity\": \"Extreme weather\", \"Year\": 1906, \"Deaths\": 10298}, {\"Entity\": \"Extreme weather\", \"Year\": 1909, \"Deaths\": 713}, {\"Entity\": \"Extreme weather\", \"Year\": 1910, \"Deaths\": 30}, {\"Entity\": \"Extreme weather\", \"Year\": 1911, \"Deaths\": 1000}, {\"Entity\": \"Extreme weather\", \"Year\": 1912, \"Deaths\": 51170}, {\"Entity\": \"Extreme weather\", \"Year\": 1913, \"Deaths\": 732}, {\"Entity\": \"Extreme weather\", \"Year\": 1915, \"Deaths\": 2125}, {\"Entity\": \"Extreme weather\", \"Year\": 1916, \"Deaths\": 300}, {\"Entity\": \"Extreme weather\", \"Year\": 1917, \"Deaths\": 4057}, {\"Entity\": \"Extreme weather\", \"Year\": 1918, \"Deaths\": 34}, {\"Entity\": \"Extreme weather\", \"Year\": 1919, \"Deaths\": 500}, {\"Entity\": \"Extreme weather\", \"Year\": 1920, \"Deaths\": 224}, {\"Entity\": \"Extreme weather\", \"Year\": 1922, \"Deaths\": 100000}, {\"Entity\": \"Extreme weather\", \"Year\": 1923, \"Deaths\": 3139}, {\"Entity\": \"Extreme weather\", \"Year\": 1924, \"Deaths\": 2242}, {\"Entity\": \"Extreme weather\", \"Year\": 1925, \"Deaths\": 819}, {\"Entity\": \"Extreme weather\", \"Year\": 1926, \"Deaths\": 3568}, {\"Entity\": \"Extreme weather\", \"Year\": 1927, \"Deaths\": 5772}, {\"Entity\": \"Extreme weather\", \"Year\": 1928, \"Deaths\": 4224}, {\"Entity\": \"Extreme weather\", \"Year\": 1930, \"Deaths\": 4082}, {\"Entity\": \"Extreme weather\", \"Year\": 1931, \"Deaths\": 3200}, {\"Entity\": \"Extreme weather\", \"Year\": 1932, \"Deaths\": 3244}, {\"Entity\": \"Extreme weather\", \"Year\": 1933, \"Deaths\": 63}, {\"Entity\": \"Extreme weather\", \"Year\": 1934, \"Deaths\": 5091}, {\"Entity\": \"Extreme weather\", \"Year\": 1935, \"Deaths\": 62707}, {\"Entity\": \"Extreme weather\", \"Year\": 1936, \"Deaths\": 3309}, {\"Entity\": \"Extreme weather\", \"Year\": 1937, \"Deaths\": 11231}, {\"Entity\": \"Extreme weather\", \"Year\": 1938, \"Deaths\": 905}, {\"Entity\": \"Extreme weather\", \"Year\": 1939, \"Deaths\": 3}, {\"Entity\": \"Extreme weather\", \"Year\": 1940, \"Deaths\": 123}, {\"Entity\": \"Extreme weather\", \"Year\": 1941, \"Deaths\": 5006}, {\"Entity\": \"Extreme weather\", \"Year\": 1942, \"Deaths\": 101000}, {\"Entity\": \"Extreme weather\", \"Year\": 1943, \"Deaths\": 5000}, {\"Entity\": \"Extreme weather\", \"Year\": 1944, \"Deaths\": 726}, {\"Entity\": \"Extreme weather\", \"Year\": 1945, \"Deaths\": 4415}, {\"Entity\": \"Extreme weather\", \"Year\": 1946, \"Deaths\": 337}, {\"Entity\": \"Extreme weather\", \"Year\": 1947, \"Deaths\": 4738}, {\"Entity\": \"Extreme weather\", \"Year\": 1948, \"Deaths\": 2971}, {\"Entity\": \"Extreme weather\", \"Year\": 1949, \"Deaths\": 2804}, {\"Entity\": \"Extreme weather\", \"Year\": 1950, \"Deaths\": 873}, {\"Entity\": \"Extreme weather\", \"Year\": 1951, \"Deaths\": 2861}, {\"Entity\": \"Extreme weather\", \"Year\": 1952, \"Deaths\": 6277}, {\"Entity\": \"Extreme weather\", \"Year\": 1953, \"Deaths\": 1814}, {\"Entity\": \"Extreme weather\", \"Year\": 1954, \"Deaths\": 2969}, {\"Entity\": \"Extreme weather\", \"Year\": 1955, \"Deaths\": 3895}, {\"Entity\": \"Extreme weather\", \"Year\": 1956, \"Deaths\": 3114}, {\"Entity\": \"Extreme weather\", \"Year\": 1957, \"Deaths\": 1139}, {\"Entity\": \"Extreme weather\", \"Year\": 1958, \"Deaths\": 2620}, {\"Entity\": \"Extreme weather\", \"Year\": 1959, \"Deaths\": 9695}, {\"Entity\": \"Flood\", \"Year\": 1900, \"Deaths\": 300}, {\"Entity\": \"Flood\", \"Year\": 1903, \"Deaths\": 250}, {\"Entity\": \"Flood\", \"Year\": 1906, \"Deaths\": 6}, {\"Entity\": \"Flood\", \"Year\": 1909, \"Deaths\": 72}, {\"Entity\": \"Flood\", \"Year\": 1910, \"Deaths\": 1379}, {\"Entity\": \"Flood\", \"Year\": 1911, \"Deaths\": 100000}, {\"Entity\": \"Flood\", \"Year\": 1926, \"Deaths\": 1000}, {\"Entity\": \"Flood\", \"Year\": 1927, \"Deaths\": 3246}, {\"Entity\": \"Flood\", \"Year\": 1928, \"Deaths\": 36}, {\"Entity\": \"Flood\", \"Year\": 1931, \"Deaths\": 3700000}, {\"Entity\": \"Flood\", \"Year\": 1933, \"Deaths\": 18053}, {\"Entity\": \"Flood\", \"Year\": 1935, \"Deaths\": 142000}, {\"Entity\": \"Flood\", \"Year\": 1936, \"Deaths\": 200}, {\"Entity\": \"Flood\", \"Year\": 1937, \"Deaths\": 248}, {\"Entity\": \"Flood\", \"Year\": 1938, \"Deaths\": 954}, {\"Entity\": \"Flood\", \"Year\": 1939, \"Deaths\": 500010}, {\"Entity\": \"Flood\", \"Year\": 1940, \"Deaths\": 125}, {\"Entity\": \"Flood\", \"Year\": 1943, \"Deaths\": 990}, {\"Entity\": \"Flood\", \"Year\": 1947, \"Deaths\": 2000}, {\"Entity\": \"Flood\", \"Year\": 1948, \"Deaths\": 917}, {\"Entity\": \"Flood\", \"Year\": 1949, \"Deaths\": 97000}, {\"Entity\": \"Flood\", \"Year\": 1950, \"Deaths\": 3808}, {\"Entity\": \"Flood\", \"Year\": 1951, \"Deaths\": 5666}, {\"Entity\": \"Flood\", \"Year\": 1952, \"Deaths\": 199}, {\"Entity\": \"Flood\", \"Year\": 1953, \"Deaths\": 7125}, {\"Entity\": \"Flood\", \"Year\": 1954, \"Deaths\": 34436}, {\"Entity\": \"Flood\", \"Year\": 1955, \"Deaths\": 584}, {\"Entity\": \"Flood\", \"Year\": 1956, \"Deaths\": 3613}, {\"Entity\": \"Flood\", \"Year\": 1957, \"Deaths\": 2471}, {\"Entity\": \"Flood\", \"Year\": 1958, \"Deaths\": 400}, {\"Entity\": \"Flood\", \"Year\": 1959, \"Deaths\": 2003396}, {\"Entity\": \"Landslide\", \"Year\": 1909, \"Deaths\": 53}, {\"Entity\": \"Landslide\", \"Year\": 1922, \"Deaths\": 100}, {\"Entity\": \"Landslide\", \"Year\": 1923, \"Deaths\": 200}, {\"Entity\": \"Landslide\", \"Year\": 1926, \"Deaths\": 128}, {\"Entity\": \"Landslide\", \"Year\": 1930, \"Deaths\": 40}, {\"Entity\": \"Landslide\", \"Year\": 1931, \"Deaths\": 190}, {\"Entity\": \"Landslide\", \"Year\": 1932, \"Deaths\": 30}, {\"Entity\": \"Landslide\", \"Year\": 1934, \"Deaths\": 500}, {\"Entity\": \"Landslide\", \"Year\": 1936, \"Deaths\": 73}, {\"Entity\": \"Landslide\", \"Year\": 1938, \"Deaths\": 200}, {\"Entity\": \"Landslide\", \"Year\": 1941, \"Deaths\": 5000}, {\"Entity\": \"Landslide\", \"Year\": 1948, \"Deaths\": 525}, {\"Entity\": \"Landslide\", \"Year\": 1949, \"Deaths\": 12000}, {\"Entity\": \"Landslide\", \"Year\": 1950, \"Deaths\": 130}, {\"Entity\": \"Landslide\", \"Year\": 1951, \"Deaths\": 92}, {\"Entity\": \"Landslide\", \"Year\": 1952, \"Deaths\": 28}, {\"Entity\": \"Landslide\", \"Year\": 1954, \"Deaths\": 1086}, {\"Entity\": \"Landslide\", \"Year\": 1955, \"Deaths\": 478}, {\"Entity\": \"Landslide\", \"Year\": 1956, \"Deaths\": 236}, {\"Entity\": \"Landslide\", \"Year\": 1958, \"Deaths\": 52}, {\"Entity\": \"Landslide\", \"Year\": 1959, \"Deaths\": 48}, {\"Entity\": \"Mass movement (dry)\", \"Year\": 1903, \"Deaths\": 76}, {\"Entity\": \"Mass movement (dry)\", \"Year\": 1905, \"Deaths\": 18}, {\"Entity\": \"Mass movement (dry)\", \"Year\": 1908, \"Deaths\": 33}, {\"Entity\": \"Mass movement (dry)\", \"Year\": 1910, \"Deaths\": 62}, {\"Entity\": \"Mass movement (dry)\", \"Year\": 1915, \"Deaths\": 56}, {\"Entity\": \"Mass movement (dry)\", \"Year\": 1937, \"Deaths\": 40}, {\"Entity\": \"Mass movement (dry)\", \"Year\": 1955, \"Deaths\": 3}, {\"Entity\": \"Volcanic activity\", \"Year\": 1900, \"Deaths\": 30}, {\"Entity\": \"Volcanic activity\", \"Year\": 1902, \"Deaths\": 38690}, {\"Entity\": \"Volcanic activity\", \"Year\": 1903, \"Deaths\": 17}, {\"Entity\": \"Volcanic activity\", \"Year\": 1906, \"Deaths\": 700}, {\"Entity\": \"Volcanic activity\", \"Year\": 1909, \"Deaths\": 5500}, {\"Entity\": \"Volcanic activity\", \"Year\": 1911, \"Deaths\": 1335}, {\"Entity\": \"Volcanic activity\", \"Year\": 1914, \"Deaths\": 140}, {\"Entity\": \"Volcanic activity\", \"Year\": 1919, \"Deaths\": 5000}, {\"Entity\": \"Volcanic activity\", \"Year\": 1926, \"Deaths\": 144}, {\"Entity\": \"Volcanic activity\", \"Year\": 1929, \"Deaths\": 5000}, {\"Entity\": \"Volcanic activity\", \"Year\": 1930, \"Deaths\": 1369}, {\"Entity\": \"Volcanic activity\", \"Year\": 1931, \"Deaths\": 1300}, {\"Entity\": \"Volcanic activity\", \"Year\": 1937, \"Deaths\": 506}, {\"Entity\": \"Volcanic activity\", \"Year\": 1944, \"Deaths\": 26}, {\"Entity\": \"Volcanic activity\", \"Year\": 1948, \"Deaths\": 100}, {\"Entity\": \"Volcanic activity\", \"Year\": 1949, \"Deaths\": 2000}, {\"Entity\": \"Volcanic activity\", \"Year\": 1950, \"Deaths\": 84}, {\"Entity\": \"Volcanic activity\", \"Year\": 1951, \"Deaths\": 4800}, {\"Entity\": \"Volcanic activity\", \"Year\": 1952, \"Deaths\": 29}, {\"Entity\": \"Volcanic activity\", \"Year\": 1953, \"Deaths\": 150}, {\"Entity\": \"Volcanic activity\", \"Year\": 1954, \"Deaths\": 37}, {\"Entity\": \"Wildfire\", \"Year\": 1911, \"Deaths\": 73}, {\"Entity\": \"Wildfire\", \"Year\": 1918, \"Deaths\": 1000}, {\"Entity\": \"Wildfire\", \"Year\": 1922, \"Deaths\": 43}, {\"Entity\": \"Wildfire\", \"Year\": 1929, \"Deaths\": 60}, {\"Entity\": \"Wildfire\", \"Year\": 1939, \"Deaths\": 71}, {\"Entity\": \"Wildfire\", \"Year\": 1944, \"Deaths\": 170}, {\"Entity\": \"Wildfire\", \"Year\": 1949, \"Deaths\": 80}, {\"Entity\": \"Wildfire\", \"Year\": 1956, \"Deaths\": 11}]}};\n",
              "      var embedOpt = {\"mode\": \"vega-lite\"};\n",
              "\n",
              "      function showError(el, error){\n",
              "          el.innerHTML = ('<div class=\"error\" style=\"color:red;\">'\n",
              "                          + '<p>JavaScript Error: ' + error.message + '</p>'\n",
              "                          + \"<p>This usually means there's a typo in your chart specification. \"\n",
              "                          + \"See the javascript console for the full traceback.</p>\"\n",
              "                          + '</div>');\n",
              "          throw error;\n",
              "      }\n",
              "      const el = document.getElementById('altair-viz');\n",
              "      vegaEmbed(\"#altair-viz\", spec, embedOpt)\n",
              "        .catch(error => showError(el, error));\n",
              "\n",
              "  </script>\n",
              "</body>\n",
              "</html>"
            ]
          },
          "metadata": {
            "tags": []
          },
          "execution_count": 60
        }
      ]
    },
    {
      "metadata": {
        "id": "AYMdp2LQ2zcM",
        "colab_type": "code",
        "colab": {}
      },
      "cell_type": "code",
      "source": [
        "source = data.disasters.url\n",
        "df = pd.read_csv(source)\n",
        "df = df[df['Year'] > 1959]"
      ],
      "execution_count": 0,
      "outputs": []
    },
    {
      "metadata": {
        "id": "RHZrhk-a27xg",
        "colab_type": "code",
        "outputId": "51d4efd5-517f-494c-f2a6-bf752aa4217c",
        "colab": {
          "base_uri": "https://localhost:8080/",
          "height": 453
        }
      },
      "cell_type": "code",
      "source": [
        "alt.Chart(df).mark_circle(opacity=0.75,\n",
        "                              stroke='black',\n",
        "                              strokeWidth=1)\\\n",
        "                 .encode(alt.X('Year:O', axis=alt.Axis(labelAngle=0)),\n",
        "                         alt.Y('Entity:N'),\n",
        "                         alt.Size('Deaths:Q',\n",
        "                         scale=alt.Scale(range=[0, 5000]),\n",
        "                         legend=alt.Legend(title='Annual Global Deaths')),\n",
        "                         alt.Color('Entity:N', legend=None))\\\n",
        "                 .properties(width=480,\n",
        "                             height=350)\\\n",
        "                 .transform_filter(alt.datum.Entity != 'All natural disasters')"
      ],
      "execution_count": 0,
      "outputs": [
        {
          "output_type": "execute_result",
          "data": {
            "text/plain": [
              "Chart({\n",
              "  data:                     Entity  Year   Deaths\n",
              "  59   All natural disasters  1960    39188\n",
              "  60   All natural disasters  1961    17341\n",
              "  61   All natural disasters  1962    17370\n",
              "  62   All natural disasters  1963    37746\n",
              "  63   All natural disasters  1964    12892\n",
              "  64   All natural disasters  1965  1565517\n",
              "  65   All natural disasters  1966    17181\n",
              "  66   All natural disasters  1967    10103\n",
              "  67   All natural disasters  1968    21461\n",
              "  68   All natural disasters  1969    11687\n",
              "  69   All natural disasters  1970   387507\n",
              "  70   All natural disasters  1971    18086\n",
              "  71   All natural disasters  1972    20045\n",
              "  72   All natural disasters  1973   110555\n",
              "  73   All natural disasters  1974    87504\n",
              "  74   All natural disasters  1975    14858\n",
              "  75   All natural disasters  1976   280469\n",
              "  76   All natural disasters  1977    22406\n",
              "  77   All natural disasters  1978    38096\n",
              "  78   All natural disasters  1979     7341\n",
              "  79   All natural disasters  1980    23089\n",
              "  80   All natural disasters  1981   119697\n",
              "  81   All natural disasters  1982    13973\n",
              "  82   All natural disasters  1983   461561\n",
              "  83   All natural disasters  1984    16273\n",
              "  84   All natural disasters  1985    60232\n",
              "  85   All natural disasters  1986    10349\n",
              "  86   All natural disasters  1987    21533\n",
              "  87   All natural disasters  1988    57464\n",
              "  88   All natural disasters  1989    12611\n",
              "  ..                     ...   ...      ...\n",
              "  773               Wildfire  1986       20\n",
              "  774               Wildfire  1987      191\n",
              "  775               Wildfire  1989        1\n",
              "  776               Wildfire  1991       90\n",
              "  777               Wildfire  1992      122\n",
              "  778               Wildfire  1993        3\n",
              "  779               Wildfire  1994       84\n",
              "  780               Wildfire  1995       29\n",
              "  781               Wildfire  1996       45\n",
              "  782               Wildfire  1997      266\n",
              "  783               Wildfire  1998      150\n",
              "  784               Wildfire  1999       70\n",
              "  785               Wildfire  2000       47\n",
              "  786               Wildfire  2001       33\n",
              "  787               Wildfire  2002        6\n",
              "  788               Wildfire  2003       47\n",
              "  789               Wildfire  2004       14\n",
              "  790               Wildfire  2005       45\n",
              "  791               Wildfire  2006       13\n",
              "  792               Wildfire  2007      148\n",
              "  793               Wildfire  2008       86\n",
              "  794               Wildfire  2009      190\n",
              "  795               Wildfire  2010      166\n",
              "  796               Wildfire  2011       10\n",
              "  797               Wildfire  2012       21\n",
              "  798               Wildfire  2013       35\n",
              "  799               Wildfire  2014       16\n",
              "  800               Wildfire  2015       67\n",
              "  801               Wildfire  2016       39\n",
              "  802               Wildfire  2017       75\n",
              "  \n",
              "  [520 rows x 3 columns],\n",
              "  encoding: EncodingWithFacet({\n",
              "    color: Color({\n",
              "      legend: None,\n",
              "      shorthand: 'Entity:N'\n",
              "    }),\n",
              "    size: Size({\n",
              "      legend: Legend({\n",
              "        title: 'Annual Global Deaths'\n",
              "      }),\n",
              "      scale: Scale({\n",
              "        range: [0, 5000]\n",
              "      }),\n",
              "      shorthand: 'Deaths:Q'\n",
              "    }),\n",
              "    x: X({\n",
              "      axis: Axis({\n",
              "        labelAngle: 0\n",
              "      }),\n",
              "      shorthand: 'Year:O'\n",
              "    }),\n",
              "    y: Y({\n",
              "      shorthand: 'Entity:N'\n",
              "    })\n",
              "  }),\n",
              "  height: 350,\n",
              "  mark: MarkDef({\n",
              "    opacity: 0.75,\n",
              "    stroke: 'black',\n",
              "    strokeWidth: 1,\n",
              "    type: 'circle'\n",
              "  }),\n",
              "  transform: [FilterTransform({\n",
              "    filter: (datum.Entity !== 'All natural disasters')\n",
              "  })],\n",
              "  width: 480\n",
              "})"
            ],
            "text/html": [
              "<!DOCTYPE html>\n",
              "<html>\n",
              "<head>\n",
              "  <style>\n",
              "    .vega-actions a {\n",
              "        margin-right: 12px;\n",
              "        color: #757575;\n",
              "        font-weight: normal;\n",
              "        font-size: 13px;\n",
              "    }\n",
              "    .error {\n",
              "        color: red;\n",
              "    }\n",
              "  </style>\n",
              "  <script type=\"text/javascript\" src=\"https://cdn.jsdelivr.net/npm//vega@4\"></script>\n",
              "  <script type=\"text/javascript\" src=\"https://cdn.jsdelivr.net/npm//vega-lite@2.6.0\"></script>\n",
              "  <script type=\"text/javascript\" src=\"https://cdn.jsdelivr.net/npm//vega-embed@3\"></script>\n",
              "</head>\n",
              "<body>\n",
              "  <div id=\"altair-viz\"></div>\n",
              "  <script>\n",
              "      var spec = {\"config\": {\"view\": {\"width\": 400, \"height\": 300}}, \"data\": {\"name\": \"data-346e5e736a7fb4fe649a73628341d1af\"}, \"mark\": {\"type\": \"circle\", \"opacity\": 0.75, \"stroke\": \"black\", \"strokeWidth\": 1}, \"encoding\": {\"color\": {\"type\": \"nominal\", \"field\": \"Entity\", \"legend\": null}, \"size\": {\"type\": \"quantitative\", \"field\": \"Deaths\", \"legend\": {\"title\": \"Annual Global Deaths\"}, \"scale\": {\"range\": [0, 5000]}}, \"x\": {\"type\": \"ordinal\", \"axis\": {\"labelAngle\": 0}, \"field\": \"Year\"}, \"y\": {\"type\": \"nominal\", \"field\": \"Entity\"}}, \"height\": 350, \"transform\": [{\"filter\": \"(datum.Entity !== 'All natural disasters')\"}], \"width\": 480, \"$schema\": \"https://vega.github.io/schema/vega-lite/v2.6.0.json\", \"datasets\": {\"data-346e5e736a7fb4fe649a73628341d1af\": [{\"Entity\": \"All natural disasters\", \"Year\": 1960, \"Deaths\": 39188}, {\"Entity\": \"All natural disasters\", \"Year\": 1961, \"Deaths\": 17341}, {\"Entity\": \"All natural disasters\", \"Year\": 1962, \"Deaths\": 17370}, {\"Entity\": \"All natural disasters\", \"Year\": 1963, \"Deaths\": 37746}, {\"Entity\": \"All natural disasters\", \"Year\": 1964, \"Deaths\": 12892}, {\"Entity\": \"All natural disasters\", \"Year\": 1965, \"Deaths\": 1565517}, {\"Entity\": \"All natural disasters\", \"Year\": 1966, \"Deaths\": 17181}, {\"Entity\": \"All natural disasters\", \"Year\": 1967, \"Deaths\": 10103}, {\"Entity\": \"All natural disasters\", \"Year\": 1968, \"Deaths\": 21461}, {\"Entity\": \"All natural disasters\", \"Year\": 1969, \"Deaths\": 11687}, {\"Entity\": \"All natural disasters\", \"Year\": 1970, \"Deaths\": 387507}, {\"Entity\": \"All natural disasters\", \"Year\": 1971, \"Deaths\": 18086}, {\"Entity\": \"All natural disasters\", \"Year\": 1972, \"Deaths\": 20045}, {\"Entity\": \"All natural disasters\", \"Year\": 1973, \"Deaths\": 110555}, {\"Entity\": \"All natural disasters\", \"Year\": 1974, \"Deaths\": 87504}, {\"Entity\": \"All natural disasters\", \"Year\": 1975, \"Deaths\": 14858}, {\"Entity\": \"All natural disasters\", \"Year\": 1976, \"Deaths\": 280469}, {\"Entity\": \"All natural disasters\", \"Year\": 1977, \"Deaths\": 22406}, {\"Entity\": \"All natural disasters\", \"Year\": 1978, \"Deaths\": 38096}, {\"Entity\": \"All natural disasters\", \"Year\": 1979, \"Deaths\": 7341}, {\"Entity\": \"All natural disasters\", \"Year\": 1980, \"Deaths\": 23089}, {\"Entity\": \"All natural disasters\", \"Year\": 1981, \"Deaths\": 119697}, {\"Entity\": \"All natural disasters\", \"Year\": 1982, \"Deaths\": 13973}, {\"Entity\": \"All natural disasters\", \"Year\": 1983, \"Deaths\": 461561}, {\"Entity\": \"All natural disasters\", \"Year\": 1984, \"Deaths\": 16273}, {\"Entity\": \"All natural disasters\", \"Year\": 1985, \"Deaths\": 60232}, {\"Entity\": \"All natural disasters\", \"Year\": 1986, \"Deaths\": 10349}, {\"Entity\": \"All natural disasters\", \"Year\": 1987, \"Deaths\": 21533}, {\"Entity\": \"All natural disasters\", \"Year\": 1988, \"Deaths\": 57464}, {\"Entity\": \"All natural disasters\", \"Year\": 1989, \"Deaths\": 12611}, {\"Entity\": \"All natural disasters\", \"Year\": 1990, \"Deaths\": 53141}, {\"Entity\": \"All natural disasters\", \"Year\": 1991, \"Deaths\": 189707}, {\"Entity\": \"All natural disasters\", \"Year\": 1992, \"Deaths\": 18911}, {\"Entity\": \"All natural disasters\", \"Year\": 1993, \"Deaths\": 21821}, {\"Entity\": \"All natural disasters\", \"Year\": 1994, \"Deaths\": 15590}, {\"Entity\": \"All natural disasters\", \"Year\": 1995, \"Deaths\": 27166}, {\"Entity\": \"All natural disasters\", \"Year\": 1996, \"Deaths\": 31595}, {\"Entity\": \"All natural disasters\", \"Year\": 1997, \"Deaths\": 30124}, {\"Entity\": \"All natural disasters\", \"Year\": 1998, \"Deaths\": 62672}, {\"Entity\": \"All natural disasters\", \"Year\": 1999, \"Deaths\": 76886}, {\"Entity\": \"All natural disasters\", \"Year\": 2000, \"Deaths\": 16667}, {\"Entity\": \"All natural disasters\", \"Year\": 2001, \"Deaths\": 39493}, {\"Entity\": \"All natural disasters\", \"Year\": 2002, \"Deaths\": 21342}, {\"Entity\": \"All natural disasters\", \"Year\": 2003, \"Deaths\": 113558}, {\"Entity\": \"All natural disasters\", \"Year\": 2004, \"Deaths\": 244772}, {\"Entity\": \"All natural disasters\", \"Year\": 2005, \"Deaths\": 93566}, {\"Entity\": \"All natural disasters\", \"Year\": 2006, \"Deaths\": 29893}, {\"Entity\": \"All natural disasters\", \"Year\": 2007, \"Deaths\": 22422}, {\"Entity\": \"All natural disasters\", \"Year\": 2008, \"Deaths\": 242236}, {\"Entity\": \"All natural disasters\", \"Year\": 2009, \"Deaths\": 16037}, {\"Entity\": \"All natural disasters\", \"Year\": 2010, \"Deaths\": 329900}, {\"Entity\": \"All natural disasters\", \"Year\": 2011, \"Deaths\": 34143}, {\"Entity\": \"All natural disasters\", \"Year\": 2012, \"Deaths\": 11619}, {\"Entity\": \"All natural disasters\", \"Year\": 2013, \"Deaths\": 22225}, {\"Entity\": \"All natural disasters\", \"Year\": 2014, \"Deaths\": 20882}, {\"Entity\": \"All natural disasters\", \"Year\": 2015, \"Deaths\": 23893}, {\"Entity\": \"All natural disasters\", \"Year\": 2016, \"Deaths\": 10201}, {\"Entity\": \"All natural disasters\", \"Year\": 2017, \"Deaths\": 2087}, {\"Entity\": \"Drought\", \"Year\": 1964, \"Deaths\": 50}, {\"Entity\": \"Drought\", \"Year\": 1965, \"Deaths\": 1502000}, {\"Entity\": \"Drought\", \"Year\": 1966, \"Deaths\": 8000}, {\"Entity\": \"Drought\", \"Year\": 1967, \"Deaths\": 600}, {\"Entity\": \"Drought\", \"Year\": 1973, \"Deaths\": 100000}, {\"Entity\": \"Drought\", \"Year\": 1974, \"Deaths\": 19000}, {\"Entity\": \"Drought\", \"Year\": 1978, \"Deaths\": 63}, {\"Entity\": \"Drought\", \"Year\": 1979, \"Deaths\": 18}, {\"Entity\": \"Drought\", \"Year\": 1981, \"Deaths\": 103000}, {\"Entity\": \"Drought\", \"Year\": 1982, \"Deaths\": 280}, {\"Entity\": \"Drought\", \"Year\": 1983, \"Deaths\": 450520}, {\"Entity\": \"Drought\", \"Year\": 1984, \"Deaths\": 230}, {\"Entity\": \"Drought\", \"Year\": 1986, \"Deaths\": 84}, {\"Entity\": \"Drought\", \"Year\": 1987, \"Deaths\": 1317}, {\"Entity\": \"Drought\", \"Year\": 1988, \"Deaths\": 1600}, {\"Entity\": \"Drought\", \"Year\": 1989, \"Deaths\": 237}, {\"Entity\": \"Drought\", \"Year\": 1991, \"Deaths\": 2000}, {\"Entity\": \"Drought\", \"Year\": 1997, \"Deaths\": 732}, {\"Entity\": \"Drought\", \"Year\": 1998, \"Deaths\": 20}, {\"Entity\": \"Drought\", \"Year\": 1999, \"Deaths\": 361}, {\"Entity\": \"Drought\", \"Year\": 2000, \"Deaths\": 80}, {\"Entity\": \"Drought\", \"Year\": 2001, \"Deaths\": 99}, {\"Entity\": \"Drought\", \"Year\": 2002, \"Deaths\": 588}, {\"Entity\": \"Drought\", \"Year\": 2003, \"Deaths\": 9}, {\"Entity\": \"Drought\", \"Year\": 2004, \"Deaths\": 80}, {\"Entity\": \"Drought\", \"Year\": 2005, \"Deaths\": 149}, {\"Entity\": \"Drought\", \"Year\": 2006, \"Deaths\": 134}, {\"Entity\": \"Drought\", \"Year\": 2008, \"Deaths\": 8}, {\"Entity\": \"Drought\", \"Year\": 2010, \"Deaths\": 20000}, {\"Entity\": \"Drought\", \"Year\": 2015, \"Deaths\": 35}, {\"Entity\": \"Earthquake\", \"Year\": 1960, \"Deaths\": 19395}, {\"Entity\": \"Earthquake\", \"Year\": 1961, \"Deaths\": 60}, {\"Entity\": \"Earthquake\", \"Year\": 1962, \"Deaths\": 12209}, {\"Entity\": \"Earthquake\", \"Year\": 1963, \"Deaths\": 1700}, {\"Entity\": \"Earthquake\", \"Year\": 1964, \"Deaths\": 335}, {\"Entity\": \"Earthquake\", \"Year\": 1965, \"Deaths\": 683}, {\"Entity\": \"Earthquake\", \"Year\": 1966, \"Deaths\": 2752}, {\"Entity\": \"Earthquake\", \"Year\": 1967, \"Deaths\": 1013}, {\"Entity\": \"Earthquake\", \"Year\": 1968, \"Deaths\": 10858}, {\"Entity\": \"Earthquake\", \"Year\": 1969, \"Deaths\": 3353}, {\"Entity\": \"Earthquake\", \"Year\": 1970, \"Deaths\": 78599}, {\"Entity\": \"Earthquake\", \"Year\": 1971, \"Deaths\": 1107}, {\"Entity\": \"Earthquake\", \"Year\": 1972, \"Deaths\": 15170}, {\"Entity\": \"Earthquake\", \"Year\": 1973, \"Deaths\": 552}, {\"Entity\": \"Earthquake\", \"Year\": 1974, \"Deaths\": 24808}, {\"Entity\": \"Earthquake\", \"Year\": 1975, \"Deaths\": 12632}, {\"Entity\": \"Earthquake\", \"Year\": 1976, \"Deaths\": 276994}, {\"Entity\": \"Earthquake\", \"Year\": 1977, \"Deaths\": 3098}, {\"Entity\": \"Earthquake\", \"Year\": 1978, \"Deaths\": 25162}, {\"Entity\": \"Earthquake\", \"Year\": 1979, \"Deaths\": 2100}, {\"Entity\": \"Earthquake\", \"Year\": 1980, \"Deaths\": 7730}, {\"Entity\": \"Earthquake\", \"Year\": 1981, \"Deaths\": 4206}, {\"Entity\": \"Earthquake\", \"Year\": 1982, \"Deaths\": 2120}, {\"Entity\": \"Earthquake\", \"Year\": 1983, \"Deaths\": 2148}, {\"Entity\": \"Earthquake\", \"Year\": 1984, \"Deaths\": 57}, {\"Entity\": \"Earthquake\", \"Year\": 1985, \"Deaths\": 9853}, {\"Entity\": \"Earthquake\", \"Year\": 1986, \"Deaths\": 1181}, {\"Entity\": \"Earthquake\", \"Year\": 1987, \"Deaths\": 5160}, {\"Entity\": \"Earthquake\", \"Year\": 1988, \"Deaths\": 27049}, {\"Entity\": \"Earthquake\", \"Year\": 1989, \"Deaths\": 650}, {\"Entity\": \"Earthquake\", \"Year\": 1990, \"Deaths\": 42853}, {\"Entity\": \"Earthquake\", \"Year\": 1991, \"Deaths\": 2454}, {\"Entity\": \"Earthquake\", \"Year\": 1992, \"Deaths\": 4033}, {\"Entity\": \"Earthquake\", \"Year\": 1993, \"Deaths\": 10088}, {\"Entity\": \"Earthquake\", \"Year\": 1994, \"Deaths\": 1242}, {\"Entity\": \"Earthquake\", \"Year\": 1995, \"Deaths\": 7739}, {\"Entity\": \"Earthquake\", \"Year\": 1996, \"Deaths\": 576}, {\"Entity\": \"Earthquake\", \"Year\": 1997, \"Deaths\": 3159}, {\"Entity\": \"Earthquake\", \"Year\": 1998, \"Deaths\": 9573}, {\"Entity\": \"Earthquake\", \"Year\": 1999, \"Deaths\": 21869}, {\"Entity\": \"Earthquake\", \"Year\": 2000, \"Deaths\": 217}, {\"Entity\": \"Earthquake\", \"Year\": 2001, \"Deaths\": 21348}, {\"Entity\": \"Earthquake\", \"Year\": 2002, \"Deaths\": 1639}, {\"Entity\": \"Earthquake\", \"Year\": 2003, \"Deaths\": 29617}, {\"Entity\": \"Earthquake\", \"Year\": 2004, \"Deaths\": 227290}, {\"Entity\": \"Earthquake\", \"Year\": 2005, \"Deaths\": 76241}, {\"Entity\": \"Earthquake\", \"Year\": 2006, \"Deaths\": 6692}, {\"Entity\": \"Earthquake\", \"Year\": 2007, \"Deaths\": 780}, {\"Entity\": \"Earthquake\", \"Year\": 2008, \"Deaths\": 87918}, {\"Entity\": \"Earthquake\", \"Year\": 2009, \"Deaths\": 1893}, {\"Entity\": \"Earthquake\", \"Year\": 2010, \"Deaths\": 226733}, {\"Entity\": \"Earthquake\", \"Year\": 2011, \"Deaths\": 20946}, {\"Entity\": \"Earthquake\", \"Year\": 2012, \"Deaths\": 711}, {\"Entity\": \"Earthquake\", \"Year\": 2013, \"Deaths\": 1120}, {\"Entity\": \"Earthquake\", \"Year\": 2014, \"Deaths\": 774}, {\"Entity\": \"Earthquake\", \"Year\": 2015, \"Deaths\": 9550}, {\"Entity\": \"Earthquake\", \"Year\": 2016, \"Deaths\": 1311}, {\"Entity\": \"Earthquake\", \"Year\": 2017, \"Deaths\": 49}, {\"Entity\": \"Epidemic\", \"Year\": 1963, \"Deaths\": 1000}, {\"Entity\": \"Epidemic\", \"Year\": 1964, \"Deaths\": 617}, {\"Entity\": \"Epidemic\", \"Year\": 1965, \"Deaths\": 816}, {\"Entity\": \"Epidemic\", \"Year\": 1966, \"Deaths\": 200}, {\"Entity\": \"Epidemic\", \"Year\": 1967, \"Deaths\": 3137}, {\"Entity\": \"Epidemic\", \"Year\": 1968, \"Deaths\": 177}, {\"Entity\": \"Epidemic\", \"Year\": 1969, \"Deaths\": 3520}, {\"Entity\": \"Epidemic\", \"Year\": 1970, \"Deaths\": 939}, {\"Entity\": \"Epidemic\", \"Year\": 1971, \"Deaths\": 2313}, {\"Entity\": \"Epidemic\", \"Year\": 1972, \"Deaths\": 35}, {\"Entity\": \"Epidemic\", \"Year\": 1974, \"Deaths\": 1500}, {\"Entity\": \"Epidemic\", \"Year\": 1976, \"Deaths\": 396}, {\"Entity\": \"Epidemic\", \"Year\": 1977, \"Deaths\": 1184}, {\"Entity\": \"Epidemic\", \"Year\": 1978, \"Deaths\": 3060}, {\"Entity\": \"Epidemic\", \"Year\": 1979, \"Deaths\": 486}, {\"Entity\": \"Epidemic\", \"Year\": 1980, \"Deaths\": 1685}, {\"Entity\": \"Epidemic\", \"Year\": 1981, \"Deaths\": 2497}, {\"Entity\": \"Epidemic\", \"Year\": 1982, \"Deaths\": 2912}, {\"Entity\": \"Epidemic\", \"Year\": 1983, \"Deaths\": 1219}, {\"Entity\": \"Epidemic\", \"Year\": 1984, \"Deaths\": 7016}, {\"Entity\": \"Epidemic\", \"Year\": 1985, \"Deaths\": 5854}, {\"Entity\": \"Epidemic\", \"Year\": 1986, \"Deaths\": 3046}, {\"Entity\": \"Epidemic\", \"Year\": 1987, \"Deaths\": 2592}, {\"Entity\": \"Epidemic\", \"Year\": 1988, \"Deaths\": 15216}, {\"Entity\": \"Epidemic\", \"Year\": 1989, \"Deaths\": 1870}, {\"Entity\": \"Epidemic\", \"Year\": 1990, \"Deaths\": 2207}, {\"Entity\": \"Epidemic\", \"Year\": 1991, \"Deaths\": 30682}, {\"Entity\": \"Epidemic\", \"Year\": 1992, \"Deaths\": 6675}, {\"Entity\": \"Epidemic\", \"Year\": 1993, \"Deaths\": 651}, {\"Entity\": \"Epidemic\", \"Year\": 1994, \"Deaths\": 2505}, {\"Entity\": \"Epidemic\", \"Year\": 1995, \"Deaths\": 4428}, {\"Entity\": \"Epidemic\", \"Year\": 1996, \"Deaths\": 16887}, {\"Entity\": \"Epidemic\", \"Year\": 1997, \"Deaths\": 10674}, {\"Entity\": \"Epidemic\", \"Year\": 1998, \"Deaths\": 12931}, {\"Entity\": \"Epidemic\", \"Year\": 1999, \"Deaths\": 6293}, {\"Entity\": \"Epidemic\", \"Year\": 2000, \"Deaths\": 6980}, {\"Entity\": \"Epidemic\", \"Year\": 2001, \"Deaths\": 8515}, {\"Entity\": \"Epidemic\", \"Year\": 2002, \"Deaths\": 8762}, {\"Entity\": \"Epidemic\", \"Year\": 2003, \"Deaths\": 3522}, {\"Entity\": \"Epidemic\", \"Year\": 2004, \"Deaths\": 3245}, {\"Entity\": \"Epidemic\", \"Year\": 2005, \"Deaths\": 3909}, {\"Entity\": \"Epidemic\", \"Year\": 2006, \"Deaths\": 6402}, {\"Entity\": \"Epidemic\", \"Year\": 2007, \"Deaths\": 5484}, {\"Entity\": \"Epidemic\", \"Year\": 2008, \"Deaths\": 6904}, {\"Entity\": \"Epidemic\", \"Year\": 2009, \"Deaths\": 4895}, {\"Entity\": \"Epidemic\", \"Year\": 2010, \"Deaths\": 12143}, {\"Entity\": \"Epidemic\", \"Year\": 2011, \"Deaths\": 3174}, {\"Entity\": \"Epidemic\", \"Year\": 2012, \"Deaths\": 1887}, {\"Entity\": \"Epidemic\", \"Year\": 2013, \"Deaths\": 529}, {\"Entity\": \"Epidemic\", \"Year\": 2014, \"Deaths\": 12911}, {\"Entity\": \"Epidemic\", \"Year\": 2015, \"Deaths\": 1032}, {\"Entity\": \"Epidemic\", \"Year\": 2016, \"Deaths\": 1520}, {\"Entity\": \"Epidemic\", \"Year\": 2017, \"Deaths\": 386}, {\"Entity\": \"Extreme temperature\", \"Year\": 1961, \"Deaths\": 400}, {\"Entity\": \"Extreme temperature\", \"Year\": 1962, \"Deaths\": 50}, {\"Entity\": \"Extreme temperature\", \"Year\": 1963, \"Deaths\": 162}, {\"Entity\": \"Extreme temperature\", \"Year\": 1965, \"Deaths\": 100}, {\"Entity\": \"Extreme temperature\", \"Year\": 1966, \"Deaths\": 262}, {\"Entity\": \"Extreme temperature\", \"Year\": 1968, \"Deaths\": 153}, {\"Entity\": \"Extreme temperature\", \"Year\": 1971, \"Deaths\": 400}, {\"Entity\": \"Extreme temperature\", \"Year\": 1972, \"Deaths\": 110}, {\"Entity\": \"Extreme temperature\", \"Year\": 1973, \"Deaths\": 283}, {\"Entity\": \"Extreme temperature\", \"Year\": 1975, \"Deaths\": 140}, {\"Entity\": \"Extreme temperature\", \"Year\": 1978, \"Deaths\": 150}, {\"Entity\": \"Extreme temperature\", \"Year\": 1979, \"Deaths\": 470}, {\"Entity\": \"Extreme temperature\", \"Year\": 1980, \"Deaths\": 1389}, {\"Entity\": \"Extreme temperature\", \"Year\": 1981, \"Deaths\": 300}, {\"Entity\": \"Extreme temperature\", \"Year\": 1982, \"Deaths\": 400}, {\"Entity\": \"Extreme temperature\", \"Year\": 1983, \"Deaths\": 205}, {\"Entity\": \"Extreme temperature\", \"Year\": 1984, \"Deaths\": 290}, {\"Entity\": \"Extreme temperature\", \"Year\": 1985, \"Deaths\": 456}, {\"Entity\": \"Extreme temperature\", \"Year\": 1986, \"Deaths\": 50}, {\"Entity\": \"Extreme temperature\", \"Year\": 1987, \"Deaths\": 1220}, {\"Entity\": \"Extreme temperature\", \"Year\": 1988, \"Deaths\": 644}, {\"Entity\": \"Extreme temperature\", \"Year\": 1989, \"Deaths\": 381}, {\"Entity\": \"Extreme temperature\", \"Year\": 1990, \"Deaths\": 979}, {\"Entity\": \"Extreme temperature\", \"Year\": 1991, \"Deaths\": 835}, {\"Entity\": \"Extreme temperature\", \"Year\": 1992, \"Deaths\": 388}, {\"Entity\": \"Extreme temperature\", \"Year\": 1993, \"Deaths\": 106}, {\"Entity\": \"Extreme temperature\", \"Year\": 1994, \"Deaths\": 341}, {\"Entity\": \"Extreme temperature\", \"Year\": 1995, \"Deaths\": 1730}, {\"Entity\": \"Extreme temperature\", \"Year\": 1996, \"Deaths\": 300}, {\"Entity\": \"Extreme temperature\", \"Year\": 1997, \"Deaths\": 604}, {\"Entity\": \"Extreme temperature\", \"Year\": 1998, \"Deaths\": 3269}, {\"Entity\": \"Extreme temperature\", \"Year\": 1999, \"Deaths\": 771}, {\"Entity\": \"Extreme temperature\", \"Year\": 2000, \"Deaths\": 941}, {\"Entity\": \"Extreme temperature\", \"Year\": 2001, \"Deaths\": 1787}, {\"Entity\": \"Extreme temperature\", \"Year\": 2002, \"Deaths\": 3369}, {\"Entity\": \"Extreme temperature\", \"Year\": 2003, \"Deaths\": 74698}, {\"Entity\": \"Extreme temperature\", \"Year\": 2004, \"Deaths\": 255}, {\"Entity\": \"Extreme temperature\", \"Year\": 2005, \"Deaths\": 1550}, {\"Entity\": \"Extreme temperature\", \"Year\": 2006, \"Deaths\": 4826}, {\"Entity\": \"Extreme temperature\", \"Year\": 2007, \"Deaths\": 1086}, {\"Entity\": \"Extreme temperature\", \"Year\": 2008, \"Deaths\": 1688}, {\"Entity\": \"Extreme temperature\", \"Year\": 2009, \"Deaths\": 1386}, {\"Entity\": \"Extreme temperature\", \"Year\": 2010, \"Deaths\": 57188}, {\"Entity\": \"Extreme temperature\", \"Year\": 2011, \"Deaths\": 435}, {\"Entity\": \"Extreme temperature\", \"Year\": 2012, \"Deaths\": 1834}, {\"Entity\": \"Extreme temperature\", \"Year\": 2013, \"Deaths\": 1821}, {\"Entity\": \"Extreme temperature\", \"Year\": 2014, \"Deaths\": 1168}, {\"Entity\": \"Extreme temperature\", \"Year\": 2015, \"Deaths\": 7425}, {\"Entity\": \"Extreme temperature\", \"Year\": 2016, \"Deaths\": 490}, {\"Entity\": \"Extreme temperature\", \"Year\": 2017, \"Deaths\": 130}, {\"Entity\": \"Extreme weather\", \"Year\": 1960, \"Deaths\": 9164}, {\"Entity\": \"Extreme weather\", \"Year\": 1961, \"Deaths\": 12852}, {\"Entity\": \"Extreme weather\", \"Year\": 1962, \"Deaths\": 1860}, {\"Entity\": \"Extreme weather\", \"Year\": 1963, \"Deaths\": 29965}, {\"Entity\": \"Extreme weather\", \"Year\": 1964, \"Deaths\": 10655}, {\"Entity\": \"Extreme weather\", \"Year\": 1965, \"Deaths\": 59932}, {\"Entity\": \"Extreme weather\", \"Year\": 1966, \"Deaths\": 2327}, {\"Entity\": \"Extreme weather\", \"Year\": 1967, \"Deaths\": 2255}, {\"Entity\": \"Extreme weather\", \"Year\": 1968, \"Deaths\": 1669}, {\"Entity\": \"Extreme weather\", \"Year\": 1969, \"Deaths\": 3252}, {\"Entity\": \"Extreme weather\", \"Year\": 1970, \"Deaths\": 304495}, {\"Entity\": \"Extreme weather\", \"Year\": 1971, \"Deaths\": 10811}, {\"Entity\": \"Extreme weather\", \"Year\": 1972, \"Deaths\": 1427}, {\"Entity\": \"Extreme weather\", \"Year\": 1973, \"Deaths\": 4344}, {\"Entity\": \"Extreme weather\", \"Year\": 1974, \"Deaths\": 11861}, {\"Entity\": \"Extreme weather\", \"Year\": 1975, \"Deaths\": 1041}, {\"Entity\": \"Extreme weather\", \"Year\": 1976, \"Deaths\": 1763}, {\"Entity\": \"Extreme weather\", \"Year\": 1977, \"Deaths\": 15298}, {\"Entity\": \"Extreme weather\", \"Year\": 1978, \"Deaths\": 3676}, {\"Entity\": \"Extreme weather\", \"Year\": 1979, \"Deaths\": 2623}, {\"Entity\": \"Extreme weather\", \"Year\": 1980, \"Deaths\": 1379}, {\"Entity\": \"Extreme weather\", \"Year\": 1981, \"Deaths\": 3790}, {\"Entity\": \"Extreme weather\", \"Year\": 1982, \"Deaths\": 2782}, {\"Entity\": \"Extreme weather\", \"Year\": 1983, \"Deaths\": 3656}, {\"Entity\": \"Extreme weather\", \"Year\": 1984, \"Deaths\": 5468}, {\"Entity\": \"Extreme weather\", \"Year\": 1985, \"Deaths\": 17165}, {\"Entity\": \"Extreme weather\", \"Year\": 1986, \"Deaths\": 1939}, {\"Entity\": \"Extreme weather\", \"Year\": 1987, \"Deaths\": 2900}, {\"Entity\": \"Extreme weather\", \"Year\": 1988, \"Deaths\": 3335}, {\"Entity\": \"Extreme weather\", \"Year\": 1989, \"Deaths\": 4256}, {\"Entity\": \"Extreme weather\", \"Year\": 1990, \"Deaths\": 4604}, {\"Entity\": \"Extreme weather\", \"Year\": 1991, \"Deaths\": 146297}, {\"Entity\": \"Extreme weather\", \"Year\": 1992, \"Deaths\": 1342}, {\"Entity\": \"Extreme weather\", \"Year\": 1993, \"Deaths\": 2965}, {\"Entity\": \"Extreme weather\", \"Year\": 1994, \"Deaths\": 4239}, {\"Entity\": \"Extreme weather\", \"Year\": 1995, \"Deaths\": 3763}, {\"Entity\": \"Extreme weather\", \"Year\": 1996, \"Deaths\": 4581}, {\"Entity\": \"Extreme weather\", \"Year\": 1997, \"Deaths\": 6150}, {\"Entity\": \"Extreme weather\", \"Year\": 1998, \"Deaths\": 24935}, {\"Entity\": \"Extreme weather\", \"Year\": 1999, \"Deaths\": 12270}, {\"Entity\": \"Extreme weather\", \"Year\": 2000, \"Deaths\": 1354}, {\"Entity\": \"Extreme weather\", \"Year\": 2001, \"Deaths\": 1911}, {\"Entity\": \"Extreme weather\", \"Year\": 2002, \"Deaths\": 1382}, {\"Entity\": \"Extreme weather\", \"Year\": 2003, \"Deaths\": 1049}, {\"Entity\": \"Extreme weather\", \"Year\": 2004, \"Deaths\": 6547}, {\"Entity\": \"Extreme weather\", \"Year\": 2005, \"Deaths\": 5251}, {\"Entity\": \"Extreme weather\", \"Year\": 2006, \"Deaths\": 4329}, {\"Entity\": \"Extreme weather\", \"Year\": 2007, \"Deaths\": 6035}, {\"Entity\": \"Extreme weather\", \"Year\": 2008, \"Deaths\": 140985}, {\"Entity\": \"Extreme weather\", \"Year\": 2009, \"Deaths\": 3287}, {\"Entity\": \"Extreme weather\", \"Year\": 2010, \"Deaths\": 1564}, {\"Entity\": \"Extreme weather\", \"Year\": 2011, \"Deaths\": 3103}, {\"Entity\": \"Extreme weather\", \"Year\": 2012, \"Deaths\": 3105}, {\"Entity\": \"Extreme weather\", \"Year\": 2013, \"Deaths\": 8603}, {\"Entity\": \"Extreme weather\", \"Year\": 2014, \"Deaths\": 1424}, {\"Entity\": \"Extreme weather\", \"Year\": 2015, \"Deaths\": 1270}, {\"Entity\": \"Extreme weather\", \"Year\": 2016, \"Deaths\": 1760}, {\"Entity\": \"Extreme weather\", \"Year\": 2017, \"Deaths\": 394}, {\"Entity\": \"Flood\", \"Year\": 1960, \"Deaths\": 10577}, {\"Entity\": \"Flood\", \"Year\": 1961, \"Deaths\": 3863}, {\"Entity\": \"Flood\", \"Year\": 1962, \"Deaths\": 1180}, {\"Entity\": \"Flood\", \"Year\": 1963, \"Deaths\": 1031}, {\"Entity\": \"Flood\", \"Year\": 1964, \"Deaths\": 1123}, {\"Entity\": \"Flood\", \"Year\": 1965, \"Deaths\": 1401}, {\"Entity\": \"Flood\", \"Year\": 1966, \"Deaths\": 1923}, {\"Entity\": \"Flood\", \"Year\": 1967, \"Deaths\": 2446}, {\"Entity\": \"Flood\", \"Year\": 1968, \"Deaths\": 7306}, {\"Entity\": \"Flood\", \"Year\": 1969, \"Deaths\": 1544}, {\"Entity\": \"Flood\", \"Year\": 1970, \"Deaths\": 3246}, {\"Entity\": \"Flood\", \"Year\": 1971, \"Deaths\": 2404}, {\"Entity\": \"Flood\", \"Year\": 1972, \"Deaths\": 2548}, {\"Entity\": \"Flood\", \"Year\": 1973, \"Deaths\": 1835}, {\"Entity\": \"Flood\", \"Year\": 1974, \"Deaths\": 29431}, {\"Entity\": \"Flood\", \"Year\": 1975, \"Deaths\": 848}, {\"Entity\": \"Flood\", \"Year\": 1976, \"Deaths\": 960}, {\"Entity\": \"Flood\", \"Year\": 1977, \"Deaths\": 2568}, {\"Entity\": \"Flood\", \"Year\": 1978, \"Deaths\": 5897}, {\"Entity\": \"Flood\", \"Year\": 1979, \"Deaths\": 1038}, {\"Entity\": \"Flood\", \"Year\": 1980, \"Deaths\": 10466}, {\"Entity\": \"Flood\", \"Year\": 1981, \"Deaths\": 5283}, {\"Entity\": \"Flood\", \"Year\": 1982, \"Deaths\": 4648}, {\"Entity\": \"Flood\", \"Year\": 1983, \"Deaths\": 2082}, {\"Entity\": \"Flood\", \"Year\": 1984, \"Deaths\": 2930}, {\"Entity\": \"Flood\", \"Year\": 1985, \"Deaths\": 4376}, {\"Entity\": \"Flood\", \"Year\": 1986, \"Deaths\": 1782}, {\"Entity\": \"Flood\", \"Year\": 1987, \"Deaths\": 6766}, {\"Entity\": \"Flood\", \"Year\": 1988, \"Deaths\": 8504}, {\"Entity\": \"Flood\", \"Year\": 1989, \"Deaths\": 4716}, {\"Entity\": \"Flood\", \"Year\": 1990, \"Deaths\": 2251}, {\"Entity\": \"Flood\", \"Year\": 1991, \"Deaths\": 5852}, {\"Entity\": \"Flood\", \"Year\": 1992, \"Deaths\": 5315}, {\"Entity\": \"Flood\", \"Year\": 1993, \"Deaths\": 6150}, {\"Entity\": \"Flood\", \"Year\": 1994, \"Deaths\": 6771}, {\"Entity\": \"Flood\", \"Year\": 1995, \"Deaths\": 7956}, {\"Entity\": \"Flood\", \"Year\": 1996, \"Deaths\": 8047}, {\"Entity\": \"Flood\", \"Year\": 1997, \"Deaths\": 7685}, {\"Entity\": \"Flood\", \"Year\": 1998, \"Deaths\": 10653}, {\"Entity\": \"Flood\", \"Year\": 1999, \"Deaths\": 34807}, {\"Entity\": \"Flood\", \"Year\": 2000, \"Deaths\": 6025}, {\"Entity\": \"Flood\", \"Year\": 2001, \"Deaths\": 5014}, {\"Entity\": \"Flood\", \"Year\": 2002, \"Deaths\": 4236}, {\"Entity\": \"Flood\", \"Year\": 2003, \"Deaths\": 3910}, {\"Entity\": \"Flood\", \"Year\": 2004, \"Deaths\": 6982}, {\"Entity\": \"Flood\", \"Year\": 2005, \"Deaths\": 5754}, {\"Entity\": \"Flood\", \"Year\": 2006, \"Deaths\": 5843}, {\"Entity\": \"Flood\", \"Year\": 2007, \"Deaths\": 8607}, {\"Entity\": \"Flood\", \"Year\": 2008, \"Deaths\": 4007}, {\"Entity\": \"Flood\", \"Year\": 2009, \"Deaths\": 3627}, {\"Entity\": \"Flood\", \"Year\": 2010, \"Deaths\": 8356}, {\"Entity\": \"Flood\", \"Year\": 2011, \"Deaths\": 6163}, {\"Entity\": \"Flood\", \"Year\": 2012, \"Deaths\": 3544}, {\"Entity\": \"Flood\", \"Year\": 2013, \"Deaths\": 9836}, {\"Entity\": \"Flood\", \"Year\": 2014, \"Deaths\": 3532}, {\"Entity\": \"Flood\", \"Year\": 2015, \"Deaths\": 3495}, {\"Entity\": \"Flood\", \"Year\": 2016, \"Deaths\": 4720}, {\"Entity\": \"Flood\", \"Year\": 2017, \"Deaths\": 648}, {\"Entity\": \"Landslide\", \"Year\": 1960, \"Deaths\": 52}, {\"Entity\": \"Landslide\", \"Year\": 1961, \"Deaths\": 166}, {\"Entity\": \"Landslide\", \"Year\": 1962, \"Deaths\": 71}, {\"Entity\": \"Landslide\", \"Year\": 1963, \"Deaths\": 2033}, {\"Entity\": \"Landslide\", \"Year\": 1964, \"Deaths\": 108}, {\"Entity\": \"Landslide\", \"Year\": 1965, \"Deaths\": 204}, {\"Entity\": \"Landslide\", \"Year\": 1966, \"Deaths\": 604}, {\"Entity\": \"Landslide\", \"Year\": 1967, \"Deaths\": 590}, {\"Entity\": \"Landslide\", \"Year\": 1968, \"Deaths\": 1196}, {\"Entity\": \"Landslide\", \"Year\": 1969, \"Deaths\": 18}, {\"Entity\": \"Landslide\", \"Year\": 1970, \"Deaths\": 186}, {\"Entity\": \"Landslide\", \"Year\": 1971, \"Deaths\": 1020}, {\"Entity\": \"Landslide\", \"Year\": 1972, \"Deaths\": 755}, {\"Entity\": \"Landslide\", \"Year\": 1973, \"Deaths\": 3541}, {\"Entity\": \"Landslide\", \"Year\": 1974, \"Deaths\": 904}, {\"Entity\": \"Landslide\", \"Year\": 1975, \"Deaths\": 195}, {\"Entity\": \"Landslide\", \"Year\": 1976, \"Deaths\": 315}, {\"Entity\": \"Landslide\", \"Year\": 1977, \"Deaths\": 40}, {\"Entity\": \"Landslide\", \"Year\": 1978, \"Deaths\": 86}, {\"Entity\": \"Landslide\", \"Year\": 1979, \"Deaths\": 338}, {\"Entity\": \"Landslide\", \"Year\": 1980, \"Deaths\": 300}, {\"Entity\": \"Landslide\", \"Year\": 1981, \"Deaths\": 421}, {\"Entity\": \"Landslide\", \"Year\": 1982, \"Deaths\": 640}, {\"Entity\": \"Landslide\", \"Year\": 1983, \"Deaths\": 1159}, {\"Entity\": \"Landslide\", \"Year\": 1984, \"Deaths\": 228}, {\"Entity\": \"Landslide\", \"Year\": 1985, \"Deaths\": 377}, {\"Entity\": \"Landslide\", \"Year\": 1986, \"Deaths\": 501}, {\"Entity\": \"Landslide\", \"Year\": 1987, \"Deaths\": 1204}, {\"Entity\": \"Landslide\", \"Year\": 1988, \"Deaths\": 952}, {\"Entity\": \"Landslide\", \"Year\": 1989, \"Deaths\": 445}, {\"Entity\": \"Landslide\", \"Year\": 1990, \"Deaths\": 98}, {\"Entity\": \"Landslide\", \"Year\": 1991, \"Deaths\": 728}, {\"Entity\": \"Landslide\", \"Year\": 1992, \"Deaths\": 712}, {\"Entity\": \"Landslide\", \"Year\": 1993, \"Deaths\": 1418}, {\"Entity\": \"Landslide\", \"Year\": 1994, \"Deaths\": 307}, {\"Entity\": \"Landslide\", \"Year\": 1995, \"Deaths\": 1521}, {\"Entity\": \"Landslide\", \"Year\": 1996, \"Deaths\": 1155}, {\"Entity\": \"Landslide\", \"Year\": 1997, \"Deaths\": 801}, {\"Entity\": \"Landslide\", \"Year\": 1998, \"Deaths\": 1141}, {\"Entity\": \"Landslide\", \"Year\": 1999, \"Deaths\": 445}, {\"Entity\": \"Landslide\", \"Year\": 2000, \"Deaths\": 1012}, {\"Entity\": \"Landslide\", \"Year\": 2001, \"Deaths\": 786}, {\"Entity\": \"Landslide\", \"Year\": 2002, \"Deaths\": 1100}, {\"Entity\": \"Landslide\", \"Year\": 2003, \"Deaths\": 706}, {\"Entity\": \"Landslide\", \"Year\": 2004, \"Deaths\": 313}, {\"Entity\": \"Landslide\", \"Year\": 2005, \"Deaths\": 664}, {\"Entity\": \"Landslide\", \"Year\": 2006, \"Deaths\": 1638}, {\"Entity\": \"Landslide\", \"Year\": 2007, \"Deaths\": 271}, {\"Entity\": \"Landslide\", \"Year\": 2008, \"Deaths\": 504}, {\"Entity\": \"Landslide\", \"Year\": 2009, \"Deaths\": 723}, {\"Entity\": \"Landslide\", \"Year\": 2010, \"Deaths\": 3427}, {\"Entity\": \"Landslide\", \"Year\": 2011, \"Deaths\": 309}, {\"Entity\": \"Landslide\", \"Year\": 2012, \"Deaths\": 501}, {\"Entity\": \"Landslide\", \"Year\": 2013, \"Deaths\": 235}, {\"Entity\": \"Landslide\", \"Year\": 2014, \"Deaths\": 943}, {\"Entity\": \"Landslide\", \"Year\": 2015, \"Deaths\": 1006}, {\"Entity\": \"Landslide\", \"Year\": 2016, \"Deaths\": 361}, {\"Entity\": \"Landslide\", \"Year\": 2017, \"Deaths\": 405}, {\"Entity\": \"Mass movement (dry)\", \"Year\": 1962, \"Deaths\": 2000}, {\"Entity\": \"Mass movement (dry)\", \"Year\": 1963, \"Deaths\": 150}, {\"Entity\": \"Mass movement (dry)\", \"Year\": 1965, \"Deaths\": 26}, {\"Entity\": \"Mass movement (dry)\", \"Year\": 1970, \"Deaths\": 42}, {\"Entity\": \"Mass movement (dry)\", \"Year\": 1971, \"Deaths\": 31}, {\"Entity\": \"Mass movement (dry)\", \"Year\": 1980, \"Deaths\": 50}, {\"Entity\": \"Mass movement (dry)\", \"Year\": 1982, \"Deaths\": 59}, {\"Entity\": \"Mass movement (dry)\", \"Year\": 1983, \"Deaths\": 466}, {\"Entity\": \"Mass movement (dry)\", \"Year\": 1985, \"Deaths\": 300}, {\"Entity\": \"Mass movement (dry)\", \"Year\": 1987, \"Deaths\": 183}, {\"Entity\": \"Mass movement (dry)\", \"Year\": 1988, \"Deaths\": 157}, {\"Entity\": \"Mass movement (dry)\", \"Year\": 1989, \"Deaths\": 55}, {\"Entity\": \"Mass movement (dry)\", \"Year\": 1990, \"Deaths\": 116}, {\"Entity\": \"Mass movement (dry)\", \"Year\": 1991, \"Deaths\": 86}, {\"Entity\": \"Mass movement (dry)\", \"Year\": 1992, \"Deaths\": 323}, {\"Entity\": \"Mass movement (dry)\", \"Year\": 1993, \"Deaths\": 341}, {\"Entity\": \"Mass movement (dry)\", \"Year\": 2000, \"Deaths\": 11}, {\"Entity\": \"Mass movement (dry)\", \"Year\": 2002, \"Deaths\": 60}, {\"Entity\": \"Mass movement (dry)\", \"Year\": 2004, \"Deaths\": 44}, {\"Entity\": \"Mass movement (dry)\", \"Year\": 2006, \"Deaths\": 11}, {\"Entity\": \"Mass movement (dry)\", \"Year\": 2008, \"Deaths\": 120}, {\"Entity\": \"Mass movement (dry)\", \"Year\": 2009, \"Deaths\": 36}, {\"Entity\": \"Mass movement (dry)\", \"Year\": 2012, \"Deaths\": 16}, {\"Entity\": \"Mass movement (dry)\", \"Year\": 2013, \"Deaths\": 46}, {\"Entity\": \"Mass movement (dry)\", \"Year\": 2015, \"Deaths\": 13}, {\"Entity\": \"Volcanic activity\", \"Year\": 1963, \"Deaths\": 1705}, {\"Entity\": \"Volcanic activity\", \"Year\": 1964, \"Deaths\": 4}, {\"Entity\": \"Volcanic activity\", \"Year\": 1965, \"Deaths\": 355}, {\"Entity\": \"Volcanic activity\", \"Year\": 1966, \"Deaths\": 1088}, {\"Entity\": \"Volcanic activity\", \"Year\": 1968, \"Deaths\": 90}, {\"Entity\": \"Volcanic activity\", \"Year\": 1975, \"Deaths\": 2}, {\"Entity\": \"Volcanic activity\", \"Year\": 1976, \"Deaths\": 41}, {\"Entity\": \"Volcanic activity\", \"Year\": 1977, \"Deaths\": 215}, {\"Entity\": \"Volcanic activity\", \"Year\": 1979, \"Deaths\": 268}, {\"Entity\": \"Volcanic activity\", \"Year\": 1980, \"Deaths\": 90}, {\"Entity\": \"Volcanic activity\", \"Year\": 1981, \"Deaths\": 192}, {\"Entity\": \"Volcanic activity\", \"Year\": 1982, \"Deaths\": 130}, {\"Entity\": \"Volcanic activity\", \"Year\": 1984, \"Deaths\": 37}, {\"Entity\": \"Volcanic activity\", \"Year\": 1985, \"Deaths\": 21800}, {\"Entity\": \"Volcanic activity\", \"Year\": 1986, \"Deaths\": 1746}, {\"Entity\": \"Volcanic activity\", \"Year\": 1988, \"Deaths\": 7}, {\"Entity\": \"Volcanic activity\", \"Year\": 1990, \"Deaths\": 33}, {\"Entity\": \"Volcanic activity\", \"Year\": 1991, \"Deaths\": 683}, {\"Entity\": \"Volcanic activity\", \"Year\": 1992, \"Deaths\": 1}, {\"Entity\": \"Volcanic activity\", \"Year\": 1993, \"Deaths\": 99}, {\"Entity\": \"Volcanic activity\", \"Year\": 1994, \"Deaths\": 101}, {\"Entity\": \"Volcanic activity\", \"Year\": 1996, \"Deaths\": 4}, {\"Entity\": \"Volcanic activity\", \"Year\": 1997, \"Deaths\": 53}, {\"Entity\": \"Volcanic activity\", \"Year\": 2002, \"Deaths\": 200}, {\"Entity\": \"Volcanic activity\", \"Year\": 2004, \"Deaths\": 2}, {\"Entity\": \"Volcanic activity\", \"Year\": 2005, \"Deaths\": 3}, {\"Entity\": \"Volcanic activity\", \"Year\": 2006, \"Deaths\": 5}, {\"Entity\": \"Volcanic activity\", \"Year\": 2007, \"Deaths\": 11}, {\"Entity\": \"Volcanic activity\", \"Year\": 2008, \"Deaths\": 16}, {\"Entity\": \"Volcanic activity\", \"Year\": 2010, \"Deaths\": 323}, {\"Entity\": \"Volcanic activity\", \"Year\": 2011, \"Deaths\": 3}, {\"Entity\": \"Volcanic activity\", \"Year\": 2014, \"Deaths\": 102}, {\"Entity\": \"Wildfire\", \"Year\": 1966, \"Deaths\": 25}, {\"Entity\": \"Wildfire\", \"Year\": 1967, \"Deaths\": 62}, {\"Entity\": \"Wildfire\", \"Year\": 1968, \"Deaths\": 12}, {\"Entity\": \"Wildfire\", \"Year\": 1977, \"Deaths\": 3}, {\"Entity\": \"Wildfire\", \"Year\": 1978, \"Deaths\": 2}, {\"Entity\": \"Wildfire\", \"Year\": 1981, \"Deaths\": 8}, {\"Entity\": \"Wildfire\", \"Year\": 1982, \"Deaths\": 2}, {\"Entity\": \"Wildfire\", \"Year\": 1983, \"Deaths\": 106}, {\"Entity\": \"Wildfire\", \"Year\": 1984, \"Deaths\": 17}, {\"Entity\": \"Wildfire\", \"Year\": 1985, \"Deaths\": 51}, {\"Entity\": \"Wildfire\", \"Year\": 1986, \"Deaths\": 20}, {\"Entity\": \"Wildfire\", \"Year\": 1987, \"Deaths\": 191}, {\"Entity\": \"Wildfire\", \"Year\": 1989, \"Deaths\": 1}, {\"Entity\": \"Wildfire\", \"Year\": 1991, \"Deaths\": 90}, {\"Entity\": \"Wildfire\", \"Year\": 1992, \"Deaths\": 122}, {\"Entity\": \"Wildfire\", \"Year\": 1993, \"Deaths\": 3}, {\"Entity\": \"Wildfire\", \"Year\": 1994, \"Deaths\": 84}, {\"Entity\": \"Wildfire\", \"Year\": 1995, \"Deaths\": 29}, {\"Entity\": \"Wildfire\", \"Year\": 1996, \"Deaths\": 45}, {\"Entity\": \"Wildfire\", \"Year\": 1997, \"Deaths\": 266}, {\"Entity\": \"Wildfire\", \"Year\": 1998, \"Deaths\": 150}, {\"Entity\": \"Wildfire\", \"Year\": 1999, \"Deaths\": 70}, {\"Entity\": \"Wildfire\", \"Year\": 2000, \"Deaths\": 47}, {\"Entity\": \"Wildfire\", \"Year\": 2001, \"Deaths\": 33}, {\"Entity\": \"Wildfire\", \"Year\": 2002, \"Deaths\": 6}, {\"Entity\": \"Wildfire\", \"Year\": 2003, \"Deaths\": 47}, {\"Entity\": \"Wildfire\", \"Year\": 2004, \"Deaths\": 14}, {\"Entity\": \"Wildfire\", \"Year\": 2005, \"Deaths\": 45}, {\"Entity\": \"Wildfire\", \"Year\": 2006, \"Deaths\": 13}, {\"Entity\": \"Wildfire\", \"Year\": 2007, \"Deaths\": 148}, {\"Entity\": \"Wildfire\", \"Year\": 2008, \"Deaths\": 86}, {\"Entity\": \"Wildfire\", \"Year\": 2009, \"Deaths\": 190}, {\"Entity\": \"Wildfire\", \"Year\": 2010, \"Deaths\": 166}, {\"Entity\": \"Wildfire\", \"Year\": 2011, \"Deaths\": 10}, {\"Entity\": \"Wildfire\", \"Year\": 2012, \"Deaths\": 21}, {\"Entity\": \"Wildfire\", \"Year\": 2013, \"Deaths\": 35}, {\"Entity\": \"Wildfire\", \"Year\": 2014, \"Deaths\": 16}, {\"Entity\": \"Wildfire\", \"Year\": 2015, \"Deaths\": 67}, {\"Entity\": \"Wildfire\", \"Year\": 2016, \"Deaths\": 39}, {\"Entity\": \"Wildfire\", \"Year\": 2017, \"Deaths\": 75}]}};\n",
              "      var embedOpt = {\"mode\": \"vega-lite\"};\n",
              "\n",
              "      function showError(el, error){\n",
              "          el.innerHTML = ('<div class=\"error\" style=\"color:red;\">'\n",
              "                          + '<p>JavaScript Error: ' + error.message + '</p>'\n",
              "                          + \"<p>This usually means there's a typo in your chart specification. \"\n",
              "                          + \"See the javascript console for the full traceback.</p>\"\n",
              "                          + '</div>');\n",
              "          throw error;\n",
              "      }\n",
              "      const el = document.getElementById('altair-viz');\n",
              "      vegaEmbed(\"#altair-viz\", spec, embedOpt)\n",
              "        .catch(error => showError(el, error));\n",
              "\n",
              "  </script>\n",
              "</body>\n",
              "</html>"
            ]
          },
          "metadata": {
            "tags": []
          },
          "execution_count": 62
        }
      ]
    }
  ]
}
