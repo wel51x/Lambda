{
  "nbformat": 4,
  "nbformat_minor": 0,
  "metadata": {
    "colab": {
      "name": "My DS_Unit_2_Sprint_Challenge_3.ipynb",
      "version": "0.3.2",
      "provenance": [],
      "collapsed_sections": [],
      "include_colab_link": true
    },
    "kernelspec": {
      "name": "python3",
      "display_name": "Python 3"
    }
  },
  "cells": [
    {
      "cell_type": "markdown",
      "metadata": {
        "id": "view-in-github",
        "colab_type": "text"
      },
      "source": [
        "<a href=\"https://colab.research.google.com/github/wel51x/DS-Unit-2-Sprint-3-Advanced-Regression/blob/master/DS_Unit_2_Sprint_3_Challenge.ipynb\" target=\"_parent\"><img src=\"https://colab.research.google.com/assets/colab-badge.svg\" alt=\"Open In Colab\"/></a>"
      ]
    },
    {
      "metadata": {
        "id": "JeN7nl55RUYx",
        "colab_type": "text"
      },
      "cell_type": "markdown",
      "source": [
        "# Data Science Unit 2 Sprint Challenge 3\n",
        "\n",
        "## Logistic Regression and Beyond\n",
        "\n",
        "In this sprint challenge you will fit a logistic regression modeling the probability of an adult having an income above 50K. The dataset is available at UCI:\n",
        "\n",
        "https://archive.ics.uci.edu/ml/datasets/adult\n",
        "\n",
        "Your goal is to:\n",
        "\n",
        "1. Load, validate, and clean/prepare the data.\n",
        "2. Fit a logistic regression model\n",
        "3. Answer questions based on the results (as well as a few extra questions about the other modules)\n",
        "\n",
        "Don't let the perfect be the enemy of the good! Manage your time, and make sure to get to all parts. If you get stuck wrestling with the data, simplify it (if necessary, drop features or rows) so you're able to move on. If you have time at the end, you can go back and try to fix/improve.\n",
        "\n",
        "### Hints\n",
        "\n",
        "It has a variety of features - some are continuous, but many are categorical. You may find [pandas.get_dummies](https://pandas.pydata.org/pandas-docs/stable/generated/pandas.get_dummies.html) (a method to one-hot encode) helpful!\n",
        "\n",
        "The features have dramatically different ranges. You may find [sklearn.preprocessing.minmax_scale](https://scikit-learn.org/stable/modules/generated/sklearn.preprocessing.minmax_scale.html#sklearn.preprocessing.minmax_scale) helpful!"
      ]
    },
    {
      "metadata": {
        "id": "_1MNcDeRRb5D",
        "colab_type": "text"
      },
      "cell_type": "markdown",
      "source": [
        "## Part 1 - Load, validate, and prepare data\n",
        "\n",
        "The data is available at: https://archive.ics.uci.edu/ml/datasets/adult\n",
        "\n",
        "Load it, name the columns, and make sure that you've loaded the data successfully. Note that missing values for categorical variables can essentially be considered another category (\"unknown\"), and may not need to be dropped.\n",
        "\n",
        "You should also prepare the data for logistic regression - one-hot encode categorical features as appropriate."
      ]
    },
    {
      "metadata": {
        "id": "aMb7NWx4Ivke",
        "colab_type": "code",
        "colab": {
          "base_uri": "https://localhost:8080/",
          "height": 295
        },
        "outputId": "823e25b1-4186-42d6-befa-97e4242838e1"
      },
      "cell_type": "code",
      "source": [
        "from mpl_toolkits.mplot3d import Axes3D\n",
        "import matplotlib.pyplot as plt\n",
        "from matplotlib import cm\n",
        "import numpy as np\n",
        "import pandas as pd\n",
        "from sklearn.linear_model import LinearRegression\n",
        "from sklearn.linear_model import LogisticRegression\n",
        "from sklearn.preprocessing import LabelEncoder\n",
        "\n",
        "column_names = ['age', 'workclass', 'fnlwgt', 'education', 'educational-num','marital-status',\n",
        "                'occupation', 'relationship', 'race', 'gender','capital-gain', 'capital-loss',\n",
        "                'hours-per-week', 'native_country','income']\n",
        "df_data = pd.read_csv(\"https://archive.ics.uci.edu/ml/machine-learning-databases/adult/adult.data\",\n",
        "                      header=None, names=column_names)\n",
        "print(df_data.shape)\n",
        "df_test = pd.read_csv(\"https://archive.ics.uci.edu/ml/machine-learning-databases/adult/adult.test\",\n",
        "                      header=None, names=column_names, skiprows=1)\n",
        "\n",
        "pd.set_option('display.max_columns', 24)\n",
        "pd.set_option('display.width', 222)\n",
        "\n",
        "print(df_test.shape)\n",
        "print(df_data.head())\n",
        "print(df_test.head())\n"
      ],
      "execution_count": 52,
      "outputs": [
        {
          "output_type": "stream",
          "text": [
            "(32561, 15)\n",
            "(16281, 15)\n",
            "   age          workclass  fnlwgt   education  educational-num       marital-status          occupation    relationship    race   gender  capital-gain  capital-loss  hours-per-week  native_country  income\n",
            "0   39          State-gov   77516   Bachelors               13        Never-married        Adm-clerical   Not-in-family   White     Male          2174             0              40   United-States   <=50K\n",
            "1   50   Self-emp-not-inc   83311   Bachelors               13   Married-civ-spouse     Exec-managerial         Husband   White     Male             0             0              13   United-States   <=50K\n",
            "2   38            Private  215646     HS-grad                9             Divorced   Handlers-cleaners   Not-in-family   White     Male             0             0              40   United-States   <=50K\n",
            "3   53            Private  234721        11th                7   Married-civ-spouse   Handlers-cleaners         Husband   Black     Male             0             0              40   United-States   <=50K\n",
            "4   28            Private  338409   Bachelors               13   Married-civ-spouse      Prof-specialty            Wife   Black   Female             0             0              40            Cuba   <=50K\n",
            "   age   workclass  fnlwgt      education  educational-num       marital-status          occupation relationship    race   gender  capital-gain  capital-loss  hours-per-week  native_country   income\n",
            "0   25     Private  226802           11th                7        Never-married   Machine-op-inspct    Own-child   Black     Male             0             0              40   United-States   <=50K.\n",
            "1   38     Private   89814        HS-grad                9   Married-civ-spouse     Farming-fishing      Husband   White     Male             0             0              50   United-States   <=50K.\n",
            "2   28   Local-gov  336951     Assoc-acdm               12   Married-civ-spouse     Protective-serv      Husband   White     Male             0             0              40   United-States    >50K.\n",
            "3   44     Private  160323   Some-college               10   Married-civ-spouse   Machine-op-inspct      Husband   Black     Male          7688             0              40   United-States    >50K.\n",
            "4   18           ?  103497   Some-college               10        Never-married                   ?    Own-child   White   Female             0             0              30   United-States   <=50K.\n"
          ],
          "name": "stdout"
        }
      ]
    },
    {
      "metadata": {
        "id": "c0yWgbOgJZf4",
        "colab_type": "code",
        "colab": {
          "base_uri": "https://localhost:8080/",
          "height": 187
        },
        "outputId": "2363ce05-c0d8-4f28-b5ea-f7566eb07e9b"
      },
      "cell_type": "code",
      "source": [
        "# check out income\n",
        "print(df_test.income.value_counts())\n",
        "df_test['income'].replace(regex=True, inplace=True, to_replace=r'\\.', value=r'')\n",
        "print(df_test.income.value_counts())\n",
        "\n",
        "df = pd.concat([df_data, df_test])\n",
        "print(df.shape)\n",
        "print(df.income.value_counts())\n",
        "df = df.reset_index(drop = True)\n"
      ],
      "execution_count": 53,
      "outputs": [
        {
          "output_type": "stream",
          "text": [
            " <=50K.    12435\n",
            " >50K.      3846\n",
            "Name: income, dtype: int64\n",
            " <=50K    12435\n",
            " >50K      3846\n",
            "Name: income, dtype: int64\n",
            "(48842, 15)\n",
            " <=50K    37155\n",
            " >50K     11687\n",
            "Name: income, dtype: int64\n"
          ],
          "name": "stdout"
        }
      ]
    },
    {
      "metadata": {
        "id": "SVi8fBcqJ4u1",
        "colab_type": "code",
        "colab": {
          "base_uri": "https://localhost:8080/",
          "height": 646
        },
        "outputId": "d6110ca9-96db-4da3-d0ca-e4c884f9e0ab"
      },
      "cell_type": "code",
      "source": [
        "# get rid of nans\n",
        "df.replace(' ?', np.NaN, inplace = True)\n",
        "print(df.isnull().sum())\n",
        "print(df.info())\n"
      ],
      "execution_count": 54,
      "outputs": [
        {
          "output_type": "stream",
          "text": [
            "age                   0\n",
            "workclass          2799\n",
            "fnlwgt                0\n",
            "education             0\n",
            "educational-num       0\n",
            "marital-status        0\n",
            "occupation         2809\n",
            "relationship          0\n",
            "race                  0\n",
            "gender                0\n",
            "capital-gain          0\n",
            "capital-loss          0\n",
            "hours-per-week        0\n",
            "native_country      857\n",
            "income                0\n",
            "dtype: int64\n",
            "<class 'pandas.core.frame.DataFrame'>\n",
            "RangeIndex: 48842 entries, 0 to 48841\n",
            "Data columns (total 15 columns):\n",
            "age                48842 non-null int64\n",
            "workclass          46043 non-null object\n",
            "fnlwgt             48842 non-null int64\n",
            "education          48842 non-null object\n",
            "educational-num    48842 non-null int64\n",
            "marital-status     48842 non-null object\n",
            "occupation         46033 non-null object\n",
            "relationship       48842 non-null object\n",
            "race               48842 non-null object\n",
            "gender             48842 non-null object\n",
            "capital-gain       48842 non-null int64\n",
            "capital-loss       48842 non-null int64\n",
            "hours-per-week     48842 non-null int64\n",
            "native_country     47985 non-null object\n",
            "income             48842 non-null object\n",
            "dtypes: int64(6), object(9)\n",
            "memory usage: 5.6+ MB\n",
            "None\n"
          ],
          "name": "stdout"
        }
      ]
    },
    {
      "metadata": {
        "id": "MXLVsH2SNThQ",
        "colab_type": "code",
        "colab": {
          "base_uri": "https://localhost:8080/",
          "height": 374
        },
        "outputId": "835b8f15-bd0f-42c1-e3ce-9c865c6b5e31"
      },
      "cell_type": "code",
      "source": [
        "df.dropna(inplace = True)\n",
        "print(df.info())"
      ],
      "execution_count": 55,
      "outputs": [
        {
          "output_type": "stream",
          "text": [
            "<class 'pandas.core.frame.DataFrame'>\n",
            "Int64Index: 45222 entries, 0 to 48841\n",
            "Data columns (total 15 columns):\n",
            "age                45222 non-null int64\n",
            "workclass          45222 non-null object\n",
            "fnlwgt             45222 non-null int64\n",
            "education          45222 non-null object\n",
            "educational-num    45222 non-null int64\n",
            "marital-status     45222 non-null object\n",
            "occupation         45222 non-null object\n",
            "relationship       45222 non-null object\n",
            "race               45222 non-null object\n",
            "gender             45222 non-null object\n",
            "capital-gain       45222 non-null int64\n",
            "capital-loss       45222 non-null int64\n",
            "hours-per-week     45222 non-null int64\n",
            "native_country     45222 non-null object\n",
            "income             45222 non-null object\n",
            "dtypes: int64(6), object(9)\n",
            "memory usage: 5.5+ MB\n",
            "None\n"
          ],
          "name": "stdout"
        }
      ]
    },
    {
      "metadata": {
        "id": "RY8eXl9mJjZI",
        "colab_type": "code",
        "colab": {
          "base_uri": "https://localhost:8080/",
          "height": 425
        },
        "outputId": "dea47ab2-4f23-4911-968b-f7608d25acb5"
      },
      "cell_type": "code",
      "source": [
        "# encode income\n",
        "df.income.replace({' <=50K':0, ' >50K':1}, inplace = True)\n",
        "print(df.info())\n",
        "\n",
        "print(df.income.value_counts())"
      ],
      "execution_count": 56,
      "outputs": [
        {
          "output_type": "stream",
          "text": [
            "<class 'pandas.core.frame.DataFrame'>\n",
            "Int64Index: 45222 entries, 0 to 48841\n",
            "Data columns (total 15 columns):\n",
            "age                45222 non-null int64\n",
            "workclass          45222 non-null object\n",
            "fnlwgt             45222 non-null int64\n",
            "education          45222 non-null object\n",
            "educational-num    45222 non-null int64\n",
            "marital-status     45222 non-null object\n",
            "occupation         45222 non-null object\n",
            "relationship       45222 non-null object\n",
            "race               45222 non-null object\n",
            "gender             45222 non-null object\n",
            "capital-gain       45222 non-null int64\n",
            "capital-loss       45222 non-null int64\n",
            "hours-per-week     45222 non-null int64\n",
            "native_country     45222 non-null object\n",
            "income             45222 non-null int64\n",
            "dtypes: int64(7), object(8)\n",
            "memory usage: 5.5+ MB\n",
            "None\n",
            "0    34014\n",
            "1    11208\n",
            "Name: income, dtype: int64\n"
          ],
          "name": "stdout"
        }
      ]
    },
    {
      "metadata": {
        "id": "lrAe8qj8NjV8",
        "colab_type": "code",
        "colab": {
          "base_uri": "https://localhost:8080/",
          "height": 374
        },
        "outputId": "fd02deb3-c97d-4652-8de7-bb277a6efdf6"
      },
      "cell_type": "code",
      "source": [
        "#encode object columns\n",
        "object_columns = list(df.select_dtypes(include=['object']))\n",
        "df[object_columns] = df[object_columns].apply(LabelEncoder().fit_transform)\n",
        "print(df.info())\n"
      ],
      "execution_count": 57,
      "outputs": [
        {
          "output_type": "stream",
          "text": [
            "<class 'pandas.core.frame.DataFrame'>\n",
            "Int64Index: 45222 entries, 0 to 48841\n",
            "Data columns (total 15 columns):\n",
            "age                45222 non-null int64\n",
            "workclass          45222 non-null int64\n",
            "fnlwgt             45222 non-null int64\n",
            "education          45222 non-null int64\n",
            "educational-num    45222 non-null int64\n",
            "marital-status     45222 non-null int64\n",
            "occupation         45222 non-null int64\n",
            "relationship       45222 non-null int64\n",
            "race               45222 non-null int64\n",
            "gender             45222 non-null int64\n",
            "capital-gain       45222 non-null int64\n",
            "capital-loss       45222 non-null int64\n",
            "hours-per-week     45222 non-null int64\n",
            "native_country     45222 non-null int64\n",
            "income             45222 non-null int64\n",
            "dtypes: int64(15)\n",
            "memory usage: 5.5 MB\n",
            "None\n"
          ],
          "name": "stdout"
        }
      ]
    },
    {
      "metadata": {
        "id": "WzAE5C6fW5r3",
        "colab_type": "text"
      },
      "cell_type": "markdown",
      "source": [
        "###==>> for the record, let me state that this data is a pain!\n",
        "\n",
        "took a bit of time to get it figured out."
      ]
    },
    {
      "metadata": {
        "id": "8H5lxvu6NBH1",
        "colab_type": "text"
      },
      "cell_type": "markdown",
      "source": [
        "## Part 2 - Fit and present a Logistic Regression\n",
        "\n",
        "Your data should now be in a state to fit a logistic regression. Use scikit-learn, define your `X` (independent variable) and `y`, and fit a model.\n",
        "\n",
        "Then, present results - display coefficients in as interpretible a way as you can (hint - scaling the numeric features will help, as it will at least make coefficients more comparable to each other). If you find it helpful for interpretation, you can also generate predictions for cases (like our 5 year old rich kid on the Titanic) or make visualizations - but the goal is your exploration to be able to answer the question, not any particular plot (i.e. don't worry about polishing it).\n",
        "\n",
        "It is *optional* to use `train_test_split` or validate your model more generally - that is not the core focus for this week. So, it is suggested you focus on fitting a model first, and if you have time at the end you can do further validation."
      ]
    },
    {
      "metadata": {
        "id": "YQDZAMf_KY0D",
        "colab_type": "code",
        "colab": {
          "base_uri": "https://localhost:8080/",
          "height": 612
        },
        "outputId": "0726ca8f-5ca1-4bd7-9108-e3cfe806b598"
      },
      "cell_type": "code",
      "source": [
        "y = df['income']\n",
        "X = df.drop(columns='income')\n",
        "\n",
        "model = LogisticRegression(multi_class='ovr',\n",
        "                           solver='liblinear',\n",
        "                           max_iter=1000).fit(X, y)\n",
        "\n",
        "print(\"Logistic Regression Model score:\", model.score(X, y))\n",
        "\n",
        "corr_matrix = df.corr().sort_values('income', ascending=False)\n",
        "df_corr = pd.DataFrame(corr_matrix.income)\n",
        "print(\"\\nCoefficient Matrix\")\n",
        "print(df_corr[1:])\n",
        "\n",
        "coeffs = {'col' : df.drop(columns='income').columns.tolist(),\n",
        "              'coef' : model.coef_[0]}\n",
        "coeffs = pd.DataFrame(coeffs)\n",
        "\n",
        "print(\"\\nLogistic Regression Coefficients\")\n",
        "print(coeffs.sort_values('coef'))\n"
      ],
      "execution_count": 60,
      "outputs": [
        {
          "output_type": "stream",
          "text": [
            "Logistic Regression Model score: 0.7924019282650038\n",
            "\n",
            "Coefficient Matrix\n",
            "                   income\n",
            "educational-num  0.332800\n",
            "age              0.237040\n",
            "hours-per-week   0.227199\n",
            "capital-gain     0.221034\n",
            "gender           0.215760\n",
            "capital-loss     0.148687\n",
            "education        0.081196\n",
            "race             0.070844\n",
            "occupation       0.049787\n",
            "native_country   0.020103\n",
            "workclass        0.015659\n",
            "fnlwgt          -0.007264\n",
            "marital-status  -0.192711\n",
            "relationship    -0.253402\n",
            "\n",
            "Logistic Regression Coefficients\n",
            "        coef              col\n",
            "13 -0.043008   native_country\n",
            "7  -0.012338     relationship\n",
            "5  -0.011107   marital-status\n",
            "3  -0.006874        education\n",
            "8  -0.003890             race\n",
            "6  -0.003653       occupation\n",
            "1  -0.003181        workclass\n",
            "2  -0.000002           fnlwgt\n",
            "10  0.000325     capital-gain\n",
            "11  0.000746     capital-loss\n",
            "9   0.001620           gender\n",
            "4   0.005537  educational-num\n",
            "12  0.007589   hours-per-week\n",
            "0   0.011663              age\n"
          ],
          "name": "stdout"
        }
      ]
    },
    {
      "metadata": {
        "id": "HXZ4UQzCQ-xt",
        "colab_type": "text"
      },
      "cell_type": "markdown",
      "source": [
        "## Part 3 - Analysis, Interpretation, and Questions\n",
        "\n",
        "### Based on your above model, answer the following questions\n",
        "\n",
        "1. What are 3 features positively correlated with income above 50k?\n",
        "2. What are 3 features negatively correlated with income above 50k?\n",
        "3. Overall, how well does the model explain the data and what insights do you derive from it?\n",
        "\n",
        "*These answers count* - that is, make sure to spend some time on them, connecting to your analysis above. There is no single right answer, but as long as you support your reasoning with evidence you are on the right track.\n",
        "\n",
        "Note - scikit-learn logistic regression does *not* automatically perform a hypothesis test on coefficients. That is OK - if you scale the data they are more comparable in weight."
      ]
    },
    {
      "metadata": {
        "id": "pDrF526uRyIC",
        "colab_type": "text"
      },
      "cell_type": "markdown",
      "source": [
        "### Answers:\n",
        "1. Per the immediately preceeding Logistic Regression Coefficients, **age, hours-per-week and educational-num** are positively correlated with income above 50K, with coeffs of 0.011663, 0.007589 and 0.005537  respectively\n",
        "\n",
        "---\n",
        "2. Looking at the same table, ** native_country** (-0.043008), **relationship** (-0.012338) and **marital-status** (-0.011107) are negatively correlated with income above 50K\n",
        "\n",
        "---\n",
        "3. The model returned a score of 0.7924019282650038, indicating it's doing a pretty good job\n",
        "\n",
        "---\n",
        "\n",
        "####==>> These compare favorably with the coefficient matrix in the prior table\n",
        "\n"
      ]
    },
    {
      "metadata": {
        "id": "9DQ3d7JwRnye",
        "colab_type": "text"
      },
      "cell_type": "markdown",
      "source": [
        "### Match the following situation descriptions with the model most appropriate to addressing them\n",
        "\n",
        "In addition to logistic regression, a number of other approaches were covered this week. Pair them with the situations they are most appropriate for, and briefly explain why.\n",
        "\n",
        "Situations:\n",
        "1. You are given data on academic performance of primary school students, and asked to fit a model to help predict \"at-risk\" students who are likely to receive the bottom tier of grades.\n",
        "2. You are studying tech companies and their patterns in releasing new products, and would like to be able to model and predict when a new product is likely to be launched.\n",
        "3. You are working on modeling expected plant size and yield with a laboratory that is able to capture fantastically detailed physical data about plants, but only of a few dozen plants at a time.\n",
        "\n",
        "Approaches:\n",
        "1. Ridge Regression\n",
        "2. Quantile Regression\n",
        "3. Survival Analysis"
      ]
    },
    {
      "metadata": {
        "id": "Hc2skdBfUI4O",
        "colab_type": "text"
      },
      "cell_type": "markdown",
      "source": [
        "### Answers:\n",
        "1. I would use **Quantile Regressio**n here, which would allow me to segment and help identify the poor performers. I could then perhaps use this with outliers to build a more effective model for this group.\n",
        "\n",
        "---\n",
        "2. Here I believe one should employ **Survival Analysis**. It deals with a product launch, which is a time/life-cycle event, very well suited to periodic (life-decay-death) analysis.\n",
        "\n",
        "---\n",
        "3. This looks like an excellent candidate for **Ridge Regression**. With a small sample size and large amount of characteristics available, there's a great risk of overfitting.\n",
        "\n"
      ]
    }
  ]
}