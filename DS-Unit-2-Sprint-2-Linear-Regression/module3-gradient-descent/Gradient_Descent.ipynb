{
  "nbformat": 4,
  "nbformat_minor": 0,
  "metadata": {
    "colab": {
      "name": "Gradient Descent.ipynb",
      "version": "0.3.2",
      "provenance": [],
      "collapsed_sections": []
    },
    "kernelspec": {
      "name": "python3",
      "display_name": "Python 3"
    }
  },
  "cells": [
    {
      "metadata": {
        "id": "h1mvUOxBjaKN",
        "colab_type": "code",
        "colab": {}
      },
      "cell_type": "code",
      "source": [
        "import pandas as pd\n",
        "import numpy as np\n",
        "import matplotlib.pyplot as plt\n",
        "from sklearn.linear_model import LinearRegression"
      ],
      "execution_count": 0,
      "outputs": []
    },
    {
      "metadata": {
        "id": "EbHfWk1Gny1A",
        "colab_type": "text"
      },
      "cell_type": "markdown",
      "source": [
        "# Gradient Descent"
      ]
    },
    {
      "metadata": {
        "id": "r1iZxoZwnzc3",
        "colab_type": "text"
      },
      "cell_type": "markdown",
      "source": [
        "## A Blindfolded Hiker\n",
        "\n",
        "Imagine a person who is blindfolded who is sitting at the bottom of a hill (or anywhere on the hill really). Their goal is to get to the top of the hill. How would they do it?\n",
        "\n",
        "![Blind Hill Climber](http://www.ryanleeallred.com/wp-content/uploads/2019/01/gradient-ascent.png)\n",
        "\n",
        "Well, depending on wherever they're currently standing, they would detect the slope of the hill that they're standing on and take a step in an upwards direction. With each step our hiker feels their way forward and re-evaluates the slope of the hill where they are standing before taking anther step. Through this iterative process of analyzing the slope of the hill and taking steps upwards the hiker makes progress up the hill.\n",
        "\n",
        "Our climber continues this process until they feel like they're on flat ground. If they accidentally overshoot the summit they would feel it due to the slope then pointing downwards and would know to turn around and move back up to the highest (flattest) point."
      ]
    },
    {
      "metadata": {
        "id": "YDI8BqyDboIP",
        "colab_type": "text"
      },
      "cell_type": "markdown",
      "source": [
        "# Gradient Descent is a Blindfolded Hiker\n",
        "\n",
        "Gradient Descent is an algorithm that is used for finding the optimal values of a function (maximum or minimum). Although we described our hiker man as if he was trying to find a maximum value, Gradient Descent is typically used to find minimum values of a function. Lets learn a little more about how Gradient Descent uses an iterative mathematic approach (like our hiker) to find a function's minimum."
      ]
    },
    {
      "metadata": {
        "id": "sCt-9btEdT91",
        "colab_type": "text"
      },
      "cell_type": "markdown",
      "source": [
        "# \"Hypothesis\" functions.\n",
        "\n",
        "In Linear Regression we end up estimating parameters $\\beta_0, \\beta_1, \\ldots , \\beta_n$. and once we have estimated these parameters we then take them and plug them into our model. This version of our model with real coefficient values is a Hypothesis Function. However, it is not a requirement of hypothesis functions that they use the estimated parameters they could contain any real values and still be a hypothesis function. Lets look at some examples. We'll go back to our ice cream sales example for some easy data to demonstrate with. "
      ]
    },
    {
      "metadata": {
        "id": "UFENKgauiFyY",
        "colab_type": "code",
        "outputId": "b500625d-9c5a-47c0-ec82-bc43f5345938",
        "colab": {
          "base_uri": "https://localhost:8080/",
          "height": 376
        }
      },
      "cell_type": "code",
      "source": [
        "# # Read Data\n",
        "df = pd.read_csv('https://raw.githubusercontent.com/ryanleeallred/datasets/master/Ice_Cream_Sales.csv')\n",
        "\n",
        "# Creat Scatterplot\n",
        "plt.scatter(df.Farenheit, df.Dollars)\n",
        "\n",
        "X = df.Farenheit[:, np.newaxis]\n",
        "y = df.Dollars\n",
        "\n",
        "# Create Hypothesis Function Lines\n",
        "h1 = [30*x - 500 for x in X]\n",
        "h2 = [10*x + 0 for x in X]\n",
        "h3 = [-10*x + 1000 for x in X]\n",
        "plt.plot(X, h1)\n",
        "plt.plot(X, h2)\n",
        "plt.plot(X, h3)\n",
        "# plt.plot(x_value, prediction, 'ro')\n",
        "\n",
        "# Graph axes and title\n",
        "plt.ylabel(\"Dollars\")\n",
        "plt.xlabel(\"Farenheit\")\n",
        "plt.title(\"Hypothesis Functions\")\n",
        "\n",
        "# Plot Hypothesis Functions\n",
        "plt.show()"
      ],
      "execution_count": 3,
      "outputs": [
        {
          "output_type": "display_data",
          "data": {
            "image/png": "[encoded data removed]",
            "text/plain": [
              "<matplotlib.figure.Figure at 0x7fc2862b07b8>"
            ]
          },
          "metadata": {
            "tags": []
          }
        }
      ]
    },
    {
      "metadata": {
        "id": "pqQ0Xko7iU2D",
        "colab_type": "text"
      },
      "cell_type": "markdown",
      "source": [
        "The above are all Hypothesis functions, they don't necessarily fit our data the best, but they are created using the same model, they just have different (arbitrary) parameters for $\\beta_0$ and $\\beta_1$. We'll represent hypothesis functions generally as $h(x)$.\n",
        "\n",
        "The above hypotheis functions all follow the form:\n",
        "\n",
        "\\begin{align}\n",
        "  h(x) = \\theta_0 + \\theta_1X\n",
        "\\end{align}\n",
        "\n",
        "Basically we're just hypothesizing that a function that best fits the data well is linear. (a line)"
      ]
    },
    {
      "metadata": {
        "id": "NvOT4SAKiLw3",
        "colab_type": "text"
      },
      "cell_type": "markdown",
      "source": [
        "# Cost Functions\n",
        "\n",
        "Functions that gradient descent is trying to minimize are usually referred to as \"cost functions\" these functions are also referred to by names like: loss function, error function, or scoring function. \n",
        "\n",
        "We can measure the quality of our hypotheses using a **cost function**. A cost function compares our hypothesis line to our actual y values and gives it a score based on how well our hypothesis function fits the data. How might we define a cost function to give a score to how well our hypotheses fit the data? Well, you may remember this little beauty:\n",
        "\n",
        "\\begin{align}\n",
        "SSE = \\sum_{i=1}^{n}(y_i - \\hat{y})^2\n",
        "\\end{align}\n",
        "\n",
        "This is the equation for finding the sum of the squared error (or residuals) between our fitted values and our datapoints. To remind you what this looks like here's an old graph that you might be familiar with. "
      ]
    },
    {
      "metadata": {
        "id": "YelgBb5SmvKt",
        "colab_type": "code",
        "outputId": "149d6f45-0bb3-4245-84b5-ab6aa0ea77bb",
        "colab": {
          "base_uri": "https://localhost:8080/",
          "height": 410
        }
      },
      "cell_type": "code",
      "source": [
        "# Fit Model\n",
        "model = LinearRegression()\n",
        "model.fit(X, y)\n",
        "\n",
        "# Assign coefficient and intercept to variables (beta_1, and beta_0)\n",
        "beta_1 = model.coef_[0]\n",
        "beta_0 = model.intercept_\n",
        "\n",
        "print(beta_1)\n",
        "print(beta_0)\n",
        "\n",
        "# Make a single prediction for 55 degrees farenheit\n",
        "x_value = 55\n",
        "\n",
        "# Calculate predicted value\n",
        "prediction = beta_1*x_value + beta_0\n",
        "\n",
        "# Creat Scatterplot\n",
        "plt.scatter(df.Farenheit, df.Dollars)\n",
        "\n",
        "# Plot the Regression Line and predicted value\n",
        "y_hat = [beta_1*x + beta_0 for x in X]\n",
        "plt.plot(X, y_hat)\n",
        "plt.plot(x_value, prediction, 'ro')\n",
        "\n",
        "# Graph axes and title\n",
        "plt.ylabel(\"Dollars\")\n",
        "plt.xlabel(\"Farenheit\")\n",
        "plt.title(\"Ice Cream Sales and Temperature\")\n",
        "\n",
        "# Plot the error (residual)\n",
        "plt.arrow(55.2, 600, 0, 150, color='black')\n",
        "plt.show()"
      ],
      "execution_count": 4,
      "outputs": [
        {
          "output_type": "stream",
          "text": [
            "24.68849397414572\n",
            "-596.20648399428\n"
          ],
          "name": "stdout"
        },
        {
          "output_type": "display_data",
          "data": {
            "image/png": "[encoded data removed]",
            "text/plain": [
              "<matplotlib.figure.Figure at 0x7fc26b95bfd0>"
            ]
          },
          "metadata": {
            "tags": []
          }
        }
      ]
    },
    {
      "metadata": {
        "id": "I8GthqLZm1-A",
        "colab_type": "text"
      },
      "cell_type": "markdown",
      "source": [
        "This is a graph showing our Linear Algebra derived optimal coefficients for this problem with the black line representing a \"residual\" or \"error\" or in other words, the vertical distance between a predicted point and an actual data point.\n",
        "\n",
        "What would these errors look like for our hypothesis lines? Would the errors be big or small? This was probably already clear to you but this is simply a way of formalizing how we \"minimize the sum of the squared residuals\"\n",
        "\n",
        "We might rewrite our SSE equation in terms of our hypothesis functions instead of our already optimized function like so:\n",
        "\n",
        "\\begin{align}\n",
        "SSE = \\sum_{i=1}^{n}(y_i - h(x_i))^2\n",
        "\\end{align}\n",
        "\n",
        "The goal is to find the values for $\\theta_0$ and $\\theta_1$ (contained within $h(x)$) that minimize this cost function. What's good at finding the minimum of things? Gradient Descent!"
      ]
    },
    {
      "metadata": {
        "id": "rtViAM2sp4Ga",
        "colab_type": "text"
      },
      "cell_type": "markdown",
      "source": [
        "## What does this cost function look like?\n",
        "\n"
      ]
    },
    {
      "metadata": {
        "id": "x7Eo5irzp2ZP",
        "colab_type": "code",
        "outputId": "64bf9c09-9b9f-4f12-9aaa-1400b9a25866",
        "colab": {
          "base_uri": "https://localhost:8080/",
          "height": 544
        }
      },
      "cell_type": "code",
      "source": [
        "# Define a function that can calculate SSE for any hypothesis function\n",
        "# print(X)\n",
        "# print(y)\n",
        "\n",
        "def SSE(theta_0, theta_1, y, X):\n",
        "  squared_residuals = []\n",
        "  for index, value in enumerate(y):\n",
        "    h_x = theta_0 + theta_1*X[index][0]\n",
        "    residual = h_x - value\n",
        "    squared_residual = residual**2\n",
        "    squared_residuals.append(squared_residual)\n",
        "  return sum(squared_residuals)\n",
        "    \n",
        "SSE_1 = SSE(-600, 17, y, X)\n",
        "SSE_2 = SSE(-600, 19, y, X)\n",
        "SSE_3 = SSE(-600, 21, y, X)\n",
        "SSE_4 = SSE(-600, 23, y, X)\n",
        "SSE_5 = SSE(-600, 25, y, X)\n",
        "SSE_6 = SSE(-600, 27, y, X)\n",
        "SSE_7 = SSE(-600, 29, y, X)\n",
        "SSE_8 = SSE(-600, 31, y, X)\n",
        "SSE_9 = SSE(-600, 33, y, X)\n",
        "\n",
        "print(SSE_1)\n",
        "print(SSE_2)\n",
        "print(SSE_3)\n",
        "print(SSE_4)\n",
        "print(SSE_5)\n",
        "print(SSE_6)\n",
        "print(SSE_7)\n",
        "print(SSE_8)\n",
        "print(SSE_9)\n",
        "\n",
        "plt.scatter([17,19,21,23,25,27,29,31,33], [SSE_1, SSE_2, SSE_3, SSE_4, SSE_5, SSE_6, SSE_7, SSE_8, SSE_9])\n",
        "plt.title(\"Cost Function h(x) holding theta_0 fixed\")\n",
        "plt.xlabel('theta_1')\n",
        "plt.ylabel('SSE')"
      ],
      "execution_count": 5,
      "outputs": [
        {
          "output_type": "stream",
          "text": [
            "3819286\n",
            "2176214\n",
            "1020934\n",
            "353446\n",
            "173750\n",
            "481846\n",
            "1277734\n",
            "2561414\n",
            "4332886\n"
          ],
          "name": "stdout"
        },
        {
          "output_type": "execute_result",
          "data": {
            "text/plain": [
              "Text(0,0.5,'SSE')"
            ]
          },
          "metadata": {
            "tags": []
          },
          "execution_count": 5
        },
        {
          "output_type": "display_data",
          "data": {
            "image/png": "[encoded data removed]",
            "text/plain": [
              "<matplotlib.figure.Figure at 0x7fc268feb160>"
            ]
          },
          "metadata": {
            "tags": []
          }
        }
      ]
    },
    {
      "metadata": {
        "id": "lxi8E6VyvHMs",
        "colab_type": "text"
      },
      "cell_type": "markdown",
      "source": [
        "What shape does our cost function have when we only vary the slope variable and hold the other constant? It has the shape of a parabola. \n",
        "\n",
        "If we varied both values we would then have a mapping of a higher dimension so what do you think our cost function would look like if we varied both $\\theta_0$ and $\\theta_1$?\n",
        "\n",
        "Well, it turns out that it would look something like this:\n",
        "\n",
        "![Cost Function](https://1569708099.rsc.cdn77.org/wp-content/uploads/2017/09/Quadratic-Cost-Function-379x284.png?x31195)\n",
        "\n",
        "Where the x axis is $\\theta_0$ the z axis is $\\theta_1$ and the y axis is our $SSE(\\theta_0, \\theta_1)$"
      ]
    },
    {
      "metadata": {
        "id": "EtQd7ZTgxl0n",
        "colab_type": "text"
      },
      "cell_type": "markdown",
      "source": [
        "# Blindfolded Hiker on our Linear Regression Cost Function\n",
        "\n",
        "What if we put our blindfolded hiker onto our new cost functions and told him to get to the bottom? What might his travels look like? Maybe they would look something like this:\n",
        "\n",
        "![X^2 Gradient Descent](https://jed-ai.github.io//images/python/py1/fig2.gif)\n",
        "\n",
        "If we took our 3D plot and turned it into a contour plot his travels might look something like this:\n",
        "\n",
        "![3D Gradient Descent](https://jed-ai.github.io//images/python/py1/fig4.gif)"
      ]
    },
    {
      "metadata": {
        "id": "tHhAocPgzMYZ",
        "colab_type": "text"
      },
      "cell_type": "markdown",
      "source": [
        "# Using Gradient Descent to Minimize Cost Functions\n",
        "\n",
        "We'll first talk about using Gradient Descent to minimize an arbitrary cost function and then later we'll implement it specifically on our linear regression example. \n",
        "\n",
        "First lets talk about the equation for gradient descent:\n",
        "\n",
        "![Gradient Descent Equation](https://cdn-images-1.medium.com/max/800/0*8yzvd7QZLn5T1XWg.jpg)\n",
        "\n",
        "- $J$ represents our cost function.\n",
        "- The derivative term in front of $J$ (the fraction part) is our \"gradient\" in n-dimensional space or our \"slope\" in 2D space.\n",
        "- $\\alpha$ is our \"Learning Rate\" (how big of steps that we we initially take)\n",
        "- $\\theta_j$ represents our current position. So all of the RHS (right hand side) of this equation is calculated all at once and is then used to replace our current position with the new updated position.\n",
        "\n",
        "1) Start off with initial guesses for $\\theta_0$ and $\\theta_1$. (We'll just start them both out at 0)\n",
        "\n",
        "2) Change $\\theta_0$ and $theta_1$ a little bit (according to the above equation) and reevaluate our cost function.\n",
        "\n",
        "But first, lets demonstrate this process on a simple $X^2$ graph. This kind of a graph could come from a cost function that only has one parameter (we demonstrated this above when we held our intercept value fixed and only changed the slope value)"
      ]
    },
    {
      "metadata": {
        "id": "7JcqXH4pdzaD",
        "colab_type": "code",
        "outputId": "db83e0b9-5a33-47cb-f720-a3e3398270c7",
        "colab": {
          "base_uri": "https://localhost:8080/",
          "height": 347
        }
      },
      "cell_type": "code",
      "source": [
        "# Plot y=x^2 function\n",
        "import matplotlib.pyplot as plt\n",
        "\n",
        "a=[]\n",
        "b=[]\n",
        "\n",
        "for x in range(-50,50,1):\n",
        "    y=x**2+2*x+2\n",
        "    a.append(x)\n",
        "    b.append(y) \n",
        "\n",
        "fig= plt.figure()\n",
        "axes=fig.add_subplot(111)\n",
        "axes.plot(a,b)\n",
        "\n",
        "# Plot Gradient Descent Equation Demonstration\n",
        "plt.plot(-40, 1500, 'ro')\n",
        "plt.arrow(-40, 1500, 10, -680, linewidth=5, color='yellow')\n",
        "plt.plot(-30, 820, 'ro')\n",
        "plt.arrow(-30, 820, 8, -380, linewidth=5, color='yellow')\n",
        "plt.plot(-22, 440, 'ro')\n",
        "plt.arrow(-22, 440, 6, -220, linewidth=5, color='yellow')\n",
        "plt.plot(-16, 220, 'ro')\n",
        "plt.arrow(-16, 220, 5, -120, linewidth=5, color='yellow')\n",
        "plt.plot(-11, 100, 'ro')\n",
        "plt.arrow(-11, 100, 4, -70, linewidth=5, color='yellow')\n",
        "plt.plot(-6, 30, 'ro')\n",
        "plt.arrow(-6, 30, 3, -20, linewidth=5, color='yellow')\n",
        "plt.plot(-3, 10, 'ro')\n",
        "plt.arrow(-3, 10, 1, 0, linewidth=5, color='yellow')\n",
        "plt.plot(-.5, 0, 'ro')\n",
        "\n",
        "\n",
        "plt.show()"
      ],
      "execution_count": 6,
      "outputs": [
        {
          "output_type": "display_data",
          "data": {
            "image/png": "[encoded data removed]",
            "text/plain": [
              "<matplotlib.figure.Figure at 0x7fc269050d30>"
            ]
          },
          "metadata": {
            "tags": []
          }
        }
      ]
    },
    {
      "metadata": {
        "id": "k0DTL3ap4hYs",
        "colab_type": "text"
      },
      "cell_type": "markdown",
      "source": [
        "We'll move a copy of our function down here for convenience\n",
        "![Gradient Descent formula](http://www.ryanleeallred.com/wp-content/uploads/2019/01/gradient-descent-formula.png)\n",
        "\n",
        "Notice that because our step size (alpha) is multiplied by our gradient (slope) that even though we initialize our step size with a constant value it become altered by the value of the gradient so that we take smaller and smaller steps as the graph gets flatter. (closer to a minimum hopefully).\n",
        "\n",
        "# Optimizing The Learning Rate\n",
        "\n",
        "This is part of a process that we call hyperparameter tuning. Hyperparameter tuning in its most crude form basically means try out different features of your parameters (like learning rate) and see what happens to your results. Keep on iterating until you converge on an optimal learning rate. (Maybe we can implement gradient descent to find the most optimal learning rate for our gradient descent. 🤔)\n",
        "\n",
        "You can read up on different techniques for choosing an appropriate learning rate. We will explore more sophisticated Hyperparameter Tuning techniques later on in the class.\n",
        "\n",
        "You'll usually be fine with a pretty small learning rate (.01 or .02) when you're solving linear regression using Gradient Descent (as long as you use a sufficient number of iterations)\n",
        "\n",
        "![Learning Rate](https://www.jeremyjordan.me/content/images/2018/02/Screen-Shot-2018-02-24-at-11.47.09-AM.png)"
      ]
    },
    {
      "metadata": {
        "id": "qerX_w6A-FQ3",
        "colab_type": "text"
      },
      "cell_type": "markdown",
      "source": [
        "# Gradient Descent Implementation for Bivariate Linear Regression"
      ]
    },
    {
      "metadata": {
        "id": "-vYjoVIWb_QH",
        "colab_type": "text"
      },
      "cell_type": "markdown",
      "source": [
        "## Standardize X matrix & look at OLS coefficients for comparison"
      ]
    },
    {
      "metadata": {
        "id": "_MDeav7Y-Ehw",
        "colab_type": "code",
        "outputId": "a2976649-2ead-4575-cdb6-ea75f9ac56ef",
        "colab": {
          "base_uri": "https://localhost:8080/",
          "height": 50
        }
      },
      "cell_type": "code",
      "source": [
        "## Lets implement it and see how close GD comes to sklearn!\n",
        "\n",
        "# Lets Implement it!!!\n",
        "\n",
        "# First we'll calculate our parameters using sklearn to see how close our \n",
        "# Gradient Descent Method gets. \n",
        "\n",
        "# Read Data\n",
        "df = pd.read_csv('https://raw.githubusercontent.com/ryanleeallred/datasets/master/Ice_Cream_Sales.csv')\n",
        "\n",
        "# Create X matrix and y vector\n",
        "X = df['Farenheit'].values[:, np.newaxis]\n",
        "\n",
        "# If we don't do this our GD stuff will break\n",
        "X = (X - X.mean()) / X.std()\n",
        "\n",
        "# Matrix version makes cool linalg tricks possible\n",
        "X_linalg = np.c_[np.ones(X.shape[0]), X] \n",
        "\n",
        "# print(X_linalg)\n",
        "\n",
        "# Boring y variable list\n",
        "y = df['Dollars'].values\n",
        "\n",
        "# Fit Model\n",
        "model = LinearRegression()\n",
        "model.fit(X, y)\n",
        "\n",
        "# Assign coefficient and intercept to variables (beta_1, and beta_0)\n",
        "beta_1 = model.coef_[0]\n",
        "beta_0 = model.intercept_\n",
        "\n",
        "print(\"beta_1: \", beta_1)\n",
        "print(\"beta_0: \", beta_0)"
      ],
      "execution_count": 8,
      "outputs": [
        {
          "output_type": "stream",
          "text": [
            "beta_1:  587.5808413073931\n",
            "beta_0:  1145.4545454545455\n"
          ],
          "name": "stdout"
        }
      ]
    },
    {
      "metadata": {
        "id": "fyoctLHE3FVU",
        "colab_type": "code",
        "outputId": "614d6216-ab68-4253-86c2-caba44046f0e",
        "colab": {
          "base_uri": "https://localhost:8080/",
          "height": 376
        }
      },
      "cell_type": "code",
      "source": [
        "plt.scatter(X,y)\n",
        "\n",
        "# Add axes and title\n",
        "plt.ylabel(\"Dollars\")\n",
        "plt.xlabel(\"Farenheit\")\n",
        "plt.title(\"Ice Cream Sales and Temperature\")\n",
        "plt.show()"
      ],
      "execution_count": 9,
      "outputs": [
        {
          "output_type": "display_data",
          "data": {
            "image/png": "[encoded data removed]",
            "text/plain": [
              "<matplotlib.figure.Figure at 0x7fc26907a400>"
            ]
          },
          "metadata": {
            "tags": []
          }
        }
      ]
    },
    {
      "metadata": {
        "id": "KXwL1UFbcoQY",
        "colab_type": "text"
      },
      "cell_type": "markdown",
      "source": [
        "## Set initial hyperparameters"
      ]
    },
    {
      "metadata": {
        "id": "-LzzSrX63Qz1",
        "colab_type": "code",
        "colab": {}
      },
      "cell_type": "code",
      "source": [
        "# Initial Variables\n",
        "alpha = .01\n",
        "iterations = 2000\n",
        "n = len(y)\n",
        "np.random.seed(42)\n",
        "theta = [0, 0]"
      ],
      "execution_count": 0,
      "outputs": []
    },
    {
      "metadata": {
        "id": "8YwJQnQScwdK",
        "colab_type": "text"
      },
      "cell_type": "markdown",
      "source": [
        "## Calculate Predictions"
      ]
    },
    {
      "metadata": {
        "id": "IQnEhB3k4GDk",
        "colab_type": "code",
        "outputId": "cebc9a5b-b389-4caf-b279-52fa96b90c26",
        "colab": {
          "base_uri": "https://localhost:8080/",
          "height": 34
        }
      },
      "cell_type": "code",
      "source": [
        "prediction = np.dot(X_linalg, theta)\n",
        "# print(X_linalg)\n",
        "print(prediction)"
      ],
      "execution_count": 11,
      "outputs": [
        {
          "output_type": "stream",
          "text": [
            "[0. 0. 0. 0. 0. 0. 0. 0. 0. 0. 0.]\n"
          ],
          "name": "stdout"
        }
      ]
    },
    {
      "metadata": {
        "id": "Xmdl5S6Jc0Lv",
        "colab_type": "text"
      },
      "cell_type": "markdown",
      "source": [
        "## Calculate Error"
      ]
    },
    {
      "metadata": {
        "id": "B92tCsh251il",
        "colab_type": "code",
        "outputId": "07d1e1ed-b9b7-44ba-a99e-b008ffefcbf0",
        "colab": {
          "base_uri": "https://localhost:8080/",
          "height": 50
        }
      },
      "cell_type": "code",
      "source": [
        "# print('y: \\n', y)\n",
        "error = prediction - y\n",
        "print(error)"
      ],
      "execution_count": 12,
      "outputs": [
        {
          "output_type": "stream",
          "text": [
            "[ -200.  -400.  -500.  -600. -1100. -1200. -1500. -1700. -1800. -1600.\n",
            " -2000.]\n"
          ],
          "name": "stdout"
        }
      ]
    },
    {
      "metadata": {
        "id": "O432PC4jc6H8",
        "colab_type": "text"
      },
      "cell_type": "markdown",
      "source": [
        "## Update Theta List Values"
      ]
    },
    {
      "metadata": {
        "id": "rLe9t9286UV6",
        "colab_type": "code",
        "outputId": "64cd8889-eca2-4095-c666-c101c0dcf981",
        "colab": {
          "base_uri": "https://localhost:8080/",
          "height": 34
        }
      },
      "cell_type": "code",
      "source": [
        "theta = theta - (alpha * (1/n) * np.dot(X.T, error))\n",
        "# print((alpha * (1/n) * np.dot(X.T, error)))\n",
        "print(theta)"
      ],
      "execution_count": 13,
      "outputs": [
        {
          "output_type": "stream",
          "text": [
            "[5.87580841 5.87580841]\n"
          ],
          "name": "stdout"
        }
      ]
    },
    {
      "metadata": {
        "id": "-J2EjB74dXpI",
        "colab_type": "text"
      },
      "cell_type": "markdown",
      "source": [
        "## Minimal Gradient-Descent Implementation"
      ]
    },
    {
      "metadata": {
        "id": "b4p9TFs17Ioj",
        "colab_type": "code",
        "outputId": "5104ff9d-8bde-40ed-9dd6-7ee4c3b31e9c",
        "colab": {
          "base_uri": "https://localhost:8080/",
          "height": 34
        }
      },
      "cell_type": "code",
      "source": [
        "# Put it all together\n",
        "def gradient_descent(X, y, theta, iterations, alpha):\n",
        "  for _ in range(iterations):\n",
        "    prediction = np.dot(X, theta)\n",
        "    error = prediction - y\n",
        "    updates = (alpha * (1/n) * np.dot(X.T, error))\n",
        "#     print(updates)\n",
        "    theta = theta - updates\n",
        "  return theta\n",
        "  \n",
        "gradient_descent(X_linalg, y, theta, iterations, alpha)"
      ],
      "execution_count": 14,
      "outputs": [
        {
          "output_type": "execute_result",
          "data": {
            "text/plain": [
              "array([1145.45454333,  587.58084022])"
            ]
          },
          "metadata": {
            "tags": []
          },
          "execution_count": 14
        }
      ]
    },
    {
      "metadata": {
        "id": "bpwuBarzdati",
        "colab_type": "text"
      },
      "cell_type": "markdown",
      "source": [
        "## Implementation with saved cost and theta values for graphing costs and animations"
      ]
    },
    {
      "metadata": {
        "id": "u8bVnO1ddhCV",
        "colab_type": "code",
        "colab": {
          "base_uri": "https://localhost:8080/",
          "height": 34
        },
        "outputId": "5b80deca-cc71-48dc-b60d-bd4616dc49fd"
      },
      "cell_type": "code",
      "source": [
        "# We need to save all of our thetas so that we can make our animation\n",
        "\n",
        "# Put it all together\n",
        "def gradient_descent(x, y, theta, iterations, alpha):\n",
        "    past_costs = []\n",
        "    past_thetas = [theta]\n",
        "    for i in range(iterations):\n",
        "        prediction = np.dot(x, theta)\n",
        "        error = prediction - y\n",
        "        cost = 1/(2*n) * np.dot(error.T, error)\n",
        "        past_costs.append(cost)\n",
        "        theta = theta - (alpha * (1/n) * np.dot(x.T, error))\n",
        "        past_thetas.append(theta)\n",
        "    return past_thetas, past_costs\n",
        "\n",
        "past_thetas, past_costs = gradient_descent(X_linalg, y, theta, iterations, alpha)\n",
        "\n",
        "final_theta = past_thetas[-1]\n",
        "\n",
        "print(\"Gradient Descent Results: {:.5f}, {:.5f}\".format(final_theta[0], final_theta[1]))"
      ],
      "execution_count": 15,
      "outputs": [
        {
          "output_type": "stream",
          "text": [
            "Gradient Descent Results: 1145.45454, 587.58084\n"
          ],
          "name": "stdout"
        }
      ]
    },
    {
      "metadata": {
        "id": "7YwMbrwtd1dI",
        "colab_type": "text"
      },
      "cell_type": "markdown",
      "source": [
        "## Cost by iterations"
      ]
    },
    {
      "metadata": {
        "id": "dVxdnvLq8_bA",
        "colab_type": "code",
        "outputId": "da89e327-6875-41ae-996e-5fc105029bf7",
        "colab": {
          "base_uri": "https://localhost:8080/",
          "height": 376
        }
      },
      "cell_type": "code",
      "source": [
        "# Show cost decreasing with additional iterations\n",
        "plt.title('Cost per Iteration')\n",
        "plt.xlabel('No. of iterations')\n",
        "plt.ylabel('Cost')\n",
        "plt.plot(past_costs)\n",
        "plt.show()"
      ],
      "execution_count": 17,
      "outputs": [
        {
          "output_type": "display_data",
          "data": {
            "image/png": "[encoded data removed]",
            "text/plain": [
              "<matplotlib.figure.Figure at 0x7fc268fd7b00>"
            ]
          },
          "metadata": {
            "tags": []
          }
        }
      ]
    },
    {
      "metadata": {
        "id": "Gd1l73Ye_sVI",
        "colab_type": "code",
        "outputId": "761459ec-22ee-4c56-e563-878a682cbdf0",
        "colab": {
          "base_uri": "https://localhost:8080/",
          "height": 376
        }
      },
      "cell_type": "code",
      "source": [
        "#Plot the cost function...\n",
        "plt.title('Cost Function J')\n",
        "plt.xlabel('No. of iterations')\n",
        "plt.ylabel('Cost')\n",
        "plt.plot(past_costs)\n",
        "plt.show()"
      ],
      "execution_count": 0,
      "outputs": [
        {
          "output_type": "display_data",
          "data": {
            "image/png": "[encoded data removed]",
            "text/plain": [
              "<matplotlib.figure.Figure at 0x7ff799d28208>"
            ]
          },
          "metadata": {
            "tags": []
          }
        }
      ]
    },
    {
      "metadata": {
        "id": "DPNUAuPmeZHa",
        "colab_type": "text"
      },
      "cell_type": "markdown",
      "source": [
        "## Animation Code"
      ]
    },
    {
      "metadata": {
        "id": "gIQUgm4jeYpt",
        "colab_type": "code",
        "colab": {}
      },
      "cell_type": "code",
      "source": [
        "import matplotlib.animation as animation\n",
        "\n",
        "#Set the plot up,\n",
        "fig = plt.figure()\n",
        "ax = plt.axes()\n",
        "plt.title('Ice Cream Sales vs Temperature')\n",
        "plt.xlabel('Temperature in Farenheit')\n",
        "plt.ylabel('Revenue ($)')\n",
        "plt.scatter(X_linalg[:,1], y, color='red')\n",
        "line, = ax.plot([], [], lw=2)\n",
        "annotation = ax.text(-1, 700000, '')\n",
        "annotation.set_animated(True)\n",
        "plt.close()\n",
        "\n",
        "#Generate the animation data,\n",
        "def init():\n",
        "    line.set_data([], [])\n",
        "    annotation.set_text('')\n",
        "    return line, annotation\n",
        "\n",
        "# animation function.  This is called sequentially\n",
        "def animate(i):\n",
        "    x = np.linspace(-5, 20, 1000)\n",
        "    y = past_thetas[i][1]*X_linalg + past_thetas[i][0]\n",
        "    line.set_data(x, y)\n",
        "    annotation.set_text('Cost = %.2f e10' % (past_costs[i]/10000000000))\n",
        "    return line, annotation\n",
        "\n",
        "anim = animation.FuncAnimation(fig, animate, init_func=init,\n",
        "                               frames=300, interval=0, blit=True)\n",
        "\n",
        "anim.save('animation.gif', writer='imagemagick', fps=30)"
      ],
      "execution_count": 0,
      "outputs": []
    },
    {
      "metadata": {
        "id": "OIhfHgRYedIZ",
        "colab_type": "text"
      },
      "cell_type": "markdown",
      "source": [
        "## Display Animation\n",
        "\n",
        "This code probably won't work well unless you run it in a local ipython notebook. And maybe not then either. 😉"
      ]
    },
    {
      "metadata": {
        "id": "TICus4CjedZU",
        "colab_type": "code",
        "colab": {}
      },
      "cell_type": "code",
      "source": [
        "#Display the animation...\n",
        "import io\n",
        "import base64\n",
        "from IPython.display import HTML\n",
        "\n",
        "filename = 'animation.gif'\n",
        "\n",
        "video = io.open(filename, 'r+b').read()\n",
        "encoded = base64.b64encode(video)\n",
        "HTML(data='''<img src=\"data:image/gif;base64,{0}\" type=\"gif\" />'''.format(encoded.decode('ascii')))"
      ],
      "execution_count": 0,
      "outputs": []
    },
    {
      "metadata": {
        "id": "VmAmAL0UPwdp",
        "colab_type": "text"
      },
      "cell_type": "markdown",
      "source": [
        "## Gradient Descent *is* Machine Learning\n",
        "\n",
        "What does Gradient Descent do? It finds model parameters that minimize a cost function. (That get the best results!) This cuts to the very heart of what machine learning is: Solving uniquely specified optimization problems. I hope you can see how this iterative process of seeing an optimum is not just good for machines, but can be an elegant way of describing learning in general. For both humans and computers!"
      ]
    },
    {
      "metadata": {
        "id": "T8aD5xbUf6pN",
        "colab_type": "text"
      },
      "cell_type": "markdown",
      "source": [
        "## Improvements to Gradient Descent\n",
        "\n",
        "There are **many** Gradient-Descent based optimizers out there that seek improve upon the \"vanilla\" gradient descent that we have implemented here.\n",
        "\n",
        "What if we had a cost function that wasn't convex? What if our cost function had multiple local minima?\n",
        "\n",
        "![Global Minimum](http://www.ryanleeallred.com/wp-content/uploads/2019/01/Global-Minimum.png)\n",
        "\n",
        "But what if we had initialized our theta values just slightly differently. Where would the gradient have taken us? \n",
        "\n",
        "![Local Minimum](http://www.ryanleeallred.com/wp-content/uploads/2019/01/Local-Minima.png)\n",
        "\n",
        "Hopefully these two images help you see how with more complex cost functions it can be difficult to find the global minimum and even slightly different initial values can lead to completely different results. The question about how to overcome these challenges has lead to a plethora of gradient-descent based optimizers all seeking to overcome these challenges.\n",
        "\n",
        "If you feel like you have a good grasp of what I'm calling \"vanilla\" gradient descent then start delving into understanding these different optimizers:\n",
        "\n",
        "[Overview of GD-based optimizers](http://ruder.io/optimizing-gradient-descent/)\n",
        "\n",
        "[Siraj Raval - Evolution of Gradient Descent-Based Optimizers](https://youtu.be/nhqo0u1a6fw)"
      ]
    }
  ]
}