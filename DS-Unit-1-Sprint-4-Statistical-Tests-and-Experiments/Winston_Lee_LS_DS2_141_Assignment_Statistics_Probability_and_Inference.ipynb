{
  "nbformat": 4,
  "nbformat_minor": 0,
  "metadata": {
    "colab": {
      "name": "Winston Lee LS_DS2_141 Assignment_Statistics_Probability_and_Inference.ipynb",
      "version": "0.3.2",
      "provenance": [],
      "collapsed_sections": [],
      "include_colab_link": true
    },
    "kernelspec": {
      "name": "python3",
      "display_name": "Python 3"
    }
  },
  "cells": [
    {
      "cell_type": "markdown",
      "metadata": {
        "id": "view-in-github",
        "colab_type": "text"
      },
      "source": [
        "<a href=\"https://colab.research.google.com/github/wel51x/DS-Unit-1-Sprint-4-Statistical-Tests-and-Experiments/blob/master/Winston_Lee_LS_DS2_141_Assignment_Statistics_Probability_and_Inference.ipynb\" target=\"_parent\"><img src=\"https://colab.research.google.com/assets/colab-badge.svg\" alt=\"Open In Colab\"/></a>"
      ]
    },
    {
      "metadata": {
        "id": "eJGtmni-DezY",
        "colab_type": "text"
      },
      "cell_type": "markdown",
      "source": [
        "# Lambda School Data Science Module 141\n",
        "## Statistics, Probability, and Inference"
      ]
    },
    {
      "metadata": {
        "id": "FMhDKOFND0qY",
        "colab_type": "text"
      },
      "cell_type": "markdown",
      "source": [
        "## Prepare - examine what's available in SciPy\n",
        "\n",
        "As we delve into statistics, we'll be using more libraries - in particular the [stats package from SciPy](https://docs.scipy.org/doc/scipy/reference/tutorial/stats.html)."
      ]
    },
    {
      "metadata": {
        "id": "fQ9rkLJmEbsk",
        "colab_type": "code",
        "colab": {}
      },
      "cell_type": "code",
      "source": [
        "from scipy import stats\n",
        "#dir(stats)"
      ],
      "execution_count": 0,
      "outputs": []
    },
    {
      "metadata": {
        "id": "bxW4SG_gJGlZ",
        "colab_type": "code",
        "outputId": "e715ad1a-883f-41e2-b070-a1106316f4e7",
        "colab": {
          "base_uri": "https://localhost:8080/",
          "height": 70
        }
      },
      "cell_type": "code",
      "source": [
        "# As usual, lots of stuff here! There's our friend, the normal distribution\n",
        "norm = stats.norm()\n",
        "print(norm.mean())\n",
        "print(norm.std())\n",
        "print(norm.var())"
      ],
      "execution_count": 0,
      "outputs": [
        {
          "output_type": "stream",
          "text": [
            "0.0\n",
            "1.0\n",
            "1.0\n"
          ],
          "name": "stdout"
        }
      ]
    },
    {
      "metadata": {
        "id": "RyNKPt_tJk86",
        "colab_type": "code",
        "outputId": "db64f558-1945-4fef-f7d7-3184212d8237",
        "colab": {
          "base_uri": "https://localhost:8080/",
          "height": 70
        }
      },
      "cell_type": "code",
      "source": [
        "# And a new friend - t\n",
        "t1 = stats.t(5)  # 5 is df \"shape\" parameter\n",
        "print(t1.mean())\n",
        "print(t1.std())\n",
        "print(t1.var())"
      ],
      "execution_count": 0,
      "outputs": [
        {
          "output_type": "stream",
          "text": [
            "0.0\n",
            "1.2909944487358056\n",
            "1.6666666666666667\n"
          ],
          "name": "stdout"
        }
      ]
    },
    {
      "metadata": {
        "id": "SRn1zMuaKgxX",
        "colab_type": "text"
      },
      "cell_type": "markdown",
      "source": [
        "![T distribution PDF with different shape parameters](https://upload.wikimedia.org/wikipedia/commons/4/41/Student_t_pdf.svg)\n",
        "\n",
        "*(Picture from [Wikipedia](https://en.wikipedia.org/wiki/Student's_t-distribution#/media/File:Student_t_pdf.svg))*\n",
        "\n",
        "The t-distribution is \"normal-ish\" - the larger the parameter (which reflects its degrees of freedom - more input data/features will increase it), the closer to true normal."
      ]
    },
    {
      "metadata": {
        "id": "seQv5unnJvpM",
        "colab_type": "code",
        "outputId": "b2f84397-b204-4864-84a1-2b29eb926bbf",
        "colab": {
          "base_uri": "https://localhost:8080/",
          "height": 70
        }
      },
      "cell_type": "code",
      "source": [
        "t2 = stats.t(30)  # Will be closer to normal\n",
        "print(t2.mean())\n",
        "print(t2.std())\n",
        "print(t2.var())"
      ],
      "execution_count": 0,
      "outputs": [
        {
          "output_type": "stream",
          "text": [
            "0.0\n",
            "1.0350983390135313\n",
            "1.0714285714285714\n"
          ],
          "name": "stdout"
        }
      ]
    },
    {
      "metadata": {
        "id": "FOvEGMysLaE2",
        "colab_type": "text"
      },
      "cell_type": "markdown",
      "source": [
        "Why is it different from normal? To better reflect the tendencies of small data and situations with unknown population standard deviation. In other words, the normal distribution is still the nice pure ideal in the limit (thanks to the central limit theorem), but the t-distribution is much more useful in many real-world situations.\n",
        "\n",
        "History sidenote - this is \"Student\":\n",
        "\n",
        "![William Sealy Gosset](https://upload.wikimedia.org/wikipedia/commons/4/42/William_Sealy_Gosset.jpg)\n",
        "\n",
        "*(Picture from [Wikipedia](https://en.wikipedia.org/wiki/File:William_Sealy_Gosset.jpg))*\n",
        "\n",
        "His real name is William Sealy Gosset, and he published under the pen name \"Student\" because he was not an academic. He was a brewer, working at Guinness and using trial and error to determine the best ways to yield barley. He's also proof that, even 100 years ago, you don't need official credentials to do real data science!"
      ]
    },
    {
      "metadata": {
        "id": "1yx_QilAEC6o",
        "colab_type": "text"
      },
      "cell_type": "markdown",
      "source": [
        "## Live Lecture - let's perform and interpret a t-test\n",
        "\n",
        "We'll generate our own data, so we can know and alter the \"ground truth\" that the t-test should find. We will learn about p-values and how to interpret \"statistical significance\" based on the output of a hypothesis test."
      ]
    },
    {
      "metadata": {
        "id": "BuysRPs-Ed0v",
        "colab_type": "code",
        "outputId": "12367d53-e39c-4781-9baf-bf6c756770b8",
        "colab": {
          "base_uri": "https://localhost:8080/",
          "height": 54
        }
      },
      "cell_type": "code",
      "source": [
        "# TODO - during class, but please help!\n",
        "\n",
        "# Coke or Pepsi experiment\n",
        "# This will be represented as a binomial random variable\n",
        "# 0 = Likes Pepsi\n",
        "# 1 = Likes Coke\n",
        "\n",
        "# We want a list of 30 observations (sample size n=30)\n",
        "# Start by generating random data\n",
        "import random\n",
        "# help(random.randint)\n",
        "random.seed(10)\n",
        "sample = [random.randint(0, 1) for _ in range(30)]\n",
        "print(sample)"
      ],
      "execution_count": 0,
      "outputs": [
        {
          "output_type": "stream",
          "text": [
            "[0, 1, 1, 0, 0, 1, 1, 1, 0, 0, 1, 1, 0, 0, 1, 0, 1, 0, 1, 1, 1, 1, 1, 1, 0, 1, 1, 0, 1, 0]\n"
          ],
          "name": "stdout"
        }
      ]
    },
    {
      "metadata": {
        "id": "KaLJ6JcJeJ6L",
        "colab_type": "code",
        "outputId": "63609447-7bd2-40eb-9c82-022dd71cce73",
        "colab": {
          "base_uri": "https://localhost:8080/",
          "height": 300
        }
      },
      "cell_type": "code",
      "source": [
        "import pandas as pd\n",
        "df = pd.DataFrame(sample)\n",
        "df.describe()"
      ],
      "execution_count": 0,
      "outputs": [
        {
          "output_type": "execute_result",
          "data": {
            "text/html": [
              "<div>\n",
              "<style scoped>\n",
              "    .dataframe tbody tr th:only-of-type {\n",
              "        vertical-align: middle;\n",
              "    }\n",
              "\n",
              "    .dataframe tbody tr th {\n",
              "        vertical-align: top;\n",
              "    }\n",
              "\n",
              "    .dataframe thead th {\n",
              "        text-align: right;\n",
              "    }\n",
              "</style>\n",
              "<table border=\"1\" class=\"dataframe\">\n",
              "  <thead>\n",
              "    <tr style=\"text-align: right;\">\n",
              "      <th></th>\n",
              "      <th>0</th>\n",
              "    </tr>\n",
              "  </thead>\n",
              "  <tbody>\n",
              "    <tr>\n",
              "      <th>count</th>\n",
              "      <td>30.000000</td>\n",
              "    </tr>\n",
              "    <tr>\n",
              "      <th>mean</th>\n",
              "      <td>0.600000</td>\n",
              "    </tr>\n",
              "    <tr>\n",
              "      <th>std</th>\n",
              "      <td>0.498273</td>\n",
              "    </tr>\n",
              "    <tr>\n",
              "      <th>min</th>\n",
              "      <td>0.000000</td>\n",
              "    </tr>\n",
              "    <tr>\n",
              "      <th>25%</th>\n",
              "      <td>0.000000</td>\n",
              "    </tr>\n",
              "    <tr>\n",
              "      <th>50%</th>\n",
              "      <td>1.000000</td>\n",
              "    </tr>\n",
              "    <tr>\n",
              "      <th>75%</th>\n",
              "      <td>1.000000</td>\n",
              "    </tr>\n",
              "    <tr>\n",
              "      <th>max</th>\n",
              "      <td>1.000000</td>\n",
              "    </tr>\n",
              "  </tbody>\n",
              "</table>\n",
              "</div>"
            ],
            "text/plain": [
              "               0\n",
              "count  30.000000\n",
              "mean    0.600000\n",
              "std     0.498273\n",
              "min     0.000000\n",
              "25%     0.000000\n",
              "50%     1.000000\n",
              "75%     1.000000\n",
              "max     1.000000"
            ]
          },
          "metadata": {
            "tags": []
          },
          "execution_count": 21
        }
      ]
    },
    {
      "metadata": {
        "id": "SFJvEAKqfPoW",
        "colab_type": "code",
        "outputId": "bf01dad6-10c7-4557-ee8d-1c7d11d5dbda",
        "colab": {
          "base_uri": "https://localhost:8080/",
          "height": 347
        }
      },
      "cell_type": "code",
      "source": [
        "df.plot.hist();"
      ],
      "execution_count": 0,
      "outputs": [
        {
          "output_type": "display_data",
          "data": {
            "image/png": "[encoded data removed]",
            "text/plain": [
              "<Figure size 576x396 with 1 Axes>"
            ]
          },
          "metadata": {
            "tags": []
          }
        }
      ]
    },
    {
      "metadata": {
        "id": "J7zEGzmafIjC",
        "colab_type": "code",
        "outputId": "6330da13-d697-494b-9137-2e854cd48f8f",
        "colab": {
          "base_uri": "https://localhost:8080/",
          "height": 34
        }
      },
      "cell_type": "code",
      "source": [
        "# Now with confidence!\n",
        "\n",
        "import scipy\n",
        "# help(scipy.stats.ttest_1samp)\n",
        "scipy.stats.ttest_1samp(df[0], 0.5)"
      ],
      "execution_count": 0,
      "outputs": [
        {
          "output_type": "execute_result",
          "data": {
            "text/plain": [
              "Ttest_1sampResult(statistic=1.0992421631894096, pvalue=0.2807046476465548)"
            ]
          },
          "metadata": {
            "tags": []
          },
          "execution_count": 23
        }
      ]
    },
    {
      "metadata": {
        "id": "7JrC7F31m9j3",
        "colab_type": "code",
        "outputId": "56e56608-92ec-4501-8bf6-074b449a5a02",
        "colab": {
          "base_uri": "https://localhost:8080/",
          "height": 34
        }
      },
      "cell_type": "code",
      "source": [
        "# Let's try to calculate test statistics from scratch-ish\n",
        "# We need the sample standard error\n",
        "df[0].std()"
      ],
      "execution_count": 0,
      "outputs": [
        {
          "output_type": "execute_result",
          "data": {
            "text/plain": [
              "0.4982728791224399"
            ]
          },
          "metadata": {
            "tags": []
          },
          "execution_count": 28
        }
      ]
    },
    {
      "metadata": {
        "id": "W_-BPLKCn2cP",
        "colab_type": "code",
        "outputId": "d03e8987-70b6-4e46-c77a-95f45a525a4c",
        "colab": {
          "base_uri": "https://localhost:8080/",
          "height": 34
        }
      },
      "cell_type": "code",
      "source": [
        "from math import sqrt\n",
        "df[0].std() / sqrt(30)"
      ],
      "execution_count": 0,
      "outputs": [
        {
          "output_type": "execute_result",
          "data": {
            "text/plain": [
              "0.09097176522946843"
            ]
          },
          "metadata": {
            "tags": []
          },
          "execution_count": 34
        }
      ]
    },
    {
      "metadata": {
        "id": "O0CI8uMQqLIa",
        "colab_type": "code",
        "outputId": "01691e76-bb65-47ce-df6f-af728189cf5e",
        "colab": {
          "base_uri": "https://localhost:8080/",
          "height": 34
        }
      },
      "cell_type": "code",
      "source": [
        "# One-liner from Chris\n",
        "(df[0].mean() - 0.5) / (df[0].std() / (30 ** (1/2)))"
      ],
      "execution_count": 0,
      "outputs": [
        {
          "output_type": "execute_result",
          "data": {
            "text/plain": [
              "1.0992421631894094"
            ]
          },
          "metadata": {
            "tags": []
          },
          "execution_count": 33
        }
      ]
    },
    {
      "metadata": {
        "id": "-HCPkOhKqy44",
        "colab_type": "code",
        "colab": {}
      },
      "cell_type": "code",
      "source": [
        "# Let's make a reusable function, and do it from scratch!\n",
        "def std(sample, mean):\n",
        "  std = 0\n",
        "  for obs in sample:\n",
        "    std += (obs - mean)**2\n",
        "  return (std / (len(sample) - 1)) ** (1/2)\n",
        "\n",
        "def calculate_t_stat(sample, null_hyp):\n",
        "  sample_mean = sum(sample) / len(sample)\n",
        "  sample_std = std(sample, sample_mean)\n",
        "  return (sample_mean - null_hyp) / (sample_std / (len(sample) ** (1/2)))"
      ],
      "execution_count": 0,
      "outputs": []
    },
    {
      "metadata": {
        "id": "YNAxWMBWvEaN",
        "colab_type": "text"
      },
      "cell_type": "markdown",
      "source": [
        "As $n \\rightarrow \\infty$, $\\hat{\\mu} \\approx \\mu$\n",
        "\n",
        "(\"mu hat\" is the sample mean, mu is the \"true\" population mean)"
      ]
    },
    {
      "metadata": {
        "id": "K9iFAOGHtAK3",
        "colab_type": "code",
        "outputId": "1dbeeda7-211c-43e6-c515-867e3880a49d",
        "colab": {
          "base_uri": "https://localhost:8080/",
          "height": 34
        }
      },
      "cell_type": "code",
      "source": [
        "calculate_t_stat(survey_data, 0.5)"
      ],
      "execution_count": 0,
      "outputs": [
        {
          "output_type": "execute_result",
          "data": {
            "text/plain": [
              "2.364321853156195"
            ]
          },
          "metadata": {
            "tags": []
          },
          "execution_count": 70
        }
      ]
    },
    {
      "metadata": {
        "id": "2xmEO5J-tRT6",
        "colab_type": "code",
        "outputId": "b66e6704-53d9-4c7f-d6eb-f005c087f4b2",
        "colab": {
          "base_uri": "https://localhost:8080/",
          "height": 52
        }
      },
      "cell_type": "code",
      "source": [
        "pd.DataFrame(survey_data).std()"
      ],
      "execution_count": 0,
      "outputs": [
        {
          "output_type": "execute_result",
          "data": {
            "text/plain": [
              "0    0.478518\n",
              "dtype: float64"
            ]
          },
          "metadata": {
            "tags": []
          },
          "execution_count": 71
        }
      ]
    },
    {
      "metadata": {
        "id": "ljcErJkprqxb",
        "colab_type": "code",
        "outputId": "f38bb1b2-4b3f-40c0-b295-57c484635152",
        "colab": {
          "base_uri": "https://localhost:8080/",
          "height": 34
        }
      },
      "cell_type": "code",
      "source": [
        "# Let's test it\n",
        "survey_data = [0, 1, 0, 1, 0, 0, 0, 1, 1, 0, 0, 1, 1, 1, 1, 1, 1, 1,\n",
        "               0, 0, 1, 1, 1, 1, 1, 1, 1, 1, 1, 0, 1, 1, 1, 1, 1, 1,\n",
        "               1, 0, 1, 0, 1, 1, 0, 1, 0, 1, 1, 0, 0, 0]\n",
        "\n",
        "# Try this with both scipy and ours\n",
        "scipy.stats.ttest_1samp(survey_data, 0.5)"
      ],
      "execution_count": 0,
      "outputs": [
        {
          "output_type": "execute_result",
          "data": {
            "text/plain": [
              "Ttest_1sampResult(statistic=2.364321853156195, pvalue=0.02207003200903075)"
            ]
          },
          "metadata": {
            "tags": []
          },
          "execution_count": 72
        }
      ]
    },
    {
      "metadata": {
        "id": "OZlN8YaWzxSf",
        "colab_type": "code",
        "outputId": "f93eba76-7f46-4878-ee6e-d599e165c3af",
        "colab": {
          "base_uri": "https://localhost:8080/",
          "height": 34
        }
      },
      "cell_type": "code",
      "source": [
        "len(survey_data)"
      ],
      "execution_count": 0,
      "outputs": [
        {
          "output_type": "execute_result",
          "data": {
            "text/plain": [
              "50"
            ]
          },
          "metadata": {
            "tags": []
          },
          "execution_count": 79
        }
      ]
    },
    {
      "metadata": {
        "id": "49rSfB62yGRH",
        "colab_type": "code",
        "colab": {}
      },
      "cell_type": "code",
      "source": [
        "#help(scipy.stats.t)"
      ],
      "execution_count": 0,
      "outputs": []
    },
    {
      "metadata": {
        "id": "OclSNP5FzKPt",
        "colab_type": "code",
        "outputId": "9e35556a-df83-4c60-cfc4-f3f57700ae24",
        "colab": {
          "base_uri": "https://localhost:8080/",
          "height": 34
        }
      },
      "cell_type": "code",
      "source": [
        "t = scipy.stats.t(len(survey_data))\n",
        "t.cdf(calculate_t_stat(survey_data, 0.5))"
      ],
      "execution_count": 0,
      "outputs": [
        {
          "output_type": "execute_result",
          "data": {
            "text/plain": [
              "0.9890062713232346"
            ]
          },
          "metadata": {
            "tags": []
          },
          "execution_count": 84
        }
      ]
    },
    {
      "metadata": {
        "id": "v9EMgd2cz_XZ",
        "colab_type": "code",
        "outputId": "c29da7d7-7c54-4618-c167-384bc0aa66f6",
        "colab": {
          "base_uri": "https://localhost:8080/",
          "height": 86
        }
      },
      "cell_type": "code",
      "source": [
        "help(t.cdf)"
      ],
      "execution_count": 0,
      "outputs": [
        {
          "output_type": "stream",
          "text": [
            "Help on method cdf in module scipy.stats._distn_infrastructure:\n",
            "\n",
            "cdf(x) method of scipy.stats._distn_infrastructure.rv_frozen instance\n",
            "\n"
          ],
          "name": "stdout"
        }
      ]
    },
    {
      "metadata": {
        "id": "8gpWW4Fk3a7A",
        "colab_type": "code",
        "outputId": "006c50d4-c632-40fb-ab88-cf8ac348becc",
        "colab": {
          "base_uri": "https://localhost:8080/",
          "height": 34
        }
      },
      "cell_type": "code",
      "source": [
        "# A hacky solution\n",
        "2 * (1 - t.cdf(calculate_t_stat(survey_data, 0.5)))"
      ],
      "execution_count": 0,
      "outputs": [
        {
          "output_type": "execute_result",
          "data": {
            "text/plain": [
              "0.021987457353530804"
            ]
          },
          "metadata": {
            "tags": []
          },
          "execution_count": 85
        }
      ]
    },
    {
      "metadata": {
        "id": "fptK3w_Xhtks",
        "colab_type": "code",
        "colab": {}
      },
      "cell_type": "code",
      "source": [
        "# On your own optional stretch goal:\n",
        "# Figure out how to get t.cdf to give us 1/2 tailed tests and not just the base\n",
        "\n",
        "# Put the entire above \"experiment\" in a loop\n",
        "# and run it a bunch of times for a bunch of different seeds\n",
        "# and see how often the p value holds"
      ],
      "execution_count": 0,
      "outputs": []
    },
    {
      "metadata": {
        "id": "egXb7YpqEcZF",
        "colab_type": "text"
      },
      "cell_type": "markdown",
      "source": [
        "## Assignment - apply the t-test to real data\n",
        "\n",
        "Your assignment is to determine which issues have \"statistically significant\" differences between political parties in this [1980s congressional voting data](https://archive.ics.uci.edu/ml/datasets/Congressional+Voting+Records). The data consists of 435 instances (one for each congressperson), a class (democrat or republican), and 16 binary attributes (yes or no for voting for or against certain issues). Be aware - there are missing values!\n",
        "\n",
        "Your goals:\n",
        "\n",
        "1. Load and clean the data (or determine the best method to drop observations when running tests)\n",
        "2. Using hypothesis testing, find an issue that democrats support more than republicans with p < 0.01\n",
        "3. Using hypothesis testing, find an issue that republicans support more than democrats with p < 0.01\n",
        "4. Using hypothesis testing, find an issue where the difference between republicans and democrats has p > 0.1 (i.e. there may not be much of a difference)\n",
        "\n",
        "Note that this data will involve *2 sample* t-tests, because you're comparing averages across two groups (republicans and democrats) rather than a single group against a null hypothesis.\n",
        "\n",
        "Stretch goals:\n",
        "\n",
        "1. Refactor your code into functions so it's easy to rerun with arbitrary variables\n",
        "2. Apply hypothesis testing to your personal project data (for the purposes of this notebook you can type a summary of the hypothesis you formed and tested)"
      ]
    },
    {
      "metadata": {
        "id": "nstrmCG-Ecyk",
        "colab_type": "code",
        "colab": {}
      },
      "cell_type": "code",
      "source": [
        "# TODO - your code here!\n",
        "import pandas as pd\n",
        "from scipy import stats\n",
        "import random\n",
        "import scipy\n",
        "\n",
        "vote_names =\\\n",
        "        [\n",
        "        \"Class\",\n",
        "        \"handicapped-infants\",\n",
        "        \"water-project-cost-sharing\",\n",
        "        \"adoption-of-the-budget-resolution\",\n",
        "        \"physician-fee-freeze\",\n",
        "        \"el-salvador-aid\",\n",
        "        \"religious-groups-in-schools\",\n",
        "        \"anti-satellite-test-ban\",\n",
        "        \"aid-to-nicaraguan-contras\",\n",
        "        \"mx-missile\",\n",
        "        \"immigration\",\n",
        "        \"synfuels-corporation-cutback\",\n",
        "        \"education-spending\",\n",
        "        \"superfund-right-to-sue\",\n",
        "        \"crime\",\n",
        "        \"duty-free-exports\",\n",
        "        \"export-administration-act-south-africa\"\n",
        "        ]\n",
        "\n",
        "voting_data = pd.read_csv(\"https://archive.ics.uci.edu/ml/machine-learning-databases/voting-records/house-votes-84.data\",\n",
        "                          names=vote_names,\n",
        "                          converters={'n' : -1, '?' : 0, 'y':1}) # doesn't work\n",
        "\n",
        "\n",
        "voting_data = voting_data.replace(\"republican\", 'R')\n",
        "voting_data = voting_data.replace(\"democrat\", 'D')\n",
        "# n = -1, na or ? = 0, y = 1\n",
        "voting_data = voting_data.replace('n', -1)\n",
        "voting_data = voting_data.replace('?', 0)\n",
        "voting_data = voting_data.replace('y', 1)\n"
      ],
      "execution_count": 0,
      "outputs": []
    },
    {
      "metadata": {
        "id": "X7lvshsKKt5s",
        "colab_type": "code",
        "outputId": "d7be3f2e-7ab6-41a8-f1f8-d22528c4f591",
        "colab": {
          "base_uri": "https://localhost:8080/",
          "height": 481
        }
      },
      "cell_type": "code",
      "source": [
        "voting_data.describe(include=\"all\")"
      ],
      "execution_count": 0,
      "outputs": [
        {
          "output_type": "execute_result",
          "data": {
            "text/html": [
              "<div>\n",
              "<style scoped>\n",
              "    .dataframe tbody tr th:only-of-type {\n",
              "        vertical-align: middle;\n",
              "    }\n",
              "\n",
              "    .dataframe tbody tr th {\n",
              "        vertical-align: top;\n",
              "    }\n",
              "\n",
              "    .dataframe thead th {\n",
              "        text-align: right;\n",
              "    }\n",
              "</style>\n",
              "<table border=\"1\" class=\"dataframe\">\n",
              "  <thead>\n",
              "    <tr style=\"text-align: right;\">\n",
              "      <th></th>\n",
              "      <th>Class</th>\n",
              "      <th>handicapped-infants</th>\n",
              "      <th>water-project-cost-sharing</th>\n",
              "      <th>adoption-of-the-budget-resolution</th>\n",
              "      <th>physician-fee-freeze</th>\n",
              "      <th>el-salvador-aid</th>\n",
              "      <th>religious-groups-in-schools</th>\n",
              "      <th>anti-satellite-test-ban</th>\n",
              "      <th>aid-to-nicaraguan-contras</th>\n",
              "      <th>mx-missile</th>\n",
              "      <th>immigration</th>\n",
              "      <th>synfuels-corporation-cutback</th>\n",
              "      <th>education-spending</th>\n",
              "      <th>superfund-right-to-sue</th>\n",
              "      <th>crime</th>\n",
              "      <th>duty-free-exports</th>\n",
              "      <th>export-administration-act-south-africa</th>\n",
              "    </tr>\n",
              "  </thead>\n",
              "  <tbody>\n",
              "    <tr>\n",
              "      <th>count</th>\n",
              "      <td>435</td>\n",
              "      <td>435.000000</td>\n",
              "      <td>435.000000</td>\n",
              "      <td>435.000000</td>\n",
              "      <td>435.000000</td>\n",
              "      <td>435.000000</td>\n",
              "      <td>435.000000</td>\n",
              "      <td>435.000000</td>\n",
              "      <td>435.000000</td>\n",
              "      <td>435.000000</td>\n",
              "      <td>435.000000</td>\n",
              "      <td>435.000000</td>\n",
              "      <td>435.000000</td>\n",
              "      <td>435.000000</td>\n",
              "      <td>435.000000</td>\n",
              "      <td>435.000000</td>\n",
              "      <td>435.000000</td>\n",
              "    </tr>\n",
              "    <tr>\n",
              "      <th>unique</th>\n",
              "      <td>2</td>\n",
              "      <td>NaN</td>\n",
              "      <td>NaN</td>\n",
              "      <td>NaN</td>\n",
              "      <td>NaN</td>\n",
              "      <td>NaN</td>\n",
              "      <td>NaN</td>\n",
              "      <td>NaN</td>\n",
              "      <td>NaN</td>\n",
              "      <td>NaN</td>\n",
              "      <td>NaN</td>\n",
              "      <td>NaN</td>\n",
              "      <td>NaN</td>\n",
              "      <td>NaN</td>\n",
              "      <td>NaN</td>\n",
              "      <td>NaN</td>\n",
              "      <td>NaN</td>\n",
              "    </tr>\n",
              "    <tr>\n",
              "      <th>top</th>\n",
              "      <td>D</td>\n",
              "      <td>NaN</td>\n",
              "      <td>NaN</td>\n",
              "      <td>NaN</td>\n",
              "      <td>NaN</td>\n",
              "      <td>NaN</td>\n",
              "      <td>NaN</td>\n",
              "      <td>NaN</td>\n",
              "      <td>NaN</td>\n",
              "      <td>NaN</td>\n",
              "      <td>NaN</td>\n",
              "      <td>NaN</td>\n",
              "      <td>NaN</td>\n",
              "      <td>NaN</td>\n",
              "      <td>NaN</td>\n",
              "      <td>NaN</td>\n",
              "      <td>NaN</td>\n",
              "    </tr>\n",
              "    <tr>\n",
              "      <th>freq</th>\n",
              "      <td>267</td>\n",
              "      <td>NaN</td>\n",
              "      <td>NaN</td>\n",
              "      <td>NaN</td>\n",
              "      <td>NaN</td>\n",
              "      <td>NaN</td>\n",
              "      <td>NaN</td>\n",
              "      <td>NaN</td>\n",
              "      <td>NaN</td>\n",
              "      <td>NaN</td>\n",
              "      <td>NaN</td>\n",
              "      <td>NaN</td>\n",
              "      <td>NaN</td>\n",
              "      <td>NaN</td>\n",
              "      <td>NaN</td>\n",
              "      <td>NaN</td>\n",
              "      <td>NaN</td>\n",
              "    </tr>\n",
              "    <tr>\n",
              "      <th>mean</th>\n",
              "      <td>NaN</td>\n",
              "      <td>-0.112644</td>\n",
              "      <td>0.006897</td>\n",
              "      <td>0.188506</td>\n",
              "      <td>-0.160920</td>\n",
              "      <td>0.009195</td>\n",
              "      <td>0.275862</td>\n",
              "      <td>0.131034</td>\n",
              "      <td>0.147126</td>\n",
              "      <td>0.002299</td>\n",
              "      <td>0.009195</td>\n",
              "      <td>-0.262069</td>\n",
              "      <td>-0.142529</td>\n",
              "      <td>0.018391</td>\n",
              "      <td>0.179310</td>\n",
              "      <td>-0.135632</td>\n",
              "      <td>0.475862</td>\n",
              "    </tr>\n",
              "    <tr>\n",
              "      <th>std</th>\n",
              "      <td>NaN</td>\n",
              "      <td>0.980784</td>\n",
              "      <td>0.944276</td>\n",
              "      <td>0.970228</td>\n",
              "      <td>0.975194</td>\n",
              "      <td>0.983696</td>\n",
              "      <td>0.949043</td>\n",
              "      <td>0.976133</td>\n",
              "      <td>0.972649</td>\n",
              "      <td>0.975504</td>\n",
              "      <td>0.993021</td>\n",
              "      <td>0.940786</td>\n",
              "      <td>0.954209</td>\n",
              "      <td>0.971783</td>\n",
              "      <td>0.964835</td>\n",
              "      <td>0.958827</td>\n",
              "      <td>0.731920</td>\n",
              "    </tr>\n",
              "    <tr>\n",
              "      <th>min</th>\n",
              "      <td>NaN</td>\n",
              "      <td>-1.000000</td>\n",
              "      <td>-1.000000</td>\n",
              "      <td>-1.000000</td>\n",
              "      <td>-1.000000</td>\n",
              "      <td>-1.000000</td>\n",
              "      <td>-1.000000</td>\n",
              "      <td>-1.000000</td>\n",
              "      <td>-1.000000</td>\n",
              "      <td>-1.000000</td>\n",
              "      <td>-1.000000</td>\n",
              "      <td>-1.000000</td>\n",
              "      <td>-1.000000</td>\n",
              "      <td>-1.000000</td>\n",
              "      <td>-1.000000</td>\n",
              "      <td>-1.000000</td>\n",
              "      <td>-1.000000</td>\n",
              "    </tr>\n",
              "    <tr>\n",
              "      <th>25%</th>\n",
              "      <td>NaN</td>\n",
              "      <td>-1.000000</td>\n",
              "      <td>-1.000000</td>\n",
              "      <td>-1.000000</td>\n",
              "      <td>-1.000000</td>\n",
              "      <td>-1.000000</td>\n",
              "      <td>-1.000000</td>\n",
              "      <td>-1.000000</td>\n",
              "      <td>-1.000000</td>\n",
              "      <td>-1.000000</td>\n",
              "      <td>-1.000000</td>\n",
              "      <td>-1.000000</td>\n",
              "      <td>-1.000000</td>\n",
              "      <td>-1.000000</td>\n",
              "      <td>-1.000000</td>\n",
              "      <td>-1.000000</td>\n",
              "      <td>0.000000</td>\n",
              "    </tr>\n",
              "    <tr>\n",
              "      <th>50%</th>\n",
              "      <td>NaN</td>\n",
              "      <td>-1.000000</td>\n",
              "      <td>0.000000</td>\n",
              "      <td>1.000000</td>\n",
              "      <td>-1.000000</td>\n",
              "      <td>0.000000</td>\n",
              "      <td>1.000000</td>\n",
              "      <td>1.000000</td>\n",
              "      <td>1.000000</td>\n",
              "      <td>0.000000</td>\n",
              "      <td>0.000000</td>\n",
              "      <td>-1.000000</td>\n",
              "      <td>-1.000000</td>\n",
              "      <td>0.000000</td>\n",
              "      <td>1.000000</td>\n",
              "      <td>-1.000000</td>\n",
              "      <td>1.000000</td>\n",
              "    </tr>\n",
              "    <tr>\n",
              "      <th>75%</th>\n",
              "      <td>NaN</td>\n",
              "      <td>1.000000</td>\n",
              "      <td>1.000000</td>\n",
              "      <td>1.000000</td>\n",
              "      <td>1.000000</td>\n",
              "      <td>1.000000</td>\n",
              "      <td>1.000000</td>\n",
              "      <td>1.000000</td>\n",
              "      <td>1.000000</td>\n",
              "      <td>1.000000</td>\n",
              "      <td>1.000000</td>\n",
              "      <td>1.000000</td>\n",
              "      <td>1.000000</td>\n",
              "      <td>1.000000</td>\n",
              "      <td>1.000000</td>\n",
              "      <td>1.000000</td>\n",
              "      <td>1.000000</td>\n",
              "    </tr>\n",
              "    <tr>\n",
              "      <th>max</th>\n",
              "      <td>NaN</td>\n",
              "      <td>1.000000</td>\n",
              "      <td>1.000000</td>\n",
              "      <td>1.000000</td>\n",
              "      <td>1.000000</td>\n",
              "      <td>1.000000</td>\n",
              "      <td>1.000000</td>\n",
              "      <td>1.000000</td>\n",
              "      <td>1.000000</td>\n",
              "      <td>1.000000</td>\n",
              "      <td>1.000000</td>\n",
              "      <td>1.000000</td>\n",
              "      <td>1.000000</td>\n",
              "      <td>1.000000</td>\n",
              "      <td>1.000000</td>\n",
              "      <td>1.000000</td>\n",
              "      <td>1.000000</td>\n",
              "    </tr>\n",
              "  </tbody>\n",
              "</table>\n",
              "</div>"
            ],
            "text/plain": [
              "       Class  handicapped-infants  water-project-cost-sharing  \\\n",
              "count    435           435.000000                  435.000000   \n",
              "unique     2                  NaN                         NaN   \n",
              "top        D                  NaN                         NaN   \n",
              "freq     267                  NaN                         NaN   \n",
              "mean     NaN            -0.112644                    0.006897   \n",
              "std      NaN             0.980784                    0.944276   \n",
              "min      NaN            -1.000000                   -1.000000   \n",
              "25%      NaN            -1.000000                   -1.000000   \n",
              "50%      NaN            -1.000000                    0.000000   \n",
              "75%      NaN             1.000000                    1.000000   \n",
              "max      NaN             1.000000                    1.000000   \n",
              "\n",
              "        adoption-of-the-budget-resolution  physician-fee-freeze  \\\n",
              "count                          435.000000            435.000000   \n",
              "unique                                NaN                   NaN   \n",
              "top                                   NaN                   NaN   \n",
              "freq                                  NaN                   NaN   \n",
              "mean                             0.188506             -0.160920   \n",
              "std                              0.970228              0.975194   \n",
              "min                             -1.000000             -1.000000   \n",
              "25%                             -1.000000             -1.000000   \n",
              "50%                              1.000000             -1.000000   \n",
              "75%                              1.000000              1.000000   \n",
              "max                              1.000000              1.000000   \n",
              "\n",
              "        el-salvador-aid  religious-groups-in-schools  anti-satellite-test-ban  \\\n",
              "count        435.000000                   435.000000               435.000000   \n",
              "unique              NaN                          NaN                      NaN   \n",
              "top                 NaN                          NaN                      NaN   \n",
              "freq                NaN                          NaN                      NaN   \n",
              "mean           0.009195                     0.275862                 0.131034   \n",
              "std            0.983696                     0.949043                 0.976133   \n",
              "min           -1.000000                    -1.000000                -1.000000   \n",
              "25%           -1.000000                    -1.000000                -1.000000   \n",
              "50%            0.000000                     1.000000                 1.000000   \n",
              "75%            1.000000                     1.000000                 1.000000   \n",
              "max            1.000000                     1.000000                 1.000000   \n",
              "\n",
              "        aid-to-nicaraguan-contras  mx-missile  immigration  \\\n",
              "count                  435.000000  435.000000   435.000000   \n",
              "unique                        NaN         NaN          NaN   \n",
              "top                           NaN         NaN          NaN   \n",
              "freq                          NaN         NaN          NaN   \n",
              "mean                     0.147126    0.002299     0.009195   \n",
              "std                      0.972649    0.975504     0.993021   \n",
              "min                     -1.000000   -1.000000    -1.000000   \n",
              "25%                     -1.000000   -1.000000    -1.000000   \n",
              "50%                      1.000000    0.000000     0.000000   \n",
              "75%                      1.000000    1.000000     1.000000   \n",
              "max                      1.000000    1.000000     1.000000   \n",
              "\n",
              "        synfuels-corporation-cutback  education-spending  \\\n",
              "count                     435.000000          435.000000   \n",
              "unique                           NaN                 NaN   \n",
              "top                              NaN                 NaN   \n",
              "freq                             NaN                 NaN   \n",
              "mean                       -0.262069           -0.142529   \n",
              "std                         0.940786            0.954209   \n",
              "min                        -1.000000           -1.000000   \n",
              "25%                        -1.000000           -1.000000   \n",
              "50%                        -1.000000           -1.000000   \n",
              "75%                         1.000000            1.000000   \n",
              "max                         1.000000            1.000000   \n",
              "\n",
              "        superfund-right-to-sue       crime  duty-free-exports  \\\n",
              "count               435.000000  435.000000         435.000000   \n",
              "unique                     NaN         NaN                NaN   \n",
              "top                        NaN         NaN                NaN   \n",
              "freq                       NaN         NaN                NaN   \n",
              "mean                  0.018391    0.179310          -0.135632   \n",
              "std                   0.971783    0.964835           0.958827   \n",
              "min                  -1.000000   -1.000000          -1.000000   \n",
              "25%                  -1.000000   -1.000000          -1.000000   \n",
              "50%                   0.000000    1.000000          -1.000000   \n",
              "75%                   1.000000    1.000000           1.000000   \n",
              "max                   1.000000    1.000000           1.000000   \n",
              "\n",
              "        export-administration-act-south-africa  \n",
              "count                               435.000000  \n",
              "unique                                     NaN  \n",
              "top                                        NaN  \n",
              "freq                                       NaN  \n",
              "mean                                  0.475862  \n",
              "std                                   0.731920  \n",
              "min                                  -1.000000  \n",
              "25%                                   0.000000  \n",
              "50%                                   1.000000  \n",
              "75%                                   1.000000  \n",
              "max                                   1.000000  "
            ]
          },
          "metadata": {
            "tags": []
          },
          "execution_count": 183
        }
      ]
    },
    {
      "metadata": {
        "id": "EmEGnQzuTCJN",
        "colab_type": "code",
        "outputId": "5679d3a0-a9a7-4401-cfac-c8e5311b2c91",
        "colab": {
          "base_uri": "https://localhost:8080/",
          "height": 388
        }
      },
      "cell_type": "code",
      "source": [
        "voting_data_R = voting_data[voting_data['Class'] == 'R'].drop('Class', axis = 1)\n",
        "voting_data_D = voting_data[voting_data['Class'] == 'D'].drop('Class', axis = 1)\n",
        "voting_data_R.describe(include=\"all\")"
      ],
      "execution_count": 10,
      "outputs": [
        {
          "output_type": "execute_result",
          "data": {
            "text/html": [
              "<div>\n",
              "<style scoped>\n",
              "    .dataframe tbody tr th:only-of-type {\n",
              "        vertical-align: middle;\n",
              "    }\n",
              "\n",
              "    .dataframe tbody tr th {\n",
              "        vertical-align: top;\n",
              "    }\n",
              "\n",
              "    .dataframe thead th {\n",
              "        text-align: right;\n",
              "    }\n",
              "</style>\n",
              "<table border=\"1\" class=\"dataframe\">\n",
              "  <thead>\n",
              "    <tr style=\"text-align: right;\">\n",
              "      <th></th>\n",
              "      <th>handicapped-infants</th>\n",
              "      <th>water-project-cost-sharing</th>\n",
              "      <th>adoption-of-the-budget-resolution</th>\n",
              "      <th>physician-fee-freeze</th>\n",
              "      <th>el-salvador-aid</th>\n",
              "      <th>religious-groups-in-schools</th>\n",
              "      <th>anti-satellite-test-ban</th>\n",
              "      <th>aid-to-nicaraguan-contras</th>\n",
              "      <th>mx-missile</th>\n",
              "      <th>immigration</th>\n",
              "      <th>synfuels-corporation-cutback</th>\n",
              "      <th>education-spending</th>\n",
              "      <th>superfund-right-to-sue</th>\n",
              "      <th>crime</th>\n",
              "      <th>duty-free-exports</th>\n",
              "      <th>export-administration-act-south-africa</th>\n",
              "    </tr>\n",
              "  </thead>\n",
              "  <tbody>\n",
              "    <tr>\n",
              "      <th>count</th>\n",
              "      <td>168.000000</td>\n",
              "      <td>168.000000</td>\n",
              "      <td>168.000000</td>\n",
              "      <td>168.000000</td>\n",
              "      <td>168.000000</td>\n",
              "      <td>168.000000</td>\n",
              "      <td>168.000000</td>\n",
              "      <td>168.00000</td>\n",
              "      <td>168.000000</td>\n",
              "      <td>168.000000</td>\n",
              "      <td>168.000000</td>\n",
              "      <td>168.000000</td>\n",
              "      <td>168.000000</td>\n",
              "      <td>168.000000</td>\n",
              "      <td>168.000000</td>\n",
              "      <td>168.000000</td>\n",
              "    </tr>\n",
              "    <tr>\n",
              "      <th>mean</th>\n",
              "      <td>-0.613095</td>\n",
              "      <td>0.011905</td>\n",
              "      <td>-0.714286</td>\n",
              "      <td>0.958333</td>\n",
              "      <td>0.886905</td>\n",
              "      <td>0.785714</td>\n",
              "      <td>-0.500000</td>\n",
              "      <td>-0.64881</td>\n",
              "      <td>-0.755952</td>\n",
              "      <td>0.113095</td>\n",
              "      <td>-0.696429</td>\n",
              "      <td>0.684524</td>\n",
              "      <td>0.678571</td>\n",
              "      <td>0.922619</td>\n",
              "      <td>-0.761905</td>\n",
              "      <td>0.273810</td>\n",
              "    </tr>\n",
              "    <tr>\n",
              "      <th>std</th>\n",
              "      <td>0.780953</td>\n",
              "      <td>0.941321</td>\n",
              "      <td>0.684673</td>\n",
              "      <td>0.253223</td>\n",
              "      <td>0.443524</td>\n",
              "      <td>0.610711</td>\n",
              "      <td>0.847681</td>\n",
              "      <td>0.71878</td>\n",
              "      <td>0.642758</td>\n",
              "      <td>0.987500</td>\n",
              "      <td>0.681307</td>\n",
              "      <td>0.675844</td>\n",
              "      <td>0.694904</td>\n",
              "      <td>0.328251</td>\n",
              "      <td>0.591741</td>\n",
              "      <td>0.893773</td>\n",
              "    </tr>\n",
              "    <tr>\n",
              "      <th>min</th>\n",
              "      <td>-1.000000</td>\n",
              "      <td>-1.000000</td>\n",
              "      <td>-1.000000</td>\n",
              "      <td>-1.000000</td>\n",
              "      <td>-1.000000</td>\n",
              "      <td>-1.000000</td>\n",
              "      <td>-1.000000</td>\n",
              "      <td>-1.00000</td>\n",
              "      <td>-1.000000</td>\n",
              "      <td>-1.000000</td>\n",
              "      <td>-1.000000</td>\n",
              "      <td>-1.000000</td>\n",
              "      <td>-1.000000</td>\n",
              "      <td>-1.000000</td>\n",
              "      <td>-1.000000</td>\n",
              "      <td>-1.000000</td>\n",
              "    </tr>\n",
              "    <tr>\n",
              "      <th>25%</th>\n",
              "      <td>-1.000000</td>\n",
              "      <td>-1.000000</td>\n",
              "      <td>-1.000000</td>\n",
              "      <td>1.000000</td>\n",
              "      <td>1.000000</td>\n",
              "      <td>1.000000</td>\n",
              "      <td>-1.000000</td>\n",
              "      <td>-1.00000</td>\n",
              "      <td>-1.000000</td>\n",
              "      <td>-1.000000</td>\n",
              "      <td>-1.000000</td>\n",
              "      <td>1.000000</td>\n",
              "      <td>1.000000</td>\n",
              "      <td>1.000000</td>\n",
              "      <td>-1.000000</td>\n",
              "      <td>-1.000000</td>\n",
              "    </tr>\n",
              "    <tr>\n",
              "      <th>50%</th>\n",
              "      <td>-1.000000</td>\n",
              "      <td>0.000000</td>\n",
              "      <td>-1.000000</td>\n",
              "      <td>1.000000</td>\n",
              "      <td>1.000000</td>\n",
              "      <td>1.000000</td>\n",
              "      <td>-1.000000</td>\n",
              "      <td>-1.00000</td>\n",
              "      <td>-1.000000</td>\n",
              "      <td>1.000000</td>\n",
              "      <td>-1.000000</td>\n",
              "      <td>1.000000</td>\n",
              "      <td>1.000000</td>\n",
              "      <td>1.000000</td>\n",
              "      <td>-1.000000</td>\n",
              "      <td>1.000000</td>\n",
              "    </tr>\n",
              "    <tr>\n",
              "      <th>75%</th>\n",
              "      <td>-1.000000</td>\n",
              "      <td>1.000000</td>\n",
              "      <td>-1.000000</td>\n",
              "      <td>1.000000</td>\n",
              "      <td>1.000000</td>\n",
              "      <td>1.000000</td>\n",
              "      <td>0.000000</td>\n",
              "      <td>-1.00000</td>\n",
              "      <td>-1.000000</td>\n",
              "      <td>1.000000</td>\n",
              "      <td>-1.000000</td>\n",
              "      <td>1.000000</td>\n",
              "      <td>1.000000</td>\n",
              "      <td>1.000000</td>\n",
              "      <td>-1.000000</td>\n",
              "      <td>1.000000</td>\n",
              "    </tr>\n",
              "    <tr>\n",
              "      <th>max</th>\n",
              "      <td>1.000000</td>\n",
              "      <td>1.000000</td>\n",
              "      <td>1.000000</td>\n",
              "      <td>1.000000</td>\n",
              "      <td>1.000000</td>\n",
              "      <td>1.000000</td>\n",
              "      <td>1.000000</td>\n",
              "      <td>1.00000</td>\n",
              "      <td>1.000000</td>\n",
              "      <td>1.000000</td>\n",
              "      <td>1.000000</td>\n",
              "      <td>1.000000</td>\n",
              "      <td>1.000000</td>\n",
              "      <td>1.000000</td>\n",
              "      <td>1.000000</td>\n",
              "      <td>1.000000</td>\n",
              "    </tr>\n",
              "  </tbody>\n",
              "</table>\n",
              "</div>"
            ],
            "text/plain": [
              "       handicapped-infants  water-project-cost-sharing  \\\n",
              "count           168.000000                  168.000000   \n",
              "mean             -0.613095                    0.011905   \n",
              "std               0.780953                    0.941321   \n",
              "min              -1.000000                   -1.000000   \n",
              "25%              -1.000000                   -1.000000   \n",
              "50%              -1.000000                    0.000000   \n",
              "75%              -1.000000                    1.000000   \n",
              "max               1.000000                    1.000000   \n",
              "\n",
              "       adoption-of-the-budget-resolution  physician-fee-freeze  \\\n",
              "count                         168.000000            168.000000   \n",
              "mean                           -0.714286              0.958333   \n",
              "std                             0.684673              0.253223   \n",
              "min                            -1.000000             -1.000000   \n",
              "25%                            -1.000000              1.000000   \n",
              "50%                            -1.000000              1.000000   \n",
              "75%                            -1.000000              1.000000   \n",
              "max                             1.000000              1.000000   \n",
              "\n",
              "       el-salvador-aid  religious-groups-in-schools  anti-satellite-test-ban  \\\n",
              "count       168.000000                   168.000000               168.000000   \n",
              "mean          0.886905                     0.785714                -0.500000   \n",
              "std           0.443524                     0.610711                 0.847681   \n",
              "min          -1.000000                    -1.000000                -1.000000   \n",
              "25%           1.000000                     1.000000                -1.000000   \n",
              "50%           1.000000                     1.000000                -1.000000   \n",
              "75%           1.000000                     1.000000                 0.000000   \n",
              "max           1.000000                     1.000000                 1.000000   \n",
              "\n",
              "       aid-to-nicaraguan-contras  mx-missile  immigration  \\\n",
              "count                  168.00000  168.000000   168.000000   \n",
              "mean                    -0.64881   -0.755952     0.113095   \n",
              "std                      0.71878    0.642758     0.987500   \n",
              "min                     -1.00000   -1.000000    -1.000000   \n",
              "25%                     -1.00000   -1.000000    -1.000000   \n",
              "50%                     -1.00000   -1.000000     1.000000   \n",
              "75%                     -1.00000   -1.000000     1.000000   \n",
              "max                      1.00000    1.000000     1.000000   \n",
              "\n",
              "       synfuels-corporation-cutback  education-spending  \\\n",
              "count                    168.000000          168.000000   \n",
              "mean                      -0.696429            0.684524   \n",
              "std                        0.681307            0.675844   \n",
              "min                       -1.000000           -1.000000   \n",
              "25%                       -1.000000            1.000000   \n",
              "50%                       -1.000000            1.000000   \n",
              "75%                       -1.000000            1.000000   \n",
              "max                        1.000000            1.000000   \n",
              "\n",
              "       superfund-right-to-sue       crime  duty-free-exports  \\\n",
              "count              168.000000  168.000000         168.000000   \n",
              "mean                 0.678571    0.922619          -0.761905   \n",
              "std                  0.694904    0.328251           0.591741   \n",
              "min                 -1.000000   -1.000000          -1.000000   \n",
              "25%                  1.000000    1.000000          -1.000000   \n",
              "50%                  1.000000    1.000000          -1.000000   \n",
              "75%                  1.000000    1.000000          -1.000000   \n",
              "max                  1.000000    1.000000           1.000000   \n",
              "\n",
              "       export-administration-act-south-africa  \n",
              "count                              168.000000  \n",
              "mean                                 0.273810  \n",
              "std                                  0.893773  \n",
              "min                                 -1.000000  \n",
              "25%                                 -1.000000  \n",
              "50%                                  1.000000  \n",
              "75%                                  1.000000  \n",
              "max                                  1.000000  "
            ]
          },
          "metadata": {
            "tags": []
          },
          "execution_count": 10
        }
      ]
    },
    {
      "metadata": {
        "id": "8AL1RviWTYPk",
        "colab_type": "code",
        "outputId": "4059a3a3-842d-4339-c057-8f9e0dac22ed",
        "colab": {
          "base_uri": "https://localhost:8080/",
          "height": 388
        }
      },
      "cell_type": "code",
      "source": [
        "voting_data_D.describe(include=\"all\")"
      ],
      "execution_count": 0,
      "outputs": [
        {
          "output_type": "execute_result",
          "data": {
            "text/html": [
              "<div>\n",
              "<style scoped>\n",
              "    .dataframe tbody tr th:only-of-type {\n",
              "        vertical-align: middle;\n",
              "    }\n",
              "\n",
              "    .dataframe tbody tr th {\n",
              "        vertical-align: top;\n",
              "    }\n",
              "\n",
              "    .dataframe thead th {\n",
              "        text-align: right;\n",
              "    }\n",
              "</style>\n",
              "<table border=\"1\" class=\"dataframe\">\n",
              "  <thead>\n",
              "    <tr style=\"text-align: right;\">\n",
              "      <th></th>\n",
              "      <th>handicapped-infants</th>\n",
              "      <th>water-project-cost-sharing</th>\n",
              "      <th>adoption-of-the-budget-resolution</th>\n",
              "      <th>physician-fee-freeze</th>\n",
              "      <th>el-salvador-aid</th>\n",
              "      <th>religious-groups-in-schools</th>\n",
              "      <th>anti-satellite-test-ban</th>\n",
              "      <th>aid-to-nicaraguan-contras</th>\n",
              "      <th>mx-missile</th>\n",
              "      <th>immigration</th>\n",
              "      <th>synfuels-corporation-cutback</th>\n",
              "      <th>education-spending</th>\n",
              "      <th>superfund-right-to-sue</th>\n",
              "      <th>crime</th>\n",
              "      <th>duty-free-exports</th>\n",
              "      <th>export-administration-act-south-africa</th>\n",
              "    </tr>\n",
              "  </thead>\n",
              "  <tbody>\n",
              "    <tr>\n",
              "      <th>count</th>\n",
              "      <td>267.000000</td>\n",
              "      <td>267.000000</td>\n",
              "      <td>267.000000</td>\n",
              "      <td>267.000000</td>\n",
              "      <td>267.000000</td>\n",
              "      <td>267.000000</td>\n",
              "      <td>267.000000</td>\n",
              "      <td>267.000000</td>\n",
              "      <td>267.000000</td>\n",
              "      <td>267.000000</td>\n",
              "      <td>267.000000</td>\n",
              "      <td>267.000000</td>\n",
              "      <td>267.000000</td>\n",
              "      <td>267.000000</td>\n",
              "      <td>267.000000</td>\n",
              "      <td>267.000000</td>\n",
              "    </tr>\n",
              "    <tr>\n",
              "      <th>mean</th>\n",
              "      <td>0.202247</td>\n",
              "      <td>0.003745</td>\n",
              "      <td>0.756554</td>\n",
              "      <td>-0.865169</td>\n",
              "      <td>-0.543071</td>\n",
              "      <td>-0.044944</td>\n",
              "      <td>0.528090</td>\n",
              "      <td>0.647940</td>\n",
              "      <td>0.479401</td>\n",
              "      <td>-0.056180</td>\n",
              "      <td>0.011236</td>\n",
              "      <td>-0.662921</td>\n",
              "      <td>-0.397004</td>\n",
              "      <td>-0.288390</td>\n",
              "      <td>0.258427</td>\n",
              "      <td>0.602996</td>\n",
              "    </tr>\n",
              "    <tr>\n",
              "      <th>std</th>\n",
              "      <td>0.963778</td>\n",
              "      <td>0.947883</td>\n",
              "      <td>0.634758</td>\n",
              "      <td>0.471544</td>\n",
              "      <td>0.814010</td>\n",
              "      <td>0.983818</td>\n",
              "      <td>0.832921</td>\n",
              "      <td>0.753205</td>\n",
              "      <td>0.837641</td>\n",
              "      <td>0.992751</td>\n",
              "      <td>0.979040</td>\n",
              "      <td>0.703543</td>\n",
              "      <td>0.888349</td>\n",
              "      <td>0.939513</td>\n",
              "      <td>0.936255</td>\n",
              "      <td>0.574906</td>\n",
              "    </tr>\n",
              "    <tr>\n",
              "      <th>min</th>\n",
              "      <td>-1.000000</td>\n",
              "      <td>-1.000000</td>\n",
              "      <td>-1.000000</td>\n",
              "      <td>-1.000000</td>\n",
              "      <td>-1.000000</td>\n",
              "      <td>-1.000000</td>\n",
              "      <td>-1.000000</td>\n",
              "      <td>-1.000000</td>\n",
              "      <td>-1.000000</td>\n",
              "      <td>-1.000000</td>\n",
              "      <td>-1.000000</td>\n",
              "      <td>-1.000000</td>\n",
              "      <td>-1.000000</td>\n",
              "      <td>-1.000000</td>\n",
              "      <td>-1.000000</td>\n",
              "      <td>-1.000000</td>\n",
              "    </tr>\n",
              "    <tr>\n",
              "      <th>25%</th>\n",
              "      <td>-1.000000</td>\n",
              "      <td>-1.000000</td>\n",
              "      <td>1.000000</td>\n",
              "      <td>-1.000000</td>\n",
              "      <td>-1.000000</td>\n",
              "      <td>-1.000000</td>\n",
              "      <td>0.500000</td>\n",
              "      <td>1.000000</td>\n",
              "      <td>0.000000</td>\n",
              "      <td>-1.000000</td>\n",
              "      <td>-1.000000</td>\n",
              "      <td>-1.000000</td>\n",
              "      <td>-1.000000</td>\n",
              "      <td>-1.000000</td>\n",
              "      <td>-1.000000</td>\n",
              "      <td>0.000000</td>\n",
              "    </tr>\n",
              "    <tr>\n",
              "      <th>50%</th>\n",
              "      <td>1.000000</td>\n",
              "      <td>0.000000</td>\n",
              "      <td>1.000000</td>\n",
              "      <td>-1.000000</td>\n",
              "      <td>-1.000000</td>\n",
              "      <td>-1.000000</td>\n",
              "      <td>1.000000</td>\n",
              "      <td>1.000000</td>\n",
              "      <td>1.000000</td>\n",
              "      <td>-1.000000</td>\n",
              "      <td>0.000000</td>\n",
              "      <td>-1.000000</td>\n",
              "      <td>-1.000000</td>\n",
              "      <td>-1.000000</td>\n",
              "      <td>1.000000</td>\n",
              "      <td>1.000000</td>\n",
              "    </tr>\n",
              "    <tr>\n",
              "      <th>75%</th>\n",
              "      <td>1.000000</td>\n",
              "      <td>1.000000</td>\n",
              "      <td>1.000000</td>\n",
              "      <td>-1.000000</td>\n",
              "      <td>-0.500000</td>\n",
              "      <td>1.000000</td>\n",
              "      <td>1.000000</td>\n",
              "      <td>1.000000</td>\n",
              "      <td>1.000000</td>\n",
              "      <td>1.000000</td>\n",
              "      <td>1.000000</td>\n",
              "      <td>-1.000000</td>\n",
              "      <td>1.000000</td>\n",
              "      <td>1.000000</td>\n",
              "      <td>1.000000</td>\n",
              "      <td>1.000000</td>\n",
              "    </tr>\n",
              "    <tr>\n",
              "      <th>max</th>\n",
              "      <td>1.000000</td>\n",
              "      <td>1.000000</td>\n",
              "      <td>1.000000</td>\n",
              "      <td>1.000000</td>\n",
              "      <td>1.000000</td>\n",
              "      <td>1.000000</td>\n",
              "      <td>1.000000</td>\n",
              "      <td>1.000000</td>\n",
              "      <td>1.000000</td>\n",
              "      <td>1.000000</td>\n",
              "      <td>1.000000</td>\n",
              "      <td>1.000000</td>\n",
              "      <td>1.000000</td>\n",
              "      <td>1.000000</td>\n",
              "      <td>1.000000</td>\n",
              "      <td>1.000000</td>\n",
              "    </tr>\n",
              "  </tbody>\n",
              "</table>\n",
              "</div>"
            ],
            "text/plain": [
              "       handicapped-infants  water-project-cost-sharing  \\\n",
              "count           267.000000                  267.000000   \n",
              "mean              0.202247                    0.003745   \n",
              "std               0.963778                    0.947883   \n",
              "min              -1.000000                   -1.000000   \n",
              "25%              -1.000000                   -1.000000   \n",
              "50%               1.000000                    0.000000   \n",
              "75%               1.000000                    1.000000   \n",
              "max               1.000000                    1.000000   \n",
              "\n",
              "       adoption-of-the-budget-resolution  physician-fee-freeze  \\\n",
              "count                         267.000000            267.000000   \n",
              "mean                            0.756554             -0.865169   \n",
              "std                             0.634758              0.471544   \n",
              "min                            -1.000000             -1.000000   \n",
              "25%                             1.000000             -1.000000   \n",
              "50%                             1.000000             -1.000000   \n",
              "75%                             1.000000             -1.000000   \n",
              "max                             1.000000              1.000000   \n",
              "\n",
              "       el-salvador-aid  religious-groups-in-schools  anti-satellite-test-ban  \\\n",
              "count       267.000000                   267.000000               267.000000   \n",
              "mean         -0.543071                    -0.044944                 0.528090   \n",
              "std           0.814010                     0.983818                 0.832921   \n",
              "min          -1.000000                    -1.000000                -1.000000   \n",
              "25%          -1.000000                    -1.000000                 0.500000   \n",
              "50%          -1.000000                    -1.000000                 1.000000   \n",
              "75%          -0.500000                     1.000000                 1.000000   \n",
              "max           1.000000                     1.000000                 1.000000   \n",
              "\n",
              "       aid-to-nicaraguan-contras  mx-missile  immigration  \\\n",
              "count                 267.000000  267.000000   267.000000   \n",
              "mean                    0.647940    0.479401    -0.056180   \n",
              "std                     0.753205    0.837641     0.992751   \n",
              "min                    -1.000000   -1.000000    -1.000000   \n",
              "25%                     1.000000    0.000000    -1.000000   \n",
              "50%                     1.000000    1.000000    -1.000000   \n",
              "75%                     1.000000    1.000000     1.000000   \n",
              "max                     1.000000    1.000000     1.000000   \n",
              "\n",
              "       synfuels-corporation-cutback  education-spending  \\\n",
              "count                    267.000000          267.000000   \n",
              "mean                       0.011236           -0.662921   \n",
              "std                        0.979040            0.703543   \n",
              "min                       -1.000000           -1.000000   \n",
              "25%                       -1.000000           -1.000000   \n",
              "50%                        0.000000           -1.000000   \n",
              "75%                        1.000000           -1.000000   \n",
              "max                        1.000000            1.000000   \n",
              "\n",
              "       superfund-right-to-sue       crime  duty-free-exports  \\\n",
              "count              267.000000  267.000000         267.000000   \n",
              "mean                -0.397004   -0.288390           0.258427   \n",
              "std                  0.888349    0.939513           0.936255   \n",
              "min                 -1.000000   -1.000000          -1.000000   \n",
              "25%                 -1.000000   -1.000000          -1.000000   \n",
              "50%                 -1.000000   -1.000000           1.000000   \n",
              "75%                  1.000000    1.000000           1.000000   \n",
              "max                  1.000000    1.000000           1.000000   \n",
              "\n",
              "       export-administration-act-south-africa  \n",
              "count                              267.000000  \n",
              "mean                                 0.602996  \n",
              "std                                  0.574906  \n",
              "min                                 -1.000000  \n",
              "25%                                  0.000000  \n",
              "50%                                  1.000000  \n",
              "75%                                  1.000000  \n",
              "max                                  1.000000  "
            ]
          },
          "metadata": {
            "tags": []
          },
          "execution_count": 185
        }
      ]
    },
    {
      "metadata": {
        "id": "bLP1nNh6I0XZ",
        "colab_type": "code",
        "colab": {
          "base_uri": "https://localhost:8080/",
          "height": 306
        },
        "outputId": "be0b28cc-1377-4623-b769-f36f02b8c404"
      },
      "cell_type": "code",
      "source": [
        "voting_data.drop('Class', axis = 1).sum()"
      ],
      "execution_count": 11,
      "outputs": [
        {
          "output_type": "execute_result",
          "data": {
            "text/plain": [
              "handicapped-infants                       -49\n",
              "water-project-cost-sharing                  3\n",
              "adoption-of-the-budget-resolution          82\n",
              "physician-fee-freeze                      -70\n",
              "el-salvador-aid                             4\n",
              "religious-groups-in-schools               120\n",
              "anti-satellite-test-ban                    57\n",
              "aid-to-nicaraguan-contras                  64\n",
              "mx-missile                                  1\n",
              "immigration                                 4\n",
              "synfuels-corporation-cutback             -114\n",
              "education-spending                        -62\n",
              "superfund-right-to-sue                      8\n",
              "crime                                      78\n",
              "duty-free-exports                         -59\n",
              "export-administration-act-south-africa    207\n",
              "dtype: int64"
            ]
          },
          "metadata": {
            "tags": []
          },
          "execution_count": 11
        }
      ]
    },
    {
      "metadata": {
        "id": "tQRFP1kAaCWA",
        "colab_type": "code",
        "outputId": "92eadf36-3cfa-4793-887d-32df0d8463b6",
        "colab": {
          "base_uri": "https://localhost:8080/",
          "height": 306
        }
      },
      "cell_type": "code",
      "source": [
        "voting_data_D_sum = voting_data_D.sum()\n",
        "voting_data_R_sum = voting_data_R.sum()\n",
        "voting_data_D_sum"
      ],
      "execution_count": 3,
      "outputs": [
        {
          "output_type": "execute_result",
          "data": {
            "text/plain": [
              "handicapped-infants                        54\n",
              "water-project-cost-sharing                  1\n",
              "adoption-of-the-budget-resolution         202\n",
              "physician-fee-freeze                     -231\n",
              "el-salvador-aid                          -145\n",
              "religious-groups-in-schools               -12\n",
              "anti-satellite-test-ban                   141\n",
              "aid-to-nicaraguan-contras                 173\n",
              "mx-missile                                128\n",
              "immigration                               -15\n",
              "synfuels-corporation-cutback                3\n",
              "education-spending                       -177\n",
              "superfund-right-to-sue                   -106\n",
              "crime                                     -77\n",
              "duty-free-exports                          69\n",
              "export-administration-act-south-africa    161\n",
              "dtype: int64"
            ]
          },
          "metadata": {
            "tags": []
          },
          "execution_count": 3
        }
      ]
    },
    {
      "metadata": {
        "id": "2X5o3luPfJgU",
        "colab_type": "code",
        "outputId": "4e621c37-9184-4bcc-e5f2-78900d598986",
        "colab": {
          "base_uri": "https://localhost:8080/",
          "height": 306
        }
      },
      "cell_type": "code",
      "source": [
        "voting_data_R_sum"
      ],
      "execution_count": 4,
      "outputs": [
        {
          "output_type": "execute_result",
          "data": {
            "text/plain": [
              "handicapped-infants                      -103\n",
              "water-project-cost-sharing                  2\n",
              "adoption-of-the-budget-resolution        -120\n",
              "physician-fee-freeze                      161\n",
              "el-salvador-aid                           149\n",
              "religious-groups-in-schools               132\n",
              "anti-satellite-test-ban                   -84\n",
              "aid-to-nicaraguan-contras                -109\n",
              "mx-missile                               -127\n",
              "immigration                                19\n",
              "synfuels-corporation-cutback             -117\n",
              "education-spending                        115\n",
              "superfund-right-to-sue                    114\n",
              "crime                                     155\n",
              "duty-free-exports                        -128\n",
              "export-administration-act-south-africa     46\n",
              "dtype: int64"
            ]
          },
          "metadata": {
            "tags": []
          },
          "execution_count": 4
        }
      ]
    },
    {
      "metadata": {
        "id": "qEbU8Wh2qZer",
        "colab_type": "code",
        "outputId": "154195a4-5be0-4c44-95a0-b641236eea6a",
        "colab": {
          "base_uri": "https://localhost:8080/",
          "height": 561
        }
      },
      "cell_type": "code",
      "source": [
        "for item in vote_names[1:]:\n",
        "#  print(\"==>> Item:\", item)\n",
        "  t_rep, p_rep = scipy.stats.ttest_1samp(voting_data_R[item], 0.0)\n",
        "#  print(\"Republican t-statistic\", t_rep, \", p-value\", p_rep)\n",
        "  t_dem, p_dem = scipy.stats.ttest_1samp(voting_data_D[item], 0.0)\n",
        "#  print(\"Democrat t-statistic\", t_dem, \", p-value\", p_dem)\n",
        "  if (abs(t_dem) - abs(t_rep)) > 0.0 and p_dem < .01:\n",
        "    print(\"Democrats feel stronger about: %-*s\\n\\t\\t==>> t-statistic: %s, p-value: %s\" % (40, item, str(t_dem), str(p_dem)))\n",
        "  elif (abs(t_rep) - abs(t_dem)) > 0.0 and p_rep < .01:\n",
        "    print(\"Republicans feel stronger about: %-*s\\n\\t\\t==>> t-statistic: %s, p-value: %s\" % (38, item, str(t_rep), str(p_rep)))\n",
        "  else:\n",
        "    print(\"Neither Party particularly cares about: %-*s\\n\\t\\t==>> Rep p-value: %s, Dem p-value: %s\" % (35, item, str(p_rep), str(p_dem)))\n",
        "  #print()\n",
        "#print(\"***Abandoning ship 'til I get clarification***\")"
      ],
      "execution_count": 13,
      "outputs": [
        {
          "output_type": "stream",
          "text": [
            "Republicans feel stronger about: handicapped-infants                   \n",
            "\t\t==>> t-statistic: -10.175547000758943, p-value: 3.1600971356609456e-19\n",
            "Neither Party particularly cares about: water-project-cost-sharing         \n",
            "\t\t==>> Rep p-value: 0.8699906420050048, Dem p-value: 0.9485697356183775\n",
            "Democrats feel stronger about: adoption-of-the-budget-resolution       \n",
            "\t\t==>> t-statistic: 19.475459996476694, p-value: 4.119903926520872e-53\n",
            "Republicans feel stronger about: physician-fee-freeze                  \n",
            "\t\t==>> t-statistic: 49.053333953814345, p-value: 4.2285554236275644e-101\n",
            "Republicans feel stronger about: el-salvador-aid                       \n",
            "\t\t==>> t-statistic: 25.91876517339876, p-value: 2.0399242521294114e-60\n",
            "Republicans feel stronger about: religious-groups-in-schools           \n",
            "\t\t==>> t-statistic: 16.67567035088473, p-value: 2.202655643628355e-37\n",
            "Democrats feel stronger about: anti-satellite-test-ban                 \n",
            "\t\t==>> t-statistic: 10.360001908874114, p-value: 2.3812691114050773e-21\n",
            "Democrats feel stronger about: aid-to-nicaraguan-contras               \n",
            "\t\t==>> t-statistic: 14.056510094081581, p-value: 6.1110358969932e-34\n",
            "Republicans feel stronger about: mx-missile                            \n",
            "\t\t==>> t-statistic: -15.244089981191784, p-value: 1.9344524594720074e-33\n",
            "Neither Party particularly cares about: immigration                        \n",
            "\t\t==>> Rep p-value: 0.13957810611844607, Dem p-value: 0.3559660440887372\n",
            "Republicans feel stronger about: synfuels-corporation-cutback          \n",
            "\t\t==>> t-statistic: -13.249167085998355, p-value: 7.604563420239975e-28\n",
            "Democrats feel stronger about: education-spending                      \n",
            "\t\t==>> t-statistic: -15.396666771423314, p-value: 1.1086739971976835e-38\n",
            "Republicans feel stronger about: superfund-right-to-sue                \n",
            "\t\t==>> t-statistic: 12.656845912388905, p-value: 3.5707304341780477e-26\n",
            "Republicans feel stronger about: crime                                 \n",
            "\t\t==>> t-statistic: 36.43098051635081, p-value: 2.2317442645067957e-81\n",
            "Republicans feel stronger about: duty-free-exports                     \n",
            "\t\t==>> t-statistic: -16.688758431364988, p-value: 2.0288951092375116e-37\n",
            "Democrats feel stronger about: export-administration-act-south-africa  \n",
            "\t\t==>> t-statistic: 17.13851323591499, p-value: 7.176256488307584e-45\n"
          ],
          "name": "stdout"
        }
      ]
    },
    {
      "metadata": {
        "id": "4GPkg8zQmEtd",
        "colab_type": "code",
        "outputId": "487a246c-1f07-43ae-d588-0d49d0f1b84f",
        "colab": {
          "base_uri": "https://localhost:8080/",
          "height": 561
        }
      },
      "cell_type": "code",
      "source": [
        "for item in vote_names[1:]:\n",
        "  t_stat, p_val = stats.ttest_ind(voting_data_D[item],\n",
        "                                  voting_data_R[item],\n",
        "                                  equal_var = False)\n",
        "  if p_val < 0.01 and t_stat > 0:\n",
        "    print(\"Democrat Item: %-*s\\n\\t\\t==>> t-statistic: %s, p-value: %s\" % (40, item, str(t_stat), str(p_val)))\n",
        "  elif p_val < 0.01 and t_stat < 0:\n",
        "    print(\"Republican Item: %-*s\\n\\t\\t==>> t-statistic: %s, p-value: %s\" % (38, item, str(t_stat), str(p_val)))\n",
        "  else:\n",
        "    print(\"Neither Party Item: %-*s\\n\\t\\t==>> t-statistic: %s, p-value: %s\" % (35, item, str(t_stat), str(p_val)))\n"
      ],
      "execution_count": 0,
      "outputs": [
        {
          "output_type": "stream",
          "text": [
            "Democrat Item: handicapped-infants                     \n",
            "\t\t==>> t-statistic: 9.67008151827363, p-value: 4.8080980501440723e-20\n",
            "Neither Party Item: water-project-cost-sharing         \n",
            "\t\t==>> t-statistic: -0.08778459765766038, p-value: 0.9300971167247924\n",
            "Democrat Item: adoption-of-the-budget-resolution       \n",
            "\t\t==>> t-statistic: 22.4316868913208, p-value: 1.0895246138864557e-68\n",
            "Republican Item: physician-fee-freeze                  \n",
            "\t\t==>> t-statistic: -52.32559778411111, p-value: 4.570160514553809e-187\n",
            "Republican Item: el-salvador-aid                       \n",
            "\t\t==>> t-statistic: -23.66068387360655, p-value: 1.3486919647068038e-79\n",
            "Republican Item: religious-groups-in-schools           \n",
            "\t\t==>> t-statistic: -10.864884268686287, p-value: 1.7672917900103128e-24\n",
            "Democrat Item: anti-satellite-test-ban                 \n",
            "\t\t==>> t-statistic: 12.398779465196766, p-value: 1.6115605826873661e-29\n",
            "Democrat Item: aid-to-nicaraguan-contras               \n",
            "\t\t==>> t-statistic: 17.98258989268033, p-value: 2.5896445402812338e-52\n",
            "Democrat Item: mx-missile                              \n",
            "\t\t==>> t-statistic: 17.320447917365215, p-value: 5.289474052170907e-51\n",
            "Neither Party Item: immigration                        \n",
            "\t\t==>> t-statistic: -1.7371165678342075, p-value: 0.08323044617307926\n",
            "Democrat Item: synfuels-corporation-cutback            \n",
            "\t\t==>> t-statistic: 8.878515411520276, p-value: 1.869272065956433e-17\n",
            "Republican Item: education-spending                    \n",
            "\t\t==>> t-statistic: -19.926271878585286, p-value: 2.4335290533740925e-60\n",
            "Republican Item: superfund-right-to-sue                \n",
            "\t\t==>> t-statistic: -14.086581704369223, p-value: 4.466419509739219e-37\n",
            "Republican Item: crime                                 \n",
            "\t\t==>> t-statistic: -19.275133905034657, p-value: 2.756616802364248e-57\n",
            "Democrat Item: duty-free-exports                       \n",
            "\t\t==>> t-statistic: 13.92717108382657, p-value: 1.0776202974716244e-36\n",
            "Democrat Item: export-administration-act-south-africa  \n",
            "\t\t==>> t-statistic: 4.2523209584743515, p-value: 2.97374527191073e-05\n"
          ],
          "name": "stdout"
        }
      ]
    },
    {
      "metadata": {
        "id": "AjfzFiSukkG5",
        "colab_type": "text"
      },
      "cell_type": "markdown",
      "source": [
        "# Resources\n",
        "\n",
        "- https://homepage.divms.uiowa.edu/~mbognar/applets/t.html\n",
        "- https://rpsychologist.com/d3/tdist/"
      ]
    }
  ]
}