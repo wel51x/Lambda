{
  "nbformat": 4,
  "nbformat_minor": 0,
  "metadata": {
    "colab": {
      "name": "LS_DS_234_Ridge_Regression.ipynb",
      "version": "0.3.2",
      "provenance": [],
      "collapsed_sections": []
    },
    "kernelspec": {
      "name": "python3",
      "display_name": "Python 3"
    }
  },
  "cells": [
    {
      "metadata": {
        "id": "-eFju4_DDKeX",
        "colab_type": "text"
      },
      "cell_type": "markdown",
      "source": [
        "# Lambda School Data Science - Ridge Regression\n",
        "\n",
        "Regularize your way to a better tomorrow."
      ]
    },
    {
      "metadata": {
        "id": "5v5cBm19JxOj",
        "colab_type": "text"
      },
      "cell_type": "markdown",
      "source": [
        "# Lecture\n",
        "\n",
        "Data science depends on math, and math is generally focused on situations where:\n",
        "\n",
        "1. a solution exists,\n",
        "2. the solution is unique,\n",
        "3. the solution's behavior changes continuously with the initial conditions.\n",
        "\n",
        "These are known as [well-posed problems](https://en.wikipedia.org/wiki/Well-posed_problem), and are the sorts of assumptions so core in traditional techniques that it is easy to forget about them. But they do matter, as there can be exceptions:\n",
        "\n",
        "1. no solution - e.g. no $x$ such that $Ax = b$\n",
        "2. multiple solutions - e.g. several $x_1, x_2, ...$ such that $Ax = b$\n",
        "3. \"chaotic\" systems - situations where small changes in initial conditions interact and reverberate in essentially unpredictable ways - for instance, the difficulty in longterm predictions of weather (N.B. not the same thing as longterm predictions of *climate*) - you can think of this as models that fail to generalize well, because they overfit on the training data (the initial conditions)\n",
        "\n",
        "Problems suffering from the above are called ill-posed problems. Relating to linear algebra and systems of equations, the only truly well-posed problems are those with a single unique solution.\n",
        "\n",
        "![Intersecting lines](https://upload.wikimedia.org/wikipedia/commons/c/c0/Intersecting_Lines.svg)\n",
        "\n",
        "Think for a moment - what would the above plot look like if there was no solution? If there were multiple solutions? And how would that generalize to higher dimensions?\n",
        "\n",
        "A lot of what you covered with linear regression was about getting matrices into the right shape for them to be solvable in this sense. But some matrices just won't submit to this, and other problems may technically \"fit\" linear regression but still be violating the above assumptions in subtle ways.\n",
        "\n",
        "[Overfitting](https://en.wikipedia.org/wiki/Overfitting) is in some ways a special case of this - an overfit model uses more features/parameters than is \"justified\" by the data (essentially by the *dimensionality* of the data, as measured by $n$ the number of observations). As the number of features approaches the number of observations, linear regression still \"works\", but it starts giving fairly perverse results. In particular, it results in a model that fails to *generalize* - and so the core goal of prediction and explanatory power is undermined.\n",
        "\n",
        "How is this related to well and ill-posed problems? It's not clearly a no solution or multiple solution case, but it does fall in the third category - overfitting results in fitting to the \"noise\" in the data, which means the particulars of one random sample or another (different initial conditions )will result in dramatically different models.\n",
        "\n",
        "## Stop and think - what are ways to address these issues?\n",
        "\n",
        "Let's examine in the context of housing data."
      ]
    },
    {
      "metadata": {
        "id": "TDh_Oz9HDHeR",
        "colab_type": "code",
        "outputId": "f3e4d42e-57c0-432b-c369-95522bc37dd3",
        "colab": {
          "base_uri": "https://localhost:8080/",
          "height": 206
        }
      },
      "cell_type": "code",
      "source": [
        "import pandas as pd\n",
        "from sklearn.datasets import load_boston\n",
        "from sklearn.preprocessing import scale\n",
        "\n",
        "boston = load_boston()\n",
        "boston.data = scale(boston.data)  # Very helpful for regularization!\n",
        "df = pd.DataFrame(boston.data, columns=boston.feature_names)\n",
        "df['Price'] = boston.target\n",
        "df.head()"
      ],
      "execution_count": 0,
      "outputs": [
        {
          "output_type": "execute_result",
          "data": {
            "text/html": [
              "<div>\n",
              "<style scoped>\n",
              "    .dataframe tbody tr th:only-of-type {\n",
              "        vertical-align: middle;\n",
              "    }\n",
              "\n",
              "    .dataframe tbody tr th {\n",
              "        vertical-align: top;\n",
              "    }\n",
              "\n",
              "    .dataframe thead th {\n",
              "        text-align: right;\n",
              "    }\n",
              "</style>\n",
              "<table border=\"1\" class=\"dataframe\">\n",
              "  <thead>\n",
              "    <tr style=\"text-align: right;\">\n",
              "      <th></th>\n",
              "      <th>CRIM</th>\n",
              "      <th>ZN</th>\n",
              "      <th>INDUS</th>\n",
              "      <th>CHAS</th>\n",
              "      <th>NOX</th>\n",
              "      <th>RM</th>\n",
              "      <th>AGE</th>\n",
              "      <th>DIS</th>\n",
              "      <th>RAD</th>\n",
              "      <th>TAX</th>\n",
              "      <th>PTRATIO</th>\n",
              "      <th>B</th>\n",
              "      <th>LSTAT</th>\n",
              "      <th>Price</th>\n",
              "    </tr>\n",
              "  </thead>\n",
              "  <tbody>\n",
              "    <tr>\n",
              "      <th>0</th>\n",
              "      <td>-0.419782</td>\n",
              "      <td>0.284830</td>\n",
              "      <td>-1.287909</td>\n",
              "      <td>-0.272599</td>\n",
              "      <td>-0.144217</td>\n",
              "      <td>0.413672</td>\n",
              "      <td>-0.120013</td>\n",
              "      <td>0.140214</td>\n",
              "      <td>-0.982843</td>\n",
              "      <td>-0.666608</td>\n",
              "      <td>-1.459000</td>\n",
              "      <td>0.441052</td>\n",
              "      <td>-1.075562</td>\n",
              "      <td>24.0</td>\n",
              "    </tr>\n",
              "    <tr>\n",
              "      <th>1</th>\n",
              "      <td>-0.417339</td>\n",
              "      <td>-0.487722</td>\n",
              "      <td>-0.593381</td>\n",
              "      <td>-0.272599</td>\n",
              "      <td>-0.740262</td>\n",
              "      <td>0.194274</td>\n",
              "      <td>0.367166</td>\n",
              "      <td>0.557160</td>\n",
              "      <td>-0.867883</td>\n",
              "      <td>-0.987329</td>\n",
              "      <td>-0.303094</td>\n",
              "      <td>0.441052</td>\n",
              "      <td>-0.492439</td>\n",
              "      <td>21.6</td>\n",
              "    </tr>\n",
              "    <tr>\n",
              "      <th>2</th>\n",
              "      <td>-0.417342</td>\n",
              "      <td>-0.487722</td>\n",
              "      <td>-0.593381</td>\n",
              "      <td>-0.272599</td>\n",
              "      <td>-0.740262</td>\n",
              "      <td>1.282714</td>\n",
              "      <td>-0.265812</td>\n",
              "      <td>0.557160</td>\n",
              "      <td>-0.867883</td>\n",
              "      <td>-0.987329</td>\n",
              "      <td>-0.303094</td>\n",
              "      <td>0.396427</td>\n",
              "      <td>-1.208727</td>\n",
              "      <td>34.7</td>\n",
              "    </tr>\n",
              "    <tr>\n",
              "      <th>3</th>\n",
              "      <td>-0.416750</td>\n",
              "      <td>-0.487722</td>\n",
              "      <td>-1.306878</td>\n",
              "      <td>-0.272599</td>\n",
              "      <td>-0.835284</td>\n",
              "      <td>1.016303</td>\n",
              "      <td>-0.809889</td>\n",
              "      <td>1.077737</td>\n",
              "      <td>-0.752922</td>\n",
              "      <td>-1.106115</td>\n",
              "      <td>0.113032</td>\n",
              "      <td>0.416163</td>\n",
              "      <td>-1.361517</td>\n",
              "      <td>33.4</td>\n",
              "    </tr>\n",
              "    <tr>\n",
              "      <th>4</th>\n",
              "      <td>-0.412482</td>\n",
              "      <td>-0.487722</td>\n",
              "      <td>-1.306878</td>\n",
              "      <td>-0.272599</td>\n",
              "      <td>-0.835284</td>\n",
              "      <td>1.228577</td>\n",
              "      <td>-0.511180</td>\n",
              "      <td>1.077737</td>\n",
              "      <td>-0.752922</td>\n",
              "      <td>-1.106115</td>\n",
              "      <td>0.113032</td>\n",
              "      <td>0.441052</td>\n",
              "      <td>-1.026501</td>\n",
              "      <td>36.2</td>\n",
              "    </tr>\n",
              "  </tbody>\n",
              "</table>\n",
              "</div>"
            ],
            "text/plain": [
              "       CRIM        ZN     INDUS      CHAS       NOX        RM       AGE  \\\n",
              "0 -0.419782  0.284830 -1.287909 -0.272599 -0.144217  0.413672 -0.120013   \n",
              "1 -0.417339 -0.487722 -0.593381 -0.272599 -0.740262  0.194274  0.367166   \n",
              "2 -0.417342 -0.487722 -0.593381 -0.272599 -0.740262  1.282714 -0.265812   \n",
              "3 -0.416750 -0.487722 -1.306878 -0.272599 -0.835284  1.016303 -0.809889   \n",
              "4 -0.412482 -0.487722 -1.306878 -0.272599 -0.835284  1.228577 -0.511180   \n",
              "\n",
              "        DIS       RAD       TAX   PTRATIO         B     LSTAT  Price  \n",
              "0  0.140214 -0.982843 -0.666608 -1.459000  0.441052 -1.075562   24.0  \n",
              "1  0.557160 -0.867883 -0.987329 -0.303094  0.441052 -0.492439   21.6  \n",
              "2  0.557160 -0.867883 -0.987329 -0.303094  0.396427 -1.208727   34.7  \n",
              "3  1.077737 -0.752922 -1.106115  0.113032  0.416163 -1.361517   33.4  \n",
              "4  1.077737 -0.752922 -1.106115  0.113032  0.441052 -1.026501   36.2  "
            ]
          },
          "metadata": {
            "tags": []
          },
          "execution_count": 1
        }
      ]
    },
    {
      "metadata": {
        "id": "3u24Yr-SkIhb",
        "colab_type": "code",
        "outputId": "3cc8f97f-96d0-4b08-ced9-e29d1c740a22",
        "colab": {
          "base_uri": "https://localhost:8080/",
          "height": 34
        }
      },
      "cell_type": "code",
      "source": [
        "df.shape"
      ],
      "execution_count": 0,
      "outputs": [
        {
          "output_type": "execute_result",
          "data": {
            "text/plain": [
              "(506, 14)"
            ]
          },
          "metadata": {
            "tags": []
          },
          "execution_count": 2
        }
      ]
    },
    {
      "metadata": {
        "id": "0vlZShpFkll2",
        "colab_type": "code",
        "outputId": "aeeeee4c-8dfc-4b63-e73a-98863358bdbb",
        "colab": {
          "base_uri": "https://localhost:8080/",
          "height": 34
        }
      },
      "cell_type": "code",
      "source": [
        "# Let's try good old least squares!\n",
        "from sklearn.linear_model import LinearRegression\n",
        "from sklearn.metrics import mean_squared_error\n",
        "\n",
        "X = df.drop('Price', axis='columns')\n",
        "y = df.Price\n",
        "\n",
        "lin_reg = LinearRegression().fit(X, y)\n",
        "mean_squared_error(y, lin_reg.predict(X))"
      ],
      "execution_count": 0,
      "outputs": [
        {
          "output_type": "execute_result",
          "data": {
            "text/plain": [
              "21.894831181729206"
            ]
          },
          "metadata": {
            "tags": []
          },
          "execution_count": 3
        }
      ]
    },
    {
      "metadata": {
        "id": "erOFuJKWlTad",
        "colab_type": "text"
      },
      "cell_type": "markdown",
      "source": [
        "That seems like a pretty good score, but...\n",
        "\n",
        "![Kitchen Sink](https://i.imgur.com/ZZxqhT1.jpg)\n",
        "\n",
        "Chances are this doesn't generalize very well. You can verify this by splitting the data to properly test model validity."
      ]
    },
    {
      "metadata": {
        "id": "CG6DZ1UcqbEx",
        "colab_type": "code",
        "outputId": "04af7cd1-5847-4531-b105-32a0cf449dd7",
        "colab": {
          "base_uri": "https://localhost:8080/",
          "height": 52
        }
      },
      "cell_type": "code",
      "source": [
        "from sklearn.model_selection import train_test_split\n",
        "\n",
        "X_train, X_test, y_train, y_test = train_test_split(X, y, random_state=43)\n",
        "lin_reg_split = LinearRegression().fit(X_train, y_train)\n",
        "print(mean_squared_error(y, lin_reg_split.predict(X)))\n",
        "print(mean_squared_error(y_test, lin_reg_split.predict(X_test)))"
      ],
      "execution_count": 0,
      "outputs": [
        {
          "output_type": "stream",
          "text": [
            "22.347018673376052\n",
            "26.273991426429014\n"
          ],
          "name": "stdout"
        }
      ]
    },
    {
      "metadata": {
        "id": "ILHGe53Iqehg",
        "colab_type": "text"
      },
      "cell_type": "markdown",
      "source": [
        "Oops! 💥\n",
        "\n",
        "### What can we do?\n",
        "\n",
        "- Use fewer features - sure, but it can be a lot of work to figure out *which* features, and (in cases like this) there may not be any good reason to really favor some features over another.\n",
        "- Get more data! This is actually a pretty good approach in tech, since apps generate lots of data all the time (and we made this situation by artificially constraining our data). But for case studies, existing data, etc. it won't work.\n",
        "- **Regularize!**\n",
        "\n",
        "## Regularization just means \"add bias\"\n",
        "\n",
        "OK, there's a bit more to it than that. But that's the core intuition - the problem is the model working \"too well\", so fix it by making it harder for the model!\n",
        "\n",
        "It may sound strange - a technique that is purposefully \"worse\" - but in certain situations, it can really get results.\n",
        "\n",
        "What's bias? In the context of statistics and machine learning, bias is when a predictive model fails to identify relationships between features and the output. In a word, bias is *underfitting*.\n",
        "\n",
        "We want to add bias to the model because of the [bias-variance tradeoff](https://en.wikipedia.org/wiki/Bias%E2%80%93variance_tradeoff) - variance is the sensitivity of a model to the random noise in its training data (i.e. *overfitting*), and bias and variance are naturally (inversely) related. Increasing one will always decrease the other, with regards to the overall generalization error (predictive accuracy on unseen data).\n",
        "\n",
        "Visually, the result looks like this:\n",
        "\n",
        "![Regularization example plot](https://upload.wikimedia.org/wikipedia/commons/0/02/Regularization.svg)\n",
        "\n",
        "The blue line is overfit, using more dimensions than are needed to explain the data and so much of the movement is based on noise and won't generalize well. The green line still fits the data, but is less susceptible to the noise - depending on how exactly we parameterize \"noise\" we may throw out actual correlation, but if we balance it right we keep that signal and greatly improve generalizability.\n",
        "\n",
        "### Look carefully at the above plot and think of ways you can quantify the difference between the blue and green lines...\n"
      ]
    },
    {
      "metadata": {
        "id": "7aQlX9e9lQLr",
        "colab_type": "code",
        "outputId": "d5cef801-efec-4c36-fe27-c4b3f02a6750",
        "colab": {
          "base_uri": "https://localhost:8080/",
          "height": 34
        }
      },
      "cell_type": "code",
      "source": [
        "# Now with regularization via ridge regression\n",
        "from sklearn.linear_model import Ridge\n",
        "\n",
        "ridge_reg = Ridge().fit(X, y)\n",
        "mean_squared_error(y, ridge_reg.predict(X))"
      ],
      "execution_count": 0,
      "outputs": [
        {
          "output_type": "execute_result",
          "data": {
            "text/plain": [
              "21.895862166800143"
            ]
          },
          "metadata": {
            "tags": []
          },
          "execution_count": 5
        }
      ]
    },
    {
      "metadata": {
        "id": "qiMXYAWGomcB",
        "colab_type": "code",
        "outputId": "5a583ecf-c93f-40f2-8502-41d9e561ba32",
        "colab": {
          "base_uri": "https://localhost:8080/",
          "height": 34
        }
      },
      "cell_type": "code",
      "source": [
        "# The score is a bit worse than OLS - but that's expected (we're adding bias)\n",
        "# Let's try split\n",
        "\n",
        "ridge_reg_split = Ridge().fit(X_train, y_train)\n",
        "mean_squared_error(y_test, ridge_reg_split.predict(X_test))"
      ],
      "execution_count": 0,
      "outputs": [
        {
          "output_type": "execute_result",
          "data": {
            "text/plain": [
              "26.192201358877668"
            ]
          },
          "metadata": {
            "tags": []
          },
          "execution_count": 6
        }
      ]
    },
    {
      "metadata": {
        "id": "PJhjFFeF2uoA",
        "colab_type": "code",
        "outputId": "6289580e-aed7-4839-c3e6-2c643574e2ea",
        "colab": {
          "base_uri": "https://localhost:8080/",
          "height": 4674
        }
      },
      "cell_type": "code",
      "source": [
        "# A little better (to same test split w/OLS) - can we improve it further?\n",
        "# We just went with defaults, but as always there's plenty of parameters\n",
        "help(Ridge)"
      ],
      "execution_count": 0,
      "outputs": [
        {
          "output_type": "stream",
          "text": [
            "Help on class Ridge in module sklearn.linear_model.ridge:\n",
            "\n",
            "class Ridge(_BaseRidge, sklearn.base.RegressorMixin)\n",
            " |  Linear least squares with l2 regularization.\n",
            " |  \n",
            " |  Minimizes the objective function::\n",
            " |  \n",
            " |  ||y - Xw||^2_2 + alpha * ||w||^2_2\n",
            " |  \n",
            " |  This model solves a regression model where the loss function is\n",
            " |  the linear least squares function and regularization is given by\n",
            " |  the l2-norm. Also known as Ridge Regression or Tikhonov regularization.\n",
            " |  This estimator has built-in support for multi-variate regression\n",
            " |  (i.e., when y is a 2d-array of shape [n_samples, n_targets]).\n",
            " |  \n",
            " |  Read more in the :ref:`User Guide <ridge_regression>`.\n",
            " |  \n",
            " |  Parameters\n",
            " |  ----------\n",
            " |  alpha : {float, array-like}, shape (n_targets)\n",
            " |      Regularization strength; must be a positive float. Regularization\n",
            " |      improves the conditioning of the problem and reduces the variance of\n",
            " |      the estimates. Larger values specify stronger regularization.\n",
            " |      Alpha corresponds to ``C^-1`` in other linear models such as\n",
            " |      LogisticRegression or LinearSVC. If an array is passed, penalties are\n",
            " |      assumed to be specific to the targets. Hence they must correspond in\n",
            " |      number.\n",
            " |  \n",
            " |  fit_intercept : boolean\n",
            " |      Whether to calculate the intercept for this model. If set\n",
            " |      to false, no intercept will be used in calculations\n",
            " |      (e.g. data is expected to be already centered).\n",
            " |  \n",
            " |  normalize : boolean, optional, default False\n",
            " |      This parameter is ignored when ``fit_intercept`` is set to False.\n",
            " |      If True, the regressors X will be normalized before regression by\n",
            " |      subtracting the mean and dividing by the l2-norm.\n",
            " |      If you wish to standardize, please use\n",
            " |      :class:`sklearn.preprocessing.StandardScaler` before calling ``fit``\n",
            " |      on an estimator with ``normalize=False``.\n",
            " |  \n",
            " |  copy_X : boolean, optional, default True\n",
            " |      If True, X will be copied; else, it may be overwritten.\n",
            " |  \n",
            " |  max_iter : int, optional\n",
            " |      Maximum number of iterations for conjugate gradient solver.\n",
            " |      For 'sparse_cg' and 'lsqr' solvers, the default value is determined\n",
            " |      by scipy.sparse.linalg. For 'sag' solver, the default value is 1000.\n",
            " |  \n",
            " |  tol : float\n",
            " |      Precision of the solution.\n",
            " |  \n",
            " |  solver : {'auto', 'svd', 'cholesky', 'lsqr', 'sparse_cg', 'sag', 'saga'}\n",
            " |      Solver to use in the computational routines:\n",
            " |  \n",
            " |      - 'auto' chooses the solver automatically based on the type of data.\n",
            " |  \n",
            " |      - 'svd' uses a Singular Value Decomposition of X to compute the Ridge\n",
            " |        coefficients. More stable for singular matrices than\n",
            " |        'cholesky'.\n",
            " |  \n",
            " |      - 'cholesky' uses the standard scipy.linalg.solve function to\n",
            " |        obtain a closed-form solution.\n",
            " |  \n",
            " |      - 'sparse_cg' uses the conjugate gradient solver as found in\n",
            " |        scipy.sparse.linalg.cg. As an iterative algorithm, this solver is\n",
            " |        more appropriate than 'cholesky' for large-scale data\n",
            " |        (possibility to set `tol` and `max_iter`).\n",
            " |  \n",
            " |      - 'lsqr' uses the dedicated regularized least-squares routine\n",
            " |        scipy.sparse.linalg.lsqr. It is the fastest and uses an iterative\n",
            " |        procedure.\n",
            " |  \n",
            " |      - 'sag' uses a Stochastic Average Gradient descent, and 'saga' uses\n",
            " |        its improved, unbiased version named SAGA. Both methods also use an\n",
            " |        iterative procedure, and are often faster than other solvers when\n",
            " |        both n_samples and n_features are large. Note that 'sag' and\n",
            " |        'saga' fast convergence is only guaranteed on features with\n",
            " |        approximately the same scale. You can preprocess the data with a\n",
            " |        scaler from sklearn.preprocessing.\n",
            " |  \n",
            " |      All last five solvers support both dense and sparse data. However,\n",
            " |      only 'sag' and 'saga' supports sparse input when `fit_intercept` is\n",
            " |      True.\n",
            " |  \n",
            " |      .. versionadded:: 0.17\n",
            " |         Stochastic Average Gradient descent solver.\n",
            " |      .. versionadded:: 0.19\n",
            " |         SAGA solver.\n",
            " |  \n",
            " |  random_state : int, RandomState instance or None, optional, default None\n",
            " |      The seed of the pseudo random number generator to use when shuffling\n",
            " |      the data.  If int, random_state is the seed used by the random number\n",
            " |      generator; If RandomState instance, random_state is the random number\n",
            " |      generator; If None, the random number generator is the RandomState\n",
            " |      instance used by `np.random`. Used when ``solver`` == 'sag'.\n",
            " |  \n",
            " |      .. versionadded:: 0.17\n",
            " |         *random_state* to support Stochastic Average Gradient.\n",
            " |  \n",
            " |  Attributes\n",
            " |  ----------\n",
            " |  coef_ : array, shape (n_features,) or (n_targets, n_features)\n",
            " |      Weight vector(s).\n",
            " |  \n",
            " |  intercept_ : float | array, shape = (n_targets,)\n",
            " |      Independent term in decision function. Set to 0.0 if\n",
            " |      ``fit_intercept = False``.\n",
            " |  \n",
            " |  n_iter_ : array or None, shape (n_targets,)\n",
            " |      Actual number of iterations for each target. Available only for\n",
            " |      sag and lsqr solvers. Other solvers will return None.\n",
            " |  \n",
            " |      .. versionadded:: 0.17\n",
            " |  \n",
            " |  See also\n",
            " |  --------\n",
            " |  RidgeClassifier : Ridge classifier\n",
            " |  RidgeCV : Ridge regression with built-in cross validation\n",
            " |  :class:`sklearn.kernel_ridge.KernelRidge` : Kernel ridge regression\n",
            " |      combines ridge regression with the kernel trick\n",
            " |  \n",
            " |  Examples\n",
            " |  --------\n",
            " |  >>> from sklearn.linear_model import Ridge\n",
            " |  >>> import numpy as np\n",
            " |  >>> n_samples, n_features = 10, 5\n",
            " |  >>> np.random.seed(0)\n",
            " |  >>> y = np.random.randn(n_samples)\n",
            " |  >>> X = np.random.randn(n_samples, n_features)\n",
            " |  >>> clf = Ridge(alpha=1.0)\n",
            " |  >>> clf.fit(X, y) # doctest: +NORMALIZE_WHITESPACE\n",
            " |  Ridge(alpha=1.0, copy_X=True, fit_intercept=True, max_iter=None,\n",
            " |        normalize=False, random_state=None, solver='auto', tol=0.001)\n",
            " |  \n",
            " |  Method resolution order:\n",
            " |      Ridge\n",
            " |      _BaseRidge\n",
            " |      abc.NewBase\n",
            " |      sklearn.linear_model.base.LinearModel\n",
            " |      abc.NewBase\n",
            " |      sklearn.base.BaseEstimator\n",
            " |      sklearn.base.RegressorMixin\n",
            " |      builtins.object\n",
            " |  \n",
            " |  Methods defined here:\n",
            " |  \n",
            " |  __init__(self, alpha=1.0, fit_intercept=True, normalize=False, copy_X=True, max_iter=None, tol=0.001, solver='auto', random_state=None)\n",
            " |      Initialize self.  See help(type(self)) for accurate signature.\n",
            " |  \n",
            " |  fit(self, X, y, sample_weight=None)\n",
            " |      Fit Ridge regression model\n",
            " |      \n",
            " |      Parameters\n",
            " |      ----------\n",
            " |      X : {array-like, sparse matrix}, shape = [n_samples, n_features]\n",
            " |          Training data\n",
            " |      \n",
            " |      y : array-like, shape = [n_samples] or [n_samples, n_targets]\n",
            " |          Target values\n",
            " |      \n",
            " |      sample_weight : float or numpy array of shape [n_samples]\n",
            " |          Individual weights for each sample\n",
            " |      \n",
            " |      Returns\n",
            " |      -------\n",
            " |      self : returns an instance of self.\n",
            " |  \n",
            " |  ----------------------------------------------------------------------\n",
            " |  Data and other attributes defined here:\n",
            " |  \n",
            " |  __abstractmethods__ = frozenset()\n",
            " |  \n",
            " |  ----------------------------------------------------------------------\n",
            " |  Methods inherited from sklearn.linear_model.base.LinearModel:\n",
            " |  \n",
            " |  predict(self, X)\n",
            " |      Predict using the linear model\n",
            " |      \n",
            " |      Parameters\n",
            " |      ----------\n",
            " |      X : array_like or sparse matrix, shape (n_samples, n_features)\n",
            " |          Samples.\n",
            " |      \n",
            " |      Returns\n",
            " |      -------\n",
            " |      C : array, shape (n_samples,)\n",
            " |          Returns predicted values.\n",
            " |  \n",
            " |  ----------------------------------------------------------------------\n",
            " |  Methods inherited from sklearn.base.BaseEstimator:\n",
            " |  \n",
            " |  __getstate__(self)\n",
            " |  \n",
            " |  __repr__(self)\n",
            " |      Return repr(self).\n",
            " |  \n",
            " |  __setstate__(self, state)\n",
            " |  \n",
            " |  get_params(self, deep=True)\n",
            " |      Get parameters for this estimator.\n",
            " |      \n",
            " |      Parameters\n",
            " |      ----------\n",
            " |      deep : boolean, optional\n",
            " |          If True, will return the parameters for this estimator and\n",
            " |          contained subobjects that are estimators.\n",
            " |      \n",
            " |      Returns\n",
            " |      -------\n",
            " |      params : mapping of string to any\n",
            " |          Parameter names mapped to their values.\n",
            " |  \n",
            " |  set_params(self, **params)\n",
            " |      Set the parameters of this estimator.\n",
            " |      \n",
            " |      The method works on simple estimators as well as on nested objects\n",
            " |      (such as pipelines). The latter have parameters of the form\n",
            " |      ``<component>__<parameter>`` so that it's possible to update each\n",
            " |      component of a nested object.\n",
            " |      \n",
            " |      Returns\n",
            " |      -------\n",
            " |      self\n",
            " |  \n",
            " |  ----------------------------------------------------------------------\n",
            " |  Data descriptors inherited from sklearn.base.BaseEstimator:\n",
            " |  \n",
            " |  __dict__\n",
            " |      dictionary for instance variables (if defined)\n",
            " |  \n",
            " |  __weakref__\n",
            " |      list of weak references to the object (if defined)\n",
            " |  \n",
            " |  ----------------------------------------------------------------------\n",
            " |  Methods inherited from sklearn.base.RegressorMixin:\n",
            " |  \n",
            " |  score(self, X, y, sample_weight=None)\n",
            " |      Returns the coefficient of determination R^2 of the prediction.\n",
            " |      \n",
            " |      The coefficient R^2 is defined as (1 - u/v), where u is the residual\n",
            " |      sum of squares ((y_true - y_pred) ** 2).sum() and v is the total\n",
            " |      sum of squares ((y_true - y_true.mean()) ** 2).sum().\n",
            " |      The best possible score is 1.0 and it can be negative (because the\n",
            " |      model can be arbitrarily worse). A constant model that always\n",
            " |      predicts the expected value of y, disregarding the input features,\n",
            " |      would get a R^2 score of 0.0.\n",
            " |      \n",
            " |      Parameters\n",
            " |      ----------\n",
            " |      X : array-like, shape = (n_samples, n_features)\n",
            " |          Test samples. For some estimators this may be a\n",
            " |          precomputed kernel matrix instead, shape = (n_samples,\n",
            " |          n_samples_fitted], where n_samples_fitted is the number of\n",
            " |          samples used in the fitting for the estimator.\n",
            " |      \n",
            " |      y : array-like, shape = (n_samples) or (n_samples, n_outputs)\n",
            " |          True values for X.\n",
            " |      \n",
            " |      sample_weight : array-like, shape = [n_samples], optional\n",
            " |          Sample weights.\n",
            " |      \n",
            " |      Returns\n",
            " |      -------\n",
            " |      score : float\n",
            " |          R^2 of self.predict(X) wrt. y.\n",
            "\n"
          ],
          "name": "stdout"
        }
      ]
    },
    {
      "metadata": {
        "id": "F4eY9TKw4S4F",
        "colab_type": "text"
      },
      "cell_type": "markdown",
      "source": [
        "How to tune alpha? For now, let's loop and try values.\n",
        "\n",
        "(For longterm/stretch/next week, check out [cross-validation](https://scikit-learn.org/stable/modules/generated/sklearn.linear_model.RidgeCV.html#sklearn.linear_model.RidgeCV).)"
      ]
    },
    {
      "metadata": {
        "id": "DISx148Z4Sqi",
        "colab_type": "code",
        "outputId": "6df5438d-e168-4714-82c4-ae4688bfdd23",
        "colab": {
          "base_uri": "https://localhost:8080/",
          "height": 3490
        }
      },
      "cell_type": "code",
      "source": [
        "alphas = []\n",
        "mses = []\n",
        "\n",
        "for alpha in range(0, 200, 1):\n",
        "  ridge_reg_split = Ridge(alpha=alpha).fit(X_train, y_train)\n",
        "  mse = mean_squared_error(y_test, ridge_reg_split.predict(X_test))\n",
        "  print(alpha, mse)\n",
        "  alphas.append(alpha)\n",
        "  mses.append(mse)"
      ],
      "execution_count": 0,
      "outputs": [
        {
          "output_type": "stream",
          "text": [
            "0 26.273991426429053\n",
            "1 26.192201358877668\n",
            "2 26.118328007697226\n",
            "3 26.051117952293595\n",
            "4 25.989569283205444\n",
            "5 25.93287356811407\n",
            "6 25.880372753122625\n",
            "7 25.831526788692837\n",
            "8 25.785889053385123\n",
            "9 25.743087513207442\n",
            "10 25.702810145277628\n",
            "11 25.66479356379559\n",
            "12 25.628814073392263\n",
            "13 25.59468057863174\n",
            "14 25.56222892458644\n",
            "15 25.53131734932431\n",
            "16 25.50182280665663\n",
            "17 25.473637974726547\n",
            "18 25.44666880864133\n",
            "19 25.420832527348388\n",
            "20 25.396055949160893\n",
            "21 25.372274108781504\n",
            "22 25.349429102822004\n",
            "23 25.327469121742823\n",
            "24 25.30634763462536\n",
            "25 25.286022699825878\n",
            "26 25.266456379775086\n",
            "27 25.24761424230921\n",
            "28 25.229464934192976\n",
            "29 25.211979815108453\n",
            "30 25.19513264248022\n",
            "31 25.178899299197408\n",
            "32 25.163257557659424\n",
            "33 25.14818687468406\n",
            "34 25.13366821272317\n",
            "35 25.11968388357409\n",
            "36 25.106217411385522\n",
            "37 25.093253412260974\n",
            "38 25.080777488180427\n",
            "39 25.068776133307583\n",
            "40 25.057236651039766\n",
            "41 25.046147080399017\n",
            "42 25.035496130566347\n",
            "43 25.02527312253186\n",
            "44 25.015467936977434\n",
            "45 25.006070967630855\n",
            "46 24.997073079433843\n",
            "47 24.98846557095439\n",
            "48 24.980240140548986\n",
            "49 24.972388855844812\n",
            "50 24.96490412616673\n",
            "51 24.95777867758141\n",
            "52 24.951005530271846\n",
            "53 24.944577977990345\n",
            "54 24.9384895693689\n",
            "55 24.9327340908919\n",
            "56 24.92730555135946\n",
            "57 24.92219816768905\n",
            "58 24.917406351921144\n",
            "59 24.912924699309215\n",
            "60 24.9087479773882\n",
            "61 24.904871115926827\n",
            "62 24.901289197679855\n",
            "63 24.897997449864803\n",
            "64 24.8949912362963\n",
            "65 24.892266050117623\n",
            "66 24.889817507075655\n",
            "67 24.88764133929069\n",
            "68 24.885733389477625\n",
            "69 24.88408960557926\n",
            "70 24.882706035776263\n",
            "71 24.88157882384208\n",
            "72 24.880704204813682\n",
            "73 24.880078500952195\n",
            "74 24.879698117969724\n",
            "75 24.879559541500758\n",
            "76 24.87965933379892\n",
            "77 24.879994130641087\n",
            "78 24.8805606384229\n",
            "79 24.881355631430836\n",
            "80 24.882375949277577\n",
            "81 24.88361849448833\n",
            "82 24.88508023022692\n",
            "83 24.886758178151386\n",
            "84 24.888649416389928\n",
            "85 24.89075107762813\n",
            "86 24.89306034730016\n",
            "87 24.895574461876226\n",
            "88 24.898290707239912\n",
            "89 24.90120641714914\n",
            "90 24.90431897177517\n",
            "91 24.907625796314402\n",
            "92 24.911124359668285\n",
            "93 24.914812173186736\n",
            "94 24.918686789471128\n",
            "95 24.92274580123304\n",
            "96 24.92698684020521\n",
            "97 24.93140757610152\n",
            "98 24.93600571562298\n",
            "99 24.94077900150688\n",
            "100 24.945725211616683\n",
            "101 24.950842158070053\n",
            "102 24.95612768640294\n",
            "103 24.96157967476758\n",
            "104 24.96719603316249\n",
            "105 24.972974702692664\n",
            "106 24.97891365485829\n",
            "107 24.985010890870456\n",
            "108 24.99126444099231\n",
            "109 24.99767236390434\n",
            "110 25.004232746092597\n",
            "111 25.010943701258537\n",
            "112 25.017803369749362\n",
            "113 25.02480991800798\n",
            "114 25.0319615380414\n",
            "115 25.03925644690685\n",
            "116 25.04669288621445\n",
            "117 25.05426912164612\n",
            "118 25.061983442489353\n",
            "119 25.069834161185728\n",
            "120 25.077819612893087\n",
            "121 25.085938155060855\n",
            "122 25.09418816701804\n",
            "123 25.102568049573183\n",
            "124 25.111076224625787\n",
            "125 25.119711134788766\n",
            "126 25.128471243021377\n",
            "127 25.137355032272303\n",
            "128 25.14636100513223\n",
            "129 25.155487683495902\n",
            "130 25.164733608232837\n",
            "131 25.174097338866744\n",
            "132 25.183577453263027\n",
            "133 25.193172547324206\n",
            "134 25.2028812346929\n",
            "135 25.212702146462046\n",
            "136 25.222633930892243\n",
            "137 25.232675253135735\n",
            "138 25.24282479496694\n",
            "139 25.25308125451928\n",
            "140 25.26344334602802\n",
            "141 25.273909799578966\n",
            "142 25.284479360862818\n",
            "143 25.29515079093497\n",
            "144 25.305922865980495\n",
            "145 25.31679437708437\n",
            "146 25.32776413000649\n",
            "147 25.338830944961526\n",
            "148 25.349993656403374\n",
            "149 25.361251112814\n",
            "150 25.37260217649681\n",
            "151 25.384045723373994\n",
            "152 25.39558064278813\n",
            "153 25.407205837307533\n",
            "154 25.418920222535693\n",
            "155 25.430722726924202\n",
            "156 25.442612291589445\n",
            "157 25.45458787013271\n",
            "158 25.466648428463827\n",
            "159 25.478792944627976\n",
            "160 25.491020408635883\n",
            "161 25.50332982229701\n",
            "162 25.515720199055906\n",
            "163 25.528190563831558\n",
            "164 25.540739952859465\n",
            "165 25.5533674135368\n",
            "166 25.56607200427009\n",
            "167 25.578852794325684\n",
            "168 25.591708863682904\n",
            "169 25.604639302889613\n",
            "170 25.617643212920317\n",
            "171 25.63071970503678\n",
            "172 25.643867900650903\n",
            "173 25.657086931189966\n",
            "174 25.670375937964163\n",
            "175 25.68373407203625\n",
            "176 25.697160494093474\n",
            "177 25.71065437432154\n",
            "178 25.724214892280617\n",
            "179 25.737841236783435\n",
            "180 25.751532605775324\n",
            "181 25.765288206216116\n",
            "182 25.779107253964067\n",
            "183 25.792988973661497\n",
            "184 25.8069325986223\n",
            "185 25.820937370721257\n",
            "186 25.83500254028498\n",
            "187 25.849127365984653\n",
            "188 25.863311114730404\n",
            "189 25.87755306156723\n",
            "190 25.891852489572667\n",
            "191 25.906208689755893\n",
            "192 25.920620960958406\n",
            "193 25.93508860975623\n",
            "194 25.949610950363557\n",
            "195 25.964187304537848\n",
            "196 25.97881700148633\n",
            "197 25.99349937777395\n",
            "198 26.008233777232597\n",
            "199 26.023019550871716\n"
          ],
          "name": "stdout"
        }
      ]
    },
    {
      "metadata": {
        "id": "iRB3KHyWiO4y",
        "colab_type": "code",
        "outputId": "a98e6ff2-c184-4fe5-eb76-a64b2705c4b3",
        "colab": {
          "base_uri": "https://localhost:8080/",
          "height": 347
        }
      },
      "cell_type": "code",
      "source": [
        "from matplotlib.pyplot import scatter\n",
        "scatter(alphas, mses);"
      ],
      "execution_count": 0,
      "outputs": [
        {
          "output_type": "display_data",
          "data": {
            "image/png": "[encoded data removed]",
            "text/plain": [
              "<Figure size 576x396 with 1 Axes>"
            ]
          },
          "metadata": {
            "tags": []
          }
        }
      ]
    },
    {
      "metadata": {
        "id": "WzgTBd-FcctM",
        "colab_type": "text"
      },
      "cell_type": "markdown",
      "source": [
        "## What's the intuition? What are we doing?\n",
        "\n",
        "The `alpha` parameter corresponds to the weight being given to the extra penalty being calculated by [Tikhonov regularization](https://en.wikipedia.org/wiki/Tikhonov_regularization) (this parameter is sometimes referred to as $\\lambda$ in the context of ridge regression).\n",
        "\n",
        "Normal linear regression (OLS) minimizes the **sum of square error of the residuals**.\n",
        "\n",
        "Ridge regression minimizes the **sum of square error of the residuals** *AND* **the squared slope of the fit model, times the alpha parameter**.\n",
        "\n",
        "This is why the MSE for the first model in the for loop (`alpha=0`) is the same as the MSE for linear regression - it's the same model!\n",
        "\n",
        "As `alpha` is increased, we give more and more penalty to a steep slope. In two or three dimensions this is fairly easy to visualize - beyond, think of it as penalizing coefficient size. Each coefficient represents the slope of an individual dimension (feature) of the model, so ridge regression is just squaring and summing those.\n",
        "\n",
        "So while `alpha=0` reduces to OLS, as `alpha` approaches infinity eventually the penalty gets so extreme that the model will always output every coefficient as 0 (any non-zero coefficient resulting in a penalty that outweighs whatever improvement in the residuals), and just fit a flat model with intercept at the mean of the dependent variable.\n",
        "\n",
        "Of course, what we want is somewhere in-between these extremes. Intuitively, what we want to do is apply an appropriate \"cost\" or penalty to the model for fitting parameters, much like adjusted $R^2$ takes into account the cost of adding complexity to a model. What exactly is an appropriate penalty will vary, so you'll have to put on your model comparison hat and give it a go!\n",
        "\n",
        "PS - scaling the data helps, as that way this cost is consistent and can be added uniformly across features, and it is simpler to search for the `alpha` parameter.\n",
        "\n",
        "### Bonus - magic! ✨\n",
        "\n",
        "Ridge regression doesn't just reduce overfitting and help with the third aspect of well-posed problems (poor generalizability). It can also fix the first two (no unique solution)!"
      ]
    },
    {
      "metadata": {
        "id": "rdogs9EMX6Vd",
        "colab_type": "code",
        "outputId": "eaf2492e-2a61-4e96-c2eb-a1baf6d2f4c6",
        "colab": {
          "base_uri": "https://localhost:8080/",
          "height": 52
        }
      },
      "cell_type": "code",
      "source": [
        "df_tiny = df.sample(10, random_state=27)\n",
        "print(df_tiny.shape)\n",
        "X = df_tiny.drop('Price', axis='columns')\n",
        "y = df_tiny.Price\n",
        "\n",
        "lin_reg = LinearRegression().fit(X, y)\n",
        "lin_reg.score(X, y)  # Perfect multi-collinearity!\n",
        "# NOTE - True OLS would 💥 here\n",
        "# scikit protects us from actual error, but still gives a poor model"
      ],
      "execution_count": 0,
      "outputs": [
        {
          "output_type": "stream",
          "text": [
            "(10, 14)\n"
          ],
          "name": "stdout"
        },
        {
          "output_type": "execute_result",
          "data": {
            "text/plain": [
              "1.0"
            ]
          },
          "metadata": {
            "tags": []
          },
          "execution_count": 10
        }
      ]
    },
    {
      "metadata": {
        "id": "zesVR59NhA7A",
        "colab_type": "code",
        "outputId": "83b429ca-d564-4d0b-fe0c-0b8943b6275c",
        "colab": {
          "base_uri": "https://localhost:8080/",
          "height": 34
        }
      },
      "cell_type": "code",
      "source": [
        "ridge_reg = Ridge().fit(X, y)\n",
        "ridge_reg.score(X, y)  # More plausible (not \"perfect\")"
      ],
      "execution_count": 0,
      "outputs": [
        {
          "output_type": "execute_result",
          "data": {
            "text/plain": [
              "0.9760119331942763"
            ]
          },
          "metadata": {
            "tags": []
          },
          "execution_count": 11
        }
      ]
    },
    {
      "metadata": {
        "id": "WP6zwLtshaVR",
        "colab_type": "code",
        "outputId": "50f9033f-fbbc-4dcb-c96c-17e44bb3df81",
        "colab": {
          "base_uri": "https://localhost:8080/",
          "height": 34
        }
      },
      "cell_type": "code",
      "source": [
        "# Using our earlier test split\n",
        "mean_squared_error(y_test, lin_reg.predict(X_test))"
      ],
      "execution_count": 0,
      "outputs": [
        {
          "output_type": "execute_result",
          "data": {
            "text/plain": [
              "103.04429449784261"
            ]
          },
          "metadata": {
            "tags": []
          },
          "execution_count": 12
        }
      ]
    },
    {
      "metadata": {
        "id": "QeL_O8vNhSqj",
        "colab_type": "code",
        "outputId": "a3aefe55-881f-4667-869e-c04d8c17a95e",
        "colab": {
          "base_uri": "https://localhost:8080/",
          "height": 34
        }
      },
      "cell_type": "code",
      "source": [
        "# Ridge generalizes *way* better (and we've not even tuned alpha)\n",
        "mean_squared_error(y_test, ridge_reg.predict(X_test))"
      ],
      "execution_count": 0,
      "outputs": [
        {
          "output_type": "execute_result",
          "data": {
            "text/plain": [
              "41.79869373639458"
            ]
          },
          "metadata": {
            "tags": []
          },
          "execution_count": 13
        }
      ]
    },
    {
      "metadata": {
        "id": "x2N5WDV6nd3S",
        "colab_type": "text"
      },
      "cell_type": "markdown",
      "source": [
        "## And a bit more math\n",
        "\n",
        "The regularization used by Ridge Regression is also known as **$L^2$ regularization**, due to the squaring of the slopes being summed. This corresponds to [$L^2$ space](https://en.wikipedia.org/wiki/Square-integrable_function), a metric space of square-integrable functions that generally measure what we intuitively think of as \"distance\" (at least, on a plane) - what is referred to as Euclidean distance.\n",
        "\n",
        "The other famous norm is $L^1$, also known as [taxicab geometry](https://en.wikipedia.org/wiki/Taxicab_geometry), because it follows the \"grid\" to measure distance like a car driving around city blocks (rather than going directly like $L^2$). When referred to as a distance this is called \"Manhattan distance\", and can be used for regularization (see [LASSO](https://en.wikipedia.org/wiki/Lasso_(statistics%29), which [uses the $L^1$ norm](https://www.quora.com/What-is-the-difference-between-L1-and-L2-regularization-How-does-it-solve-the-problem-of-overfitting-Which-regularizer-to-use-and-when)).\n",
        "\n",
        "All this comes down to - regularization means increasing model bias by \"watering down\" coefficients with a penalty typically based on some sort of distance metric, and thus reducing variance (overfitting the model to the noise in the data). It gives us another lever to try and another tool for our toolchest!\n",
        "\n",
        "## Putting it all together - one last example\n",
        "\n",
        "The official scikit-learn documentation has many excellent examples - [this one](https://scikit-learn.org/stable/auto_examples/linear_model/plot_ols_ridge_variance.html#sphx-glr-auto-examples-linear-model-plot-ols-ridge-variance-py) illustrates how ridge regression effectively reduces the variance, again by increasing the bias, penalizing coefficients to reduce the effectiveness of features (but also the impact of noise).\n",
        "\n",
        "```\n",
        "Due to the few points in each dimension and the straight line that linear regression uses to follow these points as well as it can, noise on the observations will cause great variance as shown in the first plot. Every line’s slope can vary quite a bit for each prediction due to the noise induced in the observations.\n",
        "\n",
        "Ridge regression is basically minimizing a penalised version of the least-squared function. The penalising shrinks the value of the regression coefficients. Despite the few data points in each dimension, the slope of the prediction is much more stable and the variance in the line itself is greatly reduced, in comparison to that of the standard linear regression\n",
        "```"
      ]
    },
    {
      "metadata": {
        "id": "LaOYdswIB6Bo",
        "colab_type": "code",
        "outputId": "7081e218-bc17-478a-f6dd-37735fce78c3",
        "colab": {
          "base_uri": "https://localhost:8080/",
          "height": 425
        }
      },
      "cell_type": "code",
      "source": [
        "# Code source: Gaël Varoquaux\n",
        "# Modified for documentation by Jaques Grobler\n",
        "# License: BSD 3 clause\n",
        "\n",
        "\n",
        "import numpy as np\n",
        "import matplotlib.pyplot as plt\n",
        "\n",
        "from sklearn import linear_model\n",
        "\n",
        "X_train = np.c_[.5, 1].T\n",
        "y_train = [.5, 1]\n",
        "X_test = np.c_[0, 2].T\n",
        "\n",
        "np.random.seed(0)\n",
        "\n",
        "classifiers = dict(ols=linear_model.LinearRegression(),\n",
        "                   ridge=linear_model.Ridge(alpha=.1))\n",
        "\n",
        "for name, clf in classifiers.items():\n",
        "    fig, ax = plt.subplots(figsize=(4, 3))\n",
        "\n",
        "    for _ in range(6):\n",
        "        this_X = .1 * np.random.normal(size=(2, 1)) + X_train\n",
        "        clf.fit(this_X, y_train)\n",
        "\n",
        "        ax.plot(X_test, clf.predict(X_test), color='gray')\n",
        "        ax.scatter(this_X, y_train, s=3, c='gray', marker='o', zorder=10)\n",
        "\n",
        "    clf.fit(X_train, y_train)\n",
        "    ax.plot(X_test, clf.predict(X_test), linewidth=2, color='blue')\n",
        "    ax.scatter(X_train, y_train, s=30, c='red', marker='+', zorder=10)\n",
        "\n",
        "    ax.set_title(name)\n",
        "    ax.set_xlim(0, 2)\n",
        "    ax.set_ylim((0, 1.6))\n",
        "    ax.set_xlabel('X')\n",
        "    ax.set_ylabel('y')\n",
        "\n",
        "    fig.tight_layout()\n",
        "\n",
        "plt.show()"
      ],
      "execution_count": 0,
      "outputs": [
        {
          "output_type": "display_data",
          "data": {
            "image/png": "[encoded data removed]",
            "text/plain": [
              "<Figure size 288x216 with 1 Axes>"
            ]
          },
          "metadata": {
            "tags": []
          }
        },
        {
          "output_type": "display_data",
          "data": {
            "image/png": "[encoded data removed]",
            "text/plain": [
              "<Figure size 288x216 with 1 Axes>"
            ]
          },
          "metadata": {
            "tags": []
          }
        }
      ]
    },
    {
      "metadata": {
        "id": "Xb1MFgypBVQd",
        "colab_type": "text"
      },
      "cell_type": "markdown",
      "source": [
        "# Live Lecture - Ridge versus OLS\n",
        "\n",
        "First and foremost, we'll review/discuss and address any questions about the above. As time allows, we'll look at data and compare OLS to ridge regression - if there's particular data you'd like to volunteer (maybe something you've looked at in the past) please bring it to the lecture!"
      ]
    },
    {
      "metadata": {
        "id": "uE89YmqtBqWX",
        "colab_type": "code",
        "colab": {}
      },
      "cell_type": "code",
      "source": [
        "# TODO - live data exploration, Ridge versus OLS!"
      ],
      "execution_count": 0,
      "outputs": []
    },
    {
      "metadata": {
        "id": "k0AhsAmuJzT9",
        "colab_type": "text"
      },
      "cell_type": "markdown",
      "source": [
        "# Assignment\n",
        "\n",
        "Following is data describing characteristics of blog posts, with a target feature of how many comments will be posted in the following 24 hours.\n",
        "\n",
        "https://archive.ics.uci.edu/ml/datasets/BlogFeedback\n",
        "\n",
        "Investigate - you can try both linear and ridge. You can also sample to smaller data size and see if that makes ridge more important. Don't forget to scale!\n",
        "\n",
        "Focus on the training data, but if you want to load and compare to any of the test data files you can also do that.\n",
        "\n",
        "Note - Ridge may not be that fundamentally superior in this case. That's OK! It's still good to practice both, and see if you can find parameters or sample sizes where ridge does generalize and perform better.\n",
        "\n",
        "When you've fit models to your satisfaction, answer the following question:\n",
        "\n",
        "```\n",
        "Did you find cases where Ridge performed better? If so, describe (alpha parameter, sample size, any other relevant info/processing). If not, what do you think that tells you about the data?\n",
        "```\n",
        "\n",
        "You can create whatever plots, tables, or other results support your argument. In this case, your target audience is a fellow data scientist, *not* a layperson, so feel free to dig in!"
      ]
    },
    {
      "metadata": {
        "id": "HKKnNsttRpwI",
        "colab_type": "code",
        "colab": {}
      },
      "cell_type": "code",
      "source": [
        "# TODO - write some code!"
      ],
      "execution_count": 0,
      "outputs": []
    },
    {
      "metadata": {
        "id": "Onsn4B2tJ20X",
        "colab_type": "text"
      },
      "cell_type": "markdown",
      "source": [
        "# Resources and stretch goals"
      ]
    },
    {
      "metadata": {
        "id": "o_ZIP6O0J435",
        "colab_type": "text"
      },
      "cell_type": "markdown",
      "source": [
        "Resources:\n",
        "- https://www.quora.com/What-is-regularization-in-machine-learning\n",
        "- https://blogs.sas.com/content/subconsciousmusings/2017/07/06/how-to-use-regularization-to-prevent-model-overfitting/\n",
        "- https://machinelearningmastery.com/introduction-to-regularization-to-reduce-overfitting-and-improve-generalization-error/\n",
        "- https://towardsdatascience.com/ridge-and-lasso-regression-a-complete-guide-with-python-scikit-learn-e20e34bcbf0b\n",
        "- https://stats.stackexchange.com/questions/111017/question-about-standardizing-in-ridge-regression#111022\n",
        "\n",
        "Stretch goals:\n",
        "- Revisit past data you've fit OLS models to, and see if there's an `alpha` such that ridge regression results in a model with lower MSE on a train/test split\n",
        "- Yes, Ridge can be applied to classification! Check out [sklearn.linear_model.RidgeClassifier](https://scikit-learn.org/stable/modules/generated/sklearn.linear_model.RidgeClassifier.html#sklearn.linear_model.RidgeClassifier), and try it on a problem you previous approached with a different classifier (note - scikit LogisticRegression also automatically penalizes based on the $L^2$ norm, so the difference won't be as dramatic)\n",
        "- Implement your own function to calculate the full cost that ridge regression is optimizing (the sum of squared residuals + `alpha` times the sum of squared coefficients) - this alone won't fit a model, but you can use it to verify cost of trained models and that the coefficients from the equivalent OLS (without regularization) may have a higher cost"
      ]
    }
  ]
}