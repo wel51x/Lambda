{
  "nbformat": 4,
  "nbformat_minor": 0,
  "metadata": {
    "colab": {
      "name": "Copy of DS2_231_Logistic_Regression_Assignment.ipynb",
      "version": "0.3.2",
      "provenance": [],
      "collapsed_sections": [
        "wlI5OXfSag9C"
      ],
      "include_colab_link": true
    },
    "kernelspec": {
      "name": "python3",
      "display_name": "Python 3"
    }
  },
  "cells": [
    {
      "cell_type": "markdown",
      "metadata": {
        "id": "view-in-github",
        "colab_type": "text"
      },
      "source": [
        "<a href=\"https://colab.research.google.com/github/wel51x/DS-Unit-2-Sprint-3-Advanced-Regression/blob/master/Copy_of_DS2_231_Logistic_Regression_Assignment.ipynb\" target=\"_parent\"><img src=\"https://colab.research.google.com/assets/colab-badge.svg\" alt=\"Open In Colab\"/></a>"
      ]
    },
    {
      "metadata": {
        "id": "N7SXF6jEBd5_",
        "colab_type": "text"
      },
      "cell_type": "markdown",
      "source": [
        "# Lambda School Data Science - Logistic Regression\n",
        "\n",
        "Logistic regression is the baseline for classification models, as well as a handy way to predict probabilities (since those too live in the unit interval). While relatively simple, it is also the foundation for more sophisticated classification techniques such as neural networks (many of which can effectively be thought of as networks of logistic models)."
      ]
    },
    {
      "metadata": {
        "id": "E7-AOngjadRN",
        "colab_type": "text"
      },
      "cell_type": "markdown",
      "source": [
        "## Lecture - Where Linear goes Wrong\n",
        "### Return of the Titanic 🚢\n",
        "\n",
        "You've likely already explored the rich dataset that is the Titanic - let's use regression and try to predict survival with it. The data is [available from Kaggle](https://www.kaggle.com/c/titanic/data), so we'll also play a bit with [the Kaggle API](https://github.com/Kaggle/kaggle-api)."
      ]
    },
    {
      "metadata": {
        "id": "MnHLWPYDcyIe",
        "colab_type": "code",
        "outputId": "ef66b567-5e3f-4f7d-d89e-ddc0ab0f4125",
        "colab": {
          "base_uri": "https://localhost:8080/",
          "height": 204
        }
      },
      "cell_type": "code",
      "source": [
        "!pip install kaggle"
      ],
      "execution_count": 0,
      "outputs": [
        {
          "output_type": "stream",
          "text": [
            "Requirement already satisfied: kaggle in /usr/local/lib/python3.6/dist-packages (1.5.2)\n",
            "Requirement already satisfied: urllib3<1.23.0,>=1.15 in /usr/local/lib/python3.6/dist-packages (from kaggle) (1.22)\n",
            "Requirement already satisfied: six>=1.10 in /usr/local/lib/python3.6/dist-packages (from kaggle) (1.11.0)\n",
            "Requirement already satisfied: certifi in /usr/local/lib/python3.6/dist-packages (from kaggle) (2018.11.29)\n",
            "Requirement already satisfied: python-dateutil in /usr/local/lib/python3.6/dist-packages (from kaggle) (2.5.3)\n",
            "Requirement already satisfied: requests in /usr/local/lib/python3.6/dist-packages (from kaggle) (2.18.4)\n",
            "Requirement already satisfied: tqdm in /usr/local/lib/python3.6/dist-packages (from kaggle) (4.28.1)\n",
            "Requirement already satisfied: python-slugify in /usr/local/lib/python3.6/dist-packages (from kaggle) (2.0.1)\n",
            "Requirement already satisfied: chardet<3.1.0,>=3.0.2 in /usr/local/lib/python3.6/dist-packages (from requests->kaggle) (3.0.4)\n",
            "Requirement already satisfied: idna<2.7,>=2.5 in /usr/local/lib/python3.6/dist-packages (from requests->kaggle) (2.6)\n",
            "Requirement already satisfied: Unidecode>=0.04.16 in /usr/local/lib/python3.6/dist-packages (from python-slugify->kaggle) (1.0.23)\n"
          ],
          "name": "stdout"
        }
      ]
    },
    {
      "metadata": {
        "id": "kE5HL1sb8kUC",
        "colab_type": "code",
        "colab": {}
      },
      "cell_type": "code",
      "source": [
        "import pandas as pd\n",
        "from sklearn.linear_model import LinearRegression\n",
        "import numpy as np\n",
        "from sklearn.linear_model import LogisticRegression\n",
        "from sklearn.model_selection import train_test_split\n",
        "import sklearn\n",
        "from sklearn.preprocessing import LabelEncoder\n",
        "import datetime"
      ],
      "execution_count": 0,
      "outputs": []
    },
    {
      "metadata": {
        "id": "wPgce-jQc5zi",
        "colab_type": "code",
        "outputId": "27f111e4-f258-44e2-e5b2-30c0e39b6270",
        "colab": {
          "base_uri": "https://localhost:8080/",
          "height": 68
        }
      },
      "cell_type": "code",
      "source": [
        "# Note - you'll also have to sign up for Kaggle and authorize the API\n",
        "# https://github.com/Kaggle/kaggle-api#api-credentials\n",
        "\n",
        "# This essentially means uploading a kaggle.json file\n",
        "# For Colab we can have it in Google Drive\n",
        "from google.colab import drive\n",
        "drive.mount('/content/drive')\n",
        "%env KAGGLE_CONFIG_DIR=/content/drive/My Drive/\n",
        "\n",
        "# You also have to join the Titanic competition to have access to the data\n",
        "!kaggle competitions download -c titanic"
      ],
      "execution_count": 0,
      "outputs": [
        {
          "output_type": "stream",
          "text": [
            "Drive already mounted at /content/drive; to attempt to forcibly remount, call drive.mount(\"/content/drive\", force_remount=True).\n",
            "env: KAGGLE_CONFIG_DIR=/content/drive/My Drive/\n",
            "401 - Unauthorized\n"
          ],
          "name": "stdout"
        }
      ]
    },
    {
      "metadata": {
        "id": "AroeYscqR75f",
        "colab_type": "code",
        "colab": {}
      },
      "cell_type": "code",
      "source": [
        "# The logistic sigmoid \"squishing\" function, implemented to accept numpy arrays\n",
        "def sigmoid(x):\n",
        "  return 1 / (1 + np.e**(-x))"
      ],
      "execution_count": 0,
      "outputs": []
    },
    {
      "metadata": {
        "id": "BcI6sdKl8bd1",
        "colab_type": "code",
        "colab": {}
      },
      "cell_type": "code",
      "source": [
        "?LogisticRegression"
      ],
      "execution_count": 0,
      "outputs": []
    },
    {
      "metadata": {
        "id": "iblW74C8afuR",
        "colab_type": "text"
      },
      "cell_type": "markdown",
      "source": [
        "## Assignment - real-world classification\n",
        "\n",
        "We're going to check out a larger dataset - the [FMA Free Music Archive data](https://github.com/mdeff/fma). It has a selection of CSVs with metadata and calculated audio features that you can load and try to use to classify genre of tracks. To get you started:"
      ]
    },
    {
      "metadata": {
        "id": "SsySnuKaKtQf",
        "colab_type": "code",
        "outputId": "57a1cee4-d7ce-437f-883c-47226eacc031",
        "colab": {
          "base_uri": "https://localhost:8080/",
          "height": 425
        }
      },
      "cell_type": "code",
      "source": [
        "!wget https://os.unil.cloud.switch.ch/fma/fma_metadata.zip\n",
        "!unzip fma_metadata.zip"
      ],
      "execution_count": 2,
      "outputs": [
        {
          "output_type": "stream",
          "text": [
            "--2019-02-26 14:27:38--  https://os.unil.cloud.switch.ch/fma/fma_metadata.zip\n",
            "Resolving os.unil.cloud.switch.ch (os.unil.cloud.switch.ch)... 86.119.28.13, 2001:620:5ca1:2ff::ce53\n",
            "Connecting to os.unil.cloud.switch.ch (os.unil.cloud.switch.ch)|86.119.28.13|:443... connected.\n",
            "HTTP request sent, awaiting response... 200 OK\n",
            "Length: 358412441 (342M) [application/zip]\n",
            "Saving to: ‘fma_metadata.zip’\n",
            "\n",
            "fma_metadata.zip    100%[===================>] 341.81M  11.9MB/s    in 31s     \n",
            "\n",
            "2019-02-26 14:28:10 (11.1 MB/s) - ‘fma_metadata.zip’ saved [358412441/358412441]\n",
            "\n",
            "Archive:  fma_metadata.zip\n",
            " bunzipping: fma_metadata/README.txt  \n",
            " bunzipping: fma_metadata/checksums  \n",
            " bunzipping: fma_metadata/not_found.pickle  \n",
            " bunzipping: fma_metadata/raw_genres.csv  \n",
            " bunzipping: fma_metadata/raw_albums.csv  \n",
            " bunzipping: fma_metadata/raw_artists.csv  \n",
            " bunzipping: fma_metadata/raw_tracks.csv  \n",
            " bunzipping: fma_metadata/tracks.csv  \n",
            " bunzipping: fma_metadata/genres.csv  \n",
            " bunzipping: fma_metadata/raw_echonest.csv  \n",
            " bunzipping: fma_metadata/echonest.csv  \n",
            " bunzipping: fma_metadata/features.csv  \n"
          ],
          "name": "stdout"
        }
      ]
    },
    {
      "metadata": {
        "id": "fpx5g9GS-aA1",
        "colab_type": "code",
        "outputId": "f556b86c-0c31-429e-b623-9cf2ac3e313d",
        "colab": {
          "base_uri": "https://localhost:8080/",
          "height": 510
        }
      },
      "cell_type": "code",
      "source": [
        "!ls -lsa *"
      ],
      "execution_count": 3,
      "outputs": [
        {
          "output_type": "stream",
          "text": [
            "350020 -rw-r--r-- 1 root root 358412441 May  9  2017 fma_metadata.zip\n",
            "\n",
            "fma_metadata:\n",
            "total 1430544\n",
            "     4 drwxr-xr-x 2 root root      4096 Feb 26 14:28 .\n",
            "     4 drwxr-xr-x 1 root root      4096 Feb 26 14:28 ..\n",
            "     4 -r--r--r-- 1 root root       563 Apr  1  2017 checksums\n",
            " 42972 -r--r--r-- 1 root root  44000447 Apr  1  2017 echonest.csv\n",
            "928832 -r--r--r-- 1 root root 951117185 Apr  1  2017 features.csv\n",
            "     4 -r--r--r-- 1 root root      3922 Apr  1  2017 genres.csv\n",
            "   212 -r--r--r-- 1 root root    216942 Apr  1  2017 not_found.pickle\n",
            " 23580 -r--r--r-- 1 root root  24144296 Apr  1  2017 raw_albums.csv\n",
            " 13716 -r--r--r-- 1 root root  14044281 Apr  1  2017 raw_artists.csv\n",
            " 47504 -r--r--r-- 1 root root  48642077 Apr  1  2017 raw_echonest.csv\n",
            "     8 -r--r--r-- 1 root root      5866 Apr  1  2017 raw_genres.csv\n",
            "119384 -r--r--r-- 1 root root 122246181 Apr  1  2017 raw_tracks.csv\n",
            "     4 -r--r--r-- 1 root root       256 Apr  1  2017 README.txt\n",
            "254316 -r--r--r-- 1 root root 260414445 Apr  1  2017 tracks.csv\n",
            "\n",
            "sample_data:\n",
            "total 55512\n",
            "    4 drwxr-xr-x 1 root root     4096 Feb 19 17:17 .\n",
            "    4 drwxr-xr-x 1 root root     4096 Feb 26 14:28 ..\n",
            "    4 -r-xr-xr-x 1 root root     1697 Jan  1  2000 anscombe.json\n",
            "  296 -rw-r--r-- 1 root root   301141 Feb 19 17:17 california_housing_test.csv\n",
            " 1668 -rw-r--r-- 1 root root  1706430 Feb 19 17:17 california_housing_train.csv\n",
            "17864 -rw-r--r-- 1 root root 18289443 Feb 19 17:17 mnist_test.csv\n",
            "35668 -rw-r--r-- 1 root root 36523880 Feb 19 17:17 mnist_train_small.csv\n",
            "    4 -r-xr-xr-x 1 root root      903 Jan  1  2000 README.md\n"
          ],
          "name": "stdout"
        }
      ]
    },
    {
      "metadata": {
        "id": "6IPjKEod_D6E",
        "colab_type": "code",
        "outputId": "93d84fb3-cb4c-474f-be35-169f64cdc770",
        "colab": {
          "base_uri": "https://localhost:8080/",
          "height": 207
        }
      },
      "cell_type": "code",
      "source": [
        "!head fma_metadata/tracks.csv"
      ],
      "execution_count": 4,
      "outputs": [
        {
          "output_type": "stream",
          "text": [
            ",album,album,album,album,album,album,album,album,album,album,album,album,album,artist,artist,artist,artist,artist,artist,artist,artist,artist,artist,artist,artist,artist,artist,artist,artist,artist,set,set,track,track,track,track,track,track,track,track,track,track,track,track,track,track,track,track,track,track,track,track\n",
            ",comments,date_created,date_released,engineer,favorites,id,information,listens,producer,tags,title,tracks,type,active_year_begin,active_year_end,associated_labels,bio,comments,date_created,favorites,id,latitude,location,longitude,members,name,related_projects,tags,website,wikipedia_page,split,subset,bit_rate,comments,composer,date_created,date_recorded,duration,favorites,genre_top,genres,genres_all,information,interest,language_code,license,listens,lyricist,number,publisher,tags,title\n",
            "track_id,,,,,,,,,,,,,,,,,,,,,,,,,,,,,,,,,,,,,,,,,,,,,,,,,,,,\n",
            "2,0,2008-11-26 01:44:45,2009-01-05 00:00:00,,4,1,<p></p>,6073,,[],AWOL - A Way Of Life,7,Album,2006-01-01 00:00:00,,,\"<p>A Way Of Life, A Collective of Hip-Hop from NJ...................</p>\",0,2008-11-26 01:42:32,9,1,40.0583238,New Jersey,-74.4056612,\"Sajje Morocco,Brownbum,ZawidaGod,Custodian of Records,Zooberelli the Don,F.A.H,MadSicka,Damien Omenicci..and a van load more...\",AWOL,The list of past projects is 2 long but every1 and every style from Tabby Bonet 2 M.O.P..Azillion Records Flagship trackmaster DJ BrownBum is a beat Wizard.....A-2-Z..illion....(right now working with JerseyBlock Ent),['awol'],http://www.AzillionRecords.blogspot.com,,training,small,256000,0,,2008-11-26 01:48:12,2008-11-26 00:00:00,168,2,Hip-Hop,[21],[21],,4656,en,Attribution-NonCommercial-ShareAlike 3.0 International,1293,,3,,[],Food\n",
            "3,0,2008-11-26 01:44:45,2009-01-05 00:00:00,,4,1,<p></p>,6073,,[],AWOL - A Way Of Life,7,Album,2006-01-01 00:00:00,,,\"<p>A Way Of Life, A Collective of Hip-Hop from NJ...................</p>\",0,2008-11-26 01:42:32,9,1,40.0583238,New Jersey,-74.4056612,\"Sajje Morocco,Brownbum,ZawidaGod,Custodian of Records,Zooberelli the Don,F.A.H,MadSicka,Damien Omenicci..and a van load more...\",AWOL,The list of past projects is 2 long but every1 and every style from Tabby Bonet 2 M.O.P..Azillion Records Flagship trackmaster DJ BrownBum is a beat Wizard.....A-2-Z..illion....(right now working with JerseyBlock Ent),['awol'],http://www.AzillionRecords.blogspot.com,,training,medium,256000,0,,2008-11-26 01:48:14,2008-11-26 00:00:00,237,1,Hip-Hop,[21],[21],,1470,en,Attribution-NonCommercial-ShareAlike 3.0 International,514,,4,,[],Electric Ave\n",
            "5,0,2008-11-26 01:44:45,2009-01-05 00:00:00,,4,1,<p></p>,6073,,[],AWOL - A Way Of Life,7,Album,2006-01-01 00:00:00,,,\"<p>A Way Of Life, A Collective of Hip-Hop from NJ...................</p>\",0,2008-11-26 01:42:32,9,1,40.0583238,New Jersey,-74.4056612,\"Sajje Morocco,Brownbum,ZawidaGod,Custodian of Records,Zooberelli the Don,F.A.H,MadSicka,Damien Omenicci..and a van load more...\",AWOL,The list of past projects is 2 long but every1 and every style from Tabby Bonet 2 M.O.P..Azillion Records Flagship trackmaster DJ BrownBum is a beat Wizard.....A-2-Z..illion....(right now working with JerseyBlock Ent),['awol'],http://www.AzillionRecords.blogspot.com,,training,small,256000,0,,2008-11-26 01:48:20,2008-11-26 00:00:00,206,6,Hip-Hop,[21],[21],,1933,en,Attribution-NonCommercial-ShareAlike 3.0 International,1151,,6,,[],This World\n",
            "10,0,2008-11-26 01:45:08,2008-02-06 00:00:00,,4,6,,47632,,[],Constant Hitmaker,2,Album,,,\"Mexican Summer, Richie Records, Woodsist, Skulltones\",\"<p><span style=\"\"font-family:Verdana, Geneva, Arial;font-size:xx-small;\"\">\"\"Philly's Constant Hitmaker\"\" Kurt Vile plays psychedelic experimental pop infused with a classic, folksy directness. 2008's Gulcher Records release <i>Constant Hitmaker</i> more than lives up to the name. Vile's a consistent live performer who's shared the stage with a range of sonic adventurers and avant pop-stars including Sonic Youth, Big Star, Blues Control, Magik Markers, and Ariel Pink's Haunted Graffiti.</span></p><p><span style=\"\"font-family:Verdana, Geneva, Arial;font-size:xx-small;\"\">After a slew of limited releases on labels like Mexican Summer, Richie Records, Woodsist, and Skulltones,</span><span style=\"\"font-family:Verdana, Geneva, Arial;font-size:xx-small;\"\"> Kurt Vile signed to Matador Records who released his first proper full-length (the Gulcher release was more of a \"\"greatest hits\"\"), <a title=\"\"Childish Prodigy\"\" href=\"\"http://www.matadorrecords.com/store/index.php?catalog_id=387\"\">Childish Prodigy</a>.<br /></span></p>\",3,2008-11-26 01:42:55,74,6,,,,\"Kurt Vile, the Violators\",Kurt Vile,,\"['philly', 'kurt vile']\",http://kurtvile.com,,training,small,192000,0,Kurt Vile,2008-11-25 17:49:06,2008-11-26 00:00:00,161,178,Pop,[10],[10],,54881,en,Attribution-NonCommercial-NoDerivatives (aka Music Sharing) 3.0 International,50135,,1,,[],Freeway\n",
            "20,0,2008-11-26 01:45:05,2009-01-06 00:00:00,,2,4,\"<p> \"\"spiritual songs\"\" from Nicky Cook</p>\",2710,,[],Niris,13,Album,1990-01-01 00:00:00,2011-01-01 00:00:00,,\"<p>Songs written by: Nicky Cook</p>\n",
            "<p>VOCALS, CAJON AND TABLA+ UKELELE</p>\",2,2008-11-26 01:42:52,10,4,51.895927,Colchester England,0.891874,\"Nicky Cook\n",
            "\",Nicky Cook,,\"['instrumentals', 'experimental pop', 'post punk', 'experimental rock', 'soundtracks', 'lo fi', 'nicky', 'impro', 'cook', 'nicky andrews', 'ukelele', 'nicky cook', 'singer songwriter', 'tabla']\",,,training,large,256000,0,,2008-11-26 01:48:56,2008-01-01 00:00:00,311,0,,\"[76, 103]\",\"[17, 10, 76, 103]\",,978,en,Attribution-NonCommercial-NoDerivatives (aka Music Sharing) 3.0 International,361,,3,,[],Spiritual Level\n"
          ],
          "name": "stdout"
        }
      ]
    },
    {
      "metadata": {
        "id": "VbUJKyI1LRwD",
        "colab_type": "code",
        "outputId": "bf17cd87-75fa-4a3b-90eb-1a2eb5c3128b",
        "colab": {
          "base_uri": "https://localhost:8080/",
          "height": 71
        }
      },
      "cell_type": "code",
      "source": [
        "tracks = pd.read_csv('fma_metadata/tracks.csv', skiprows=1)"
      ],
      "execution_count": 5,
      "outputs": [
        {
          "output_type": "stream",
          "text": [
            "/usr/local/lib/python3.6/dist-packages/IPython/core/interactiveshell.py:2718: DtypeWarning: Columns (0) have mixed types. Specify dtype option on import or set low_memory=False.\n",
            "  interactivity=interactivity, compiler=compiler, result=result)\n"
          ],
          "name": "stderr"
        }
      ]
    },
    {
      "metadata": {
        "id": "ut-Zfhp2LjcS",
        "colab_type": "code",
        "outputId": "40585136-926d-40d3-ceb7-cd1a9f3baa65",
        "colab": {
          "base_uri": "https://localhost:8080/",
          "height": 317
        }
      },
      "cell_type": "code",
      "source": [
        "tracks.describe()"
      ],
      "execution_count": 9,
      "outputs": [
        {
          "output_type": "execute_result",
          "data": {
            "text/html": [
              "<div>\n",
              "<style scoped>\n",
              "    .dataframe tbody tr th:only-of-type {\n",
              "        vertical-align: middle;\n",
              "    }\n",
              "\n",
              "    .dataframe tbody tr th {\n",
              "        vertical-align: top;\n",
              "    }\n",
              "\n",
              "    .dataframe thead th {\n",
              "        text-align: right;\n",
              "    }\n",
              "</style>\n",
              "<table border=\"1\" class=\"dataframe\">\n",
              "  <thead>\n",
              "    <tr style=\"text-align: right;\">\n",
              "      <th></th>\n",
              "      <th>comments</th>\n",
              "      <th>favorites</th>\n",
              "      <th>id</th>\n",
              "      <th>listens</th>\n",
              "      <th>tracks</th>\n",
              "      <th>comments.1</th>\n",
              "      <th>favorites.1</th>\n",
              "      <th>id.1</th>\n",
              "      <th>latitude</th>\n",
              "      <th>longitude</th>\n",
              "      <th>bit_rate</th>\n",
              "      <th>comments.2</th>\n",
              "      <th>duration</th>\n",
              "      <th>favorites.2</th>\n",
              "      <th>interest</th>\n",
              "      <th>listens.1</th>\n",
              "      <th>number</th>\n",
              "    </tr>\n",
              "  </thead>\n",
              "  <tbody>\n",
              "    <tr>\n",
              "      <th>count</th>\n",
              "      <td>106574.000000</td>\n",
              "      <td>106574.000000</td>\n",
              "      <td>106574.000000</td>\n",
              "      <td>1.065740e+05</td>\n",
              "      <td>106574.000000</td>\n",
              "      <td>106574.000000</td>\n",
              "      <td>106574.000000</td>\n",
              "      <td>106574.000000</td>\n",
              "      <td>44544.000000</td>\n",
              "      <td>44544.000000</td>\n",
              "      <td>106574.000000</td>\n",
              "      <td>106574.000000</td>\n",
              "      <td>106574.000000</td>\n",
              "      <td>106574.000000</td>\n",
              "      <td>1.065740e+05</td>\n",
              "      <td>106574.000000</td>\n",
              "      <td>106574.000000</td>\n",
              "    </tr>\n",
              "    <tr>\n",
              "      <th>mean</th>\n",
              "      <td>0.394946</td>\n",
              "      <td>1.286927</td>\n",
              "      <td>12826.933914</td>\n",
              "      <td>3.212031e+04</td>\n",
              "      <td>19.721452</td>\n",
              "      <td>1.894702</td>\n",
              "      <td>30.041915</td>\n",
              "      <td>12036.770404</td>\n",
              "      <td>39.901626</td>\n",
              "      <td>-38.668642</td>\n",
              "      <td>263274.695048</td>\n",
              "      <td>0.031621</td>\n",
              "      <td>277.849100</td>\n",
              "      <td>3.182521</td>\n",
              "      <td>3.541310e+03</td>\n",
              "      <td>2329.353548</td>\n",
              "      <td>8.260945</td>\n",
              "    </tr>\n",
              "    <tr>\n",
              "      <th>std</th>\n",
              "      <td>2.268915</td>\n",
              "      <td>3.133035</td>\n",
              "      <td>6290.261805</td>\n",
              "      <td>1.478532e+05</td>\n",
              "      <td>39.943673</td>\n",
              "      <td>6.297679</td>\n",
              "      <td>100.511408</td>\n",
              "      <td>6881.420867</td>\n",
              "      <td>18.240860</td>\n",
              "      <td>65.237220</td>\n",
              "      <td>67623.443584</td>\n",
              "      <td>0.321993</td>\n",
              "      <td>305.518553</td>\n",
              "      <td>13.513820</td>\n",
              "      <td>1.901743e+04</td>\n",
              "      <td>8028.070647</td>\n",
              "      <td>15.243271</td>\n",
              "    </tr>\n",
              "    <tr>\n",
              "      <th>min</th>\n",
              "      <td>-1.000000</td>\n",
              "      <td>-1.000000</td>\n",
              "      <td>-1.000000</td>\n",
              "      <td>-1.000000e+00</td>\n",
              "      <td>-1.000000</td>\n",
              "      <td>-1.000000</td>\n",
              "      <td>-1.000000</td>\n",
              "      <td>1.000000</td>\n",
              "      <td>-45.878760</td>\n",
              "      <td>-157.526855</td>\n",
              "      <td>-1.000000</td>\n",
              "      <td>0.000000</td>\n",
              "      <td>0.000000</td>\n",
              "      <td>0.000000</td>\n",
              "      <td>2.000000e+00</td>\n",
              "      <td>0.000000</td>\n",
              "      <td>0.000000</td>\n",
              "    </tr>\n",
              "    <tr>\n",
              "      <th>25%</th>\n",
              "      <td>0.000000</td>\n",
              "      <td>0.000000</td>\n",
              "      <td>7793.000000</td>\n",
              "      <td>3.361000e+03</td>\n",
              "      <td>7.000000</td>\n",
              "      <td>0.000000</td>\n",
              "      <td>1.000000</td>\n",
              "      <td>6443.000000</td>\n",
              "      <td>39.271398</td>\n",
              "      <td>-79.997459</td>\n",
              "      <td>192000.000000</td>\n",
              "      <td>0.000000</td>\n",
              "      <td>149.000000</td>\n",
              "      <td>0.000000</td>\n",
              "      <td>5.990000e+02</td>\n",
              "      <td>292.000000</td>\n",
              "      <td>2.000000</td>\n",
              "    </tr>\n",
              "    <tr>\n",
              "      <th>50%</th>\n",
              "      <td>0.000000</td>\n",
              "      <td>0.000000</td>\n",
              "      <td>13374.000000</td>\n",
              "      <td>8.982000e+03</td>\n",
              "      <td>11.000000</td>\n",
              "      <td>0.000000</td>\n",
              "      <td>5.000000</td>\n",
              "      <td>12029.500000</td>\n",
              "      <td>41.387917</td>\n",
              "      <td>-73.554431</td>\n",
              "      <td>299914.000000</td>\n",
              "      <td>0.000000</td>\n",
              "      <td>216.000000</td>\n",
              "      <td>1.000000</td>\n",
              "      <td>1.314000e+03</td>\n",
              "      <td>764.000000</td>\n",
              "      <td>5.000000</td>\n",
              "    </tr>\n",
              "    <tr>\n",
              "      <th>75%</th>\n",
              "      <td>0.000000</td>\n",
              "      <td>1.000000</td>\n",
              "      <td>18203.000000</td>\n",
              "      <td>2.363500e+04</td>\n",
              "      <td>17.000000</td>\n",
              "      <td>1.000000</td>\n",
              "      <td>16.000000</td>\n",
              "      <td>18011.000000</td>\n",
              "      <td>48.856930</td>\n",
              "      <td>4.351710</td>\n",
              "      <td>320000.000000</td>\n",
              "      <td>0.000000</td>\n",
              "      <td>305.000000</td>\n",
              "      <td>3.000000</td>\n",
              "      <td>3.059000e+03</td>\n",
              "      <td>2018.000000</td>\n",
              "      <td>9.000000</td>\n",
              "    </tr>\n",
              "    <tr>\n",
              "      <th>max</th>\n",
              "      <td>53.000000</td>\n",
              "      <td>61.000000</td>\n",
              "      <td>22940.000000</td>\n",
              "      <td>3.564243e+06</td>\n",
              "      <td>652.000000</td>\n",
              "      <td>79.000000</td>\n",
              "      <td>963.000000</td>\n",
              "      <td>24357.000000</td>\n",
              "      <td>67.286005</td>\n",
              "      <td>175.277000</td>\n",
              "      <td>448000.000000</td>\n",
              "      <td>37.000000</td>\n",
              "      <td>18350.000000</td>\n",
              "      <td>1482.000000</td>\n",
              "      <td>3.293557e+06</td>\n",
              "      <td>543252.000000</td>\n",
              "      <td>255.000000</td>\n",
              "    </tr>\n",
              "  </tbody>\n",
              "</table>\n",
              "</div>"
            ],
            "text/plain": [
              "            comments      favorites             id       listens  \\\n",
              "count  106574.000000  106574.000000  106574.000000  1.065740e+05   \n",
              "mean        0.394946       1.286927   12826.933914  3.212031e+04   \n",
              "std         2.268915       3.133035    6290.261805  1.478532e+05   \n",
              "min        -1.000000      -1.000000      -1.000000 -1.000000e+00   \n",
              "25%         0.000000       0.000000    7793.000000  3.361000e+03   \n",
              "50%         0.000000       0.000000   13374.000000  8.982000e+03   \n",
              "75%         0.000000       1.000000   18203.000000  2.363500e+04   \n",
              "max        53.000000      61.000000   22940.000000  3.564243e+06   \n",
              "\n",
              "              tracks     comments.1    favorites.1           id.1  \\\n",
              "count  106574.000000  106574.000000  106574.000000  106574.000000   \n",
              "mean       19.721452       1.894702      30.041915   12036.770404   \n",
              "std        39.943673       6.297679     100.511408    6881.420867   \n",
              "min        -1.000000      -1.000000      -1.000000       1.000000   \n",
              "25%         7.000000       0.000000       1.000000    6443.000000   \n",
              "50%        11.000000       0.000000       5.000000   12029.500000   \n",
              "75%        17.000000       1.000000      16.000000   18011.000000   \n",
              "max       652.000000      79.000000     963.000000   24357.000000   \n",
              "\n",
              "           latitude     longitude       bit_rate     comments.2  \\\n",
              "count  44544.000000  44544.000000  106574.000000  106574.000000   \n",
              "mean      39.901626    -38.668642  263274.695048       0.031621   \n",
              "std       18.240860     65.237220   67623.443584       0.321993   \n",
              "min      -45.878760   -157.526855      -1.000000       0.000000   \n",
              "25%       39.271398    -79.997459  192000.000000       0.000000   \n",
              "50%       41.387917    -73.554431  299914.000000       0.000000   \n",
              "75%       48.856930      4.351710  320000.000000       0.000000   \n",
              "max       67.286005    175.277000  448000.000000      37.000000   \n",
              "\n",
              "            duration    favorites.2      interest      listens.1  \\\n",
              "count  106574.000000  106574.000000  1.065740e+05  106574.000000   \n",
              "mean      277.849100       3.182521  3.541310e+03    2329.353548   \n",
              "std       305.518553      13.513820  1.901743e+04    8028.070647   \n",
              "min         0.000000       0.000000  2.000000e+00       0.000000   \n",
              "25%       149.000000       0.000000  5.990000e+02     292.000000   \n",
              "50%       216.000000       1.000000  1.314000e+03     764.000000   \n",
              "75%       305.000000       3.000000  3.059000e+03    2018.000000   \n",
              "max     18350.000000    1482.000000  3.293557e+06  543252.000000   \n",
              "\n",
              "              number  \n",
              "count  106574.000000  \n",
              "mean        8.260945  \n",
              "std        15.243271  \n",
              "min         0.000000  \n",
              "25%         2.000000  \n",
              "50%         5.000000  \n",
              "75%         9.000000  \n",
              "max       255.000000  "
            ]
          },
          "metadata": {
            "tags": []
          },
          "execution_count": 9
        }
      ]
    },
    {
      "metadata": {
        "id": "_qzn-IjIM1Pw",
        "colab_type": "code",
        "outputId": "8e0257f4-6c8c-4846-bf80-e3ccb9f69c4d",
        "colab": {
          "base_uri": "https://localhost:8080/",
          "height": 479
        }
      },
      "cell_type": "code",
      "source": [
        "\n",
        "pd.set_option('display.max_columns', None)  # Unlimited columns\n",
        "tracks.head()"
      ],
      "execution_count": 0,
      "outputs": [
        {
          "output_type": "execute_result",
          "data": {
            "text/html": [
              "<div>\n",
              "<style scoped>\n",
              "    .dataframe tbody tr th:only-of-type {\n",
              "        vertical-align: middle;\n",
              "    }\n",
              "\n",
              "    .dataframe tbody tr th {\n",
              "        vertical-align: top;\n",
              "    }\n",
              "\n",
              "    .dataframe thead th {\n",
              "        text-align: right;\n",
              "    }\n",
              "</style>\n",
              "<table border=\"1\" class=\"dataframe\">\n",
              "  <thead>\n",
              "    <tr style=\"text-align: right;\">\n",
              "      <th></th>\n",
              "      <th>comments</th>\n",
              "      <th>date_created</th>\n",
              "      <th>date_released</th>\n",
              "      <th>engineer</th>\n",
              "      <th>favorites</th>\n",
              "      <th>id</th>\n",
              "      <th>information</th>\n",
              "      <th>listens</th>\n",
              "      <th>producer</th>\n",
              "      <th>tags</th>\n",
              "      <th>title</th>\n",
              "      <th>tracks</th>\n",
              "      <th>type</th>\n",
              "      <th>active_year_begin</th>\n",
              "      <th>active_year_end</th>\n",
              "      <th>associated_labels</th>\n",
              "      <th>bio</th>\n",
              "      <th>comments.1</th>\n",
              "      <th>date_created.1</th>\n",
              "      <th>favorites.1</th>\n",
              "      <th>id.1</th>\n",
              "      <th>latitude</th>\n",
              "      <th>location</th>\n",
              "      <th>longitude</th>\n",
              "      <th>members</th>\n",
              "      <th>name</th>\n",
              "      <th>related_projects</th>\n",
              "      <th>tags.1</th>\n",
              "      <th>website</th>\n",
              "      <th>wikipedia_page</th>\n",
              "      <th>split</th>\n",
              "      <th>subset</th>\n",
              "      <th>bit_rate</th>\n",
              "      <th>comments.2</th>\n",
              "      <th>composer</th>\n",
              "      <th>date_created.2</th>\n",
              "      <th>date_recorded</th>\n",
              "      <th>duration</th>\n",
              "      <th>favorites.2</th>\n",
              "      <th>genre_top</th>\n",
              "      <th>genres</th>\n",
              "      <th>genres_all</th>\n",
              "      <th>information.1</th>\n",
              "      <th>interest</th>\n",
              "      <th>language_code</th>\n",
              "      <th>license</th>\n",
              "      <th>listens.1</th>\n",
              "      <th>lyricist</th>\n",
              "      <th>number</th>\n",
              "      <th>publisher</th>\n",
              "      <th>tags.2</th>\n",
              "      <th>title.1</th>\n",
              "    </tr>\n",
              "  </thead>\n",
              "  <tbody>\n",
              "    <tr>\n",
              "      <th>1</th>\n",
              "      <td>0.0</td>\n",
              "      <td>2008-11-26 01:44:45</td>\n",
              "      <td>2009-01-05 00:00:00</td>\n",
              "      <td>NaN</td>\n",
              "      <td>4.0</td>\n",
              "      <td>1.0</td>\n",
              "      <td>&lt;p&gt;&lt;/p&gt;</td>\n",
              "      <td>6073.0</td>\n",
              "      <td>NaN</td>\n",
              "      <td>[]</td>\n",
              "      <td>AWOL - A Way Of Life</td>\n",
              "      <td>7.0</td>\n",
              "      <td>Album</td>\n",
              "      <td>2006-01-01 00:00:00</td>\n",
              "      <td>NaN</td>\n",
              "      <td>NaN</td>\n",
              "      <td>&lt;p&gt;A Way Of Life, A Collective of Hip-Hop from...</td>\n",
              "      <td>0.0</td>\n",
              "      <td>2008-11-26 01:42:32</td>\n",
              "      <td>9.0</td>\n",
              "      <td>1.0</td>\n",
              "      <td>40.058324</td>\n",
              "      <td>New Jersey</td>\n",
              "      <td>-74.405661</td>\n",
              "      <td>Sajje Morocco,Brownbum,ZawidaGod,Custodian of ...</td>\n",
              "      <td>AWOL</td>\n",
              "      <td>The list of past projects is 2 long but every1...</td>\n",
              "      <td>['awol']</td>\n",
              "      <td>http://www.AzillionRecords.blogspot.com</td>\n",
              "      <td>NaN</td>\n",
              "      <td>training</td>\n",
              "      <td>small</td>\n",
              "      <td>256000.0</td>\n",
              "      <td>0.0</td>\n",
              "      <td>NaN</td>\n",
              "      <td>2008-11-26 01:48:12</td>\n",
              "      <td>2008-11-26 00:00:00</td>\n",
              "      <td>168.0</td>\n",
              "      <td>2.0</td>\n",
              "      <td>Hip-Hop</td>\n",
              "      <td>[21]</td>\n",
              "      <td>[21]</td>\n",
              "      <td>NaN</td>\n",
              "      <td>4656.0</td>\n",
              "      <td>en</td>\n",
              "      <td>Attribution-NonCommercial-ShareAlike 3.0 Inter...</td>\n",
              "      <td>1293.0</td>\n",
              "      <td>NaN</td>\n",
              "      <td>3.0</td>\n",
              "      <td>NaN</td>\n",
              "      <td>[]</td>\n",
              "      <td>Food</td>\n",
              "    </tr>\n",
              "    <tr>\n",
              "      <th>2</th>\n",
              "      <td>0.0</td>\n",
              "      <td>2008-11-26 01:44:45</td>\n",
              "      <td>2009-01-05 00:00:00</td>\n",
              "      <td>NaN</td>\n",
              "      <td>4.0</td>\n",
              "      <td>1.0</td>\n",
              "      <td>&lt;p&gt;&lt;/p&gt;</td>\n",
              "      <td>6073.0</td>\n",
              "      <td>NaN</td>\n",
              "      <td>[]</td>\n",
              "      <td>AWOL - A Way Of Life</td>\n",
              "      <td>7.0</td>\n",
              "      <td>Album</td>\n",
              "      <td>2006-01-01 00:00:00</td>\n",
              "      <td>NaN</td>\n",
              "      <td>NaN</td>\n",
              "      <td>&lt;p&gt;A Way Of Life, A Collective of Hip-Hop from...</td>\n",
              "      <td>0.0</td>\n",
              "      <td>2008-11-26 01:42:32</td>\n",
              "      <td>9.0</td>\n",
              "      <td>1.0</td>\n",
              "      <td>40.058324</td>\n",
              "      <td>New Jersey</td>\n",
              "      <td>-74.405661</td>\n",
              "      <td>Sajje Morocco,Brownbum,ZawidaGod,Custodian of ...</td>\n",
              "      <td>AWOL</td>\n",
              "      <td>The list of past projects is 2 long but every1...</td>\n",
              "      <td>['awol']</td>\n",
              "      <td>http://www.AzillionRecords.blogspot.com</td>\n",
              "      <td>NaN</td>\n",
              "      <td>training</td>\n",
              "      <td>medium</td>\n",
              "      <td>256000.0</td>\n",
              "      <td>0.0</td>\n",
              "      <td>NaN</td>\n",
              "      <td>2008-11-26 01:48:14</td>\n",
              "      <td>2008-11-26 00:00:00</td>\n",
              "      <td>237.0</td>\n",
              "      <td>1.0</td>\n",
              "      <td>Hip-Hop</td>\n",
              "      <td>[21]</td>\n",
              "      <td>[21]</td>\n",
              "      <td>NaN</td>\n",
              "      <td>1470.0</td>\n",
              "      <td>en</td>\n",
              "      <td>Attribution-NonCommercial-ShareAlike 3.0 Inter...</td>\n",
              "      <td>514.0</td>\n",
              "      <td>NaN</td>\n",
              "      <td>4.0</td>\n",
              "      <td>NaN</td>\n",
              "      <td>[]</td>\n",
              "      <td>Electric Ave</td>\n",
              "    </tr>\n",
              "    <tr>\n",
              "      <th>3</th>\n",
              "      <td>0.0</td>\n",
              "      <td>2008-11-26 01:44:45</td>\n",
              "      <td>2009-01-05 00:00:00</td>\n",
              "      <td>NaN</td>\n",
              "      <td>4.0</td>\n",
              "      <td>1.0</td>\n",
              "      <td>&lt;p&gt;&lt;/p&gt;</td>\n",
              "      <td>6073.0</td>\n",
              "      <td>NaN</td>\n",
              "      <td>[]</td>\n",
              "      <td>AWOL - A Way Of Life</td>\n",
              "      <td>7.0</td>\n",
              "      <td>Album</td>\n",
              "      <td>2006-01-01 00:00:00</td>\n",
              "      <td>NaN</td>\n",
              "      <td>NaN</td>\n",
              "      <td>&lt;p&gt;A Way Of Life, A Collective of Hip-Hop from...</td>\n",
              "      <td>0.0</td>\n",
              "      <td>2008-11-26 01:42:32</td>\n",
              "      <td>9.0</td>\n",
              "      <td>1.0</td>\n",
              "      <td>40.058324</td>\n",
              "      <td>New Jersey</td>\n",
              "      <td>-74.405661</td>\n",
              "      <td>Sajje Morocco,Brownbum,ZawidaGod,Custodian of ...</td>\n",
              "      <td>AWOL</td>\n",
              "      <td>The list of past projects is 2 long but every1...</td>\n",
              "      <td>['awol']</td>\n",
              "      <td>http://www.AzillionRecords.blogspot.com</td>\n",
              "      <td>NaN</td>\n",
              "      <td>training</td>\n",
              "      <td>small</td>\n",
              "      <td>256000.0</td>\n",
              "      <td>0.0</td>\n",
              "      <td>NaN</td>\n",
              "      <td>2008-11-26 01:48:20</td>\n",
              "      <td>2008-11-26 00:00:00</td>\n",
              "      <td>206.0</td>\n",
              "      <td>6.0</td>\n",
              "      <td>Hip-Hop</td>\n",
              "      <td>[21]</td>\n",
              "      <td>[21]</td>\n",
              "      <td>NaN</td>\n",
              "      <td>1933.0</td>\n",
              "      <td>en</td>\n",
              "      <td>Attribution-NonCommercial-ShareAlike 3.0 Inter...</td>\n",
              "      <td>1151.0</td>\n",
              "      <td>NaN</td>\n",
              "      <td>6.0</td>\n",
              "      <td>NaN</td>\n",
              "      <td>[]</td>\n",
              "      <td>This World</td>\n",
              "    </tr>\n",
              "    <tr>\n",
              "      <th>4</th>\n",
              "      <td>0.0</td>\n",
              "      <td>2008-11-26 01:45:08</td>\n",
              "      <td>2008-02-06 00:00:00</td>\n",
              "      <td>NaN</td>\n",
              "      <td>4.0</td>\n",
              "      <td>6.0</td>\n",
              "      <td>NaN</td>\n",
              "      <td>47632.0</td>\n",
              "      <td>NaN</td>\n",
              "      <td>[]</td>\n",
              "      <td>Constant Hitmaker</td>\n",
              "      <td>2.0</td>\n",
              "      <td>Album</td>\n",
              "      <td>NaN</td>\n",
              "      <td>NaN</td>\n",
              "      <td>Mexican Summer, Richie Records, Woodsist, Skul...</td>\n",
              "      <td>&lt;p&gt;&lt;span style=\"font-family:Verdana, Geneva, A...</td>\n",
              "      <td>3.0</td>\n",
              "      <td>2008-11-26 01:42:55</td>\n",
              "      <td>74.0</td>\n",
              "      <td>6.0</td>\n",
              "      <td>NaN</td>\n",
              "      <td>NaN</td>\n",
              "      <td>NaN</td>\n",
              "      <td>Kurt Vile, the Violators</td>\n",
              "      <td>Kurt Vile</td>\n",
              "      <td>NaN</td>\n",
              "      <td>['philly', 'kurt vile']</td>\n",
              "      <td>http://kurtvile.com</td>\n",
              "      <td>NaN</td>\n",
              "      <td>training</td>\n",
              "      <td>small</td>\n",
              "      <td>192000.0</td>\n",
              "      <td>0.0</td>\n",
              "      <td>Kurt Vile</td>\n",
              "      <td>2008-11-25 17:49:06</td>\n",
              "      <td>2008-11-26 00:00:00</td>\n",
              "      <td>161.0</td>\n",
              "      <td>178.0</td>\n",
              "      <td>Pop</td>\n",
              "      <td>[10]</td>\n",
              "      <td>[10]</td>\n",
              "      <td>NaN</td>\n",
              "      <td>54881.0</td>\n",
              "      <td>en</td>\n",
              "      <td>Attribution-NonCommercial-NoDerivatives (aka M...</td>\n",
              "      <td>50135.0</td>\n",
              "      <td>NaN</td>\n",
              "      <td>1.0</td>\n",
              "      <td>NaN</td>\n",
              "      <td>[]</td>\n",
              "      <td>Freeway</td>\n",
              "    </tr>\n",
              "    <tr>\n",
              "      <th>5</th>\n",
              "      <td>0.0</td>\n",
              "      <td>2008-11-26 01:45:05</td>\n",
              "      <td>2009-01-06 00:00:00</td>\n",
              "      <td>NaN</td>\n",
              "      <td>2.0</td>\n",
              "      <td>4.0</td>\n",
              "      <td>&lt;p&gt; \"spiritual songs\" from Nicky Cook&lt;/p&gt;</td>\n",
              "      <td>2710.0</td>\n",
              "      <td>NaN</td>\n",
              "      <td>[]</td>\n",
              "      <td>Niris</td>\n",
              "      <td>13.0</td>\n",
              "      <td>Album</td>\n",
              "      <td>1990-01-01 00:00:00</td>\n",
              "      <td>2011-01-01 00:00:00</td>\n",
              "      <td>NaN</td>\n",
              "      <td>&lt;p&gt;Songs written by: Nicky Cook&lt;/p&gt;\\n&lt;p&gt;VOCALS...</td>\n",
              "      <td>2.0</td>\n",
              "      <td>2008-11-26 01:42:52</td>\n",
              "      <td>10.0</td>\n",
              "      <td>4.0</td>\n",
              "      <td>51.895927</td>\n",
              "      <td>Colchester England</td>\n",
              "      <td>0.891874</td>\n",
              "      <td>Nicky Cook\\n</td>\n",
              "      <td>Nicky Cook</td>\n",
              "      <td>NaN</td>\n",
              "      <td>['instrumentals', 'experimental pop', 'post pu...</td>\n",
              "      <td>NaN</td>\n",
              "      <td>NaN</td>\n",
              "      <td>training</td>\n",
              "      <td>large</td>\n",
              "      <td>256000.0</td>\n",
              "      <td>0.0</td>\n",
              "      <td>NaN</td>\n",
              "      <td>2008-11-26 01:48:56</td>\n",
              "      <td>2008-01-01 00:00:00</td>\n",
              "      <td>311.0</td>\n",
              "      <td>0.0</td>\n",
              "      <td>NaN</td>\n",
              "      <td>[76, 103]</td>\n",
              "      <td>[17, 10, 76, 103]</td>\n",
              "      <td>NaN</td>\n",
              "      <td>978.0</td>\n",
              "      <td>en</td>\n",
              "      <td>Attribution-NonCommercial-NoDerivatives (aka M...</td>\n",
              "      <td>361.0</td>\n",
              "      <td>NaN</td>\n",
              "      <td>3.0</td>\n",
              "      <td>NaN</td>\n",
              "      <td>[]</td>\n",
              "      <td>Spiritual Level</td>\n",
              "    </tr>\n",
              "  </tbody>\n",
              "</table>\n",
              "</div>"
            ],
            "text/plain": [
              "   comments         date_created        date_released engineer  favorites  \\\n",
              "1       0.0  2008-11-26 01:44:45  2009-01-05 00:00:00      NaN        4.0   \n",
              "2       0.0  2008-11-26 01:44:45  2009-01-05 00:00:00      NaN        4.0   \n",
              "3       0.0  2008-11-26 01:44:45  2009-01-05 00:00:00      NaN        4.0   \n",
              "4       0.0  2008-11-26 01:45:08  2008-02-06 00:00:00      NaN        4.0   \n",
              "5       0.0  2008-11-26 01:45:05  2009-01-06 00:00:00      NaN        2.0   \n",
              "\n",
              "    id                                information  listens producer tags  \\\n",
              "1  1.0                                    <p></p>   6073.0      NaN   []   \n",
              "2  1.0                                    <p></p>   6073.0      NaN   []   \n",
              "3  1.0                                    <p></p>   6073.0      NaN   []   \n",
              "4  6.0                                        NaN  47632.0      NaN   []   \n",
              "5  4.0  <p> \"spiritual songs\" from Nicky Cook</p>   2710.0      NaN   []   \n",
              "\n",
              "                  title  tracks   type    active_year_begin  \\\n",
              "1  AWOL - A Way Of Life     7.0  Album  2006-01-01 00:00:00   \n",
              "2  AWOL - A Way Of Life     7.0  Album  2006-01-01 00:00:00   \n",
              "3  AWOL - A Way Of Life     7.0  Album  2006-01-01 00:00:00   \n",
              "4     Constant Hitmaker     2.0  Album                  NaN   \n",
              "5                 Niris    13.0  Album  1990-01-01 00:00:00   \n",
              "\n",
              "       active_year_end                                  associated_labels  \\\n",
              "1                  NaN                                                NaN   \n",
              "2                  NaN                                                NaN   \n",
              "3                  NaN                                                NaN   \n",
              "4                  NaN  Mexican Summer, Richie Records, Woodsist, Skul...   \n",
              "5  2011-01-01 00:00:00                                                NaN   \n",
              "\n",
              "                                                 bio  comments.1  \\\n",
              "1  <p>A Way Of Life, A Collective of Hip-Hop from...         0.0   \n",
              "2  <p>A Way Of Life, A Collective of Hip-Hop from...         0.0   \n",
              "3  <p>A Way Of Life, A Collective of Hip-Hop from...         0.0   \n",
              "4  <p><span style=\"font-family:Verdana, Geneva, A...         3.0   \n",
              "5  <p>Songs written by: Nicky Cook</p>\\n<p>VOCALS...         2.0   \n",
              "\n",
              "        date_created.1  favorites.1  id.1   latitude            location  \\\n",
              "1  2008-11-26 01:42:32          9.0   1.0  40.058324          New Jersey   \n",
              "2  2008-11-26 01:42:32          9.0   1.0  40.058324          New Jersey   \n",
              "3  2008-11-26 01:42:32          9.0   1.0  40.058324          New Jersey   \n",
              "4  2008-11-26 01:42:55         74.0   6.0        NaN                 NaN   \n",
              "5  2008-11-26 01:42:52         10.0   4.0  51.895927  Colchester England   \n",
              "\n",
              "   longitude                                            members        name  \\\n",
              "1 -74.405661  Sajje Morocco,Brownbum,ZawidaGod,Custodian of ...        AWOL   \n",
              "2 -74.405661  Sajje Morocco,Brownbum,ZawidaGod,Custodian of ...        AWOL   \n",
              "3 -74.405661  Sajje Morocco,Brownbum,ZawidaGod,Custodian of ...        AWOL   \n",
              "4        NaN                           Kurt Vile, the Violators   Kurt Vile   \n",
              "5   0.891874                                       Nicky Cook\\n  Nicky Cook   \n",
              "\n",
              "                                    related_projects  \\\n",
              "1  The list of past projects is 2 long but every1...   \n",
              "2  The list of past projects is 2 long but every1...   \n",
              "3  The list of past projects is 2 long but every1...   \n",
              "4                                                NaN   \n",
              "5                                                NaN   \n",
              "\n",
              "                                              tags.1  \\\n",
              "1                                           ['awol']   \n",
              "2                                           ['awol']   \n",
              "3                                           ['awol']   \n",
              "4                            ['philly', 'kurt vile']   \n",
              "5  ['instrumentals', 'experimental pop', 'post pu...   \n",
              "\n",
              "                                   website wikipedia_page     split  subset  \\\n",
              "1  http://www.AzillionRecords.blogspot.com            NaN  training   small   \n",
              "2  http://www.AzillionRecords.blogspot.com            NaN  training  medium   \n",
              "3  http://www.AzillionRecords.blogspot.com            NaN  training   small   \n",
              "4                      http://kurtvile.com            NaN  training   small   \n",
              "5                                      NaN            NaN  training   large   \n",
              "\n",
              "   bit_rate  comments.2   composer       date_created.2        date_recorded  \\\n",
              "1  256000.0         0.0        NaN  2008-11-26 01:48:12  2008-11-26 00:00:00   \n",
              "2  256000.0         0.0        NaN  2008-11-26 01:48:14  2008-11-26 00:00:00   \n",
              "3  256000.0         0.0        NaN  2008-11-26 01:48:20  2008-11-26 00:00:00   \n",
              "4  192000.0         0.0  Kurt Vile  2008-11-25 17:49:06  2008-11-26 00:00:00   \n",
              "5  256000.0         0.0        NaN  2008-11-26 01:48:56  2008-01-01 00:00:00   \n",
              "\n",
              "   duration  favorites.2 genre_top     genres         genres_all  \\\n",
              "1     168.0          2.0   Hip-Hop       [21]               [21]   \n",
              "2     237.0          1.0   Hip-Hop       [21]               [21]   \n",
              "3     206.0          6.0   Hip-Hop       [21]               [21]   \n",
              "4     161.0        178.0       Pop       [10]               [10]   \n",
              "5     311.0          0.0       NaN  [76, 103]  [17, 10, 76, 103]   \n",
              "\n",
              "  information.1  interest language_code  \\\n",
              "1           NaN    4656.0            en   \n",
              "2           NaN    1470.0            en   \n",
              "3           NaN    1933.0            en   \n",
              "4           NaN   54881.0            en   \n",
              "5           NaN     978.0            en   \n",
              "\n",
              "                                             license  listens.1 lyricist  \\\n",
              "1  Attribution-NonCommercial-ShareAlike 3.0 Inter...     1293.0      NaN   \n",
              "2  Attribution-NonCommercial-ShareAlike 3.0 Inter...      514.0      NaN   \n",
              "3  Attribution-NonCommercial-ShareAlike 3.0 Inter...     1151.0      NaN   \n",
              "4  Attribution-NonCommercial-NoDerivatives (aka M...    50135.0      NaN   \n",
              "5  Attribution-NonCommercial-NoDerivatives (aka M...      361.0      NaN   \n",
              "\n",
              "   number publisher tags.2          title.1  \n",
              "1     3.0       NaN     []             Food  \n",
              "2     4.0       NaN     []     Electric Ave  \n",
              "3     6.0       NaN     []       This World  \n",
              "4     1.0       NaN     []          Freeway  \n",
              "5     3.0       NaN     []  Spiritual Level  "
            ]
          },
          "metadata": {
            "tags": []
          },
          "execution_count": 35
        }
      ]
    },
    {
      "metadata": {
        "id": "3B-JWnS2ASFW",
        "colab_type": "code",
        "colab": {}
      },
      "cell_type": "code",
      "source": [
        "# run after each read\n",
        "tracks = tracks.drop(tracks.index[0])\n",
        "del tracks['Unnamed: 0']"
      ],
      "execution_count": 0,
      "outputs": []
    },
    {
      "metadata": {
        "id": "5DvMPiM8MZeY",
        "colab_type": "code",
        "outputId": "bbd85a6b-0e64-48be-d2b0-30ab5a328e87",
        "colab": {
          "base_uri": "https://localhost:8080/",
          "height": 34
        }
      },
      "cell_type": "code",
      "source": [
        "tracks.shape"
      ],
      "execution_count": 8,
      "outputs": [
        {
          "output_type": "execute_result",
          "data": {
            "text/plain": [
              "(106574, 52)"
            ]
          },
          "metadata": {
            "tags": []
          },
          "execution_count": 8
        }
      ]
    },
    {
      "metadata": {
        "id": "DnCZESj8L6U0",
        "colab_type": "code",
        "colab": {}
      },
      "cell_type": "code",
      "source": [
        "#genres = pd.read_csv('fma_metadata/genres.csv')"
      ],
      "execution_count": 0,
      "outputs": []
    },
    {
      "metadata": {
        "id": "vesICgioMFhy",
        "colab_type": "code",
        "colab": {}
      },
      "cell_type": "code",
      "source": [
        "#genres"
      ],
      "execution_count": 0,
      "outputs": []
    },
    {
      "metadata": {
        "id": "lIuRByO-PpT9",
        "colab_type": "code",
        "outputId": "db884ef0-5b3e-45d3-fe4d-d45fd37baaeb",
        "colab": {
          "base_uri": "https://localhost:8080/",
          "height": 306
        }
      },
      "cell_type": "code",
      "source": [
        "tracks['genre_top'].value_counts()"
      ],
      "execution_count": 10,
      "outputs": [
        {
          "output_type": "execute_result",
          "data": {
            "text/plain": [
              "Rock                   14182\n",
              "Experimental           10608\n",
              "Electronic              9372\n",
              "Hip-Hop                 3552\n",
              "Folk                    2803\n",
              "Pop                     2332\n",
              "Instrumental            2079\n",
              "International           1389\n",
              "Classical               1230\n",
              "Jazz                     571\n",
              "Old-Time / Historic      554\n",
              "Spoken                   423\n",
              "Country                  194\n",
              "Soul-RnB                 175\n",
              "Blues                    110\n",
              "Easy Listening            24\n",
              "Name: genre_top, dtype: int64"
            ]
          },
          "metadata": {
            "tags": []
          },
          "execution_count": 10
        }
      ]
    },
    {
      "metadata": {
        "id": "Wgrgx-nyR8D7",
        "colab_type": "code",
        "outputId": "4060b742-bc2e-49ed-fa6e-6ad5d77ef5cf",
        "colab": {
          "base_uri": "https://localhost:8080/",
          "height": 918
        }
      },
      "cell_type": "code",
      "source": [
        "tracks.isnull().sum().sort_values(ascending=False)"
      ],
      "execution_count": 11,
      "outputs": [
        {
          "output_type": "execute_result",
          "data": {
            "text/plain": [
              "lyricist             106263\n",
              "publisher            105311\n",
              "information.1        104225\n",
              "composer             102904\n",
              "active_year_end      101199\n",
              "wikipedia_page       100993\n",
              "date_recorded        100415\n",
              "related_projects      93422\n",
              "associated_labels     92303\n",
              "language_code         91550\n",
              "engineer              91279\n",
              "producer              88514\n",
              "active_year_begin     83863\n",
              "latitude              62030\n",
              "longitude             62030\n",
              "members               59725\n",
              "genre_top             56976\n",
              "location              36364\n",
              "date_released         36280\n",
              "bio                   35418\n",
              "website               27318\n",
              "information           23425\n",
              "type                   6508\n",
              "date_created           3529\n",
              "title                  1025\n",
              "date_created.1          856\n",
              "license                  87\n",
              "title.1                   1\n",
              "tracks                    0\n",
              "tags                      0\n",
              "comments.1                0\n",
              "listens                   0\n",
              "id                        0\n",
              "favorites                 0\n",
              "name                      0\n",
              "favorites.1               0\n",
              "duration                  0\n",
              "number                    0\n",
              "listens.1                 0\n",
              "interest                  0\n",
              "genres_all                0\n",
              "genres                    0\n",
              "favorites.2               0\n",
              "date_created.2            0\n",
              "id.1                      0\n",
              "comments.2                0\n",
              "bit_rate                  0\n",
              "subset                    0\n",
              "split                     0\n",
              "tags.1                    0\n",
              "tags.2                    0\n",
              "comments                  0\n",
              "dtype: int64"
            ]
          },
          "metadata": {
            "tags": []
          },
          "execution_count": 11
        }
      ]
    },
    {
      "metadata": {
        "id": "R0f_imTgZ4SD",
        "colab_type": "code",
        "colab": {}
      },
      "cell_type": "code",
      "source": [
        "df = tracks.dropna(subset=['genre_top'])"
      ],
      "execution_count": 0,
      "outputs": []
    },
    {
      "metadata": {
        "id": "w_Ij1CzJaCVe",
        "colab_type": "code",
        "outputId": "8613ef8a-163e-441e-f3af-6c72a456b49b",
        "colab": {
          "base_uri": "https://localhost:8080/",
          "height": 918
        }
      },
      "cell_type": "code",
      "source": [
        "df.isnull().sum().sort_values(ascending=False)"
      ],
      "execution_count": 13,
      "outputs": [
        {
          "output_type": "execute_result",
          "data": {
            "text/plain": [
              "lyricist             49498\n",
              "publisher            49188\n",
              "information.1        48294\n",
              "composer             48245\n",
              "active_year_end      47200\n",
              "wikipedia_page       46864\n",
              "date_recorded        45347\n",
              "related_projects     44233\n",
              "associated_labels    43455\n",
              "engineer             40687\n",
              "language_code        40215\n",
              "active_year_begin    40016\n",
              "producer             39372\n",
              "latitude             28618\n",
              "longitude            28618\n",
              "members              27653\n",
              "location             17488\n",
              "bio                  16194\n",
              "date_released        16086\n",
              "website              12693\n",
              "information          10154\n",
              "type                  2047\n",
              "date_created          1051\n",
              "title                  309\n",
              "date_created.1         215\n",
              "license                 59\n",
              "title.1                  1\n",
              "tags                     0\n",
              "tracks                   0\n",
              "listens                  0\n",
              "id                       0\n",
              "favorites                0\n",
              "comments.1               0\n",
              "name                     0\n",
              "favorites.1              0\n",
              "id.1                     0\n",
              "number                   0\n",
              "listens.1                0\n",
              "interest                 0\n",
              "genres_all               0\n",
              "genres                   0\n",
              "genre_top                0\n",
              "favorites.2              0\n",
              "duration                 0\n",
              "date_created.2           0\n",
              "comments.2               0\n",
              "bit_rate                 0\n",
              "subset                   0\n",
              "split                    0\n",
              "tags.1                   0\n",
              "tags.2                   0\n",
              "comments                 0\n",
              "dtype: int64"
            ]
          },
          "metadata": {
            "tags": []
          },
          "execution_count": 13
        }
      ]
    },
    {
      "metadata": {
        "id": "AuJKu4CEegj4",
        "colab_type": "code",
        "colab": {}
      },
      "cell_type": "code",
      "source": [
        "#df.columns[df.isna().any()].tolist()"
      ],
      "execution_count": 0,
      "outputs": []
    },
    {
      "metadata": {
        "id": "SMbdm5fgeuzk",
        "colab_type": "code",
        "colab": {}
      },
      "cell_type": "code",
      "source": [
        "df1 = df.drop(columns=df.columns[df.isna().any()].tolist())"
      ],
      "execution_count": 0,
      "outputs": []
    },
    {
      "metadata": {
        "id": "bkKgBqC_e98-",
        "colab_type": "code",
        "outputId": "660d5491-4274-42e5-9188-4cf8e55a1d68",
        "colab": {
          "base_uri": "https://localhost:8080/",
          "height": 34
        }
      },
      "cell_type": "code",
      "source": [
        "df1.shape"
      ],
      "execution_count": 17,
      "outputs": [
        {
          "output_type": "execute_result",
          "data": {
            "text/plain": [
              "(49598, 25)"
            ]
          },
          "metadata": {
            "tags": []
          },
          "execution_count": 17
        }
      ]
    },
    {
      "metadata": {
        "id": "jta9NGS6mgRk",
        "colab_type": "code",
        "outputId": "fc6c2b9d-3b58-40ea-cb32-f41945e9f37c",
        "colab": {
          "base_uri": "https://localhost:8080/",
          "height": 459
        }
      },
      "cell_type": "code",
      "source": [
        "df1.dtypes"
      ],
      "execution_count": 18,
      "outputs": [
        {
          "output_type": "execute_result",
          "data": {
            "text/plain": [
              "comments          float64\n",
              "favorites         float64\n",
              "id                float64\n",
              "listens           float64\n",
              "tags               object\n",
              "tracks            float64\n",
              "comments.1        float64\n",
              "favorites.1       float64\n",
              "id.1              float64\n",
              "name               object\n",
              "tags.1             object\n",
              "split              object\n",
              "subset             object\n",
              "bit_rate          float64\n",
              "comments.2        float64\n",
              "date_created.2     object\n",
              "duration          float64\n",
              "favorites.2       float64\n",
              "genre_top          object\n",
              "genres             object\n",
              "genres_all         object\n",
              "interest          float64\n",
              "listens.1         float64\n",
              "number            float64\n",
              "tags.2             object\n",
              "dtype: object"
            ]
          },
          "metadata": {
            "tags": []
          },
          "execution_count": 18
        }
      ]
    },
    {
      "metadata": {
        "id": "cK_pKXPnqjUc",
        "colab_type": "code",
        "outputId": "9f4926ba-16ad-4e67-931a-0c0405360ee4",
        "colab": {
          "base_uri": "https://localhost:8080/",
          "height": 306
        }
      },
      "cell_type": "code",
      "source": [
        "df1.genre_top.value_counts()"
      ],
      "execution_count": 19,
      "outputs": [
        {
          "output_type": "execute_result",
          "data": {
            "text/plain": [
              "Rock                   14182\n",
              "Experimental           10608\n",
              "Electronic              9372\n",
              "Hip-Hop                 3552\n",
              "Folk                    2803\n",
              "Pop                     2332\n",
              "Instrumental            2079\n",
              "International           1389\n",
              "Classical               1230\n",
              "Jazz                     571\n",
              "Old-Time / Historic      554\n",
              "Spoken                   423\n",
              "Country                  194\n",
              "Soul-RnB                 175\n",
              "Blues                    110\n",
              "Easy Listening            24\n",
              "Name: genre_top, dtype: int64"
            ]
          },
          "metadata": {
            "tags": []
          },
          "execution_count": 19
        }
      ]
    },
    {
      "metadata": {
        "id": "NPaEQgrPooFp",
        "colab_type": "code",
        "outputId": "bdeda1d0-3341-4884-c43b-85cb5db247f5",
        "colab": {
          "base_uri": "https://localhost:8080/",
          "height": 459
        }
      },
      "cell_type": "code",
      "source": [
        "df1.isnull().sum()"
      ],
      "execution_count": 21,
      "outputs": [
        {
          "output_type": "execute_result",
          "data": {
            "text/plain": [
              "comments          0\n",
              "favorites         0\n",
              "id                0\n",
              "listens           0\n",
              "tags              0\n",
              "tracks            0\n",
              "comments.1        0\n",
              "favorites.1       0\n",
              "id.1              0\n",
              "name              0\n",
              "tags.1            0\n",
              "split             0\n",
              "subset            0\n",
              "bit_rate          0\n",
              "comments.2        0\n",
              "date_created.2    0\n",
              "duration          0\n",
              "favorites.2       0\n",
              "genre_top         0\n",
              "genres            0\n",
              "genres_all        0\n",
              "interest          0\n",
              "listens.1         0\n",
              "number            0\n",
              "tags.2            0\n",
              "dtype: int64"
            ]
          },
          "metadata": {
            "tags": []
          },
          "execution_count": 21
        }
      ]
    },
    {
      "metadata": {
        "id": "o-z93p66fCWB",
        "colab_type": "code",
        "outputId": "90945f5d-deeb-4fd4-f038-85dcdd346da2",
        "colab": {
          "base_uri": "https://localhost:8080/",
          "height": 716
        }
      },
      "cell_type": "code",
      "source": [
        "df1.sample(11)"
      ],
      "execution_count": 0,
      "outputs": [
        {
          "output_type": "execute_result",
          "data": {
            "text/html": [
              "<div>\n",
              "<style scoped>\n",
              "    .dataframe tbody tr th:only-of-type {\n",
              "        vertical-align: middle;\n",
              "    }\n",
              "\n",
              "    .dataframe tbody tr th {\n",
              "        vertical-align: top;\n",
              "    }\n",
              "\n",
              "    .dataframe thead th {\n",
              "        text-align: right;\n",
              "    }\n",
              "</style>\n",
              "<table border=\"1\" class=\"dataframe\">\n",
              "  <thead>\n",
              "    <tr style=\"text-align: right;\">\n",
              "      <th></th>\n",
              "      <th>comments</th>\n",
              "      <th>favorites</th>\n",
              "      <th>id</th>\n",
              "      <th>listens</th>\n",
              "      <th>tags</th>\n",
              "      <th>tracks</th>\n",
              "      <th>comments.1</th>\n",
              "      <th>favorites.1</th>\n",
              "      <th>id.1</th>\n",
              "      <th>name</th>\n",
              "      <th>tags.1</th>\n",
              "      <th>split</th>\n",
              "      <th>subset</th>\n",
              "      <th>bit_rate</th>\n",
              "      <th>comments.2</th>\n",
              "      <th>date_created.2</th>\n",
              "      <th>duration</th>\n",
              "      <th>favorites.2</th>\n",
              "      <th>genre_top</th>\n",
              "      <th>genres</th>\n",
              "      <th>genres_all</th>\n",
              "      <th>interest</th>\n",
              "      <th>listens.1</th>\n",
              "      <th>number</th>\n",
              "      <th>tags.2</th>\n",
              "    </tr>\n",
              "  </thead>\n",
              "  <tbody>\n",
              "    <tr>\n",
              "      <th>45603</th>\n",
              "      <td>1.0</td>\n",
              "      <td>1.0</td>\n",
              "      <td>12001.0</td>\n",
              "      <td>26989.0</td>\n",
              "      <td>[]</td>\n",
              "      <td>17.0</td>\n",
              "      <td>3.0</td>\n",
              "      <td>109.0</td>\n",
              "      <td>8021.0</td>\n",
              "      <td>Anitek</td>\n",
              "      <td>['new music', 'electronica', 'experimental', '...</td>\n",
              "      <td>training</td>\n",
              "      <td>medium</td>\n",
              "      <td>189493.0</td>\n",
              "      <td>0.0</td>\n",
              "      <td>2012-06-25 14:34:16</td>\n",
              "      <td>122.0</td>\n",
              "      <td>3.0</td>\n",
              "      <td>Electronic</td>\n",
              "      <td>[286, 495]</td>\n",
              "      <td>[495, 286, 15]</td>\n",
              "      <td>1922.0</td>\n",
              "      <td>1442.0</td>\n",
              "      <td>0.0</td>\n",
              "      <td>[]</td>\n",
              "    </tr>\n",
              "    <tr>\n",
              "      <th>101204</th>\n",
              "      <td>0.0</td>\n",
              "      <td>0.0</td>\n",
              "      <td>21982.0</td>\n",
              "      <td>20513.0</td>\n",
              "      <td>[]</td>\n",
              "      <td>25.0</td>\n",
              "      <td>0.0</td>\n",
              "      <td>8.0</td>\n",
              "      <td>19740.0</td>\n",
              "      <td>The Zombie Dandies</td>\n",
              "      <td>['zombie dandies']</td>\n",
              "      <td>training</td>\n",
              "      <td>medium</td>\n",
              "      <td>320000.0</td>\n",
              "      <td>0.0</td>\n",
              "      <td>2016-12-10 07:05:22</td>\n",
              "      <td>240.0</td>\n",
              "      <td>3.0</td>\n",
              "      <td>Rock</td>\n",
              "      <td>[12, 25, 111]</td>\n",
              "      <td>[25, 12, 111]</td>\n",
              "      <td>1282.0</td>\n",
              "      <td>954.0</td>\n",
              "      <td>2.0</td>\n",
              "      <td>[]</td>\n",
              "    </tr>\n",
              "    <tr>\n",
              "      <th>15027</th>\n",
              "      <td>0.0</td>\n",
              "      <td>2.0</td>\n",
              "      <td>5480.0</td>\n",
              "      <td>9216.0</td>\n",
              "      <td>[]</td>\n",
              "      <td>0.0</td>\n",
              "      <td>2.0</td>\n",
              "      <td>7.0</td>\n",
              "      <td>6227.0</td>\n",
              "      <td>Golden Hits</td>\n",
              "      <td>['golden hits']</td>\n",
              "      <td>training</td>\n",
              "      <td>large</td>\n",
              "      <td>230766.0</td>\n",
              "      <td>0.0</td>\n",
              "      <td>2010-01-21 19:37:14</td>\n",
              "      <td>118.0</td>\n",
              "      <td>2.0</td>\n",
              "      <td>Experimental</td>\n",
              "      <td>[47]</td>\n",
              "      <td>[38, 47]</td>\n",
              "      <td>1965.0</td>\n",
              "      <td>1375.0</td>\n",
              "      <td>10.0</td>\n",
              "      <td>[]</td>\n",
              "    </tr>\n",
              "    <tr>\n",
              "      <th>22803</th>\n",
              "      <td>0.0</td>\n",
              "      <td>1.0</td>\n",
              "      <td>7320.0</td>\n",
              "      <td>5857.0</td>\n",
              "      <td>[]</td>\n",
              "      <td>10.0</td>\n",
              "      <td>2.0</td>\n",
              "      <td>15.0</td>\n",
              "      <td>3222.0</td>\n",
              "      <td>Garmisch</td>\n",
              "      <td>['garmisch']</td>\n",
              "      <td>test</td>\n",
              "      <td>small</td>\n",
              "      <td>320000.0</td>\n",
              "      <td>0.0</td>\n",
              "      <td>2010-09-14 15:17:18</td>\n",
              "      <td>137.0</td>\n",
              "      <td>2.0</td>\n",
              "      <td>Pop</td>\n",
              "      <td>[10, 362]</td>\n",
              "      <td>[10, 362]</td>\n",
              "      <td>816.0</td>\n",
              "      <td>572.0</td>\n",
              "      <td>6.0</td>\n",
              "      <td>[]</td>\n",
              "    </tr>\n",
              "    <tr>\n",
              "      <th>2382</th>\n",
              "      <td>0.0</td>\n",
              "      <td>1.0</td>\n",
              "      <td>1460.0</td>\n",
              "      <td>4507.0</td>\n",
              "      <td>['new orleans']</td>\n",
              "      <td>7.0</td>\n",
              "      <td>0.0</td>\n",
              "      <td>8.0</td>\n",
              "      <td>1165.0</td>\n",
              "      <td>Quintron</td>\n",
              "      <td>['new orleans', 'quintron']</td>\n",
              "      <td>training</td>\n",
              "      <td>large</td>\n",
              "      <td>256000.0</td>\n",
              "      <td>0.0</td>\n",
              "      <td>2008-12-04 20:50:23</td>\n",
              "      <td>1323.0</td>\n",
              "      <td>0.0</td>\n",
              "      <td>Rock</td>\n",
              "      <td>[12]</td>\n",
              "      <td>[12]</td>\n",
              "      <td>938.0</td>\n",
              "      <td>260.0</td>\n",
              "      <td>4.0</td>\n",
              "      <td>['new orleans']</td>\n",
              "    </tr>\n",
              "    <tr>\n",
              "      <th>25695</th>\n",
              "      <td>0.0</td>\n",
              "      <td>0.0</td>\n",
              "      <td>3776.0</td>\n",
              "      <td>4955.0</td>\n",
              "      <td>[]</td>\n",
              "      <td>4.0</td>\n",
              "      <td>0.0</td>\n",
              "      <td>4.0</td>\n",
              "      <td>4432.0</td>\n",
              "      <td>Computer Jesus Refrigerator</td>\n",
              "      <td>['computer jesus refrigerator']</td>\n",
              "      <td>training</td>\n",
              "      <td>large</td>\n",
              "      <td>224000.0</td>\n",
              "      <td>0.0</td>\n",
              "      <td>2010-11-23 14:09:51</td>\n",
              "      <td>29.0</td>\n",
              "      <td>1.0</td>\n",
              "      <td>Experimental</td>\n",
              "      <td>[1, 32]</td>\n",
              "      <td>[32, 1, 38]</td>\n",
              "      <td>957.0</td>\n",
              "      <td>332.0</td>\n",
              "      <td>0.0</td>\n",
              "      <td>[]</td>\n",
              "    </tr>\n",
              "    <tr>\n",
              "      <th>106317</th>\n",
              "      <td>0.0</td>\n",
              "      <td>0.0</td>\n",
              "      <td>22875.0</td>\n",
              "      <td>794.0</td>\n",
              "      <td>['ambient', 'post-concrete', 'sound art']</td>\n",
              "      <td>32.0</td>\n",
              "      <td>0.0</td>\n",
              "      <td>0.0</td>\n",
              "      <td>24314.0</td>\n",
              "      <td>Razabri &amp; Lezet</td>\n",
              "      <td>['razabri lezet']</td>\n",
              "      <td>validation</td>\n",
              "      <td>large</td>\n",
              "      <td>320000.0</td>\n",
              "      <td>0.0</td>\n",
              "      <td>2017-03-21 04:03:44</td>\n",
              "      <td>22.0</td>\n",
              "      <td>0.0</td>\n",
              "      <td>Experimental</td>\n",
              "      <td>[38, 41, 247]</td>\n",
              "      <td>[41, 38, 247]</td>\n",
              "      <td>38.0</td>\n",
              "      <td>34.0</td>\n",
              "      <td>11.0</td>\n",
              "      <td>['ambient', 'post-concrete', 'sound art']</td>\n",
              "    </tr>\n",
              "    <tr>\n",
              "      <th>23544</th>\n",
              "      <td>0.0</td>\n",
              "      <td>0.0</td>\n",
              "      <td>7446.0</td>\n",
              "      <td>29689.0</td>\n",
              "      <td>[]</td>\n",
              "      <td>14.0</td>\n",
              "      <td>0.0</td>\n",
              "      <td>5.0</td>\n",
              "      <td>6196.0</td>\n",
              "      <td>Lou Barlow</td>\n",
              "      <td>['lou barlow']</td>\n",
              "      <td>training</td>\n",
              "      <td>medium</td>\n",
              "      <td>128000.0</td>\n",
              "      <td>0.0</td>\n",
              "      <td>2010-09-30 16:34:02</td>\n",
              "      <td>169.0</td>\n",
              "      <td>2.0</td>\n",
              "      <td>Rock</td>\n",
              "      <td>[66]</td>\n",
              "      <td>[66, 12]</td>\n",
              "      <td>1376.0</td>\n",
              "      <td>1105.0</td>\n",
              "      <td>2.0</td>\n",
              "      <td>[]</td>\n",
              "    </tr>\n",
              "    <tr>\n",
              "      <th>13605</th>\n",
              "      <td>0.0</td>\n",
              "      <td>0.0</td>\n",
              "      <td>4874.0</td>\n",
              "      <td>2236.0</td>\n",
              "      <td>[]</td>\n",
              "      <td>6.0</td>\n",
              "      <td>0.0</td>\n",
              "      <td>0.0</td>\n",
              "      <td>5833.0</td>\n",
              "      <td>Syem</td>\n",
              "      <td>['syem']</td>\n",
              "      <td>training</td>\n",
              "      <td>medium</td>\n",
              "      <td>320000.0</td>\n",
              "      <td>0.0</td>\n",
              "      <td>2009-12-11 17:35:49</td>\n",
              "      <td>203.0</td>\n",
              "      <td>2.0</td>\n",
              "      <td>Electronic</td>\n",
              "      <td>[185]</td>\n",
              "      <td>[185, 15]</td>\n",
              "      <td>1140.0</td>\n",
              "      <td>801.0</td>\n",
              "      <td>4.0</td>\n",
              "      <td>[]</td>\n",
              "    </tr>\n",
              "    <tr>\n",
              "      <th>85635</th>\n",
              "      <td>0.0</td>\n",
              "      <td>0.0</td>\n",
              "      <td>19199.0</td>\n",
              "      <td>3439.0</td>\n",
              "      <td>[]</td>\n",
              "      <td>8.0</td>\n",
              "      <td>0.0</td>\n",
              "      <td>3.0</td>\n",
              "      <td>21055.0</td>\n",
              "      <td>Kacéo</td>\n",
              "      <td>['kaco']</td>\n",
              "      <td>training</td>\n",
              "      <td>large</td>\n",
              "      <td>245078.0</td>\n",
              "      <td>0.0</td>\n",
              "      <td>2015-10-31 09:13:20</td>\n",
              "      <td>260.0</td>\n",
              "      <td>0.0</td>\n",
              "      <td>Folk</td>\n",
              "      <td>[103]</td>\n",
              "      <td>[17, 103]</td>\n",
              "      <td>397.0</td>\n",
              "      <td>298.0</td>\n",
              "      <td>4.0</td>\n",
              "      <td>[]</td>\n",
              "    </tr>\n",
              "    <tr>\n",
              "      <th>8631</th>\n",
              "      <td>1.0</td>\n",
              "      <td>3.0</td>\n",
              "      <td>3367.0</td>\n",
              "      <td>8394.0</td>\n",
              "      <td>[]</td>\n",
              "      <td>6.0</td>\n",
              "      <td>0.0</td>\n",
              "      <td>8.0</td>\n",
              "      <td>4035.0</td>\n",
              "      <td>Opio</td>\n",
              "      <td>['opio']</td>\n",
              "      <td>training</td>\n",
              "      <td>small</td>\n",
              "      <td>320000.0</td>\n",
              "      <td>0.0</td>\n",
              "      <td>2009-06-05 10:19:13</td>\n",
              "      <td>163.0</td>\n",
              "      <td>4.0</td>\n",
              "      <td>Hip-Hop</td>\n",
              "      <td>[21]</td>\n",
              "      <td>[21]</td>\n",
              "      <td>1642.0</td>\n",
              "      <td>1762.0</td>\n",
              "      <td>6.0</td>\n",
              "      <td>[]</td>\n",
              "    </tr>\n",
              "  </tbody>\n",
              "</table>\n",
              "</div>"
            ],
            "text/plain": [
              "        comments  favorites       id  listens  \\\n",
              "45603        1.0        1.0  12001.0  26989.0   \n",
              "101204       0.0        0.0  21982.0  20513.0   \n",
              "15027        0.0        2.0   5480.0   9216.0   \n",
              "22803        0.0        1.0   7320.0   5857.0   \n",
              "2382         0.0        1.0   1460.0   4507.0   \n",
              "25695        0.0        0.0   3776.0   4955.0   \n",
              "106317       0.0        0.0  22875.0    794.0   \n",
              "23544        0.0        0.0   7446.0  29689.0   \n",
              "13605        0.0        0.0   4874.0   2236.0   \n",
              "85635        0.0        0.0  19199.0   3439.0   \n",
              "8631         1.0        3.0   3367.0   8394.0   \n",
              "\n",
              "                                             tags  tracks  comments.1  \\\n",
              "45603                                          []    17.0         3.0   \n",
              "101204                                         []    25.0         0.0   \n",
              "15027                                          []     0.0         2.0   \n",
              "22803                                          []    10.0         2.0   \n",
              "2382                              ['new orleans']     7.0         0.0   \n",
              "25695                                          []     4.0         0.0   \n",
              "106317  ['ambient', 'post-concrete', 'sound art']    32.0         0.0   \n",
              "23544                                          []    14.0         0.0   \n",
              "13605                                          []     6.0         0.0   \n",
              "85635                                          []     8.0         0.0   \n",
              "8631                                           []     6.0         0.0   \n",
              "\n",
              "        favorites.1     id.1                         name  \\\n",
              "45603         109.0   8021.0                       Anitek   \n",
              "101204          8.0  19740.0           The Zombie Dandies   \n",
              "15027           7.0   6227.0                  Golden Hits   \n",
              "22803          15.0   3222.0                     Garmisch   \n",
              "2382            8.0   1165.0                     Quintron   \n",
              "25695           4.0   4432.0  Computer Jesus Refrigerator   \n",
              "106317          0.0  24314.0              Razabri & Lezet   \n",
              "23544           5.0   6196.0                   Lou Barlow   \n",
              "13605           0.0   5833.0                         Syem   \n",
              "85635           3.0  21055.0                        Kacéo   \n",
              "8631            8.0   4035.0                         Opio   \n",
              "\n",
              "                                                   tags.1       split  subset  \\\n",
              "45603   ['new music', 'electronica', 'experimental', '...    training  medium   \n",
              "101204                                 ['zombie dandies']    training  medium   \n",
              "15027                                     ['golden hits']    training   large   \n",
              "22803                                        ['garmisch']        test   small   \n",
              "2382                          ['new orleans', 'quintron']    training   large   \n",
              "25695                     ['computer jesus refrigerator']    training   large   \n",
              "106317                                  ['razabri lezet']  validation   large   \n",
              "23544                                      ['lou barlow']    training  medium   \n",
              "13605                                            ['syem']    training  medium   \n",
              "85635                                            ['kaco']    training   large   \n",
              "8631                                             ['opio']    training   small   \n",
              "\n",
              "        bit_rate  comments.2       date_created.2  duration  favorites.2  \\\n",
              "45603   189493.0         0.0  2012-06-25 14:34:16     122.0          3.0   \n",
              "101204  320000.0         0.0  2016-12-10 07:05:22     240.0          3.0   \n",
              "15027   230766.0         0.0  2010-01-21 19:37:14     118.0          2.0   \n",
              "22803   320000.0         0.0  2010-09-14 15:17:18     137.0          2.0   \n",
              "2382    256000.0         0.0  2008-12-04 20:50:23    1323.0          0.0   \n",
              "25695   224000.0         0.0  2010-11-23 14:09:51      29.0          1.0   \n",
              "106317  320000.0         0.0  2017-03-21 04:03:44      22.0          0.0   \n",
              "23544   128000.0         0.0  2010-09-30 16:34:02     169.0          2.0   \n",
              "13605   320000.0         0.0  2009-12-11 17:35:49     203.0          2.0   \n",
              "85635   245078.0         0.0  2015-10-31 09:13:20     260.0          0.0   \n",
              "8631    320000.0         0.0  2009-06-05 10:19:13     163.0          4.0   \n",
              "\n",
              "           genre_top         genres      genres_all  interest  listens.1  \\\n",
              "45603     Electronic     [286, 495]  [495, 286, 15]    1922.0     1442.0   \n",
              "101204          Rock  [12, 25, 111]   [25, 12, 111]    1282.0      954.0   \n",
              "15027   Experimental           [47]        [38, 47]    1965.0     1375.0   \n",
              "22803            Pop      [10, 362]       [10, 362]     816.0      572.0   \n",
              "2382            Rock           [12]            [12]     938.0      260.0   \n",
              "25695   Experimental        [1, 32]     [32, 1, 38]     957.0      332.0   \n",
              "106317  Experimental  [38, 41, 247]   [41, 38, 247]      38.0       34.0   \n",
              "23544           Rock           [66]        [66, 12]    1376.0     1105.0   \n",
              "13605     Electronic          [185]       [185, 15]    1140.0      801.0   \n",
              "85635           Folk          [103]       [17, 103]     397.0      298.0   \n",
              "8631         Hip-Hop           [21]            [21]    1642.0     1762.0   \n",
              "\n",
              "        number                                     tags.2  \n",
              "45603      0.0                                         []  \n",
              "101204     2.0                                         []  \n",
              "15027     10.0                                         []  \n",
              "22803      6.0                                         []  \n",
              "2382       4.0                            ['new orleans']  \n",
              "25695      0.0                                         []  \n",
              "106317    11.0  ['ambient', 'post-concrete', 'sound art']  \n",
              "23544      2.0                                         []  \n",
              "13605      4.0                                         []  \n",
              "85635      4.0                                         []  \n",
              "8631       6.0                                         []  "
            ]
          },
          "metadata": {
            "tags": []
          },
          "execution_count": 53
        }
      ]
    },
    {
      "metadata": {
        "id": "kQUVlUKQMPPW",
        "colab_type": "text"
      },
      "cell_type": "markdown",
      "source": [
        "This is the biggest data you've played with so far, and while it does generally fit in Colab, it can take awhile to run. That's part of the challenge!\n",
        "\n",
        "Your tasks:\n",
        "- Clean up the variable names in the dataframe\n",
        "- Use logistic regression to fit a model predicting (primary/top) genre\n",
        "- Inspect, iterate, and improve your model\n",
        "- Answer the following questions (written, ~paragraph each):\n",
        "  - What are the best predictors of genre?\n",
        "  - What information isn't very useful for predicting genre?\n",
        "  - What surprised you the most about your results?\n",
        "\n",
        "*Important caveats*:\n",
        "- This is going to be difficult data to work with - don't let the perfect be the enemy of the good!\n",
        "- Be creative in cleaning it up - if the best way you know how to do it is download it locally and edit as a spreadsheet, that's OK!\n",
        "- If the data size becomes problematic, consider sampling/subsetting\n",
        "- You do not need perfect or complete results - just something plausible that runs, and that supports the reasoning in your written answers\n",
        "\n",
        "If you find that fitting a model to classify *all* genres isn't very good, it's totally OK to limit to the most frequent genres, or perhaps trying to combine or cluster genres as a preprocessing step. Even then, there will be limits to how good a model can be with just this metadata - if you really want to train an effective genre classifier, you'll have to involve the other data (see stretch goals).\n",
        "\n",
        "This is real data - there is no \"one correct answer\", so you can take this in a variety of directions. Just make sure to support your findings, and feel free to share them as well! This is meant to be practice for dealing with other \"messy\" data, a common task in data science."
      ]
    },
    {
      "metadata": {
        "id": "r2CptqKMngjH",
        "colab_type": "code",
        "colab": {}
      },
      "cell_type": "code",
      "source": [
        "# encode genre_top\n",
        "df1[\"genre_top_num\"] = LabelEncoder().fit_transform(df1[\"genre_top\"])"
      ],
      "execution_count": 0,
      "outputs": []
    },
    {
      "metadata": {
        "id": "kPrqdBE2oTlf",
        "colab_type": "code",
        "colab": {}
      },
      "cell_type": "code",
      "source": [
        "df2 = df1._get_numeric_data()"
      ],
      "execution_count": 0,
      "outputs": []
    },
    {
      "metadata": {
        "id": "sThD80_kpFs2",
        "colab_type": "code",
        "outputId": "b1fb7954-0ddd-405e-e5a0-d5b2195b39a3",
        "colab": {
          "base_uri": "https://localhost:8080/",
          "height": 34
        }
      },
      "cell_type": "code",
      "source": [
        "df2.shape"
      ],
      "execution_count": 24,
      "outputs": [
        {
          "output_type": "execute_result",
          "data": {
            "text/plain": [
              "(49598, 16)"
            ]
          },
          "metadata": {
            "tags": []
          },
          "execution_count": 24
        }
      ]
    },
    {
      "metadata": {
        "id": "M3zzY1s-qC6u",
        "colab_type": "code",
        "outputId": "0199b409-3121-4180-8e96-0b51ae71c3b2",
        "colab": {
          "base_uri": "https://localhost:8080/",
          "height": 317
        }
      },
      "cell_type": "code",
      "source": [
        "df2.describe()"
      ],
      "execution_count": 25,
      "outputs": [
        {
          "output_type": "execute_result",
          "data": {
            "text/html": [
              "<div>\n",
              "<style scoped>\n",
              "    .dataframe tbody tr th:only-of-type {\n",
              "        vertical-align: middle;\n",
              "    }\n",
              "\n",
              "    .dataframe tbody tr th {\n",
              "        vertical-align: top;\n",
              "    }\n",
              "\n",
              "    .dataframe thead th {\n",
              "        text-align: right;\n",
              "    }\n",
              "</style>\n",
              "<table border=\"1\" class=\"dataframe\">\n",
              "  <thead>\n",
              "    <tr style=\"text-align: right;\">\n",
              "      <th></th>\n",
              "      <th>comments</th>\n",
              "      <th>favorites</th>\n",
              "      <th>id</th>\n",
              "      <th>listens</th>\n",
              "      <th>tracks</th>\n",
              "      <th>comments.1</th>\n",
              "      <th>favorites.1</th>\n",
              "      <th>id.1</th>\n",
              "      <th>bit_rate</th>\n",
              "      <th>comments.2</th>\n",
              "      <th>duration</th>\n",
              "      <th>favorites.2</th>\n",
              "      <th>interest</th>\n",
              "      <th>listens.1</th>\n",
              "      <th>number</th>\n",
              "      <th>genre_top_num</th>\n",
              "    </tr>\n",
              "  </thead>\n",
              "  <tbody>\n",
              "    <tr>\n",
              "      <th>count</th>\n",
              "      <td>49598.000000</td>\n",
              "      <td>49598.000000</td>\n",
              "      <td>49598.000000</td>\n",
              "      <td>4.959800e+04</td>\n",
              "      <td>49598.000000</td>\n",
              "      <td>49598.00000</td>\n",
              "      <td>49598.000000</td>\n",
              "      <td>49598.000000</td>\n",
              "      <td>49598.000000</td>\n",
              "      <td>49598.000000</td>\n",
              "      <td>49598.000000</td>\n",
              "      <td>49598.000000</td>\n",
              "      <td>4.959800e+04</td>\n",
              "      <td>49598.000000</td>\n",
              "      <td>49598.000000</td>\n",
              "      <td>49598.000000</td>\n",
              "    </tr>\n",
              "    <tr>\n",
              "      <th>mean</th>\n",
              "      <td>0.333179</td>\n",
              "      <td>1.145449</td>\n",
              "      <td>11813.603351</td>\n",
              "      <td>1.997469e+04</td>\n",
              "      <td>21.763035</td>\n",
              "      <td>1.16291</td>\n",
              "      <td>16.721602</td>\n",
              "      <td>11400.403786</td>\n",
              "      <td>260278.657930</td>\n",
              "      <td>0.024336</td>\n",
              "      <td>268.627263</td>\n",
              "      <td>2.381447</td>\n",
              "      <td>2.523905e+03</td>\n",
              "      <td>1586.328380</td>\n",
              "      <td>8.545607</td>\n",
              "      <td>7.983830</td>\n",
              "    </tr>\n",
              "    <tr>\n",
              "      <th>std</th>\n",
              "      <td>1.312889</td>\n",
              "      <td>2.463242</td>\n",
              "      <td>6455.900325</td>\n",
              "      <td>5.736980e+04</td>\n",
              "      <td>51.492489</td>\n",
              "      <td>4.18622</td>\n",
              "      <td>58.966302</td>\n",
              "      <td>7046.466624</td>\n",
              "      <td>65663.862632</td>\n",
              "      <td>0.332693</td>\n",
              "      <td>284.327919</td>\n",
              "      <td>11.147578</td>\n",
              "      <td>1.980285e+04</td>\n",
              "      <td>6039.952955</td>\n",
              "      <td>16.988260</td>\n",
              "      <td>3.921259</td>\n",
              "    </tr>\n",
              "    <tr>\n",
              "      <th>min</th>\n",
              "      <td>-1.000000</td>\n",
              "      <td>-1.000000</td>\n",
              "      <td>-1.000000</td>\n",
              "      <td>-1.000000e+00</td>\n",
              "      <td>-1.000000</td>\n",
              "      <td>-1.00000</td>\n",
              "      <td>-1.000000</td>\n",
              "      <td>1.000000</td>\n",
              "      <td>-1.000000</td>\n",
              "      <td>0.000000</td>\n",
              "      <td>0.000000</td>\n",
              "      <td>0.000000</td>\n",
              "      <td>2.000000e+00</td>\n",
              "      <td>1.000000</td>\n",
              "      <td>0.000000</td>\n",
              "      <td>0.000000</td>\n",
              "    </tr>\n",
              "    <tr>\n",
              "      <th>25%</th>\n",
              "      <td>0.000000</td>\n",
              "      <td>0.000000</td>\n",
              "      <td>6530.000000</td>\n",
              "      <td>2.602000e+03</td>\n",
              "      <td>7.000000</td>\n",
              "      <td>0.00000</td>\n",
              "      <td>1.000000</td>\n",
              "      <td>5449.000000</td>\n",
              "      <td>192000.000000</td>\n",
              "      <td>0.000000</td>\n",
              "      <td>146.000000</td>\n",
              "      <td>0.000000</td>\n",
              "      <td>4.560000e+02</td>\n",
              "      <td>212.000000</td>\n",
              "      <td>2.000000</td>\n",
              "      <td>5.000000</td>\n",
              "    </tr>\n",
              "    <tr>\n",
              "      <th>50%</th>\n",
              "      <td>0.000000</td>\n",
              "      <td>0.000000</td>\n",
              "      <td>11887.000000</td>\n",
              "      <td>6.092000e+03</td>\n",
              "      <td>11.000000</td>\n",
              "      <td>0.00000</td>\n",
              "      <td>4.000000</td>\n",
              "      <td>11384.000000</td>\n",
              "      <td>256000.000000</td>\n",
              "      <td>0.000000</td>\n",
              "      <td>211.000000</td>\n",
              "      <td>1.000000</td>\n",
              "      <td>9.380000e+02</td>\n",
              "      <td>520.000000</td>\n",
              "      <td>5.000000</td>\n",
              "      <td>7.000000</td>\n",
              "    </tr>\n",
              "    <tr>\n",
              "      <th>75%</th>\n",
              "      <td>0.000000</td>\n",
              "      <td>1.000000</td>\n",
              "      <td>17410.000000</td>\n",
              "      <td>1.621900e+04</td>\n",
              "      <td>17.000000</td>\n",
              "      <td>1.00000</td>\n",
              "      <td>12.000000</td>\n",
              "      <td>17450.000000</td>\n",
              "      <td>320000.000000</td>\n",
              "      <td>0.000000</td>\n",
              "      <td>299.000000</td>\n",
              "      <td>2.000000</td>\n",
              "      <td>2.091000e+03</td>\n",
              "      <td>1321.000000</td>\n",
              "      <td>9.000000</td>\n",
              "      <td>13.000000</td>\n",
              "    </tr>\n",
              "    <tr>\n",
              "      <th>max</th>\n",
              "      <td>17.000000</td>\n",
              "      <td>40.000000</td>\n",
              "      <td>22940.000000</td>\n",
              "      <td>1.193803e+06</td>\n",
              "      <td>652.000000</td>\n",
              "      <td>68.00000</td>\n",
              "      <td>963.000000</td>\n",
              "      <td>24357.000000</td>\n",
              "      <td>448000.000000</td>\n",
              "      <td>37.000000</td>\n",
              "      <td>11030.000000</td>\n",
              "      <td>1482.000000</td>\n",
              "      <td>3.293557e+06</td>\n",
              "      <td>543252.000000</td>\n",
              "      <td>255.000000</td>\n",
              "      <td>15.000000</td>\n",
              "    </tr>\n",
              "  </tbody>\n",
              "</table>\n",
              "</div>"
            ],
            "text/plain": [
              "           comments     favorites            id       listens        tracks  \\\n",
              "count  49598.000000  49598.000000  49598.000000  4.959800e+04  49598.000000   \n",
              "mean       0.333179      1.145449  11813.603351  1.997469e+04     21.763035   \n",
              "std        1.312889      2.463242   6455.900325  5.736980e+04     51.492489   \n",
              "min       -1.000000     -1.000000     -1.000000 -1.000000e+00     -1.000000   \n",
              "25%        0.000000      0.000000   6530.000000  2.602000e+03      7.000000   \n",
              "50%        0.000000      0.000000  11887.000000  6.092000e+03     11.000000   \n",
              "75%        0.000000      1.000000  17410.000000  1.621900e+04     17.000000   \n",
              "max       17.000000     40.000000  22940.000000  1.193803e+06    652.000000   \n",
              "\n",
              "        comments.1   favorites.1          id.1       bit_rate    comments.2  \\\n",
              "count  49598.00000  49598.000000  49598.000000   49598.000000  49598.000000   \n",
              "mean       1.16291     16.721602  11400.403786  260278.657930      0.024336   \n",
              "std        4.18622     58.966302   7046.466624   65663.862632      0.332693   \n",
              "min       -1.00000     -1.000000      1.000000      -1.000000      0.000000   \n",
              "25%        0.00000      1.000000   5449.000000  192000.000000      0.000000   \n",
              "50%        0.00000      4.000000  11384.000000  256000.000000      0.000000   \n",
              "75%        1.00000     12.000000  17450.000000  320000.000000      0.000000   \n",
              "max       68.00000    963.000000  24357.000000  448000.000000     37.000000   \n",
              "\n",
              "           duration   favorites.2      interest      listens.1        number  \\\n",
              "count  49598.000000  49598.000000  4.959800e+04   49598.000000  49598.000000   \n",
              "mean     268.627263      2.381447  2.523905e+03    1586.328380      8.545607   \n",
              "std      284.327919     11.147578  1.980285e+04    6039.952955     16.988260   \n",
              "min        0.000000      0.000000  2.000000e+00       1.000000      0.000000   \n",
              "25%      146.000000      0.000000  4.560000e+02     212.000000      2.000000   \n",
              "50%      211.000000      1.000000  9.380000e+02     520.000000      5.000000   \n",
              "75%      299.000000      2.000000  2.091000e+03    1321.000000      9.000000   \n",
              "max    11030.000000   1482.000000  3.293557e+06  543252.000000    255.000000   \n",
              "\n",
              "       genre_top_num  \n",
              "count   49598.000000  \n",
              "mean        7.983830  \n",
              "std         3.921259  \n",
              "min         0.000000  \n",
              "25%         5.000000  \n",
              "50%         7.000000  \n",
              "75%        13.000000  \n",
              "max        15.000000  "
            ]
          },
          "metadata": {
            "tags": []
          },
          "execution_count": 25
        }
      ]
    },
    {
      "metadata": {
        "id": "5n20uB-8uqE0",
        "colab_type": "code",
        "colab": {}
      },
      "cell_type": "code",
      "source": [
        "df2.corr()"
      ],
      "execution_count": 0,
      "outputs": []
    },
    {
      "metadata": {
        "id": "zp82P-xTqMwU",
        "colab_type": "code",
        "colab": {}
      },
      "cell_type": "code",
      "source": [
        "df2.genre_top_num.value_counts()"
      ],
      "execution_count": 0,
      "outputs": []
    },
    {
      "metadata": {
        "id": "pQ_FydYmqwQY",
        "colab_type": "code",
        "colab": {}
      },
      "cell_type": "code",
      "source": [
        "X = df2.drop(columns = ['genre_top_num'])\n",
        "y = df2['genre_top_num']"
      ],
      "execution_count": 0,
      "outputs": []
    },
    {
      "metadata": {
        "id": "juEWsURerC_d",
        "colab_type": "code",
        "colab": {}
      },
      "cell_type": "code",
      "source": [
        "Xtrain, Xtest, ytrain, ytest = train_test_split(X,y,test_size=0.2, random_state=42)\n",
        "\n",
        "model = LogisticRegression(random_state=42, solver = 'lbfgs',\n",
        "                           multi_class = 'multinomial', max_iter=25000)\n",
        "\n",
        "model.fit(Xtrain, ytrain)\n",
        "model.score(Xtest, ytest)"
      ],
      "execution_count": 0,
      "outputs": []
    },
    {
      "metadata": {
        "id": "jcWWg9y1uXYh",
        "colab_type": "code",
        "colab": {}
      },
      "cell_type": "code",
      "source": [
        "Xtrain, Xtest, ytrain, ytest = train_test_split(X,y,test_size=0.2, random_state=42)\n",
        "\n",
        "model2 = LogisticRegression(random_state=42, solver = 'saga',\n",
        "                            multi_class = 'multinomial', max_iter=8000)\n",
        "\n",
        "model2.fit(Xtrain, ytrain)\n",
        "model2.score(Xtest, ytest)"
      ],
      "execution_count": 0,
      "outputs": []
    },
    {
      "metadata": {
        "id": "QcsL07oB7cvp",
        "colab_type": "code",
        "colab": {}
      },
      "cell_type": "code",
      "source": [
        "# do correlation & keep positively correlated columns\n",
        "corr_matrix = df2.corr().sort_values('genre_top_num', ascending=False)\n",
        "df_corr = pd.DataFrame(corr_matrix.genre_top_num[:-1])\n",
        "X_list = list(df_corr[df_corr.genre_top_num < 0.0].T)"
      ],
      "execution_count": 0,
      "outputs": []
    },
    {
      "metadata": {
        "id": "N1OM2IKy77ra",
        "colab_type": "code",
        "colab": {}
      },
      "cell_type": "code",
      "source": [
        "#df_corr"
      ],
      "execution_count": 0,
      "outputs": []
    },
    {
      "metadata": {
        "id": "UWltuTxxBOEp",
        "colab_type": "code",
        "outputId": "9eb329fd-8004-497f-f273-05b64e8aec35",
        "colab": {
          "base_uri": "https://localhost:8080/",
          "height": 255
        }
      },
      "cell_type": "code",
      "source": [
        "X_list"
      ],
      "execution_count": 29,
      "outputs": [
        {
          "output_type": "execute_result",
          "data": {
            "text/plain": [
              "['comments.2',\n",
              " 'id.1',\n",
              " 'interest',\n",
              " 'favorites.2',\n",
              " 'id',\n",
              " 'favorites.1',\n",
              " 'listens.1',\n",
              " 'tracks',\n",
              " 'comments',\n",
              " 'number',\n",
              " 'comments.1',\n",
              " 'listens',\n",
              " 'favorites',\n",
              " 'bit_rate']"
            ]
          },
          "metadata": {
            "tags": []
          },
          "execution_count": 29
        }
      ]
    },
    {
      "metadata": {
        "id": "bkdrjl_68ijV",
        "colab_type": "code",
        "colab": {}
      },
      "cell_type": "code",
      "source": [
        "#X = df2.loc[:, ['comments.2', 'id.1', 'interest']].values"
      ],
      "execution_count": 0,
      "outputs": []
    },
    {
      "metadata": {
        "id": "6Ha8H_2EO03D",
        "colab_type": "code",
        "outputId": "d7760061-61f6-4e4c-a5d5-91878d76f703",
        "colab": {
          "base_uri": "https://localhost:8080/",
          "height": 8146
        }
      },
      "cell_type": "code",
      "source": [
        "all_list = [(str(datetime.datetime.now()))]\n",
        "for i in range(len(X_list)):\n",
        "    for j in range(i+1, len(X_list)):\n",
        "        list = X_list[i:j]\n",
        "        print(list)\n",
        "        X = df2.loc[:, list].values\n",
        "        all_list.append(list)\n",
        "        Xtrain, Xtest, ytrain, ytest = train_test_split(X, y, test_size=0.2, random_state=42)\n",
        "        modelx = LogisticRegression(random_state=42, solver = 'lbfgs',\n",
        "                            multi_class = 'multinomial', max_iter=1000)\n",
        "        modelx.fit(Xtrain, ytrain)\n",
        "        list = \"score: \" + str(modelx.score(Xtest, ytest))\n",
        "        print(list)\n",
        "        all_list.append(list)\n",
        "        list = \"completion time: \" + str(datetime.datetime.now())\n",
        "        print(list)\n",
        "        all_list.append(list)\n",
        "    list = X_list[i:j+1]\n",
        "    print(list)\n",
        "    X = df2.loc[:, list].values\n",
        "    all_list.append(list)\n",
        "    Xtrain, Xtest, ytrain, ytest = train_test_split(X, y, test_size=0.2, random_state=42)\n",
        "    modelx = LogisticRegression(random_state=42, solver = 'lbfgs',\n",
        "                            multi_class = 'multinomial', max_iter=1000)\n",
        "    modelx.fit(Xtrain, ytrain)\n",
        "    list = \"score: \" + str(modelx.score(Xtest, ytest))\n",
        "    print(list)\n",
        "    all_list.append(list)\n",
        "    list = \"completion time: \" + str(datetime.datetime.now())\n",
        "    print (list)\n",
        "    all_list.append(list)\n",
        "#print(all_list)\n"
      ],
      "execution_count": 35,
      "outputs": [
        {
          "output_type": "stream",
          "text": [
            "['comments.2']\n",
            "score: 0.2872983870967742\n",
            "completion time: 2019-02-26 15:45:32.094405\n",
            "['comments.2', 'id.1']\n",
            "score: 0.28689516129032255\n",
            "completion time: 2019-02-26 15:45:36.732394\n",
            "['comments.2', 'id.1', 'interest']\n"
          ],
          "name": "stdout"
        },
        {
          "output_type": "stream",
          "text": [
            "/usr/local/lib/python3.6/dist-packages/sklearn/linear_model/logistic.py:758: ConvergenceWarning: lbfgs failed to converge. Increase the number of iterations.\n",
            "  \"of iterations.\", ConvergenceWarning)\n"
          ],
          "name": "stderr"
        },
        {
          "output_type": "stream",
          "text": [
            "score: 0.30252016129032255\n",
            "completion time: 2019-02-26 15:46:50.280789\n",
            "['comments.2', 'id.1', 'interest', 'favorites.2']\n"
          ],
          "name": "stdout"
        },
        {
          "output_type": "stream",
          "text": [
            "/usr/local/lib/python3.6/dist-packages/sklearn/linear_model/logistic.py:758: ConvergenceWarning: lbfgs failed to converge. Increase the number of iterations.\n",
            "  \"of iterations.\", ConvergenceWarning)\n"
          ],
          "name": "stderr"
        },
        {
          "output_type": "stream",
          "text": [
            "score: 0.2746975806451613\n",
            "completion time: 2019-02-26 15:48:05.310638\n",
            "['comments.2', 'id.1', 'interest', 'favorites.2', 'id']\n"
          ],
          "name": "stdout"
        },
        {
          "output_type": "stream",
          "text": [
            "/usr/local/lib/python3.6/dist-packages/sklearn/linear_model/logistic.py:758: ConvergenceWarning: lbfgs failed to converge. Increase the number of iterations.\n",
            "  \"of iterations.\", ConvergenceWarning)\n"
          ],
          "name": "stderr"
        },
        {
          "output_type": "stream",
          "text": [
            "score: 0.28891129032258067\n",
            "completion time: 2019-02-26 15:49:19.505719\n",
            "['comments.2', 'id.1', 'interest', 'favorites.2', 'id', 'favorites.1']\n"
          ],
          "name": "stdout"
        },
        {
          "output_type": "stream",
          "text": [
            "/usr/local/lib/python3.6/dist-packages/sklearn/linear_model/logistic.py:758: ConvergenceWarning: lbfgs failed to converge. Increase the number of iterations.\n",
            "  \"of iterations.\", ConvergenceWarning)\n"
          ],
          "name": "stderr"
        },
        {
          "output_type": "stream",
          "text": [
            "score: 0.2809475806451613\n",
            "completion time: 2019-02-26 15:50:33.636561\n",
            "['comments.2', 'id.1', 'interest', 'favorites.2', 'id', 'favorites.1', 'listens.1']\n"
          ],
          "name": "stdout"
        },
        {
          "output_type": "stream",
          "text": [
            "/usr/local/lib/python3.6/dist-packages/sklearn/linear_model/logistic.py:758: ConvergenceWarning: lbfgs failed to converge. Increase the number of iterations.\n",
            "  \"of iterations.\", ConvergenceWarning)\n"
          ],
          "name": "stderr"
        },
        {
          "output_type": "stream",
          "text": [
            "score: 0.31582661290322583\n",
            "completion time: 2019-02-26 15:51:48.463168\n",
            "['comments.2', 'id.1', 'interest', 'favorites.2', 'id', 'favorites.1', 'listens.1', 'tracks']\n"
          ],
          "name": "stdout"
        },
        {
          "output_type": "stream",
          "text": [
            "/usr/local/lib/python3.6/dist-packages/sklearn/linear_model/logistic.py:758: ConvergenceWarning: lbfgs failed to converge. Increase the number of iterations.\n",
            "  \"of iterations.\", ConvergenceWarning)\n"
          ],
          "name": "stderr"
        },
        {
          "output_type": "stream",
          "text": [
            "score: 0.3143145161290323\n",
            "completion time: 2019-02-26 15:53:04.074168\n",
            "['comments.2', 'id.1', 'interest', 'favorites.2', 'id', 'favorites.1', 'listens.1', 'tracks', 'comments']\n"
          ],
          "name": "stdout"
        },
        {
          "output_type": "stream",
          "text": [
            "/usr/local/lib/python3.6/dist-packages/sklearn/linear_model/logistic.py:758: ConvergenceWarning: lbfgs failed to converge. Increase the number of iterations.\n",
            "  \"of iterations.\", ConvergenceWarning)\n"
          ],
          "name": "stderr"
        },
        {
          "output_type": "stream",
          "text": [
            "score: 0.3143145161290323\n",
            "completion time: 2019-02-26 15:54:18.007911\n",
            "['comments.2', 'id.1', 'interest', 'favorites.2', 'id', 'favorites.1', 'listens.1', 'tracks', 'comments', 'number']\n"
          ],
          "name": "stdout"
        },
        {
          "output_type": "stream",
          "text": [
            "/usr/local/lib/python3.6/dist-packages/sklearn/linear_model/logistic.py:758: ConvergenceWarning: lbfgs failed to converge. Increase the number of iterations.\n",
            "  \"of iterations.\", ConvergenceWarning)\n"
          ],
          "name": "stderr"
        },
        {
          "output_type": "stream",
          "text": [
            "score: 0.31421370967741935\n",
            "completion time: 2019-02-26 15:55:32.754004\n",
            "['comments.2', 'id.1', 'interest', 'favorites.2', 'id', 'favorites.1', 'listens.1', 'tracks', 'comments', 'number', 'comments.1']\n"
          ],
          "name": "stdout"
        },
        {
          "output_type": "stream",
          "text": [
            "/usr/local/lib/python3.6/dist-packages/sklearn/linear_model/logistic.py:758: ConvergenceWarning: lbfgs failed to converge. Increase the number of iterations.\n",
            "  \"of iterations.\", ConvergenceWarning)\n"
          ],
          "name": "stderr"
        },
        {
          "output_type": "stream",
          "text": [
            "score: 0.3143145161290323\n",
            "completion time: 2019-02-26 15:56:48.506578\n",
            "['comments.2', 'id.1', 'interest', 'favorites.2', 'id', 'favorites.1', 'listens.1', 'tracks', 'comments', 'number', 'comments.1', 'listens']\n"
          ],
          "name": "stdout"
        },
        {
          "output_type": "stream",
          "text": [
            "/usr/local/lib/python3.6/dist-packages/sklearn/linear_model/logistic.py:758: ConvergenceWarning: lbfgs failed to converge. Increase the number of iterations.\n",
            "  \"of iterations.\", ConvergenceWarning)\n"
          ],
          "name": "stderr"
        },
        {
          "output_type": "stream",
          "text": [
            "score: 0.333366935483871\n",
            "completion time: 2019-02-26 15:58:06.056433\n",
            "['comments.2', 'id.1', 'interest', 'favorites.2', 'id', 'favorites.1', 'listens.1', 'tracks', 'comments', 'number', 'comments.1', 'listens', 'favorites']\n"
          ],
          "name": "stdout"
        },
        {
          "output_type": "stream",
          "text": [
            "/usr/local/lib/python3.6/dist-packages/sklearn/linear_model/logistic.py:758: ConvergenceWarning: lbfgs failed to converge. Increase the number of iterations.\n",
            "  \"of iterations.\", ConvergenceWarning)\n"
          ],
          "name": "stderr"
        },
        {
          "output_type": "stream",
          "text": [
            "score: 0.33407258064516127\n",
            "completion time: 2019-02-26 15:59:23.073090\n",
            "['comments.2', 'id.1', 'interest', 'favorites.2', 'id', 'favorites.1', 'listens.1', 'tracks', 'comments', 'number', 'comments.1', 'listens', 'favorites', 'bit_rate']\n"
          ],
          "name": "stdout"
        },
        {
          "output_type": "stream",
          "text": [
            "/usr/local/lib/python3.6/dist-packages/sklearn/linear_model/logistic.py:758: ConvergenceWarning: lbfgs failed to converge. Increase the number of iterations.\n",
            "  \"of iterations.\", ConvergenceWarning)\n"
          ],
          "name": "stderr"
        },
        {
          "output_type": "stream",
          "text": [
            "score: 0.3551411290322581\n",
            "completion time: 2019-02-26 16:00:41.236831\n",
            "['id.1']\n",
            "score: 0.28689516129032255\n",
            "completion time: 2019-02-26 16:00:45.681725\n",
            "['id.1', 'interest']\n",
            "score: 0.2720766129032258\n",
            "completion time: 2019-02-26 16:01:05.815097\n",
            "['id.1', 'interest', 'favorites.2']\n"
          ],
          "name": "stdout"
        },
        {
          "output_type": "stream",
          "text": [
            "/usr/local/lib/python3.6/dist-packages/sklearn/linear_model/logistic.py:758: ConvergenceWarning: lbfgs failed to converge. Increase the number of iterations.\n",
            "  \"of iterations.\", ConvergenceWarning)\n"
          ],
          "name": "stderr"
        },
        {
          "output_type": "stream",
          "text": [
            "score: 0.2995967741935484\n",
            "completion time: 2019-02-26 16:02:19.138610\n",
            "['id.1', 'interest', 'favorites.2', 'id']\n"
          ],
          "name": "stdout"
        },
        {
          "output_type": "stream",
          "text": [
            "/usr/local/lib/python3.6/dist-packages/sklearn/linear_model/logistic.py:758: ConvergenceWarning: lbfgs failed to converge. Increase the number of iterations.\n",
            "  \"of iterations.\", ConvergenceWarning)\n"
          ],
          "name": "stderr"
        },
        {
          "output_type": "stream",
          "text": [
            "score: 0.2918346774193548\n",
            "completion time: 2019-02-26 16:03:32.170506\n",
            "['id.1', 'interest', 'favorites.2', 'id', 'favorites.1']\n"
          ],
          "name": "stdout"
        },
        {
          "output_type": "stream",
          "text": [
            "/usr/local/lib/python3.6/dist-packages/sklearn/linear_model/logistic.py:758: ConvergenceWarning: lbfgs failed to converge. Increase the number of iterations.\n",
            "  \"of iterations.\", ConvergenceWarning)\n"
          ],
          "name": "stderr"
        },
        {
          "output_type": "stream",
          "text": [
            "score: 0.2813508064516129\n",
            "completion time: 2019-02-26 16:04:44.567510\n",
            "['id.1', 'interest', 'favorites.2', 'id', 'favorites.1', 'listens.1']\n"
          ],
          "name": "stdout"
        },
        {
          "output_type": "stream",
          "text": [
            "/usr/local/lib/python3.6/dist-packages/sklearn/linear_model/logistic.py:758: ConvergenceWarning: lbfgs failed to converge. Increase the number of iterations.\n",
            "  \"of iterations.\", ConvergenceWarning)\n"
          ],
          "name": "stderr"
        },
        {
          "output_type": "stream",
          "text": [
            "score: 0.314616935483871\n",
            "completion time: 2019-02-26 16:05:58.701534\n",
            "['id.1', 'interest', 'favorites.2', 'id', 'favorites.1', 'listens.1', 'tracks']\n"
          ],
          "name": "stdout"
        },
        {
          "output_type": "stream",
          "text": [
            "/usr/local/lib/python3.6/dist-packages/sklearn/linear_model/logistic.py:758: ConvergenceWarning: lbfgs failed to converge. Increase the number of iterations.\n",
            "  \"of iterations.\", ConvergenceWarning)\n"
          ],
          "name": "stderr"
        },
        {
          "output_type": "stream",
          "text": [
            "score: 0.3116935483870968\n",
            "completion time: 2019-02-26 16:07:15.475105\n",
            "['id.1', 'interest', 'favorites.2', 'id', 'favorites.1', 'listens.1', 'tracks', 'comments']\n"
          ],
          "name": "stdout"
        },
        {
          "output_type": "stream",
          "text": [
            "/usr/local/lib/python3.6/dist-packages/sklearn/linear_model/logistic.py:758: ConvergenceWarning: lbfgs failed to converge. Increase the number of iterations.\n",
            "  \"of iterations.\", ConvergenceWarning)\n"
          ],
          "name": "stderr"
        },
        {
          "output_type": "stream",
          "text": [
            "score: 0.31683467741935484\n",
            "completion time: 2019-02-26 16:08:30.712397\n",
            "['id.1', 'interest', 'favorites.2', 'id', 'favorites.1', 'listens.1', 'tracks', 'comments', 'number']\n"
          ],
          "name": "stdout"
        },
        {
          "output_type": "stream",
          "text": [
            "/usr/local/lib/python3.6/dist-packages/sklearn/linear_model/logistic.py:758: ConvergenceWarning: lbfgs failed to converge. Increase the number of iterations.\n",
            "  \"of iterations.\", ConvergenceWarning)\n"
          ],
          "name": "stderr"
        },
        {
          "output_type": "stream",
          "text": [
            "score: 0.31340725806451614\n",
            "completion time: 2019-02-26 16:09:45.429863\n",
            "['id.1', 'interest', 'favorites.2', 'id', 'favorites.1', 'listens.1', 'tracks', 'comments', 'number', 'comments.1']\n"
          ],
          "name": "stdout"
        },
        {
          "output_type": "stream",
          "text": [
            "/usr/local/lib/python3.6/dist-packages/sklearn/linear_model/logistic.py:758: ConvergenceWarning: lbfgs failed to converge. Increase the number of iterations.\n",
            "  \"of iterations.\", ConvergenceWarning)\n"
          ],
          "name": "stderr"
        },
        {
          "output_type": "stream",
          "text": [
            "score: 0.314616935483871\n",
            "completion time: 2019-02-26 16:11:01.345206\n",
            "['id.1', 'interest', 'favorites.2', 'id', 'favorites.1', 'listens.1', 'tracks', 'comments', 'number', 'comments.1', 'listens']\n"
          ],
          "name": "stdout"
        },
        {
          "output_type": "stream",
          "text": [
            "/usr/local/lib/python3.6/dist-packages/sklearn/linear_model/logistic.py:758: ConvergenceWarning: lbfgs failed to converge. Increase the number of iterations.\n",
            "  \"of iterations.\", ConvergenceWarning)\n"
          ],
          "name": "stderr"
        },
        {
          "output_type": "stream",
          "text": [
            "score: 0.33377016129032255\n",
            "completion time: 2019-02-26 16:12:19.500583\n",
            "['id.1', 'interest', 'favorites.2', 'id', 'favorites.1', 'listens.1', 'tracks', 'comments', 'number', 'comments.1', 'listens', 'favorites']\n"
          ],
          "name": "stdout"
        },
        {
          "output_type": "stream",
          "text": [
            "/usr/local/lib/python3.6/dist-packages/sklearn/linear_model/logistic.py:758: ConvergenceWarning: lbfgs failed to converge. Increase the number of iterations.\n",
            "  \"of iterations.\", ConvergenceWarning)\n"
          ],
          "name": "stderr"
        },
        {
          "output_type": "stream",
          "text": [
            "score: 0.3336693548387097\n",
            "completion time: 2019-02-26 16:13:37.697653\n",
            "['id.1', 'interest', 'favorites.2', 'id', 'favorites.1', 'listens.1', 'tracks', 'comments', 'number', 'comments.1', 'listens', 'favorites', 'bit_rate']\n"
          ],
          "name": "stdout"
        },
        {
          "output_type": "stream",
          "text": [
            "/usr/local/lib/python3.6/dist-packages/sklearn/linear_model/logistic.py:758: ConvergenceWarning: lbfgs failed to converge. Increase the number of iterations.\n",
            "  \"of iterations.\", ConvergenceWarning)\n"
          ],
          "name": "stderr"
        },
        {
          "output_type": "stream",
          "text": [
            "score: 0.35342741935483873\n",
            "completion time: 2019-02-26 16:14:55.191895\n",
            "['interest']\n",
            "score: 0.3056451612903226\n",
            "completion time: 2019-02-26 16:16:06.403969\n",
            "['interest', 'favorites.2']\n"
          ],
          "name": "stdout"
        },
        {
          "output_type": "stream",
          "text": [
            "/usr/local/lib/python3.6/dist-packages/sklearn/linear_model/logistic.py:758: ConvergenceWarning: lbfgs failed to converge. Increase the number of iterations.\n",
            "  \"of iterations.\", ConvergenceWarning)\n"
          ],
          "name": "stderr"
        },
        {
          "output_type": "stream",
          "text": [
            "score: 0.2900201612903226\n",
            "completion time: 2019-02-26 16:17:22.661866\n",
            "['interest', 'favorites.2', 'id']\n",
            "score: 0.28891129032258067\n",
            "completion time: 2019-02-26 16:17:51.301819\n",
            "['interest', 'favorites.2', 'id', 'favorites.1']\n"
          ],
          "name": "stdout"
        },
        {
          "output_type": "stream",
          "text": [
            "/usr/local/lib/python3.6/dist-packages/sklearn/linear_model/logistic.py:758: ConvergenceWarning: lbfgs failed to converge. Increase the number of iterations.\n",
            "  \"of iterations.\", ConvergenceWarning)\n"
          ],
          "name": "stderr"
        },
        {
          "output_type": "stream",
          "text": [
            "score: 0.27933467741935486\n",
            "completion time: 2019-02-26 16:19:05.418003\n",
            "['interest', 'favorites.2', 'id', 'favorites.1', 'listens.1']\n"
          ],
          "name": "stdout"
        },
        {
          "output_type": "stream",
          "text": [
            "/usr/local/lib/python3.6/dist-packages/sklearn/linear_model/logistic.py:758: ConvergenceWarning: lbfgs failed to converge. Increase the number of iterations.\n",
            "  \"of iterations.\", ConvergenceWarning)\n"
          ],
          "name": "stderr"
        },
        {
          "output_type": "stream",
          "text": [
            "score: 0.31290322580645163\n",
            "completion time: 2019-02-26 16:20:18.831759\n",
            "['interest', 'favorites.2', 'id', 'favorites.1', 'listens.1', 'tracks']\n"
          ],
          "name": "stdout"
        },
        {
          "output_type": "stream",
          "text": [
            "/usr/local/lib/python3.6/dist-packages/sklearn/linear_model/logistic.py:758: ConvergenceWarning: lbfgs failed to converge. Increase the number of iterations.\n",
            "  \"of iterations.\", ConvergenceWarning)\n"
          ],
          "name": "stderr"
        },
        {
          "output_type": "stream",
          "text": [
            "score: 0.31502016129032256\n",
            "completion time: 2019-02-26 16:21:33.229451\n",
            "['interest', 'favorites.2', 'id', 'favorites.1', 'listens.1', 'tracks', 'comments']\n"
          ],
          "name": "stdout"
        },
        {
          "output_type": "stream",
          "text": [
            "/usr/local/lib/python3.6/dist-packages/sklearn/linear_model/logistic.py:758: ConvergenceWarning: lbfgs failed to converge. Increase the number of iterations.\n",
            "  \"of iterations.\", ConvergenceWarning)\n"
          ],
          "name": "stderr"
        },
        {
          "output_type": "stream",
          "text": [
            "score: 0.3161290322580645\n",
            "completion time: 2019-02-26 16:22:50.217942\n",
            "['interest', 'favorites.2', 'id', 'favorites.1', 'listens.1', 'tracks', 'comments', 'number']\n"
          ],
          "name": "stdout"
        },
        {
          "output_type": "stream",
          "text": [
            "/usr/local/lib/python3.6/dist-packages/sklearn/linear_model/logistic.py:758: ConvergenceWarning: lbfgs failed to converge. Increase the number of iterations.\n",
            "  \"of iterations.\", ConvergenceWarning)\n"
          ],
          "name": "stderr"
        },
        {
          "output_type": "stream",
          "text": [
            "score: 0.31733870967741934\n",
            "completion time: 2019-02-26 16:24:05.839306\n",
            "['interest', 'favorites.2', 'id', 'favorites.1', 'listens.1', 'tracks', 'comments', 'number', 'comments.1']\n"
          ],
          "name": "stdout"
        },
        {
          "output_type": "stream",
          "text": [
            "/usr/local/lib/python3.6/dist-packages/sklearn/linear_model/logistic.py:758: ConvergenceWarning: lbfgs failed to converge. Increase the number of iterations.\n",
            "  \"of iterations.\", ConvergenceWarning)\n"
          ],
          "name": "stderr"
        },
        {
          "output_type": "stream",
          "text": [
            "score: 0.31713709677419355\n",
            "completion time: 2019-02-26 16:25:21.734093\n",
            "['interest', 'favorites.2', 'id', 'favorites.1', 'listens.1', 'tracks', 'comments', 'number', 'comments.1', 'listens']\n"
          ],
          "name": "stdout"
        },
        {
          "output_type": "stream",
          "text": [
            "/usr/local/lib/python3.6/dist-packages/sklearn/linear_model/logistic.py:758: ConvergenceWarning: lbfgs failed to converge. Increase the number of iterations.\n",
            "  \"of iterations.\", ConvergenceWarning)\n"
          ],
          "name": "stderr"
        },
        {
          "output_type": "stream",
          "text": [
            "score: 0.33518145161290325\n",
            "completion time: 2019-02-26 16:26:38.311946\n",
            "['interest', 'favorites.2', 'id', 'favorites.1', 'listens.1', 'tracks', 'comments', 'number', 'comments.1', 'listens', 'favorites']\n"
          ],
          "name": "stdout"
        },
        {
          "output_type": "stream",
          "text": [
            "/usr/local/lib/python3.6/dist-packages/sklearn/linear_model/logistic.py:758: ConvergenceWarning: lbfgs failed to converge. Increase the number of iterations.\n",
            "  \"of iterations.\", ConvergenceWarning)\n"
          ],
          "name": "stderr"
        },
        {
          "output_type": "stream",
          "text": [
            "score: 0.3367943548387097\n",
            "completion time: 2019-02-26 16:27:54.793128\n",
            "['interest', 'favorites.2', 'id', 'favorites.1', 'listens.1', 'tracks', 'comments', 'number', 'comments.1', 'listens', 'favorites', 'bit_rate']\n"
          ],
          "name": "stdout"
        },
        {
          "output_type": "stream",
          "text": [
            "/usr/local/lib/python3.6/dist-packages/sklearn/linear_model/logistic.py:758: ConvergenceWarning: lbfgs failed to converge. Increase the number of iterations.\n",
            "  \"of iterations.\", ConvergenceWarning)\n"
          ],
          "name": "stderr"
        },
        {
          "output_type": "stream",
          "text": [
            "score: 0.3551411290322581\n",
            "completion time: 2019-02-26 16:29:12.193623\n",
            "['favorites.2']\n",
            "score: 0.2991935483870968\n",
            "completion time: 2019-02-26 16:29:47.482898\n",
            "['favorites.2', 'id']\n"
          ],
          "name": "stdout"
        },
        {
          "output_type": "stream",
          "text": [
            "/usr/local/lib/python3.6/dist-packages/sklearn/linear_model/logistic.py:758: ConvergenceWarning: lbfgs failed to converge. Increase the number of iterations.\n",
            "  \"of iterations.\", ConvergenceWarning)\n"
          ],
          "name": "stderr"
        },
        {
          "output_type": "stream",
          "text": [
            "score: 0.29193548387096774\n",
            "completion time: 2019-02-26 16:31:00.388174\n",
            "['favorites.2', 'id', 'favorites.1']\n"
          ],
          "name": "stdout"
        },
        {
          "output_type": "stream",
          "text": [
            "/usr/local/lib/python3.6/dist-packages/sklearn/linear_model/logistic.py:758: ConvergenceWarning: lbfgs failed to converge. Increase the number of iterations.\n",
            "  \"of iterations.\", ConvergenceWarning)\n"
          ],
          "name": "stderr"
        },
        {
          "output_type": "stream",
          "text": [
            "score: 0.27872983870967744\n",
            "completion time: 2019-02-26 16:32:14.081570\n",
            "['favorites.2', 'id', 'favorites.1', 'listens.1']\n"
          ],
          "name": "stdout"
        },
        {
          "output_type": "stream",
          "text": [
            "/usr/local/lib/python3.6/dist-packages/sklearn/linear_model/logistic.py:758: ConvergenceWarning: lbfgs failed to converge. Increase the number of iterations.\n",
            "  \"of iterations.\", ConvergenceWarning)\n"
          ],
          "name": "stderr"
        },
        {
          "output_type": "stream",
          "text": [
            "score: 0.3100806451612903\n",
            "completion time: 2019-02-26 16:33:28.816812\n",
            "['favorites.2', 'id', 'favorites.1', 'listens.1', 'tracks']\n"
          ],
          "name": "stdout"
        },
        {
          "output_type": "stream",
          "text": [
            "/usr/local/lib/python3.6/dist-packages/sklearn/linear_model/logistic.py:758: ConvergenceWarning: lbfgs failed to converge. Increase the number of iterations.\n",
            "  \"of iterations.\", ConvergenceWarning)\n"
          ],
          "name": "stderr"
        },
        {
          "output_type": "stream",
          "text": [
            "score: 0.3209677419354839\n",
            "completion time: 2019-02-26 16:34:43.881192\n",
            "['favorites.2', 'id', 'favorites.1', 'listens.1', 'tracks', 'comments']\n"
          ],
          "name": "stdout"
        },
        {
          "output_type": "stream",
          "text": [
            "/usr/local/lib/python3.6/dist-packages/sklearn/linear_model/logistic.py:758: ConvergenceWarning: lbfgs failed to converge. Increase the number of iterations.\n",
            "  \"of iterations.\", ConvergenceWarning)\n"
          ],
          "name": "stderr"
        },
        {
          "output_type": "stream",
          "text": [
            "score: 0.31582661290322583\n",
            "completion time: 2019-02-26 16:35:59.357857\n",
            "['favorites.2', 'id', 'favorites.1', 'listens.1', 'tracks', 'comments', 'number']\n"
          ],
          "name": "stdout"
        },
        {
          "output_type": "stream",
          "text": [
            "/usr/local/lib/python3.6/dist-packages/sklearn/linear_model/logistic.py:758: ConvergenceWarning: lbfgs failed to converge. Increase the number of iterations.\n",
            "  \"of iterations.\", ConvergenceWarning)\n"
          ],
          "name": "stderr"
        },
        {
          "output_type": "stream",
          "text": [
            "score: 0.31582661290322583\n",
            "completion time: 2019-02-26 16:37:14.815001\n",
            "['favorites.2', 'id', 'favorites.1', 'listens.1', 'tracks', 'comments', 'number', 'comments.1']\n"
          ],
          "name": "stdout"
        },
        {
          "output_type": "stream",
          "text": [
            "/usr/local/lib/python3.6/dist-packages/sklearn/linear_model/logistic.py:758: ConvergenceWarning: lbfgs failed to converge. Increase the number of iterations.\n",
            "  \"of iterations.\", ConvergenceWarning)\n"
          ],
          "name": "stderr"
        },
        {
          "output_type": "stream",
          "text": [
            "score: 0.3180443548387097\n",
            "completion time: 2019-02-26 16:38:30.912895\n",
            "['favorites.2', 'id', 'favorites.1', 'listens.1', 'tracks', 'comments', 'number', 'comments.1', 'listens']\n"
          ],
          "name": "stdout"
        },
        {
          "output_type": "stream",
          "text": [
            "/usr/local/lib/python3.6/dist-packages/sklearn/linear_model/logistic.py:758: ConvergenceWarning: lbfgs failed to converge. Increase the number of iterations.\n",
            "  \"of iterations.\", ConvergenceWarning)\n"
          ],
          "name": "stderr"
        },
        {
          "output_type": "stream",
          "text": [
            "score: 0.3336693548387097\n",
            "completion time: 2019-02-26 16:39:47.142142\n",
            "['favorites.2', 'id', 'favorites.1', 'listens.1', 'tracks', 'comments', 'number', 'comments.1', 'listens', 'favorites']\n"
          ],
          "name": "stdout"
        },
        {
          "output_type": "stream",
          "text": [
            "/usr/local/lib/python3.6/dist-packages/sklearn/linear_model/logistic.py:758: ConvergenceWarning: lbfgs failed to converge. Increase the number of iterations.\n",
            "  \"of iterations.\", ConvergenceWarning)\n"
          ],
          "name": "stderr"
        },
        {
          "output_type": "stream",
          "text": [
            "score: 0.3334677419354839\n",
            "completion time: 2019-02-26 16:41:04.110218\n",
            "['favorites.2', 'id', 'favorites.1', 'listens.1', 'tracks', 'comments', 'number', 'comments.1', 'listens', 'favorites', 'bit_rate']\n"
          ],
          "name": "stdout"
        },
        {
          "output_type": "stream",
          "text": [
            "/usr/local/lib/python3.6/dist-packages/sklearn/linear_model/logistic.py:758: ConvergenceWarning: lbfgs failed to converge. Increase the number of iterations.\n",
            "  \"of iterations.\", ConvergenceWarning)\n"
          ],
          "name": "stderr"
        },
        {
          "output_type": "stream",
          "text": [
            "score: 0.3512096774193548\n",
            "completion time: 2019-02-26 16:42:19.309547\n",
            "['id']\n",
            "score: 0.286491935483871\n",
            "completion time: 2019-02-26 16:42:25.124309\n",
            "['id', 'favorites.1']\n"
          ],
          "name": "stdout"
        },
        {
          "output_type": "stream",
          "text": [
            "/usr/local/lib/python3.6/dist-packages/sklearn/linear_model/logistic.py:758: ConvergenceWarning: lbfgs failed to converge. Increase the number of iterations.\n",
            "  \"of iterations.\", ConvergenceWarning)\n"
          ],
          "name": "stderr"
        },
        {
          "output_type": "stream",
          "text": [
            "score: 0.2730846774193548\n",
            "completion time: 2019-02-26 16:43:39.919866\n",
            "['id', 'favorites.1', 'listens.1']\n"
          ],
          "name": "stdout"
        },
        {
          "output_type": "stream",
          "text": [
            "/usr/local/lib/python3.6/dist-packages/sklearn/linear_model/logistic.py:758: ConvergenceWarning: lbfgs failed to converge. Increase the number of iterations.\n",
            "  \"of iterations.\", ConvergenceWarning)\n"
          ],
          "name": "stderr"
        },
        {
          "output_type": "stream",
          "text": [
            "score: 0.3095766129032258\n",
            "completion time: 2019-02-26 16:44:53.988719\n",
            "['id', 'favorites.1', 'listens.1', 'tracks']\n"
          ],
          "name": "stdout"
        },
        {
          "output_type": "stream",
          "text": [
            "/usr/local/lib/python3.6/dist-packages/sklearn/linear_model/logistic.py:758: ConvergenceWarning: lbfgs failed to converge. Increase the number of iterations.\n",
            "  \"of iterations.\", ConvergenceWarning)\n"
          ],
          "name": "stderr"
        },
        {
          "output_type": "stream",
          "text": [
            "score: 0.31441532258064514\n",
            "completion time: 2019-02-26 16:46:08.574518\n",
            "['id', 'favorites.1', 'listens.1', 'tracks', 'comments']\n"
          ],
          "name": "stdout"
        },
        {
          "output_type": "stream",
          "text": [
            "/usr/local/lib/python3.6/dist-packages/sklearn/linear_model/logistic.py:758: ConvergenceWarning: lbfgs failed to converge. Increase the number of iterations.\n",
            "  \"of iterations.\", ConvergenceWarning)\n"
          ],
          "name": "stderr"
        },
        {
          "output_type": "stream",
          "text": [
            "score: 0.3167338709677419\n",
            "completion time: 2019-02-26 16:47:22.945289\n",
            "['id', 'favorites.1', 'listens.1', 'tracks', 'comments', 'number']\n"
          ],
          "name": "stdout"
        },
        {
          "output_type": "stream",
          "text": [
            "/usr/local/lib/python3.6/dist-packages/sklearn/linear_model/logistic.py:758: ConvergenceWarning: lbfgs failed to converge. Increase the number of iterations.\n",
            "  \"of iterations.\", ConvergenceWarning)\n"
          ],
          "name": "stderr"
        },
        {
          "output_type": "stream",
          "text": [
            "score: 0.3170362903225806\n",
            "completion time: 2019-02-26 16:48:38.573436\n",
            "['id', 'favorites.1', 'listens.1', 'tracks', 'comments', 'number', 'comments.1']\n"
          ],
          "name": "stdout"
        },
        {
          "output_type": "stream",
          "text": [
            "/usr/local/lib/python3.6/dist-packages/sklearn/linear_model/logistic.py:758: ConvergenceWarning: lbfgs failed to converge. Increase the number of iterations.\n",
            "  \"of iterations.\", ConvergenceWarning)\n"
          ],
          "name": "stderr"
        },
        {
          "output_type": "stream",
          "text": [
            "score: 0.3199596774193548\n",
            "completion time: 2019-02-26 16:49:54.337132\n",
            "['id', 'favorites.1', 'listens.1', 'tracks', 'comments', 'number', 'comments.1', 'listens']\n"
          ],
          "name": "stdout"
        },
        {
          "output_type": "stream",
          "text": [
            "/usr/local/lib/python3.6/dist-packages/sklearn/linear_model/logistic.py:758: ConvergenceWarning: lbfgs failed to converge. Increase the number of iterations.\n",
            "  \"of iterations.\", ConvergenceWarning)\n"
          ],
          "name": "stderr"
        },
        {
          "output_type": "stream",
          "text": [
            "score: 0.33377016129032255\n",
            "completion time: 2019-02-26 16:51:10.235954\n",
            "['id', 'favorites.1', 'listens.1', 'tracks', 'comments', 'number', 'comments.1', 'listens', 'favorites']\n"
          ],
          "name": "stdout"
        },
        {
          "output_type": "stream",
          "text": [
            "/usr/local/lib/python3.6/dist-packages/sklearn/linear_model/logistic.py:758: ConvergenceWarning: lbfgs failed to converge. Increase the number of iterations.\n",
            "  \"of iterations.\", ConvergenceWarning)\n"
          ],
          "name": "stderr"
        },
        {
          "output_type": "stream",
          "text": [
            "score: 0.3328629032258065\n",
            "completion time: 2019-02-26 16:52:26.569608\n",
            "['id', 'favorites.1', 'listens.1', 'tracks', 'comments', 'number', 'comments.1', 'listens', 'favorites', 'bit_rate']\n"
          ],
          "name": "stdout"
        },
        {
          "output_type": "stream",
          "text": [
            "/usr/local/lib/python3.6/dist-packages/sklearn/linear_model/logistic.py:758: ConvergenceWarning: lbfgs failed to converge. Increase the number of iterations.\n",
            "  \"of iterations.\", ConvergenceWarning)\n"
          ],
          "name": "stderr"
        },
        {
          "output_type": "stream",
          "text": [
            "score: 0.3495967741935484\n",
            "completion time: 2019-02-26 16:53:44.130192\n",
            "['favorites.1']\n"
          ],
          "name": "stdout"
        },
        {
          "output_type": "stream",
          "text": [
            "/usr/local/lib/python3.6/dist-packages/sklearn/linear_model/logistic.py:758: ConvergenceWarning: lbfgs failed to converge. Increase the number of iterations.\n",
            "  \"of iterations.\", ConvergenceWarning)\n"
          ],
          "name": "stderr"
        },
        {
          "output_type": "stream",
          "text": [
            "score: 0.2971774193548387\n",
            "completion time: 2019-02-26 16:54:57.835811\n",
            "['favorites.1', 'listens.1']\n"
          ],
          "name": "stdout"
        },
        {
          "output_type": "stream",
          "text": [
            "/usr/local/lib/python3.6/dist-packages/sklearn/linear_model/logistic.py:758: ConvergenceWarning: lbfgs failed to converge. Increase the number of iterations.\n",
            "  \"of iterations.\", ConvergenceWarning)\n"
          ],
          "name": "stderr"
        },
        {
          "output_type": "stream",
          "text": [
            "score: 0.2973790322580645\n",
            "completion time: 2019-02-26 16:56:12.539717\n",
            "['favorites.1', 'listens.1', 'tracks']\n"
          ],
          "name": "stdout"
        },
        {
          "output_type": "stream",
          "text": [
            "/usr/local/lib/python3.6/dist-packages/sklearn/linear_model/logistic.py:758: ConvergenceWarning: lbfgs failed to converge. Increase the number of iterations.\n",
            "  \"of iterations.\", ConvergenceWarning)\n"
          ],
          "name": "stderr"
        },
        {
          "output_type": "stream",
          "text": [
            "score: 0.3439516129032258\n",
            "completion time: 2019-02-26 16:57:25.694310\n",
            "['favorites.1', 'listens.1', 'tracks', 'comments']\n"
          ],
          "name": "stdout"
        },
        {
          "output_type": "stream",
          "text": [
            "/usr/local/lib/python3.6/dist-packages/sklearn/linear_model/logistic.py:758: ConvergenceWarning: lbfgs failed to converge. Increase the number of iterations.\n",
            "  \"of iterations.\", ConvergenceWarning)\n"
          ],
          "name": "stderr"
        },
        {
          "output_type": "stream",
          "text": [
            "score: 0.3241935483870968\n",
            "completion time: 2019-02-26 16:58:39.715779\n",
            "['favorites.1', 'listens.1', 'tracks', 'comments', 'number']\n"
          ],
          "name": "stdout"
        },
        {
          "output_type": "stream",
          "text": [
            "/usr/local/lib/python3.6/dist-packages/sklearn/linear_model/logistic.py:758: ConvergenceWarning: lbfgs failed to converge. Increase the number of iterations.\n",
            "  \"of iterations.\", ConvergenceWarning)\n"
          ],
          "name": "stderr"
        },
        {
          "output_type": "stream",
          "text": [
            "score: 0.32026209677419354\n",
            "completion time: 2019-02-26 16:59:52.970101\n",
            "['favorites.1', 'listens.1', 'tracks', 'comments', 'number', 'comments.1']\n"
          ],
          "name": "stdout"
        },
        {
          "output_type": "stream",
          "text": [
            "/usr/local/lib/python3.6/dist-packages/sklearn/linear_model/logistic.py:758: ConvergenceWarning: lbfgs failed to converge. Increase the number of iterations.\n",
            "  \"of iterations.\", ConvergenceWarning)\n"
          ],
          "name": "stderr"
        },
        {
          "output_type": "stream",
          "text": [
            "score: 0.3409274193548387\n",
            "completion time: 2019-02-26 17:01:08.088470\n",
            "['favorites.1', 'listens.1', 'tracks', 'comments', 'number', 'comments.1', 'listens']\n"
          ],
          "name": "stdout"
        },
        {
          "output_type": "stream",
          "text": [
            "/usr/local/lib/python3.6/dist-packages/sklearn/linear_model/logistic.py:758: ConvergenceWarning: lbfgs failed to converge. Increase the number of iterations.\n",
            "  \"of iterations.\", ConvergenceWarning)\n"
          ],
          "name": "stderr"
        },
        {
          "output_type": "stream",
          "text": [
            "score: 0.28286290322580643\n",
            "completion time: 2019-02-26 17:02:22.681391\n",
            "['favorites.1', 'listens.1', 'tracks', 'comments', 'number', 'comments.1', 'listens', 'favorites']\n"
          ],
          "name": "stdout"
        },
        {
          "output_type": "stream",
          "text": [
            "/usr/local/lib/python3.6/dist-packages/sklearn/linear_model/logistic.py:758: ConvergenceWarning: lbfgs failed to converge. Increase the number of iterations.\n",
            "  \"of iterations.\", ConvergenceWarning)\n"
          ],
          "name": "stderr"
        },
        {
          "output_type": "stream",
          "text": [
            "score: 0.2835685483870968\n",
            "completion time: 2019-02-26 17:03:37.991837\n",
            "['favorites.1', 'listens.1', 'tracks', 'comments', 'number', 'comments.1', 'listens', 'favorites', 'bit_rate']\n"
          ],
          "name": "stdout"
        },
        {
          "output_type": "stream",
          "text": [
            "/usr/local/lib/python3.6/dist-packages/sklearn/linear_model/logistic.py:758: ConvergenceWarning: lbfgs failed to converge. Increase the number of iterations.\n",
            "  \"of iterations.\", ConvergenceWarning)\n"
          ],
          "name": "stderr"
        },
        {
          "output_type": "stream",
          "text": [
            "score: 0.3498991935483871\n",
            "completion time: 2019-02-26 17:04:55.251365\n",
            "['listens.1']\n"
          ],
          "name": "stdout"
        },
        {
          "output_type": "stream",
          "text": [
            "/usr/local/lib/python3.6/dist-packages/sklearn/linear_model/logistic.py:758: ConvergenceWarning: lbfgs failed to converge. Increase the number of iterations.\n",
            "  \"of iterations.\", ConvergenceWarning)\n"
          ],
          "name": "stderr"
        },
        {
          "output_type": "stream",
          "text": [
            "score: 0.3058467741935484\n",
            "completion time: 2019-02-26 17:06:09.572522\n",
            "['listens.1', 'tracks']\n"
          ],
          "name": "stdout"
        },
        {
          "output_type": "stream",
          "text": [
            "/usr/local/lib/python3.6/dist-packages/sklearn/linear_model/logistic.py:758: ConvergenceWarning: lbfgs failed to converge. Increase the number of iterations.\n",
            "  \"of iterations.\", ConvergenceWarning)\n"
          ],
          "name": "stderr"
        },
        {
          "output_type": "stream",
          "text": [
            "score: 0.3191532258064516\n",
            "completion time: 2019-02-26 17:07:24.362030\n",
            "['listens.1', 'tracks', 'comments']\n"
          ],
          "name": "stdout"
        },
        {
          "output_type": "stream",
          "text": [
            "/usr/local/lib/python3.6/dist-packages/sklearn/linear_model/logistic.py:758: ConvergenceWarning: lbfgs failed to converge. Increase the number of iterations.\n",
            "  \"of iterations.\", ConvergenceWarning)\n"
          ],
          "name": "stderr"
        },
        {
          "output_type": "stream",
          "text": [
            "score: 0.3217741935483871\n",
            "completion time: 2019-02-26 17:08:38.419248\n",
            "['listens.1', 'tracks', 'comments', 'number']\n"
          ],
          "name": "stdout"
        },
        {
          "output_type": "stream",
          "text": [
            "/usr/local/lib/python3.6/dist-packages/sklearn/linear_model/logistic.py:758: ConvergenceWarning: lbfgs failed to converge. Increase the number of iterations.\n",
            "  \"of iterations.\", ConvergenceWarning)\n"
          ],
          "name": "stderr"
        },
        {
          "output_type": "stream",
          "text": [
            "score: 0.3227822580645161\n",
            "completion time: 2019-02-26 17:09:52.404080\n",
            "['listens.1', 'tracks', 'comments', 'number', 'comments.1']\n"
          ],
          "name": "stdout"
        },
        {
          "output_type": "stream",
          "text": [
            "/usr/local/lib/python3.6/dist-packages/sklearn/linear_model/logistic.py:758: ConvergenceWarning: lbfgs failed to converge. Increase the number of iterations.\n",
            "  \"of iterations.\", ConvergenceWarning)\n"
          ],
          "name": "stderr"
        },
        {
          "output_type": "stream",
          "text": [
            "score: 0.2974798387096774\n",
            "completion time: 2019-02-26 17:11:07.482384\n",
            "['listens.1', 'tracks', 'comments', 'number', 'comments.1', 'listens']\n"
          ],
          "name": "stdout"
        },
        {
          "output_type": "stream",
          "text": [
            "/usr/local/lib/python3.6/dist-packages/sklearn/linear_model/logistic.py:758: ConvergenceWarning: lbfgs failed to converge. Increase the number of iterations.\n",
            "  \"of iterations.\", ConvergenceWarning)\n"
          ],
          "name": "stderr"
        },
        {
          "output_type": "stream",
          "text": [
            "score: 0.28286290322580643\n",
            "completion time: 2019-02-26 17:12:21.476473\n",
            "['listens.1', 'tracks', 'comments', 'number', 'comments.1', 'listens', 'favorites']\n"
          ],
          "name": "stdout"
        },
        {
          "output_type": "stream",
          "text": [
            "/usr/local/lib/python3.6/dist-packages/sklearn/linear_model/logistic.py:758: ConvergenceWarning: lbfgs failed to converge. Increase the number of iterations.\n",
            "  \"of iterations.\", ConvergenceWarning)\n"
          ],
          "name": "stderr"
        },
        {
          "output_type": "stream",
          "text": [
            "score: 0.2865927419354839\n",
            "completion time: 2019-02-26 17:13:36.530659\n",
            "['listens.1', 'tracks', 'comments', 'number', 'comments.1', 'listens', 'favorites', 'bit_rate']\n"
          ],
          "name": "stdout"
        },
        {
          "output_type": "stream",
          "text": [
            "/usr/local/lib/python3.6/dist-packages/sklearn/linear_model/logistic.py:758: ConvergenceWarning: lbfgs failed to converge. Increase the number of iterations.\n",
            "  \"of iterations.\", ConvergenceWarning)\n"
          ],
          "name": "stderr"
        },
        {
          "output_type": "stream",
          "text": [
            "score: 0.3497983870967742\n",
            "completion time: 2019-02-26 17:14:53.417972\n",
            "['tracks']\n"
          ],
          "name": "stdout"
        },
        {
          "output_type": "stream",
          "text": [
            "/usr/local/lib/python3.6/dist-packages/sklearn/linear_model/logistic.py:758: ConvergenceWarning: lbfgs failed to converge. Increase the number of iterations.\n",
            "  \"of iterations.\", ConvergenceWarning)\n"
          ],
          "name": "stderr"
        },
        {
          "output_type": "stream",
          "text": [
            "score: 0.33225806451612905\n",
            "completion time: 2019-02-26 17:16:06.579216\n",
            "['tracks', 'comments']\n"
          ],
          "name": "stdout"
        },
        {
          "output_type": "stream",
          "text": [
            "/usr/local/lib/python3.6/dist-packages/sklearn/linear_model/logistic.py:758: ConvergenceWarning: lbfgs failed to converge. Increase the number of iterations.\n",
            "  \"of iterations.\", ConvergenceWarning)\n"
          ],
          "name": "stderr"
        },
        {
          "output_type": "stream",
          "text": [
            "score: 0.33306451612903226\n",
            "completion time: 2019-02-26 17:17:20.665389\n",
            "['tracks', 'comments', 'number']\n"
          ],
          "name": "stdout"
        },
        {
          "output_type": "stream",
          "text": [
            "/usr/local/lib/python3.6/dist-packages/sklearn/linear_model/logistic.py:758: ConvergenceWarning: lbfgs failed to converge. Increase the number of iterations.\n",
            "  \"of iterations.\", ConvergenceWarning)\n"
          ],
          "name": "stderr"
        },
        {
          "output_type": "stream",
          "text": [
            "score: 0.3318548387096774\n",
            "completion time: 2019-02-26 17:18:36.324563\n",
            "['tracks', 'comments', 'number', 'comments.1']\n"
          ],
          "name": "stdout"
        },
        {
          "output_type": "stream",
          "text": [
            "/usr/local/lib/python3.6/dist-packages/sklearn/linear_model/logistic.py:758: ConvergenceWarning: lbfgs failed to converge. Increase the number of iterations.\n",
            "  \"of iterations.\", ConvergenceWarning)\n"
          ],
          "name": "stderr"
        },
        {
          "output_type": "stream",
          "text": [
            "score: 0.33830645161290324\n",
            "completion time: 2019-02-26 17:19:52.809626\n",
            "['tracks', 'comments', 'number', 'comments.1', 'listens']\n"
          ],
          "name": "stdout"
        },
        {
          "output_type": "stream",
          "text": [
            "/usr/local/lib/python3.6/dist-packages/sklearn/linear_model/logistic.py:758: ConvergenceWarning: lbfgs failed to converge. Increase the number of iterations.\n",
            "  \"of iterations.\", ConvergenceWarning)\n"
          ],
          "name": "stderr"
        },
        {
          "output_type": "stream",
          "text": [
            "score: 0.2967741935483871\n",
            "completion time: 2019-02-26 17:21:06.672860\n",
            "['tracks', 'comments', 'number', 'comments.1', 'listens', 'favorites']\n"
          ],
          "name": "stdout"
        },
        {
          "output_type": "stream",
          "text": [
            "/usr/local/lib/python3.6/dist-packages/sklearn/linear_model/logistic.py:758: ConvergenceWarning: lbfgs failed to converge. Increase the number of iterations.\n",
            "  \"of iterations.\", ConvergenceWarning)\n"
          ],
          "name": "stderr"
        },
        {
          "output_type": "stream",
          "text": [
            "score: 0.28296370967741935\n",
            "completion time: 2019-02-26 17:22:21.110293\n",
            "['tracks', 'comments', 'number', 'comments.1', 'listens', 'favorites', 'bit_rate']\n"
          ],
          "name": "stdout"
        },
        {
          "output_type": "stream",
          "text": [
            "/usr/local/lib/python3.6/dist-packages/sklearn/linear_model/logistic.py:758: ConvergenceWarning: lbfgs failed to converge. Increase the number of iterations.\n",
            "  \"of iterations.\", ConvergenceWarning)\n"
          ],
          "name": "stderr"
        },
        {
          "output_type": "stream",
          "text": [
            "score: 0.35816532258064515\n",
            "completion time: 2019-02-26 17:23:37.289588\n",
            "['comments']\n",
            "score: 0.2939516129032258\n",
            "completion time: 2019-02-26 17:23:43.303298\n",
            "['comments', 'number']\n",
            "score: 0.32106854838709675\n",
            "completion time: 2019-02-26 17:24:55.637787\n",
            "['comments', 'number', 'comments.1']\n",
            "score: 0.3279233870967742\n",
            "completion time: 2019-02-26 17:26:05.485864\n",
            "['comments', 'number', 'comments.1', 'listens']\n"
          ],
          "name": "stdout"
        },
        {
          "output_type": "stream",
          "text": [
            "/usr/local/lib/python3.6/dist-packages/sklearn/linear_model/logistic.py:758: ConvergenceWarning: lbfgs failed to converge. Increase the number of iterations.\n",
            "  \"of iterations.\", ConvergenceWarning)\n"
          ],
          "name": "stderr"
        },
        {
          "output_type": "stream",
          "text": [
            "score: 0.2998991935483871\n",
            "completion time: 2019-02-26 17:27:19.590125\n",
            "['comments', 'number', 'comments.1', 'listens', 'favorites']\n"
          ],
          "name": "stdout"
        },
        {
          "output_type": "stream",
          "text": [
            "/usr/local/lib/python3.6/dist-packages/sklearn/linear_model/logistic.py:758: ConvergenceWarning: lbfgs failed to converge. Increase the number of iterations.\n",
            "  \"of iterations.\", ConvergenceWarning)\n"
          ],
          "name": "stderr"
        },
        {
          "output_type": "stream",
          "text": [
            "score: 0.30625\n",
            "completion time: 2019-02-26 17:28:34.743114\n",
            "['comments', 'number', 'comments.1', 'listens', 'favorites', 'bit_rate']\n"
          ],
          "name": "stdout"
        },
        {
          "output_type": "stream",
          "text": [
            "/usr/local/lib/python3.6/dist-packages/sklearn/linear_model/logistic.py:758: ConvergenceWarning: lbfgs failed to converge. Increase the number of iterations.\n",
            "  \"of iterations.\", ConvergenceWarning)\n"
          ],
          "name": "stderr"
        },
        {
          "output_type": "stream",
          "text": [
            "score: 0.3443548387096774\n",
            "completion time: 2019-02-26 17:29:52.441760\n",
            "['number']\n",
            "score: 0.3227822580645161\n",
            "completion time: 2019-02-26 17:30:53.410472\n",
            "['number', 'comments.1']\n",
            "score: 0.3275201612903226\n",
            "completion time: 2019-02-26 17:31:56.385442\n",
            "['number', 'comments.1', 'listens']\n"
          ],
          "name": "stdout"
        },
        {
          "output_type": "stream",
          "text": [
            "/usr/local/lib/python3.6/dist-packages/sklearn/linear_model/logistic.py:758: ConvergenceWarning: lbfgs failed to converge. Increase the number of iterations.\n",
            "  \"of iterations.\", ConvergenceWarning)\n"
          ],
          "name": "stderr"
        },
        {
          "output_type": "stream",
          "text": [
            "score: 0.27610887096774195\n",
            "completion time: 2019-02-26 17:33:10.700930\n",
            "['number', 'comments.1', 'listens', 'favorites']\n"
          ],
          "name": "stdout"
        },
        {
          "output_type": "stream",
          "text": [
            "/usr/local/lib/python3.6/dist-packages/sklearn/linear_model/logistic.py:758: ConvergenceWarning: lbfgs failed to converge. Increase the number of iterations.\n",
            "  \"of iterations.\", ConvergenceWarning)\n"
          ],
          "name": "stderr"
        },
        {
          "output_type": "stream",
          "text": [
            "score: 0.2745967741935484\n",
            "completion time: 2019-02-26 17:34:26.084018\n",
            "['number', 'comments.1', 'listens', 'favorites', 'bit_rate']\n",
            "score: 0.3432459677419355\n",
            "completion time: 2019-02-26 17:35:38.096895\n",
            "['comments.1']\n",
            "score: 0.2957661290322581\n",
            "completion time: 2019-02-26 17:35:52.911908\n",
            "['comments.1', 'listens']\n",
            "score: 0.18588709677419354\n",
            "completion time: 2019-02-26 17:36:03.111208\n",
            "['comments.1', 'listens', 'favorites']\n",
            "score: 0.18588709677419354\n",
            "completion time: 2019-02-26 17:36:13.016574\n",
            "['comments.1', 'listens', 'favorites', 'bit_rate']\n",
            "score: 0.3127016129032258\n",
            "completion time: 2019-02-26 17:36:27.554626\n",
            "['listens']\n",
            "score: 0.3138104838709677\n",
            "completion time: 2019-02-26 17:37:32.111882\n",
            "['listens', 'favorites']\n",
            "score: 0.18588709677419354\n",
            "completion time: 2019-02-26 17:37:42.694346\n",
            "['listens', 'favorites', 'bit_rate']\n",
            "score: 0.3127016129032258\n",
            "completion time: 2019-02-26 17:38:00.048580\n",
            "['favorites']\n",
            "score: 0.2940524193548387\n",
            "completion time: 2019-02-26 17:38:09.820469\n",
            "['favorites', 'bit_rate']\n",
            "score: 0.2867943548387097\n",
            "completion time: 2019-02-26 17:38:13.783391\n",
            "['bit_rate']\n",
            "score: 0.2867943548387097\n",
            "completion time: 2019-02-26 17:38:17.666091\n"
          ],
          "name": "stdout"
        }
      ]
    },
    {
      "metadata": {
        "id": "u57FJTr3K2xv",
        "colab_type": "code",
        "colab": {}
      },
      "cell_type": "code",
      "source": [
        "for item in all_list:\n",
        "  print(item)"
      ],
      "execution_count": 0,
      "outputs": []
    },
    {
      "metadata": {
        "id": "vL6_92PFJ_FA",
        "colab_type": "code",
        "colab": {}
      },
      "cell_type": "code",
      "source": [
        "#with open('LogisticRegression.txt', 'w') as f:\n",
        "#    for item in all_list:\n",
        "#        f.write(\"%s\\n\" % item)"
      ],
      "execution_count": 0,
      "outputs": []
    },
    {
      "metadata": {
        "id": "RYc_z3AJKYrA",
        "colab_type": "code",
        "colab": {
          "base_uri": "https://localhost:8080/",
          "height": 34
        },
        "outputId": "07da6ca9-696b-46a9-8688-7e324a31a758"
      },
      "cell_type": "code",
      "source": [
        "#!ls -lsd /content"
      ],
      "execution_count": 43,
      "outputs": [
        {
          "output_type": "stream",
          "text": [
            "4 drwxr-xr-x 1 root root 4096 Feb 26 18:58 /content\n"
          ],
          "name": "stdout"
        }
      ]
    },
    {
      "metadata": {
        "id": "s_BvU_HkKhIj",
        "colab_type": "code",
        "colab": {}
      },
      "cell_type": "code",
      "source": [
        "#from google.colab import drive\n",
        "#drive.mount('/content/drive')\n"
      ],
      "execution_count": 0,
      "outputs": []
    },
    {
      "metadata": {
        "id": "R5HojgUUDNq-",
        "colab_type": "code",
        "colab": {}
      },
      "cell_type": "code",
      "source": [
        "X = df2.loc[:, ['tracks', 'comments', 'number', 'comments.1', 'listens', 'favorites', 'bit_rate']].values"
      ],
      "execution_count": 0,
      "outputs": []
    },
    {
      "metadata": {
        "id": "YOg2QsmdDzAC",
        "colab_type": "code",
        "outputId": "fdfb3363-eceb-491a-80f1-138ac7efae63",
        "colab": {
          "base_uri": "https://localhost:8080/",
          "height": 34
        }
      },
      "cell_type": "code",
      "source": [
        "Xtrain, Xtest, ytrain, ytest = train_test_split(X, y, test_size=0.2, random_state=42)\n",
        "\n",
        "model4 = LogisticRegression(random_state=42, solver = 'lbfgs',\n",
        "                            multi_class = 'multinomial', max_iter=25000)\n",
        "\n",
        "model4.fit(Xtrain, ytrain)\n",
        "model4.score(Xtest, ytest)"
      ],
      "execution_count": 45,
      "outputs": [
        {
          "output_type": "execute_result",
          "data": {
            "text/plain": [
              "0.3625"
            ]
          },
          "metadata": {
            "tags": []
          },
          "execution_count": 45
        }
      ]
    },
    {
      "metadata": {
        "id": "wlI5OXfSag9C",
        "colab_type": "text"
      },
      "cell_type": "markdown",
      "source": [
        "## Resources and stretch goals\n",
        "\n",
        "- Check out the other .csv files from the FMA dataset, and see if you can join them or otherwise fit interesting models with them\n",
        "- [Logistic regression from scratch in numpy](https://blog.goodaudience.com/logistic-regression-from-scratch-in-numpy-5841c09e425f) - if you want to dig in a bit more to both the code and math (also takes a gradient descent approach, introducing the logistic loss function)\n",
        "- Create a visualization to show predictions of your model - ideally show a confidence interval based on error!\n",
        "- Check out and compare classification models from scikit-learn, such as [SVM](https://scikit-learn.org/stable/modules/svm.html#classification), [decision trees](https://scikit-learn.org/stable/modules/tree.html#classification), and [naive Bayes](https://scikit-learn.org/stable/modules/naive_bayes.html). The underlying math will vary significantly, but the API (how you write the code) and interpretation will actually be fairly similar.\n",
        "- Sign up for [Kaggle](https://kaggle.com), and find a competition to try logistic regression with\n",
        "- (Not logistic regression related) If you enjoyed the assignment, you may want to read up on [music informatics](https://en.wikipedia.org/wiki/Music_informatics), which is how those audio features were actually calculated. The FMA includes the actual raw audio, so (while this is more of a longterm project than a stretch goal, and won't fit in Colab) if you'd like you can check those out and see what sort of deeper analysis you can do."
      ]
    }
  ]
}
