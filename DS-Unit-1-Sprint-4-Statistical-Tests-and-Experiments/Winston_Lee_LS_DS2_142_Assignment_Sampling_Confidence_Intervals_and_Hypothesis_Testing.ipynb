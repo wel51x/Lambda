{
  "nbformat": 4,
  "nbformat_minor": 0,
  "metadata": {
    "colab": {
      "name": "Winston Lee LS_DS2_142 Assignment_Sampling_Confidence_Intervals_and_Hypothesis_Testing.ipynb",
      "version": "0.3.2",
      "provenance": [],
      "collapsed_sections": [],
      "include_colab_link": true
    },
    "kernelspec": {
      "name": "python3",
      "display_name": "Python 3"
    }
  },
  "cells": [
    {
      "cell_type": "markdown",
      "metadata": {
        "id": "view-in-github",
        "colab_type": "text"
      },
      "source": [
        "<a href=\"https://colab.research.google.com/github/wel51x/DS-Unit-1-Sprint-4-Statistical-Tests-and-Experiments/blob/master/Winston_Lee_LS_DS2_142_Assignment_Sampling_Confidence_Intervals_and_Hypothesis_Testing.ipynb\" target=\"_parent\"><img src=\"https://colab.research.google.com/assets/colab-badge.svg\" alt=\"Open In Colab\"/></a>"
      ]
    },
    {
      "metadata": {
        "id": "838Dmw1kM2LK",
        "colab_type": "text"
      },
      "cell_type": "markdown",
      "source": [
        "# Lambda School Data Science Module 142\n",
        "## Sampling, Confidence Intervals, and Hypothesis Testing"
      ]
    },
    {
      "metadata": {
        "id": "dbcPKIo5M6Ny",
        "colab_type": "text"
      },
      "cell_type": "markdown",
      "source": [
        "## Prepare - examine other available hypothesis tests\n",
        "\n",
        "If you had to pick a single hypothesis test in your toolbox, t-test would probably be the best choice - but the good news is you don't have to pick just one! Here's some of the others to be aware of:"
      ]
    },
    {
      "metadata": {
        "id": "tlBel8j9M6tB",
        "colab_type": "code",
        "outputId": "811623c9-885a-42e3-c3f7-159ced2ce330",
        "colab": {
          "base_uri": "https://localhost:8080/",
          "height": 215
        }
      },
      "cell_type": "code",
      "source": [
        "import numpy as np\n",
        "from scipy.stats import chisquare  # One-way chi square test\n",
        "\n",
        "# Chi square can take any crosstab/table and test the independence of rows/cols\n",
        "# The null hypothesis is that the rows/cols are independent -> low chi square\n",
        "# The alternative is that there is a dependence -> high chi square\n",
        "# Be aware! Chi square does *not* tell you direction/causation\n",
        "\n",
        "ind_obs = np.array([[1, 1], [2, 2]]).T\n",
        "print(ind_obs)\n",
        "print(chisquare(ind_obs, axis=None))\n",
        "\n",
        "dep_obs = np.array([[16, 18, 16, 14, 12, 12], [32, 24, 16, 28, 20, 24]]).T\n",
        "print(dep_obs)\n",
        "print(chisquare(dep_obs, axis=None))\n",
        "\n",
        "# Alternative to first table\n",
        "'''\n",
        "       Ins Outs\n",
        "Male  [[2   1]\n",
        "Female [1   2]]\n",
        "\n",
        "'''"
      ],
      "execution_count": 0,
      "outputs": [
        {
          "output_type": "stream",
          "text": [
            "[[1 2]\n",
            " [1 2]]\n",
            "Power_divergenceResult(statistic=0.6666666666666666, pvalue=0.8810148425137847)\n",
            "[[16 32]\n",
            " [18 24]\n",
            " [16 16]\n",
            " [14 28]\n",
            " [12 20]\n",
            " [12 24]]\n",
            "Power_divergenceResult(statistic=23.31034482758621, pvalue=0.015975692534127565)\n"
          ],
          "name": "stdout"
        }
      ]
    },
    {
      "metadata": {
        "id": "nN0BdNiDPxbk",
        "colab_type": "code",
        "outputId": "36426de9-d1b9-4790-ae20-9d5eb578a77a",
        "colab": {
          "base_uri": "https://localhost:8080/",
          "height": 35
        }
      },
      "cell_type": "code",
      "source": [
        "# Distribution tests:\n",
        "# We often assume that something is normal, but it can be important to *check*\n",
        "\n",
        "# For example, later on with predictive modeling, a typical assumption is that\n",
        "# residuals (prediction errors) are normal - checking is a good diagnostic\n",
        "\n",
        "from scipy.stats import normaltest\n",
        "# Poisson models arrival times and is related to the binomial (coinflip)\n",
        "sample = np.random.poisson(5, 1000)\n",
        "print(normaltest(sample))  # Pretty clearly not normal"
      ],
      "execution_count": 0,
      "outputs": [
        {
          "output_type": "stream",
          "text": [
            "NormaltestResult(statistic=38.69323106073592, pvalue=3.961609200867749e-09)\n"
          ],
          "name": "stdout"
        }
      ]
    },
    {
      "metadata": {
        "id": "P5t0WhkDReFO",
        "colab_type": "code",
        "outputId": "7d6438bf-8042-4297-a8f7-cef083d22444",
        "colab": {
          "base_uri": "https://localhost:8080/",
          "height": 53
        }
      },
      "cell_type": "code",
      "source": [
        "# Kruskal-Wallis H-test - compare the median rank between 2+ groups\n",
        "# Can be applied to ranking decisions/outcomes/recommendations\n",
        "# The underlying math comes from chi-square distribution, and is best for n>5\n",
        "from scipy.stats import kruskal\n",
        "\n",
        "x1 = [1, 3, 5, 7, 9]\n",
        "y1 = [2, 4, 6, 8, 10]\n",
        "print(kruskal(x1, y1))  # x1 is a little better, but not \"significantly\" so\n",
        "\n",
        "x2 = [1, 1, 1]\n",
        "y2 = [2, 2, 2]\n",
        "z = [2, 2]  # Hey, a third group, and of different size!\n",
        "print(kruskal(x2, y2, z))  # x clearly dominates"
      ],
      "execution_count": 0,
      "outputs": [
        {
          "output_type": "stream",
          "text": [
            "KruskalResult(statistic=0.2727272727272734, pvalue=0.6015081344405895)\n",
            "KruskalResult(statistic=7.0, pvalue=0.0301973834223185)\n"
          ],
          "name": "stdout"
        }
      ]
    },
    {
      "metadata": {
        "id": "7pT3IP36Rh0b",
        "colab_type": "text"
      },
      "cell_type": "markdown",
      "source": [
        "And there's many more! `scipy.stats` is fairly comprehensive, though there are even more available if you delve into the extended world of statistics packages. As tests get increasingly obscure and specialized, the importance of knowing them by heart becomes small - but being able to look them up and figure them out when they *are* relevant is still important."
      ]
    },
    {
      "metadata": {
        "id": "L1_KRuHCM7BW",
        "colab_type": "text"
      },
      "cell_type": "markdown",
      "source": [
        "## Live Lecture - let's explore some more of scipy.stats"
      ]
    },
    {
      "metadata": {
        "id": "31BOV6ectO-M",
        "colab_type": "code",
        "outputId": "8f635933-0d37-44a2-e201-dee4c5242e0b",
        "colab": {
          "base_uri": "https://localhost:8080/",
          "height": 34
        }
      },
      "cell_type": "code",
      "source": [
        "# Playing with distributions\n",
        "from scipy.stats import chi2\n",
        "\n",
        "chi2_5 = chi2(5)\n",
        "chi2_5"
      ],
      "execution_count": 0,
      "outputs": [
        {
          "output_type": "execute_result",
          "data": {
            "text/plain": [
              "<scipy.stats._distn_infrastructure.rv_frozen at 0x7fd0d10090f0>"
            ]
          },
          "metadata": {
            "tags": []
          },
          "execution_count": 5
        }
      ]
    },
    {
      "metadata": {
        "id": "Y49c6we2tbmD",
        "colab_type": "code",
        "outputId": "4e8e450e-5b66-4a2e-80ab-a31dba1c0f9c",
        "colab": {
          "base_uri": "https://localhost:8080/",
          "height": 34
        }
      },
      "cell_type": "code",
      "source": [
        "chi2_5.mean()"
      ],
      "execution_count": 0,
      "outputs": [
        {
          "output_type": "execute_result",
          "data": {
            "text/plain": [
              "5.0"
            ]
          },
          "metadata": {
            "tags": []
          },
          "execution_count": 6
        }
      ]
    },
    {
      "metadata": {
        "id": "lYQWvgnftfUJ",
        "colab_type": "code",
        "outputId": "41d9ead0-8ed3-4cde-b36f-86cfb0a4bf1d",
        "colab": {
          "base_uri": "https://localhost:8080/",
          "height": 34
        }
      },
      "cell_type": "code",
      "source": [
        "chi2_5.median()"
      ],
      "execution_count": 0,
      "outputs": [
        {
          "output_type": "execute_result",
          "data": {
            "text/plain": [
              "4.351460191095526"
            ]
          },
          "metadata": {
            "tags": []
          },
          "execution_count": 7
        }
      ]
    },
    {
      "metadata": {
        "id": "Ev0A1XF7trRJ",
        "colab_type": "code",
        "outputId": "50320b2c-c97b-4ec7-e4ad-112e590970b2",
        "colab": {
          "base_uri": "https://localhost:8080/",
          "height": 52
        }
      },
      "cell_type": "code",
      "source": [
        "chi2_500 = chi2(500)\n",
        "print(chi2_500.mean())\n",
        "print(chi2_500.median())"
      ],
      "execution_count": 0,
      "outputs": [
        {
          "output_type": "stream",
          "text": [
            "500.0\n",
            "499.3334915888738\n"
          ],
          "name": "stdout"
        }
      ]
    },
    {
      "metadata": {
        "id": "vvtjeumOuEEk",
        "colab_type": "code",
        "outputId": "de4eb9cb-19a9-405b-f126-f5d98be52ecd",
        "colab": {
          "base_uri": "https://localhost:8080/",
          "height": 486
        }
      },
      "cell_type": "code",
      "source": [
        "dir(chi2_5.pdf)"
      ],
      "execution_count": 0,
      "outputs": [
        {
          "output_type": "execute_result",
          "data": {
            "text/plain": [
              "['__call__',\n",
              " '__class__',\n",
              " '__delattr__',\n",
              " '__dir__',\n",
              " '__doc__',\n",
              " '__eq__',\n",
              " '__format__',\n",
              " '__func__',\n",
              " '__ge__',\n",
              " '__get__',\n",
              " '__getattribute__',\n",
              " '__gt__',\n",
              " '__hash__',\n",
              " '__init__',\n",
              " '__init_subclass__',\n",
              " '__le__',\n",
              " '__lt__',\n",
              " '__ne__',\n",
              " '__new__',\n",
              " '__reduce__',\n",
              " '__reduce_ex__',\n",
              " '__repr__',\n",
              " '__self__',\n",
              " '__setattr__',\n",
              " '__sizeof__',\n",
              " '__str__',\n",
              " '__subclasshook__']"
            ]
          },
          "metadata": {
            "tags": []
          },
          "execution_count": 10
        }
      ]
    },
    {
      "metadata": {
        "id": "4RTYs-U3uoz8",
        "colab_type": "code",
        "outputId": "59883b32-98c2-4760-8073-59bd6280377e",
        "colab": {
          "base_uri": "https://localhost:8080/",
          "height": 364
        }
      },
      "cell_type": "code",
      "source": [
        "# From Cole\n",
        "import scipy\n",
        "import numpy as np\n",
        "import matplotlib.pyplot as plt\n",
        "data = scipy.stats.norm.rvs(size=100000, loc=0, scale=1.5, random_state=123)\n",
        "X = np.linspace(-5.0, 5.0, 100)\n",
        "hist = np.histogram(data, bins=100)\n",
        "hist_dist = scipy.stats.rv_histogram(hist)\n",
        "plt.plot(X, hist_dist.pdf(X), label='PDF')"
      ],
      "execution_count": 0,
      "outputs": [
        {
          "output_type": "execute_result",
          "data": {
            "text/plain": [
              "[<matplotlib.lines.Line2D at 0x7fd0ced62cc0>]"
            ]
          },
          "metadata": {
            "tags": []
          },
          "execution_count": 31
        },
        {
          "output_type": "display_data",
          "data": {
            "image/png": "[encoded data removed]",
            "text/plain": [
              "<Figure size 576x396 with 1 Axes>"
            ]
          },
          "metadata": {
            "tags": []
          }
        }
      ]
    },
    {
      "metadata": {
        "id": "5xbRAyhZu7CZ",
        "colab_type": "code",
        "outputId": "0d405505-3f35-4077-9341-bfe0aa5b1bf0",
        "colab": {
          "base_uri": "https://localhost:8080/",
          "height": 34
        }
      },
      "cell_type": "code",
      "source": [
        "# How do I test \"how normal\" a chisquare(500) is?\n",
        "from scipy.stats import normaltest\n",
        "\n",
        "normaltest(chi2_500.rvs(100000))"
      ],
      "execution_count": 0,
      "outputs": [
        {
          "output_type": "execute_result",
          "data": {
            "text/plain": [
              "NormaltestResult(statistic=299.1967689803537, pvalue=1.0721291749783167e-65)"
            ]
          },
          "metadata": {
            "tags": []
          },
          "execution_count": 25
        }
      ]
    },
    {
      "metadata": {
        "id": "JWWjSBYRvolI",
        "colab_type": "code",
        "outputId": "9a9d88ae-7157-47d7-995d-dc03639b880f",
        "colab": {
          "base_uri": "https://localhost:8080/",
          "height": 1007
        }
      },
      "cell_type": "code",
      "source": [
        "help(normaltest)"
      ],
      "execution_count": 0,
      "outputs": [
        {
          "output_type": "stream",
          "text": [
            "Help on function normaltest in module scipy.stats.stats:\n",
            "\n",
            "normaltest(a, axis=0, nan_policy='propagate')\n",
            "    Test whether a sample differs from a normal distribution.\n",
            "    \n",
            "    This function tests the null hypothesis that a sample comes\n",
            "    from a normal distribution.  It is based on D'Agostino and\n",
            "    Pearson's [1]_, [2]_ test that combines skew and kurtosis to\n",
            "    produce an omnibus test of normality.\n",
            "    \n",
            "    \n",
            "    Parameters\n",
            "    ----------\n",
            "    a : array_like\n",
            "        The array containing the sample to be tested.\n",
            "    axis : int or None, optional\n",
            "        Axis along which to compute test. Default is 0. If None,\n",
            "        compute over the whole array `a`.\n",
            "    nan_policy : {'propagate', 'raise', 'omit'}, optional\n",
            "        Defines how to handle when input contains nan. 'propagate' returns nan,\n",
            "        'raise' throws an error, 'omit' performs the calculations ignoring nan\n",
            "        values. Default is 'propagate'.\n",
            "    \n",
            "    Returns\n",
            "    -------\n",
            "    statistic : float or array\n",
            "        ``s^2 + k^2``, where ``s`` is the z-score returned by `skewtest` and\n",
            "        ``k`` is the z-score returned by `kurtosistest`.\n",
            "    pvalue : float or array\n",
            "       A 2-sided chi squared probability for the hypothesis test.\n",
            "    \n",
            "    References\n",
            "    ----------\n",
            "    .. [1] D'Agostino, R. B. (1971), \"An omnibus test of normality for\n",
            "           moderate and large sample size\", Biometrika, 58, 341-348\n",
            "    \n",
            "    .. [2] D'Agostino, R. and Pearson, E. S. (1973), \"Tests for departure from\n",
            "           normality\", Biometrika, 60, 613-622\n",
            "    \n",
            "    Examples\n",
            "    --------\n",
            "    >>> from scipy import stats\n",
            "    >>> pts = 1000\n",
            "    >>> np.random.seed(28041990)\n",
            "    >>> a = np.random.normal(0, 1, size=pts)\n",
            "    >>> b = np.random.normal(2, 1, size=pts)\n",
            "    >>> x = np.concatenate((a, b))\n",
            "    >>> k2, p = stats.normaltest(x)\n",
            "    >>> alpha = 1e-3\n",
            "    >>> print(\"p = {:g}\".format(p))\n",
            "    p = 3.27207e-11\n",
            "    >>> if p < alpha:  # null hypothesis: x comes from a normal distribution\n",
            "    ...     print(\"The null hypothesis can be rejected\")\n",
            "    ... else:\n",
            "    ...     print(\"The null hypothesis cannot be rejected\")\n",
            "    The null hypothesis can be rejected\n",
            "\n"
          ],
          "name": "stdout"
        }
      ]
    },
    {
      "metadata": {
        "id": "2_8hazseumXH",
        "colab_type": "code",
        "outputId": "91e18e8d-59aa-4a20-afa5-db8c0c6aa948",
        "colab": {
          "base_uri": "https://localhost:8080/",
          "height": 112
        }
      },
      "cell_type": "code",
      "source": [
        "# Let's calculate chi square test statistic, first by hand\n",
        "\n",
        "# 1 male wants to eat outside, 2 inside\n",
        "# 2 females want to eat outside, 1 inside\n",
        "chi_data = [[1, 2], [2, 1]]\n",
        "\n",
        "import pandas as pd\n",
        "chi_data = pd.DataFrame(chi_data, columns=['Outside', 'Inside'])\n",
        "chi_data"
      ],
      "execution_count": 0,
      "outputs": [
        {
          "output_type": "execute_result",
          "data": {
            "text/html": [
              "<div>\n",
              "<style scoped>\n",
              "    .dataframe tbody tr th:only-of-type {\n",
              "        vertical-align: middle;\n",
              "    }\n",
              "\n",
              "    .dataframe tbody tr th {\n",
              "        vertical-align: top;\n",
              "    }\n",
              "\n",
              "    .dataframe thead th {\n",
              "        text-align: right;\n",
              "    }\n",
              "</style>\n",
              "<table border=\"1\" class=\"dataframe\">\n",
              "  <thead>\n",
              "    <tr style=\"text-align: right;\">\n",
              "      <th></th>\n",
              "      <th>Outside</th>\n",
              "      <th>Inside</th>\n",
              "    </tr>\n",
              "  </thead>\n",
              "  <tbody>\n",
              "    <tr>\n",
              "      <th>0</th>\n",
              "      <td>1</td>\n",
              "      <td>2</td>\n",
              "    </tr>\n",
              "    <tr>\n",
              "      <th>1</th>\n",
              "      <td>2</td>\n",
              "      <td>1</td>\n",
              "    </tr>\n",
              "  </tbody>\n",
              "</table>\n",
              "</div>"
            ],
            "text/plain": [
              "   Outside  Inside\n",
              "0        1       2\n",
              "1        2       1"
            ]
          },
          "metadata": {
            "tags": []
          },
          "execution_count": 35
        }
      ]
    },
    {
      "metadata": {
        "id": "AeNDtKi4zVck",
        "colab_type": "code",
        "outputId": "4ef6b63a-1103-4822-c7a3-fa80ae57b8df",
        "colab": {
          "base_uri": "https://localhost:8080/",
          "height": 34
        }
      },
      "cell_type": "code",
      "source": [
        "# Let's just type out/explain the margin counts\n",
        "# Total number of males (first row) = 3\n",
        "# Total number of females (second row) = 3\n",
        "# Total number of people who prefer outside = 3\n",
        "# Total number of people who prefer inside = 3\n",
        "\n",
        "# Now let's think about margin *proportions*\n",
        "# Proportion of first row = obs / total = (3 males) / (3 males + 3 females)\n",
        "# = 3/6 = 0.5\n",
        "# All the other rows/cols also have 0.5 proportion margins\n",
        "\n",
        "# Expected value for top left cell (males who want to eat outside)\n",
        "# (0.5 (proportion of males) * 0.5 (proportion of outside-eaters)) * 6 = 1.5\n",
        "\n",
        "# Because of symmetry of this little example, we know the expected value of\n",
        "# *all* cells is 1.5 (i.e. the same, because margins are all the same)\n",
        "\n",
        "# chi-square test statistic is the sum of square deviation from these E.V.\n",
        "expected_values = [[1.5, 1.5], [1.5, 1.5]]\n",
        "deviation = (((0.5)**2) / 1.5) * 4  # 0.5^2 deviation per cell, scaled and added\n",
        "print(deviation)"
      ],
      "execution_count": 0,
      "outputs": [
        {
          "output_type": "stream",
          "text": [
            "0.6666666666666666\n"
          ],
          "name": "stdout"
        }
      ]
    },
    {
      "metadata": {
        "id": "OvMYOmoX2G10",
        "colab_type": "code",
        "colab": {}
      },
      "cell_type": "code",
      "source": [
        "# Close but not all the way\n",
        "# https://en.wikipedia.org/wiki/Pearson%27s_chi-squared_test"
      ],
      "execution_count": 0,
      "outputs": []
    },
    {
      "metadata": {
        "id": "CRRDSifm2cvC",
        "colab_type": "code",
        "outputId": "4ffca420-fefd-49f4-f5ce-9a96bdfe46ec",
        "colab": {
          "base_uri": "https://localhost:8080/",
          "height": 34
        }
      },
      "cell_type": "code",
      "source": [
        "# A little bit more properly, but not fully from scratch\n",
        "\n",
        "def lazy_chisquare(observed, expected):\n",
        "  chisquare = 0\n",
        "  for row_obs, row_exp in zip(observed, expected):\n",
        "    for obs, exp in zip(row_obs, row_exp):\n",
        "      chisquare += (obs - exp)**2 / exp\n",
        "  return chisquare\n",
        "\n",
        "chi_data = [[1, 2], [2, 1]]\n",
        "expected_values = [[1.5, 1.5], [1.5, 1.5]]\n",
        "lazy_chisquare(chi_data, expected_values)"
      ],
      "execution_count": 0,
      "outputs": [
        {
          "output_type": "execute_result",
          "data": {
            "text/plain": [
              "0.6666666666666666"
            ]
          },
          "metadata": {
            "tags": []
          },
          "execution_count": 41
        }
      ]
    },
    {
      "metadata": {
        "id": "EdvyX9Xt3wQP",
        "colab_type": "code",
        "colab": {}
      },
      "cell_type": "code",
      "source": [
        "# How do we interpret?\n",
        "# https://homepage.divms.uiowa.edu/~mbognar/applets/chisq.html\n",
        "# n-1 degrees of freedom! (where n=number of *cells* in table)"
      ],
      "execution_count": 0,
      "outputs": []
    },
    {
      "metadata": {
        "id": "XVwZ3BqH1dbN",
        "colab_type": "code",
        "outputId": "a04c825f-c358-408b-803e-c873ee778451",
        "colab": {
          "base_uri": "https://localhost:8080/",
          "height": 34
        }
      },
      "cell_type": "code",
      "source": [
        "# Let's run it with scipy so we have a target\n",
        "from scipy.stats import chisquare  # One-way chi square test\n",
        "\n",
        "chisquare(chi_data, axis=None)"
      ],
      "execution_count": 0,
      "outputs": [
        {
          "output_type": "execute_result",
          "data": {
            "text/plain": [
              "Power_divergenceResult(statistic=0.6666666666666666, pvalue=0.8810148425137847)"
            ]
          },
          "metadata": {
            "tags": []
          },
          "execution_count": 38
        }
      ]
    },
    {
      "metadata": {
        "id": "8Ok9AOYR7aBK",
        "colab_type": "code",
        "outputId": "f4b84e48-e89f-4819-b353-624203371032",
        "colab": {
          "base_uri": "https://localhost:8080/",
          "height": 399
        }
      },
      "cell_type": "code",
      "source": [
        "help(stats.t.ppf)"
      ],
      "execution_count": 0,
      "outputs": [
        {
          "output_type": "stream",
          "text": [
            "Help on method ppf in module scipy.stats._distn_infrastructure:\n",
            "\n",
            "ppf(q, *args, **kwds) method of scipy.stats._continuous_distns.t_gen instance\n",
            "    Percent point function (inverse of `cdf`) at q of the given RV.\n",
            "    \n",
            "    Parameters\n",
            "    ----------\n",
            "    q : array_like\n",
            "        lower tail probability\n",
            "    arg1, arg2, arg3,... : array_like\n",
            "        The shape parameter(s) for the distribution (see docstring of the\n",
            "        instance object for more information)\n",
            "    loc : array_like, optional\n",
            "        location parameter (default=0)\n",
            "    scale : array_like, optional\n",
            "        scale parameter (default=1)\n",
            "    \n",
            "    Returns\n",
            "    -------\n",
            "    x : array_like\n",
            "        quantile corresponding to the lower tail probability q.\n",
            "\n"
          ],
          "name": "stdout"
        }
      ]
    },
    {
      "metadata": {
        "id": "qW6k0dorM7Lz",
        "colab_type": "code",
        "colab": {}
      },
      "cell_type": "code",
      "source": [
        "# Confidence intervals!\n",
        "# Similar to hypothesis testing, but centered at sample mean\n",
        "# Generally better than reporting the \"point estimate\" (sample mean)\n",
        "# Why? Because point estimates aren't always perfect\n",
        "\n",
        "import numpy as np\n",
        "from scipy import stats\n",
        "\n",
        "def confidence_interval(data, confidence=0.95):\n",
        "  \"\"\"\n",
        "  Calculate a confidence interval around a sample mean for given data.\n",
        "  Using t-distribution and two-tailed test, default 95% confidence. \n",
        "  \n",
        "  Arguments:\n",
        "    data - iterable (list or numpy array) of sample observations\n",
        "    confidence - level of confidence for the interval\n",
        "  \n",
        "  Returns:\n",
        "    tuple of (mean, lower bound, upper bound)\n",
        "  \"\"\"\n",
        "  data = np.array(data)\n",
        "  mean = np.mean(data)\n",
        "  n = len(data)\n",
        "  stderr = stats.sem(data)\n",
        "  interval = stderr * stats.t.ppf((1 + confidence) / 2., n - 1)\n",
        "  return (mean, mean - interval, mean + interval)\n",
        "\n",
        "def report_confidence_interval(confidence_interval):\n",
        "  \"\"\"\n",
        "  Return a string with a pretty report of a confidence interval.\n",
        "  \n",
        "  Arguments:\n",
        "    confidence_interval - tuple of (mean, lower bound, upper bound)\n",
        "  \n",
        "  Returns:\n",
        "    None, but prints to screen the report\n",
        "  \"\"\"\n",
        "  #print('Mean: {}'.format(confidence_interval[0]))\n",
        "  #print('Lower bound: {}'.format(confidence_interval[1]))\n",
        "  #print('Upper bound: {}'.format(confidence_interval[2]))\n",
        "  s = \"our mean lies in the interval [{:.2}, {:.2}]\".format(\n",
        "      confidence_interval[1], confidence_interval[2])\n",
        "  return s"
      ],
      "execution_count": 0,
      "outputs": []
    },
    {
      "metadata": {
        "id": "996i-p8i7xuO",
        "colab_type": "code",
        "outputId": "85734bcb-2463-47b1-af13-19dff524cd78",
        "colab": {
          "base_uri": "https://localhost:8080/",
          "height": 34
        }
      },
      "cell_type": "code",
      "source": [
        "x = 2\n",
        "print('x is: {}'.format(x))"
      ],
      "execution_count": 0,
      "outputs": [
        {
          "output_type": "stream",
          "text": [
            "x is: 2\n"
          ],
          "name": "stdout"
        }
      ]
    },
    {
      "metadata": {
        "id": "prOAm9iy73tz",
        "colab_type": "code",
        "outputId": "f2c536b6-f486-4db4-fa50-532552b28a9f",
        "colab": {
          "base_uri": "https://localhost:8080/",
          "height": 69
        }
      },
      "cell_type": "code",
      "source": [
        "coinflips = np.random.binomial(n=1, p=0.7, size=100)\n",
        "print(coinflips)"
      ],
      "execution_count": 0,
      "outputs": [
        {
          "output_type": "stream",
          "text": [
            "[0 0 0 1 1 0 1 0 1 0 1 1 1 1 1 1 1 0 1 1 1 1 1 0 0 0 1 1 1 1 1 0 1 1 1 0 1\n",
            " 1 1 0 0 1 1 1 1 0 1 0 1 0 1 1 1 0 0 1 0 1 0 1 1 1 1 1 1 1 1 1 1 0 0 1 1 0\n",
            " 1 1 0 1 0 1 1 1 0 1 1 1 1 1 1 1 1 1 1 1 1 0 1 1 1 1]\n"
          ],
          "name": "stdout"
        }
      ]
    },
    {
      "metadata": {
        "id": "7gFCN5Nz7-aJ",
        "colab_type": "code",
        "outputId": "c8484a14-f128-40f5-9e6c-e5e4f6b62dec",
        "colab": {
          "base_uri": "https://localhost:8080/",
          "height": 34
        }
      },
      "cell_type": "code",
      "source": [
        "stats.ttest_1samp(coinflips, 0.5)"
      ],
      "execution_count": 0,
      "outputs": [
        {
          "output_type": "execute_result",
          "data": {
            "text/plain": [
              "Ttest_1sampResult(statistic=4.875228932353552, pvalue=4.144178089496623e-06)"
            ]
          },
          "metadata": {
            "tags": []
          },
          "execution_count": 63
        }
      ]
    },
    {
      "metadata": {
        "id": "BxnZUMca8Srh",
        "colab_type": "code",
        "outputId": "743ea053-85c5-4646-da98-456e07e639c0",
        "colab": {
          "base_uri": "https://localhost:8080/",
          "height": 300
        }
      },
      "cell_type": "code",
      "source": [
        "df = pd.DataFrame(coinflips)\n",
        "df.describe()"
      ],
      "execution_count": 0,
      "outputs": [
        {
          "output_type": "execute_result",
          "data": {
            "text/html": [
              "<div>\n",
              "<style scoped>\n",
              "    .dataframe tbody tr th:only-of-type {\n",
              "        vertical-align: middle;\n",
              "    }\n",
              "\n",
              "    .dataframe tbody tr th {\n",
              "        vertical-align: top;\n",
              "    }\n",
              "\n",
              "    .dataframe thead th {\n",
              "        text-align: right;\n",
              "    }\n",
              "</style>\n",
              "<table border=\"1\" class=\"dataframe\">\n",
              "  <thead>\n",
              "    <tr style=\"text-align: right;\">\n",
              "      <th></th>\n",
              "      <th>0</th>\n",
              "    </tr>\n",
              "  </thead>\n",
              "  <tbody>\n",
              "    <tr>\n",
              "      <th>count</th>\n",
              "      <td>100.000000</td>\n",
              "    </tr>\n",
              "    <tr>\n",
              "      <th>mean</th>\n",
              "      <td>0.720000</td>\n",
              "    </tr>\n",
              "    <tr>\n",
              "      <th>std</th>\n",
              "      <td>0.451261</td>\n",
              "    </tr>\n",
              "    <tr>\n",
              "      <th>min</th>\n",
              "      <td>0.000000</td>\n",
              "    </tr>\n",
              "    <tr>\n",
              "      <th>25%</th>\n",
              "      <td>0.000000</td>\n",
              "    </tr>\n",
              "    <tr>\n",
              "      <th>50%</th>\n",
              "      <td>1.000000</td>\n",
              "    </tr>\n",
              "    <tr>\n",
              "      <th>75%</th>\n",
              "      <td>1.000000</td>\n",
              "    </tr>\n",
              "    <tr>\n",
              "      <th>max</th>\n",
              "      <td>1.000000</td>\n",
              "    </tr>\n",
              "  </tbody>\n",
              "</table>\n",
              "</div>"
            ],
            "text/plain": [
              "                0\n",
              "count  100.000000\n",
              "mean     0.720000\n",
              "std      0.451261\n",
              "min      0.000000\n",
              "25%      0.000000\n",
              "50%      1.000000\n",
              "75%      1.000000\n",
              "max      1.000000"
            ]
          },
          "metadata": {
            "tags": []
          },
          "execution_count": 64
        }
      ]
    },
    {
      "metadata": {
        "id": "R96w1a1d8XgC",
        "colab_type": "code",
        "outputId": "f82d6200-b3f7-448a-f630-7ee6ca2e1733",
        "colab": {
          "base_uri": "https://localhost:8080/",
          "height": 34
        }
      },
      "cell_type": "code",
      "source": [
        "coinflip_interval = confidence_interval(coinflips)  # Default 95% conf\n",
        "coinflip_interval"
      ],
      "execution_count": 0,
      "outputs": [
        {
          "output_type": "execute_result",
          "data": {
            "text/plain": [
              "(0.72, 0.6304600552324887, 0.8095399447675112)"
            ]
          },
          "metadata": {
            "tags": []
          },
          "execution_count": 65
        }
      ]
    },
    {
      "metadata": {
        "id": "qIAJVwqi8vPL",
        "colab_type": "code",
        "outputId": "66728be1-7fae-4caf-f69f-f0d32710d5f2",
        "colab": {
          "base_uri": "https://localhost:8080/",
          "height": 34
        }
      },
      "cell_type": "code",
      "source": [
        "report_confidence_interval(coinflip_interval)"
      ],
      "execution_count": 0,
      "outputs": [
        {
          "output_type": "execute_result",
          "data": {
            "text/plain": [
              "'our mean lies in the interval ]0.45, 0.65['"
            ]
          },
          "metadata": {
            "tags": []
          },
          "execution_count": 61
        }
      ]
    },
    {
      "metadata": {
        "id": "qBtebUNS7IJe",
        "colab_type": "code",
        "outputId": "40a85c22-ebf9-4b4f-fffc-87cd0f17ee52",
        "colab": {
          "base_uri": "https://localhost:8080/",
          "height": 243
        }
      },
      "cell_type": "code",
      "source": [
        "help(confidence_interval)"
      ],
      "execution_count": 0,
      "outputs": [
        {
          "output_type": "stream",
          "text": [
            "Help on function confidence_interval in module __main__:\n",
            "\n",
            "confidence_interval(data, confidence=0.95)\n",
            "    Calculate a confidence interval around a sample mean for given data.\n",
            "    Using t-distribution and two-tailed test, default 95% confidence. \n",
            "    \n",
            "    Arguments:\n",
            "      data - iterable (list or numpy array) of sample observations\n",
            "      confidence - level of confidence for the interval\n",
            "    \n",
            "    Returns:\n",
            "      tuple of (mean, lower bound, upper bound)\n",
            "\n"
          ],
          "name": "stdout"
        }
      ]
    },
    {
      "metadata": {
        "id": "11OzdxWTM7UR",
        "colab_type": "text"
      },
      "cell_type": "markdown",
      "source": [
        "## Assignment - Build a confidence interval\n",
        "\n",
        "A confidence interval refers to a neighborhood around some point estimate, the size of which is determined by the desired p-value. For instance, we might say that 52% of Americans prefer tacos to burritos, with a 95% confidence interval of +/- 5%.\n",
        "\n",
        "52% (0.52) is the point estimate, and +/- 5% (the interval $[0.47, 0.57]$) is the confidence interval. \"95% confidence\" means a p-value $\\leq 1 - 0.95 = 0.05$.\n",
        "\n",
        "In this case, the confidence interval includes $0.5$ - which is the natural null hypothesis (that half of Americans prefer tacos and half burritos, thus there is no clear favorite). So in this case, we could use the confidence interval to report that we've failed to reject the null hypothesis.\n",
        "\n",
        "But providing the full analysis with a confidence interval, including a graphical representation of it, can be a helpful and powerful way to tell your story. Done well, it is also more intuitive to a layperson than simply saying \"fail to reject the null hypothesis\" - it shows that in fact the data does *not* give a single clear result (the point estimate) but a whole range of possibilities.\n",
        "\n",
        "How is a confidence interval built, and how should it be interpreted? It does *not* mean that 95% of the data lies in that interval - instead, the frequentist interpretation is \"if we were to repeat this experiment 100 times, we would expect the average result to lie in this interval ~95 times.\"\n",
        "\n",
        "For a 95% confidence interval and a normal(-ish) distribution, you can simply remember that +/-2 standard deviations contains 95% of the probability mass, and so the 95% confidence interval based on a given sample is centered at the mean (point estimate) and has a range of +/- 2 (or technically 1.96) standard deviations.\n",
        "\n",
        "Different distributions/assumptions (90% confidence, 99% confidence) will require different math, but the overall process and interpretation (with a frequentist approach) will be the same.\n",
        "\n",
        "Your assignment - using the data from the prior module ([congressional voting records](https://archive.ics.uci.edu/ml/datasets/Congressional+Voting+Records)):\n",
        "\n",
        "1. Generate and numerically represent a confidence interval\n",
        "2. Graphically (with a plot) represent the confidence interval\n",
        "3. Interpret the confidence interval - what does it tell you about the data and its distribution?\n",
        "\n",
        "Stretch goals:\n",
        "\n",
        "1. Write a summary of your findings, mixing prose and math/code/results. *Note* - yes, this is by definition a political topic. It is challenging but important to keep your writing voice *neutral* and stick to the facts of the data. Data science often involves considering controversial issues, so it's important to be sensitive about them (especially if you want to publish).\n",
        "2. Apply the techniques you learned today to your project data or other data of your choice, and write/discuss your findings here."
      ]
    },
    {
      "metadata": {
        "id": "Ckcr4A4FM7cs",
        "colab_type": "code",
        "colab": {}
      },
      "cell_type": "code",
      "source": [
        "# TODO - your code!\n",
        "# setup\n",
        "import pandas as pd\n",
        "from scipy import stats\n",
        "import random\n",
        "\n",
        "vote_names =\\\n",
        "        [\n",
        "        \"Class\",\n",
        "        \"handicapped-infants\",\n",
        "        \"water-project-cost-sharing\",\n",
        "        \"adoption-of-the-budget-resolution\",\n",
        "        \"physician-fee-freeze\",\n",
        "        \"el-salvador-aid\",\n",
        "        \"religious-groups-in-schools\",\n",
        "        \"anti-satellite-test-ban\",\n",
        "        \"aid-to-nicaraguan-contras\",\n",
        "        \"mx-missile\",\n",
        "        \"immigration\",\n",
        "        \"synfuels-corporation-cutback\",\n",
        "        \"education-spending\",\n",
        "        \"superfund-right-to-sue\",\n",
        "        \"crime\",\n",
        "        \"duty-free-exports\",\n",
        "        \"export-administration-act-south-africa\"\n",
        "        ]\n",
        "\n",
        "voting_data = pd.read_csv(\"https://archive.ics.uci.edu/ml/machine-learning-databases/voting-records/house-votes-84.data\",\n",
        "                          names=vote_names,\n",
        "                          converters={'n' : -1, '?' : 0, 'y':1}) # doesn't work\n",
        "\n",
        "\n",
        "voting_data = voting_data.replace(\"republican\", 'R')\n",
        "voting_data = voting_data.replace(\"democrat\", 'D')\n",
        "# n = -1, na or ? = 0, y = 1\n",
        "voting_data = voting_data.replace('n', -1)\n",
        "voting_data = voting_data.replace('?', 0)\n",
        "voting_data = voting_data.replace('y', 1)"
      ],
      "execution_count": 0,
      "outputs": []
    },
    {
      "metadata": {
        "id": "3VNY0takoTC3",
        "colab_type": "code",
        "colab": {
          "base_uri": "https://localhost:8080/",
          "height": 388
        },
        "outputId": "26870751-f2fa-4e41-cfb0-df82f8325237"
      },
      "cell_type": "code",
      "source": [
        "# Create R & D sub-frames\n",
        "voting_data_R = voting_data[voting_data['Class'] == 'R'].drop('Class', axis = 1)\n",
        "voting_data_D = voting_data[voting_data['Class'] == 'D'].drop('Class', axis = 1)\n",
        "voting_data_R.describe(include=\"all\")"
      ],
      "execution_count": 2,
      "outputs": [
        {
          "output_type": "execute_result",
          "data": {
            "text/html": [
              "<div>\n",
              "<style scoped>\n",
              "    .dataframe tbody tr th:only-of-type {\n",
              "        vertical-align: middle;\n",
              "    }\n",
              "\n",
              "    .dataframe tbody tr th {\n",
              "        vertical-align: top;\n",
              "    }\n",
              "\n",
              "    .dataframe thead th {\n",
              "        text-align: right;\n",
              "    }\n",
              "</style>\n",
              "<table border=\"1\" class=\"dataframe\">\n",
              "  <thead>\n",
              "    <tr style=\"text-align: right;\">\n",
              "      <th></th>\n",
              "      <th>handicapped-infants</th>\n",
              "      <th>water-project-cost-sharing</th>\n",
              "      <th>adoption-of-the-budget-resolution</th>\n",
              "      <th>physician-fee-freeze</th>\n",
              "      <th>el-salvador-aid</th>\n",
              "      <th>religious-groups-in-schools</th>\n",
              "      <th>anti-satellite-test-ban</th>\n",
              "      <th>aid-to-nicaraguan-contras</th>\n",
              "      <th>mx-missile</th>\n",
              "      <th>immigration</th>\n",
              "      <th>synfuels-corporation-cutback</th>\n",
              "      <th>education-spending</th>\n",
              "      <th>superfund-right-to-sue</th>\n",
              "      <th>crime</th>\n",
              "      <th>duty-free-exports</th>\n",
              "      <th>export-administration-act-south-africa</th>\n",
              "    </tr>\n",
              "  </thead>\n",
              "  <tbody>\n",
              "    <tr>\n",
              "      <th>count</th>\n",
              "      <td>168.000000</td>\n",
              "      <td>168.000000</td>\n",
              "      <td>168.000000</td>\n",
              "      <td>168.000000</td>\n",
              "      <td>168.000000</td>\n",
              "      <td>168.000000</td>\n",
              "      <td>168.000000</td>\n",
              "      <td>168.00000</td>\n",
              "      <td>168.000000</td>\n",
              "      <td>168.000000</td>\n",
              "      <td>168.000000</td>\n",
              "      <td>168.000000</td>\n",
              "      <td>168.000000</td>\n",
              "      <td>168.000000</td>\n",
              "      <td>168.000000</td>\n",
              "      <td>168.000000</td>\n",
              "    </tr>\n",
              "    <tr>\n",
              "      <th>mean</th>\n",
              "      <td>-0.613095</td>\n",
              "      <td>0.011905</td>\n",
              "      <td>-0.714286</td>\n",
              "      <td>0.958333</td>\n",
              "      <td>0.886905</td>\n",
              "      <td>0.785714</td>\n",
              "      <td>-0.500000</td>\n",
              "      <td>-0.64881</td>\n",
              "      <td>-0.755952</td>\n",
              "      <td>0.113095</td>\n",
              "      <td>-0.696429</td>\n",
              "      <td>0.684524</td>\n",
              "      <td>0.678571</td>\n",
              "      <td>0.922619</td>\n",
              "      <td>-0.761905</td>\n",
              "      <td>0.273810</td>\n",
              "    </tr>\n",
              "    <tr>\n",
              "      <th>std</th>\n",
              "      <td>0.780953</td>\n",
              "      <td>0.941321</td>\n",
              "      <td>0.684673</td>\n",
              "      <td>0.253223</td>\n",
              "      <td>0.443524</td>\n",
              "      <td>0.610711</td>\n",
              "      <td>0.847681</td>\n",
              "      <td>0.71878</td>\n",
              "      <td>0.642758</td>\n",
              "      <td>0.987500</td>\n",
              "      <td>0.681307</td>\n",
              "      <td>0.675844</td>\n",
              "      <td>0.694904</td>\n",
              "      <td>0.328251</td>\n",
              "      <td>0.591741</td>\n",
              "      <td>0.893773</td>\n",
              "    </tr>\n",
              "    <tr>\n",
              "      <th>min</th>\n",
              "      <td>-1.000000</td>\n",
              "      <td>-1.000000</td>\n",
              "      <td>-1.000000</td>\n",
              "      <td>-1.000000</td>\n",
              "      <td>-1.000000</td>\n",
              "      <td>-1.000000</td>\n",
              "      <td>-1.000000</td>\n",
              "      <td>-1.00000</td>\n",
              "      <td>-1.000000</td>\n",
              "      <td>-1.000000</td>\n",
              "      <td>-1.000000</td>\n",
              "      <td>-1.000000</td>\n",
              "      <td>-1.000000</td>\n",
              "      <td>-1.000000</td>\n",
              "      <td>-1.000000</td>\n",
              "      <td>-1.000000</td>\n",
              "    </tr>\n",
              "    <tr>\n",
              "      <th>25%</th>\n",
              "      <td>-1.000000</td>\n",
              "      <td>-1.000000</td>\n",
              "      <td>-1.000000</td>\n",
              "      <td>1.000000</td>\n",
              "      <td>1.000000</td>\n",
              "      <td>1.000000</td>\n",
              "      <td>-1.000000</td>\n",
              "      <td>-1.00000</td>\n",
              "      <td>-1.000000</td>\n",
              "      <td>-1.000000</td>\n",
              "      <td>-1.000000</td>\n",
              "      <td>1.000000</td>\n",
              "      <td>1.000000</td>\n",
              "      <td>1.000000</td>\n",
              "      <td>-1.000000</td>\n",
              "      <td>-1.000000</td>\n",
              "    </tr>\n",
              "    <tr>\n",
              "      <th>50%</th>\n",
              "      <td>-1.000000</td>\n",
              "      <td>0.000000</td>\n",
              "      <td>-1.000000</td>\n",
              "      <td>1.000000</td>\n",
              "      <td>1.000000</td>\n",
              "      <td>1.000000</td>\n",
              "      <td>-1.000000</td>\n",
              "      <td>-1.00000</td>\n",
              "      <td>-1.000000</td>\n",
              "      <td>1.000000</td>\n",
              "      <td>-1.000000</td>\n",
              "      <td>1.000000</td>\n",
              "      <td>1.000000</td>\n",
              "      <td>1.000000</td>\n",
              "      <td>-1.000000</td>\n",
              "      <td>1.000000</td>\n",
              "    </tr>\n",
              "    <tr>\n",
              "      <th>75%</th>\n",
              "      <td>-1.000000</td>\n",
              "      <td>1.000000</td>\n",
              "      <td>-1.000000</td>\n",
              "      <td>1.000000</td>\n",
              "      <td>1.000000</td>\n",
              "      <td>1.000000</td>\n",
              "      <td>0.000000</td>\n",
              "      <td>-1.00000</td>\n",
              "      <td>-1.000000</td>\n",
              "      <td>1.000000</td>\n",
              "      <td>-1.000000</td>\n",
              "      <td>1.000000</td>\n",
              "      <td>1.000000</td>\n",
              "      <td>1.000000</td>\n",
              "      <td>-1.000000</td>\n",
              "      <td>1.000000</td>\n",
              "    </tr>\n",
              "    <tr>\n",
              "      <th>max</th>\n",
              "      <td>1.000000</td>\n",
              "      <td>1.000000</td>\n",
              "      <td>1.000000</td>\n",
              "      <td>1.000000</td>\n",
              "      <td>1.000000</td>\n",
              "      <td>1.000000</td>\n",
              "      <td>1.000000</td>\n",
              "      <td>1.00000</td>\n",
              "      <td>1.000000</td>\n",
              "      <td>1.000000</td>\n",
              "      <td>1.000000</td>\n",
              "      <td>1.000000</td>\n",
              "      <td>1.000000</td>\n",
              "      <td>1.000000</td>\n",
              "      <td>1.000000</td>\n",
              "      <td>1.000000</td>\n",
              "    </tr>\n",
              "  </tbody>\n",
              "</table>\n",
              "</div>"
            ],
            "text/plain": [
              "       handicapped-infants  water-project-cost-sharing  \\\n",
              "count           168.000000                  168.000000   \n",
              "mean             -0.613095                    0.011905   \n",
              "std               0.780953                    0.941321   \n",
              "min              -1.000000                   -1.000000   \n",
              "25%              -1.000000                   -1.000000   \n",
              "50%              -1.000000                    0.000000   \n",
              "75%              -1.000000                    1.000000   \n",
              "max               1.000000                    1.000000   \n",
              "\n",
              "       adoption-of-the-budget-resolution  physician-fee-freeze  \\\n",
              "count                         168.000000            168.000000   \n",
              "mean                           -0.714286              0.958333   \n",
              "std                             0.684673              0.253223   \n",
              "min                            -1.000000             -1.000000   \n",
              "25%                            -1.000000              1.000000   \n",
              "50%                            -1.000000              1.000000   \n",
              "75%                            -1.000000              1.000000   \n",
              "max                             1.000000              1.000000   \n",
              "\n",
              "       el-salvador-aid  religious-groups-in-schools  anti-satellite-test-ban  \\\n",
              "count       168.000000                   168.000000               168.000000   \n",
              "mean          0.886905                     0.785714                -0.500000   \n",
              "std           0.443524                     0.610711                 0.847681   \n",
              "min          -1.000000                    -1.000000                -1.000000   \n",
              "25%           1.000000                     1.000000                -1.000000   \n",
              "50%           1.000000                     1.000000                -1.000000   \n",
              "75%           1.000000                     1.000000                 0.000000   \n",
              "max           1.000000                     1.000000                 1.000000   \n",
              "\n",
              "       aid-to-nicaraguan-contras  mx-missile  immigration  \\\n",
              "count                  168.00000  168.000000   168.000000   \n",
              "mean                    -0.64881   -0.755952     0.113095   \n",
              "std                      0.71878    0.642758     0.987500   \n",
              "min                     -1.00000   -1.000000    -1.000000   \n",
              "25%                     -1.00000   -1.000000    -1.000000   \n",
              "50%                     -1.00000   -1.000000     1.000000   \n",
              "75%                     -1.00000   -1.000000     1.000000   \n",
              "max                      1.00000    1.000000     1.000000   \n",
              "\n",
              "       synfuels-corporation-cutback  education-spending  \\\n",
              "count                    168.000000          168.000000   \n",
              "mean                      -0.696429            0.684524   \n",
              "std                        0.681307            0.675844   \n",
              "min                       -1.000000           -1.000000   \n",
              "25%                       -1.000000            1.000000   \n",
              "50%                       -1.000000            1.000000   \n",
              "75%                       -1.000000            1.000000   \n",
              "max                        1.000000            1.000000   \n",
              "\n",
              "       superfund-right-to-sue       crime  duty-free-exports  \\\n",
              "count              168.000000  168.000000         168.000000   \n",
              "mean                 0.678571    0.922619          -0.761905   \n",
              "std                  0.694904    0.328251           0.591741   \n",
              "min                 -1.000000   -1.000000          -1.000000   \n",
              "25%                  1.000000    1.000000          -1.000000   \n",
              "50%                  1.000000    1.000000          -1.000000   \n",
              "75%                  1.000000    1.000000          -1.000000   \n",
              "max                  1.000000    1.000000           1.000000   \n",
              "\n",
              "       export-administration-act-south-africa  \n",
              "count                              168.000000  \n",
              "mean                                 0.273810  \n",
              "std                                  0.893773  \n",
              "min                                 -1.000000  \n",
              "25%                                 -1.000000  \n",
              "50%                                  1.000000  \n",
              "75%                                  1.000000  \n",
              "max                                  1.000000  "
            ]
          },
          "metadata": {
            "tags": []
          },
          "execution_count": 2
        }
      ]
    },
    {
      "metadata": {
        "id": "tBjhFmtPobg5",
        "colab_type": "code",
        "colab": {
          "base_uri": "https://localhost:8080/",
          "height": 388
        },
        "outputId": "938a6f4c-c1c6-4806-eb8f-e03e8bfa3226"
      },
      "cell_type": "code",
      "source": [
        "voting_data_D.describe(include=\"all\")"
      ],
      "execution_count": 3,
      "outputs": [
        {
          "output_type": "execute_result",
          "data": {
            "text/html": [
              "<div>\n",
              "<style scoped>\n",
              "    .dataframe tbody tr th:only-of-type {\n",
              "        vertical-align: middle;\n",
              "    }\n",
              "\n",
              "    .dataframe tbody tr th {\n",
              "        vertical-align: top;\n",
              "    }\n",
              "\n",
              "    .dataframe thead th {\n",
              "        text-align: right;\n",
              "    }\n",
              "</style>\n",
              "<table border=\"1\" class=\"dataframe\">\n",
              "  <thead>\n",
              "    <tr style=\"text-align: right;\">\n",
              "      <th></th>\n",
              "      <th>handicapped-infants</th>\n",
              "      <th>water-project-cost-sharing</th>\n",
              "      <th>adoption-of-the-budget-resolution</th>\n",
              "      <th>physician-fee-freeze</th>\n",
              "      <th>el-salvador-aid</th>\n",
              "      <th>religious-groups-in-schools</th>\n",
              "      <th>anti-satellite-test-ban</th>\n",
              "      <th>aid-to-nicaraguan-contras</th>\n",
              "      <th>mx-missile</th>\n",
              "      <th>immigration</th>\n",
              "      <th>synfuels-corporation-cutback</th>\n",
              "      <th>education-spending</th>\n",
              "      <th>superfund-right-to-sue</th>\n",
              "      <th>crime</th>\n",
              "      <th>duty-free-exports</th>\n",
              "      <th>export-administration-act-south-africa</th>\n",
              "    </tr>\n",
              "  </thead>\n",
              "  <tbody>\n",
              "    <tr>\n",
              "      <th>count</th>\n",
              "      <td>267.000000</td>\n",
              "      <td>267.000000</td>\n",
              "      <td>267.000000</td>\n",
              "      <td>267.000000</td>\n",
              "      <td>267.000000</td>\n",
              "      <td>267.000000</td>\n",
              "      <td>267.000000</td>\n",
              "      <td>267.000000</td>\n",
              "      <td>267.000000</td>\n",
              "      <td>267.000000</td>\n",
              "      <td>267.000000</td>\n",
              "      <td>267.000000</td>\n",
              "      <td>267.000000</td>\n",
              "      <td>267.000000</td>\n",
              "      <td>267.000000</td>\n",
              "      <td>267.000000</td>\n",
              "    </tr>\n",
              "    <tr>\n",
              "      <th>mean</th>\n",
              "      <td>0.202247</td>\n",
              "      <td>0.003745</td>\n",
              "      <td>0.756554</td>\n",
              "      <td>-0.865169</td>\n",
              "      <td>-0.543071</td>\n",
              "      <td>-0.044944</td>\n",
              "      <td>0.528090</td>\n",
              "      <td>0.647940</td>\n",
              "      <td>0.479401</td>\n",
              "      <td>-0.056180</td>\n",
              "      <td>0.011236</td>\n",
              "      <td>-0.662921</td>\n",
              "      <td>-0.397004</td>\n",
              "      <td>-0.288390</td>\n",
              "      <td>0.258427</td>\n",
              "      <td>0.602996</td>\n",
              "    </tr>\n",
              "    <tr>\n",
              "      <th>std</th>\n",
              "      <td>0.963778</td>\n",
              "      <td>0.947883</td>\n",
              "      <td>0.634758</td>\n",
              "      <td>0.471544</td>\n",
              "      <td>0.814010</td>\n",
              "      <td>0.983818</td>\n",
              "      <td>0.832921</td>\n",
              "      <td>0.753205</td>\n",
              "      <td>0.837641</td>\n",
              "      <td>0.992751</td>\n",
              "      <td>0.979040</td>\n",
              "      <td>0.703543</td>\n",
              "      <td>0.888349</td>\n",
              "      <td>0.939513</td>\n",
              "      <td>0.936255</td>\n",
              "      <td>0.574906</td>\n",
              "    </tr>\n",
              "    <tr>\n",
              "      <th>min</th>\n",
              "      <td>-1.000000</td>\n",
              "      <td>-1.000000</td>\n",
              "      <td>-1.000000</td>\n",
              "      <td>-1.000000</td>\n",
              "      <td>-1.000000</td>\n",
              "      <td>-1.000000</td>\n",
              "      <td>-1.000000</td>\n",
              "      <td>-1.000000</td>\n",
              "      <td>-1.000000</td>\n",
              "      <td>-1.000000</td>\n",
              "      <td>-1.000000</td>\n",
              "      <td>-1.000000</td>\n",
              "      <td>-1.000000</td>\n",
              "      <td>-1.000000</td>\n",
              "      <td>-1.000000</td>\n",
              "      <td>-1.000000</td>\n",
              "    </tr>\n",
              "    <tr>\n",
              "      <th>25%</th>\n",
              "      <td>-1.000000</td>\n",
              "      <td>-1.000000</td>\n",
              "      <td>1.000000</td>\n",
              "      <td>-1.000000</td>\n",
              "      <td>-1.000000</td>\n",
              "      <td>-1.000000</td>\n",
              "      <td>0.500000</td>\n",
              "      <td>1.000000</td>\n",
              "      <td>0.000000</td>\n",
              "      <td>-1.000000</td>\n",
              "      <td>-1.000000</td>\n",
              "      <td>-1.000000</td>\n",
              "      <td>-1.000000</td>\n",
              "      <td>-1.000000</td>\n",
              "      <td>-1.000000</td>\n",
              "      <td>0.000000</td>\n",
              "    </tr>\n",
              "    <tr>\n",
              "      <th>50%</th>\n",
              "      <td>1.000000</td>\n",
              "      <td>0.000000</td>\n",
              "      <td>1.000000</td>\n",
              "      <td>-1.000000</td>\n",
              "      <td>-1.000000</td>\n",
              "      <td>-1.000000</td>\n",
              "      <td>1.000000</td>\n",
              "      <td>1.000000</td>\n",
              "      <td>1.000000</td>\n",
              "      <td>-1.000000</td>\n",
              "      <td>0.000000</td>\n",
              "      <td>-1.000000</td>\n",
              "      <td>-1.000000</td>\n",
              "      <td>-1.000000</td>\n",
              "      <td>1.000000</td>\n",
              "      <td>1.000000</td>\n",
              "    </tr>\n",
              "    <tr>\n",
              "      <th>75%</th>\n",
              "      <td>1.000000</td>\n",
              "      <td>1.000000</td>\n",
              "      <td>1.000000</td>\n",
              "      <td>-1.000000</td>\n",
              "      <td>-0.500000</td>\n",
              "      <td>1.000000</td>\n",
              "      <td>1.000000</td>\n",
              "      <td>1.000000</td>\n",
              "      <td>1.000000</td>\n",
              "      <td>1.000000</td>\n",
              "      <td>1.000000</td>\n",
              "      <td>-1.000000</td>\n",
              "      <td>1.000000</td>\n",
              "      <td>1.000000</td>\n",
              "      <td>1.000000</td>\n",
              "      <td>1.000000</td>\n",
              "    </tr>\n",
              "    <tr>\n",
              "      <th>max</th>\n",
              "      <td>1.000000</td>\n",
              "      <td>1.000000</td>\n",
              "      <td>1.000000</td>\n",
              "      <td>1.000000</td>\n",
              "      <td>1.000000</td>\n",
              "      <td>1.000000</td>\n",
              "      <td>1.000000</td>\n",
              "      <td>1.000000</td>\n",
              "      <td>1.000000</td>\n",
              "      <td>1.000000</td>\n",
              "      <td>1.000000</td>\n",
              "      <td>1.000000</td>\n",
              "      <td>1.000000</td>\n",
              "      <td>1.000000</td>\n",
              "      <td>1.000000</td>\n",
              "      <td>1.000000</td>\n",
              "    </tr>\n",
              "  </tbody>\n",
              "</table>\n",
              "</div>"
            ],
            "text/plain": [
              "       handicapped-infants  water-project-cost-sharing  \\\n",
              "count           267.000000                  267.000000   \n",
              "mean              0.202247                    0.003745   \n",
              "std               0.963778                    0.947883   \n",
              "min              -1.000000                   -1.000000   \n",
              "25%              -1.000000                   -1.000000   \n",
              "50%               1.000000                    0.000000   \n",
              "75%               1.000000                    1.000000   \n",
              "max               1.000000                    1.000000   \n",
              "\n",
              "       adoption-of-the-budget-resolution  physician-fee-freeze  \\\n",
              "count                         267.000000            267.000000   \n",
              "mean                            0.756554             -0.865169   \n",
              "std                             0.634758              0.471544   \n",
              "min                            -1.000000             -1.000000   \n",
              "25%                             1.000000             -1.000000   \n",
              "50%                             1.000000             -1.000000   \n",
              "75%                             1.000000             -1.000000   \n",
              "max                             1.000000              1.000000   \n",
              "\n",
              "       el-salvador-aid  religious-groups-in-schools  anti-satellite-test-ban  \\\n",
              "count       267.000000                   267.000000               267.000000   \n",
              "mean         -0.543071                    -0.044944                 0.528090   \n",
              "std           0.814010                     0.983818                 0.832921   \n",
              "min          -1.000000                    -1.000000                -1.000000   \n",
              "25%          -1.000000                    -1.000000                 0.500000   \n",
              "50%          -1.000000                    -1.000000                 1.000000   \n",
              "75%          -0.500000                     1.000000                 1.000000   \n",
              "max           1.000000                     1.000000                 1.000000   \n",
              "\n",
              "       aid-to-nicaraguan-contras  mx-missile  immigration  \\\n",
              "count                 267.000000  267.000000   267.000000   \n",
              "mean                    0.647940    0.479401    -0.056180   \n",
              "std                     0.753205    0.837641     0.992751   \n",
              "min                    -1.000000   -1.000000    -1.000000   \n",
              "25%                     1.000000    0.000000    -1.000000   \n",
              "50%                     1.000000    1.000000    -1.000000   \n",
              "75%                     1.000000    1.000000     1.000000   \n",
              "max                     1.000000    1.000000     1.000000   \n",
              "\n",
              "       synfuels-corporation-cutback  education-spending  \\\n",
              "count                    267.000000          267.000000   \n",
              "mean                       0.011236           -0.662921   \n",
              "std                        0.979040            0.703543   \n",
              "min                       -1.000000           -1.000000   \n",
              "25%                       -1.000000           -1.000000   \n",
              "50%                        0.000000           -1.000000   \n",
              "75%                        1.000000           -1.000000   \n",
              "max                        1.000000            1.000000   \n",
              "\n",
              "       superfund-right-to-sue       crime  duty-free-exports  \\\n",
              "count              267.000000  267.000000         267.000000   \n",
              "mean                -0.397004   -0.288390           0.258427   \n",
              "std                  0.888349    0.939513           0.936255   \n",
              "min                 -1.000000   -1.000000          -1.000000   \n",
              "25%                 -1.000000   -1.000000          -1.000000   \n",
              "50%                 -1.000000   -1.000000           1.000000   \n",
              "75%                  1.000000    1.000000           1.000000   \n",
              "max                  1.000000    1.000000           1.000000   \n",
              "\n",
              "       export-administration-act-south-africa  \n",
              "count                              267.000000  \n",
              "mean                                 0.602996  \n",
              "std                                  0.574906  \n",
              "min                                 -1.000000  \n",
              "25%                                  0.000000  \n",
              "50%                                  1.000000  \n",
              "75%                                  1.000000  \n",
              "max                                  1.000000  "
            ]
          },
          "metadata": {
            "tags": []
          },
          "execution_count": 3
        }
      ]
    },
    {
      "metadata": {
        "id": "ehpVP8GCni0G",
        "colab_type": "code",
        "colab": {
          "base_uri": "https://localhost:8080/",
          "height": 306
        },
        "outputId": "4883181b-289b-473e-8b82-6498e0c97a01"
      },
      "cell_type": "code",
      "source": [
        "voting_data.drop('Class', axis = 1).sum()"
      ],
      "execution_count": 124,
      "outputs": [
        {
          "output_type": "execute_result",
          "data": {
            "text/plain": [
              "handicapped-infants                       -49\n",
              "water-project-cost-sharing                  3\n",
              "adoption-of-the-budget-resolution          82\n",
              "physician-fee-freeze                      -70\n",
              "el-salvador-aid                             4\n",
              "religious-groups-in-schools               120\n",
              "anti-satellite-test-ban                    57\n",
              "aid-to-nicaraguan-contras                  64\n",
              "mx-missile                                  1\n",
              "immigration                                 4\n",
              "synfuels-corporation-cutback             -114\n",
              "education-spending                        -62\n",
              "superfund-right-to-sue                      8\n",
              "crime                                      78\n",
              "duty-free-exports                         -59\n",
              "export-administration-act-south-africa    207\n",
              "dtype: int64"
            ]
          },
          "metadata": {
            "tags": []
          },
          "execution_count": 124
        }
      ]
    },
    {
      "metadata": {
        "id": "bOuqxrRWomYi",
        "colab_type": "code",
        "colab": {
          "base_uri": "https://localhost:8080/",
          "height": 306
        },
        "outputId": "4546fc0a-8a6c-48cb-a37d-5f896d9858d4"
      },
      "cell_type": "code",
      "source": [
        "voting_data_D.sum()"
      ],
      "execution_count": 125,
      "outputs": [
        {
          "output_type": "execute_result",
          "data": {
            "text/plain": [
              "handicapped-infants                        54\n",
              "water-project-cost-sharing                  1\n",
              "adoption-of-the-budget-resolution         202\n",
              "physician-fee-freeze                     -231\n",
              "el-salvador-aid                          -145\n",
              "religious-groups-in-schools               -12\n",
              "anti-satellite-test-ban                   141\n",
              "aid-to-nicaraguan-contras                 173\n",
              "mx-missile                                128\n",
              "immigration                               -15\n",
              "synfuels-corporation-cutback                3\n",
              "education-spending                       -177\n",
              "superfund-right-to-sue                   -106\n",
              "crime                                     -77\n",
              "duty-free-exports                          69\n",
              "export-administration-act-south-africa    161\n",
              "dtype: int64"
            ]
          },
          "metadata": {
            "tags": []
          },
          "execution_count": 125
        }
      ]
    },
    {
      "metadata": {
        "id": "HjtEkD3uor09",
        "colab_type": "code",
        "colab": {
          "base_uri": "https://localhost:8080/",
          "height": 306
        },
        "outputId": "b074a58a-0fd7-4d61-bc79-d85d07be990a"
      },
      "cell_type": "code",
      "source": [
        "voting_data_R.sum()"
      ],
      "execution_count": 126,
      "outputs": [
        {
          "output_type": "execute_result",
          "data": {
            "text/plain": [
              "handicapped-infants                      -103\n",
              "water-project-cost-sharing                  2\n",
              "adoption-of-the-budget-resolution        -120\n",
              "physician-fee-freeze                      161\n",
              "el-salvador-aid                           149\n",
              "religious-groups-in-schools               132\n",
              "anti-satellite-test-ban                   -84\n",
              "aid-to-nicaraguan-contras                -109\n",
              "mx-missile                               -127\n",
              "immigration                                19\n",
              "synfuels-corporation-cutback             -117\n",
              "education-spending                        115\n",
              "superfund-right-to-sue                    114\n",
              "crime                                     155\n",
              "duty-free-exports                        -128\n",
              "export-administration-act-south-africa     46\n",
              "dtype: int64"
            ]
          },
          "metadata": {
            "tags": []
          },
          "execution_count": 126
        }
      ]
    },
    {
      "metadata": {
        "id": "TStS6cUnpmA4",
        "colab_type": "code",
        "colab": {}
      },
      "cell_type": "code",
      "source": [
        "# Stolen from this morning\n",
        "# Confidence intervals!\n",
        "# Similar to hypothesis testing, but centered at sample mean\n",
        "# Generally better than reporting the \"point estimate\" (sample mean)\n",
        "# Why? Because point estimates aren't always perfect\n",
        "\n",
        "import numpy as np\n",
        "from scipy import stats\n",
        "\n",
        "def confidence_interval(data, confidence=0.95):\n",
        "  \"\"\"\n",
        "  Calculate a confidence interval around a sample mean for given data.\n",
        "  Using t-distribution and two-tailed test, default 95% confidence. \n",
        "  \n",
        "  Arguments:\n",
        "    data - iterable (list or numpy array) of sample observations\n",
        "    confidence - level of confidence for the interval\n",
        "  \n",
        "  Returns:\n",
        "    tuple of (mean, std dev, lower bound, upper bound)\n",
        "  \"\"\"\n",
        "  data = np.array(data)\n",
        "  mean = np.mean(data)\n",
        "  stdev = np.std(data)\n",
        "  n = len(data)\n",
        "  stderr = stats.sem(data)\n",
        "  interval = stderr * stats.t.ppf((1 + confidence) / 2., n - 1)\n",
        "  return (mean, stdev, mean - interval, mean + interval)\n",
        "\n",
        "def report_confidence_interval(confidence_interval):\n",
        "  \"\"\"\n",
        "  Return a string with a pretty report of a confidence interval.\n",
        "  \n",
        "  Arguments:\n",
        "    confidence_interval - tuple of (mean, lower bound, upper bound)\n",
        "  \n",
        "  Returns:\n",
        "    Formatted string (can be printed by user)\n",
        "  \"\"\"\n",
        "  s = \"Mean ({:.2}) lies in the interval [{:.2}, {:.2}]\".format(\n",
        "      confidence_interval[0],\n",
        "      confidence_interval[2],\n",
        "      confidence_interval[3])\n",
        "  return s"
      ],
      "execution_count": 0,
      "outputs": []
    },
    {
      "metadata": {
        "id": "Ovhl-Xv0BBD4",
        "colab_type": "code",
        "colab": {
          "base_uri": "https://localhost:8080/",
          "height": 459
        },
        "outputId": "277343a5-3b41-4d36-a8fc-317eb08e7aec"
      },
      "cell_type": "code",
      "source": [
        "min_list = []\n",
        "max_list = []\n",
        "mean_list = []\n",
        "item_list = []\n",
        "\n",
        "min_list_R = []\n",
        "max_list_R = []\n",
        "mean_list_R = []\n",
        "\n",
        "min_list_D = []\n",
        "max_list_D = []\n",
        "mean_list_D = []\n",
        "\n",
        "for item in vote_names[1:]:\n",
        "  if item in [\"handicapped-infants\",\n",
        "              \"water-project-cost-sharing\",\n",
        "              \"physician-fee-freeze\",\n",
        "              \"religious-groups-in-schools\",\n",
        "              \"mx-missile\",\n",
        "              \"synfuels-corporation-cutback\"]:\n",
        "    interval = confidence_interval(voting_data[item], confidence=0.99)\n",
        "    item_list += [item]\n",
        "    min_list.append(interval[2])\n",
        "    max_list.append(interval[3])\n",
        "    mean_list.append(interval[0])\n",
        "# Republicans\n",
        "    interval = confidence_interval(voting_data_R[item], confidence=0.99)\n",
        "    min_list_R.append(interval[2])\n",
        "    max_list_R.append(interval[3])\n",
        "    mean_list_R.append(interval[0])\n",
        "#Democrats\n",
        "    interval = confidence_interval(voting_data_D[item], confidence=0.99)\n",
        "    min_list_D.append(interval[2])\n",
        "    max_list_D.append(interval[3])\n",
        "    mean_list_D.append(interval[0])\n",
        "# build 3 DataFrames\n",
        "data = pd.DataFrame(dict(min=min_list,\n",
        "                         max=max_list,\n",
        "                         mean=mean_list),\n",
        "                         index=item_list)\n",
        "print(\"Total House votes\")\n",
        "print(data)\n",
        "data_R = pd.DataFrame(dict(min=min_list_R,\n",
        "                           max=max_list_R,\n",
        "                           mean=mean_list_R),\n",
        "                           index=item_list)\n",
        "print(\"\\nRepublican votes\")\n",
        "print(data_R)\n",
        "data_D = pd.DataFrame(dict(min=min_list_D,\n",
        "                           max=max_list_D,\n",
        "                           mean=mean_list_D),\n",
        "                           index=item_list)\n",
        "print(\"\\nDemocrat votes\")\n",
        "print(data_D)"
      ],
      "execution_count": 137,
      "outputs": [
        {
          "output_type": "stream",
          "text": [
            "Total House votes\n",
            "                                   max      mean       min\n",
            "handicapped-infants           0.009020 -0.112644 -0.234307\n",
            "water-project-cost-sharing    0.124031  0.006897 -0.110238\n",
            "physician-fee-freeze         -0.039950 -0.160920 -0.281889\n",
            "religious-groups-in-schools   0.393588  0.275862  0.158136\n",
            "mx-missile                    0.123307  0.002299 -0.118709\n",
            "synfuels-corporation-cutback -0.145367 -0.262069 -0.378771\n",
            "\n",
            "Republican votes\n",
            "                                   max      mean       min\n",
            "handicapped-infants          -0.456104 -0.613095 -0.770087\n",
            "water-project-cost-sharing    0.201134  0.011905 -0.177325\n",
            "physician-fee-freeze          1.009238  0.958333  0.907429\n",
            "religious-groups-in-schools   0.908483  0.785714  0.662946\n",
            "mx-missile                   -0.626742 -0.755952 -0.885163\n",
            "synfuels-corporation-cutback -0.559469 -0.696429 -0.833389\n",
            "\n",
            "Democrat votes\n",
            "                                   max      mean       min\n",
            "handicapped-infants           0.355273  0.202247  0.049221\n",
            "water-project-cost-sharing    0.154247  0.003745 -0.146757\n",
            "physician-fee-freeze         -0.790298 -0.865169 -0.940039\n",
            "religious-groups-in-schools   0.111264 -0.044944 -0.201151\n",
            "mx-missile                    0.612399  0.479401  0.346403\n",
            "synfuels-corporation-cutback  0.166685  0.011236 -0.144213\n"
          ],
          "name": "stdout"
        }
      ]
    },
    {
      "metadata": {
        "id": "Ah6NOjxkBpoT",
        "colab_type": "code",
        "colab": {
          "base_uri": "https://localhost:8080/",
          "height": 400
        },
        "outputId": "f7175988-64c3-4581-ce84-244e1c84d43f"
      },
      "cell_type": "code",
      "source": [
        "# plot House votes\n",
        "import pandas as pd\n",
        "import matplotlib.pyplot as plt\n",
        "\n",
        "N = len(data)\n",
        "plt.barh(range(N), data[\"max\"]-data[\"min\"], height=0.4, left=data[\"min\"])\n",
        "\n",
        "plt.plot(data[\"mean\"], range(N), linestyle=\"\", markersize=10, \n",
        "         marker=\"o\", color=\"#ff6600\", label=\"Mean\", markeredgecolor=\"k\")\n",
        "plt.yticks(range(N),data.index)\n",
        "\n",
        "plt.suptitle(\"Confidence Levels for selected 1985 US House of Representatives votes\", fontweight='heavy')\n",
        "plt.xlabel(\"Vote: -1 indicates 'No', 0 = abstain, 1 = 'Yes'\")\n",
        "\n",
        "plt.ylim(-1, N)\n",
        "plt.xlim(-.45, .45)\n",
        "plt.legend()\n",
        "plt.show()"
      ],
      "execution_count": 143,
      "outputs": [
        {
          "output_type": "display_data",
          "data": {
            "image/png": "[encoded data removed]",
            "text/plain": [
              "<Figure size 576x396 with 1 Axes>"
            ]
          },
          "metadata": {
            "tags": []
          }
        }
      ]
    },
    {
      "metadata": {
        "id": "pkPd-JPXUZjj",
        "colab_type": "code",
        "colab": {
          "base_uri": "https://localhost:8080/",
          "height": 400
        },
        "outputId": "6112b349-5cf8-484e-ec27-e0dd8db5c822"
      },
      "cell_type": "code",
      "source": [
        "# plot Republican votes\n",
        "data = data_R\n",
        "import pandas as pd\n",
        "import matplotlib.pyplot as plt\n",
        "\n",
        "N = len(data)\n",
        "plt.barh(range(N), data[\"max\"]-data[\"min\"], height=0.4, left=data[\"min\"])\n",
        "\n",
        "plt.plot(data[\"mean\"], range(N), linestyle=\"\", markersize=10, \n",
        "         marker=\"o\", color=\"#ff6600\", label=\"Mean\", markeredgecolor=\"k\")\n",
        "plt.yticks(range(N),data.index)\n",
        "\n",
        "plt.suptitle(\"Confidence Levels for selected 1985 Republican House of Representatives votes\", fontweight='heavy')\n",
        "plt.xlabel(\"Vote: -1 indicates 'No', 0 = abstain, 1 = 'Yes'\")\n",
        "\n",
        "plt.ylim(-1, N)\n",
        "plt.xlim(-1, 1)\n",
        "plt.legend()\n",
        "plt.show()"
      ],
      "execution_count": 144,
      "outputs": [
        {
          "output_type": "display_data",
          "data": {
            "image/png": "[encoded data removed]",
            "text/plain": [
              "<Figure size 576x396 with 1 Axes>"
            ]
          },
          "metadata": {
            "tags": []
          }
        }
      ]
    },
    {
      "metadata": {
        "id": "RIxO-E1shpdK",
        "colab_type": "code",
        "colab": {
          "base_uri": "https://localhost:8080/",
          "height": 400
        },
        "outputId": "f34af9fc-4742-4866-9bc5-9420ebe1c5e7"
      },
      "cell_type": "code",
      "source": [
        "# plot Democrat votes\n",
        "data = data_D\n",
        "import pandas as pd\n",
        "import matplotlib.pyplot as plt\n",
        "\n",
        "N = len(data)\n",
        "plt.barh(range(N), data[\"max\"]-data[\"min\"], height=0.4, left=data[\"min\"])\n",
        "\n",
        "plt.plot(data[\"mean\"], range(N), linestyle=\"\", markersize=10, \n",
        "         marker=\"o\", color=\"#ff6600\", label=\"Mean\", markeredgecolor=\"k\")\n",
        "plt.yticks(range(N),data.index)\n",
        "\n",
        "plt.suptitle(\"Confidence Levels for selected 1985 Democrat House of Representatives votes\", fontweight='heavy')\n",
        "plt.xlabel(\"Vote: -1 indicates 'No', 0 = abstain, 1 = 'Yes'\")\n",
        "\n",
        "plt.ylim(-1, N)\n",
        "plt.xlim(-1, 1)\n",
        "plt.legend()\n",
        "plt.show()"
      ],
      "execution_count": 145,
      "outputs": [
        {
          "output_type": "display_data",
          "data": {
            "image/png": "[encoded data removed]",
            "text/plain": [
              "<Figure size 576x396 with 1 Axes>"
            ]
          },
          "metadata": {
            "tags": []
          }
        }
      ]
    },
    {
      "metadata": {
        "id": "SqJaBHOguQLB",
        "colab_type": "code",
        "colab": {
          "base_uri": "https://localhost:8080/",
          "height": 386
        },
        "outputId": "b3fc3abb-a5ba-4fa3-f830-992516210baa"
      },
      "cell_type": "code",
      "source": [
        "import matplotlib.pyplot as plt\n",
        "plt.suptitle(\"Now here's a chart the makes sense of it all\")\n",
        "plt.plot(sorted(voting_data['handicapped-infants']))\n",
        "plt.show()"
      ],
      "execution_count": 146,
      "outputs": [
        {
          "output_type": "display_data",
          "data": {
            "image/png": "[encoded data removed]",
            "text/plain": [
              "<Figure size 576x396 with 1 Axes>"
            ]
          },
          "metadata": {
            "tags": []
          }
        }
      ]
    },
    {
      "metadata": {
        "id": "mDiF_y_HqAWF",
        "colab_type": "text"
      },
      "cell_type": "markdown",
      "source": [
        "**Analysis:**\n",
        "\n",
        "Do I gotta?\n",
        "\n",
        "***Interpret the confidence interval - what does it tell you about the data and its distribution?***\n",
        "\n",
        "I used 99% Confidence Intervals(CIs), since we used p_value <.01 yesterday - not sure if this is relevant. To me, they essentially mean that if the same House voted on the same issue again in the 2nd session 1984 (which is actually 1985), we can feel 99% confident that the outcome mean would be somewhere along the CI for Total House, Democrat and Republican voting.\n",
        "\n",
        "I thought about plotting the votes on one chart, but felt it congested matters (actually, it's late and I'm running out of gas; if required I leave it as an exercise for the instructor).\n",
        "\n",
        "***Write a summary of your findings, mixing prose and math/code/results***\n",
        "\n",
        "Dem Republicans, dems a bunch of cheapskate skinflints, who want to bomb us back into the Stone Age. Dem Democrats, dems want to spend like a bunch of drunken sailors so that we all wind up in the Poorhouse. The only solution is altruistic fascism, with me running the show. **THE DATA PROVES IT!**"
      ]
    }
  ]
}