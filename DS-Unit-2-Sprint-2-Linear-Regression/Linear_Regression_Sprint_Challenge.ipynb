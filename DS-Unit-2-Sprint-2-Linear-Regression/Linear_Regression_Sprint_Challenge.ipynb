{
  "nbformat": 4,
  "nbformat_minor": 0,
  "metadata": {
    "colab": {
      "name": "My Linear Regression Sprint Challenge.ipynb",
      "version": "0.3.2",
      "provenance": [],
      "collapsed_sections": [],
      "include_colab_link": true
    },
    "kernelspec": {
      "name": "python3",
      "display_name": "Python 3"
    }
  },
  "cells": [
    {
      "cell_type": "markdown",
      "metadata": {
        "id": "view-in-github",
        "colab_type": "text"
      },
      "source": [
        "<a href=\"https://colab.research.google.com/github/wel51x/DS-Unit-2-Sprint-2-Linear-Regression/blob/master/Linear_Regression_Sprint_Challenge.ipynb\" target=\"_parent\"><img src=\"https://colab.research.google.com/assets/colab-badge.svg\" alt=\"Open In Colab\"/></a>"
      ]
    },
    {
      "metadata": {
        "id": "pimdyeW8MfFP",
        "colab_type": "code",
        "outputId": "8d85f805-7055-40e4-e706-f6e207f7971d",
        "colab": {
          "base_uri": "https://localhost:8080/",
          "height": 466
        }
      },
      "cell_type": "code",
      "source": [
        "!pip3 install seaborn -U"
      ],
      "execution_count": 1,
      "outputs": [
        {
          "output_type": "stream",
          "text": [
            "Collecting seaborn\n",
            "\u001b[?25l  Downloading https://files.pythonhosted.org/packages/a8/76/220ba4420459d9c4c9c9587c6ce607bf56c25b3d3d2de62056efe482dadc/seaborn-0.9.0-py3-none-any.whl (208kB)\n",
            "\u001b[K    100% |████████████████████████████████| 215kB 15.3MB/s \n",
            "\u001b[?25hRequirement already satisfied, skipping upgrade: scipy>=0.14.0 in /usr/local/lib/python3.6/dist-packages (from seaborn) (1.1.0)\n",
            "Requirement already satisfied, skipping upgrade: matplotlib>=1.4.3 in /usr/local/lib/python3.6/dist-packages (from seaborn) (3.0.2)\n",
            "Requirement already satisfied, skipping upgrade: numpy>=1.9.3 in /usr/local/lib/python3.6/dist-packages (from seaborn) (1.14.6)\n",
            "Requirement already satisfied, skipping upgrade: pandas>=0.15.2 in /usr/local/lib/python3.6/dist-packages (from seaborn) (0.22.0)\n",
            "Requirement already satisfied, skipping upgrade: pyparsing!=2.0.4,!=2.1.2,!=2.1.6,>=2.0.1 in /usr/local/lib/python3.6/dist-packages (from matplotlib>=1.4.3->seaborn) (2.3.1)\n",
            "Requirement already satisfied, skipping upgrade: python-dateutil>=2.1 in /usr/local/lib/python3.6/dist-packages (from matplotlib>=1.4.3->seaborn) (2.5.3)\n",
            "Requirement already satisfied, skipping upgrade: cycler>=0.10 in /usr/local/lib/python3.6/dist-packages (from matplotlib>=1.4.3->seaborn) (0.10.0)\n",
            "Requirement already satisfied, skipping upgrade: kiwisolver>=1.0.1 in /usr/local/lib/python3.6/dist-packages (from matplotlib>=1.4.3->seaborn) (1.0.1)\n",
            "Requirement already satisfied, skipping upgrade: pytz>=2011k in /usr/local/lib/python3.6/dist-packages (from pandas>=0.15.2->seaborn) (2018.9)\n",
            "Requirement already satisfied, skipping upgrade: six>=1.5 in /usr/local/lib/python3.6/dist-packages (from python-dateutil>=2.1->matplotlib>=1.4.3->seaborn) (1.11.0)\n",
            "Requirement already satisfied, skipping upgrade: setuptools in /usr/local/lib/python3.6/dist-packages (from kiwisolver>=1.0.1->matplotlib>=1.4.3->seaborn) (40.8.0)\n",
            "Installing collected packages: seaborn\n",
            "  Found existing installation: seaborn 0.7.1\n",
            "    Uninstalling seaborn-0.7.1:\n",
            "      Successfully uninstalled seaborn-0.7.1\n",
            "Successfully installed seaborn-0.9.0\n"
          ],
          "name": "stdout"
        },
        {
          "output_type": "display_data",
          "data": {
            "application/vnd.colab-display-data+json": {
              "pip_warning": {
                "packages": [
                  "seaborn"
                ]
              }
            }
          },
          "metadata": {
            "tags": []
          }
        }
      ]
    },
    {
      "metadata": {
        "id": "z8QtMOceMh3y",
        "colab_type": "code",
        "outputId": "fe696c08-83ac-4367-a32f-0d664cd09d76",
        "colab": {
          "base_uri": "https://localhost:8080/",
          "height": 381
        }
      },
      "cell_type": "code",
      "source": [
        "!pip3 install statsmodels -U"
      ],
      "execution_count": 1,
      "outputs": [
        {
          "output_type": "stream",
          "text": [
            "Collecting statsmodels\n",
            "\u001b[?25l  Downloading https://files.pythonhosted.org/packages/85/d1/69ee7e757f657e7f527cbf500ec2d295396e5bcec873cf4eb68962c41024/statsmodels-0.9.0-cp36-cp36m-manylinux1_x86_64.whl (7.4MB)\n",
            "\u001b[K    100% |████████████████████████████████| 7.4MB 4.4MB/s \n",
            "\u001b[?25hRequirement already satisfied, skipping upgrade: pandas in /usr/local/lib/python3.6/dist-packages (from statsmodels) (0.22.0)\n",
            "Requirement already satisfied, skipping upgrade: patsy in /usr/local/lib/python3.6/dist-packages (from statsmodels) (0.5.1)\n",
            "Requirement already satisfied, skipping upgrade: python-dateutil>=2 in /usr/local/lib/python3.6/dist-packages (from pandas->statsmodels) (2.5.3)\n",
            "Requirement already satisfied, skipping upgrade: pytz>=2011k in /usr/local/lib/python3.6/dist-packages (from pandas->statsmodels) (2018.9)\n",
            "Requirement already satisfied, skipping upgrade: numpy>=1.9.0 in /usr/local/lib/python3.6/dist-packages (from pandas->statsmodels) (1.14.6)\n",
            "Requirement already satisfied, skipping upgrade: six in /usr/local/lib/python3.6/dist-packages (from patsy->statsmodels) (1.11.0)\n",
            "Installing collected packages: statsmodels\n",
            "  Found existing installation: statsmodels 0.8.0\n",
            "    Uninstalling statsmodels-0.8.0:\n",
            "      Successfully uninstalled statsmodels-0.8.0\n",
            "Successfully installed statsmodels-0.9.0\n"
          ],
          "name": "stdout"
        },
        {
          "output_type": "display_data",
          "data": {
            "application/vnd.colab-display-data+json": {
              "pip_warning": {
                "packages": [
                  "statsmodels"
                ]
              }
            }
          },
          "metadata": {
            "tags": []
          }
        }
      ]
    },
    {
      "metadata": {
        "id": "YbiJuv5d2jZ7",
        "colab_type": "code",
        "colab": {}
      },
      "cell_type": "code",
      "source": [
        "# Import everything you could ever need. ;)\n",
        "import pandas as pd\n",
        "import numpy as np\n",
        "import matplotlib.pyplot as plt\n",
        "import seaborn as sns\n",
        "import statsmodels.api as sm\n",
        "from statsmodels.stats.outliers_influence import variance_inflation_factor\n",
        "from sklearn.model_selection import train_test_split\n",
        "from sklearn.linear_model import LinearRegression\n",
        "from sklearn.metrics import mean_squared_error, r2_score"
      ],
      "execution_count": 0,
      "outputs": []
    },
    {
      "metadata": {
        "id": "GIXhT4Vt80mD",
        "colab_type": "code",
        "colab": {}
      },
      "cell_type": "code",
      "source": [
        "pd.set_option('display.width', 160)\n",
        "pd.set_option('display.max_rows', 500)\n",
        "pd.set_option('display.max_columns', 500)\n"
      ],
      "execution_count": 0,
      "outputs": []
    },
    {
      "metadata": {
        "id": "FgaItuSL3zxO",
        "colab_type": "code",
        "outputId": "cdfd5754-4cdb-4006-eef4-b13b6b7cad71",
        "colab": {
          "base_uri": "https://localhost:8080/",
          "height": 221
        }
      },
      "cell_type": "code",
      "source": [
        "# Ukraine Used Car Sale Price Prediction\n",
        "df = pd.read_csv('https://raw.githubusercontent.com/ryanleeallred/datasets/master/car_regression.csv')\n",
        "print(df.shape)\n",
        "df.head()"
      ],
      "execution_count": 3,
      "outputs": [
        {
          "output_type": "stream",
          "text": [
            "(8495, 9)\n"
          ],
          "name": "stdout"
        },
        {
          "output_type": "execute_result",
          "data": {
            "text/html": [
              "<div>\n",
              "<style scoped>\n",
              "    .dataframe tbody tr th:only-of-type {\n",
              "        vertical-align: middle;\n",
              "    }\n",
              "\n",
              "    .dataframe tbody tr th {\n",
              "        vertical-align: top;\n",
              "    }\n",
              "\n",
              "    .dataframe thead th {\n",
              "        text-align: right;\n",
              "    }\n",
              "</style>\n",
              "<table border=\"1\" class=\"dataframe\">\n",
              "  <thead>\n",
              "    <tr style=\"text-align: right;\">\n",
              "      <th></th>\n",
              "      <th>make</th>\n",
              "      <th>price</th>\n",
              "      <th>body</th>\n",
              "      <th>mileage</th>\n",
              "      <th>engV</th>\n",
              "      <th>engType</th>\n",
              "      <th>registration</th>\n",
              "      <th>year</th>\n",
              "      <th>drive</th>\n",
              "    </tr>\n",
              "  </thead>\n",
              "  <tbody>\n",
              "    <tr>\n",
              "      <th>0</th>\n",
              "      <td>23</td>\n",
              "      <td>15500.0</td>\n",
              "      <td>0</td>\n",
              "      <td>68</td>\n",
              "      <td>2.5</td>\n",
              "      <td>1</td>\n",
              "      <td>1</td>\n",
              "      <td>2010</td>\n",
              "      <td>1</td>\n",
              "    </tr>\n",
              "    <tr>\n",
              "      <th>1</th>\n",
              "      <td>50</td>\n",
              "      <td>20500.0</td>\n",
              "      <td>3</td>\n",
              "      <td>173</td>\n",
              "      <td>1.8</td>\n",
              "      <td>1</td>\n",
              "      <td>1</td>\n",
              "      <td>2011</td>\n",
              "      <td>2</td>\n",
              "    </tr>\n",
              "    <tr>\n",
              "      <th>2</th>\n",
              "      <td>50</td>\n",
              "      <td>35000.0</td>\n",
              "      <td>2</td>\n",
              "      <td>135</td>\n",
              "      <td>5.5</td>\n",
              "      <td>3</td>\n",
              "      <td>1</td>\n",
              "      <td>2008</td>\n",
              "      <td>2</td>\n",
              "    </tr>\n",
              "    <tr>\n",
              "      <th>3</th>\n",
              "      <td>50</td>\n",
              "      <td>17800.0</td>\n",
              "      <td>5</td>\n",
              "      <td>162</td>\n",
              "      <td>1.8</td>\n",
              "      <td>0</td>\n",
              "      <td>1</td>\n",
              "      <td>2012</td>\n",
              "      <td>0</td>\n",
              "    </tr>\n",
              "    <tr>\n",
              "      <th>4</th>\n",
              "      <td>55</td>\n",
              "      <td>16600.0</td>\n",
              "      <td>0</td>\n",
              "      <td>83</td>\n",
              "      <td>2.0</td>\n",
              "      <td>3</td>\n",
              "      <td>1</td>\n",
              "      <td>2013</td>\n",
              "      <td>1</td>\n",
              "    </tr>\n",
              "  </tbody>\n",
              "</table>\n",
              "</div>"
            ],
            "text/plain": [
              "   make    price  body  mileage  engV  engType  registration  year  drive\n",
              "0    23  15500.0     0       68   2.5        1             1  2010      1\n",
              "1    50  20500.0     3      173   1.8        1             1  2011      2\n",
              "2    50  35000.0     2      135   5.5        3             1  2008      2\n",
              "3    50  17800.0     5      162   1.8        0             1  2012      0\n",
              "4    55  16600.0     0       83   2.0        3             1  2013      1"
            ]
          },
          "metadata": {
            "tags": []
          },
          "execution_count": 3
        }
      ]
    },
    {
      "metadata": {
        "id": "TLlov_pc8_-N",
        "colab_type": "code",
        "outputId": "630915ca-c606-4629-9804-2409ac638caf",
        "colab": {
          "base_uri": "https://localhost:8080/",
          "height": 340
        }
      },
      "cell_type": "code",
      "source": [
        "# more stats & see which fields are null\n",
        "print(df.describe())\n",
        "print(df.isnull().sum())\n"
      ],
      "execution_count": 4,
      "outputs": [
        {
          "output_type": "stream",
          "text": [
            "              make          price         body      mileage         engV      engType  registration         year        drive\n",
            "count  8495.000000    8495.000000  8495.000000  8495.000000  8495.000000  8495.000000   8495.000000  8495.000000  8495.000000\n",
            "mean     46.535491   16185.453305     2.302295   141.744202     2.568337     1.650618      0.941613  2006.500883     0.575868\n",
            "std      24.526251   24449.641512     1.610307    97.464062     5.387238     1.341282      0.234488     6.925907     0.741235\n",
            "min       0.000000     259.350000     0.000000     0.000000     0.100000     0.000000      0.000000  1959.000000     0.000000\n",
            "25%      23.000000    5490.000000     1.000000    74.000000     1.600000     0.000000      1.000000  2004.000000     0.000000\n",
            "50%      50.000000    9500.000000     3.000000   130.000000     2.000000     1.000000      1.000000  2008.000000     0.000000\n",
            "75%      68.000000   17145.600000     3.000000   197.000000     2.500000     3.000000      1.000000  2011.000000     1.000000\n",
            "max      82.000000  547800.000000     5.000000   999.000000    99.990000     3.000000      1.000000  2016.000000     2.000000\n",
            "make            0\n",
            "price           0\n",
            "body            0\n",
            "mileage         0\n",
            "engV            0\n",
            "engType         0\n",
            "registration    0\n",
            "year            0\n",
            "drive           0\n",
            "dtype: int64\n"
          ],
          "name": "stdout"
        }
      ]
    },
    {
      "metadata": {
        "id": "w9gkF-HNUFAV",
        "colab_type": "text"
      },
      "cell_type": "markdown",
      "source": [
        "# Predictive Modeling with Linear Regression"
      ]
    },
    {
      "metadata": {
        "id": "Vy1SWxcYTAC0",
        "colab_type": "text"
      },
      "cell_type": "markdown",
      "source": [
        "## 1.1 Divide the dataset features into an X matrix and y vector (\"price\" is what we want to predict)."
      ]
    },
    {
      "metadata": {
        "id": "dwMbM9tUUaOQ",
        "colab_type": "code",
        "colab": {}
      },
      "cell_type": "code",
      "source": [
        "# set X columns to everything but price\n",
        "X = df.drop('price', axis=1)\n",
        "x_cols = df.columns.drop(['price'])\n",
        "#set y to price\n",
        "y = df['price']\n"
      ],
      "execution_count": 0,
      "outputs": []
    },
    {
      "metadata": {
        "id": "oRFqPAZJ9UpD",
        "colab_type": "code",
        "outputId": "ea9ad601-8a48-44b5-9a92-ad86125f71de",
        "colab": {
          "base_uri": "https://localhost:8080/",
          "height": 226
        }
      },
      "cell_type": "code",
      "source": [
        "sns.pairplot(data=df, y_vars=['price'], x_vars=x_cols, plot_kws={'alpha': 0.1, 'linewidth':0})"
      ],
      "execution_count": 6,
      "outputs": [
        {
          "output_type": "execute_result",
          "data": {
            "text/plain": [
              "<seaborn.axisgrid.PairGrid at 0x7fc60e43a898>"
            ]
          },
          "metadata": {
            "tags": []
          },
          "execution_count": 6
        },
        {
          "output_type": "display_data",
          "data": {
            "image/png": "[encoded data removed]",
            "text/plain": [
              "<Figure size 1440x180 with 8 Axes>"
            ]
          },
          "metadata": {
            "tags": []
          }
        }
      ]
    },
    {
      "metadata": {
        "id": "Uf_SQswNUPwM",
        "colab_type": "text"
      },
      "cell_type": "markdown",
      "source": [
        "## 1.2 Split the data into test and train datasets using train_test_split"
      ]
    },
    {
      "metadata": {
        "id": "iIiELKuKUOgR",
        "colab_type": "code",
        "outputId": "507e65c2-455b-4f91-fba9-b6774b33c037",
        "colab": {
          "base_uri": "https://localhost:8080/",
          "height": 119
        }
      },
      "cell_type": "code",
      "source": [
        "X_train, X_test, y_train, y_test = train_test_split(X, y, test_size=.5, random_state=42)\n",
        "print(\"Original shape:\", X.shape, \"\\n\")\n",
        "\n",
        "print(\"X_train shape:\", X_train.shape)\n",
        "print(\"X_test shape:\", X_test.shape)\n",
        "print(\"y_train shape:\", y_train.shape)\n",
        "print(\"y_test shape:\", y_test.shape)\n"
      ],
      "execution_count": 7,
      "outputs": [
        {
          "output_type": "stream",
          "text": [
            "Original shape: (8495, 8) \n",
            "\n",
            "X_train shape: (4247, 8)\n",
            "X_test shape: (4248, 8)\n",
            "y_train shape: (4247,)\n",
            "y_test shape: (4248,)\n"
          ],
          "name": "stdout"
        }
      ]
    },
    {
      "metadata": {
        "id": "0AdXWiwoUstf",
        "colab_type": "text"
      },
      "cell_type": "markdown",
      "source": [
        "## 1.3 Use Scikit-Learn to fit a multiple regression model using your training data."
      ]
    },
    {
      "metadata": {
        "id": "Zw70rt71U1xf",
        "colab_type": "code",
        "outputId": "3a00445f-e661-441c-fad2-218561c4d68a",
        "colab": {
          "base_uri": "https://localhost:8080/",
          "height": 51
        }
      },
      "cell_type": "code",
      "source": [
        "model = LinearRegression()\n",
        "model.fit(X_train, y_train)\n"
      ],
      "execution_count": 8,
      "outputs": [
        {
          "output_type": "execute_result",
          "data": {
            "text/plain": [
              "LinearRegression(copy_X=True, fit_intercept=True, n_jobs=None,\n",
              "         normalize=False)"
            ]
          },
          "metadata": {
            "tags": []
          },
          "execution_count": 8
        }
      ]
    },
    {
      "metadata": {
        "id": "82fH2rilU7j3",
        "colab_type": "text"
      },
      "cell_type": "markdown",
      "source": [
        "## 1.4 Report the Intercept and Coefficient Values for the fitted model"
      ]
    },
    {
      "metadata": {
        "id": "ue6hCHGqVE83",
        "colab_type": "code",
        "outputId": "e09125ac-1c3a-42f9-8f11-c29facc1f88c",
        "colab": {
          "base_uri": "https://localhost:8080/",
          "height": 238
        }
      },
      "cell_type": "code",
      "source": [
        "beta_0 = model.intercept_\n",
        "beta_i = model.coef_[0]\n",
        "\n",
        "print(\"Slope Coefficient: \", beta_i)\n",
        "print(\"\\nIntercept Value: \", beta_0)\n",
        "\n",
        "print(\"\\nCoefficients:\")\n",
        "for i in range(X.shape[1]):\n",
        "  print(X.columns[i], '\\t', model.coef_[i])\n"
      ],
      "execution_count": 9,
      "outputs": [
        {
          "output_type": "stream",
          "text": [
            "Slope Coefficient:  -35.224794837138774\n",
            "\n",
            "Intercept Value:  -2184591.0115608736\n",
            "\n",
            "Coefficients:\n",
            "make \t -35.224794837138774\n",
            "body \t -1672.11973554938\n",
            "mileage \t -37.12848398637675\n",
            "engV \t 269.6158254360521\n",
            "engType \t -1284.7437596238408\n",
            "registration \t 4649.462253388958\n",
            "year \t 1098.2829573042409\n",
            "drive \t 7886.890791475622\n"
          ],
          "name": "stdout"
        }
      ]
    },
    {
      "metadata": {
        "id": "T0CV0OnDVZbu",
        "colab_type": "text"
      },
      "cell_type": "markdown",
      "source": [
        "## 1.5 Use the test data to make predictions"
      ]
    },
    {
      "metadata": {
        "id": "vrR5b5c3VwE5",
        "colab_type": "code",
        "colab": {}
      },
      "cell_type": "code",
      "source": [
        "y_test_predict = model.predict(X_test)\n"
      ],
      "execution_count": 0,
      "outputs": []
    },
    {
      "metadata": {
        "id": "ZwQb3gE7VycT",
        "colab_type": "text"
      },
      "cell_type": "markdown",
      "source": [
        "## 1.6 Calculate and report both the Root-Mean-Square error and $R^2$ for the model. "
      ]
    },
    {
      "metadata": {
        "id": "Ym2kjxWhU6b2",
        "colab_type": "code",
        "outputId": "ebf272c9-3e3e-40f1-e80d-10466191fb2a",
        "colab": {
          "base_uri": "https://localhost:8080/",
          "height": 68
        }
      },
      "cell_type": "code",
      "source": [
        "RMSE = np.sqrt(mean_squared_error(y_test, y_test_predict))\n",
        "R2= r2_score(y_test, y_test_predict)\n",
        "\n",
        "print('\\nRMSE is {}'.format(RMSE))\n",
        "print('R^2 is {}'.format(R2))\n"
      ],
      "execution_count": 11,
      "outputs": [
        {
          "output_type": "stream",
          "text": [
            "\n",
            "RMSE is 22470.10563446866\n",
            "R^2 is 0.2694482951962195\n"
          ],
          "name": "stdout"
        }
      ]
    },
    {
      "metadata": {
        "id": "kIXhGHIgXHyJ",
        "colab_type": "text"
      },
      "cell_type": "markdown",
      "source": [
        "## 1.7 How should we interpret the coefficient corresponding to the \"year\" feature?"
      ]
    },
    {
      "metadata": {
        "id": "8jv2n0wAXgHU",
        "colab_type": "text"
      },
      "cell_type": "markdown",
      "source": [
        "A year increase (ie the more recent the car is) results in an increase of $1098.28 in the price of the car"
      ]
    },
    {
      "metadata": {
        "id": "ckQ5GsOtYsjn",
        "colab_type": "text"
      },
      "cell_type": "markdown",
      "source": [
        "## 1.8 How should we interpret the Root-Mean-Square Error?"
      ]
    },
    {
      "metadata": {
        "id": "F982IeSgYyp6",
        "colab_type": "text"
      },
      "cell_type": "markdown",
      "source": [
        "Root Mean Square Error (RMSE) is the standard deviation of the residuals, which are a measure of how far from the regression line data points (ie how concentrated the data is around the line of best fit). With an RMSE of 22470+, this indicates the data is pretty dispersed, and in fact the value is quite distant from the mean price (16185)."
      ]
    },
    {
      "metadata": {
        "id": "T3sZrru_YzFF",
        "colab_type": "text"
      },
      "cell_type": "markdown",
      "source": [
        "## 1.9 How should we interpret the $R^2$?"
      ]
    },
    {
      "metadata": {
        "id": "5pN2Oet_Y5jR",
        "colab_type": "text"
      },
      "cell_type": "markdown",
      "source": [
        "It shows that, with a value of 26.94 precent, the model is not doing much of a job predicting price.\n"
      ]
    },
    {
      "metadata": {
        "id": "Z_VNy7e3Y5sT",
        "colab_type": "text"
      },
      "cell_type": "markdown",
      "source": [
        "# Log-Linear and Polynomial Regression"
      ]
    },
    {
      "metadata": {
        "id": "G2T4FSqRZOJA",
        "colab_type": "text"
      },
      "cell_type": "markdown",
      "source": [
        "## 2.1 Engineer a new variable by taking the log of the price variable."
      ]
    },
    {
      "metadata": {
        "id": "Ud6gGYAkCGlv",
        "colab_type": "text"
      },
      "cell_type": "markdown",
      "source": [
        "**==>> With a mean of 16185, and a max of 547800, it looks like price has a LONG! trailing tail.**"
      ]
    },
    {
      "metadata": {
        "id": "7EChAFNxZX24",
        "colab_type": "code",
        "colab": {}
      },
      "cell_type": "code",
      "source": [
        "df['ln_price'] = np.log(df['price'])"
      ],
      "execution_count": 0,
      "outputs": []
    },
    {
      "metadata": {
        "id": "21DmhXV6C7TS",
        "colab_type": "code",
        "outputId": "822cdbe5-e58c-40ef-9cf0-8e97de26b912",
        "colab": {
          "base_uri": "https://localhost:8080/",
          "height": 286
        }
      },
      "cell_type": "code",
      "source": [
        "# graph hist of price\n",
        "df['price'].hist()"
      ],
      "execution_count": 13,
      "outputs": [
        {
          "output_type": "execute_result",
          "data": {
            "text/plain": [
              "<matplotlib.axes._subplots.AxesSubplot at 0x7fc60c1696d8>"
            ]
          },
          "metadata": {
            "tags": []
          },
          "execution_count": 13
        },
        {
          "output_type": "display_data",
          "data": {
            "image/png": "[encoded data removed]",
            "text/plain": [
              "<Figure size 432x288 with 1 Axes>"
            ]
          },
          "metadata": {
            "tags": []
          }
        }
      ]
    },
    {
      "metadata": {
        "id": "kmW3nOorC7iJ",
        "colab_type": "code",
        "outputId": "8171ec19-3371-4ebb-b09b-8a41998ff0ca",
        "colab": {
          "base_uri": "https://localhost:8080/",
          "height": 286
        }
      },
      "cell_type": "code",
      "source": [
        "# graph hist of ln_price\n",
        "df['ln_price'].hist()"
      ],
      "execution_count": 14,
      "outputs": [
        {
          "output_type": "execute_result",
          "data": {
            "text/plain": [
              "<matplotlib.axes._subplots.AxesSubplot at 0x7fc609882278>"
            ]
          },
          "metadata": {
            "tags": []
          },
          "execution_count": 14
        },
        {
          "output_type": "display_data",
          "data": {
            "image/png": "[encoded data removed]",
            "text/plain": [
              "<Figure size 432x288 with 1 Axes>"
            ]
          },
          "metadata": {
            "tags": []
          }
        }
      ]
    },
    {
      "metadata": {
        "id": "R117rxnOZw6q",
        "colab_type": "text"
      },
      "cell_type": "markdown",
      "source": [
        "## 2.2 Use scatterplots or seaborn's pairplot function to do the \"eyeball test\" for non-linearly distributed features."
      ]
    },
    {
      "metadata": {
        "id": "8l56Qk7VaBrU",
        "colab_type": "code",
        "outputId": "9777ae6b-adac-4249-aa60-5b3c82ab0814",
        "colab": {
          "base_uri": "https://localhost:8080/",
          "height": 226
        }
      },
      "cell_type": "code",
      "source": [
        "sns.pairplot(data=df, y_vars=['ln_price'], x_vars=x_cols, plot_kws={'alpha': 0.1, 'linewidth':0})"
      ],
      "execution_count": 15,
      "outputs": [
        {
          "output_type": "execute_result",
          "data": {
            "text/plain": [
              "<seaborn.axisgrid.PairGrid at 0x7fc609856748>"
            ]
          },
          "metadata": {
            "tags": []
          },
          "execution_count": 15
        },
        {
          "output_type": "display_data",
          "data": {
            "image/png": "[encoded data removed]",
            "text/plain": [
              "<Figure size 1440x180 with 8 Axes>"
            ]
          },
          "metadata": {
            "tags": []
          }
        }
      ]
    },
    {
      "metadata": {
        "id": "QTf4gCaDaiCw",
        "colab_type": "text"
      },
      "cell_type": "markdown",
      "source": [
        "## 2.3 If appropriate, create any polynomial features. "
      ]
    },
    {
      "metadata": {
        "id": "ipsCcH83ZMe8",
        "colab_type": "code",
        "colab": {}
      },
      "cell_type": "code",
      "source": [
        "# looks to me like, based on the slopes of the charts, it make sense to try mileage down and year up.\n",
        "# I don't see any patterns in the rest of the data\n",
        "df['sqrt_mileage'] = df['mileage']**.5\n",
        "df['year_squared'] = df['year']**2\n"
      ],
      "execution_count": 0,
      "outputs": []
    },
    {
      "metadata": {
        "id": "NJgfD-JLayRA",
        "colab_type": "text"
      },
      "cell_type": "markdown",
      "source": [
        "## 2.4 Use the new log-transformed y variable and your x variables (including any new polynomial features) to fit a new linear regression model. Then report the: intercept, coefficients, RMSE, and $R^2$."
      ]
    },
    {
      "metadata": {
        "id": "uXmtVpnPcFij",
        "colab_type": "code",
        "outputId": "8b42940c-0488-4a47-d6f8-6c0bfbb66c8e",
        "colab": {
          "base_uri": "https://localhost:8080/",
          "height": 187
        }
      },
      "cell_type": "code",
      "source": [
        "y = df.loc[:, ['ln_price']].values\n",
        "X = df.drop(['ln_price','price','mileage','year'], axis=1)\n",
        "\n",
        "X_train, X_test, y_train, y_test = train_test_split(X, y, test_size=.5, random_state=42)\n",
        "\n",
        "model = LinearRegression()\n",
        "model.fit(X_train, y_train)\n",
        "\n",
        "beta_0 = model.intercept_\n",
        "beta_i = model.coef_[0]\n",
        "\n",
        "print()\n",
        "print(X.columns)\n",
        "print(\"Coefficients: \", beta_i)\n",
        "print(\"\\nIntercept Value: \", beta_0)\n",
        "print()\n",
        "#for i in range(X.shape[0]):\n",
        "#  print(X.columns[i], '\\t', model.coef_[i])\n",
        "\n",
        "y_test_predict = model.predict(X_test)\n",
        "\n",
        "RMSE = np.sqrt(mean_squared_error(y_test, y_test_predict))\n",
        "R2= r2_score(y_test, y_test_predict)\n",
        "\n",
        "print('\\nRMSE is {}'.format(RMSE))\n",
        "print('R^2 is {}'.format(R2))\n"
      ],
      "execution_count": 17,
      "outputs": [
        {
          "output_type": "stream",
          "text": [
            "\n",
            "Index(['make', 'body', 'engV', 'engType', 'registration', 'drive', 'sqrt_mileage', 'year_squared'], dtype='object')\n",
            "Coefficients:  [-1.47583045e-03 -8.04518260e-02  9.81323327e-03 -6.46352431e-02\n",
            "  7.12193612e-01  3.97918685e-01 -9.55298123e-03  2.29112389e-05]\n",
            "\n",
            "Intercept Value:  [-83.52487361]\n",
            "\n",
            "\n",
            "RMSE is 0.5668221900430387\n",
            "R^2 is 0.6587333060551626\n"
          ],
          "name": "stdout"
        }
      ]
    },
    {
      "metadata": {
        "id": "hf4_8FXrpHFY",
        "colab_type": "text"
      },
      "cell_type": "markdown",
      "source": [
        "## 2.5 How might we interpret the coefficient on \"year\" in this new regression model?"
      ]
    },
    {
      "metadata": {
        "id": "JVGKvt5WpTf2",
        "colab_type": "text"
      },
      "cell_type": "markdown",
      "source": [
        "For the square of each year increase squared, the ln_price goes up fractionally (2.29112389e-05), which makes sense since it's actually the log of price."
      ]
    },
    {
      "metadata": {
        "id": "JUQwzfDRfrQi",
        "colab_type": "text"
      },
      "cell_type": "markdown",
      "source": [
        "# Gradient Descent"
      ]
    },
    {
      "metadata": {
        "id": "M_JLfReVeoYT",
        "colab_type": "text"
      },
      "cell_type": "markdown",
      "source": [
        "## 3.1 What does Gradient Descent seek to minimize?\n",
        "\n",
        "---\n",
        "\n"
      ]
    },
    {
      "metadata": {
        "id": "-ezM_NS2fIJe",
        "colab_type": "text"
      },
      "cell_type": "markdown",
      "source": [
        "Gradient descent is an optimization strategy, used in training a model.\n",
        "\n",
        "Gradient\n",
        "\n",
        "A gradient measures the change in all weights with regard to the change in error. It can be thought of as the slope of a function. The higher the gradient, the steeper the slope and the faster a model can learn. But if the slope is zero, the model stops learning.  Mathematically speaking, a gradient is a partial derivative with respect to its inputs.\n",
        "\n",
        "Gradient Descent\n",
        "\n",
        "It can be thought of as a minimization algorithm - analogous to going down the slope until the bottom of the valley is reached. This is effected by taking one step after another in the steepest downside direction, as determined by a formula, until the value of an associated cost function is as small as possible. The Learning Rate (discussed in the next section) determines how fast or slow to move towards the optimal weights. The goal of the algorithm is to find model parameters that minimize the error of the model."
      ]
    },
    {
      "metadata": {
        "id": "unqhNRYnfIL4",
        "colab_type": "text"
      },
      "cell_type": "markdown",
      "source": [
        "## 3.2 What is the \"Learning Rate\" and what is its function?"
      ]
    },
    {
      "metadata": {
        "id": "7jhKwIOVfT6B",
        "colab_type": "text"
      },
      "cell_type": "markdown",
      "source": [
        "The idea behind Learning Rate is that bigger steps are taken initially, which become progressively smaller as the optimal minimum is approached. One must take care to set the learning rate to an appropriate value, neither too low nor too high. This is because if the steps it takes are too big, it might not reach the local minimum, because it just bounces back and forth between the convex function of gradient descent. If  the learning rate is set to a very small value, gradient descent will eventually reach the local minimum but could take a hella-long time to get there, wasting computational resources and the user's patience.\n",
        "\n",
        "The best way to check how well a Learning Rate is performing is by - successively, if necessary - plotting the learning rate on a graph and visually inspecting.\n"
      ]
    },
    {
      "metadata": {
        "id": "Gs20FOntprd_",
        "colab_type": "text"
      },
      "cell_type": "markdown",
      "source": [
        "# Model Diagnostics"
      ]
    },
    {
      "metadata": {
        "id": "VJnxkobcpulV",
        "colab_type": "text"
      },
      "cell_type": "markdown",
      "source": [
        "## 4.1 Use statsmodels to run a log-linear or log-polynomial linear regression with robust standard errors."
      ]
    },
    {
      "metadata": {
        "id": "QqCVeYBTpvfQ",
        "colab_type": "code",
        "outputId": "30f30ba6-41e3-4d34-c89f-0383dea3286a",
        "colab": {
          "base_uri": "https://localhost:8080/",
          "height": 595
        }
      },
      "cell_type": "code",
      "source": [
        "X_plus = sm.add_constant(X)\n",
        "model = sm.OLS(y, X_plus).fit(cov_type='HC3')\n",
        "predictions = model.predict(X_plus)\n",
        "\n",
        "model_summary = model.summary()\n",
        "print(model_summary)\n"
      ],
      "execution_count": 18,
      "outputs": [
        {
          "output_type": "stream",
          "text": [
            "                            OLS Regression Results                            \n",
            "==============================================================================\n",
            "Dep. Variable:                      y   R-squared:                       0.660\n",
            "Model:                            OLS   Adj. R-squared:                  0.660\n",
            "Method:                 Least Squares   F-statistic:                     1702.\n",
            "Date:                Fri, 22 Feb 2019   Prob (F-statistic):               0.00\n",
            "Time:                        18:30:14   Log-Likelihood:                -7139.4\n",
            "No. Observations:                8495   AIC:                         1.430e+04\n",
            "Df Residuals:                    8486   BIC:                         1.436e+04\n",
            "Df Model:                           8                                         \n",
            "Covariance Type:                  HC3                                         \n",
            "================================================================================\n",
            "                   coef    std err          z      P>|z|      [0.025      0.975]\n",
            "--------------------------------------------------------------------------------\n",
            "const          -84.1154      1.645    -51.132      0.000     -87.340     -80.891\n",
            "make            -0.0016      0.000     -5.759      0.000      -0.002      -0.001\n",
            "body            -0.0913      0.004    -22.634      0.000      -0.099      -0.083\n",
            "engV             0.0093      0.002      3.830      0.000       0.005       0.014\n",
            "engType         -0.0633      0.005    -13.384      0.000      -0.073      -0.054\n",
            "registration     0.7060      0.020     35.690      0.000       0.667       0.745\n",
            "drive            0.3878      0.010     39.092      0.000       0.368       0.407\n",
            "sqrt_mileage    -0.0108      0.002     -4.920      0.000      -0.015      -0.007\n",
            "year_squared  2.307e-05   4.05e-07     56.955      0.000    2.23e-05    2.39e-05\n",
            "==============================================================================\n",
            "Omnibus:                      376.597   Durbin-Watson:                   1.924\n",
            "Prob(Omnibus):                  0.000   Jarque-Bera (JB):             1294.317\n",
            "Skew:                          -0.015   Prob(JB):                    8.76e-282\n",
            "Kurtosis:                       4.912   Cond. No.                     7.04e+08\n",
            "==============================================================================\n",
            "\n",
            "Warnings:\n",
            "[1] Standard Errors are heteroscedasticity robust (HC3)\n",
            "[2] The condition number is large, 7.04e+08. This might indicate that there are\n",
            "strong multicollinearity or other numerical problems.\n"
          ],
          "name": "stdout"
        }
      ]
    },
    {
      "metadata": {
        "id": "loKma3wspwVs",
        "colab_type": "text"
      },
      "cell_type": "markdown",
      "source": [
        "## 4.2 Calculate the Variance Inflation Factor (VIF) of our X variables. Do we have multicollinearity problems?"
      ]
    },
    {
      "metadata": {
        "id": "EN1mPKWhp2Vn",
        "colab_type": "code",
        "outputId": "63e4c2f1-eebc-4c52-b96e-dd657e6f02b1",
        "colab": {
          "base_uri": "https://localhost:8080/",
          "height": 153
        }
      },
      "cell_type": "code",
      "source": [
        "for i in range(X.shape[1]):\n",
        "  print(X.columns[i], '\\t', variance_inflation_factor(X_plus.values, i+1))\n"
      ],
      "execution_count": 19,
      "outputs": [
        {
          "output_type": "stream",
          "text": [
            "make \t 1.0591638724428585\n",
            "body \t 1.158776797048676\n",
            "engV \t 1.0090946867899746\n",
            "engType \t 1.1241543266129557\n",
            "registration \t 1.0893065600778828\n",
            "drive \t 1.1337603687663576\n",
            "sqrt_mileage \t 1.4811886543782433\n",
            "year_squared \t 1.4236085052207177\n"
          ],
          "name": "stdout"
        }
      ]
    },
    {
      "metadata": {
        "id": "98voEt9-LMp-",
        "colab_type": "text"
      },
      "cell_type": "markdown",
      "source": [
        "**==>> All Variance Inflation Factors are significantly below 10, which means multicollinearity problems are virtually non-existant.**"
      ]
    }
  ]
}