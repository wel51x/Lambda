{
  "nbformat": 4,
  "nbformat_minor": 0,
  "metadata": {
    "colab": {
      "name": "Copy of LS DS2 MongoDB Playground.ipynb",
      "version": "0.3.2",
      "provenance": [],
      "collapsed_sections": [],
      "include_colab_link": true
    },
    "kernelspec": {
      "name": "python3",
      "display_name": "Python 3"
    }
  },
  "cells": [
    {
      "cell_type": "markdown",
      "metadata": {
        "id": "view-in-github",
        "colab_type": "text"
      },
      "source": [
        "<a href=\"https://colab.research.google.com/github/wel51x/DS-Unit-3-Sprint-2-SQL-and-Databases/blob/master/module3-nosql-and-document-oriented-databases/LS_DS2_MongoDB_Playground.ipynb\" target=\"_parent\"><img src=\"https://colab.research.google.com/assets/colab-badge.svg\" alt=\"Open In Colab\"/></a>"
      ]
    },
    {
      "metadata": {
        "id": "HIuHUD9N0q66",
        "colab_type": "text"
      },
      "cell_type": "markdown",
      "source": [
        "# MongoDB with PyMongo\n",
        "\n",
        "LSDS Unit 3 Sprint 2 Module 3\n",
        "\n",
        "Some resources:\n",
        "\n",
        "https://docs.atlas.mongodb.com/getting-started/\n",
        "\n",
        "https://api.mongodb.com/python/current/\n",
        "\n",
        "HN Discussion on MongoDB versus PostgreSQL/SQLite: https://news.ycombinator.com/item?id=19158854"
      ]
    },
    {
      "metadata": {
        "id": "i5Xl7DJ30mWo",
        "colab_type": "code",
        "outputId": "673fceeb-93b1-4a60-9c9a-d254c9293e77",
        "colab": {
          "base_uri": "https://localhost:8080/",
          "height": 34
        }
      },
      "cell_type": "code",
      "source": [
        "!curl ipecho.net/plain"
      ],
      "execution_count": 0,
      "outputs": [
        {
          "output_type": "stream",
          "text": [
            "35.203.183.17"
          ],
          "name": "stdout"
        }
      ]
    },
    {
      "metadata": {
        "id": "4Mn5zOkzE35E",
        "colab_type": "code",
        "outputId": "239c9dc6-bd1c-4019-ad91-744084e77326",
        "colab": {
          "base_uri": "https://localhost:8080/",
          "height": 54
        }
      },
      "cell_type": "code",
      "source": [
        "!pip install pymongo"
      ],
      "execution_count": 0,
      "outputs": [
        {
          "output_type": "stream",
          "text": [
            "Requirement already satisfied: pymongo in /usr/local/lib/python3.6/dist-packages (3.7.2)\n"
          ],
          "name": "stdout"
        }
      ]
    },
    {
      "metadata": {
        "id": "YhMw_j93E9Jx",
        "colab_type": "code",
        "colab": {}
      },
      "cell_type": "code",
      "source": [
        "import pymongo"
      ],
      "execution_count": 0,
      "outputs": []
    },
    {
      "metadata": {
        "id": "jQER5Y6pDJLt",
        "colab_type": "code",
        "colab": {}
      },
      "cell_type": "code",
      "source": [
        "client = pymongo.MongoClient(\"mongodb://<USER>:<PASSWORD>@cluster0-shard-00-00-gydux.mongodb.net:27017,cluster0-shard-00-01-gydux.mongodb.net:27017,cluster0-shard-00-02-gydux.mongodb.net:27017/test?ssl=true&replicaSet=Cluster0-shard-0&authSource=admin&retryWrites=true\")\n",
        "db = client.test"
      ],
      "execution_count": 0,
      "outputs": []
    },
    {
      "metadata": {
        "id": "Vtm0Q256IrVI",
        "colab_type": "code",
        "outputId": "4a0c6229-6878-4c71-ba6e-f93e79b60865",
        "colab": {
          "base_uri": "https://localhost:8080/",
          "height": 69
        }
      },
      "cell_type": "code",
      "source": [
        "client.nodes"
      ],
      "execution_count": 0,
      "outputs": [
        {
          "output_type": "execute_result",
          "data": {
            "text/plain": [
              "frozenset({('cluster0-shard-00-00-gydux.mongodb.net', 27017),\n",
              "           ('cluster0-shard-00-01-gydux.mongodb.net', 27017),\n",
              "           ('cluster0-shard-00-02-gydux.mongodb.net', 27017)})"
            ]
          },
          "metadata": {
            "tags": []
          },
          "execution_count": 3
        }
      ]
    },
    {
      "metadata": {
        "id": "KaNyhbXpF0hV",
        "colab_type": "code",
        "outputId": "6f35cbe5-9178-4881-ffb5-c3bab24e4d52",
        "colab": {
          "base_uri": "https://localhost:8080/",
          "height": 714
        }
      },
      "cell_type": "code",
      "source": [
        "help(db.test.insert_one)"
      ],
      "execution_count": 0,
      "outputs": [
        {
          "output_type": "stream",
          "text": [
            "Help on method insert_one in module pymongo.collection:\n",
            "\n",
            "insert_one(document, bypass_document_validation=False, session=None) method of pymongo.collection.Collection instance\n",
            "    Insert a single document.\n",
            "    \n",
            "      >>> db.test.count_documents({'x': 1})\n",
            "      0\n",
            "      >>> result = db.test.insert_one({'x': 1})\n",
            "      >>> result.inserted_id\n",
            "      ObjectId('54f112defba522406c9cc208')\n",
            "      >>> db.test.find_one({'x': 1})\n",
            "      {u'x': 1, u'_id': ObjectId('54f112defba522406c9cc208')}\n",
            "    \n",
            "    :Parameters:\n",
            "      - `document`: The document to insert. Must be a mutable mapping\n",
            "        type. If the document does not have an _id field one will be\n",
            "        added automatically.\n",
            "      - `bypass_document_validation`: (optional) If ``True``, allows the\n",
            "        write to opt-out of document level validation. Default is\n",
            "        ``False``.\n",
            "      - `session` (optional): a\n",
            "        :class:`~pymongo.client_session.ClientSession`.\n",
            "    \n",
            "    :Returns:\n",
            "      - An instance of :class:`~pymongo.results.InsertOneResult`.\n",
            "    \n",
            "    .. seealso:: :ref:`writes-and-ids`\n",
            "    \n",
            "    .. note:: `bypass_document_validation` requires server version\n",
            "      **>= 3.2**\n",
            "    \n",
            "    .. versionchanged:: 3.6\n",
            "       Added ``session`` parameter.\n",
            "    \n",
            "    .. versionchanged:: 3.2\n",
            "      Added bypass_document_validation support\n",
            "    \n",
            "    .. versionadded:: 3.0\n",
            "\n"
          ],
          "name": "stdout"
        }
      ]
    },
    {
      "metadata": {
        "id": "ySdb830-H-Jx",
        "colab_type": "code",
        "outputId": "825f3ff8-0f0e-4e9f-e611-7f675b336a2d",
        "colab": {
          "base_uri": "https://localhost:8080/",
          "height": 34
        }
      },
      "cell_type": "code",
      "source": [
        "dmitriys_doc = {'favorite animal!!!': 'narwhal'}\n",
        "db.test.insert_one(dmitriys_doc)"
      ],
      "execution_count": 0,
      "outputs": [
        {
          "output_type": "execute_result",
          "data": {
            "text/plain": [
              "<pymongo.results.InsertOneResult at 0x7fcdb62e7f48>"
            ]
          },
          "metadata": {
            "tags": []
          },
          "execution_count": 4
        }
      ]
    },
    {
      "metadata": {
        "id": "8PjiIieCJUaj",
        "colab_type": "code",
        "outputId": "ba780187-04ff-43c9-d51e-31c0aedcfbb4",
        "colab": {
          "base_uri": "https://localhost:8080/",
          "height": 34
        }
      },
      "cell_type": "code",
      "source": [
        "shilpas_doc = {'favorite_colors': ['black', 'white', 'red']}\n",
        "db.test.insert_one(shilpas_doc)"
      ],
      "execution_count": 0,
      "outputs": [
        {
          "output_type": "execute_result",
          "data": {
            "text/plain": [
              "<pymongo.results.InsertOneResult at 0x7fcdb489a848>"
            ]
          },
          "metadata": {
            "tags": []
          },
          "execution_count": 5
        }
      ]
    },
    {
      "metadata": {
        "id": "NaI78qhKKu90",
        "colab_type": "code",
        "outputId": "738bd06c-0837-41cf-9461-878fbbfb2663",
        "colab": {
          "base_uri": "https://localhost:8080/",
          "height": 1158
        }
      },
      "cell_type": "code",
      "source": [
        "db.test.insert_one(dmitriys_doc)  # Inserting again"
      ],
      "execution_count": 0,
      "outputs": [
        {
          "output_type": "error",
          "ename": "DuplicateKeyError",
          "evalue": "ignored",
          "traceback": [
            "\u001b[0;31m---------------------------------------------------------------------------\u001b[0m",
            "\u001b[0;31mDuplicateKeyError\u001b[0m                         Traceback (most recent call last)",
            "\u001b[0;32m<ipython-input-6-300c6171b064>\u001b[0m in \u001b[0;36m<module>\u001b[0;34m()\u001b[0m\n\u001b[0;32m----> 1\u001b[0;31m \u001b[0mdb\u001b[0m\u001b[0;34m.\u001b[0m\u001b[0mtest\u001b[0m\u001b[0;34m.\u001b[0m\u001b[0minsert_one\u001b[0m\u001b[0;34m(\u001b[0m\u001b[0mdmitriys_doc\u001b[0m\u001b[0;34m)\u001b[0m  \u001b[0;31m# Inserting again\u001b[0m\u001b[0;34m\u001b[0m\u001b[0;34m\u001b[0m\u001b[0m\n\u001b[0m",
            "\u001b[0;32m/usr/local/lib/python3.6/dist-packages/pymongo/collection.py\u001b[0m in \u001b[0;36minsert_one\u001b[0;34m(self, document, bypass_document_validation, session)\u001b[0m\n\u001b[1;32m    691\u001b[0m                          \u001b[0mwrite_concern\u001b[0m\u001b[0;34m=\u001b[0m\u001b[0mwrite_concern\u001b[0m\u001b[0;34m,\u001b[0m\u001b[0;34m\u001b[0m\u001b[0;34m\u001b[0m\u001b[0m\n\u001b[1;32m    692\u001b[0m                          \u001b[0mbypass_doc_val\u001b[0m\u001b[0;34m=\u001b[0m\u001b[0mbypass_document_validation\u001b[0m\u001b[0;34m,\u001b[0m\u001b[0;34m\u001b[0m\u001b[0;34m\u001b[0m\u001b[0m\n\u001b[0;32m--> 693\u001b[0;31m                          session=session),\n\u001b[0m\u001b[1;32m    694\u001b[0m             write_concern.acknowledged)\n\u001b[1;32m    695\u001b[0m \u001b[0;34m\u001b[0m\u001b[0m\n",
            "\u001b[0;32m/usr/local/lib/python3.6/dist-packages/pymongo/collection.py\u001b[0m in \u001b[0;36m_insert\u001b[0;34m(self, docs, ordered, check_keys, manipulate, write_concern, op_id, bypass_doc_val, session)\u001b[0m\n\u001b[1;32m    605\u001b[0m             return self._insert_one(\n\u001b[1;32m    606\u001b[0m                 \u001b[0mdocs\u001b[0m\u001b[0;34m,\u001b[0m \u001b[0mordered\u001b[0m\u001b[0;34m,\u001b[0m \u001b[0mcheck_keys\u001b[0m\u001b[0;34m,\u001b[0m \u001b[0mmanipulate\u001b[0m\u001b[0;34m,\u001b[0m \u001b[0mwrite_concern\u001b[0m\u001b[0;34m,\u001b[0m \u001b[0mop_id\u001b[0m\u001b[0;34m,\u001b[0m\u001b[0;34m\u001b[0m\u001b[0;34m\u001b[0m\u001b[0m\n\u001b[0;32m--> 607\u001b[0;31m                 bypass_doc_val, session)\n\u001b[0m\u001b[1;32m    608\u001b[0m \u001b[0;34m\u001b[0m\u001b[0m\n\u001b[1;32m    609\u001b[0m         \u001b[0mids\u001b[0m \u001b[0;34m=\u001b[0m \u001b[0;34m[\u001b[0m\u001b[0;34m]\u001b[0m\u001b[0;34m\u001b[0m\u001b[0;34m\u001b[0m\u001b[0m\n",
            "\u001b[0;32m/usr/local/lib/python3.6/dist-packages/pymongo/collection.py\u001b[0m in \u001b[0;36m_insert_one\u001b[0;34m(self, doc, ordered, check_keys, manipulate, write_concern, op_id, bypass_doc_val, session)\u001b[0m\n\u001b[1;32m    593\u001b[0m \u001b[0;34m\u001b[0m\u001b[0m\n\u001b[1;32m    594\u001b[0m         self.__database.client._retryable_write(\n\u001b[0;32m--> 595\u001b[0;31m             acknowledged, _insert_command, session)\n\u001b[0m\u001b[1;32m    596\u001b[0m \u001b[0;34m\u001b[0m\u001b[0m\n\u001b[1;32m    597\u001b[0m         \u001b[0;32mif\u001b[0m \u001b[0;32mnot\u001b[0m \u001b[0misinstance\u001b[0m\u001b[0;34m(\u001b[0m\u001b[0mdoc\u001b[0m\u001b[0;34m,\u001b[0m \u001b[0mRawBSONDocument\u001b[0m\u001b[0;34m)\u001b[0m\u001b[0;34m:\u001b[0m\u001b[0;34m\u001b[0m\u001b[0;34m\u001b[0m\u001b[0m\n",
            "\u001b[0;32m/usr/local/lib/python3.6/dist-packages/pymongo/mongo_client.py\u001b[0m in \u001b[0;36m_retryable_write\u001b[0;34m(self, retryable, func, session)\u001b[0m\n\u001b[1;32m   1246\u001b[0m         \u001b[0;34m\"\"\"Internal retryable write helper.\"\"\"\u001b[0m\u001b[0;34m\u001b[0m\u001b[0;34m\u001b[0m\u001b[0m\n\u001b[1;32m   1247\u001b[0m         \u001b[0;32mwith\u001b[0m \u001b[0mself\u001b[0m\u001b[0;34m.\u001b[0m\u001b[0m_tmp_session\u001b[0m\u001b[0;34m(\u001b[0m\u001b[0msession\u001b[0m\u001b[0;34m)\u001b[0m \u001b[0;32mas\u001b[0m \u001b[0ms\u001b[0m\u001b[0;34m:\u001b[0m\u001b[0;34m\u001b[0m\u001b[0;34m\u001b[0m\u001b[0m\n\u001b[0;32m-> 1248\u001b[0;31m             \u001b[0;32mreturn\u001b[0m \u001b[0mself\u001b[0m\u001b[0;34m.\u001b[0m\u001b[0m_retry_with_session\u001b[0m\u001b[0;34m(\u001b[0m\u001b[0mretryable\u001b[0m\u001b[0;34m,\u001b[0m \u001b[0mfunc\u001b[0m\u001b[0;34m,\u001b[0m \u001b[0ms\u001b[0m\u001b[0;34m,\u001b[0m \u001b[0;32mNone\u001b[0m\u001b[0;34m)\u001b[0m\u001b[0;34m\u001b[0m\u001b[0;34m\u001b[0m\u001b[0m\n\u001b[0m\u001b[1;32m   1249\u001b[0m \u001b[0;34m\u001b[0m\u001b[0m\n\u001b[1;32m   1250\u001b[0m     \u001b[0;32mdef\u001b[0m \u001b[0m__reset_server\u001b[0m\u001b[0;34m(\u001b[0m\u001b[0mself\u001b[0m\u001b[0;34m,\u001b[0m \u001b[0maddress\u001b[0m\u001b[0;34m)\u001b[0m\u001b[0;34m:\u001b[0m\u001b[0;34m\u001b[0m\u001b[0;34m\u001b[0m\u001b[0m\n",
            "\u001b[0;32m/usr/local/lib/python3.6/dist-packages/pymongo/mongo_client.py\u001b[0m in \u001b[0;36m_retry_with_session\u001b[0;34m(self, retryable, func, session, bulk)\u001b[0m\n\u001b[1;32m   1199\u001b[0m                             \u001b[0;32mraise\u001b[0m \u001b[0mlast_error\u001b[0m\u001b[0;34m\u001b[0m\u001b[0;34m\u001b[0m\u001b[0m\n\u001b[1;32m   1200\u001b[0m                         \u001b[0mretryable\u001b[0m \u001b[0;34m=\u001b[0m \u001b[0;32mFalse\u001b[0m\u001b[0;34m\u001b[0m\u001b[0;34m\u001b[0m\u001b[0m\n\u001b[0;32m-> 1201\u001b[0;31m                     \u001b[0;32mreturn\u001b[0m \u001b[0mfunc\u001b[0m\u001b[0;34m(\u001b[0m\u001b[0msession\u001b[0m\u001b[0;34m,\u001b[0m \u001b[0msock_info\u001b[0m\u001b[0;34m,\u001b[0m \u001b[0mretryable\u001b[0m\u001b[0;34m)\u001b[0m\u001b[0;34m\u001b[0m\u001b[0;34m\u001b[0m\u001b[0m\n\u001b[0m\u001b[1;32m   1202\u001b[0m             \u001b[0;32mexcept\u001b[0m \u001b[0mServerSelectionTimeoutError\u001b[0m\u001b[0;34m:\u001b[0m\u001b[0;34m\u001b[0m\u001b[0;34m\u001b[0m\u001b[0m\n\u001b[1;32m   1203\u001b[0m                 \u001b[0;32mif\u001b[0m \u001b[0mis_retrying\u001b[0m\u001b[0;34m(\u001b[0m\u001b[0;34m)\u001b[0m\u001b[0;34m:\u001b[0m\u001b[0;34m\u001b[0m\u001b[0;34m\u001b[0m\u001b[0m\n",
            "\u001b[0;32m/usr/local/lib/python3.6/dist-packages/pymongo/collection.py\u001b[0m in \u001b[0;36m_insert_command\u001b[0;34m(session, sock_info, retryable_write)\u001b[0m\n\u001b[1;32m    590\u001b[0m                 retryable_write=retryable_write)\n\u001b[1;32m    591\u001b[0m \u001b[0;34m\u001b[0m\u001b[0m\n\u001b[0;32m--> 592\u001b[0;31m             \u001b[0m_check_write_command_response\u001b[0m\u001b[0;34m(\u001b[0m\u001b[0mresult\u001b[0m\u001b[0;34m)\u001b[0m\u001b[0;34m\u001b[0m\u001b[0;34m\u001b[0m\u001b[0m\n\u001b[0m\u001b[1;32m    593\u001b[0m \u001b[0;34m\u001b[0m\u001b[0m\n\u001b[1;32m    594\u001b[0m         self.__database.client._retryable_write(\n",
            "\u001b[0;32m/usr/local/lib/python3.6/dist-packages/pymongo/helpers.py\u001b[0m in \u001b[0;36m_check_write_command_response\u001b[0;34m(result)\u001b[0m\n\u001b[1;32m    215\u001b[0m     \u001b[0mwrite_errors\u001b[0m \u001b[0;34m=\u001b[0m \u001b[0mresult\u001b[0m\u001b[0;34m.\u001b[0m\u001b[0mget\u001b[0m\u001b[0;34m(\u001b[0m\u001b[0;34m\"writeErrors\"\u001b[0m\u001b[0;34m)\u001b[0m\u001b[0;34m\u001b[0m\u001b[0;34m\u001b[0m\u001b[0m\n\u001b[1;32m    216\u001b[0m     \u001b[0;32mif\u001b[0m \u001b[0mwrite_errors\u001b[0m\u001b[0;34m:\u001b[0m\u001b[0;34m\u001b[0m\u001b[0;34m\u001b[0m\u001b[0m\n\u001b[0;32m--> 217\u001b[0;31m         \u001b[0m_raise_last_write_error\u001b[0m\u001b[0;34m(\u001b[0m\u001b[0mwrite_errors\u001b[0m\u001b[0;34m)\u001b[0m\u001b[0;34m\u001b[0m\u001b[0;34m\u001b[0m\u001b[0m\n\u001b[0m\u001b[1;32m    218\u001b[0m \u001b[0;34m\u001b[0m\u001b[0m\n\u001b[1;32m    219\u001b[0m     \u001b[0merror\u001b[0m \u001b[0;34m=\u001b[0m \u001b[0mresult\u001b[0m\u001b[0;34m.\u001b[0m\u001b[0mget\u001b[0m\u001b[0;34m(\u001b[0m\u001b[0;34m\"writeConcernError\"\u001b[0m\u001b[0;34m)\u001b[0m\u001b[0;34m\u001b[0m\u001b[0;34m\u001b[0m\u001b[0m\n",
            "\u001b[0;32m/usr/local/lib/python3.6/dist-packages/pymongo/helpers.py\u001b[0m in \u001b[0;36m_raise_last_write_error\u001b[0;34m(write_errors)\u001b[0m\n\u001b[1;32m    196\u001b[0m     \u001b[0merror\u001b[0m \u001b[0;34m=\u001b[0m \u001b[0mwrite_errors\u001b[0m\u001b[0;34m[\u001b[0m\u001b[0;34m-\u001b[0m\u001b[0;36m1\u001b[0m\u001b[0;34m]\u001b[0m\u001b[0;34m\u001b[0m\u001b[0;34m\u001b[0m\u001b[0m\n\u001b[1;32m    197\u001b[0m     \u001b[0;32mif\u001b[0m \u001b[0merror\u001b[0m\u001b[0;34m.\u001b[0m\u001b[0mget\u001b[0m\u001b[0;34m(\u001b[0m\u001b[0;34m\"code\"\u001b[0m\u001b[0;34m)\u001b[0m \u001b[0;34m==\u001b[0m \u001b[0;36m11000\u001b[0m\u001b[0;34m:\u001b[0m\u001b[0;34m\u001b[0m\u001b[0;34m\u001b[0m\u001b[0m\n\u001b[0;32m--> 198\u001b[0;31m         \u001b[0;32mraise\u001b[0m \u001b[0mDuplicateKeyError\u001b[0m\u001b[0;34m(\u001b[0m\u001b[0merror\u001b[0m\u001b[0;34m.\u001b[0m\u001b[0mget\u001b[0m\u001b[0;34m(\u001b[0m\u001b[0;34m\"errmsg\"\u001b[0m\u001b[0;34m)\u001b[0m\u001b[0;34m,\u001b[0m \u001b[0;36m11000\u001b[0m\u001b[0;34m,\u001b[0m \u001b[0merror\u001b[0m\u001b[0;34m)\u001b[0m\u001b[0;34m\u001b[0m\u001b[0;34m\u001b[0m\u001b[0m\n\u001b[0m\u001b[1;32m    199\u001b[0m     \u001b[0;32mraise\u001b[0m \u001b[0mWriteError\u001b[0m\u001b[0;34m(\u001b[0m\u001b[0merror\u001b[0m\u001b[0;34m.\u001b[0m\u001b[0mget\u001b[0m\u001b[0;34m(\u001b[0m\u001b[0;34m\"errmsg\"\u001b[0m\u001b[0;34m)\u001b[0m\u001b[0;34m,\u001b[0m \u001b[0merror\u001b[0m\u001b[0;34m.\u001b[0m\u001b[0mget\u001b[0m\u001b[0;34m(\u001b[0m\u001b[0;34m\"code\"\u001b[0m\u001b[0;34m)\u001b[0m\u001b[0;34m,\u001b[0m \u001b[0merror\u001b[0m\u001b[0;34m)\u001b[0m\u001b[0;34m\u001b[0m\u001b[0;34m\u001b[0m\u001b[0m\n\u001b[1;32m    200\u001b[0m \u001b[0;34m\u001b[0m\u001b[0m\n",
            "\u001b[0;31mDuplicateKeyError\u001b[0m: E11000 duplicate key error collection: test.test index: _id_ dup key: { : ObjectId('5c9bb09c1838e701046e0f7d') }"
          ]
        }
      ]
    },
    {
      "metadata": {
        "id": "AY-ioMnwLkvg",
        "colab_type": "code",
        "colab": {}
      },
      "cell_type": "code",
      "source": [
        "results = db.test.find()"
      ],
      "execution_count": 0,
      "outputs": []
    },
    {
      "metadata": {
        "id": "wVUpc11bL2lD",
        "colab_type": "code",
        "outputId": "8aa70436-6dea-40f5-eece-775c8220e2ee",
        "colab": {
          "base_uri": "https://localhost:8080/",
          "height": 34
        }
      },
      "cell_type": "code",
      "source": [
        "results"
      ],
      "execution_count": 0,
      "outputs": [
        {
          "output_type": "execute_result",
          "data": {
            "text/plain": [
              "<pymongo.cursor.Cursor at 0x7fcdb3fc9160>"
            ]
          },
          "metadata": {
            "tags": []
          },
          "execution_count": 8
        }
      ]
    },
    {
      "metadata": {
        "id": "k_kePY6JL7bh",
        "colab_type": "code",
        "colab": {}
      },
      "cell_type": "code",
      "source": [
        "results_list = list(results)"
      ],
      "execution_count": 0,
      "outputs": []
    },
    {
      "metadata": {
        "id": "T2gWrJioL_Oh",
        "colab_type": "code",
        "outputId": "598caddb-3a56-4f9c-cff6-48afc13b1297",
        "colab": {
          "base_uri": "https://localhost:8080/",
          "height": 86
        }
      },
      "cell_type": "code",
      "source": [
        "results_list"
      ],
      "execution_count": 0,
      "outputs": [
        {
          "output_type": "execute_result",
          "data": {
            "text/plain": [
              "[{'_id': ObjectId('5c9bb09c1838e701046e0f7d'),\n",
              "  'favorite animal!!!': 'narwhal'},\n",
              " {'_id': ObjectId('5c9bb0e21838e701046e0f7e'),\n",
              "  'favorite_colors': ['black', 'white', 'red']}]"
            ]
          },
          "metadata": {
            "tags": []
          },
          "execution_count": 10
        }
      ]
    },
    {
      "metadata": {
        "id": "-zqfOyeoMACJ",
        "colab_type": "code",
        "outputId": "96cbf079-1eee-4ef3-d7ec-eb9aea538f79",
        "colab": {
          "base_uri": "https://localhost:8080/",
          "height": 52
        }
      },
      "cell_type": "code",
      "source": [
        "db.test.find_one(shilpas_doc)"
      ],
      "execution_count": 0,
      "outputs": [
        {
          "output_type": "execute_result",
          "data": {
            "text/plain": [
              "{'_id': ObjectId('5c9bb0e21838e701046e0f7e'),\n",
              " 'favorite_colors': ['black', 'white', 'red']}"
            ]
          },
          "metadata": {
            "tags": []
          },
          "execution_count": 11
        }
      ]
    },
    {
      "metadata": {
        "id": "HD5aD8rOMVKQ",
        "colab_type": "code",
        "outputId": "ae9cff3f-8f77-404b-9d97-7711d5e1b515",
        "colab": {
          "base_uri": "https://localhost:8080/",
          "height": 52
        }
      },
      "cell_type": "code",
      "source": [
        "shilpas_doc"
      ],
      "execution_count": 0,
      "outputs": [
        {
          "output_type": "execute_result",
          "data": {
            "text/plain": [
              "{'_id': ObjectId('5c9bb0e21838e701046e0f7e'),\n",
              " 'favorite_colors': ['black', 'white', 'red']}"
            ]
          },
          "metadata": {
            "tags": []
          },
          "execution_count": 12
        }
      ]
    },
    {
      "metadata": {
        "id": "9p9KslhjMXe8",
        "colab_type": "code",
        "outputId": "5b98c4cd-9122-4323-ce7c-61d21ad2ad90",
        "colab": {
          "base_uri": "https://localhost:8080/",
          "height": 54
        }
      },
      "cell_type": "code",
      "source": [
        "dmitriys_doc"
      ],
      "execution_count": 0,
      "outputs": [
        {
          "output_type": "execute_result",
          "data": {
            "text/plain": [
              "{'_id': ObjectId('5c9bb09c1838e701046e0f7d'), 'favorite animal!!!': 'narwhal'}"
            ]
          },
          "metadata": {
            "tags": []
          },
          "execution_count": 15
        }
      ]
    },
    {
      "metadata": {
        "id": "9S9q7fwbMayq",
        "colab_type": "code",
        "colab": {}
      },
      "cell_type": "code",
      "source": [
        "shilpas_doc_orig = {'favorite_colors': ['black', 'white', 'red']}"
      ],
      "execution_count": 0,
      "outputs": []
    },
    {
      "metadata": {
        "id": "bipS9FpdMxj7",
        "colab_type": "code",
        "outputId": "aeb4c52e-aa9e-482c-e8e7-84de024d1c9c",
        "colab": {
          "base_uri": "https://localhost:8080/",
          "height": 34
        }
      },
      "cell_type": "code",
      "source": [
        "shilpas_doc_orig"
      ],
      "execution_count": 0,
      "outputs": [
        {
          "output_type": "execute_result",
          "data": {
            "text/plain": [
              "{'favorite_colors': ['black', 'white', 'red']}"
            ]
          },
          "metadata": {
            "tags": []
          },
          "execution_count": 17
        }
      ]
    },
    {
      "metadata": {
        "id": "bbH_wvi9M0Kw",
        "colab_type": "code",
        "outputId": "7c90f706-e268-40c2-9edf-1629bf10c005",
        "colab": {
          "base_uri": "https://localhost:8080/",
          "height": 52
        }
      },
      "cell_type": "code",
      "source": [
        "list(db.test.find(shilpas_doc_orig))"
      ],
      "execution_count": 0,
      "outputs": [
        {
          "output_type": "execute_result",
          "data": {
            "text/plain": [
              "[{'_id': ObjectId('5c9bb0e21838e701046e0f7e'),\n",
              "  'favorite_colors': ['black', 'white', 'red']}]"
            ]
          },
          "metadata": {
            "tags": []
          },
          "execution_count": 19
        }
      ]
    },
    {
      "metadata": {
        "id": "Z4yfA2I0M36f",
        "colab_type": "code",
        "outputId": "83b8a6b3-f9fb-4fc3-dd4a-4a6713283fab",
        "colab": {
          "base_uri": "https://localhost:8080/",
          "height": 34
        }
      },
      "cell_type": "code",
      "source": [
        "db.test.insert_one(shilpas_doc_orig)"
      ],
      "execution_count": 0,
      "outputs": [
        {
          "output_type": "execute_result",
          "data": {
            "text/plain": [
              "<pymongo.results.InsertOneResult at 0x7fcdb3fcfe88>"
            ]
          },
          "metadata": {
            "tags": []
          },
          "execution_count": 20
        }
      ]
    },
    {
      "metadata": {
        "id": "BUKhSEK3NHh3",
        "colab_type": "code",
        "outputId": "0b7a3a0a-494a-490a-d4c7-765c2e214ecb",
        "colab": {
          "base_uri": "https://localhost:8080/",
          "height": 86
        }
      },
      "cell_type": "code",
      "source": [
        "list(db.test.find({'favorite_colors': ['black', 'white', 'red']}))"
      ],
      "execution_count": 0,
      "outputs": [
        {
          "output_type": "execute_result",
          "data": {
            "text/plain": [
              "[{'_id': ObjectId('5c9bb0e21838e701046e0f7e'),\n",
              "  'favorite_colors': ['black', 'white', 'red']},\n",
              " {'_id': ObjectId('5c9bb3521838e701046e0f7f'),\n",
              "  'favorite_colors': ['black', 'white', 'red']}]"
            ]
          },
          "metadata": {
            "tags": []
          },
          "execution_count": 22
        }
      ]
    },
    {
      "metadata": {
        "id": "43t0zKLINKNg",
        "colab_type": "code",
        "outputId": "46f61f5a-dfac-49dc-ac89-f36ed068b6db",
        "colab": {
          "base_uri": "https://localhost:8080/",
          "height": 34
        }
      },
      "cell_type": "code",
      "source": [
        "macs_doc = {'favorite_colors': ['red', 'white', 'blue'],\n",
        "            'favorite animal!!!': 'dog'}\n",
        "db.test.insert_one(macs_doc)"
      ],
      "execution_count": 0,
      "outputs": [
        {
          "output_type": "execute_result",
          "data": {
            "text/plain": [
              "<pymongo.results.InsertOneResult at 0x7fcdb3fc3488>"
            ]
          },
          "metadata": {
            "tags": []
          },
          "execution_count": 25
        }
      ]
    },
    {
      "metadata": {
        "id": "4SYBMSpoNuMI",
        "colab_type": "code",
        "outputId": "e6288ca3-8028-4b02-bd4c-78bc1e7daa0e",
        "colab": {
          "base_uri": "https://localhost:8080/",
          "height": 3163
        }
      },
      "cell_type": "code",
      "source": [
        "help(db.test.find)"
      ],
      "execution_count": 0,
      "outputs": [
        {
          "output_type": "stream",
          "text": [
            "Help on method find in module pymongo.collection:\n",
            "\n",
            "find(*args, **kwargs) method of pymongo.collection.Collection instance\n",
            "    Query the database.\n",
            "    \n",
            "    The `filter` argument is a prototype document that all results\n",
            "    must match. For example:\n",
            "    \n",
            "    >>> db.test.find({\"hello\": \"world\"})\n",
            "    \n",
            "    only matches documents that have a key \"hello\" with value\n",
            "    \"world\".  Matches can have other keys *in addition* to\n",
            "    \"hello\". The `projection` argument is used to specify a subset\n",
            "    of fields that should be included in the result documents. By\n",
            "    limiting results to a certain subset of fields you can cut\n",
            "    down on network traffic and decoding time.\n",
            "    \n",
            "    Raises :class:`TypeError` if any of the arguments are of\n",
            "    improper type. Returns an instance of\n",
            "    :class:`~pymongo.cursor.Cursor` corresponding to this query.\n",
            "    \n",
            "    The :meth:`find` method obeys the :attr:`read_preference` of\n",
            "    this :class:`Collection`.\n",
            "    \n",
            "    :Parameters:\n",
            "      - `filter` (optional): a SON object specifying elements which\n",
            "        must be present for a document to be included in the\n",
            "        result set\n",
            "      - `projection` (optional): a list of field names that should be\n",
            "        returned in the result set or a dict specifying the fields\n",
            "        to include or exclude. If `projection` is a list \"_id\" will\n",
            "        always be returned. Use a dict to exclude fields from\n",
            "        the result (e.g. projection={'_id': False}).\n",
            "      - `session` (optional): a\n",
            "        :class:`~pymongo.client_session.ClientSession`.\n",
            "      - `skip` (optional): the number of documents to omit (from\n",
            "        the start of the result set) when returning the results\n",
            "      - `limit` (optional): the maximum number of results to\n",
            "        return\n",
            "      - `no_cursor_timeout` (optional): if False (the default), any\n",
            "        returned cursor is closed by the server after 10 minutes of\n",
            "        inactivity. If set to True, the returned cursor will never\n",
            "        time out on the server. Care should be taken to ensure that\n",
            "        cursors with no_cursor_timeout turned on are properly closed.\n",
            "      - `cursor_type` (optional): the type of cursor to return. The valid\n",
            "        options are defined by :class:`~pymongo.cursor.CursorType`:\n",
            "    \n",
            "        - :attr:`~pymongo.cursor.CursorType.NON_TAILABLE` - the result of\n",
            "          this find call will return a standard cursor over the result set.\n",
            "        - :attr:`~pymongo.cursor.CursorType.TAILABLE` - the result of this\n",
            "          find call will be a tailable cursor - tailable cursors are only\n",
            "          for use with capped collections. They are not closed when the\n",
            "          last data is retrieved but are kept open and the cursor location\n",
            "          marks the final document position. If more data is received\n",
            "          iteration of the cursor will continue from the last document\n",
            "          received. For details, see the `tailable cursor documentation\n",
            "          <http://www.mongodb.org/display/DOCS/Tailable+Cursors>`_.\n",
            "        - :attr:`~pymongo.cursor.CursorType.TAILABLE_AWAIT` - the result\n",
            "          of this find call will be a tailable cursor with the await flag\n",
            "          set. The server will wait for a few seconds after returning the\n",
            "          full result set so that it can capture and return additional data\n",
            "          added during the query.\n",
            "        - :attr:`~pymongo.cursor.CursorType.EXHAUST` - the result of this\n",
            "          find call will be an exhaust cursor. MongoDB will stream batched\n",
            "          results to the client without waiting for the client to request\n",
            "          each batch, reducing latency. See notes on compatibility below.\n",
            "    \n",
            "      - `sort` (optional): a list of (key, direction) pairs\n",
            "        specifying the sort order for this query. See\n",
            "        :meth:`~pymongo.cursor.Cursor.sort` for details.\n",
            "      - `allow_partial_results` (optional): if True, mongos will return\n",
            "        partial results if some shards are down instead of returning an\n",
            "        error.\n",
            "      - `oplog_replay` (optional): If True, set the oplogReplay query\n",
            "        flag.\n",
            "      - `batch_size` (optional): Limits the number of documents returned in\n",
            "        a single batch.\n",
            "      - `manipulate` (optional): **DEPRECATED** - If True (the default),\n",
            "        apply any outgoing SON manipulators before returning.\n",
            "      - `collation` (optional): An instance of\n",
            "        :class:`~pymongo.collation.Collation`. This option is only supported\n",
            "        on MongoDB 3.4 and above.\n",
            "      - `return_key` (optional): If True, return only the index keys in\n",
            "        each document.\n",
            "      - `show_record_id` (optional): If True, adds a field ``$recordId`` in\n",
            "        each document with the storage engine's internal record identifier.\n",
            "      - `snapshot` (optional): **DEPRECATED** - If True, prevents the\n",
            "        cursor from returning a document more than once because of an\n",
            "        intervening write operation.\n",
            "      - `hint` (optional): An index, in the same format as passed to\n",
            "        :meth:`~pymongo.collection.Collection.create_index` (e.g.\n",
            "        ``[('field', ASCENDING)]``). Pass this as an alternative to calling\n",
            "        :meth:`~pymongo.cursor.Cursor.hint` on the cursor to tell Mongo the\n",
            "        proper index to use for the query.\n",
            "      - `max_time_ms` (optional): Specifies a time limit for a query\n",
            "        operation. If the specified time is exceeded, the operation will be\n",
            "        aborted and :exc:`~pymongo.errors.ExecutionTimeout` is raised. Pass\n",
            "        this as an alternative to calling\n",
            "        :meth:`~pymongo.cursor.Cursor.max_time_ms` on the cursor.\n",
            "      - `max_scan` (optional): **DEPRECATED** - The maximum number of\n",
            "        documents to scan. Pass this as an alternative to calling\n",
            "        :meth:`~pymongo.cursor.Cursor.max_scan` on the cursor.\n",
            "      - `min` (optional): A list of field, limit pairs specifying the\n",
            "        inclusive lower bound for all keys of a specific index in order.\n",
            "        Pass this as an alternative to calling\n",
            "        :meth:`~pymongo.cursor.Cursor.min` on the cursor.\n",
            "      - `max` (optional): A list of field, limit pairs specifying the\n",
            "        exclusive upper bound for all keys of a specific index in order.\n",
            "        Pass this as an alternative to calling\n",
            "        :meth:`~pymongo.cursor.Cursor.max` on the cursor.\n",
            "      - `comment` (optional): A string or document. Pass this as an\n",
            "        alternative to calling :meth:`~pymongo.cursor.Cursor.comment` on the\n",
            "        cursor.\n",
            "      - `modifiers` (optional): **DEPRECATED** - A dict specifying\n",
            "        additional MongoDB query modifiers. Use the keyword arguments listed\n",
            "        above instead.\n",
            "    \n",
            "    .. note:: There are a number of caveats to using\n",
            "      :attr:`~pymongo.cursor.CursorType.EXHAUST` as cursor_type:\n",
            "    \n",
            "      - The `limit` option can not be used with an exhaust cursor.\n",
            "    \n",
            "      - Exhaust cursors are not supported by mongos and can not be\n",
            "        used with a sharded cluster.\n",
            "    \n",
            "      - A :class:`~pymongo.cursor.Cursor` instance created with the\n",
            "        :attr:`~pymongo.cursor.CursorType.EXHAUST` cursor_type requires an\n",
            "        exclusive :class:`~socket.socket` connection to MongoDB. If the\n",
            "        :class:`~pymongo.cursor.Cursor` is discarded without being\n",
            "        completely iterated the underlying :class:`~socket.socket`\n",
            "        connection will be closed and discarded without being returned to\n",
            "        the connection pool.\n",
            "    \n",
            "    .. versionchanged:: 3.7\n",
            "       Deprecated the `snapshot` option, which is deprecated in MongoDB\n",
            "       3.6 and removed in MongoDB 4.0.\n",
            "       Deprecated the `max_scan` option. Support for this option is\n",
            "       deprecated in MongoDB 4.0. Use `max_time_ms` instead to limit server\n",
            "       side execution time.\n",
            "    \n",
            "    \n",
            "    .. versionchanged:: 3.6\n",
            "       Added ``session`` parameter.\n",
            "    \n",
            "    .. versionchanged:: 3.5\n",
            "       Added the options `return_key`, `show_record_id`, `snapshot`,\n",
            "       `hint`, `max_time_ms`, `max_scan`, `min`, `max`, and `comment`.\n",
            "       Deprecated the option `modifiers`.\n",
            "    \n",
            "    .. versionchanged:: 3.4\n",
            "       Support the `collation` option.\n",
            "    \n",
            "    .. versionchanged:: 3.0\n",
            "       Changed the parameter names `spec`, `fields`, `timeout`, and\n",
            "       `partial` to `filter`, `projection`, `no_cursor_timeout`, and\n",
            "       `allow_partial_results` respectively.\n",
            "       Added the `cursor_type`, `oplog_replay`, and `modifiers` options.\n",
            "       Removed the `network_timeout`, `read_preference`, `tag_sets`,\n",
            "       `secondary_acceptable_latency_ms`, `max_scan`, `snapshot`,\n",
            "       `tailable`, `await_data`, `exhaust`, `as_class`, and slave_okay\n",
            "       parameters. Removed `compile_re` option: PyMongo now always\n",
            "       represents BSON regular expressions as :class:`~bson.regex.Regex`\n",
            "       objects. Use :meth:`~bson.regex.Regex.try_compile` to attempt to\n",
            "       convert from a BSON regular expression to a Python regular\n",
            "       expression object. Soft deprecated the `manipulate` option.\n",
            "    \n",
            "    .. versionchanged:: 2.7\n",
            "       Added `compile_re` option. If set to False, PyMongo represented BSON\n",
            "       regular expressions as :class:`~bson.regex.Regex` objects instead of\n",
            "       attempting to compile BSON regular expressions as Python native\n",
            "       regular expressions, thus preventing errors for some incompatible\n",
            "       patterns, see `PYTHON-500`_.\n",
            "    \n",
            "    .. versionadded:: 2.3\n",
            "       The `tag_sets` and `secondary_acceptable_latency_ms` parameters.\n",
            "    \n",
            "    .. _PYTHON-500: https://jira.mongodb.org/browse/PYTHON-500\n",
            "    \n",
            "    .. mongodoc:: find\n",
            "\n"
          ],
          "name": "stdout"
        }
      ]
    },
    {
      "metadata": {
        "id": "gMUfdgdKNw6V",
        "colab_type": "code",
        "outputId": "ad9e0193-0ffb-4a50-dc5e-bdb5f965b050",
        "colab": {
          "base_uri": "https://localhost:8080/",
          "height": 104
        }
      },
      "cell_type": "code",
      "source": [
        "list(db.test.find({'favorite_colors': ['red', 'white', 'blue']}))"
      ],
      "execution_count": 0,
      "outputs": [
        {
          "output_type": "execute_result",
          "data": {
            "text/plain": [
              "[{'_id': ObjectId('5c9bb3f01838e701046e0f80'),\n",
              "  'favorite_colors': ['red', 'white', 'blue']},\n",
              " {'_id': ObjectId('5c9bb4261838e701046e0f81'),\n",
              "  'favorite animal!!!': 'dog',\n",
              "  'favorite_colors': ['red', 'white', 'blue']}]"
            ]
          },
          "metadata": {
            "tags": []
          },
          "execution_count": 27
        }
      ]
    },
    {
      "metadata": {
        "id": "8BNmAjNcOIRk",
        "colab_type": "code",
        "outputId": "a4f70a72-2ecc-4cae-c91f-a67a38839bbe",
        "colab": {
          "base_uri": "https://localhost:8080/",
          "height": 550
        }
      },
      "cell_type": "code",
      "source": [
        "list(db.test.find({'favorite_colors'}))"
      ],
      "execution_count": 0,
      "outputs": [
        {
          "output_type": "error",
          "ename": "TypeError",
          "evalue": "ignored",
          "traceback": [
            "\u001b[0;31m---------------------------------------------------------------------------\u001b[0m",
            "\u001b[0;31mTypeError\u001b[0m                                 Traceback (most recent call last)",
            "\u001b[0;32m<ipython-input-30-4cddbdc5c138>\u001b[0m in \u001b[0;36m<module>\u001b[0;34m()\u001b[0m\n\u001b[0;32m----> 1\u001b[0;31m \u001b[0mlist\u001b[0m\u001b[0;34m(\u001b[0m\u001b[0mdb\u001b[0m\u001b[0;34m.\u001b[0m\u001b[0mtest\u001b[0m\u001b[0;34m.\u001b[0m\u001b[0mfind\u001b[0m\u001b[0;34m(\u001b[0m\u001b[0;34m{\u001b[0m\u001b[0;34m'favorite_colors'\u001b[0m\u001b[0;34m}\u001b[0m\u001b[0;34m)\u001b[0m\u001b[0;34m)\u001b[0m\u001b[0;34m\u001b[0m\u001b[0;34m\u001b[0m\u001b[0m\n\u001b[0m",
            "\u001b[0;32m/usr/local/lib/python3.6/dist-packages/pymongo/collection.py\u001b[0m in \u001b[0;36mfind\u001b[0;34m(self, *args, **kwargs)\u001b[0m\n\u001b[1;32m   1443\u001b[0m \u001b[0;34m\u001b[0m\u001b[0m\n\u001b[1;32m   1444\u001b[0m         \"\"\"\n\u001b[0;32m-> 1445\u001b[0;31m         \u001b[0;32mreturn\u001b[0m \u001b[0mCursor\u001b[0m\u001b[0;34m(\u001b[0m\u001b[0mself\u001b[0m\u001b[0;34m,\u001b[0m \u001b[0;34m*\u001b[0m\u001b[0margs\u001b[0m\u001b[0;34m,\u001b[0m \u001b[0;34m**\u001b[0m\u001b[0mkwargs\u001b[0m\u001b[0;34m)\u001b[0m\u001b[0;34m\u001b[0m\u001b[0;34m\u001b[0m\u001b[0m\n\u001b[0m\u001b[1;32m   1446\u001b[0m \u001b[0;34m\u001b[0m\u001b[0m\n\u001b[1;32m   1447\u001b[0m     \u001b[0;32mdef\u001b[0m \u001b[0mfind_raw_batches\u001b[0m\u001b[0;34m(\u001b[0m\u001b[0mself\u001b[0m\u001b[0;34m,\u001b[0m \u001b[0;34m*\u001b[0m\u001b[0margs\u001b[0m\u001b[0;34m,\u001b[0m \u001b[0;34m**\u001b[0m\u001b[0mkwargs\u001b[0m\u001b[0;34m)\u001b[0m\u001b[0;34m:\u001b[0m\u001b[0;34m\u001b[0m\u001b[0;34m\u001b[0m\u001b[0m\n",
            "\u001b[0;32m/usr/local/lib/python3.6/dist-packages/pymongo/cursor.py\u001b[0m in \u001b[0;36m__init__\u001b[0;34m(self, collection, filter, projection, skip, limit, no_cursor_timeout, cursor_type, sort, allow_partial_results, oplog_replay, modifiers, batch_size, manipulate, collation, hint, max_scan, max_time_ms, max, min, return_key, show_record_id, snapshot, comment, session)\u001b[0m\n\u001b[1;32m    143\u001b[0m             \u001b[0mspec\u001b[0m \u001b[0;34m=\u001b[0m \u001b[0;34m{\u001b[0m\u001b[0;34m}\u001b[0m\u001b[0;34m\u001b[0m\u001b[0;34m\u001b[0m\u001b[0m\n\u001b[1;32m    144\u001b[0m \u001b[0;34m\u001b[0m\u001b[0m\n\u001b[0;32m--> 145\u001b[0;31m         \u001b[0mvalidate_is_mapping\u001b[0m\u001b[0;34m(\u001b[0m\u001b[0;34m\"filter\"\u001b[0m\u001b[0;34m,\u001b[0m \u001b[0mspec\u001b[0m\u001b[0;34m)\u001b[0m\u001b[0;34m\u001b[0m\u001b[0;34m\u001b[0m\u001b[0m\n\u001b[0m\u001b[1;32m    146\u001b[0m         \u001b[0;32mif\u001b[0m \u001b[0;32mnot\u001b[0m \u001b[0misinstance\u001b[0m\u001b[0;34m(\u001b[0m\u001b[0mskip\u001b[0m\u001b[0;34m,\u001b[0m \u001b[0mint\u001b[0m\u001b[0;34m)\u001b[0m\u001b[0;34m:\u001b[0m\u001b[0;34m\u001b[0m\u001b[0;34m\u001b[0m\u001b[0m\n\u001b[1;32m    147\u001b[0m             \u001b[0;32mraise\u001b[0m \u001b[0mTypeError\u001b[0m\u001b[0;34m(\u001b[0m\u001b[0;34m\"skip must be an instance of int\"\u001b[0m\u001b[0;34m)\u001b[0m\u001b[0;34m\u001b[0m\u001b[0;34m\u001b[0m\u001b[0m\n",
            "\u001b[0;32m/usr/local/lib/python3.6/dist-packages/pymongo/common.py\u001b[0m in \u001b[0;36mvalidate_is_mapping\u001b[0;34m(option, value)\u001b[0m\n\u001b[1;32m    442\u001b[0m         raise TypeError(\"%s must be an instance of dict, bson.son.SON, or \"\n\u001b[1;32m    443\u001b[0m                         \u001b[0;34m\"other type that inherits from \"\u001b[0m\u001b[0;34m\u001b[0m\u001b[0;34m\u001b[0m\u001b[0m\n\u001b[0;32m--> 444\u001b[0;31m                         \"collections.Mapping\" % (option,))\n\u001b[0m\u001b[1;32m    445\u001b[0m \u001b[0;34m\u001b[0m\u001b[0m\n\u001b[1;32m    446\u001b[0m \u001b[0;34m\u001b[0m\u001b[0m\n",
            "\u001b[0;31mTypeError\u001b[0m: filter must be an instance of dict, bson.son.SON, or other type that inherits from collections.Mapping"
          ]
        }
      ]
    },
    {
      "metadata": {
        "id": "M1upAlVNOqzT",
        "colab_type": "code",
        "outputId": "40168fe2-d1b8-4dea-c599-7f10a0d78d00",
        "colab": {
          "base_uri": "https://localhost:8080/",
          "height": 34
        }
      },
      "cell_type": "code",
      "source": [
        "rpg_character = (1, \"King Bob\", 10, 3, 0, 0, 0)\n",
        "db.test.insert_one({'rpg_character': rpg_character})"
      ],
      "execution_count": 0,
      "outputs": [
        {
          "output_type": "execute_result",
          "data": {
            "text/plain": [
              "<pymongo.results.InsertOneResult at 0x7fcdb3fc3b48>"
            ]
          },
          "metadata": {
            "tags": []
          },
          "execution_count": 32
        }
      ]
    },
    {
      "metadata": {
        "id": "jWzRUs22P_ht",
        "colab_type": "code",
        "outputId": "9dfec45d-fea6-4991-987d-d3d87238bf97",
        "colab": {
          "base_uri": "https://localhost:8080/",
          "height": 52
        }
      },
      "cell_type": "code",
      "source": [
        "db.test.find_one({'rpg_character': rpg_character})"
      ],
      "execution_count": 0,
      "outputs": [
        {
          "output_type": "execute_result",
          "data": {
            "text/plain": [
              "{'_id': ObjectId('5c9bb6571838e701046e0f82'),\n",
              " 'rpg_character': [1, 'King Bob', 10, 3, 0, 0, 0]}"
            ]
          },
          "metadata": {
            "tags": []
          },
          "execution_count": 33
        }
      ]
    },
    {
      "metadata": {
        "id": "gWzc2pyHQI8Y",
        "colab_type": "code",
        "outputId": "606423fd-54b0-488f-9238-f776f8de571b",
        "colab": {
          "base_uri": "https://localhost:8080/",
          "height": 34
        }
      },
      "cell_type": "code",
      "source": [
        "# for character in characters...\n",
        "db.test.insert_one({\n",
        "    'sql_id': rpg_character[0],\n",
        "    'name': rpg_character[1],\n",
        "    'hp': rpg_character[2]    \n",
        "})"
      ],
      "execution_count": 0,
      "outputs": [
        {
          "output_type": "execute_result",
          "data": {
            "text/plain": [
              "<pymongo.results.InsertOneResult at 0x7fcdb3f7fd88>"
            ]
          },
          "metadata": {
            "tags": []
          },
          "execution_count": 34
        }
      ]
    },
    {
      "metadata": {
        "id": "k-o18mK_QZZ2",
        "colab_type": "code",
        "outputId": "f072e30c-8f71-4dc7-993b-23c574fb1142",
        "colab": {
          "base_uri": "https://localhost:8080/",
          "height": 312
        }
      },
      "cell_type": "code",
      "source": [
        "list(db.test.find())"
      ],
      "execution_count": 0,
      "outputs": [
        {
          "output_type": "execute_result",
          "data": {
            "text/plain": [
              "[{'_id': ObjectId('5c9bb09c1838e701046e0f7d'),\n",
              "  'favorite animal!!!': 'narwhal'},\n",
              " {'_id': ObjectId('5c9bb0e21838e701046e0f7e'),\n",
              "  'favorite_colors': ['black', 'white', 'red']},\n",
              " {'_id': ObjectId('5c9bb3521838e701046e0f7f'),\n",
              "  'favorite_colors': ['black', 'white', 'red']},\n",
              " {'_id': ObjectId('5c9bb3f01838e701046e0f80'),\n",
              "  'favorite_colors': ['red', 'white', 'blue']},\n",
              " {'_id': ObjectId('5c9bb4261838e701046e0f81'),\n",
              "  'favorite animal!!!': 'dog',\n",
              "  'favorite_colors': ['red', 'white', 'blue']},\n",
              " {'_id': ObjectId('5c9bb6571838e701046e0f82'),\n",
              "  'rpg_character': [1, 'King Bob', 10, 3, 0, 0, 0]},\n",
              " {'_id': ObjectId('5c9bb6ae1838e701046e0f83'),\n",
              "  'hp': 10,\n",
              "  'name': 'King Bob',\n",
              "  'sql_id': 1}]"
            ]
          },
          "metadata": {
            "tags": []
          },
          "execution_count": 35
        }
      ]
    },
    {
      "metadata": {
        "id": "4v_h4qU3Qa9T",
        "colab_type": "code",
        "colab": {}
      },
      "cell_type": "code",
      "source": [
        ""
      ],
      "execution_count": 0,
      "outputs": []
    }
  ]
}