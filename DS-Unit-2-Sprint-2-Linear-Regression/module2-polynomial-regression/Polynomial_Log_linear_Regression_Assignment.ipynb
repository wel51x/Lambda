{
  "nbformat": 4,
  "nbformat_minor": 0,
  "metadata": {
    "colab": {
      "name": "Polynomial/Log-linear Regression Assignment.ipynb",
      "version": "0.3.2",
      "provenance": []
    },
    "kernelspec": {
      "name": "python3",
      "display_name": "Python 3"
    }
  },
  "cells": [
    {
      "metadata": {
        "id": "Dc4kEVNWo4yZ",
        "colab_type": "text"
      },
      "cell_type": "markdown",
      "source": [
        "# Intermediate Linear Regression Practice\n",
        "\n",
        "## Use a Linear Regression model to get the lowest RMSE possible on the following dataset:\n",
        "\n",
        "[Dataset Folder](https://github.com/ryanleeallred/datasets/tree/master/Ames%20Housing%20Data)\n",
        "\n",
        "[Raw CSV](https://raw.githubusercontent.com/ryanleeallred/datasets/master/Ames%20Housing%20Data/train.csv)\n",
        "\n",
        "## You model must include (at least):\n",
        "- A log-transformed y variable\n",
        "- Two polynomial features\n",
        "- One interaction feature\n",
        "- 10 other engineered features\n",
        "\n",
        "What is the lowest Root-Mean-Squared Error that you are able to obtain? Share your best RMSEs in Slack!\n",
        "\n",
        "Notes:\n",
        "\n",
        "There may be some data cleaning that you need to do on some features of this dataset. Linear Regression will only accept numeric values and will not accept\n",
        "\n",
        "Note* There may not be a clear candidate for an interaction term in this dataset. Include one anyway, sometimes it's a good practice for predictive modeling feature engineering in general. "
      ]
    },
    {
      "metadata": {
        "id": "XYZSkixpo2qD",
        "colab_type": "code",
        "colab": {}
      },
      "cell_type": "code",
      "source": [
        "##### Your Code Here #####"
      ],
      "execution_count": 0,
      "outputs": []
    },
    {
      "metadata": {
        "id": "Uvbg4rRPW2Ex",
        "colab_type": "text"
      },
      "cell_type": "markdown",
      "source": [
        "# Stretch Goals\n",
        "\n",
        "- Write a blog post explaining one of today's topics.\n",
        "- Find a new regression dataset from the UCI machine learning repository and use it to test out your new modeling skillz.\n",
        " [ - UCI Machine Learning Repository - Regression Datasets](https://)\n",
        "- Make a list for yourself of common feature engineering techniques. Browse Kaggle kernels to learn more methods.\n",
        "- Start studying for tomorrow's topic: Gradient Descent\n",
        "- Try and make the ultimate model with this dataset. clean as many features as possible, engineer the most sensible features as possible and see how accurate of a prediction you can make. \n",
        "- Learn about the \"Dummy Variable Trap\" and how it applies to linear regression modeling.\n",
        "- Learning about using linear regression to model time series data"
      ]
    }
  ]
}